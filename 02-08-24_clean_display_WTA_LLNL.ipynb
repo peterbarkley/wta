{
 "cells": [
  {
   "cell_type": "code",
   "execution_count": 1,
   "metadata": {},
   "outputs": [],
   "source": [
    "import oars\n",
    "import wta\n",
    "import numpy as np\n",
    "import cvxpy as cp\n",
    "from time import time"
   ]
  },
  {
   "cell_type": "code",
   "execution_count": 34,
   "metadata": {},
   "outputs": [],
   "source": [
    "# Functions\n",
    "\n",
    "def get_ind_value(q, V, W, **kwargs):\n",
    "    \"\"\"\n",
    "    Get the total value if each platform solves independently.\n",
    "    Inputs:\n",
    "        q: (n,m) array of survival probabilities\n",
    "        V: (n,) array of target values\n",
    "        W: (m,) array of weapon counts\n",
    "    \"\"\"\n",
    "    # Loop through platforms\n",
    "    n, m = q.shape\n",
    "    x = np.zeros((n,m))\n",
    "    for i in range(m):\n",
    "        # Solve the WTA problem for platform i\n",
    "        q_i = q[:,i]\n",
    "        pv, x_i = wta.wta(q_i, V, W[i], **kwargs)\n",
    "        x[:,i] = x_i[:,0]\n",
    "    return wta.fullValue(q, V, x), x\n",
    "\n",
    "def buildWTAProb(data):\n",
    "    '''\n",
    "    Builds the WTA problem\n",
    "\n",
    "    Inputs:\n",
    "    data is a dictionary containing the following keys:\n",
    "    QQ is the survival probabilities for the targets in the node\n",
    "    VV is the value of the targets in the node\n",
    "    WW is the number of weapons for all weapons\n",
    "    v0 is the initial consensus parameter\n",
    "    Lii is the diagonal element of L (typically 0)\n",
    "\n",
    "    Returns:\n",
    "    prob is the problem\n",
    "    w is the variable\n",
    "    v is the consensus parameter\n",
    "    r is the resolvent parameter\n",
    "    '''\n",
    "    \n",
    "    QQ = data['QQ']\n",
    "    VV = data['VV']\n",
    "    WW = data['WW']\n",
    "    Lii = data['Lii']\n",
    "\n",
    "    # Get the number of targets and weapons\n",
    "    m = QQ.shape\n",
    "\n",
    "    # Create the variable\n",
    "    w = cp.Variable(m)\n",
    "\n",
    "    # Create the parameter\n",
    "    y = cp.Parameter(m) # resolvent parameter, sum of weighted previous resolvent outputs and v_i\n",
    "    \n",
    "    # Create the objective\n",
    "    weighted_weapons = cp.multiply(w, np.log(QQ)) # (tgts, wpns)\n",
    "    survival_probs = cp.exp(cp.sum(weighted_weapons, axis=1)) # (tgts,)\n",
    "    obj = cp.Minimize(VV@survival_probs + .5*cp.sum_squares((1-Lii)*w - y))\n",
    "\n",
    "    # Create the constraints\n",
    "    cons = [w >= 0, cp.sum(w, axis=0) <= WW]\n",
    "\n",
    "    # Create the problem \n",
    "    prob = cp.Problem(obj, cons)\n",
    "\n",
    "    # Return the problem, variable, and parameters\n",
    "    return prob, w, y\n",
    "\n",
    "# WTA resolvent\n",
    "class wtaResolvent:\n",
    "    '''Resolvent function'''\n",
    "    def __init__(self, data):\n",
    "        self.data = data\n",
    "        prob, w, y = buildWTAProb(data)\n",
    "        self.prob = prob\n",
    "        self.w = w\n",
    "        self.y = y\n",
    "        self.shape = w.shape\n",
    "        self.log = []\n",
    "\n",
    "    def __call__(self, x):\n",
    "        t = time()\n",
    "        self.y.value = x\n",
    "        self.prob.solve(verbose=False)\n",
    "        st = time()\n",
    "        self.log.append({'time':(t,st), \n",
    "                         'w':self.w.value, \n",
    "                         'x':x,\n",
    "                         'value':fullValue(self.data, self.w.value)})\n",
    "        # You can implement logging here\n",
    "        #self.log.append(fullValue(self.data, self.w.value))\n",
    "        return self.w.value\n",
    "\n",
    "    def __repr__(self):\n",
    "        return \"wtaResolvent\"\n",
    "\n",
    "\n",
    "def fullValue(d, w):\n",
    "    '''Get the full value of the problem'''\n",
    "    return d['V']@wta.get_final_surv_prob(d['Q'], w)\n",
    "\n",
    "class fVal:\n",
    "    '''Class to hold the full value function'''\n",
    "    def __init__(self, data):\n",
    "        self.V = data['V']\n",
    "        self.Q = data['Q']\n",
    "\n",
    "    def __call__(self, x):\n",
    "        return self.V@wta.get_final_surv_prob(self.Q, x)\n",
    "\n",
    "    def __repr__(self):\n",
    "        return \"Full value function\"\n",
    "\n"
   ]
  },
  {
   "cell_type": "code",
   "execution_count": 3,
   "metadata": {},
   "outputs": [],
   "source": [
    "q = np.array([[0.665, 0.671, 0.857, 0.871, 0.756, 0.767],\n",
    " [0.664, 0.672, 0.86,  0.875, 0.76,  0.773],\n",
    " [0.679, 0.683, 0.872, 0.885, 0.775, 0.783],\n",
    " [0.658, 0.669, 0.853, 0.866, 0.753, 0.758],\n",
    " [0.672, 0.677, 0.868, 0.876, 0.765, 0.772]])\n",
    "V = np.array([50, 10, 10, 30, 40])\n",
    "WW = np.array([4, 4, 6, 6, 2, 2])"
   ]
  },
  {
   "cell_type": "code",
   "execution_count": null,
   "metadata": {},
   "outputs": [],
   "source": [
    "pv, xind = get_ind_value(q, V, WW, integer=False)\n",
    "print(pv)\n",
    "print(xind)"
   ]
  },
  {
   "cell_type": "code",
   "execution_count": 24,
   "metadata": {},
   "outputs": [],
   "source": [
    "def generateSplitData(n, Q, V, WW, node_tgts, num_nodes_per_tgt, L, v0=None):\n",
    "    '''Generate the data for the splitting'''\n",
    "    tgts, wpns = Q.shape\n",
    "    m = (tgts, wpns)\n",
    "    data = []\n",
    "    if v0 is None:\n",
    "        v0 = 1/tgts*np.array(WW)*np.ones(m)\n",
    "    for i in range(n):\n",
    "        q = np.ones(m)\n",
    "        q[node_tgts[i]] = Q[node_tgts[i]] # Only use the targets that are in the node\n",
    "        v = np.zeros(tgts)\n",
    "        v[node_tgts[i]] = V[node_tgts[i]] # Only use the targets that are in the node\n",
    "        v = v/num_nodes_per_tgt # Divide the value by the number of nodes that have the target\n",
    "        data.append({'QQ':q, 'VV':v, 'WW':WW, 'v0':v0, 'Lii':L[i,i], 'Q':Q, 'V':V})\n",
    "\n",
    "    data.append({'Q':Q, 'V':V, 'WW':WW}) # Add the data for the full problem\n",
    "    return data"
   ]
  },
  {
   "cell_type": "code",
   "execution_count": 30,
   "metadata": {},
   "outputs": [],
   "source": [
    "# DR splitting\n",
    "n = 2\n",
    "Ldr = np.array([[0, 0], [2, 0] ])\n",
    "Wdr = np.array([[1, -1], [-1, 1]])\n",
    "\n",
    "node_tgts = [[0,1,2], [3,4]]\n",
    "v0 = np.zeros(q.shape)\n",
    "data = generateSplitData(n, q, V, WW, node_tgts, 1, Ldr, v0=v0)"
   ]
  },
  {
   "cell_type": "code",
   "execution_count": 31,
   "metadata": {},
   "outputs": [
    {
     "data": {
      "text/plain": [
       "[{'QQ': array([[0.665, 0.671, 0.857, 0.871, 0.756, 0.767],\n",
       "         [0.664, 0.672, 0.86 , 0.875, 0.76 , 0.773],\n",
       "         [0.679, 0.683, 0.872, 0.885, 0.775, 0.783],\n",
       "         [1.   , 1.   , 1.   , 1.   , 1.   , 1.   ],\n",
       "         [1.   , 1.   , 1.   , 1.   , 1.   , 1.   ]]),\n",
       "  'VV': array([50., 10., 10.,  0.,  0.]),\n",
       "  'WW': array([4, 4, 6, 6, 2, 2]),\n",
       "  'v0': array([[0., 0., 0., 0., 0., 0.],\n",
       "         [0., 0., 0., 0., 0., 0.],\n",
       "         [0., 0., 0., 0., 0., 0.],\n",
       "         [0., 0., 0., 0., 0., 0.],\n",
       "         [0., 0., 0., 0., 0., 0.]]),\n",
       "  'Lii': 0,\n",
       "  'Q': array([[0.665, 0.671, 0.857, 0.871, 0.756, 0.767],\n",
       "         [0.664, 0.672, 0.86 , 0.875, 0.76 , 0.773],\n",
       "         [0.679, 0.683, 0.872, 0.885, 0.775, 0.783],\n",
       "         [0.658, 0.669, 0.853, 0.866, 0.753, 0.758],\n",
       "         [0.672, 0.677, 0.868, 0.876, 0.765, 0.772]]),\n",
       "  'V': array([50, 10, 10, 30, 40])},\n",
       " {'QQ': array([[1.   , 1.   , 1.   , 1.   , 1.   , 1.   ],\n",
       "         [1.   , 1.   , 1.   , 1.   , 1.   , 1.   ],\n",
       "         [1.   , 1.   , 1.   , 1.   , 1.   , 1.   ],\n",
       "         [0.658, 0.669, 0.853, 0.866, 0.753, 0.758],\n",
       "         [0.672, 0.677, 0.868, 0.876, 0.765, 0.772]]),\n",
       "  'VV': array([ 0.,  0.,  0., 30., 40.]),\n",
       "  'WW': array([4, 4, 6, 6, 2, 2]),\n",
       "  'v0': array([[0., 0., 0., 0., 0., 0.],\n",
       "         [0., 0., 0., 0., 0., 0.],\n",
       "         [0., 0., 0., 0., 0., 0.],\n",
       "         [0., 0., 0., 0., 0., 0.],\n",
       "         [0., 0., 0., 0., 0., 0.]]),\n",
       "  'Lii': 0,\n",
       "  'Q': array([[0.665, 0.671, 0.857, 0.871, 0.756, 0.767],\n",
       "         [0.664, 0.672, 0.86 , 0.875, 0.76 , 0.773],\n",
       "         [0.679, 0.683, 0.872, 0.885, 0.775, 0.783],\n",
       "         [0.658, 0.669, 0.853, 0.866, 0.753, 0.758],\n",
       "         [0.672, 0.677, 0.868, 0.876, 0.765, 0.772]]),\n",
       "  'V': array([50, 10, 10, 30, 40])},\n",
       " {'Q': array([[0.665, 0.671, 0.857, 0.871, 0.756, 0.767],\n",
       "         [0.664, 0.672, 0.86 , 0.875, 0.76 , 0.773],\n",
       "         [0.679, 0.683, 0.872, 0.885, 0.775, 0.783],\n",
       "         [0.658, 0.669, 0.853, 0.866, 0.753, 0.758],\n",
       "         [0.672, 0.677, 0.868, 0.876, 0.765, 0.772]]),\n",
       "  'V': array([50, 10, 10, 30, 40]),\n",
       "  'WW': array([4, 4, 6, 6, 2, 2])}]"
      ]
     },
     "execution_count": 31,
     "metadata": {},
     "output_type": "execute_result"
    }
   ],
   "source": [
    "data"
   ]
  },
  {
   "cell_type": "code",
   "execution_count": 35,
   "metadata": {},
   "outputs": [
    {
     "name": "stdout",
     "output_type": "stream",
     "text": [
      "Starting Serial Algorithm\n",
      "Iteration 0\n",
      "Serial Algorithm Loop Time: 0.2554805278778076\n",
      "[[1.442 1.474 1.601 1.521 0.8   0.667]\n",
      " [0.171 0.137 0.991 0.928 0.043 0.021]\n",
      " [0.121 0.27  0.784 0.775 0.023 0.022]\n",
      " [0.997 0.782 1.427 1.416 0.502 0.632]\n",
      " [1.269 1.337 1.197 1.36  0.632 0.658]]\n"
     ]
    },
    {
     "data": {
      "text/plain": [
       "34.126101418980184"
      ]
     },
     "execution_count": 35,
     "metadata": {},
     "output_type": "execute_result"
    }
   ],
   "source": [
    "resolvents = [wtaResolvent]*n\n",
    "itrs = 10\n",
    "# t = time()\n",
    "alg_x, results = oars.solve(n, data, resolvents, Wdr, Ldr, vartol=1e-3, itrs=itrs, parallel=False, verbose=True)   \n",
    "# print(time()-t)\n",
    "print(alg_x)\n",
    "# full value\n",
    "fullValue(data[0], alg_x)\n"
   ]
  },
  {
   "cell_type": "code",
   "execution_count": 28,
   "metadata": {},
   "outputs": [
    {
     "name": "stdout",
     "output_type": "stream",
     "text": [
      "optimal\n",
      "33.647394862973385\n",
      "[[1.572 0.    5.271 0.    2.    0.   ]\n",
      " [0.997 0.    0.    0.    0.    0.   ]\n",
      " [0.    0.933 0.    0.    0.    0.   ]\n",
      " [0.    0.    0.729 6.    0.    2.   ]\n",
      " [1.431 3.067 0.    0.    0.    0.   ]]\n"
     ]
    }
   ],
   "source": [
    "prov_val, x_full = wta.wta(q, V, WW, integer=False)\n",
    "print(prov_val)\n",
    "print(x_full)"
   ]
  },
  {
   "cell_type": "code",
   "execution_count": 33,
   "metadata": {},
   "outputs": [],
   "source": [
    "# Dump results to a text file\n",
    "with open('results-DR-0.txt', 'w') as f:\n",
    "    f.write(str(results))"
   ]
  },
  {
   "cell_type": "code",
   "execution_count": 36,
   "metadata": {},
   "outputs": [
    {
     "data": {
      "text/plain": [
       "{'time': (1707421941.2711337, 1707421941.2917852),\n",
       " 'w': array([[1.885, 1.873, 0.77 , 0.69 , 1.062, 1.042],\n",
       "        [1.055, 1.052, 0.444, 0.393, 0.474, 0.476],\n",
       "        [1.06 , 1.075, 0.429, 0.382, 0.464, 0.483],\n",
       "        [0.   , 0.   , 0.   , 0.   , 0.   , 0.   ],\n",
       "        [0.   , 0.   , 0.   , 0.   , 0.   , 0.   ]]),\n",
       " 'x': array([[0., 0., 0., 0., 0., 0.],\n",
       "        [0., 0., 0., 0., 0., 0.],\n",
       "        [0., 0., 0., 0., 0., 0.],\n",
       "        [0., 0., 0., 0., 0., 0.],\n",
       "        [0., 0., 0., 0., 0., 0.]]),\n",
       " 'value': 81.06587647046965}"
      ]
     },
     "execution_count": 36,
     "metadata": {},
     "output_type": "execute_result"
    }
   ],
   "source": [
    "results[0]['log'][0]"
   ]
  },
  {
   "cell_type": "code",
   "execution_count": 37,
   "metadata": {},
   "outputs": [
    {
     "data": {
      "text/plain": [
       "{'time': (1707421941.2917852, 1707421941.307312),\n",
       " 'w': array([[1.724, 1.735, 1.541, 1.379, 0.679, 0.691],\n",
       "        [0.062, 0.093, 0.889, 0.787, 0.   , 0.   ],\n",
       "        [0.073, 0.138, 0.857, 0.765, 0.   , 0.   ],\n",
       "        [0.967, 0.883, 1.145, 1.036, 0.597, 0.603],\n",
       "        [1.174, 1.15 , 1.147, 1.073, 0.725, 0.705]]),\n",
       " 'x': array([[3.771, 3.747, 1.541, 1.379, 2.125, 2.083],\n",
       "        [2.109, 2.104, 0.889, 0.787, 0.948, 0.951],\n",
       "        [2.12 , 2.149, 0.857, 0.765, 0.927, 0.966],\n",
       "        [0.   , 0.   , 0.   , 0.   , 0.   , 0.   ],\n",
       "        [0.   , 0.   , 0.   , 0.   , 0.   , 0.   ]]),\n",
       " 'value': 35.72552105101482}"
      ]
     },
     "execution_count": 37,
     "metadata": {},
     "output_type": "execute_result"
    }
   ],
   "source": [
    "results[1]['log'][0]"
   ]
  },
  {
   "cell_type": "code",
   "execution_count": null,
   "metadata": {},
   "outputs": [],
   "source": []
  }
 ],
 "metadata": {
  "kernelspec": {
   "display_name": "base",
   "language": "python",
   "name": "python3"
  },
  "language_info": {
   "codemirror_mode": {
    "name": "ipython",
    "version": 3
   },
   "file_extension": ".py",
   "mimetype": "text/x-python",
   "name": "python",
   "nbconvert_exporter": "python",
   "pygments_lexer": "ipython3",
   "version": "3.11.4"
  }
 },
 "nbformat": 4,
 "nbformat_minor": 2
}
