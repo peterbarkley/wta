{
 "cells": [
  {
   "cell_type": "markdown",
   "metadata": {},
   "source": [
    "**Weapon Target Allocation Notebook**\n",
    "\n",
    "Use splitting to solve the weapon target allocation problem.\n",
    "\n",
    "*Author: Peter Barkley*\n",
    "\n",
    "*Date: 12/14/2020*\n",
    "\n",
    "$$\\min \\sum_{i=1}^{n} V_i\\prod_{j=1}^{m} (1 - Pk_{ij})^{x_{ij}}$$\n",
    "\n",
    "$$\\text{s.t.} \\sum_{i=1}^{n} x_{ij} \\le 1, \\forall j$$"
   ]
  },
  {
   "cell_type": "code",
   "execution_count": 1,
   "metadata": {},
   "outputs": [],
   "source": [
    "# Libraries\n",
    "import numpy as np\n",
    "import cvxpy as cp\n",
    "import pydeck as pdk\n",
    "import pandas as pd\n",
    "import wta\n",
    "import geopy.distance\n",
    "\n",
    "np.set_printoptions(precision=3, suppress=True)"
   ]
  },
  {
   "cell_type": "markdown",
   "metadata": {},
   "source": []
  },
  {
   "cell_type": "code",
   "execution_count": 2,
   "metadata": {},
   "outputs": [],
   "source": [
    "# Generate scenario\n",
    "# five enemy combatants in an X, \n",
    "# 6 friendly UxS: 2 UUV, 2 USV, 2 UAV\n",
    "# Inventory: 6 torpedoes per UUV, 4 missiles per USV, 2 missiles per UAV\n",
    "# Torpedoes: 2 nm range, high damage\n",
    "# Missiles: 60 nm range from USV, medium damage\n",
    "# Missiles: 80 nm range from UAV, medium damage\n",
    "# Center enemy is highest value\n",
    "# Front two enemy are lowest value\n",
    "# Left back is medium value\n",
    "# Right back is medium-high value\n",
    "\n"
   ]
  },
  {
   "cell_type": "code",
   "execution_count": 3,
   "metadata": {},
   "outputs": [],
   "source": [
    "# Location center\n",
    "\n",
    "reference_location = np.array([23.5833, 119.5833])\n",
    "ship_center = np.array([23.5833, 119.433])\n",
    "uas_center = np.array([23.59, 119.9533])"
   ]
  },
  {
   "cell_type": "code",
   "execution_count": 16,
   "metadata": {},
   "outputs": [],
   "source": [
    "# Create json file for map with lat/long\n",
    "# like [{\"lat\":50.5112014,\"lon\":6.9939896,\"value\":5,\"type\":\"ferry\"},\n",
    "# Center enemy will be reference location plus 0.1 lat, 0.1 long\n",
    "\n",
    "# Create json file for map with lat/long\n",
    "tgts = 5\n",
    "wpns = 6\n",
    "# Lat and long each start with ship center and add offset to form X\n",
    "tgt_lat = ship_center[0] + [0, 0.1, 0.1, -0.1, -0.1]\n",
    "tgt_lon = ship_center[1] + [0, 0.1, -0.1, 0.1, -0.1]\n",
    "\n",
    "# Lat and long each start with uas center and add offset to form X\n",
    "uxs_lat = uas_center[0] + [0, 0.1, 0.1, -0.1, -0.1, -0.2]\n",
    "uxs_lon = uas_center[1] + [0, 0.1, -0.1, 0.1, -0.1, 0]\n",
    "\n",
    "lat = np.concatenate((tgt_lat, uxs_lat))\n",
    "lon = np.concatenate((tgt_lon, uxs_lon))\n",
    "\n",
    "tgt_values = np.array([5, 1, 1, 3, 4])\n",
    "value = np.concatenate((tgt_values, [0, 0, 0, 0, 0, 0]))\n",
    "shiptypes = np.array([\"ferry\", \"ship\", \"ferry\", \"ship\", \"ferry\"])\n",
    "uxvtypes = np.array([\"uav\", \"uav\", \"usv\", \"usv\", \"uuv\", \"uuv\"])\n",
    "platform_types = np.concatenate((shiptypes, uxvtypes))\n",
    "# data = np.concatenate(np.array([lat, lon, value]), shiptypes)\n",
    "# data = data.T\n",
    "# data = data.tolist()\n",
    "# data = [{\"lat\": data[i][0], \"lon\": data[i][1], \"value\": data[i][2], \"type\": data[i][3]} for i in range(n+m)]\n",
    "\n",
    "# # Save data to json file\n",
    "# import json\n",
    "# with open(\"data.json\", \"w\") as outfile:\n",
    "#     json.dump(data, outfile)\n",
    "\n",
    "# # Print data    \n",
    "# print(data)\n",
    "\n"
   ]
  },
  {
   "cell_type": "markdown",
   "metadata": {},
   "source": [
    "battleship.png\n",
    "drone.png\n",
    "drone_icon_down.png\n",
    "drone_icon_left.png\n",
    "drone_icon_right.png\n",
    "drone_icon_up.png\n",
    "drone_icon_up_right.png #OK - faces west\n",
    "fb_warship_down_left.jpg\n",
    "fb_warship_down_right.jpeg\n",
    "fb_warship_down_right_2.jpeg\n",
    "ferry.bmp\n",
    "ferry_left.png #Bad\n",
    "ferry_right.png\n",
    "filenames.txt\n",
    "large.bmp\n",
    "reaper.jpg\n",
    "red-october-submarine-3d-model-3dm.bmp\n",
    "ship_icons.jpg\n",
    "ship_icon_up_left.jpg\n",
    "ship_icon_up_left.png\n",
    "ship_icon_up_right.png #OK - faces west\n",
    "sub_down_left.png\n",
    "sub_down_right.png #OK - faces south\n",
    "ww2.bmp\n"
   ]
  },
  {
   "cell_type": "code",
   "execution_count": 17,
   "metadata": {},
   "outputs": [
    {
     "data": {
      "text/html": [
       "\n",
       "        <iframe\n",
       "            width=\"100%\"\n",
       "            height=500\n",
       "            frameborder=\"0\"\n",
       "            srcdoc=\"&lt;!DOCTYPE html&gt;\n",
       "&lt;html&gt;\n",
       "  &lt;head&gt;\n",
       "    &lt;meta http-equiv=&quot;content-type&quot; content=&quot;text/html; charset=UTF-8&quot; /&gt;\n",
       "    &lt;title&gt;pydeck&lt;/title&gt;\n",
       "        &lt;script src=&quot;https://api.tiles.mapbox.com/mapbox-gl-js/v1.13.0/mapbox-gl.js&quot;&gt;&lt;/script&gt;\n",
       "        &lt;link rel=&quot;stylesheet&quot; href=&quot;https://maxcdn.bootstrapcdn.com/bootstrap/3.2.0/css/bootstrap-theme.min.css&quot; /&gt;\n",
       "    &lt;link rel=&quot;stylesheet&quot; href=&quot;https://maxcdn.bootstrapcdn.com/font-awesome/4.6.3/css/font-awesome.min.css&quot; /&gt;\n",
       "    &lt;script src=&#x27;https://cdn.jsdelivr.net/npm/@deck.gl/jupyter-widget@~8.8.*/dist/index.js&#x27;&gt;&lt;/script&gt;\n",
       "    &lt;style&gt;\n",
       "    body {\n",
       "  margin: 0;\n",
       "  padding: 0;\n",
       "  overflow: hidden;\n",
       "}\n",
       "\n",
       "#deck-container {\n",
       "  width: 100vw;\n",
       "  height: 100vh;\n",
       "}\n",
       "\n",
       "#deck-container canvas {\n",
       "  z-index: 1;\n",
       "  background: none;\n",
       "}\n",
       "    &lt;/style&gt;\n",
       "  &lt;/head&gt;\n",
       "  &lt;body&gt;\n",
       "    &lt;div id=&quot;deck-container&quot;&gt;\n",
       "    &lt;/div&gt;\n",
       "  &lt;/body&gt;\n",
       "  &lt;script&gt;\n",
       "    const container = document.getElementById(&#x27;deck-container&#x27;);\n",
       "    const jsonInput = {\n",
       "  &quot;initialViewState&quot;: {\n",
       "    &quot;bearing&quot;: -45,\n",
       "    &quot;latitude&quot;: 23.5833,\n",
       "    &quot;longitude&quot;: 119.5833,\n",
       "    &quot;pitch&quot;: 60,\n",
       "    &quot;zoom&quot;: 10\n",
       "  },\n",
       "  &quot;layers&quot;: [\n",
       "    {\n",
       "      &quot;@@type&quot;: &quot;IconLayer&quot;,\n",
       "      &quot;autoHighlight&quot;: true,\n",
       "      &quot;data&quot;: [\n",
       "        {\n",
       "          &quot;icon_data&quot;: {\n",
       "            &quot;anchorY&quot;: 242,\n",
       "            &quot;height&quot;: 242,\n",
       "            &quot;url&quot;: &quot;https://raw.githubusercontent.com/peterbarkley/wta/main/images/ferry_right.png&quot;,\n",
       "            &quot;width&quot;: 242\n",
       "          },\n",
       "          &quot;lat&quot;: 23.5833,\n",
       "          &quot;lon&quot;: 119.433,\n",
       "          &quot;type&quot;: &quot;ferry&quot;,\n",
       "          &quot;value&quot;: 50\n",
       "        },\n",
       "        {\n",
       "          &quot;icon_data&quot;: {\n",
       "            &quot;anchorY&quot;: 242,\n",
       "            &quot;height&quot;: 242,\n",
       "            &quot;url&quot;: &quot;https://raw.githubusercontent.com/peterbarkley/wta/main/images/warship_054A_down_right.png&quot;,\n",
       "            &quot;width&quot;: 242\n",
       "          },\n",
       "          &quot;lat&quot;: 23.683300000000003,\n",
       "          &quot;lon&quot;: 119.533,\n",
       "          &quot;type&quot;: &quot;ship&quot;,\n",
       "          &quot;value&quot;: 10\n",
       "        },\n",
       "        {\n",
       "          &quot;icon_data&quot;: {\n",
       "            &quot;anchorY&quot;: 242,\n",
       "            &quot;height&quot;: 242,\n",
       "            &quot;url&quot;: &quot;https://raw.githubusercontent.com/peterbarkley/wta/main/images/warship_054A_down_right.png&quot;,\n",
       "            &quot;width&quot;: 242\n",
       "          },\n",
       "          &quot;lat&quot;: 23.4833,\n",
       "          &quot;lon&quot;: 119.533,\n",
       "          &quot;type&quot;: &quot;ship&quot;,\n",
       "          &quot;value&quot;: 10\n",
       "        },\n",
       "        {\n",
       "          &quot;icon_data&quot;: {\n",
       "            &quot;anchorY&quot;: 242,\n",
       "            &quot;height&quot;: 242,\n",
       "            &quot;url&quot;: &quot;https://raw.githubusercontent.com/peterbarkley/wta/main/images/ferry_right.png&quot;,\n",
       "            &quot;width&quot;: 242\n",
       "          },\n",
       "          &quot;lat&quot;: 23.683300000000003,\n",
       "          &quot;lon&quot;: 119.33300000000001,\n",
       "          &quot;type&quot;: &quot;ferry&quot;,\n",
       "          &quot;value&quot;: 30\n",
       "        },\n",
       "        {\n",
       "          &quot;icon_data&quot;: {\n",
       "            &quot;anchorY&quot;: 242,\n",
       "            &quot;height&quot;: 242,\n",
       "            &quot;url&quot;: &quot;https://raw.githubusercontent.com/peterbarkley/wta/main/images/ferry_right.png&quot;,\n",
       "            &quot;width&quot;: 242\n",
       "          },\n",
       "          &quot;lat&quot;: 23.4833,\n",
       "          &quot;lon&quot;: 119.33300000000001,\n",
       "          &quot;type&quot;: &quot;ferry&quot;,\n",
       "          &quot;value&quot;: 40\n",
       "        },\n",
       "        {\n",
       "          &quot;icon_data&quot;: {\n",
       "            &quot;anchorY&quot;: 120,\n",
       "            &quot;height&quot;: 120,\n",
       "            &quot;url&quot;: &quot;https://raw.githubusercontent.com/peterbarkley/wta/main/images/sub_up_left.png&quot;,\n",
       "            &quot;width&quot;: 120\n",
       "          },\n",
       "          &quot;lat&quot;: 23.59,\n",
       "          &quot;lon&quot;: 119.9533,\n",
       "          &quot;type&quot;: &quot;uuv&quot;,\n",
       "          &quot;value&quot;: 0\n",
       "        },\n",
       "        {\n",
       "          &quot;icon_data&quot;: {\n",
       "            &quot;anchorY&quot;: 120,\n",
       "            &quot;height&quot;: 120,\n",
       "            &quot;url&quot;: &quot;https://raw.githubusercontent.com/peterbarkley/wta/main/images/sub_up_left.png&quot;,\n",
       "            &quot;width&quot;: 120\n",
       "          },\n",
       "          &quot;lat&quot;: 23.69,\n",
       "          &quot;lon&quot;: 120.0533,\n",
       "          &quot;type&quot;: &quot;uuv&quot;,\n",
       "          &quot;value&quot;: 0\n",
       "        },\n",
       "        {\n",
       "          &quot;icon_data&quot;: {\n",
       "            &quot;anchorY&quot;: 120,\n",
       "            &quot;height&quot;: 120,\n",
       "            &quot;url&quot;: &quot;https://raw.githubusercontent.com/peterbarkley/wta/main/images/ship_icon_up_left.png&quot;,\n",
       "            &quot;width&quot;: 120\n",
       "          },\n",
       "          &quot;lat&quot;: 23.69,\n",
       "          &quot;lon&quot;: 119.8533,\n",
       "          &quot;type&quot;: &quot;usv&quot;,\n",
       "          &quot;value&quot;: 0\n",
       "        },\n",
       "        {\n",
       "          &quot;icon_data&quot;: {\n",
       "            &quot;anchorY&quot;: 120,\n",
       "            &quot;height&quot;: 120,\n",
       "            &quot;url&quot;: &quot;https://raw.githubusercontent.com/peterbarkley/wta/main/images/ship_icon_up_left.png&quot;,\n",
       "            &quot;width&quot;: 120\n",
       "          },\n",
       "          &quot;lat&quot;: 23.49,\n",
       "          &quot;lon&quot;: 120.0533,\n",
       "          &quot;type&quot;: &quot;usv&quot;,\n",
       "          &quot;value&quot;: 0\n",
       "        },\n",
       "        {\n",
       "          &quot;icon_data&quot;: {\n",
       "            &quot;anchorY&quot;: 120,\n",
       "            &quot;height&quot;: 120,\n",
       "            &quot;url&quot;: &quot;https://raw.githubusercontent.com/peterbarkley/wta/main/images/drone_icon_up_left.png&quot;,\n",
       "            &quot;width&quot;: 120\n",
       "          },\n",
       "          &quot;lat&quot;: 23.49,\n",
       "          &quot;lon&quot;: 119.8533,\n",
       "          &quot;type&quot;: &quot;uav&quot;,\n",
       "          &quot;value&quot;: 0\n",
       "        },\n",
       "        {\n",
       "          &quot;icon_data&quot;: {\n",
       "            &quot;anchorY&quot;: 120,\n",
       "            &quot;height&quot;: 120,\n",
       "            &quot;url&quot;: &quot;https://raw.githubusercontent.com/peterbarkley/wta/main/images/drone_icon_up_left.png&quot;,\n",
       "            &quot;width&quot;: 120\n",
       "          },\n",
       "          &quot;lat&quot;: 23.39,\n",
       "          &quot;lon&quot;: 119.9533,\n",
       "          &quot;type&quot;: &quot;uav&quot;,\n",
       "          &quot;value&quot;: 0\n",
       "        }\n",
       "      ],\n",
       "      &quot;getIcon&quot;: &quot;@@=icon_data&quot;,\n",
       "      &quot;getPosition&quot;: &quot;@@=[lon, lat]&quot;,\n",
       "      &quot;getSize&quot;: 4,\n",
       "      &quot;id&quot;: &quot;79ce7480-c4c4-4c73-a534-f6cfd7905dfc&quot;,\n",
       "      &quot;pickable&quot;: true,\n",
       "      &quot;sizeScale&quot;: 15\n",
       "    }\n",
       "  ],\n",
       "  &quot;mapProvider&quot;: &quot;carto&quot;,\n",
       "  &quot;mapStyle&quot;: &quot;https://basemaps.cartocdn.com/gl/positron-gl-style/style.json&quot;,\n",
       "  &quot;views&quot;: [\n",
       "    {\n",
       "      &quot;@@type&quot;: &quot;MapView&quot;,\n",
       "      &quot;controller&quot;: true\n",
       "    }\n",
       "  ]\n",
       "};\n",
       "    const tooltip = true;\n",
       "    const customLibraries = null;\n",
       "    const configuration = null;\n",
       "\n",
       "    const deckInstance = createDeck({\n",
       "            mapboxApiKey: &#x27;pk.eyJ1IjoicGV0ZXJiYXJrbGV5IiwiYSI6ImNscTVxNDQyNzBrd2Eya3EwcDB3dml0ZHgifQ.WbzgR0Oz3AMpJf45cGKriA&#x27;,\n",
       "                  container,\n",
       "      jsonInput,\n",
       "      tooltip,\n",
       "      customLibraries,\n",
       "      configuration\n",
       "    });\n",
       "\n",
       "  &lt;/script&gt;\n",
       "&lt;/html&gt;\"\n",
       "        ></iframe>\n",
       "    "
      ],
      "text/plain": [
       "<IPython.core.display.HTML object>"
      ]
     },
     "execution_count": 17,
     "metadata": {},
     "output_type": "execute_result"
    }
   ],
   "source": [
    "# Map\n",
    "BASE_URL = 'https://raw.githubusercontent.com/peterbarkley/wta/main/images/'\n",
    "FERRY_URL = BASE_URL + 'ferry_right.png'\n",
    "SHIP_URL = BASE_URL + 'warship_054A_down_right.png'\n",
    "SUB_URL = BASE_URL + 'sub_up_left.png'\n",
    "UAV_URL = BASE_URL + 'drone_icon_up_left.png'\n",
    "USV_URL = BASE_URL + 'ship_icon_up_left.png'\n",
    "\n",
    "# Dictionary of URLs by platform\n",
    "ICON_URL = {\n",
    "    \"ferry\": FERRY_URL,\n",
    "    \"ship\": SHIP_URL,\n",
    "    \"sub\": SUB_URL,\n",
    "    \"uav\": UAV_URL,\n",
    "    \"uuv\": SUB_URL,\n",
    "    \"usv\": USV_URL,\n",
    "}\n",
    "\n",
    "dim = {}\n",
    "for platform in ICON_URL:\n",
    "    if platform in [\"uav\", \"uuv\", \"usv\"]:\n",
    "        dim[platform] = 120\n",
    "    else:\n",
    "        dim[platform] = 242\n",
    "\n",
    "\n",
    "# Icon data for each platform (UAV, FERRY, SHIP, SUB)\n",
    "icon_data = {}\n",
    "for platform in ICON_URL:\n",
    "    d = dim[platform]\n",
    "    icon_data[platform] = {\n",
    "        \"url\": ICON_URL[platform],\n",
    "        \"width\": d,\n",
    "        \"height\": d,\n",
    "        \"anchorY\": d,\n",
    "    }\n",
    "\n",
    "data = pd.read_json(\"data.json\")\n",
    "data[\"icon_data\"] = data[\"type\"].apply(lambda x: icon_data[x])\n",
    "\n",
    "view_state = pdk.ViewState(\n",
    "    latitude=float(reference_location[0]),\n",
    "    longitude=float(reference_location[1]),\n",
    "    zoom=10,\n",
    "    bearing=-45,\n",
    "    pitch=60,\n",
    ")\n",
    "\n",
    "\n",
    "icon_layer = pdk.Layer(\n",
    "    type=\"IconLayer\",\n",
    "    data=data,\n",
    "    get_icon=\"icon_data\",\n",
    "    get_size=4,\n",
    "    size_scale=15,\n",
    "    get_position=[\"lon\", \"lat\"],\n",
    "    pickable=True,\n",
    "    auto_highlight=True,\n",
    ")\n",
    "\n",
    "\n",
    "\n",
    "r = pdk.Deck(layers=[icon_layer], \n",
    "    initial_view_state=view_state, \n",
    "    map_style=pdk.map_styles.LIGHT,)# map_provider=\"mapbox\", map_style=pdk.map_styles.SATELLITE)\n",
    "\n",
    "r.to_html(\"icon_layer.html\")"
   ]
  },
  {
   "cell_type": "code",
   "execution_count": 6,
   "metadata": {},
   "outputs": [
    {
     "name": "stdout",
     "output_type": "stream",
     "text": [
      "[[0.783 0.789 0.875 0.889 0.674 0.685]\n",
      " [0.854 0.862 0.95  0.965 0.75  0.763]\n",
      " [0.869 0.873 0.962 0.975 0.765 0.773]\n",
      " [0.788 0.799 0.883 0.896 0.683 0.688]\n",
      " [0.795 0.8   0.891 0.898 0.688 0.694]]\n"
     ]
    }
   ],
   "source": [
    "# Generate scenario data for target values, Pk, and \n",
    "uxs_weapons = {'uav': 2, 'uuv': 4, 'usv': 6}\n",
    "uxs_base_pk = {'uav': 0.2, 'uuv': 0.3, 'usv': 0.1}\n",
    "\n",
    "weapon_count = [uxs_weapons[t] for t in uxvtypes]\n",
    "\n",
    "q = np.zeros((n,m))\n",
    "ds = []\n",
    "for i in range(n):\n",
    "    for j in range(m):\n",
    "        d = geopy.distance.distance((tgt_lat[i], tgt_lon[i]), (uxs_lat[j], uxs_lon[j])).nm\n",
    "        loc_damage = 1/(d-2)\n",
    "        ds.append(d)\n",
    "        q[i, j] = 1 - (min(.05, loc_damage) + uxs_base_pk[uxvtypes[j]])+ 0.1/tgt_values[i]\n",
    "print(q)"
   ]
  },
  {
   "cell_type": "code",
   "execution_count": 11,
   "metadata": {},
   "outputs": [
    {
     "name": "stdout",
     "output_type": "stream",
     "text": [
      "optimal\n",
      "Non-integer\n",
      "optimal\n"
     ]
    }
   ],
   "source": [
    "prob_val_int, x_full_int = wta.wta(q, tgt_values*10, weapon_count)\n",
    "\n",
    "print(\"Non-integer\")\n",
    "prov_val, x_full = wta.wta(q, tgt_values*10, weapon_count, integer=False)"
   ]
  },
  {
   "cell_type": "code",
   "execution_count": 9,
   "metadata": {},
   "outputs": [],
   "source": [
    "def get_final_surv_prob(q, x):\n",
    "    \"\"\"\n",
    "    Get the final probability of kill for each target.\n",
    "    Inputs:\n",
    "        q: (n,m) array of survival probabilities\n",
    "        x: (n,m) array of weapon assignments\n",
    "    \"\"\"\n",
    "    return np.prod(np.power(q, x), axis=1)"
   ]
  },
  {
   "cell_type": "code",
   "execution_count": 12,
   "metadata": {},
   "outputs": [
    {
     "data": {
      "text/plain": [
       "array([0.131, 0.904, 0.972, 0.225, 0.173])"
      ]
     },
     "execution_count": 12,
     "metadata": {},
     "output_type": "execute_result"
    }
   ],
   "source": [
    "get_final_surv_prob(q, x_full)"
   ]
  },
  {
   "cell_type": "code",
   "execution_count": 13,
   "metadata": {},
   "outputs": [],
   "source": [
    "# Get the value of the problem if each platform solves independently\n",
    "\n",
    "def get_ind_value(q, V, W):\n",
    "    \"\"\"\n",
    "    Get the total value if each platform solves independently.\n",
    "    Inputs:\n",
    "        q: (n,m) array of survival probabilities\n",
    "        V: (n,) array of target values\n",
    "        W: (m,) array of weapon counts\n",
    "    \"\"\"\n",
    "    # Loop through platforms\n",
    "    n, m = q.shape\n",
    "    x = np.zeros((n,m))\n",
    "    for i in range(m):\n",
    "        # Solve the WTA problem for platform i\n",
    "        q_i = q[:,i]\n",
    "        q_i = q_i.reshape((n,1))\n",
    "        pv, x_i = wta.wta(q_i, V, W[i])\n",
    "        x[:,i] = x_i[:,0]\n",
    "    return V@get_final_surv_prob(q, x), x"
   ]
  },
  {
   "cell_type": "code",
   "execution_count": 14,
   "metadata": {},
   "outputs": [
    {
     "name": "stdout",
     "output_type": "stream",
     "text": [
      "optimal\n",
      "optimal\n",
      "optimal\n",
      "optimal\n",
      "optimal\n",
      "optimal\n",
      "47.82060488294961\n",
      "[[ 2.  2.  4.  4.  2.  2.]\n",
      " [ 0.  0.  0. -0.  0.  0.]\n",
      " [ 0.  0. -0. -0.  0.  0.]\n",
      " [ 0.  0.  0.  0.  1.  1.]\n",
      " [ 0.  0.  2.  2.  1.  1.]]\n"
     ]
    }
   ],
   "source": [
    "V = tgt_values*10\n",
    "WW = weapon_count\n",
    "\n",
    "ind_value, ind_x = get_ind_value(q, V, WW)\n",
    "print(ind_value)\n",
    "print(ind_x)"
   ]
  },
  {
   "cell_type": "code",
   "execution_count": 15,
   "metadata": {},
   "outputs": [],
   "source": [
    "def getMT(n):\n",
    "    '''Get Malitsky-Tam values for W and L\n",
    "    n: number of agents'''\n",
    "    W = np.zeros((n,n))\n",
    "    W[0,0] = 1\n",
    "    W[0,1] = -1\n",
    "    for r in range(1,n-1):\n",
    "        W[r,r-1] = -1\n",
    "        W[r,r] = 2\n",
    "        W[r,r+1] = -1\n",
    "    W[n-1,n-1] = 1\n",
    "    W[n-1,n-2] = -1\n",
    "\n",
    "    L = np.zeros((n,n))\n",
    "    # Add ones just below the diagonal\n",
    "    for i in range(n-1):\n",
    "        L[i+1,i] = 1\n",
    "    L[n-1,0] = 1\n",
    "    return W, L\n"
   ]
  },
  {
   "cell_type": "code",
   "execution_count": 26,
   "metadata": {},
   "outputs": [
    {
     "name": "stdout",
     "output_type": "stream",
     "text": [
      "[ 0. -2.  0.  0.]\n",
      "[[ 1. -1.  0.  0.]\n",
      " [-1.  2. -1.  0.]\n",
      " [ 0. -1.  2. -1.]\n",
      " [ 0.  0. -1.  1.]]\n",
      "[[0. 0. 0. 0.]\n",
      " [1. 0. 0. 0.]\n",
      " [0. 1. 0. 0.]\n",
      " [1. 0. 1. 0.]]\n"
     ]
    }
   ],
   "source": [
    "# Algorithm\n",
    "n = 4\n",
    "W, L = getMT(n)\n",
    "\n",
    "\n",
    "print(np.linalg.eigvals(W + L + L.T - 2*np.eye(n)))\n",
    "print(W)\n",
    "print(L)"
   ]
  },
  {
   "cell_type": "code",
   "execution_count": 18,
   "metadata": {},
   "outputs": [],
   "source": [
    "# Data\n",
    "m = (tgts, wpns)\n",
    "\n",
    "# Survival probabilities\n",
    "#Q = q\n",
    "\n",
    "# Target values\n",
    "V = tgt_values*10\n",
    "\n",
    "# Weapon values\n",
    "WW = weapon_count"
   ]
  },
  {
   "cell_type": "code",
   "execution_count": 41,
   "metadata": {},
   "outputs": [
    {
     "name": "stdout",
     "output_type": "stream",
     "text": [
      "optimal\n"
     ]
    }
   ],
   "source": [
    "p, x_true = wta.wta(q, V, WW, integer=False)"
   ]
  },
  {
   "cell_type": "code",
   "execution_count": 45,
   "metadata": {},
   "outputs": [],
   "source": [
    "\n",
    "itrs = 1001\n",
    "gamma = 0.5\n",
    "\n",
    "v0 = []\n",
    "vk = []\n",
    "log = []\n",
    "log_e = []\n",
    "for i in range(n):\n",
    "    vi = 1/tgts*np.array(WW)*np.ones(m)\n",
    "    v0.append(vi)\n",
    "    vk.append(vi.copy())\n",
    "\n",
    "node_tgts = {0:[0, 1, 2, 3], 1:[1,4], 2:[0,3], 3:[2,4]}\n",
    "num_nodes_per_tgt = [2, 2, 2, 2, 2]"
   ]
  },
  {
   "cell_type": "code",
   "execution_count": 46,
   "metadata": {},
   "outputs": [],
   "source": [
    "# Create variables/params/objs for the algorithm\n",
    "probs = [] # List of problems for each node\n",
    "all_x = [] # List of last x solutions for each node as params\n",
    "all_v = [] # List of last v solutions for each node as params\n",
    "all_w = []# List of variables for each node\n",
    "for i in range(n):\n",
    "    w = cp.Variable(m)\n",
    "    all_w.append(w)\n",
    "    x = cp.Parameter(m)\n",
    "    x.value = np.zeros(m)\n",
    "    all_x.append(x)\n",
    "    v = cp.Parameter(m)\n",
    "    v.value = v0[i]\n",
    "    all_v.append(v)\n",
    "    y = v + sum(L[i,j]*all_x[j] for j in range(i)) + L[i,i]*w\n",
    "    qq = np.ones(m)\n",
    "    qq[node_tgts[i]] = q[node_tgts[i]] # Only use the targets that are in the node\n",
    "    weighted_weapons = cp.multiply(w, np.log(qq)) # (tgts, wpns)\n",
    "    survival_probs = cp.exp(cp.sum(weighted_weapons, axis=1)) # (tgts,)\n",
    "    VV = np.zeros(tgts)\n",
    "    VV[node_tgts[i]] = V[node_tgts[i]]\n",
    "    VV = VV/num_nodes_per_tgt\n",
    "    obj = cp.Minimize(VV@survival_probs + .5*cp.sum_squares(w - y))\n",
    "    cons = [w >= 0, cp.sum(w, axis=0) <= WW]\n",
    "    probs.append(cp.Problem(obj, cons))"
   ]
  },
  {
   "cell_type": "code",
   "execution_count": 47,
   "metadata": {},
   "outputs": [
    {
     "name": "stdout",
     "output_type": "stream",
     "text": [
      "Iteration 0 Node 0\n",
      "[[0.804 0.801 1.485 1.458 1.436 1.411]\n",
      " [0.289 0.293 1.105 1.099 0.704 0.696]\n",
      " [0.265 0.282 1.075 1.077 0.695 0.707]\n",
      " [0.642 0.625 1.375 1.367 1.166 1.186]\n",
      " [0.    0.    0.961 1.    0.    0.   ]]\n",
      "Iteration 0 Node 1\n",
      "[[0.519 0.53  1.357 1.346 0.963 0.956]\n",
      " [0.387 0.382 1.102 1.072 0.93  0.897]\n",
      " [0.    0.011 0.947 0.965 0.222 0.252]\n",
      " [0.356 0.355 1.247 1.255 0.693 0.73 ]\n",
      " [0.737 0.723 1.347 1.363 1.192 1.165]]\n",
      "Iteration 0 Node 2\n",
      "[[0.91  0.913 1.613 1.569 1.647 1.614]\n",
      " [0.025 0.039 0.947 0.936 0.405 0.397]\n",
      " [0.    0.    0.793 0.828 0.    0.   ]\n",
      " [0.69  0.667 1.455 1.44  1.28  1.324]\n",
      " [0.375 0.38  1.192 1.227 0.667 0.665]]\n",
      "Iteration 0 Node 3\n",
      "[[0.859 0.881 1.752 1.7   1.623 1.584]\n",
      " [0.    0.    0.706 0.707 0.    0.   ]\n",
      " [0.    0.    0.677 0.682 0.32  0.312]\n",
      " [0.477 0.46  1.484 1.479 0.987 1.068]\n",
      " [0.664 0.659 1.382 1.431 1.07  1.036]]\n",
      "v [array([[0.257, 0.265, 1.136, 1.144, 0.564, 0.572],\n",
      "       [0.449, 0.444, 1.198, 1.187, 0.913, 0.901],\n",
      "       [0.268, 0.265, 1.136, 1.144, 0.564, 0.572],\n",
      "       [0.257, 0.265, 1.136, 1.144, 0.564, 0.572],\n",
      "       [0.769, 0.761, 1.393, 1.382, 1.396, 1.383]]), array([[ 0.738,  0.727,  1.392,  1.368,  1.379,  1.357],\n",
      "       [ 0.17 ,  0.184,  1.124,  1.145,  0.425,  0.449],\n",
      "       [ 0.532,  0.53 ,  1.187,  1.188,  0.925,  0.902],\n",
      "       [ 0.709,  0.692,  1.368,  1.349,  1.33 ,  1.325],\n",
      "       [-0.15 , -0.132,  0.93 ,  0.95 , -0.058, -0.033]]), array([[0.18 , 0.193, 1.141, 1.154, 0.446, 0.456],\n",
      "       [0.569, 0.551, 1.157, 1.154, 0.86 , 0.852],\n",
      "       [0.4  , 0.406, 1.219, 1.195, 1.071, 1.082],\n",
      "       [0.126, 0.14 , 1.111, 1.127, 0.36 , 0.375],\n",
      "       [0.725, 0.71 , 1.372, 1.37 , 1.264, 1.236]]), array([[0.425, 0.416, 1.131, 1.135, 0.812, 0.815],\n",
      "       [0.412, 0.42 , 1.321, 1.314, 1.003, 0.998],\n",
      "       [0.4  , 0.4  , 1.258, 1.273, 0.64 , 0.644],\n",
      "       [0.507, 0.504, 1.186, 1.18 , 0.947, 0.928],\n",
      "       [0.256, 0.261, 1.105, 1.098, 0.598, 0.614]])]\n",
      "Iteration 500 Node 0\n",
      "[[0.912 1.096 4.717 3.51  1.27  0.   ]\n",
      " [0.    0.    0.    0.    0.348 0.   ]\n",
      " [0.    0.    0.    0.    0.1   0.   ]\n",
      " [1.088 0.    1.283 1.317 0.223 2.223]\n",
      " [0.    0.904 0.    1.173 2.059 1.777]]\n",
      "Iteration 500 Node 1\n",
      "[[0.91  1.096 4.723 3.515 1.268 0.   ]\n",
      " [0.    0.    0.    0.    0.348 0.   ]\n",
      " [0.    0.    0.    0.    0.1   0.   ]\n",
      " [1.09  0.    1.277 1.315 0.222 2.225]\n",
      " [0.    0.904 0.    1.17  2.062 1.775]]\n",
      "Iteration 500 Node 2\n",
      "[[0.908 1.096 4.729 3.521 1.266 0.   ]\n",
      " [0.    0.    0.    0.    0.348 0.   ]\n",
      " [0.    0.    0.    0.    0.1   0.   ]\n",
      " [1.092 0.    1.271 1.313 0.22  2.228]\n",
      " [0.    0.904 0.    1.167 2.065 1.772]]\n",
      "Iteration 500 Node 3\n",
      "[[0.906 1.096 4.735 3.526 1.263 0.   ]\n",
      " [0.    0.    0.    0.    0.348 0.   ]\n",
      " [0.    0.    0.    0.    0.1   0.   ]\n",
      " [1.094 0.    1.265 1.311 0.219 2.23 ]\n",
      " [0.    0.904 0.    1.163 2.068 1.77 ]]\n",
      "v [array([[ 0.71 ,  0.895,  4.536,  3.336,  1.011, -0.243],\n",
      "       [-0.119, -0.103,  0.022,  0.049,  0.087, -0.237],\n",
      "       [-0.078, -0.083,  0.071,  0.084, -0.161, -0.254],\n",
      "       [ 0.881, -0.189,  1.114,  1.15 , -0.038,  1.952],\n",
      "       [ 0.605,  1.48 ,  0.257,  1.381,  3.101,  2.782]]), array([[ 0.704,  0.692,  1.334,  1.312,  1.319,  1.302],\n",
      "       [-0.019,  0.012,  1.092,  1.145,  0.02 ,  0.059],\n",
      "       [ 0.704,  0.69 ,  1.327,  1.306,  1.321,  1.302],\n",
      "       [ 0.708,  0.692,  1.323,  1.305,  1.32 ,  1.306],\n",
      "       [-0.097, -0.086,  0.924,  0.931,  0.019,  0.03 ]]), array([[-0.047, -0.04 ,  0.938,  0.972,  0.019,  0.056],\n",
      "       [ 0.761,  0.737,  1.372,  1.351,  1.32 ,  1.304],\n",
      "       [ 0.574,  0.593,  1.373,  1.352,  1.32 ,  1.305],\n",
      "       [-0.049, -0.028,  0.944,  0.976,  0.019,  0.031],\n",
      "       [ 0.762,  0.738,  1.373,  1.349,  1.323,  1.304]]), array([[ 0.233,  0.053, -2.009, -0.821,  0.85 ,  2.085],\n",
      "       [ 0.977,  0.954,  2.314,  2.255,  1.773,  2.074],\n",
      "       [ 0.4  ,  0.4  ,  2.029,  2.058,  0.72 ,  0.847],\n",
      "       [ 0.06 ,  1.125,  1.42 ,  1.369,  1.898, -0.089],\n",
      "       [ 0.33 , -0.532,  2.247,  1.139, -1.242, -0.917]])]\n",
      "Iteration 1000 Node 0\n",
      "[[0.471 1.051 6.    4.843 0.742 0.   ]\n",
      " [0.    0.    0.    0.    0.353 0.   ]\n",
      " [0.    0.    0.    0.    0.106 0.   ]\n",
      " [1.529 0.    0.    0.812 0.    2.76 ]\n",
      " [0.    0.949 0.    0.345 2.799 1.24 ]]\n",
      "Iteration 1000 Node 1\n",
      "[[0.47  1.051 6.    4.849 0.74  0.   ]\n",
      " [0.    0.    0.    0.    0.353 0.   ]\n",
      " [0.    0.    0.    0.    0.106 0.   ]\n",
      " [1.53  0.    0.    0.809 0.    2.76 ]\n",
      " [0.    0.949 0.    0.342 2.801 1.24 ]]\n",
      "Iteration 1000 Node 2\n",
      "[[0.47  1.051 6.    4.855 0.738 0.   ]\n",
      " [0.    0.    0.    0.    0.353 0.   ]\n",
      " [0.    0.    0.    0.    0.106 0.   ]\n",
      " [1.53  0.    0.    0.807 0.    2.761]\n",
      " [0.    0.949 0.    0.338 2.803 1.239]]\n",
      "Iteration 1000 Node 3\n",
      "[[0.47  1.052 6.    4.861 0.737 0.   ]\n",
      " [0.    0.    0.    0.    0.353 0.   ]\n",
      " [0.    0.    0.    0.    0.106 0.   ]\n",
      " [1.53  0.    0.    0.804 0.    2.762]\n",
      " [0.    0.948 0.    0.335 2.804 1.238]]\n",
      "v [array([[ 0.267,  0.849,  5.816,  4.669,  0.483, -0.243],\n",
      "       [-0.118, -0.103,  0.022,  0.049,  0.092, -0.237],\n",
      "       [-0.077, -0.083,  0.07 ,  0.083, -0.155, -0.253],\n",
      "       [ 1.325, -0.189, -0.165,  0.647, -0.258,  2.492],\n",
      "       [ 0.603,  1.525,  0.256,  0.552,  3.839,  2.241]]), array([[ 0.705,  0.692,  1.329,  1.313,  1.319,  1.301],\n",
      "       [-0.018,  0.013,  1.092,  1.145,  0.021,  0.059],\n",
      "       [ 0.703,  0.689,  1.327,  1.306,  1.321,  1.302],\n",
      "       [ 0.705,  0.69 ,  1.328,  1.304,  1.319,  1.303],\n",
      "       [-0.095, -0.085,  0.924,  0.932,  0.02 ,  0.034]]), array([[-0.047, -0.039,  0.933,  0.972,  0.02 ,  0.056],\n",
      "       [ 0.759,  0.736,  1.371,  1.35 ,  1.319,  1.303],\n",
      "       [ 0.574,  0.594,  1.372,  1.351,  1.319,  1.303],\n",
      "       [-0.047, -0.028,  0.952,  0.977,  0.022,  0.035],\n",
      "       [ 0.76 ,  0.738,  1.372,  1.349,  1.32 ,  1.303]]), array([[ 0.675,  0.098, -3.278, -2.154,  1.378,  2.085],\n",
      "       [ 0.977,  0.955,  2.314,  2.256,  1.768,  2.075],\n",
      "       [ 0.4  ,  0.4  ,  2.03 ,  2.059,  0.716,  0.848],\n",
      "       [-0.384,  1.126,  2.686,  1.872,  2.117, -0.63 ],\n",
      "       [ 0.332, -0.578,  2.248,  1.967, -1.979, -0.379]])]\n"
     ]
    }
   ],
   "source": [
    "verbosity = 500\n",
    "for itr in range(itrs):\n",
    "    #print(\"Iteration\", itr)\n",
    "    e = 0\n",
    "    for i in range(n):\n",
    "        probs[i].solve()\n",
    "        if itr % verbosity == 0:\n",
    "            print(\"Iteration\", itr, \"Node\", i)\n",
    "            print(all_w[i].value)\n",
    "        e += np.linalg.norm(all_w[i].value - all_x[i].value)\n",
    "        all_x[i].value = all_w[i].value\n",
    "    log_e.append(e)\n",
    "    for i in range(n):\n",
    "        vk[i] -= gamma*sum(W[i,j]*all_x[j].value for j in range(n))\n",
    "        all_v[i].value = vk[i]\n",
    "    log.append(V@get_final_surv_prob(q, all_x[0].value))\n",
    "    if itr % verbosity == 0:\n",
    "        print(\"v\", vk)\n"
   ]
  },
  {
   "cell_type": "code",
   "execution_count": 48,
   "metadata": {},
   "outputs": [
    {
     "data": {
      "text/plain": [
       "39.063384329909944"
      ]
     },
     "execution_count": 48,
     "metadata": {},
     "output_type": "execute_result"
    }
   ],
   "source": [
    "V@wta.get_final_surv_prob(q, all_w[0].value)"
   ]
  },
  {
   "cell_type": "code",
   "execution_count": 49,
   "metadata": {},
   "outputs": [
    {
     "data": {
      "text/plain": [
       "array([[0.471, 1.051, 6.   , 4.843, 0.742, 0.   ],\n",
       "       [0.   , 0.   , 0.   , 0.   , 0.353, 0.   ],\n",
       "       [0.   , 0.   , 0.   , 0.   , 0.106, 0.   ],\n",
       "       [1.529, 0.   , 0.   , 0.812, 0.   , 2.76 ],\n",
       "       [0.   , 0.949, 0.   , 0.345, 2.799, 1.24 ]])"
      ]
     },
     "execution_count": 49,
     "metadata": {},
     "output_type": "execute_result"
    }
   ],
   "source": [
    "all_w[0].value"
   ]
  },
  {
   "cell_type": "code",
   "execution_count": 50,
   "metadata": {},
   "outputs": [
    {
     "name": "stdout",
     "output_type": "stream",
     "text": [
      "[[0.204 2.    6.    6.    0.    0.   ]\n",
      " [0.    0.    0.    0.    0.352 0.   ]\n",
      " [0.    0.    0.    0.    0.105 0.   ]\n",
      " [1.796 0.    0.    0.    0.    2.837]\n",
      " [0.    0.    0.    0.    3.543 1.163]]\n",
      "39.02259853613735\n"
     ]
    }
   ],
   "source": [
    "print(x_full)\n",
    "print(p)"
   ]
  },
  {
   "cell_type": "code",
   "execution_count": 51,
   "metadata": {},
   "outputs": [
    {
     "data": {
      "image/png": "[encoded data removed]",
      "text/plain": [
       "<Figure size 640x480 with 1 Axes>"
      ]
     },
     "metadata": {},
     "output_type": "display_data"
    }
   ],
   "source": [
    "# Plot log values using log/log scale\n",
    "import matplotlib.pyplot as plt\n",
    "\n",
    "plt.plot(log)\n",
    "plt.yscale(\"log\")\n",
    "plt.xscale(\"log\")\n",
    "\n",
    "# Add horizontal line at y = x_full\n",
    "plt.axhline(y=p, color='red', linestyle='dashed')\n",
    "plt.xlabel(\"Iteration\")\n",
    "plt.ylabel(\"Total Value\")\n",
    "plt.title(\"Total Value vs. Iteration\")\n",
    "plt.show()\n"
   ]
  },
  {
   "cell_type": "code",
   "execution_count": 52,
   "metadata": {},
   "outputs": [
    {
     "data": {
      "image/png": "[encoded data removed]",
      "text/plain": [
       "<Figure size 640x480 with 1 Axes>"
      ]
     },
     "metadata": {},
     "output_type": "display_data"
    }
   ],
   "source": [
    "\n",
    "plt.plot(log)\n",
    "\n",
    "\n",
    "# Add horizontal line at y = x_full\n",
    "plt.axhline(y=p, color='red', linestyle='dashed')\n",
    "plt.xlabel(\"Iteration\")\n",
    "plt.ylabel(\"Total Value\")\n",
    "plt.title(\"Total Value vs. Iteration\")\n",
    "plt.show()"
   ]
  },
  {
   "cell_type": "code",
   "execution_count": 53,
   "metadata": {},
   "outputs": [
    {
     "data": {
      "image/png": "[encoded data removed]",
      "text/plain": [
       "<Figure size 640x480 with 1 Axes>"
      ]
     },
     "metadata": {},
     "output_type": "display_data"
    }
   ],
   "source": [
    "# Plot log_e values using log/log scale\n",
    "plt.plot(log_e)\n",
    "plt.yscale(\"log\")\n",
    "plt.xscale(\"log\")\n",
    "\n",
    "# Label axes\n",
    "plt.xlabel(\"Iteration\")\n",
    "plt.ylabel(\"Change in w\")\n",
    "plt.title(\"Change in w vs. Iteration\")\n",
    "plt.show()"
   ]
  },
  {
   "cell_type": "code",
   "execution_count": 54,
   "metadata": {},
   "outputs": [
    {
     "data": {
      "image/png": "[encoded data removed]",
      "text/plain": [
       "<Figure size 640x480 with 1 Axes>"
      ]
     },
     "metadata": {},
     "output_type": "display_data"
    }
   ],
   "source": [
    "# Plot log_e values\n",
    "plt.plot(log_e)\n",
    "\n",
    "# Label axes\n",
    "plt.xlabel(\"Iteration\")\n",
    "plt.ylabel(\"Change in w\")\n",
    "plt.title(\"Change in w vs. Iteration\")\n",
    "plt.show()"
   ]
  },
  {
   "cell_type": "code",
   "execution_count": 71,
   "metadata": {},
   "outputs": [],
   "source": [
    "\n",
    "def serialAlgorithm(n, m, Q, V, WW, W, L, node_tgts, num_nodes_per_tgt, itrs=1001, gamma=0.5, verbose=False, logs=False):\n",
    "    \n",
    "    tgts = m[0]\n",
    "    v0 = []\n",
    "    vk = []\n",
    "    log = []\n",
    "    log_e = []\n",
    "    for i in range(n):\n",
    "        vi = 1/tgts*np.array(WW)*np.ones(m)\n",
    "        v0.append(vi)\n",
    "        vk.append(vi.copy())\n",
    "\n",
    "    # Create variables/params/objs for the algorithm\n",
    "    probs = [] # List of problems for each node\n",
    "    all_x = [] # List of last x solutions for each node as params\n",
    "    all_v = [] # List of last v solutions for each node as params\n",
    "    all_w = []# List of variables for each node\n",
    "    for i in range(n):\n",
    "        w = cp.Variable(m)\n",
    "        all_w.append(w)\n",
    "        x = cp.Parameter(m)\n",
    "        x.value = np.zeros(m)\n",
    "        all_x.append(x)\n",
    "        v = cp.Parameter(m)\n",
    "        v.value = v0[i]\n",
    "        all_v.append(v)\n",
    "        y = v + sum(L[i,j]*all_x[j] for j in range(i)) + L[i,i]*w\n",
    "        qq = np.ones(m)\n",
    "        qq[node_tgts[i]] = Q[node_tgts[i]] # Only use the targets that are in the node\n",
    "        weighted_weapons = cp.multiply(w, np.log(qq)) # (tgts, wpns)\n",
    "        survival_probs = cp.exp(cp.sum(weighted_weapons, axis=1)) # (tgts,)\n",
    "        VV = np.zeros(tgts)\n",
    "        VV[node_tgts[i]] = V[node_tgts[i]]\n",
    "        VV = VV/num_nodes_per_tgt\n",
    "        obj = cp.Minimize(VV@survival_probs + .5*cp.sum_squares(w - y))\n",
    "        cons = [w >= 0, cp.sum(w, axis=0) <= WW]\n",
    "        probs.append(cp.Problem(obj, cons))\n",
    "\n",
    "    # Run the algorithm\n",
    "    for itr in range(itrs):\n",
    "        #print(\"Iteration\", itr)\n",
    "        e = 0\n",
    "        for i in range(n):\n",
    "            probs[i].solve()\n",
    "            # if itr % 500 == 0:\n",
    "            #     print(\"Iteration\", itr, \"Node\", i)\n",
    "            #     print(all_w[i].value)\n",
    "            e += np.linalg.norm(all_w[i].value - all_x[i].value)\n",
    "            all_x[i].value = all_w[i].value\n",
    "        log_e.append(e)\n",
    "        for i in range(n):\n",
    "            vk[i] -= gamma*sum(W[i,j]*all_x[j].value for j in range(n))\n",
    "            all_v[i].value = vk[i]\n",
    "        log.append(V@get_final_surv_prob(Q, all_x[0].value))\n",
    "        # if itr % 500 == 0:\n",
    "        #     print(\"v\", vk)\n",
    "    \n",
    "    prob_val = V@wta.get_final_surv_prob(Q, all_w[0].value)\n",
    "    if logs:\n",
    "        return prob_val, all_w[0].value, log, log_e\n",
    "    else:\n",
    "        return prob_val, all_w[0].value\n"
   ]
  },
  {
   "cell_type": "code",
   "execution_count": 85,
   "metadata": {},
   "outputs": [],
   "source": [
    "import time"
   ]
  },
  {
   "cell_type": "code",
   "execution_count": 86,
   "metadata": {},
   "outputs": [
    {
     "name": "stdout",
     "output_type": "stream",
     "text": [
      "48.837799310684204\n"
     ]
    }
   ],
   "source": [
    "t = time.time()\n",
    "serial_p, serial_x, log, log_e = serialAlgorithm(n, m, q, V, WW, W, L, node_tgts, num_nodes_per_tgt, itrs=1001, gamma=0.5, verbose=False, logs=True)\n",
    "print(time.time() - t)"
   ]
  },
  {
   "cell_type": "code",
   "execution_count": 73,
   "metadata": {},
   "outputs": [
    {
     "data": {
      "text/plain": [
       "39.063384329909944"
      ]
     },
     "execution_count": 73,
     "metadata": {},
     "output_type": "execute_result"
    }
   ],
   "source": [
    "serial_p"
   ]
  },
  {
   "cell_type": "code",
   "execution_count": 59,
   "metadata": {},
   "outputs": [],
   "source": [
    "L_b = np.array([[0, 0, 0, 0], [0, 0, 0, 0], [1.5, 0.5, 0, 0], [0.5,1.5,0,0]])\n",
    "W_b = np.array([[1, 0, -1, 0], [0, 2, -0.5, -1.5], [-1, -0.5, 1.67218, -0.17218], [0,-1.5,-0.17218,1.67218]])"
   ]
  },
  {
   "cell_type": "code",
   "execution_count": 87,
   "metadata": {},
   "outputs": [
    {
     "name": "stdout",
     "output_type": "stream",
     "text": [
      "47.38671684265137\n"
     ]
    }
   ],
   "source": [
    "t = time.time()\n",
    "m_serial_p, m_serial_x, m_log, m_log_e = serialAlgorithm(n, m, q, V, WW, W_b, L_b, node_tgts, num_nodes_per_tgt, itrs=1001, gamma=0.5, verbose=False, logs=True)\n",
    "print(time.time() - t)"
   ]
  },
  {
   "cell_type": "code",
   "execution_count": 75,
   "metadata": {},
   "outputs": [
    {
     "data": {
      "text/plain": [
       "39.02607684294745"
      ]
     },
     "execution_count": 75,
     "metadata": {},
     "output_type": "execute_result"
    }
   ],
   "source": [
    "m_serial_p"
   ]
  },
  {
   "cell_type": "code",
   "execution_count": 96,
   "metadata": {},
   "outputs": [
    {
     "data": {
      "image/png": "[encoded data removed]",
      "text/plain": [
       "<Figure size 640x480 with 1 Axes>"
      ]
     },
     "metadata": {},
     "output_type": "display_data"
    }
   ],
   "source": [
    "# Plot log values for both algs\n",
    "plt.plot(log, label=\"Malitsky-Tam\")\n",
    "plt.plot(m_log, label=\"New Algorithm\")\n",
    "\n",
    "# Log scale \n",
    "plt.yscale(\"log\")\n",
    "plt.xscale(\"log\")\n",
    "\n",
    "# Add horizontal line at y = p\n",
    "plt.axhline(y=p, color='red', linestyle='dashed')\n",
    "\n",
    "# Label axes\n",
    "plt.xlabel(\"Iteration\")\n",
    "plt.ylabel(\"Total Value\")\n",
    "plt.title(\"Algorithm Convergence\")\n",
    "plt.legend()\n",
    "plt.show()"
   ]
  },
  {
   "cell_type": "code",
   "execution_count": 84,
   "metadata": {},
   "outputs": [
    {
     "data": {
      "image/png": "[encoded data removed]",
      "text/plain": [
       "<Figure size 640x480 with 1 Axes>"
      ]
     },
     "metadata": {},
     "output_type": "display_data"
    }
   ],
   "source": [
    "# Plot log_e values\n",
    "plt.plot(log, label=\"Malitsky-Tam\")\n",
    "plt.plot(m_log, label=\"New Algorithm\")\n",
    "\n",
    "# log/log\n",
    "plt.yscale(\"log\")\n",
    "plt.xscale(\"log\")\n",
    "# Label axes\n",
    "plt.xlabel(\"Iteration\")\n",
    "plt.ylabel(\"Change in w\")\n",
    "plt.title(\"Change in w vs. Iteration\")\n",
    "plt.show()\n"
   ]
  },
  {
   "cell_type": "code",
   "execution_count": null,
   "metadata": {},
   "outputs": [],
   "source": []
  }
 ],
 "metadata": {
  "kernelspec": {
   "display_name": "base",
   "language": "python",
   "name": "python3"
  },
  "language_info": {
   "codemirror_mode": {
    "name": "ipython",
    "version": 3
   },
   "file_extension": ".py",
   "mimetype": "text/x-python",
   "name": "python",
   "nbconvert_exporter": "python",
   "pygments_lexer": "ipython3",
   "version": "3.11.4"
  }
 },
 "nbformat": 4,
 "nbformat_minor": 2
}
