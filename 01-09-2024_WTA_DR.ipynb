{
 "cells": [
  {
   "cell_type": "code",
   "execution_count": 1,
   "metadata": {},
   "outputs": [],
   "source": [
    "import numpy as np\n",
    "import cvxpy as cp\n",
    "import wta\n",
    "\n",
    "np.set_printoptions(precision=3, suppress=True, linewidth=200)"
   ]
  },
  {
   "cell_type": "code",
   "execution_count": 2,
   "metadata": {},
   "outputs": [],
   "source": [
    "# Data\n",
    "n = 2\n",
    "tgts = 3\n",
    "wpns = 2\n",
    "m = (tgts, wpns)\n",
    "# Survival probabilities\n",
    "Q = np.array([[0.8, 0.4],\n",
    "              [0.6, 0.5],\n",
    "              [0.4, 0.6]])\n",
    "\n",
    "# Target values\n",
    "V = np.array([10, 6, 10])\n",
    "\n",
    "# Weapon values\n",
    "WW = np.array([1, 1])"
   ]
  },
  {
   "cell_type": "code",
   "execution_count": 4,
   "metadata": {},
   "outputs": [
    {
     "name": "stdout",
     "output_type": "stream",
     "text": [
      "optimal\n",
      "The optimal value is 13.999999957685631\n",
      "A solution x is\n",
      "[[-0.  1.]\n",
      " [ 0.  0.]\n",
      " [ 1.  0.]]\n"
     ]
    }
   ],
   "source": [
    "p, x = wta.wta(Q, V, WW)\n"
   ]
  },
  {
   "cell_type": "code",
   "execution_count": 5,
   "metadata": {},
   "outputs": [
    {
     "name": "stdout",
     "output_type": "stream",
     "text": [
      "optimal\n",
      "The optimal value is 14.18056618827489\n",
      "A solution x is\n",
      "[[-0.     0.921]\n",
      " [ 0.     0.079]\n",
      " [ 1.    -0.   ]]\n"
     ]
    },
    {
     "data": {
      "text/plain": [
       "(14.18056618827489,\n",
       " array([[-0.   ,  0.921],\n",
       "        [ 0.   ,  0.079],\n",
       "        [ 1.   , -0.   ]]))"
      ]
     },
     "execution_count": 5,
     "metadata": {},
     "output_type": "execute_result"
    }
   ],
   "source": [
    "wta.wta(Q, V, WW, integer=False)"
   ]
  },
  {
   "cell_type": "code",
   "execution_count": null,
   "metadata": {},
   "outputs": [],
   "source": [
    "# Set gamma, L, W, itrs, v0\n",
    "\n",
    "L = np.zeros((n,n))\n",
    "L[1,0] = 2\n",
    "\n",
    "W = np.ones((n,n))\n",
    "W[1,0] = -1\n",
    "W[0,1] = -1\n",
    "\n",
    "itrs = 2\n",
    "gamma = 0.5\n",
    "\n",
    "v0 = []\n",
    "vk = []\n",
    "for i in range(n):\n",
    "    v0.append(np.zeros(m))\n",
    "    vk.append(np.zeros(m))\n",
    "\n",
    "node_tgts = {0:[0], 1:[1,2]}\n",
    "num_nodes_per_tgt = [1, 1, 1]"
   ]
  },
  {
   "cell_type": "code",
   "execution_count": null,
   "metadata": {},
   "outputs": [],
   "source": [
    "# Create variables/params/objs for the algorithm\n",
    "probs = [] # List of problems for each node\n",
    "all_x = [] # List of last x solutions for each node as params\n",
    "all_v = [] # List of last v solutions for each node as params\n",
    "all_w = []# List of variables for each node\n",
    "for i in range(n):\n",
    "    w = cp.Variable(m)\n",
    "    all_w.append(w)\n",
    "    x = cp.Parameter(m)\n",
    "    x.value = np.zeros(m)\n",
    "    all_x.append(x)\n",
    "    v = cp.Parameter(m)\n",
    "    v.value = v0[i]\n",
    "    all_v.append(v)\n",
    "    y = v + sum(L[i,j]*all_x[j] for j in range(i)) + L[i,i]*w\n",
    "    q = np.ones(m)\n",
    "    q[node_tgts[i]] = Q[node_tgts[i]] # Only use the targets that are in the node\n",
    "    weighted_weapons = cp.multiply(w, np.log(q)) # (tgts, wpns)\n",
    "    survival_probs = cp.exp(cp.sum(weighted_weapons, axis=1)) # (tgts,)\n",
    "    VV = np.zeros(tgts)\n",
    "    VV[node_tgts[i]] = V[node_tgts[i]]\n",
    "    obj = cp.Minimize(VV@survival_probs + .5*cp.sum_squares(w - y))\n",
    "    cons = [w >= 0, cp.sum(w, axis=0) <= WW]\n",
    "    probs.append(cp.Problem(obj, cons))"
   ]
  },
  {
   "cell_type": "code",
   "execution_count": null,
   "metadata": {},
   "outputs": [
    {
     "name": "stdout",
     "output_type": "stream",
     "text": [
      "Iteration 0\n",
      "Node 0\n",
      "w [[0.754 1.   ]\n",
      " [0.    0.   ]\n",
      " [0.    0.   ]]\n",
      "Node 1\n",
      "w [[0.    0.177]\n",
      " [0.    0.713]\n",
      " [1.    0.109]]\n",
      "v [array([[-0.377, -0.411],\n",
      "       [-0.   ,  0.357],\n",
      "       [ 0.5  ,  0.055]]), array([[ 0.377,  0.411],\n",
      "       [ 0.   , -0.357],\n",
      "       [-0.5  , -0.055]])]\n",
      "Iteration 1\n",
      "Node 0\n",
      "w [[0.433 1.   ]\n",
      " [0.    0.   ]\n",
      " [0.5   0.   ]]\n",
      "Node 1\n",
      "w [[0.    0.448]\n",
      " [0.    0.54 ]\n",
      " [1.    0.012]]\n",
      "v [array([[-0.594, -0.688],\n",
      "       [-0.   ,  0.627],\n",
      "       [ 0.75 ,  0.061]]), array([[ 0.594,  0.688],\n",
      "       [ 0.   , -0.627],\n",
      "       [-0.75 , -0.061]])]\n",
      "Iteration 2\n",
      "Node 0\n",
      "w [[0.25 1.  ]\n",
      " [0.   0.  ]\n",
      " [0.75 0.  ]]\n",
      "Node 1\n",
      "w [[0.    0.591]\n",
      " [0.    0.409]\n",
      " [1.    0.   ]]\n",
      "v [array([[-0.719, -0.892],\n",
      "       [-0.   ,  0.831],\n",
      "       [ 0.875,  0.061]]), array([[ 0.719,  0.892],\n",
      "       [ 0.   , -0.831],\n",
      "       [-0.875, -0.061]])]\n",
      "Iteration 3\n",
      "Node 0\n",
      "w [[0.136 1.   ]\n",
      " [0.    0.   ]\n",
      " [0.864 0.   ]]\n",
      "Node 1\n",
      "w [[0.    0.687]\n",
      " [0.    0.313]\n",
      " [1.    0.   ]]\n",
      "v [array([[-0.787, -1.048],\n",
      "       [-0.   ,  0.988],\n",
      "       [ 0.943,  0.061]]), array([[ 0.787,  1.048],\n",
      "       [ 0.   , -0.988],\n",
      "       [-0.943, -0.061]])]\n",
      "Iteration 4\n",
      "Node 0\n",
      "w [[0.074 1.   ]\n",
      " [0.    0.   ]\n",
      " [0.926 0.   ]]\n",
      "Node 1\n",
      "w [[0.    0.759]\n",
      " [0.    0.241]\n",
      " [1.    0.   ]]\n",
      "v [array([[-0.824, -1.169],\n",
      "       [-0.   ,  1.108],\n",
      "       [ 0.98 ,  0.061]]), array([[ 0.824,  1.169],\n",
      "       [ 0.   , -1.108],\n",
      "       [-0.98 , -0.061]])]\n",
      "Iteration 5\n",
      "Node 0\n",
      "w [[0.04 1.  ]\n",
      " [0.   0.  ]\n",
      " [0.96 0.  ]]\n",
      "Node 1\n",
      "w [[0.    0.813]\n",
      " [0.    0.187]\n",
      " [1.    0.   ]]\n",
      "v [array([[-0.844, -1.263],\n",
      "       [-0.   ,  1.202],\n",
      "       [ 1.   ,  0.061]]), array([[ 0.844,  1.263],\n",
      "       [ 0.   , -1.202],\n",
      "       [-1.   , -0.061]])]\n",
      "Iteration 6\n",
      "Node 0\n",
      "w [[0.022 1.   ]\n",
      " [0.    0.   ]\n",
      " [0.978 0.   ]]\n",
      "Node 1\n",
      "w [[0.    0.854]\n",
      " [0.    0.146]\n",
      " [1.    0.   ]]\n",
      "v [array([[-0.855, -1.336],\n",
      "       [-0.   ,  1.275],\n",
      "       [ 1.011,  0.061]]), array([[ 0.855,  1.336],\n",
      "       [ 0.   , -1.275],\n",
      "       [-1.011, -0.061]])]\n",
      "Iteration 7\n",
      "Node 0\n",
      "w [[0.012 1.   ]\n",
      " [0.    0.   ]\n",
      " [0.988 0.   ]]\n",
      "Node 1\n",
      "w [[0.    0.885]\n",
      " [0.    0.115]\n",
      " [1.    0.   ]]\n",
      "v [array([[-0.861, -1.393],\n",
      "       [-0.   ,  1.333],\n",
      "       [ 1.017,  0.061]]), array([[ 0.861,  1.393],\n",
      "       [ 0.   , -1.333],\n",
      "       [-1.017, -0.061]])]\n",
      "Iteration 8\n",
      "Node 0\n",
      "w [[0.011 0.987]\n",
      " [0.    0.013]\n",
      " [0.989 0.   ]]\n",
      "Node 1\n",
      "w [[0.    0.899]\n",
      " [0.    0.101]\n",
      " [1.    0.   ]]\n",
      "v [array([[-0.867, -1.438],\n",
      "       [-0.   ,  1.377],\n",
      "       [ 1.023,  0.061]]), array([[ 0.867,  1.438],\n",
      "       [ 0.   , -1.377],\n",
      "       [-1.023, -0.061]])]\n",
      "Iteration 9\n",
      "Node 0\n",
      "w [[0.012 0.97 ]\n",
      " [0.    0.03 ]\n",
      " [0.988 0.   ]]\n",
      "Node 1\n",
      "w [[0.    0.903]\n",
      " [0.    0.097]\n",
      " [1.    0.   ]]\n",
      "v [array([[-0.873, -1.471],\n",
      "       [-0.   ,  1.41 ],\n",
      "       [ 1.029,  0.061]]), array([[ 0.873,  1.471],\n",
      "       [ 0.   , -1.41 ],\n",
      "       [-1.029, -0.061]])]\n"
     ]
    }
   ],
   "source": [
    "for itr in range(10):\n",
    "    print(\"Iteration\", itr)\n",
    "    for i in range(n):\n",
    "        print(\"Node\", i)\n",
    "        probs[i].solve()\n",
    "        print(\"w\", all_w[i].value)\n",
    "        all_x[i].value = all_w[i].value\n",
    "    for i in range(n):\n",
    "        vk[i] -= gamma*sum(W[i,j]*all_x[j].value for j in range(n))\n",
    "        all_v[i].value = vk[i]\n",
    "    print(\"v\", vk)\n"
   ]
  },
  {
   "cell_type": "code",
   "execution_count": null,
   "metadata": {},
   "outputs": [
    {
     "data": {
      "text/plain": [
       "array([[0.8, 0.4],\n",
       "       [0.6, 0.5],\n",
       "       [0.4, 0.6]])"
      ]
     },
     "execution_count": 62,
     "metadata": {},
     "output_type": "execute_result"
    }
   ],
   "source": [
    "Q"
   ]
  },
  {
   "cell_type": "code",
   "execution_count": null,
   "metadata": {},
   "outputs": [
    {
     "data": {
      "text/plain": [
       "array([[0.8, 0.4],\n",
       "       [0.4, 0.6]])"
      ]
     },
     "execution_count": 64,
     "metadata": {},
     "output_type": "execute_result"
    }
   ],
   "source": [
    "Q[[0,2],:]"
   ]
  },
  {
   "cell_type": "code",
   "execution_count": null,
   "metadata": {},
   "outputs": [],
   "source": []
  }
 ],
 "metadata": {
  "kernelspec": {
   "display_name": "base",
   "language": "python",
   "name": "python3"
  },
  "language_info": {
   "codemirror_mode": {
    "name": "ipython",
    "version": 3
   },
   "file_extension": ".py",
   "mimetype": "text/x-python",
   "name": "python",
   "nbconvert_exporter": "python",
   "pygments_lexer": "ipython3",
   "version": "3.11.4"
  }
 },
 "nbformat": 4,
 "nbformat_minor": 2
}
