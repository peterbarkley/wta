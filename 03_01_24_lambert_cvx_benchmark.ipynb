{
 "cells": [
  {
   "cell_type": "code",
   "execution_count": 7,
   "metadata": {},
   "outputs": [],
   "source": [
    "import numpy as np\n",
    "import cvxpy as cp\n",
    "from scipy.special import lambertw\n",
    "from time import time"
   ]
  },
  {
   "cell_type": "code",
   "execution_count": 2,
   "metadata": {},
   "outputs": [],
   "source": [
    "import wta\n"
   ]
  },
  {
   "cell_type": "code",
   "execution_count": 5,
   "metadata": {},
   "outputs": [],
   "source": [
    "\n",
    "def lambertw_prox(q, bv, y, v=1, verbose=False):\n",
    "\n",
    "    d = q@y\n",
    "    z = d - lambertw(bv*np.exp(d))\n",
    "    lam = np.exp(z)\n",
    "    x = y - lam*v*q\n",
    "    return x.real\n",
    "\n",
    "# WTA resolvent\n",
    "class lambertResolvent:\n",
    "    '''Resolvent function'''\n",
    "    def __init__(self, data):\n",
    "        self.data = data\n",
    "        self.v0 = data['v0']\n",
    "        # prob, w, y = buildWTAProb(data)\n",
    "        # self.prob = prob\n",
    "        # self.w = w\n",
    "        # self.y = y\n",
    "        self.q = np.log(self.data['QQ'])\n",
    "        self.b = self.q@self.q\n",
    "        self.bv = self.b*self.data['VV']\n",
    "        self.shape = self.data['Q'].shape\n",
    "        #self.log = []\n",
    "\n",
    "    def __call__(self, x):\n",
    "        t = time()\n",
    "        y = x[self.data['s'],:]\n",
    "        # self.prob.solve(verbose=False, ignore_dpp=True)\n",
    "        # st = time()\n",
    "        w = lambertw_prox(self.q, self.bv, y, v=self.data['VV'])\n",
    "        x[self.data['s'],:] = w\n",
    "        #self.log.append((t,st))\n",
    "        # You can implement logging here\n",
    "        #self.log.append(fullValue(self.data, proj_full(x)))\n",
    "        return x\n",
    "\n",
    "    def __repr__(self):\n",
    "        return \"wtaResolvent\"\n",
    "\n"
   ]
  },
  {
   "cell_type": "code",
   "execution_count": 13,
   "metadata": {},
   "outputs": [],
   "source": [
    "def buildWTAProb(data):\n",
    "    '''Builds the WTA problem'''\n",
    "    QQ = data['QQ']\n",
    "    VV = data['VV']\n",
    "\n",
    "    # Get the number of targets and weapons\n",
    "    m = QQ.shape\n",
    "\n",
    "    # Create the variable\n",
    "    w = cp.Variable(m) #, nonneg=True) #, integer=True)\n",
    "\n",
    "    # Create the parameter\n",
    "    y = cp.Parameter(m) # resolvent parameter, sum of weighted previous resolvent outputs and v_i\n",
    "\n",
    "    # Create the objective\n",
    "    weighted_weapons = cp.multiply(w, np.log(QQ)) # (wpns)\n",
    "    survival_probs = cp.exp(cp.sum(weighted_weapons)) # ()\n",
    "    obj = cp.Minimize(VV*survival_probs + .5*cp.sum_squares(w - y))\n",
    "\n",
    "    # Create the problem \n",
    "    prob = cp.Problem(obj) #, cons)\n",
    "\n",
    "    # Return the problem, variable, and parameters\n",
    "    return prob, w, y\n",
    "\n",
    "class cvxResolvent:\n",
    "    '''Resolvent function'''\n",
    "    def __init__(self, data):\n",
    "        self.data = data\n",
    "        self.v0 = data['v0']\n",
    "        self.prob, self.w, self.y = buildWTAProb(data)\n",
    "        self.shape = self.data['Q'].shape\n",
    "        self.log = []\n",
    "\n",
    "    def __call__(self, x):\n",
    "        y = x[self.data['s'],:]\n",
    "        self.y.value = y\n",
    "        self.prob.solve(verbose=False, ignore_dpp=True)\n",
    "        \n",
    "        w = self.w.value\n",
    "        x[self.data['s'],:] = w\n",
    "        return x\n",
    "\n",
    "    def __repr__(self):\n",
    "        return \"wtaResolvent\""
   ]
  },
  {
   "cell_type": "code",
   "execution_count": 48,
   "metadata": {},
   "outputs": [
    {
     "name": "stdout",
     "output_type": "stream",
     "text": [
      "n = 10\n",
      "cvxpy initial: 0.024228811264038086\n",
      "lambert initial: 0.0\n"
     ]
    },
    {
     "name": "stdout",
     "output_type": "stream",
     "text": [
      "cvxpy: 2.823678731918335\n",
      "lambert: 0.007822751998901367\n",
      "n = 210\n",
      "cvxpy initial: 0.024619340896606445\n",
      "lambert initial: 0.0\n",
      "cvxpy: 3.099766492843628\n",
      "lambert: 0.004220724105834961\n",
      "n = 410\n",
      "cvxpy initial: 0.031328678131103516\n",
      "lambert initial: 0.0\n",
      "cvxpy: 3.2674660682678223\n",
      "lambert: 0.00842142105102539\n",
      "n = 610\n",
      "cvxpy initial: 0.040284156799316406\n",
      "lambert initial: 0.0\n",
      "cvxpy: 3.3884711265563965\n",
      "lambert: 0.0\n",
      "n = 810\n",
      "cvxpy initial: 0.049132347106933594\n",
      "lambert initial: 0.0\n",
      "cvxpy: 3.442697048187256\n",
      "lambert: 0.008002281188964844\n",
      "n = 1010\n",
      "cvxpy initial: 0.03294062614440918\n",
      "lambert initial: 0.0\n",
      "cvxpy: 3.5520071983337402\n",
      "lambert: 0.003082752227783203\n",
      "n = 1210\n",
      "cvxpy initial: 0.04124927520751953\n",
      "lambert initial: 0.0\n",
      "cvxpy: 4.09358811378479\n",
      "lambert: 0.007039785385131836\n"
     ]
    }
   ],
   "source": [
    "# Loop through wpn sizes and compare solve time for each method on first and next forty iterations\n",
    "for n in range(10, 1211, 200):\n",
    "    print(f\"n = {n}\")\n",
    "    Q = 0.8*np.random.rand(n, n) + 0.1\n",
    "    QQ = Q[0,:]\n",
    "    VV = np.random.rand()*10\n",
    "    data = {'Q':Q, 'QQ':QQ, 'VV':VV, 'v0':1, 's':0}\n",
    "    resolvent = cvxResolvent(data)\n",
    "    resolvent2 = lambertResolvent(data)\n",
    "    np.random.seed(0)\n",
    "    x = np.random.rand(n, n)\n",
    "    t = time()\n",
    "    y = resolvent(x)\n",
    "    print(f\"cvxpy initial: {time()-t}\")\n",
    "\n",
    "    t = time()\n",
    "    y = resolvent2(x)\n",
    "    print(f\"lambert initial: {time()-t}\")\n",
    "\n",
    "    a = x\n",
    "    t = time()\n",
    "    for i in range(100):\n",
    "        a = resolvent(a)\n",
    "    print(f\"cvxpy: {time()-t}\")\n",
    "\n",
    "\n",
    "    a = x\n",
    "    t = time()\n",
    "    for i in range(100):\n",
    "        a = resolvent2(a)\n",
    "    print(f\"lambert: {time()-t}\")\n",
    "    # print(\"cvxpy\")\n",
    "    # %timeit resolvent(x)\n",
    "    # print(\"lambert\")\n",
    "    # %timeit resolvent2(x)"
   ]
  },
  {
   "cell_type": "code",
   "execution_count": 49,
   "metadata": {},
   "outputs": [
    {
     "name": "stdout",
     "output_type": "stream",
     "text": [
      "cvxpy\n",
      "38.6 ms ± 4.69 ms per loop (mean ± std. dev. of 7 runs, 10 loops each)\n",
      "lambert\n",
      "29.8 µs ± 3.75 µs per loop (mean ± std. dev. of 7 runs, 10,000 loops each)\n"
     ]
    }
   ],
   "source": [
    "\n",
    "print(\"cvxpy\")\n",
    "%timeit resolvent(x)\n",
    "print(\"lambert\")\n",
    "%timeit resolvent2(x)"
   ]
  },
  {
   "cell_type": "code",
   "execution_count": 46,
   "metadata": {},
   "outputs": [],
   "source": [
    "y1 = resolvent(np.zeros((n,n)))\n",
    "y2 = resolvent2(np.zeros((n,n)))\n",
    "\n",
    "assert(np.isclose(y1, y2, atol=1e-4).all())"
   ]
  },
  {
   "cell_type": "code",
   "execution_count": null,
   "metadata": {},
   "outputs": [],
   "source": []
  }
 ],
 "metadata": {
  "kernelspec": {
   "display_name": "base",
   "language": "python",
   "name": "python3"
  },
  "language_info": {
   "codemirror_mode": {
    "name": "ipython",
    "version": 3
   },
   "file_extension": ".py",
   "mimetype": "text/x-python",
   "name": "python",
   "nbconvert_exporter": "python",
   "pygments_lexer": "ipython3",
   "version": "3.11.4"
  }
 },
 "nbformat": 4,
 "nbformat_minor": 2
}
