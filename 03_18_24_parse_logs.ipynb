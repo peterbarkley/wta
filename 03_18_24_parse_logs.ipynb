{
 "cells": [
  {
   "cell_type": "code",
   "execution_count": 3,
   "metadata": {},
   "outputs": [],
   "source": [
    "# Import log json file and view Gantt chart of the log\n",
    "import json\n",
    "import pandas as pd\n",
    "import matplotlib.pyplot as plt\n",
    "import plotly.express as px"
   ]
  },
  {
   "cell_type": "code",
   "execution_count": 17,
   "metadata": {},
   "outputs": [],
   "source": [
    "\n",
    "def graphResults(logs, labels, ref, title, subtitle):\n",
    "    '''Graph the results'''\n",
    "\n",
    "    i=0\n",
    "    for log in logs:\n",
    "        if labels:\n",
    "            plt.plot(log, label=labels[i])\n",
    "        else:\n",
    "            plt.plot(log)\n",
    "        i+=1\n",
    "    \n",
    "    # Horizontal line for reference\n",
    "    plt.axhline(y=ref, color='red', linestyle='dashed')\n",
    "    \n",
    "    # Add labels\n",
    "    plt.xlabel('Iteration')\n",
    "    plt.ylabel('Value')\n",
    "    plt.title(subtitle)\n",
    "    plt.suptitle(title)\n",
    "    # Add legend\n",
    "    plt.legend()\n",
    "    #plt.show()\n",
    "\n",
    "    # Save the figure\n",
    "    timestamp = time()\n",
    "    plt.savefig(title+str(timestamp)+'.png')\n",
    "\n",
    "def getDataGantt(logs, title):\n",
    "    n = len(logs)\n",
    "    #tt, s, x = getCycleTime(t, l, L, W)\n",
    "    dflist = []\n",
    "\n",
    "    j = 0\n",
    "    for log in logs: # Node logs\n",
    "        i = 0\n",
    "        for iterlog in log: # Operations\n",
    "            if i > 50:\n",
    "                break\n",
    "            start = iterlog['start']\n",
    "            stop = iterlog['end']\n",
    "            if j==0 and i==0:\n",
    "                offset = start\n",
    "            start = start - offset\n",
    "            stop = stop - offset\n",
    "            #start = s[i,j]\n",
    "            #stop = start + t[j]\n",
    "            dflist.append(dict(Task=\"Iter %s\" % i, Start=start, Finish=stop, Resource=\"Node %s\" % j))\n",
    "            i += 1\n",
    "        j += 1\n",
    "    df = pd.DataFrame(dflist)\n",
    "    df['delta'] = df['Finish'] - df['Start']\n",
    "    # Export df to csv\n",
    "    #df.to_csv(title+'.csv')\n",
    "\n",
    "    fig = px.timeline(df, x_start=\"Start\", x_end=\"Finish\", y=\"Resource\", color=\"Task\")\n",
    "    fig.update_yaxes(autorange=\"reversed\") \n",
    "\n",
    "    fig.layout.xaxis.type = 'linear'\n",
    "    for d in fig.data:\n",
    "        filt = df['Task'] == d.name\n",
    "        d.x = df[filt]['delta'].tolist()\n",
    "\n",
    "    fig.update_layout(title_text=title)\n",
    "    return fig\n"
   ]
  },
  {
   "cell_type": "code",
   "execution_count": 7,
   "metadata": {},
   "outputs": [],
   "source": [
    "# Import log file logs_lambert1710*.json\n",
    "log = 'logs_lambert_analysis.json'\n",
    "with open(log) as f:\n",
    "    data = json.load(f)\n",
    "\n",
    "# Data is a list of lists with the following structure:\n",
    "# data = [[node1_1, node1_2, ... ],[node2_1, node2_2, ...],...]\n",
    "# where log1 is a dictionary with the following structure:\n",
    "# log1 = {'start': 0, 'stop': 0, 'value': 0, 'time': 0}\n",
    "\n"
   ]
  },
  {
   "cell_type": "code",
   "execution_count": 9,
   "metadata": {},
   "outputs": [
    {
     "data": {
      "text/plain": [
       "13.778461657303929"
      ]
     },
     "execution_count": 9,
     "metadata": {},
     "output_type": "execute_result"
    }
   ],
   "source": [
    "data[-1][-1]['value']\n"
   ]
  },
  {
   "cell_type": "code",
   "execution_count": 18,
   "metadata": {},
   "outputs": [
    {
     "data": {
      "application/vnd.plotly.v1+json": {
       "config": {
        "plotlyServerURL": "https://plot.ly"
       },
       "data": [
        {
         "alignmentgroup": "True",
         "base": [
          0,
          0.00024890899658203125,
          0.0004286766052246094,
          0.0006082057952880859,
          0.0007865428924560547,
          0.0009677410125732422,
          0.0011508464813232422
         ],
         "hovertemplate": "Task=Iter 0<br>Start=%{base}<br>Finish=%{x}<br>Resource=%{y}<extra></extra>",
         "legendgroup": "Iter 0",
         "marker": {
          "color": "#636efa",
          "pattern": {
           "shape": ""
          }
         },
         "name": "Iter 0",
         "offsetgroup": "Iter 0",
         "orientation": "h",
         "showlegend": true,
         "textposition": "auto",
         "type": "bar",
         "x": [
          0.000051021575927734375,
          0.000018835067749023438,
          0.0000171661376953125,
          0.00001621246337890625,
          0.00001621246337890625,
          0.00001621246337890625,
          0.00014400482177734375
         ],
         "xaxis": "x",
         "y": [
          "Node 0",
          "Node 1",
          "Node 2",
          "Node 3",
          "Node 4",
          "Node 5",
          "Node 6"
         ],
         "yaxis": "y"
        },
        {
         "alignmentgroup": "True",
         "base": [
          0.0014808177947998047,
          0.0016584396362304688,
          0.001832723617553711,
          0.0020084381103515625,
          0.0021936893463134766,
          0.0023806095123291016,
          0.0025637149810791016
         ],
         "hovertemplate": "Task=Iter 1<br>Start=%{base}<br>Finish=%{x}<br>Resource=%{y}<extra></extra>",
         "legendgroup": "Iter 1",
         "marker": {
          "color": "#EF553B",
          "pattern": {
           "shape": ""
          }
         },
         "name": "Iter 1",
         "offsetgroup": "Iter 1",
         "orientation": "h",
         "showlegend": true,
         "textposition": "auto",
         "type": "bar",
         "x": [
          0.000017642974853515625,
          0.000016450881958007812,
          0.000015974044799804688,
          0.000015974044799804688,
          0.00001621246337890625,
          0.00001621246337890625,
          0.00013303756713867188
         ],
         "xaxis": "x",
         "y": [
          "Node 0",
          "Node 1",
          "Node 2",
          "Node 3",
          "Node 4",
          "Node 5",
          "Node 6"
         ],
         "yaxis": "y"
        },
        {
         "alignmentgroup": "True",
         "base": [
          0.002847909927368164,
          0.0030236244201660156,
          0.003204822540283203,
          0.0033855438232421875,
          0.00356292724609375,
          0.003741741180419922,
          0.003923654556274414
         ],
         "hovertemplate": "Task=Iter 2<br>Start=%{base}<br>Finish=%{x}<br>Resource=%{y}<extra></extra>",
         "legendgroup": "Iter 2",
         "marker": {
          "color": "#00cc96",
          "pattern": {
           "shape": ""
          }
         },
         "name": "Iter 2",
         "offsetgroup": "Iter 2",
         "orientation": "h",
         "showlegend": true,
         "textposition": "auto",
         "type": "bar",
         "x": [
          0.0000171661376953125,
          0.000015735626220703125,
          0.0000152587890625,
          0.000015497207641601562,
          0.000015497207641601562,
          0.000015974044799804688,
          0.00013256072998046875
         ],
         "xaxis": "x",
         "y": [
          "Node 0",
          "Node 1",
          "Node 2",
          "Node 3",
          "Node 4",
          "Node 5",
          "Node 6"
         ],
         "yaxis": "y"
        },
        {
         "alignmentgroup": "True",
         "base": [
          0.004213094711303711,
          0.00439000129699707,
          0.004562854766845703,
          0.00473785400390625,
          0.004914999008178711,
          0.005095243453979492,
          0.005290508270263672
         ],
         "hovertemplate": "Task=Iter 3<br>Start=%{base}<br>Finish=%{x}<br>Resource=%{y}<extra></extra>",
         "legendgroup": "Iter 3",
         "marker": {
          "color": "#ab63fa",
          "pattern": {
           "shape": ""
          }
         },
         "name": "Iter 3",
         "offsetgroup": "Iter 3",
         "orientation": "h",
         "showlegend": true,
         "textposition": "auto",
         "type": "bar",
         "x": [
          0.000017404556274414062,
          0.000015497207641601562,
          0.000015497207641601562,
          0.000015497207641601562,
          0.000015735626220703125,
          0.000015974044799804688,
          0.00013303756713867188
         ],
         "xaxis": "x",
         "y": [
          "Node 0",
          "Node 1",
          "Node 2",
          "Node 3",
          "Node 4",
          "Node 5",
          "Node 6"
         ],
         "yaxis": "y"
        },
        {
         "alignmentgroup": "True",
         "base": [
          0.005574226379394531,
          0.005750179290771484,
          0.005923271179199219,
          0.0060994625091552734,
          0.006340503692626953,
          0.006526947021484375,
          0.0067081451416015625
         ],
         "hovertemplate": "Task=Iter 4<br>Start=%{base}<br>Finish=%{x}<br>Resource=%{y}<extra></extra>",
         "legendgroup": "Iter 4",
         "marker": {
          "color": "#FFA15A",
          "pattern": {
           "shape": ""
          }
         },
         "name": "Iter 4",
         "offsetgroup": "Iter 4",
         "orientation": "h",
         "showlegend": true,
         "textposition": "auto",
         "type": "bar",
         "x": [
          0.0000171661376953125,
          0.000015735626220703125,
          0.000015497207641601562,
          0.000015735626220703125,
          0.000018358230590820312,
          0.000015974044799804688,
          0.00013136863708496094
         ],
         "xaxis": "x",
         "y": [
          "Node 0",
          "Node 1",
          "Node 2",
          "Node 3",
          "Node 4",
          "Node 5",
          "Node 6"
         ],
         "yaxis": "y"
        },
        {
         "alignmentgroup": "True",
         "base": [
          0.006987571716308594,
          0.007171154022216797,
          0.007349967956542969,
          0.007524013519287109,
          0.007699012756347656,
          0.007877588272094727,
          0.008057117462158203
         ],
         "hovertemplate": "Task=Iter 5<br>Start=%{base}<br>Finish=%{x}<br>Resource=%{y}<extra></extra>",
         "legendgroup": "Iter 5",
         "marker": {
          "color": "#19d3f3",
          "pattern": {
           "shape": ""
          }
         },
         "name": "Iter 5",
         "offsetgroup": "Iter 5",
         "orientation": "h",
         "showlegend": true,
         "textposition": "auto",
         "type": "bar",
         "x": [
          0.0000171661376953125,
          0.000015974044799804688,
          0.000015735626220703125,
          0.0000152587890625,
          0.000015974044799804688,
          0.000015497207641601562,
          0.00013875961303710938
         ],
         "xaxis": "x",
         "y": [
          "Node 0",
          "Node 1",
          "Node 2",
          "Node 3",
          "Node 4",
          "Node 5",
          "Node 6"
         ],
         "yaxis": "y"
        },
        {
         "alignmentgroup": "True",
         "base": [
          0.008350372314453125,
          0.008524656295776367,
          0.008695840835571289,
          0.008869171142578125,
          0.009045839309692383,
          0.009229183197021484,
          0.009409427642822266
         ],
         "hovertemplate": "Task=Iter 6<br>Start=%{base}<br>Finish=%{x}<br>Resource=%{y}<extra></extra>",
         "legendgroup": "Iter 6",
         "marker": {
          "color": "#FF6692",
          "pattern": {
           "shape": ""
          }
         },
         "name": "Iter 6",
         "offsetgroup": "Iter 6",
         "orientation": "h",
         "showlegend": true,
         "textposition": "auto",
         "type": "bar",
         "x": [
          0.000016927719116210938,
          0.000015497207641601562,
          0.000015735626220703125,
          0.000015974044799804688,
          0.000015735626220703125,
          0.000015974044799804688,
          0.00013256072998046875
         ],
         "xaxis": "x",
         "y": [
          "Node 0",
          "Node 1",
          "Node 2",
          "Node 3",
          "Node 4",
          "Node 5",
          "Node 6"
         ],
         "yaxis": "y"
        },
        {
         "alignmentgroup": "True",
         "base": [
          0.009690046310424805,
          0.009865283966064453,
          0.010038375854492188,
          0.010219097137451172,
          0.010395288467407227,
          0.010573863983154297,
          0.010754108428955078
         ],
         "hovertemplate": "Task=Iter 7<br>Start=%{base}<br>Finish=%{x}<br>Resource=%{y}<extra></extra>",
         "legendgroup": "Iter 7",
         "marker": {
          "color": "#B6E880",
          "pattern": {
           "shape": ""
          }
         },
         "name": "Iter 7",
         "offsetgroup": "Iter 7",
         "orientation": "h",
         "showlegend": true,
         "textposition": "auto",
         "type": "bar",
         "x": [
          0.000017404556274414062,
          0.000015735626220703125,
          0.000015735626220703125,
          0.000015974044799804688,
          0.000015735626220703125,
          0.00001621246337890625,
          0.0001347064971923828
         ],
         "xaxis": "x",
         "y": [
          "Node 0",
          "Node 1",
          "Node 2",
          "Node 3",
          "Node 4",
          "Node 5",
          "Node 6"
         ],
         "yaxis": "y"
        },
        {
         "alignmentgroup": "True",
         "base": [
          0.01103663444519043,
          0.01121830940246582,
          0.01139068603515625,
          0.01156473159790039,
          0.011740446090698242,
          0.011919021606445312,
          0.012099504470825195
         ],
         "hovertemplate": "Task=Iter 8<br>Start=%{base}<br>Finish=%{x}<br>Resource=%{y}<extra></extra>",
         "legendgroup": "Iter 8",
         "marker": {
          "color": "#FF97FF",
          "pattern": {
           "shape": ""
          }
         },
         "name": "Iter 8",
         "offsetgroup": "Iter 8",
         "orientation": "h",
         "showlegend": true,
         "textposition": "auto",
         "type": "bar",
         "x": [
          0.000017404556274414062,
          0.000015497207641601562,
          0.000015497207641601562,
          0.000015497207641601562,
          0.000015735626220703125,
          0.000015735626220703125,
          0.0001404285430908203
         ],
         "xaxis": "x",
         "y": [
          "Node 0",
          "Node 1",
          "Node 2",
          "Node 3",
          "Node 4",
          "Node 5",
          "Node 6"
         ],
         "yaxis": "y"
        },
        {
         "alignmentgroup": "True",
         "base": [
          0.012388229370117188,
          0.012562751770019531,
          0.012735366821289062,
          0.012908697128295898,
          0.01308584213256836,
          0.013269424438476562,
          0.013451576232910156
         ],
         "hovertemplate": "Task=Iter 9<br>Start=%{base}<br>Finish=%{x}<br>Resource=%{y}<extra></extra>",
         "legendgroup": "Iter 9",
         "marker": {
          "color": "#FECB52",
          "pattern": {
           "shape": ""
          }
         },
         "name": "Iter 9",
         "offsetgroup": "Iter 9",
         "orientation": "h",
         "showlegend": true,
         "textposition": "auto",
         "type": "bar",
         "x": [
          0.000017404556274414062,
          0.000015735626220703125,
          0.000015497207641601562,
          0.000015497207641601562,
          0.000015735626220703125,
          0.00001621246337890625,
          0.00013303756713867188
         ],
         "xaxis": "x",
         "y": [
          "Node 0",
          "Node 1",
          "Node 2",
          "Node 3",
          "Node 4",
          "Node 5",
          "Node 6"
         ],
         "yaxis": "y"
        },
        {
         "alignmentgroup": "True",
         "base": [
          0.013744592666625977,
          0.013919591903686523,
          0.01409149169921875,
          0.014272212982177734,
          0.014448404312133789,
          0.014627218246459961,
          0.014809131622314453
         ],
         "hovertemplate": "Task=Iter 10<br>Start=%{base}<br>Finish=%{x}<br>Resource=%{y}<extra></extra>",
         "legendgroup": "Iter 10",
         "marker": {
          "color": "#636efa",
          "pattern": {
           "shape": ""
          }
         },
         "name": "Iter 10",
         "offsetgroup": "Iter 10",
         "orientation": "h",
         "showlegend": true,
         "textposition": "auto",
         "type": "bar",
         "x": [
          0.000017404556274414062,
          0.000015735626220703125,
          0.000015497207641601562,
          0.000015735626220703125,
          0.000015974044799804688,
          0.000015735626220703125,
          0.0001392364501953125
         ],
         "xaxis": "x",
         "y": [
          "Node 0",
          "Node 1",
          "Node 2",
          "Node 3",
          "Node 4",
          "Node 5",
          "Node 6"
         ],
         "yaxis": "y"
        },
        {
         "alignmentgroup": "True",
         "base": [
          0.015118598937988281,
          0.015300989151000977,
          0.015475273132324219,
          0.01564931869506836,
          0.01582646369934082,
          0.0160064697265625,
          0.016193151473999023
         ],
         "hovertemplate": "Task=Iter 11<br>Start=%{base}<br>Finish=%{x}<br>Resource=%{y}<extra></extra>",
         "legendgroup": "Iter 11",
         "marker": {
          "color": "#EF553B",
          "pattern": {
           "shape": ""
          }
         },
         "name": "Iter 11",
         "offsetgroup": "Iter 11",
         "orientation": "h",
         "showlegend": true,
         "textposition": "auto",
         "type": "bar",
         "x": [
          0.000016927719116210938,
          0.000015497207641601562,
          0.000015497207641601562,
          0.000015735626220703125,
          0.00001621246337890625,
          0.000015974044799804688,
          0.0001327991485595703
         ],
         "xaxis": "x",
         "y": [
          "Node 0",
          "Node 1",
          "Node 2",
          "Node 3",
          "Node 4",
          "Node 5",
          "Node 6"
         ],
         "yaxis": "y"
        },
        {
         "alignmentgroup": "True",
         "base": [
          0.016474008560180664,
          0.016648054122924805,
          0.016819477081298828,
          0.016994476318359375,
          0.017177820205688477,
          0.017357587814331055,
          0.017539024353027344
         ],
         "hovertemplate": "Task=Iter 12<br>Start=%{base}<br>Finish=%{x}<br>Resource=%{y}<extra></extra>",
         "legendgroup": "Iter 12",
         "marker": {
          "color": "#00cc96",
          "pattern": {
           "shape": ""
          }
         },
         "name": "Iter 12",
         "offsetgroup": "Iter 12",
         "orientation": "h",
         "showlegend": true,
         "textposition": "auto",
         "type": "bar",
         "x": [
          0.0000171661376953125,
          0.000015497207641601562,
          0.000015735626220703125,
          0.000015497207641601562,
          0.000015974044799804688,
          0.000015974044799804688,
          0.00013303756713867188
         ],
         "xaxis": "x",
         "y": [
          "Node 0",
          "Node 1",
          "Node 2",
          "Node 3",
          "Node 4",
          "Node 5",
          "Node 6"
         ],
         "yaxis": "y"
        },
        {
         "alignmentgroup": "True",
         "base": [
          0.017820119857788086,
          0.017994165420532227,
          0.01817178726196289,
          0.018346309661865234,
          0.018521785736083984,
          0.018700122833251953,
          0.018880128860473633
         ],
         "hovertemplate": "Task=Iter 13<br>Start=%{base}<br>Finish=%{x}<br>Resource=%{y}<extra></extra>",
         "legendgroup": "Iter 13",
         "marker": {
          "color": "#ab63fa",
          "pattern": {
           "shape": ""
          }
         },
         "name": "Iter 13",
         "offsetgroup": "Iter 13",
         "orientation": "h",
         "showlegend": true,
         "textposition": "auto",
         "type": "bar",
         "x": [
          0.0000171661376953125,
          0.000015497207641601562,
          0.000015497207641601562,
          0.000015735626220703125,
          0.000015497207641601562,
          0.000015735626220703125,
          0.0001327991485595703
         ],
         "xaxis": "x",
         "y": [
          "Node 0",
          "Node 1",
          "Node 2",
          "Node 3",
          "Node 4",
          "Node 5",
          "Node 6"
         ],
         "yaxis": "y"
        },
        {
         "alignmentgroup": "True",
         "base": [
          0.019167661666870117,
          0.01934218406677246,
          0.019514083862304688,
          0.019688129425048828,
          0.01986384391784668,
          0.020041942596435547,
          0.02023029327392578
         ],
         "hovertemplate": "Task=Iter 14<br>Start=%{base}<br>Finish=%{x}<br>Resource=%{y}<extra></extra>",
         "legendgroup": "Iter 14",
         "marker": {
          "color": "#FFA15A",
          "pattern": {
           "shape": ""
          }
         },
         "name": "Iter 14",
         "offsetgroup": "Iter 14",
         "orientation": "h",
         "showlegend": true,
         "textposition": "auto",
         "type": "bar",
         "x": [
          0.000017404556274414062,
          0.000015735626220703125,
          0.000015497207641601562,
          0.000015497207641601562,
          0.000015974044799804688,
          0.000015735626220703125,
          0.0001323223114013672
         ],
         "xaxis": "x",
         "y": [
          "Node 0",
          "Node 1",
          "Node 2",
          "Node 3",
          "Node 4",
          "Node 5",
          "Node 6"
         ],
         "yaxis": "y"
        },
        {
         "alignmentgroup": "True",
         "base": [
          0.020510435104370117,
          0.02068495750427246,
          0.020857810974121094,
          0.021038532257080078,
          0.021222829818725586,
          0.021407365798950195,
          0.02158832550048828
         ],
         "hovertemplate": "Task=Iter 15<br>Start=%{base}<br>Finish=%{x}<br>Resource=%{y}<extra></extra>",
         "legendgroup": "Iter 15",
         "marker": {
          "color": "#19d3f3",
          "pattern": {
           "shape": ""
          }
         },
         "name": "Iter 15",
         "offsetgroup": "Iter 15",
         "orientation": "h",
         "showlegend": true,
         "textposition": "auto",
         "type": "bar",
         "x": [
          0.000016927719116210938,
          0.000015497207641601562,
          0.000020265579223632812,
          0.000015735626220703125,
          0.000015974044799804688,
          0.000015735626220703125,
          0.00013256072998046875
         ],
         "xaxis": "x",
         "y": [
          "Node 0",
          "Node 1",
          "Node 2",
          "Node 3",
          "Node 4",
          "Node 5",
          "Node 6"
         ],
         "yaxis": "y"
        },
        {
         "alignmentgroup": "True",
         "base": [
          0.021869421005249023,
          0.02204418182373047,
          0.022223234176635742,
          0.022397994995117188,
          0.022574186325073242,
          0.02275252342224121,
          0.022933244705200195
         ],
         "hovertemplate": "Task=Iter 16<br>Start=%{base}<br>Finish=%{x}<br>Resource=%{y}<extra></extra>",
         "legendgroup": "Iter 16",
         "marker": {
          "color": "#FF6692",
          "pattern": {
           "shape": ""
          }
         },
         "name": "Iter 16",
         "offsetgroup": "Iter 16",
         "orientation": "h",
         "showlegend": true,
         "textposition": "auto",
         "type": "bar",
         "x": [
          0.0000171661376953125,
          0.000015497207641601562,
          0.000015497207641601562,
          0.000015735626220703125,
          0.0000152587890625,
          0.000015735626220703125,
          0.0001316070556640625
         ],
         "xaxis": "x",
         "y": [
          "Node 0",
          "Node 1",
          "Node 2",
          "Node 3",
          "Node 4",
          "Node 5",
          "Node 6"
         ],
         "yaxis": "y"
        },
        {
         "alignmentgroup": "True",
         "base": [
          0.023218631744384766,
          0.023396968841552734,
          0.023569345474243164,
          0.0237429141998291,
          0.023919105529785156,
          0.024097919464111328,
          0.02428412437438965
         ],
         "hovertemplate": "Task=Iter 17<br>Start=%{base}<br>Finish=%{x}<br>Resource=%{y}<extra></extra>",
         "legendgroup": "Iter 17",
         "marker": {
          "color": "#B6E880",
          "pattern": {
           "shape": ""
          }
         },
         "name": "Iter 17",
         "offsetgroup": "Iter 17",
         "orientation": "h",
         "showlegend": true,
         "textposition": "auto",
         "type": "bar",
         "x": [
          0.00002002716064453125,
          0.0000152587890625,
          0.000015497207641601562,
          0.0000152587890625,
          0.000015497207641601562,
          0.0000152587890625,
          0.0001323223114013672
         ],
         "xaxis": "x",
         "y": [
          "Node 0",
          "Node 1",
          "Node 2",
          "Node 3",
          "Node 4",
          "Node 5",
          "Node 6"
         ],
         "yaxis": "y"
        },
        {
         "alignmentgroup": "True",
         "base": [
          0.02456378936767578,
          0.024738073348999023,
          0.02491283416748047,
          0.025086402893066406,
          0.025266170501708984,
          0.025443553924560547,
          0.025622129440307617
         ],
         "hovertemplate": "Task=Iter 18<br>Start=%{base}<br>Finish=%{x}<br>Resource=%{y}<extra></extra>",
         "legendgroup": "Iter 18",
         "marker": {
          "color": "#FF97FF",
          "pattern": {
           "shape": ""
          }
         },
         "name": "Iter 18",
         "offsetgroup": "Iter 18",
         "orientation": "h",
         "showlegend": true,
         "textposition": "auto",
         "type": "bar",
         "x": [
          0.0000171661376953125,
          0.000015735626220703125,
          0.000015497207641601562,
          0.000015497207641601562,
          0.000015974044799804688,
          0.000015497207641601562,
          0.00013065338134765625
         ],
         "xaxis": "x",
         "y": [
          "Node 0",
          "Node 1",
          "Node 2",
          "Node 3",
          "Node 4",
          "Node 5",
          "Node 6"
         ],
         "yaxis": "y"
        },
        {
         "alignmentgroup": "True",
         "base": [
          0.025899410247802734,
          0.026071548461914062,
          0.02624797821044922,
          0.026421308517456055,
          0.026595592498779297,
          0.026772260665893555,
          0.02695488929748535
         ],
         "hovertemplate": "Task=Iter 19<br>Start=%{base}<br>Finish=%{x}<br>Resource=%{y}<extra></extra>",
         "legendgroup": "Iter 19",
         "marker": {
          "color": "#FECB52",
          "pattern": {
           "shape": ""
          }
         },
         "name": "Iter 19",
         "offsetgroup": "Iter 19",
         "orientation": "h",
         "showlegend": true,
         "textposition": "auto",
         "type": "bar",
         "x": [
          0.000016927719116210938,
          0.000015735626220703125,
          0.000015735626220703125,
          0.000015497207641601562,
          0.000015735626220703125,
          0.000015974044799804688,
          0.00012969970703125
         ],
         "xaxis": "x",
         "y": [
          "Node 0",
          "Node 1",
          "Node 2",
          "Node 3",
          "Node 4",
          "Node 5",
          "Node 6"
         ],
         "yaxis": "y"
        },
        {
         "alignmentgroup": "True",
         "base": [
          0.027247905731201172,
          0.02742171287536621,
          0.027591943740844727,
          0.027764081954956055,
          0.0279390811920166,
          0.02811717987060547,
          0.028309345245361328
         ],
         "hovertemplate": "Task=Iter 20<br>Start=%{base}<br>Finish=%{x}<br>Resource=%{y}<extra></extra>",
         "legendgroup": "Iter 20",
         "marker": {
          "color": "#636efa",
          "pattern": {
           "shape": ""
          }
         },
         "name": "Iter 20",
         "offsetgroup": "Iter 20",
         "orientation": "h",
         "showlegend": true,
         "textposition": "auto",
         "type": "bar",
         "x": [
          0.000017881393432617188,
          0.000015735626220703125,
          0.000015735626220703125,
          0.000015497207641601562,
          0.000015974044799804688,
          0.000015497207641601562,
          0.0001316070556640625
         ],
         "xaxis": "x",
         "y": [
          "Node 0",
          "Node 1",
          "Node 2",
          "Node 3",
          "Node 4",
          "Node 5",
          "Node 6"
         ],
         "yaxis": "y"
        },
        {
         "alignmentgroup": "True",
         "base": [
          0.028611183166503906,
          0.02878570556640625,
          0.028956890106201172,
          0.029129505157470703,
          0.02931833267211914,
          0.029496431350708008,
          0.029675006866455078
         ],
         "hovertemplate": "Task=Iter 21<br>Start=%{base}<br>Finish=%{x}<br>Resource=%{y}<extra></extra>",
         "legendgroup": "Iter 21",
         "marker": {
          "color": "#EF553B",
          "pattern": {
           "shape": ""
          }
         },
         "name": "Iter 21",
         "offsetgroup": "Iter 21",
         "orientation": "h",
         "showlegend": true,
         "textposition": "auto",
         "type": "bar",
         "x": [
          0.000016689300537109375,
          0.000015497207641601562,
          0.000015497207641601562,
          0.000015974044799804688,
          0.000015497207641601562,
          0.000015974044799804688,
          0.0001323223114013672
         ],
         "xaxis": "x",
         "y": [
          "Node 0",
          "Node 1",
          "Node 2",
          "Node 3",
          "Node 4",
          "Node 5",
          "Node 6"
         ],
         "yaxis": "y"
        },
        {
         "alignmentgroup": "True",
         "base": [
          0.029954910278320312,
          0.030132532119750977,
          0.030309438705444336,
          0.03048253059387207,
          0.030658721923828125,
          0.03083658218383789,
          0.031014680862426758
         ],
         "hovertemplate": "Task=Iter 22<br>Start=%{base}<br>Finish=%{x}<br>Resource=%{y}<extra></extra>",
         "legendgroup": "Iter 22",
         "marker": {
          "color": "#00cc96",
          "pattern": {
           "shape": ""
          }
         },
         "name": "Iter 22",
         "offsetgroup": "Iter 22",
         "orientation": "h",
         "showlegend": true,
         "textposition": "auto",
         "type": "bar",
         "x": [
          0.0000171661376953125,
          0.000015735626220703125,
          0.000015497207641601562,
          0.000015735626220703125,
          0.000015497207641601562,
          0.000015974044799804688,
          0.00013184547424316406
         ],
         "xaxis": "x",
         "y": [
          "Node 0",
          "Node 1",
          "Node 2",
          "Node 3",
          "Node 4",
          "Node 5",
          "Node 6"
         ],
         "yaxis": "y"
        },
        {
         "alignmentgroup": "True",
         "base": [
          0.03130650520324707,
          0.03148007392883301,
          0.03165149688720703,
          0.03182530403137207,
          0.032001495361328125,
          0.032186269760131836,
          0.03237032890319824
         ],
         "hovertemplate": "Task=Iter 23<br>Start=%{base}<br>Finish=%{x}<br>Resource=%{y}<extra></extra>",
         "legendgroup": "Iter 23",
         "marker": {
          "color": "#ab63fa",
          "pattern": {
           "shape": ""
          }
         },
         "name": "Iter 23",
         "offsetgroup": "Iter 23",
         "orientation": "h",
         "showlegend": true,
         "textposition": "auto",
         "type": "bar",
         "x": [
          0.0000171661376953125,
          0.000015735626220703125,
          0.000015497207641601562,
          0.000015497207641601562,
          0.000015497207641601562,
          0.000016450881958007812,
          0.00013184547424316406
         ],
         "xaxis": "x",
         "y": [
          "Node 0",
          "Node 1",
          "Node 2",
          "Node 3",
          "Node 4",
          "Node 5",
          "Node 6"
         ],
         "yaxis": "y"
        },
        {
         "alignmentgroup": "True",
         "base": [
          0.03264927864074707,
          0.032822370529174805,
          0.03299522399902344,
          0.03318166732788086,
          0.03335690498352051,
          0.033539533615112305,
          0.03371882438659668
         ],
         "hovertemplate": "Task=Iter 24<br>Start=%{base}<br>Finish=%{x}<br>Resource=%{y}<extra></extra>",
         "legendgroup": "Iter 24",
         "marker": {
          "color": "#FFA15A",
          "pattern": {
           "shape": ""
          }
         },
         "name": "Iter 24",
         "offsetgroup": "Iter 24",
         "orientation": "h",
         "showlegend": true,
         "textposition": "auto",
         "type": "bar",
         "x": [
          0.000016689300537109375,
          0.00001621246337890625,
          0.000015497207641601562,
          0.000015735626220703125,
          0.000015735626220703125,
          0.000015735626220703125,
          0.00013256072998046875
         ],
         "xaxis": "x",
         "y": [
          "Node 0",
          "Node 1",
          "Node 2",
          "Node 3",
          "Node 4",
          "Node 5",
          "Node 6"
         ],
         "yaxis": "y"
        },
        {
         "alignmentgroup": "True",
         "base": [
          0.03399920463562012,
          0.0341792106628418,
          0.03435039520263672,
          0.034528255462646484,
          0.034703731536865234,
          0.034880876541137695,
          0.03505897521972656
         ],
         "hovertemplate": "Task=Iter 25<br>Start=%{base}<br>Finish=%{x}<br>Resource=%{y}<extra></extra>",
         "legendgroup": "Iter 25",
         "marker": {
          "color": "#19d3f3",
          "pattern": {
           "shape": ""
          }
         },
         "name": "Iter 25",
         "offsetgroup": "Iter 25",
         "orientation": "h",
         "showlegend": true,
         "textposition": "auto",
         "type": "bar",
         "x": [
          0.000016689300537109375,
          0.000015735626220703125,
          0.000015735626220703125,
          0.000015735626220703125,
          0.0000152587890625,
          0.000015974044799804688,
          0.0001385211944580078
         ],
         "xaxis": "x",
         "y": [
          "Node 0",
          "Node 1",
          "Node 2",
          "Node 3",
          "Node 4",
          "Node 5",
          "Node 6"
         ],
         "yaxis": "y"
        },
        {
         "alignmentgroup": "True",
         "base": [
          0.03535151481628418,
          0.03552389144897461,
          0.03569436073303223,
          0.03586769104003906,
          0.03604269027709961,
          0.03622841835021973,
          0.0364077091217041
         ],
         "hovertemplate": "Task=Iter 26<br>Start=%{base}<br>Finish=%{x}<br>Resource=%{y}<extra></extra>",
         "legendgroup": "Iter 26",
         "marker": {
          "color": "#FF6692",
          "pattern": {
           "shape": ""
          }
         },
         "name": "Iter 26",
         "offsetgroup": "Iter 26",
         "orientation": "h",
         "showlegend": true,
         "textposition": "auto",
         "type": "bar",
         "x": [
          0.000016689300537109375,
          0.000015735626220703125,
          0.000015497207641601562,
          0.000015735626220703125,
          0.000015497207641601562,
          0.00001621246337890625,
          0.0001316070556640625
         ],
         "xaxis": "x",
         "y": [
          "Node 0",
          "Node 1",
          "Node 2",
          "Node 3",
          "Node 4",
          "Node 5",
          "Node 6"
         ],
         "yaxis": "y"
        },
        {
         "alignmentgroup": "True",
         "base": [
          0.03668665885925293,
          0.03685951232910156,
          0.03702998161315918,
          0.03721284866333008,
          0.03738737106323242,
          0.037564754486083984,
          0.037743568420410156
         ],
         "hovertemplate": "Task=Iter 27<br>Start=%{base}<br>Finish=%{x}<br>Resource=%{y}<extra></extra>",
         "legendgroup": "Iter 27",
         "marker": {
          "color": "#B6E880",
          "pattern": {
           "shape": ""
          }
         },
         "name": "Iter 27",
         "offsetgroup": "Iter 27",
         "orientation": "h",
         "showlegend": true,
         "textposition": "auto",
         "type": "bar",
         "x": [
          0.000016689300537109375,
          0.000015497207641601562,
          0.000015974044799804688,
          0.0000152587890625,
          0.000015974044799804688,
          0.000015735626220703125,
          0.0001323223114013672
         ],
         "xaxis": "x",
         "y": [
          "Node 0",
          "Node 1",
          "Node 2",
          "Node 3",
          "Node 4",
          "Node 5",
          "Node 6"
         ],
         "yaxis": "y"
        },
        {
         "alignmentgroup": "True",
         "base": [
          0.038024187088012695,
          0.03820514678955078,
          0.0383763313293457,
          0.03854870796203613,
          0.03872227668762207,
          0.03890395164489746,
          0.03908705711364746
         ],
         "hovertemplate": "Task=Iter 28<br>Start=%{base}<br>Finish=%{x}<br>Resource=%{y}<extra></extra>",
         "legendgroup": "Iter 28",
         "marker": {
          "color": "#FF97FF",
          "pattern": {
           "shape": ""
          }
         },
         "name": "Iter 28",
         "offsetgroup": "Iter 28",
         "orientation": "h",
         "showlegend": true,
         "textposition": "auto",
         "type": "bar",
         "x": [
          0.0000171661376953125,
          0.000015735626220703125,
          0.000015735626220703125,
          0.0000152587890625,
          0.000015497207641601562,
          0.00001621246337890625,
          0.0001380443572998047
         ],
         "xaxis": "x",
         "y": [
          "Node 0",
          "Node 1",
          "Node 2",
          "Node 3",
          "Node 4",
          "Node 5",
          "Node 6"
         ],
         "yaxis": "y"
        },
        {
         "alignmentgroup": "True",
         "base": [
          0.03937888145446777,
          0.039551496505737305,
          0.03972148895263672,
          0.03989386558532715,
          0.040069580078125,
          0.040255069732666016,
          0.040437936782836914
         ],
         "hovertemplate": "Task=Iter 29<br>Start=%{base}<br>Finish=%{x}<br>Resource=%{y}<extra></extra>",
         "legendgroup": "Iter 29",
         "marker": {
          "color": "#FECB52",
          "pattern": {
           "shape": ""
          }
         },
         "name": "Iter 29",
         "offsetgroup": "Iter 29",
         "orientation": "h",
         "showlegend": true,
         "textposition": "auto",
         "type": "bar",
         "x": [
          0.0000171661376953125,
          0.000015497207641601562,
          0.000015497207641601562,
          0.000015735626220703125,
          0.0000152587890625,
          0.00001811981201171875,
          0.00013065338134765625
         ],
         "xaxis": "x",
         "y": [
          "Node 0",
          "Node 1",
          "Node 2",
          "Node 3",
          "Node 4",
          "Node 5",
          "Node 6"
         ],
         "yaxis": "y"
        },
        {
         "alignmentgroup": "True",
         "base": [
          0.04072713851928711,
          0.040901899337768555,
          0.04107213020324707,
          0.041251182556152344,
          0.041431427001953125,
          0.04160737991333008,
          0.041785478591918945
         ],
         "hovertemplate": "Task=Iter 30<br>Start=%{base}<br>Finish=%{x}<br>Resource=%{y}<extra></extra>",
         "legendgroup": "Iter 30",
         "marker": {
          "color": "#636efa",
          "pattern": {
           "shape": ""
          }
         },
         "name": "Iter 30",
         "offsetgroup": "Iter 30",
         "orientation": "h",
         "showlegend": true,
         "textposition": "auto",
         "type": "bar",
         "x": [
          0.000017404556274414062,
          0.000015497207641601562,
          0.000015497207641601562,
          0.000015974044799804688,
          0.000015735626220703125,
          0.000015735626220703125,
          0.00013017654418945312
         ],
         "xaxis": "x",
         "y": [
          "Node 0",
          "Node 1",
          "Node 2",
          "Node 3",
          "Node 4",
          "Node 5",
          "Node 6"
         ],
         "yaxis": "y"
        },
        {
         "alignmentgroup": "True",
         "base": [
          0.04208493232727051,
          0.042269229888916016,
          0.04243969917297363,
          0.04261326789855957,
          0.042787790298461914,
          0.04296517372131348,
          0.04314374923706055
         ],
         "hovertemplate": "Task=Iter 31<br>Start=%{base}<br>Finish=%{x}<br>Resource=%{y}<extra></extra>",
         "legendgroup": "Iter 31",
         "marker": {
          "color": "#EF553B",
          "pattern": {
           "shape": ""
          }
         },
         "name": "Iter 31",
         "offsetgroup": "Iter 31",
         "orientation": "h",
         "showlegend": true,
         "textposition": "auto",
         "type": "bar",
         "x": [
          0.000016450881958007812,
          0.000015735626220703125,
          0.000015735626220703125,
          0.000015735626220703125,
          0.000015497207641601562,
          0.000015497207641601562,
          0.00014162063598632812
         ],
         "xaxis": "x",
         "y": [
          "Node 0",
          "Node 1",
          "Node 2",
          "Node 3",
          "Node 4",
          "Node 5",
          "Node 6"
         ],
         "yaxis": "y"
        },
        {
         "alignmentgroup": "True",
         "base": [
          0.043433189392089844,
          0.04360628128051758,
          0.043776512145996094,
          0.04394960403442383,
          0.04412508010864258,
          0.04430842399597168,
          0.044493675231933594
         ],
         "hovertemplate": "Task=Iter 32<br>Start=%{base}<br>Finish=%{x}<br>Resource=%{y}<extra></extra>",
         "legendgroup": "Iter 32",
         "marker": {
          "color": "#00cc96",
          "pattern": {
           "shape": ""
          }
         },
         "name": "Iter 32",
         "offsetgroup": "Iter 32",
         "orientation": "h",
         "showlegend": true,
         "textposition": "auto",
         "type": "bar",
         "x": [
          0.000016927719116210938,
          0.000015735626220703125,
          0.000015497207641601562,
          0.000015974044799804688,
          0.000015497207641601562,
          0.000015735626220703125,
          0.00013184547424316406
         ],
         "xaxis": "x",
         "y": [
          "Node 0",
          "Node 1",
          "Node 2",
          "Node 3",
          "Node 4",
          "Node 5",
          "Node 6"
         ],
         "yaxis": "y"
        },
        {
         "alignmentgroup": "True",
         "base": [
          0.04477286338806152,
          0.044946908950805664,
          0.04511857032775879,
          0.0453031063079834,
          0.04547905921936035,
          0.04565763473510742,
          0.04583740234375
         ],
         "hovertemplate": "Task=Iter 33<br>Start=%{base}<br>Finish=%{x}<br>Resource=%{y}<extra></extra>",
         "legendgroup": "Iter 33",
         "marker": {
          "color": "#ab63fa",
          "pattern": {
           "shape": ""
          }
         },
         "name": "Iter 33",
         "offsetgroup": "Iter 33",
         "orientation": "h",
         "showlegend": true,
         "textposition": "auto",
         "type": "bar",
         "x": [
          0.0000171661376953125,
          0.000015735626220703125,
          0.000015974044799804688,
          0.000015974044799804688,
          0.000015735626220703125,
          0.000015735626220703125,
          0.00013208389282226562
         ],
         "xaxis": "x",
         "y": [
          "Node 0",
          "Node 1",
          "Node 2",
          "Node 3",
          "Node 4",
          "Node 5",
          "Node 6"
         ],
         "yaxis": "y"
        },
        {
         "alignmentgroup": "True",
         "base": [
          0.046117305755615234,
          0.04630303382873535,
          0.04647374153137207,
          0.0466463565826416,
          0.04682207107543945,
          0.04700016975402832,
          0.04718756675720215
         ],
         "hovertemplate": "Task=Iter 34<br>Start=%{base}<br>Finish=%{x}<br>Resource=%{y}<extra></extra>",
         "legendgroup": "Iter 34",
         "marker": {
          "color": "#FFA15A",
          "pattern": {
           "shape": ""
          }
         },
         "name": "Iter 34",
         "offsetgroup": "Iter 34",
         "orientation": "h",
         "showlegend": true,
         "textposition": "auto",
         "type": "bar",
         "x": [
          0.0000171661376953125,
          0.000015974044799804688,
          0.000015497207641601562,
          0.000015735626220703125,
          0.0000152587890625,
          0.000015974044799804688,
          0.0001323223114013672
         ],
         "xaxis": "x",
         "y": [
          "Node 0",
          "Node 1",
          "Node 2",
          "Node 3",
          "Node 4",
          "Node 5",
          "Node 6"
         ],
         "yaxis": "y"
        },
        {
         "alignmentgroup": "True",
         "base": [
          0.047467947006225586,
          0.04764151573181152,
          0.047821998596191406,
          0.04799532890319824,
          0.04817795753479004,
          0.04836153984069824,
          0.04854130744934082
         ],
         "hovertemplate": "Task=Iter 35<br>Start=%{base}<br>Finish=%{x}<br>Resource=%{y}<extra></extra>",
         "legendgroup": "Iter 35",
         "marker": {
          "color": "#19d3f3",
          "pattern": {
           "shape": ""
          }
         },
         "name": "Iter 35",
         "offsetgroup": "Iter 35",
         "orientation": "h",
         "showlegend": true,
         "textposition": "auto",
         "type": "bar",
         "x": [
          0.0000171661376953125,
          0.000015735626220703125,
          0.000015497207641601562,
          0.000015497207641601562,
          0.00001621246337890625,
          0.000015974044799804688,
          0.00013327598571777344
         ],
         "xaxis": "x",
         "y": [
          "Node 0",
          "Node 1",
          "Node 2",
          "Node 3",
          "Node 4",
          "Node 5",
          "Node 6"
         ],
         "yaxis": "y"
        },
        {
         "alignmentgroup": "True",
         "base": [
          0.04882240295410156,
          0.0489964485168457,
          0.04917430877685547,
          0.049346923828125,
          0.049521684646606445,
          0.049700260162353516,
          0.049880027770996094
         ],
         "hovertemplate": "Task=Iter 36<br>Start=%{base}<br>Finish=%{x}<br>Resource=%{y}<extra></extra>",
         "legendgroup": "Iter 36",
         "marker": {
          "color": "#FF6692",
          "pattern": {
           "shape": ""
          }
         },
         "name": "Iter 36",
         "offsetgroup": "Iter 36",
         "orientation": "h",
         "showlegend": true,
         "textposition": "auto",
         "type": "bar",
         "x": [
          0.000016689300537109375,
          0.000015735626220703125,
          0.000015735626220703125,
          0.000015735626220703125,
          0.000015735626220703125,
          0.000015974044799804688,
          0.00013136863708496094
         ],
         "xaxis": "x",
         "y": [
          "Node 0",
          "Node 1",
          "Node 2",
          "Node 3",
          "Node 4",
          "Node 5",
          "Node 6"
         ],
         "yaxis": "y"
        },
        {
         "alignmentgroup": "True",
         "base": [
          0.05016469955444336,
          0.05033755302429199,
          0.050507545471191406,
          0.05068039894104004,
          0.05085444450378418,
          0.051030635833740234,
          0.051221370697021484
         ],
         "hovertemplate": "Task=Iter 37<br>Start=%{base}<br>Finish=%{x}<br>Resource=%{y}<extra></extra>",
         "legendgroup": "Iter 37",
         "marker": {
          "color": "#B6E880",
          "pattern": {
           "shape": ""
          }
         },
         "name": "Iter 37",
         "offsetgroup": "Iter 37",
         "orientation": "h",
         "showlegend": true,
         "textposition": "auto",
         "type": "bar",
         "x": [
          0.000017404556274414062,
          0.000015497207641601562,
          0.000015735626220703125,
          0.000015735626220703125,
          0.000015497207641601562,
          0.000016450881958007812,
          0.00013065338134765625
         ],
         "xaxis": "x",
         "y": [
          "Node 0",
          "Node 1",
          "Node 2",
          "Node 3",
          "Node 4",
          "Node 5",
          "Node 6"
         ],
         "yaxis": "y"
        },
        {
         "alignmentgroup": "True",
         "base": [
          0.0514981746673584,
          0.05167055130004883,
          0.051842689514160156,
          0.0520169734954834,
          0.0522007942199707,
          0.05237770080566406,
          0.05255556106567383
         ],
         "hovertemplate": "Task=Iter 38<br>Start=%{base}<br>Finish=%{x}<br>Resource=%{y}<extra></extra>",
         "legendgroup": "Iter 38",
         "marker": {
          "color": "#FF97FF",
          "pattern": {
           "shape": ""
          }
         },
         "name": "Iter 38",
         "offsetgroup": "Iter 38",
         "orientation": "h",
         "showlegend": true,
         "textposition": "auto",
         "type": "bar",
         "x": [
          0.000017404556274414062,
          0.000015735626220703125,
          0.000017642974853515625,
          0.000015735626220703125,
          0.000015974044799804688,
          0.000015735626220703125,
          0.00013113021850585938
         ],
         "xaxis": "x",
         "y": [
          "Node 0",
          "Node 1",
          "Node 2",
          "Node 3",
          "Node 4",
          "Node 5",
          "Node 6"
         ],
         "yaxis": "y"
        },
        {
         "alignmentgroup": "True",
         "base": [
          0.05283355712890625,
          0.05300617218017578,
          0.05318403244018555,
          0.05335688591003418,
          0.05353093147277832,
          0.05370807647705078,
          0.05388689041137695
         ],
         "hovertemplate": "Task=Iter 39<br>Start=%{base}<br>Finish=%{x}<br>Resource=%{y}<extra></extra>",
         "legendgroup": "Iter 39",
         "marker": {
          "color": "#FECB52",
          "pattern": {
           "shape": ""
          }
         },
         "name": "Iter 39",
         "offsetgroup": "Iter 39",
         "orientation": "h",
         "showlegend": true,
         "textposition": "auto",
         "type": "bar",
         "x": [
          0.000016927719116210938,
          0.000015735626220703125,
          0.000015735626220703125,
          0.000015735626220703125,
          0.000015974044799804688,
          0.000015735626220703125,
          0.00013065338134765625
         ],
         "xaxis": "x",
         "y": [
          "Node 0",
          "Node 1",
          "Node 2",
          "Node 3",
          "Node 4",
          "Node 5",
          "Node 6"
         ],
         "yaxis": "y"
        },
        {
         "alignmentgroup": "True",
         "base": [
          0.05418539047241211,
          0.05436110496520996,
          0.054532527923583984,
          0.05470728874206543,
          0.05487966537475586,
          0.0550541877746582,
          0.05523824691772461
         ],
         "hovertemplate": "Task=Iter 40<br>Start=%{base}<br>Finish=%{x}<br>Resource=%{y}<extra></extra>",
         "legendgroup": "Iter 40",
         "marker": {
          "color": "#636efa",
          "pattern": {
           "shape": ""
          }
         },
         "name": "Iter 40",
         "offsetgroup": "Iter 40",
         "orientation": "h",
         "showlegend": true,
         "textposition": "auto",
         "type": "bar",
         "x": [
          0.000018596649169921875,
          0.000015974044799804688,
          0.000015020370483398438,
          0.000015497207641601562,
          0.0000152587890625,
          0.0000152587890625,
          0.0001285076141357422
         ],
         "xaxis": "x",
         "y": [
          "Node 0",
          "Node 1",
          "Node 2",
          "Node 3",
          "Node 4",
          "Node 5",
          "Node 6"
         ],
         "yaxis": "y"
        },
        {
         "alignmentgroup": "True",
         "base": [
          0.05553436279296875,
          0.055703163146972656,
          0.05587053298950195,
          0.056038856506347656,
          0.05621695518493652,
          0.05639171600341797,
          0.05656766891479492
         ],
         "hovertemplate": "Task=Iter 41<br>Start=%{base}<br>Finish=%{x}<br>Resource=%{y}<extra></extra>",
         "legendgroup": "Iter 41",
         "marker": {
          "color": "#EF553B",
          "pattern": {
           "shape": ""
          }
         },
         "name": "Iter 41",
         "offsetgroup": "Iter 41",
         "orientation": "h",
         "showlegend": true,
         "textposition": "auto",
         "type": "bar",
         "x": [
          0.000016450881958007812,
          0.0000152587890625,
          0.0000152587890625,
          0.0000152587890625,
          0.000015497207641601562,
          0.000015735626220703125,
          0.0001289844512939453
         ],
         "xaxis": "x",
         "y": [
          "Node 0",
          "Node 1",
          "Node 2",
          "Node 3",
          "Node 4",
          "Node 5",
          "Node 6"
         ],
         "yaxis": "y"
        },
        {
         "alignmentgroup": "True",
         "base": [
          0.056842803955078125,
          0.057012319564819336,
          0.057187557220458984,
          0.05736231803894043,
          0.05753326416015625,
          0.057706594467163086,
          0.05788254737854004
         ],
         "hovertemplate": "Task=Iter 42<br>Start=%{base}<br>Finish=%{x}<br>Resource=%{y}<extra></extra>",
         "legendgroup": "Iter 42",
         "marker": {
          "color": "#00cc96",
          "pattern": {
           "shape": ""
          }
         },
         "name": "Iter 42",
         "offsetgroup": "Iter 42",
         "orientation": "h",
         "showlegend": true,
         "textposition": "auto",
         "type": "bar",
         "x": [
          0.000016689300537109375,
          0.0000152587890625,
          0.0000152587890625,
          0.0000152587890625,
          0.000015497207641601562,
          0.0000152587890625,
          0.00012874603271484375
         ],
         "xaxis": "x",
         "y": [
          "Node 0",
          "Node 1",
          "Node 2",
          "Node 3",
          "Node 4",
          "Node 5",
          "Node 6"
         ],
         "yaxis": "y"
        },
        {
         "alignmentgroup": "True",
         "base": [
          0.0581660270690918,
          0.058338165283203125,
          0.05850505828857422,
          0.058675527572631836,
          0.058846235275268555,
          0.05901980400085449,
          0.059200286865234375
         ],
         "hovertemplate": "Task=Iter 43<br>Start=%{base}<br>Finish=%{x}<br>Resource=%{y}<extra></extra>",
         "legendgroup": "Iter 43",
         "marker": {
          "color": "#ab63fa",
          "pattern": {
           "shape": ""
          }
         },
         "name": "Iter 43",
         "offsetgroup": "Iter 43",
         "orientation": "h",
         "showlegend": true,
         "textposition": "auto",
         "type": "bar",
         "x": [
          0.000019311904907226562,
          0.0000152587890625,
          0.0000152587890625,
          0.0000152587890625,
          0.000015735626220703125,
          0.000015497207641601562,
          0.00012946128845214844
         ],
         "xaxis": "x",
         "y": [
          "Node 0",
          "Node 1",
          "Node 2",
          "Node 3",
          "Node 4",
          "Node 5",
          "Node 6"
         ],
         "yaxis": "y"
        },
        {
         "alignmentgroup": "True",
         "base": [
          0.05947470664978027,
          0.05964469909667969,
          0.05981254577636719,
          0.059981584548950195,
          0.06015300750732422,
          0.060335397720336914,
          0.060511112213134766
         ],
         "hovertemplate": "Task=Iter 44<br>Start=%{base}<br>Finish=%{x}<br>Resource=%{y}<extra></extra>",
         "legendgroup": "Iter 44",
         "marker": {
          "color": "#FFA15A",
          "pattern": {
           "shape": ""
          }
         },
         "name": "Iter 44",
         "offsetgroup": "Iter 44",
         "orientation": "h",
         "showlegend": true,
         "textposition": "auto",
         "type": "bar",
         "x": [
          0.0000171661376953125,
          0.0000152587890625,
          0.000015020370483398438,
          0.000015497207641601562,
          0.000023126602172851562,
          0.000015735626220703125,
          0.0001289844512939453
         ],
         "xaxis": "x",
         "y": [
          "Node 0",
          "Node 1",
          "Node 2",
          "Node 3",
          "Node 4",
          "Node 5",
          "Node 6"
         ],
         "yaxis": "y"
        },
        {
         "alignmentgroup": "True",
         "base": [
          0.06078696250915527,
          0.06096053123474121,
          0.06112861633300781,
          0.06131291389465332,
          0.06148409843444824,
          0.06165742874145508,
          0.061833858489990234
         ],
         "hovertemplate": "Task=Iter 45<br>Start=%{base}<br>Finish=%{x}<br>Resource=%{y}<extra></extra>",
         "legendgroup": "Iter 45",
         "marker": {
          "color": "#19d3f3",
          "pattern": {
           "shape": ""
          }
         },
         "name": "Iter 45",
         "offsetgroup": "Iter 45",
         "orientation": "h",
         "showlegend": true,
         "textposition": "auto",
         "type": "bar",
         "x": [
          0.000016689300537109375,
          0.000015497207641601562,
          0.000015020370483398438,
          0.0000152587890625,
          0.0000152587890625,
          0.000015497207641601562,
          0.0001289844512939453
         ],
         "xaxis": "x",
         "y": [
          "Node 0",
          "Node 1",
          "Node 2",
          "Node 3",
          "Node 4",
          "Node 5",
          "Node 6"
         ],
         "yaxis": "y"
        },
        {
         "alignmentgroup": "True",
         "base": [
          0.06210827827453613,
          0.062290191650390625,
          0.06245708465576172,
          0.06262707710266113,
          0.06279850006103516,
          0.0629727840423584,
          0.06316041946411133
         ],
         "hovertemplate": "Task=Iter 46<br>Start=%{base}<br>Finish=%{x}<br>Resource=%{y}<extra></extra>",
         "legendgroup": "Iter 46",
         "marker": {
          "color": "#FF6692",
          "pattern": {
           "shape": ""
          }
         },
         "name": "Iter 46",
         "offsetgroup": "Iter 46",
         "orientation": "h",
         "showlegend": true,
         "textposition": "auto",
         "type": "bar",
         "x": [
          0.000016689300537109375,
          0.000015497207641601562,
          0.0000152587890625,
          0.0000152587890625,
          0.000015020370483398438,
          0.000015497207641601562,
          0.0001323223114013672
         ],
         "xaxis": "x",
         "y": [
          "Node 0",
          "Node 1",
          "Node 2",
          "Node 3",
          "Node 4",
          "Node 5",
          "Node 6"
         ],
         "yaxis": "y"
        },
        {
         "alignmentgroup": "True",
         "base": [
          0.06344199180603027,
          0.06361150741577148,
          0.06378006935119629,
          0.0639491081237793,
          0.06412172317504883,
          0.06431007385253906,
          0.06448721885681152
         ],
         "hovertemplate": "Task=Iter 47<br>Start=%{base}<br>Finish=%{x}<br>Resource=%{y}<extra></extra>",
         "legendgroup": "Iter 47",
         "marker": {
          "color": "#B6E880",
          "pattern": {
           "shape": ""
          }
         },
         "name": "Iter 47",
         "offsetgroup": "Iter 47",
         "orientation": "h",
         "showlegend": true,
         "textposition": "auto",
         "type": "bar",
         "x": [
          0.000016927719116210938,
          0.000015497207641601562,
          0.000015020370483398438,
          0.0000152587890625,
          0.0000152587890625,
          0.000015735626220703125,
          0.0001285076141357422
         ],
         "xaxis": "x",
         "y": [
          "Node 0",
          "Node 1",
          "Node 2",
          "Node 3",
          "Node 4",
          "Node 5",
          "Node 6"
         ],
         "yaxis": "y"
        },
        {
         "alignmentgroup": "True",
         "base": [
          0.06476211547851562,
          0.06493139266967773,
          0.06509757041931152,
          0.06528496742248535,
          0.0654597282409668,
          0.06563425064086914,
          0.0658102035522461
         ],
         "hovertemplate": "Task=Iter 48<br>Start=%{base}<br>Finish=%{x}<br>Resource=%{y}<extra></extra>",
         "legendgroup": "Iter 48",
         "marker": {
          "color": "#FF97FF",
          "pattern": {
           "shape": ""
          }
         },
         "name": "Iter 48",
         "offsetgroup": "Iter 48",
         "orientation": "h",
         "showlegend": true,
         "textposition": "auto",
         "type": "bar",
         "x": [
          0.000016689300537109375,
          0.0000152587890625,
          0.000015020370483398438,
          0.000017881393432617188,
          0.000015735626220703125,
          0.0000152587890625,
          0.00012922286987304688
         ],
         "xaxis": "x",
         "y": [
          "Node 0",
          "Node 1",
          "Node 2",
          "Node 3",
          "Node 4",
          "Node 5",
          "Node 6"
         ],
         "yaxis": "y"
        },
        {
         "alignmentgroup": "True",
         "base": [
          0.0660855770111084,
          0.0662989616394043,
          0.06650686264038086,
          0.06667780876159668,
          0.06684994697570801,
          0.06702446937561035,
          0.06722450256347656
         ],
         "hovertemplate": "Task=Iter 49<br>Start=%{base}<br>Finish=%{x}<br>Resource=%{y}<extra></extra>",
         "legendgroup": "Iter 49",
         "marker": {
          "color": "#FECB52",
          "pattern": {
           "shape": ""
          }
         },
         "name": "Iter 49",
         "offsetgroup": "Iter 49",
         "orientation": "h",
         "showlegend": true,
         "textposition": "auto",
         "type": "bar",
         "x": [
          0.00001621246337890625,
          0.000019550323486328125,
          0.000016450881958007812,
          0.000015497207641601562,
          0.0000152587890625,
          0.000015497207641601562,
          0.00015211105346679688
         ],
         "xaxis": "x",
         "y": [
          "Node 0",
          "Node 1",
          "Node 2",
          "Node 3",
          "Node 4",
          "Node 5",
          "Node 6"
         ],
         "yaxis": "y"
        },
        {
         "alignmentgroup": "True",
         "base": [
          0.06753349304199219,
          0.06770491600036621,
          0.06787252426147461,
          0.06804275512695312,
          0.06822586059570312,
          0.0684049129486084,
          0.06858158111572266
         ],
         "hovertemplate": "Task=Iter 50<br>Start=%{base}<br>Finish=%{x}<br>Resource=%{y}<extra></extra>",
         "legendgroup": "Iter 50",
         "marker": {
          "color": "#636efa",
          "pattern": {
           "shape": ""
          }
         },
         "name": "Iter 50",
         "offsetgroup": "Iter 50",
         "orientation": "h",
         "showlegend": true,
         "textposition": "auto",
         "type": "bar",
         "x": [
          0.0000171661376953125,
          0.000015497207641601562,
          0.000015497207641601562,
          0.000015497207641601562,
          0.000017642974853515625,
          0.000015497207641601562,
          0.00012922286987304688
         ],
         "xaxis": "x",
         "y": [
          "Node 0",
          "Node 1",
          "Node 2",
          "Node 3",
          "Node 4",
          "Node 5",
          "Node 6"
         ],
         "yaxis": "y"
        }
       ],
       "layout": {
        "barmode": "overlay",
        "legend": {
         "title": {
          "text": "Task"
         },
         "tracegroupgap": 0
        },
        "margin": {
         "t": 60
        },
        "template": {
         "data": {
          "bar": [
           {
            "error_x": {
             "color": "#2a3f5f"
            },
            "error_y": {
             "color": "#2a3f5f"
            },
            "marker": {
             "line": {
              "color": "#E5ECF6",
              "width": 0.5
             },
             "pattern": {
              "fillmode": "overlay",
              "size": 10,
              "solidity": 0.2
             }
            },
            "type": "bar"
           }
          ],
          "barpolar": [
           {
            "marker": {
             "line": {
              "color": "#E5ECF6",
              "width": 0.5
             },
             "pattern": {
              "fillmode": "overlay",
              "size": 10,
              "solidity": 0.2
             }
            },
            "type": "barpolar"
           }
          ],
          "carpet": [
           {
            "aaxis": {
             "endlinecolor": "#2a3f5f",
             "gridcolor": "white",
             "linecolor": "white",
             "minorgridcolor": "white",
             "startlinecolor": "#2a3f5f"
            },
            "baxis": {
             "endlinecolor": "#2a3f5f",
             "gridcolor": "white",
             "linecolor": "white",
             "minorgridcolor": "white",
             "startlinecolor": "#2a3f5f"
            },
            "type": "carpet"
           }
          ],
          "choropleth": [
           {
            "colorbar": {
             "outlinewidth": 0,
             "ticks": ""
            },
            "type": "choropleth"
           }
          ],
          "contour": [
           {
            "colorbar": {
             "outlinewidth": 0,
             "ticks": ""
            },
            "colorscale": [
             [
              0,
              "#0d0887"
             ],
             [
              0.1111111111111111,
              "#46039f"
             ],
             [
              0.2222222222222222,
              "#7201a8"
             ],
             [
              0.3333333333333333,
              "#9c179e"
             ],
             [
              0.4444444444444444,
              "#bd3786"
             ],
             [
              0.5555555555555556,
              "#d8576b"
             ],
             [
              0.6666666666666666,
              "#ed7953"
             ],
             [
              0.7777777777777778,
              "#fb9f3a"
             ],
             [
              0.8888888888888888,
              "#fdca26"
             ],
             [
              1,
              "#f0f921"
             ]
            ],
            "type": "contour"
           }
          ],
          "contourcarpet": [
           {
            "colorbar": {
             "outlinewidth": 0,
             "ticks": ""
            },
            "type": "contourcarpet"
           }
          ],
          "heatmap": [
           {
            "colorbar": {
             "outlinewidth": 0,
             "ticks": ""
            },
            "colorscale": [
             [
              0,
              "#0d0887"
             ],
             [
              0.1111111111111111,
              "#46039f"
             ],
             [
              0.2222222222222222,
              "#7201a8"
             ],
             [
              0.3333333333333333,
              "#9c179e"
             ],
             [
              0.4444444444444444,
              "#bd3786"
             ],
             [
              0.5555555555555556,
              "#d8576b"
             ],
             [
              0.6666666666666666,
              "#ed7953"
             ],
             [
              0.7777777777777778,
              "#fb9f3a"
             ],
             [
              0.8888888888888888,
              "#fdca26"
             ],
             [
              1,
              "#f0f921"
             ]
            ],
            "type": "heatmap"
           }
          ],
          "heatmapgl": [
           {
            "colorbar": {
             "outlinewidth": 0,
             "ticks": ""
            },
            "colorscale": [
             [
              0,
              "#0d0887"
             ],
             [
              0.1111111111111111,
              "#46039f"
             ],
             [
              0.2222222222222222,
              "#7201a8"
             ],
             [
              0.3333333333333333,
              "#9c179e"
             ],
             [
              0.4444444444444444,
              "#bd3786"
             ],
             [
              0.5555555555555556,
              "#d8576b"
             ],
             [
              0.6666666666666666,
              "#ed7953"
             ],
             [
              0.7777777777777778,
              "#fb9f3a"
             ],
             [
              0.8888888888888888,
              "#fdca26"
             ],
             [
              1,
              "#f0f921"
             ]
            ],
            "type": "heatmapgl"
           }
          ],
          "histogram": [
           {
            "marker": {
             "pattern": {
              "fillmode": "overlay",
              "size": 10,
              "solidity": 0.2
             }
            },
            "type": "histogram"
           }
          ],
          "histogram2d": [
           {
            "colorbar": {
             "outlinewidth": 0,
             "ticks": ""
            },
            "colorscale": [
             [
              0,
              "#0d0887"
             ],
             [
              0.1111111111111111,
              "#46039f"
             ],
             [
              0.2222222222222222,
              "#7201a8"
             ],
             [
              0.3333333333333333,
              "#9c179e"
             ],
             [
              0.4444444444444444,
              "#bd3786"
             ],
             [
              0.5555555555555556,
              "#d8576b"
             ],
             [
              0.6666666666666666,
              "#ed7953"
             ],
             [
              0.7777777777777778,
              "#fb9f3a"
             ],
             [
              0.8888888888888888,
              "#fdca26"
             ],
             [
              1,
              "#f0f921"
             ]
            ],
            "type": "histogram2d"
           }
          ],
          "histogram2dcontour": [
           {
            "colorbar": {
             "outlinewidth": 0,
             "ticks": ""
            },
            "colorscale": [
             [
              0,
              "#0d0887"
             ],
             [
              0.1111111111111111,
              "#46039f"
             ],
             [
              0.2222222222222222,
              "#7201a8"
             ],
             [
              0.3333333333333333,
              "#9c179e"
             ],
             [
              0.4444444444444444,
              "#bd3786"
             ],
             [
              0.5555555555555556,
              "#d8576b"
             ],
             [
              0.6666666666666666,
              "#ed7953"
             ],
             [
              0.7777777777777778,
              "#fb9f3a"
             ],
             [
              0.8888888888888888,
              "#fdca26"
             ],
             [
              1,
              "#f0f921"
             ]
            ],
            "type": "histogram2dcontour"
           }
          ],
          "mesh3d": [
           {
            "colorbar": {
             "outlinewidth": 0,
             "ticks": ""
            },
            "type": "mesh3d"
           }
          ],
          "parcoords": [
           {
            "line": {
             "colorbar": {
              "outlinewidth": 0,
              "ticks": ""
             }
            },
            "type": "parcoords"
           }
          ],
          "pie": [
           {
            "automargin": true,
            "type": "pie"
           }
          ],
          "scatter": [
           {
            "fillpattern": {
             "fillmode": "overlay",
             "size": 10,
             "solidity": 0.2
            },
            "type": "scatter"
           }
          ],
          "scatter3d": [
           {
            "line": {
             "colorbar": {
              "outlinewidth": 0,
              "ticks": ""
             }
            },
            "marker": {
             "colorbar": {
              "outlinewidth": 0,
              "ticks": ""
             }
            },
            "type": "scatter3d"
           }
          ],
          "scattercarpet": [
           {
            "marker": {
             "colorbar": {
              "outlinewidth": 0,
              "ticks": ""
             }
            },
            "type": "scattercarpet"
           }
          ],
          "scattergeo": [
           {
            "marker": {
             "colorbar": {
              "outlinewidth": 0,
              "ticks": ""
             }
            },
            "type": "scattergeo"
           }
          ],
          "scattergl": [
           {
            "marker": {
             "colorbar": {
              "outlinewidth": 0,
              "ticks": ""
             }
            },
            "type": "scattergl"
           }
          ],
          "scattermapbox": [
           {
            "marker": {
             "colorbar": {
              "outlinewidth": 0,
              "ticks": ""
             }
            },
            "type": "scattermapbox"
           }
          ],
          "scatterpolar": [
           {
            "marker": {
             "colorbar": {
              "outlinewidth": 0,
              "ticks": ""
             }
            },
            "type": "scatterpolar"
           }
          ],
          "scatterpolargl": [
           {
            "marker": {
             "colorbar": {
              "outlinewidth": 0,
              "ticks": ""
             }
            },
            "type": "scatterpolargl"
           }
          ],
          "scatterternary": [
           {
            "marker": {
             "colorbar": {
              "outlinewidth": 0,
              "ticks": ""
             }
            },
            "type": "scatterternary"
           }
          ],
          "surface": [
           {
            "colorbar": {
             "outlinewidth": 0,
             "ticks": ""
            },
            "colorscale": [
             [
              0,
              "#0d0887"
             ],
             [
              0.1111111111111111,
              "#46039f"
             ],
             [
              0.2222222222222222,
              "#7201a8"
             ],
             [
              0.3333333333333333,
              "#9c179e"
             ],
             [
              0.4444444444444444,
              "#bd3786"
             ],
             [
              0.5555555555555556,
              "#d8576b"
             ],
             [
              0.6666666666666666,
              "#ed7953"
             ],
             [
              0.7777777777777778,
              "#fb9f3a"
             ],
             [
              0.8888888888888888,
              "#fdca26"
             ],
             [
              1,
              "#f0f921"
             ]
            ],
            "type": "surface"
           }
          ],
          "table": [
           {
            "cells": {
             "fill": {
              "color": "#EBF0F8"
             },
             "line": {
              "color": "white"
             }
            },
            "header": {
             "fill": {
              "color": "#C8D4E3"
             },
             "line": {
              "color": "white"
             }
            },
            "type": "table"
           }
          ]
         },
         "layout": {
          "annotationdefaults": {
           "arrowcolor": "#2a3f5f",
           "arrowhead": 0,
           "arrowwidth": 1
          },
          "autotypenumbers": "strict",
          "coloraxis": {
           "colorbar": {
            "outlinewidth": 0,
            "ticks": ""
           }
          },
          "colorscale": {
           "diverging": [
            [
             0,
             "#8e0152"
            ],
            [
             0.1,
             "#c51b7d"
            ],
            [
             0.2,
             "#de77ae"
            ],
            [
             0.3,
             "#f1b6da"
            ],
            [
             0.4,
             "#fde0ef"
            ],
            [
             0.5,
             "#f7f7f7"
            ],
            [
             0.6,
             "#e6f5d0"
            ],
            [
             0.7,
             "#b8e186"
            ],
            [
             0.8,
             "#7fbc41"
            ],
            [
             0.9,
             "#4d9221"
            ],
            [
             1,
             "#276419"
            ]
           ],
           "sequential": [
            [
             0,
             "#0d0887"
            ],
            [
             0.1111111111111111,
             "#46039f"
            ],
            [
             0.2222222222222222,
             "#7201a8"
            ],
            [
             0.3333333333333333,
             "#9c179e"
            ],
            [
             0.4444444444444444,
             "#bd3786"
            ],
            [
             0.5555555555555556,
             "#d8576b"
            ],
            [
             0.6666666666666666,
             "#ed7953"
            ],
            [
             0.7777777777777778,
             "#fb9f3a"
            ],
            [
             0.8888888888888888,
             "#fdca26"
            ],
            [
             1,
             "#f0f921"
            ]
           ],
           "sequentialminus": [
            [
             0,
             "#0d0887"
            ],
            [
             0.1111111111111111,
             "#46039f"
            ],
            [
             0.2222222222222222,
             "#7201a8"
            ],
            [
             0.3333333333333333,
             "#9c179e"
            ],
            [
             0.4444444444444444,
             "#bd3786"
            ],
            [
             0.5555555555555556,
             "#d8576b"
            ],
            [
             0.6666666666666666,
             "#ed7953"
            ],
            [
             0.7777777777777778,
             "#fb9f3a"
            ],
            [
             0.8888888888888888,
             "#fdca26"
            ],
            [
             1,
             "#f0f921"
            ]
           ]
          },
          "colorway": [
           "#636efa",
           "#EF553B",
           "#00cc96",
           "#ab63fa",
           "#FFA15A",
           "#19d3f3",
           "#FF6692",
           "#B6E880",
           "#FF97FF",
           "#FECB52"
          ],
          "font": {
           "color": "#2a3f5f"
          },
          "geo": {
           "bgcolor": "white",
           "lakecolor": "white",
           "landcolor": "#E5ECF6",
           "showlakes": true,
           "showland": true,
           "subunitcolor": "white"
          },
          "hoverlabel": {
           "align": "left"
          },
          "hovermode": "closest",
          "mapbox": {
           "style": "light"
          },
          "paper_bgcolor": "white",
          "plot_bgcolor": "#E5ECF6",
          "polar": {
           "angularaxis": {
            "gridcolor": "white",
            "linecolor": "white",
            "ticks": ""
           },
           "bgcolor": "#E5ECF6",
           "radialaxis": {
            "gridcolor": "white",
            "linecolor": "white",
            "ticks": ""
           }
          },
          "scene": {
           "xaxis": {
            "backgroundcolor": "#E5ECF6",
            "gridcolor": "white",
            "gridwidth": 2,
            "linecolor": "white",
            "showbackground": true,
            "ticks": "",
            "zerolinecolor": "white"
           },
           "yaxis": {
            "backgroundcolor": "#E5ECF6",
            "gridcolor": "white",
            "gridwidth": 2,
            "linecolor": "white",
            "showbackground": true,
            "ticks": "",
            "zerolinecolor": "white"
           },
           "zaxis": {
            "backgroundcolor": "#E5ECF6",
            "gridcolor": "white",
            "gridwidth": 2,
            "linecolor": "white",
            "showbackground": true,
            "ticks": "",
            "zerolinecolor": "white"
           }
          },
          "shapedefaults": {
           "line": {
            "color": "#2a3f5f"
           }
          },
          "ternary": {
           "aaxis": {
            "gridcolor": "white",
            "linecolor": "white",
            "ticks": ""
           },
           "baxis": {
            "gridcolor": "white",
            "linecolor": "white",
            "ticks": ""
           },
           "bgcolor": "#E5ECF6",
           "caxis": {
            "gridcolor": "white",
            "linecolor": "white",
            "ticks": ""
           }
          },
          "title": {
           "x": 0.05
          },
          "xaxis": {
           "automargin": true,
           "gridcolor": "white",
           "linecolor": "white",
           "ticks": "",
           "title": {
            "standoff": 15
           },
           "zerolinecolor": "white",
           "zerolinewidth": 2
          },
          "yaxis": {
           "automargin": true,
           "gridcolor": "white",
           "linecolor": "white",
           "ticks": "",
           "title": {
            "standoff": 15
           },
           "zerolinecolor": "white",
           "zerolinewidth": 2
          }
         }
        },
        "title": {
         "text": "Parallel WTA"
        },
        "xaxis": {
         "anchor": "y",
         "domain": [
          0,
          1
         ],
         "type": "linear"
        },
        "yaxis": {
         "anchor": "x",
         "autorange": "reversed",
         "domain": [
          0,
          1
         ],
         "title": {
          "text": "Resource"
         }
        }
       }
      },
      "text/html": [
       "<div>                            <div id=\"2558c47f-52fe-476e-a9cc-f49ab4bc9d77\" class=\"plotly-graph-div\" style=\"height:525px; width:100%;\"></div>            <script type=\"text/javascript\">                require([\"plotly\"], function(Plotly) {                    window.PLOTLYENV=window.PLOTLYENV || {};                                    if (document.getElementById(\"2558c47f-52fe-476e-a9cc-f49ab4bc9d77\")) {                    Plotly.newPlot(                        \"2558c47f-52fe-476e-a9cc-f49ab4bc9d77\",                        [{\"alignmentgroup\":\"True\",\"base\":[0.0,0.00024890899658203125,0.0004286766052246094,0.0006082057952880859,0.0007865428924560547,0.0009677410125732422,0.0011508464813232422],\"hovertemplate\":\"Task=Iter 0<br>Start=%{base}<br>Finish=%{x}<br>Resource=%{y}<extra></extra>\",\"legendgroup\":\"Iter 0\",\"marker\":{\"color\":\"#636efa\",\"pattern\":{\"shape\":\"\"}},\"name\":\"Iter 0\",\"offsetgroup\":\"Iter 0\",\"orientation\":\"h\",\"showlegend\":true,\"textposition\":\"auto\",\"x\":[5.1021575927734375e-05,1.8835067749023438e-05,1.71661376953125e-05,1.621246337890625e-05,1.621246337890625e-05,1.621246337890625e-05,0.00014400482177734375],\"xaxis\":\"x\",\"y\":[\"Node 0\",\"Node 1\",\"Node 2\",\"Node 3\",\"Node 4\",\"Node 5\",\"Node 6\"],\"yaxis\":\"y\",\"type\":\"bar\"},{\"alignmentgroup\":\"True\",\"base\":[0.0014808177947998047,0.0016584396362304688,0.001832723617553711,0.0020084381103515625,0.0021936893463134766,0.0023806095123291016,0.0025637149810791016],\"hovertemplate\":\"Task=Iter 1<br>Start=%{base}<br>Finish=%{x}<br>Resource=%{y}<extra></extra>\",\"legendgroup\":\"Iter 1\",\"marker\":{\"color\":\"#EF553B\",\"pattern\":{\"shape\":\"\"}},\"name\":\"Iter 1\",\"offsetgroup\":\"Iter 1\",\"orientation\":\"h\",\"showlegend\":true,\"textposition\":\"auto\",\"x\":[1.7642974853515625e-05,1.6450881958007812e-05,1.5974044799804688e-05,1.5974044799804688e-05,1.621246337890625e-05,1.621246337890625e-05,0.00013303756713867188],\"xaxis\":\"x\",\"y\":[\"Node 0\",\"Node 1\",\"Node 2\",\"Node 3\",\"Node 4\",\"Node 5\",\"Node 6\"],\"yaxis\":\"y\",\"type\":\"bar\"},{\"alignmentgroup\":\"True\",\"base\":[0.002847909927368164,0.0030236244201660156,0.003204822540283203,0.0033855438232421875,0.00356292724609375,0.003741741180419922,0.003923654556274414],\"hovertemplate\":\"Task=Iter 2<br>Start=%{base}<br>Finish=%{x}<br>Resource=%{y}<extra></extra>\",\"legendgroup\":\"Iter 2\",\"marker\":{\"color\":\"#00cc96\",\"pattern\":{\"shape\":\"\"}},\"name\":\"Iter 2\",\"offsetgroup\":\"Iter 2\",\"orientation\":\"h\",\"showlegend\":true,\"textposition\":\"auto\",\"x\":[1.71661376953125e-05,1.5735626220703125e-05,1.52587890625e-05,1.5497207641601562e-05,1.5497207641601562e-05,1.5974044799804688e-05,0.00013256072998046875],\"xaxis\":\"x\",\"y\":[\"Node 0\",\"Node 1\",\"Node 2\",\"Node 3\",\"Node 4\",\"Node 5\",\"Node 6\"],\"yaxis\":\"y\",\"type\":\"bar\"},{\"alignmentgroup\":\"True\",\"base\":[0.004213094711303711,0.00439000129699707,0.004562854766845703,0.00473785400390625,0.004914999008178711,0.005095243453979492,0.005290508270263672],\"hovertemplate\":\"Task=Iter 3<br>Start=%{base}<br>Finish=%{x}<br>Resource=%{y}<extra></extra>\",\"legendgroup\":\"Iter 3\",\"marker\":{\"color\":\"#ab63fa\",\"pattern\":{\"shape\":\"\"}},\"name\":\"Iter 3\",\"offsetgroup\":\"Iter 3\",\"orientation\":\"h\",\"showlegend\":true,\"textposition\":\"auto\",\"x\":[1.7404556274414062e-05,1.5497207641601562e-05,1.5497207641601562e-05,1.5497207641601562e-05,1.5735626220703125e-05,1.5974044799804688e-05,0.00013303756713867188],\"xaxis\":\"x\",\"y\":[\"Node 0\",\"Node 1\",\"Node 2\",\"Node 3\",\"Node 4\",\"Node 5\",\"Node 6\"],\"yaxis\":\"y\",\"type\":\"bar\"},{\"alignmentgroup\":\"True\",\"base\":[0.005574226379394531,0.005750179290771484,0.005923271179199219,0.0060994625091552734,0.006340503692626953,0.006526947021484375,0.0067081451416015625],\"hovertemplate\":\"Task=Iter 4<br>Start=%{base}<br>Finish=%{x}<br>Resource=%{y}<extra></extra>\",\"legendgroup\":\"Iter 4\",\"marker\":{\"color\":\"#FFA15A\",\"pattern\":{\"shape\":\"\"}},\"name\":\"Iter 4\",\"offsetgroup\":\"Iter 4\",\"orientation\":\"h\",\"showlegend\":true,\"textposition\":\"auto\",\"x\":[1.71661376953125e-05,1.5735626220703125e-05,1.5497207641601562e-05,1.5735626220703125e-05,1.8358230590820312e-05,1.5974044799804688e-05,0.00013136863708496094],\"xaxis\":\"x\",\"y\":[\"Node 0\",\"Node 1\",\"Node 2\",\"Node 3\",\"Node 4\",\"Node 5\",\"Node 6\"],\"yaxis\":\"y\",\"type\":\"bar\"},{\"alignmentgroup\":\"True\",\"base\":[0.006987571716308594,0.007171154022216797,0.007349967956542969,0.007524013519287109,0.007699012756347656,0.007877588272094727,0.008057117462158203],\"hovertemplate\":\"Task=Iter 5<br>Start=%{base}<br>Finish=%{x}<br>Resource=%{y}<extra></extra>\",\"legendgroup\":\"Iter 5\",\"marker\":{\"color\":\"#19d3f3\",\"pattern\":{\"shape\":\"\"}},\"name\":\"Iter 5\",\"offsetgroup\":\"Iter 5\",\"orientation\":\"h\",\"showlegend\":true,\"textposition\":\"auto\",\"x\":[1.71661376953125e-05,1.5974044799804688e-05,1.5735626220703125e-05,1.52587890625e-05,1.5974044799804688e-05,1.5497207641601562e-05,0.00013875961303710938],\"xaxis\":\"x\",\"y\":[\"Node 0\",\"Node 1\",\"Node 2\",\"Node 3\",\"Node 4\",\"Node 5\",\"Node 6\"],\"yaxis\":\"y\",\"type\":\"bar\"},{\"alignmentgroup\":\"True\",\"base\":[0.008350372314453125,0.008524656295776367,0.008695840835571289,0.008869171142578125,0.009045839309692383,0.009229183197021484,0.009409427642822266],\"hovertemplate\":\"Task=Iter 6<br>Start=%{base}<br>Finish=%{x}<br>Resource=%{y}<extra></extra>\",\"legendgroup\":\"Iter 6\",\"marker\":{\"color\":\"#FF6692\",\"pattern\":{\"shape\":\"\"}},\"name\":\"Iter 6\",\"offsetgroup\":\"Iter 6\",\"orientation\":\"h\",\"showlegend\":true,\"textposition\":\"auto\",\"x\":[1.6927719116210938e-05,1.5497207641601562e-05,1.5735626220703125e-05,1.5974044799804688e-05,1.5735626220703125e-05,1.5974044799804688e-05,0.00013256072998046875],\"xaxis\":\"x\",\"y\":[\"Node 0\",\"Node 1\",\"Node 2\",\"Node 3\",\"Node 4\",\"Node 5\",\"Node 6\"],\"yaxis\":\"y\",\"type\":\"bar\"},{\"alignmentgroup\":\"True\",\"base\":[0.009690046310424805,0.009865283966064453,0.010038375854492188,0.010219097137451172,0.010395288467407227,0.010573863983154297,0.010754108428955078],\"hovertemplate\":\"Task=Iter 7<br>Start=%{base}<br>Finish=%{x}<br>Resource=%{y}<extra></extra>\",\"legendgroup\":\"Iter 7\",\"marker\":{\"color\":\"#B6E880\",\"pattern\":{\"shape\":\"\"}},\"name\":\"Iter 7\",\"offsetgroup\":\"Iter 7\",\"orientation\":\"h\",\"showlegend\":true,\"textposition\":\"auto\",\"x\":[1.7404556274414062e-05,1.5735626220703125e-05,1.5735626220703125e-05,1.5974044799804688e-05,1.5735626220703125e-05,1.621246337890625e-05,0.0001347064971923828],\"xaxis\":\"x\",\"y\":[\"Node 0\",\"Node 1\",\"Node 2\",\"Node 3\",\"Node 4\",\"Node 5\",\"Node 6\"],\"yaxis\":\"y\",\"type\":\"bar\"},{\"alignmentgroup\":\"True\",\"base\":[0.01103663444519043,0.01121830940246582,0.01139068603515625,0.01156473159790039,0.011740446090698242,0.011919021606445312,0.012099504470825195],\"hovertemplate\":\"Task=Iter 8<br>Start=%{base}<br>Finish=%{x}<br>Resource=%{y}<extra></extra>\",\"legendgroup\":\"Iter 8\",\"marker\":{\"color\":\"#FF97FF\",\"pattern\":{\"shape\":\"\"}},\"name\":\"Iter 8\",\"offsetgroup\":\"Iter 8\",\"orientation\":\"h\",\"showlegend\":true,\"textposition\":\"auto\",\"x\":[1.7404556274414062e-05,1.5497207641601562e-05,1.5497207641601562e-05,1.5497207641601562e-05,1.5735626220703125e-05,1.5735626220703125e-05,0.0001404285430908203],\"xaxis\":\"x\",\"y\":[\"Node 0\",\"Node 1\",\"Node 2\",\"Node 3\",\"Node 4\",\"Node 5\",\"Node 6\"],\"yaxis\":\"y\",\"type\":\"bar\"},{\"alignmentgroup\":\"True\",\"base\":[0.012388229370117188,0.012562751770019531,0.012735366821289062,0.012908697128295898,0.01308584213256836,0.013269424438476562,0.013451576232910156],\"hovertemplate\":\"Task=Iter 9<br>Start=%{base}<br>Finish=%{x}<br>Resource=%{y}<extra></extra>\",\"legendgroup\":\"Iter 9\",\"marker\":{\"color\":\"#FECB52\",\"pattern\":{\"shape\":\"\"}},\"name\":\"Iter 9\",\"offsetgroup\":\"Iter 9\",\"orientation\":\"h\",\"showlegend\":true,\"textposition\":\"auto\",\"x\":[1.7404556274414062e-05,1.5735626220703125e-05,1.5497207641601562e-05,1.5497207641601562e-05,1.5735626220703125e-05,1.621246337890625e-05,0.00013303756713867188],\"xaxis\":\"x\",\"y\":[\"Node 0\",\"Node 1\",\"Node 2\",\"Node 3\",\"Node 4\",\"Node 5\",\"Node 6\"],\"yaxis\":\"y\",\"type\":\"bar\"},{\"alignmentgroup\":\"True\",\"base\":[0.013744592666625977,0.013919591903686523,0.01409149169921875,0.014272212982177734,0.014448404312133789,0.014627218246459961,0.014809131622314453],\"hovertemplate\":\"Task=Iter 10<br>Start=%{base}<br>Finish=%{x}<br>Resource=%{y}<extra></extra>\",\"legendgroup\":\"Iter 10\",\"marker\":{\"color\":\"#636efa\",\"pattern\":{\"shape\":\"\"}},\"name\":\"Iter 10\",\"offsetgroup\":\"Iter 10\",\"orientation\":\"h\",\"showlegend\":true,\"textposition\":\"auto\",\"x\":[1.7404556274414062e-05,1.5735626220703125e-05,1.5497207641601562e-05,1.5735626220703125e-05,1.5974044799804688e-05,1.5735626220703125e-05,0.0001392364501953125],\"xaxis\":\"x\",\"y\":[\"Node 0\",\"Node 1\",\"Node 2\",\"Node 3\",\"Node 4\",\"Node 5\",\"Node 6\"],\"yaxis\":\"y\",\"type\":\"bar\"},{\"alignmentgroup\":\"True\",\"base\":[0.015118598937988281,0.015300989151000977,0.015475273132324219,0.01564931869506836,0.01582646369934082,0.0160064697265625,0.016193151473999023],\"hovertemplate\":\"Task=Iter 11<br>Start=%{base}<br>Finish=%{x}<br>Resource=%{y}<extra></extra>\",\"legendgroup\":\"Iter 11\",\"marker\":{\"color\":\"#EF553B\",\"pattern\":{\"shape\":\"\"}},\"name\":\"Iter 11\",\"offsetgroup\":\"Iter 11\",\"orientation\":\"h\",\"showlegend\":true,\"textposition\":\"auto\",\"x\":[1.6927719116210938e-05,1.5497207641601562e-05,1.5497207641601562e-05,1.5735626220703125e-05,1.621246337890625e-05,1.5974044799804688e-05,0.0001327991485595703],\"xaxis\":\"x\",\"y\":[\"Node 0\",\"Node 1\",\"Node 2\",\"Node 3\",\"Node 4\",\"Node 5\",\"Node 6\"],\"yaxis\":\"y\",\"type\":\"bar\"},{\"alignmentgroup\":\"True\",\"base\":[0.016474008560180664,0.016648054122924805,0.016819477081298828,0.016994476318359375,0.017177820205688477,0.017357587814331055,0.017539024353027344],\"hovertemplate\":\"Task=Iter 12<br>Start=%{base}<br>Finish=%{x}<br>Resource=%{y}<extra></extra>\",\"legendgroup\":\"Iter 12\",\"marker\":{\"color\":\"#00cc96\",\"pattern\":{\"shape\":\"\"}},\"name\":\"Iter 12\",\"offsetgroup\":\"Iter 12\",\"orientation\":\"h\",\"showlegend\":true,\"textposition\":\"auto\",\"x\":[1.71661376953125e-05,1.5497207641601562e-05,1.5735626220703125e-05,1.5497207641601562e-05,1.5974044799804688e-05,1.5974044799804688e-05,0.00013303756713867188],\"xaxis\":\"x\",\"y\":[\"Node 0\",\"Node 1\",\"Node 2\",\"Node 3\",\"Node 4\",\"Node 5\",\"Node 6\"],\"yaxis\":\"y\",\"type\":\"bar\"},{\"alignmentgroup\":\"True\",\"base\":[0.017820119857788086,0.017994165420532227,0.01817178726196289,0.018346309661865234,0.018521785736083984,0.018700122833251953,0.018880128860473633],\"hovertemplate\":\"Task=Iter 13<br>Start=%{base}<br>Finish=%{x}<br>Resource=%{y}<extra></extra>\",\"legendgroup\":\"Iter 13\",\"marker\":{\"color\":\"#ab63fa\",\"pattern\":{\"shape\":\"\"}},\"name\":\"Iter 13\",\"offsetgroup\":\"Iter 13\",\"orientation\":\"h\",\"showlegend\":true,\"textposition\":\"auto\",\"x\":[1.71661376953125e-05,1.5497207641601562e-05,1.5497207641601562e-05,1.5735626220703125e-05,1.5497207641601562e-05,1.5735626220703125e-05,0.0001327991485595703],\"xaxis\":\"x\",\"y\":[\"Node 0\",\"Node 1\",\"Node 2\",\"Node 3\",\"Node 4\",\"Node 5\",\"Node 6\"],\"yaxis\":\"y\",\"type\":\"bar\"},{\"alignmentgroup\":\"True\",\"base\":[0.019167661666870117,0.01934218406677246,0.019514083862304688,0.019688129425048828,0.01986384391784668,0.020041942596435547,0.02023029327392578],\"hovertemplate\":\"Task=Iter 14<br>Start=%{base}<br>Finish=%{x}<br>Resource=%{y}<extra></extra>\",\"legendgroup\":\"Iter 14\",\"marker\":{\"color\":\"#FFA15A\",\"pattern\":{\"shape\":\"\"}},\"name\":\"Iter 14\",\"offsetgroup\":\"Iter 14\",\"orientation\":\"h\",\"showlegend\":true,\"textposition\":\"auto\",\"x\":[1.7404556274414062e-05,1.5735626220703125e-05,1.5497207641601562e-05,1.5497207641601562e-05,1.5974044799804688e-05,1.5735626220703125e-05,0.0001323223114013672],\"xaxis\":\"x\",\"y\":[\"Node 0\",\"Node 1\",\"Node 2\",\"Node 3\",\"Node 4\",\"Node 5\",\"Node 6\"],\"yaxis\":\"y\",\"type\":\"bar\"},{\"alignmentgroup\":\"True\",\"base\":[0.020510435104370117,0.02068495750427246,0.020857810974121094,0.021038532257080078,0.021222829818725586,0.021407365798950195,0.02158832550048828],\"hovertemplate\":\"Task=Iter 15<br>Start=%{base}<br>Finish=%{x}<br>Resource=%{y}<extra></extra>\",\"legendgroup\":\"Iter 15\",\"marker\":{\"color\":\"#19d3f3\",\"pattern\":{\"shape\":\"\"}},\"name\":\"Iter 15\",\"offsetgroup\":\"Iter 15\",\"orientation\":\"h\",\"showlegend\":true,\"textposition\":\"auto\",\"x\":[1.6927719116210938e-05,1.5497207641601562e-05,2.0265579223632812e-05,1.5735626220703125e-05,1.5974044799804688e-05,1.5735626220703125e-05,0.00013256072998046875],\"xaxis\":\"x\",\"y\":[\"Node 0\",\"Node 1\",\"Node 2\",\"Node 3\",\"Node 4\",\"Node 5\",\"Node 6\"],\"yaxis\":\"y\",\"type\":\"bar\"},{\"alignmentgroup\":\"True\",\"base\":[0.021869421005249023,0.02204418182373047,0.022223234176635742,0.022397994995117188,0.022574186325073242,0.02275252342224121,0.022933244705200195],\"hovertemplate\":\"Task=Iter 16<br>Start=%{base}<br>Finish=%{x}<br>Resource=%{y}<extra></extra>\",\"legendgroup\":\"Iter 16\",\"marker\":{\"color\":\"#FF6692\",\"pattern\":{\"shape\":\"\"}},\"name\":\"Iter 16\",\"offsetgroup\":\"Iter 16\",\"orientation\":\"h\",\"showlegend\":true,\"textposition\":\"auto\",\"x\":[1.71661376953125e-05,1.5497207641601562e-05,1.5497207641601562e-05,1.5735626220703125e-05,1.52587890625e-05,1.5735626220703125e-05,0.0001316070556640625],\"xaxis\":\"x\",\"y\":[\"Node 0\",\"Node 1\",\"Node 2\",\"Node 3\",\"Node 4\",\"Node 5\",\"Node 6\"],\"yaxis\":\"y\",\"type\":\"bar\"},{\"alignmentgroup\":\"True\",\"base\":[0.023218631744384766,0.023396968841552734,0.023569345474243164,0.0237429141998291,0.023919105529785156,0.024097919464111328,0.02428412437438965],\"hovertemplate\":\"Task=Iter 17<br>Start=%{base}<br>Finish=%{x}<br>Resource=%{y}<extra></extra>\",\"legendgroup\":\"Iter 17\",\"marker\":{\"color\":\"#B6E880\",\"pattern\":{\"shape\":\"\"}},\"name\":\"Iter 17\",\"offsetgroup\":\"Iter 17\",\"orientation\":\"h\",\"showlegend\":true,\"textposition\":\"auto\",\"x\":[2.002716064453125e-05,1.52587890625e-05,1.5497207641601562e-05,1.52587890625e-05,1.5497207641601562e-05,1.52587890625e-05,0.0001323223114013672],\"xaxis\":\"x\",\"y\":[\"Node 0\",\"Node 1\",\"Node 2\",\"Node 3\",\"Node 4\",\"Node 5\",\"Node 6\"],\"yaxis\":\"y\",\"type\":\"bar\"},{\"alignmentgroup\":\"True\",\"base\":[0.02456378936767578,0.024738073348999023,0.02491283416748047,0.025086402893066406,0.025266170501708984,0.025443553924560547,0.025622129440307617],\"hovertemplate\":\"Task=Iter 18<br>Start=%{base}<br>Finish=%{x}<br>Resource=%{y}<extra></extra>\",\"legendgroup\":\"Iter 18\",\"marker\":{\"color\":\"#FF97FF\",\"pattern\":{\"shape\":\"\"}},\"name\":\"Iter 18\",\"offsetgroup\":\"Iter 18\",\"orientation\":\"h\",\"showlegend\":true,\"textposition\":\"auto\",\"x\":[1.71661376953125e-05,1.5735626220703125e-05,1.5497207641601562e-05,1.5497207641601562e-05,1.5974044799804688e-05,1.5497207641601562e-05,0.00013065338134765625],\"xaxis\":\"x\",\"y\":[\"Node 0\",\"Node 1\",\"Node 2\",\"Node 3\",\"Node 4\",\"Node 5\",\"Node 6\"],\"yaxis\":\"y\",\"type\":\"bar\"},{\"alignmentgroup\":\"True\",\"base\":[0.025899410247802734,0.026071548461914062,0.02624797821044922,0.026421308517456055,0.026595592498779297,0.026772260665893555,0.02695488929748535],\"hovertemplate\":\"Task=Iter 19<br>Start=%{base}<br>Finish=%{x}<br>Resource=%{y}<extra></extra>\",\"legendgroup\":\"Iter 19\",\"marker\":{\"color\":\"#FECB52\",\"pattern\":{\"shape\":\"\"}},\"name\":\"Iter 19\",\"offsetgroup\":\"Iter 19\",\"orientation\":\"h\",\"showlegend\":true,\"textposition\":\"auto\",\"x\":[1.6927719116210938e-05,1.5735626220703125e-05,1.5735626220703125e-05,1.5497207641601562e-05,1.5735626220703125e-05,1.5974044799804688e-05,0.00012969970703125],\"xaxis\":\"x\",\"y\":[\"Node 0\",\"Node 1\",\"Node 2\",\"Node 3\",\"Node 4\",\"Node 5\",\"Node 6\"],\"yaxis\":\"y\",\"type\":\"bar\"},{\"alignmentgroup\":\"True\",\"base\":[0.027247905731201172,0.02742171287536621,0.027591943740844727,0.027764081954956055,0.0279390811920166,0.02811717987060547,0.028309345245361328],\"hovertemplate\":\"Task=Iter 20<br>Start=%{base}<br>Finish=%{x}<br>Resource=%{y}<extra></extra>\",\"legendgroup\":\"Iter 20\",\"marker\":{\"color\":\"#636efa\",\"pattern\":{\"shape\":\"\"}},\"name\":\"Iter 20\",\"offsetgroup\":\"Iter 20\",\"orientation\":\"h\",\"showlegend\":true,\"textposition\":\"auto\",\"x\":[1.7881393432617188e-05,1.5735626220703125e-05,1.5735626220703125e-05,1.5497207641601562e-05,1.5974044799804688e-05,1.5497207641601562e-05,0.0001316070556640625],\"xaxis\":\"x\",\"y\":[\"Node 0\",\"Node 1\",\"Node 2\",\"Node 3\",\"Node 4\",\"Node 5\",\"Node 6\"],\"yaxis\":\"y\",\"type\":\"bar\"},{\"alignmentgroup\":\"True\",\"base\":[0.028611183166503906,0.02878570556640625,0.028956890106201172,0.029129505157470703,0.02931833267211914,0.029496431350708008,0.029675006866455078],\"hovertemplate\":\"Task=Iter 21<br>Start=%{base}<br>Finish=%{x}<br>Resource=%{y}<extra></extra>\",\"legendgroup\":\"Iter 21\",\"marker\":{\"color\":\"#EF553B\",\"pattern\":{\"shape\":\"\"}},\"name\":\"Iter 21\",\"offsetgroup\":\"Iter 21\",\"orientation\":\"h\",\"showlegend\":true,\"textposition\":\"auto\",\"x\":[1.6689300537109375e-05,1.5497207641601562e-05,1.5497207641601562e-05,1.5974044799804688e-05,1.5497207641601562e-05,1.5974044799804688e-05,0.0001323223114013672],\"xaxis\":\"x\",\"y\":[\"Node 0\",\"Node 1\",\"Node 2\",\"Node 3\",\"Node 4\",\"Node 5\",\"Node 6\"],\"yaxis\":\"y\",\"type\":\"bar\"},{\"alignmentgroup\":\"True\",\"base\":[0.029954910278320312,0.030132532119750977,0.030309438705444336,0.03048253059387207,0.030658721923828125,0.03083658218383789,0.031014680862426758],\"hovertemplate\":\"Task=Iter 22<br>Start=%{base}<br>Finish=%{x}<br>Resource=%{y}<extra></extra>\",\"legendgroup\":\"Iter 22\",\"marker\":{\"color\":\"#00cc96\",\"pattern\":{\"shape\":\"\"}},\"name\":\"Iter 22\",\"offsetgroup\":\"Iter 22\",\"orientation\":\"h\",\"showlegend\":true,\"textposition\":\"auto\",\"x\":[1.71661376953125e-05,1.5735626220703125e-05,1.5497207641601562e-05,1.5735626220703125e-05,1.5497207641601562e-05,1.5974044799804688e-05,0.00013184547424316406],\"xaxis\":\"x\",\"y\":[\"Node 0\",\"Node 1\",\"Node 2\",\"Node 3\",\"Node 4\",\"Node 5\",\"Node 6\"],\"yaxis\":\"y\",\"type\":\"bar\"},{\"alignmentgroup\":\"True\",\"base\":[0.03130650520324707,0.03148007392883301,0.03165149688720703,0.03182530403137207,0.032001495361328125,0.032186269760131836,0.03237032890319824],\"hovertemplate\":\"Task=Iter 23<br>Start=%{base}<br>Finish=%{x}<br>Resource=%{y}<extra></extra>\",\"legendgroup\":\"Iter 23\",\"marker\":{\"color\":\"#ab63fa\",\"pattern\":{\"shape\":\"\"}},\"name\":\"Iter 23\",\"offsetgroup\":\"Iter 23\",\"orientation\":\"h\",\"showlegend\":true,\"textposition\":\"auto\",\"x\":[1.71661376953125e-05,1.5735626220703125e-05,1.5497207641601562e-05,1.5497207641601562e-05,1.5497207641601562e-05,1.6450881958007812e-05,0.00013184547424316406],\"xaxis\":\"x\",\"y\":[\"Node 0\",\"Node 1\",\"Node 2\",\"Node 3\",\"Node 4\",\"Node 5\",\"Node 6\"],\"yaxis\":\"y\",\"type\":\"bar\"},{\"alignmentgroup\":\"True\",\"base\":[0.03264927864074707,0.032822370529174805,0.03299522399902344,0.03318166732788086,0.03335690498352051,0.033539533615112305,0.03371882438659668],\"hovertemplate\":\"Task=Iter 24<br>Start=%{base}<br>Finish=%{x}<br>Resource=%{y}<extra></extra>\",\"legendgroup\":\"Iter 24\",\"marker\":{\"color\":\"#FFA15A\",\"pattern\":{\"shape\":\"\"}},\"name\":\"Iter 24\",\"offsetgroup\":\"Iter 24\",\"orientation\":\"h\",\"showlegend\":true,\"textposition\":\"auto\",\"x\":[1.6689300537109375e-05,1.621246337890625e-05,1.5497207641601562e-05,1.5735626220703125e-05,1.5735626220703125e-05,1.5735626220703125e-05,0.00013256072998046875],\"xaxis\":\"x\",\"y\":[\"Node 0\",\"Node 1\",\"Node 2\",\"Node 3\",\"Node 4\",\"Node 5\",\"Node 6\"],\"yaxis\":\"y\",\"type\":\"bar\"},{\"alignmentgroup\":\"True\",\"base\":[0.03399920463562012,0.0341792106628418,0.03435039520263672,0.034528255462646484,0.034703731536865234,0.034880876541137695,0.03505897521972656],\"hovertemplate\":\"Task=Iter 25<br>Start=%{base}<br>Finish=%{x}<br>Resource=%{y}<extra></extra>\",\"legendgroup\":\"Iter 25\",\"marker\":{\"color\":\"#19d3f3\",\"pattern\":{\"shape\":\"\"}},\"name\":\"Iter 25\",\"offsetgroup\":\"Iter 25\",\"orientation\":\"h\",\"showlegend\":true,\"textposition\":\"auto\",\"x\":[1.6689300537109375e-05,1.5735626220703125e-05,1.5735626220703125e-05,1.5735626220703125e-05,1.52587890625e-05,1.5974044799804688e-05,0.0001385211944580078],\"xaxis\":\"x\",\"y\":[\"Node 0\",\"Node 1\",\"Node 2\",\"Node 3\",\"Node 4\",\"Node 5\",\"Node 6\"],\"yaxis\":\"y\",\"type\":\"bar\"},{\"alignmentgroup\":\"True\",\"base\":[0.03535151481628418,0.03552389144897461,0.03569436073303223,0.03586769104003906,0.03604269027709961,0.03622841835021973,0.0364077091217041],\"hovertemplate\":\"Task=Iter 26<br>Start=%{base}<br>Finish=%{x}<br>Resource=%{y}<extra></extra>\",\"legendgroup\":\"Iter 26\",\"marker\":{\"color\":\"#FF6692\",\"pattern\":{\"shape\":\"\"}},\"name\":\"Iter 26\",\"offsetgroup\":\"Iter 26\",\"orientation\":\"h\",\"showlegend\":true,\"textposition\":\"auto\",\"x\":[1.6689300537109375e-05,1.5735626220703125e-05,1.5497207641601562e-05,1.5735626220703125e-05,1.5497207641601562e-05,1.621246337890625e-05,0.0001316070556640625],\"xaxis\":\"x\",\"y\":[\"Node 0\",\"Node 1\",\"Node 2\",\"Node 3\",\"Node 4\",\"Node 5\",\"Node 6\"],\"yaxis\":\"y\",\"type\":\"bar\"},{\"alignmentgroup\":\"True\",\"base\":[0.03668665885925293,0.03685951232910156,0.03702998161315918,0.03721284866333008,0.03738737106323242,0.037564754486083984,0.037743568420410156],\"hovertemplate\":\"Task=Iter 27<br>Start=%{base}<br>Finish=%{x}<br>Resource=%{y}<extra></extra>\",\"legendgroup\":\"Iter 27\",\"marker\":{\"color\":\"#B6E880\",\"pattern\":{\"shape\":\"\"}},\"name\":\"Iter 27\",\"offsetgroup\":\"Iter 27\",\"orientation\":\"h\",\"showlegend\":true,\"textposition\":\"auto\",\"x\":[1.6689300537109375e-05,1.5497207641601562e-05,1.5974044799804688e-05,1.52587890625e-05,1.5974044799804688e-05,1.5735626220703125e-05,0.0001323223114013672],\"xaxis\":\"x\",\"y\":[\"Node 0\",\"Node 1\",\"Node 2\",\"Node 3\",\"Node 4\",\"Node 5\",\"Node 6\"],\"yaxis\":\"y\",\"type\":\"bar\"},{\"alignmentgroup\":\"True\",\"base\":[0.038024187088012695,0.03820514678955078,0.0383763313293457,0.03854870796203613,0.03872227668762207,0.03890395164489746,0.03908705711364746],\"hovertemplate\":\"Task=Iter 28<br>Start=%{base}<br>Finish=%{x}<br>Resource=%{y}<extra></extra>\",\"legendgroup\":\"Iter 28\",\"marker\":{\"color\":\"#FF97FF\",\"pattern\":{\"shape\":\"\"}},\"name\":\"Iter 28\",\"offsetgroup\":\"Iter 28\",\"orientation\":\"h\",\"showlegend\":true,\"textposition\":\"auto\",\"x\":[1.71661376953125e-05,1.5735626220703125e-05,1.5735626220703125e-05,1.52587890625e-05,1.5497207641601562e-05,1.621246337890625e-05,0.0001380443572998047],\"xaxis\":\"x\",\"y\":[\"Node 0\",\"Node 1\",\"Node 2\",\"Node 3\",\"Node 4\",\"Node 5\",\"Node 6\"],\"yaxis\":\"y\",\"type\":\"bar\"},{\"alignmentgroup\":\"True\",\"base\":[0.03937888145446777,0.039551496505737305,0.03972148895263672,0.03989386558532715,0.040069580078125,0.040255069732666016,0.040437936782836914],\"hovertemplate\":\"Task=Iter 29<br>Start=%{base}<br>Finish=%{x}<br>Resource=%{y}<extra></extra>\",\"legendgroup\":\"Iter 29\",\"marker\":{\"color\":\"#FECB52\",\"pattern\":{\"shape\":\"\"}},\"name\":\"Iter 29\",\"offsetgroup\":\"Iter 29\",\"orientation\":\"h\",\"showlegend\":true,\"textposition\":\"auto\",\"x\":[1.71661376953125e-05,1.5497207641601562e-05,1.5497207641601562e-05,1.5735626220703125e-05,1.52587890625e-05,1.811981201171875e-05,0.00013065338134765625],\"xaxis\":\"x\",\"y\":[\"Node 0\",\"Node 1\",\"Node 2\",\"Node 3\",\"Node 4\",\"Node 5\",\"Node 6\"],\"yaxis\":\"y\",\"type\":\"bar\"},{\"alignmentgroup\":\"True\",\"base\":[0.04072713851928711,0.040901899337768555,0.04107213020324707,0.041251182556152344,0.041431427001953125,0.04160737991333008,0.041785478591918945],\"hovertemplate\":\"Task=Iter 30<br>Start=%{base}<br>Finish=%{x}<br>Resource=%{y}<extra></extra>\",\"legendgroup\":\"Iter 30\",\"marker\":{\"color\":\"#636efa\",\"pattern\":{\"shape\":\"\"}},\"name\":\"Iter 30\",\"offsetgroup\":\"Iter 30\",\"orientation\":\"h\",\"showlegend\":true,\"textposition\":\"auto\",\"x\":[1.7404556274414062e-05,1.5497207641601562e-05,1.5497207641601562e-05,1.5974044799804688e-05,1.5735626220703125e-05,1.5735626220703125e-05,0.00013017654418945312],\"xaxis\":\"x\",\"y\":[\"Node 0\",\"Node 1\",\"Node 2\",\"Node 3\",\"Node 4\",\"Node 5\",\"Node 6\"],\"yaxis\":\"y\",\"type\":\"bar\"},{\"alignmentgroup\":\"True\",\"base\":[0.04208493232727051,0.042269229888916016,0.04243969917297363,0.04261326789855957,0.042787790298461914,0.04296517372131348,0.04314374923706055],\"hovertemplate\":\"Task=Iter 31<br>Start=%{base}<br>Finish=%{x}<br>Resource=%{y}<extra></extra>\",\"legendgroup\":\"Iter 31\",\"marker\":{\"color\":\"#EF553B\",\"pattern\":{\"shape\":\"\"}},\"name\":\"Iter 31\",\"offsetgroup\":\"Iter 31\",\"orientation\":\"h\",\"showlegend\":true,\"textposition\":\"auto\",\"x\":[1.6450881958007812e-05,1.5735626220703125e-05,1.5735626220703125e-05,1.5735626220703125e-05,1.5497207641601562e-05,1.5497207641601562e-05,0.00014162063598632812],\"xaxis\":\"x\",\"y\":[\"Node 0\",\"Node 1\",\"Node 2\",\"Node 3\",\"Node 4\",\"Node 5\",\"Node 6\"],\"yaxis\":\"y\",\"type\":\"bar\"},{\"alignmentgroup\":\"True\",\"base\":[0.043433189392089844,0.04360628128051758,0.043776512145996094,0.04394960403442383,0.04412508010864258,0.04430842399597168,0.044493675231933594],\"hovertemplate\":\"Task=Iter 32<br>Start=%{base}<br>Finish=%{x}<br>Resource=%{y}<extra></extra>\",\"legendgroup\":\"Iter 32\",\"marker\":{\"color\":\"#00cc96\",\"pattern\":{\"shape\":\"\"}},\"name\":\"Iter 32\",\"offsetgroup\":\"Iter 32\",\"orientation\":\"h\",\"showlegend\":true,\"textposition\":\"auto\",\"x\":[1.6927719116210938e-05,1.5735626220703125e-05,1.5497207641601562e-05,1.5974044799804688e-05,1.5497207641601562e-05,1.5735626220703125e-05,0.00013184547424316406],\"xaxis\":\"x\",\"y\":[\"Node 0\",\"Node 1\",\"Node 2\",\"Node 3\",\"Node 4\",\"Node 5\",\"Node 6\"],\"yaxis\":\"y\",\"type\":\"bar\"},{\"alignmentgroup\":\"True\",\"base\":[0.04477286338806152,0.044946908950805664,0.04511857032775879,0.0453031063079834,0.04547905921936035,0.04565763473510742,0.04583740234375],\"hovertemplate\":\"Task=Iter 33<br>Start=%{base}<br>Finish=%{x}<br>Resource=%{y}<extra></extra>\",\"legendgroup\":\"Iter 33\",\"marker\":{\"color\":\"#ab63fa\",\"pattern\":{\"shape\":\"\"}},\"name\":\"Iter 33\",\"offsetgroup\":\"Iter 33\",\"orientation\":\"h\",\"showlegend\":true,\"textposition\":\"auto\",\"x\":[1.71661376953125e-05,1.5735626220703125e-05,1.5974044799804688e-05,1.5974044799804688e-05,1.5735626220703125e-05,1.5735626220703125e-05,0.00013208389282226562],\"xaxis\":\"x\",\"y\":[\"Node 0\",\"Node 1\",\"Node 2\",\"Node 3\",\"Node 4\",\"Node 5\",\"Node 6\"],\"yaxis\":\"y\",\"type\":\"bar\"},{\"alignmentgroup\":\"True\",\"base\":[0.046117305755615234,0.04630303382873535,0.04647374153137207,0.0466463565826416,0.04682207107543945,0.04700016975402832,0.04718756675720215],\"hovertemplate\":\"Task=Iter 34<br>Start=%{base}<br>Finish=%{x}<br>Resource=%{y}<extra></extra>\",\"legendgroup\":\"Iter 34\",\"marker\":{\"color\":\"#FFA15A\",\"pattern\":{\"shape\":\"\"}},\"name\":\"Iter 34\",\"offsetgroup\":\"Iter 34\",\"orientation\":\"h\",\"showlegend\":true,\"textposition\":\"auto\",\"x\":[1.71661376953125e-05,1.5974044799804688e-05,1.5497207641601562e-05,1.5735626220703125e-05,1.52587890625e-05,1.5974044799804688e-05,0.0001323223114013672],\"xaxis\":\"x\",\"y\":[\"Node 0\",\"Node 1\",\"Node 2\",\"Node 3\",\"Node 4\",\"Node 5\",\"Node 6\"],\"yaxis\":\"y\",\"type\":\"bar\"},{\"alignmentgroup\":\"True\",\"base\":[0.047467947006225586,0.04764151573181152,0.047821998596191406,0.04799532890319824,0.04817795753479004,0.04836153984069824,0.04854130744934082],\"hovertemplate\":\"Task=Iter 35<br>Start=%{base}<br>Finish=%{x}<br>Resource=%{y}<extra></extra>\",\"legendgroup\":\"Iter 35\",\"marker\":{\"color\":\"#19d3f3\",\"pattern\":{\"shape\":\"\"}},\"name\":\"Iter 35\",\"offsetgroup\":\"Iter 35\",\"orientation\":\"h\",\"showlegend\":true,\"textposition\":\"auto\",\"x\":[1.71661376953125e-05,1.5735626220703125e-05,1.5497207641601562e-05,1.5497207641601562e-05,1.621246337890625e-05,1.5974044799804688e-05,0.00013327598571777344],\"xaxis\":\"x\",\"y\":[\"Node 0\",\"Node 1\",\"Node 2\",\"Node 3\",\"Node 4\",\"Node 5\",\"Node 6\"],\"yaxis\":\"y\",\"type\":\"bar\"},{\"alignmentgroup\":\"True\",\"base\":[0.04882240295410156,0.0489964485168457,0.04917430877685547,0.049346923828125,0.049521684646606445,0.049700260162353516,0.049880027770996094],\"hovertemplate\":\"Task=Iter 36<br>Start=%{base}<br>Finish=%{x}<br>Resource=%{y}<extra></extra>\",\"legendgroup\":\"Iter 36\",\"marker\":{\"color\":\"#FF6692\",\"pattern\":{\"shape\":\"\"}},\"name\":\"Iter 36\",\"offsetgroup\":\"Iter 36\",\"orientation\":\"h\",\"showlegend\":true,\"textposition\":\"auto\",\"x\":[1.6689300537109375e-05,1.5735626220703125e-05,1.5735626220703125e-05,1.5735626220703125e-05,1.5735626220703125e-05,1.5974044799804688e-05,0.00013136863708496094],\"xaxis\":\"x\",\"y\":[\"Node 0\",\"Node 1\",\"Node 2\",\"Node 3\",\"Node 4\",\"Node 5\",\"Node 6\"],\"yaxis\":\"y\",\"type\":\"bar\"},{\"alignmentgroup\":\"True\",\"base\":[0.05016469955444336,0.05033755302429199,0.050507545471191406,0.05068039894104004,0.05085444450378418,0.051030635833740234,0.051221370697021484],\"hovertemplate\":\"Task=Iter 37<br>Start=%{base}<br>Finish=%{x}<br>Resource=%{y}<extra></extra>\",\"legendgroup\":\"Iter 37\",\"marker\":{\"color\":\"#B6E880\",\"pattern\":{\"shape\":\"\"}},\"name\":\"Iter 37\",\"offsetgroup\":\"Iter 37\",\"orientation\":\"h\",\"showlegend\":true,\"textposition\":\"auto\",\"x\":[1.7404556274414062e-05,1.5497207641601562e-05,1.5735626220703125e-05,1.5735626220703125e-05,1.5497207641601562e-05,1.6450881958007812e-05,0.00013065338134765625],\"xaxis\":\"x\",\"y\":[\"Node 0\",\"Node 1\",\"Node 2\",\"Node 3\",\"Node 4\",\"Node 5\",\"Node 6\"],\"yaxis\":\"y\",\"type\":\"bar\"},{\"alignmentgroup\":\"True\",\"base\":[0.0514981746673584,0.05167055130004883,0.051842689514160156,0.0520169734954834,0.0522007942199707,0.05237770080566406,0.05255556106567383],\"hovertemplate\":\"Task=Iter 38<br>Start=%{base}<br>Finish=%{x}<br>Resource=%{y}<extra></extra>\",\"legendgroup\":\"Iter 38\",\"marker\":{\"color\":\"#FF97FF\",\"pattern\":{\"shape\":\"\"}},\"name\":\"Iter 38\",\"offsetgroup\":\"Iter 38\",\"orientation\":\"h\",\"showlegend\":true,\"textposition\":\"auto\",\"x\":[1.7404556274414062e-05,1.5735626220703125e-05,1.7642974853515625e-05,1.5735626220703125e-05,1.5974044799804688e-05,1.5735626220703125e-05,0.00013113021850585938],\"xaxis\":\"x\",\"y\":[\"Node 0\",\"Node 1\",\"Node 2\",\"Node 3\",\"Node 4\",\"Node 5\",\"Node 6\"],\"yaxis\":\"y\",\"type\":\"bar\"},{\"alignmentgroup\":\"True\",\"base\":[0.05283355712890625,0.05300617218017578,0.05318403244018555,0.05335688591003418,0.05353093147277832,0.05370807647705078,0.05388689041137695],\"hovertemplate\":\"Task=Iter 39<br>Start=%{base}<br>Finish=%{x}<br>Resource=%{y}<extra></extra>\",\"legendgroup\":\"Iter 39\",\"marker\":{\"color\":\"#FECB52\",\"pattern\":{\"shape\":\"\"}},\"name\":\"Iter 39\",\"offsetgroup\":\"Iter 39\",\"orientation\":\"h\",\"showlegend\":true,\"textposition\":\"auto\",\"x\":[1.6927719116210938e-05,1.5735626220703125e-05,1.5735626220703125e-05,1.5735626220703125e-05,1.5974044799804688e-05,1.5735626220703125e-05,0.00013065338134765625],\"xaxis\":\"x\",\"y\":[\"Node 0\",\"Node 1\",\"Node 2\",\"Node 3\",\"Node 4\",\"Node 5\",\"Node 6\"],\"yaxis\":\"y\",\"type\":\"bar\"},{\"alignmentgroup\":\"True\",\"base\":[0.05418539047241211,0.05436110496520996,0.054532527923583984,0.05470728874206543,0.05487966537475586,0.0550541877746582,0.05523824691772461],\"hovertemplate\":\"Task=Iter 40<br>Start=%{base}<br>Finish=%{x}<br>Resource=%{y}<extra></extra>\",\"legendgroup\":\"Iter 40\",\"marker\":{\"color\":\"#636efa\",\"pattern\":{\"shape\":\"\"}},\"name\":\"Iter 40\",\"offsetgroup\":\"Iter 40\",\"orientation\":\"h\",\"showlegend\":true,\"textposition\":\"auto\",\"x\":[1.8596649169921875e-05,1.5974044799804688e-05,1.5020370483398438e-05,1.5497207641601562e-05,1.52587890625e-05,1.52587890625e-05,0.0001285076141357422],\"xaxis\":\"x\",\"y\":[\"Node 0\",\"Node 1\",\"Node 2\",\"Node 3\",\"Node 4\",\"Node 5\",\"Node 6\"],\"yaxis\":\"y\",\"type\":\"bar\"},{\"alignmentgroup\":\"True\",\"base\":[0.05553436279296875,0.055703163146972656,0.05587053298950195,0.056038856506347656,0.05621695518493652,0.05639171600341797,0.05656766891479492],\"hovertemplate\":\"Task=Iter 41<br>Start=%{base}<br>Finish=%{x}<br>Resource=%{y}<extra></extra>\",\"legendgroup\":\"Iter 41\",\"marker\":{\"color\":\"#EF553B\",\"pattern\":{\"shape\":\"\"}},\"name\":\"Iter 41\",\"offsetgroup\":\"Iter 41\",\"orientation\":\"h\",\"showlegend\":true,\"textposition\":\"auto\",\"x\":[1.6450881958007812e-05,1.52587890625e-05,1.52587890625e-05,1.52587890625e-05,1.5497207641601562e-05,1.5735626220703125e-05,0.0001289844512939453],\"xaxis\":\"x\",\"y\":[\"Node 0\",\"Node 1\",\"Node 2\",\"Node 3\",\"Node 4\",\"Node 5\",\"Node 6\"],\"yaxis\":\"y\",\"type\":\"bar\"},{\"alignmentgroup\":\"True\",\"base\":[0.056842803955078125,0.057012319564819336,0.057187557220458984,0.05736231803894043,0.05753326416015625,0.057706594467163086,0.05788254737854004],\"hovertemplate\":\"Task=Iter 42<br>Start=%{base}<br>Finish=%{x}<br>Resource=%{y}<extra></extra>\",\"legendgroup\":\"Iter 42\",\"marker\":{\"color\":\"#00cc96\",\"pattern\":{\"shape\":\"\"}},\"name\":\"Iter 42\",\"offsetgroup\":\"Iter 42\",\"orientation\":\"h\",\"showlegend\":true,\"textposition\":\"auto\",\"x\":[1.6689300537109375e-05,1.52587890625e-05,1.52587890625e-05,1.52587890625e-05,1.5497207641601562e-05,1.52587890625e-05,0.00012874603271484375],\"xaxis\":\"x\",\"y\":[\"Node 0\",\"Node 1\",\"Node 2\",\"Node 3\",\"Node 4\",\"Node 5\",\"Node 6\"],\"yaxis\":\"y\",\"type\":\"bar\"},{\"alignmentgroup\":\"True\",\"base\":[0.0581660270690918,0.058338165283203125,0.05850505828857422,0.058675527572631836,0.058846235275268555,0.05901980400085449,0.059200286865234375],\"hovertemplate\":\"Task=Iter 43<br>Start=%{base}<br>Finish=%{x}<br>Resource=%{y}<extra></extra>\",\"legendgroup\":\"Iter 43\",\"marker\":{\"color\":\"#ab63fa\",\"pattern\":{\"shape\":\"\"}},\"name\":\"Iter 43\",\"offsetgroup\":\"Iter 43\",\"orientation\":\"h\",\"showlegend\":true,\"textposition\":\"auto\",\"x\":[1.9311904907226562e-05,1.52587890625e-05,1.52587890625e-05,1.52587890625e-05,1.5735626220703125e-05,1.5497207641601562e-05,0.00012946128845214844],\"xaxis\":\"x\",\"y\":[\"Node 0\",\"Node 1\",\"Node 2\",\"Node 3\",\"Node 4\",\"Node 5\",\"Node 6\"],\"yaxis\":\"y\",\"type\":\"bar\"},{\"alignmentgroup\":\"True\",\"base\":[0.05947470664978027,0.05964469909667969,0.05981254577636719,0.059981584548950195,0.06015300750732422,0.060335397720336914,0.060511112213134766],\"hovertemplate\":\"Task=Iter 44<br>Start=%{base}<br>Finish=%{x}<br>Resource=%{y}<extra></extra>\",\"legendgroup\":\"Iter 44\",\"marker\":{\"color\":\"#FFA15A\",\"pattern\":{\"shape\":\"\"}},\"name\":\"Iter 44\",\"offsetgroup\":\"Iter 44\",\"orientation\":\"h\",\"showlegend\":true,\"textposition\":\"auto\",\"x\":[1.71661376953125e-05,1.52587890625e-05,1.5020370483398438e-05,1.5497207641601562e-05,2.3126602172851562e-05,1.5735626220703125e-05,0.0001289844512939453],\"xaxis\":\"x\",\"y\":[\"Node 0\",\"Node 1\",\"Node 2\",\"Node 3\",\"Node 4\",\"Node 5\",\"Node 6\"],\"yaxis\":\"y\",\"type\":\"bar\"},{\"alignmentgroup\":\"True\",\"base\":[0.06078696250915527,0.06096053123474121,0.06112861633300781,0.06131291389465332,0.06148409843444824,0.06165742874145508,0.061833858489990234],\"hovertemplate\":\"Task=Iter 45<br>Start=%{base}<br>Finish=%{x}<br>Resource=%{y}<extra></extra>\",\"legendgroup\":\"Iter 45\",\"marker\":{\"color\":\"#19d3f3\",\"pattern\":{\"shape\":\"\"}},\"name\":\"Iter 45\",\"offsetgroup\":\"Iter 45\",\"orientation\":\"h\",\"showlegend\":true,\"textposition\":\"auto\",\"x\":[1.6689300537109375e-05,1.5497207641601562e-05,1.5020370483398438e-05,1.52587890625e-05,1.52587890625e-05,1.5497207641601562e-05,0.0001289844512939453],\"xaxis\":\"x\",\"y\":[\"Node 0\",\"Node 1\",\"Node 2\",\"Node 3\",\"Node 4\",\"Node 5\",\"Node 6\"],\"yaxis\":\"y\",\"type\":\"bar\"},{\"alignmentgroup\":\"True\",\"base\":[0.06210827827453613,0.062290191650390625,0.06245708465576172,0.06262707710266113,0.06279850006103516,0.0629727840423584,0.06316041946411133],\"hovertemplate\":\"Task=Iter 46<br>Start=%{base}<br>Finish=%{x}<br>Resource=%{y}<extra></extra>\",\"legendgroup\":\"Iter 46\",\"marker\":{\"color\":\"#FF6692\",\"pattern\":{\"shape\":\"\"}},\"name\":\"Iter 46\",\"offsetgroup\":\"Iter 46\",\"orientation\":\"h\",\"showlegend\":true,\"textposition\":\"auto\",\"x\":[1.6689300537109375e-05,1.5497207641601562e-05,1.52587890625e-05,1.52587890625e-05,1.5020370483398438e-05,1.5497207641601562e-05,0.0001323223114013672],\"xaxis\":\"x\",\"y\":[\"Node 0\",\"Node 1\",\"Node 2\",\"Node 3\",\"Node 4\",\"Node 5\",\"Node 6\"],\"yaxis\":\"y\",\"type\":\"bar\"},{\"alignmentgroup\":\"True\",\"base\":[0.06344199180603027,0.06361150741577148,0.06378006935119629,0.0639491081237793,0.06412172317504883,0.06431007385253906,0.06448721885681152],\"hovertemplate\":\"Task=Iter 47<br>Start=%{base}<br>Finish=%{x}<br>Resource=%{y}<extra></extra>\",\"legendgroup\":\"Iter 47\",\"marker\":{\"color\":\"#B6E880\",\"pattern\":{\"shape\":\"\"}},\"name\":\"Iter 47\",\"offsetgroup\":\"Iter 47\",\"orientation\":\"h\",\"showlegend\":true,\"textposition\":\"auto\",\"x\":[1.6927719116210938e-05,1.5497207641601562e-05,1.5020370483398438e-05,1.52587890625e-05,1.52587890625e-05,1.5735626220703125e-05,0.0001285076141357422],\"xaxis\":\"x\",\"y\":[\"Node 0\",\"Node 1\",\"Node 2\",\"Node 3\",\"Node 4\",\"Node 5\",\"Node 6\"],\"yaxis\":\"y\",\"type\":\"bar\"},{\"alignmentgroup\":\"True\",\"base\":[0.06476211547851562,0.06493139266967773,0.06509757041931152,0.06528496742248535,0.0654597282409668,0.06563425064086914,0.0658102035522461],\"hovertemplate\":\"Task=Iter 48<br>Start=%{base}<br>Finish=%{x}<br>Resource=%{y}<extra></extra>\",\"legendgroup\":\"Iter 48\",\"marker\":{\"color\":\"#FF97FF\",\"pattern\":{\"shape\":\"\"}},\"name\":\"Iter 48\",\"offsetgroup\":\"Iter 48\",\"orientation\":\"h\",\"showlegend\":true,\"textposition\":\"auto\",\"x\":[1.6689300537109375e-05,1.52587890625e-05,1.5020370483398438e-05,1.7881393432617188e-05,1.5735626220703125e-05,1.52587890625e-05,0.00012922286987304688],\"xaxis\":\"x\",\"y\":[\"Node 0\",\"Node 1\",\"Node 2\",\"Node 3\",\"Node 4\",\"Node 5\",\"Node 6\"],\"yaxis\":\"y\",\"type\":\"bar\"},{\"alignmentgroup\":\"True\",\"base\":[0.0660855770111084,0.0662989616394043,0.06650686264038086,0.06667780876159668,0.06684994697570801,0.06702446937561035,0.06722450256347656],\"hovertemplate\":\"Task=Iter 49<br>Start=%{base}<br>Finish=%{x}<br>Resource=%{y}<extra></extra>\",\"legendgroup\":\"Iter 49\",\"marker\":{\"color\":\"#FECB52\",\"pattern\":{\"shape\":\"\"}},\"name\":\"Iter 49\",\"offsetgroup\":\"Iter 49\",\"orientation\":\"h\",\"showlegend\":true,\"textposition\":\"auto\",\"x\":[1.621246337890625e-05,1.9550323486328125e-05,1.6450881958007812e-05,1.5497207641601562e-05,1.52587890625e-05,1.5497207641601562e-05,0.00015211105346679688],\"xaxis\":\"x\",\"y\":[\"Node 0\",\"Node 1\",\"Node 2\",\"Node 3\",\"Node 4\",\"Node 5\",\"Node 6\"],\"yaxis\":\"y\",\"type\":\"bar\"},{\"alignmentgroup\":\"True\",\"base\":[0.06753349304199219,0.06770491600036621,0.06787252426147461,0.06804275512695312,0.06822586059570312,0.0684049129486084,0.06858158111572266],\"hovertemplate\":\"Task=Iter 50<br>Start=%{base}<br>Finish=%{x}<br>Resource=%{y}<extra></extra>\",\"legendgroup\":\"Iter 50\",\"marker\":{\"color\":\"#636efa\",\"pattern\":{\"shape\":\"\"}},\"name\":\"Iter 50\",\"offsetgroup\":\"Iter 50\",\"orientation\":\"h\",\"showlegend\":true,\"textposition\":\"auto\",\"x\":[1.71661376953125e-05,1.5497207641601562e-05,1.5497207641601562e-05,1.5497207641601562e-05,1.7642974853515625e-05,1.5497207641601562e-05,0.00012922286987304688],\"xaxis\":\"x\",\"y\":[\"Node 0\",\"Node 1\",\"Node 2\",\"Node 3\",\"Node 4\",\"Node 5\",\"Node 6\"],\"yaxis\":\"y\",\"type\":\"bar\"}],                        {\"template\":{\"data\":{\"histogram2dcontour\":[{\"type\":\"histogram2dcontour\",\"colorbar\":{\"outlinewidth\":0,\"ticks\":\"\"},\"colorscale\":[[0.0,\"#0d0887\"],[0.1111111111111111,\"#46039f\"],[0.2222222222222222,\"#7201a8\"],[0.3333333333333333,\"#9c179e\"],[0.4444444444444444,\"#bd3786\"],[0.5555555555555556,\"#d8576b\"],[0.6666666666666666,\"#ed7953\"],[0.7777777777777778,\"#fb9f3a\"],[0.8888888888888888,\"#fdca26\"],[1.0,\"#f0f921\"]]}],\"choropleth\":[{\"type\":\"choropleth\",\"colorbar\":{\"outlinewidth\":0,\"ticks\":\"\"}}],\"histogram2d\":[{\"type\":\"histogram2d\",\"colorbar\":{\"outlinewidth\":0,\"ticks\":\"\"},\"colorscale\":[[0.0,\"#0d0887\"],[0.1111111111111111,\"#46039f\"],[0.2222222222222222,\"#7201a8\"],[0.3333333333333333,\"#9c179e\"],[0.4444444444444444,\"#bd3786\"],[0.5555555555555556,\"#d8576b\"],[0.6666666666666666,\"#ed7953\"],[0.7777777777777778,\"#fb9f3a\"],[0.8888888888888888,\"#fdca26\"],[1.0,\"#f0f921\"]]}],\"heatmap\":[{\"type\":\"heatmap\",\"colorbar\":{\"outlinewidth\":0,\"ticks\":\"\"},\"colorscale\":[[0.0,\"#0d0887\"],[0.1111111111111111,\"#46039f\"],[0.2222222222222222,\"#7201a8\"],[0.3333333333333333,\"#9c179e\"],[0.4444444444444444,\"#bd3786\"],[0.5555555555555556,\"#d8576b\"],[0.6666666666666666,\"#ed7953\"],[0.7777777777777778,\"#fb9f3a\"],[0.8888888888888888,\"#fdca26\"],[1.0,\"#f0f921\"]]}],\"heatmapgl\":[{\"type\":\"heatmapgl\",\"colorbar\":{\"outlinewidth\":0,\"ticks\":\"\"},\"colorscale\":[[0.0,\"#0d0887\"],[0.1111111111111111,\"#46039f\"],[0.2222222222222222,\"#7201a8\"],[0.3333333333333333,\"#9c179e\"],[0.4444444444444444,\"#bd3786\"],[0.5555555555555556,\"#d8576b\"],[0.6666666666666666,\"#ed7953\"],[0.7777777777777778,\"#fb9f3a\"],[0.8888888888888888,\"#fdca26\"],[1.0,\"#f0f921\"]]}],\"contourcarpet\":[{\"type\":\"contourcarpet\",\"colorbar\":{\"outlinewidth\":0,\"ticks\":\"\"}}],\"contour\":[{\"type\":\"contour\",\"colorbar\":{\"outlinewidth\":0,\"ticks\":\"\"},\"colorscale\":[[0.0,\"#0d0887\"],[0.1111111111111111,\"#46039f\"],[0.2222222222222222,\"#7201a8\"],[0.3333333333333333,\"#9c179e\"],[0.4444444444444444,\"#bd3786\"],[0.5555555555555556,\"#d8576b\"],[0.6666666666666666,\"#ed7953\"],[0.7777777777777778,\"#fb9f3a\"],[0.8888888888888888,\"#fdca26\"],[1.0,\"#f0f921\"]]}],\"surface\":[{\"type\":\"surface\",\"colorbar\":{\"outlinewidth\":0,\"ticks\":\"\"},\"colorscale\":[[0.0,\"#0d0887\"],[0.1111111111111111,\"#46039f\"],[0.2222222222222222,\"#7201a8\"],[0.3333333333333333,\"#9c179e\"],[0.4444444444444444,\"#bd3786\"],[0.5555555555555556,\"#d8576b\"],[0.6666666666666666,\"#ed7953\"],[0.7777777777777778,\"#fb9f3a\"],[0.8888888888888888,\"#fdca26\"],[1.0,\"#f0f921\"]]}],\"mesh3d\":[{\"type\":\"mesh3d\",\"colorbar\":{\"outlinewidth\":0,\"ticks\":\"\"}}],\"scatter\":[{\"fillpattern\":{\"fillmode\":\"overlay\",\"size\":10,\"solidity\":0.2},\"type\":\"scatter\"}],\"parcoords\":[{\"type\":\"parcoords\",\"line\":{\"colorbar\":{\"outlinewidth\":0,\"ticks\":\"\"}}}],\"scatterpolargl\":[{\"type\":\"scatterpolargl\",\"marker\":{\"colorbar\":{\"outlinewidth\":0,\"ticks\":\"\"}}}],\"bar\":[{\"error_x\":{\"color\":\"#2a3f5f\"},\"error_y\":{\"color\":\"#2a3f5f\"},\"marker\":{\"line\":{\"color\":\"#E5ECF6\",\"width\":0.5},\"pattern\":{\"fillmode\":\"overlay\",\"size\":10,\"solidity\":0.2}},\"type\":\"bar\"}],\"scattergeo\":[{\"type\":\"scattergeo\",\"marker\":{\"colorbar\":{\"outlinewidth\":0,\"ticks\":\"\"}}}],\"scatterpolar\":[{\"type\":\"scatterpolar\",\"marker\":{\"colorbar\":{\"outlinewidth\":0,\"ticks\":\"\"}}}],\"histogram\":[{\"marker\":{\"pattern\":{\"fillmode\":\"overlay\",\"size\":10,\"solidity\":0.2}},\"type\":\"histogram\"}],\"scattergl\":[{\"type\":\"scattergl\",\"marker\":{\"colorbar\":{\"outlinewidth\":0,\"ticks\":\"\"}}}],\"scatter3d\":[{\"type\":\"scatter3d\",\"line\":{\"colorbar\":{\"outlinewidth\":0,\"ticks\":\"\"}},\"marker\":{\"colorbar\":{\"outlinewidth\":0,\"ticks\":\"\"}}}],\"scattermapbox\":[{\"type\":\"scattermapbox\",\"marker\":{\"colorbar\":{\"outlinewidth\":0,\"ticks\":\"\"}}}],\"scatterternary\":[{\"type\":\"scatterternary\",\"marker\":{\"colorbar\":{\"outlinewidth\":0,\"ticks\":\"\"}}}],\"scattercarpet\":[{\"type\":\"scattercarpet\",\"marker\":{\"colorbar\":{\"outlinewidth\":0,\"ticks\":\"\"}}}],\"carpet\":[{\"aaxis\":{\"endlinecolor\":\"#2a3f5f\",\"gridcolor\":\"white\",\"linecolor\":\"white\",\"minorgridcolor\":\"white\",\"startlinecolor\":\"#2a3f5f\"},\"baxis\":{\"endlinecolor\":\"#2a3f5f\",\"gridcolor\":\"white\",\"linecolor\":\"white\",\"minorgridcolor\":\"white\",\"startlinecolor\":\"#2a3f5f\"},\"type\":\"carpet\"}],\"table\":[{\"cells\":{\"fill\":{\"color\":\"#EBF0F8\"},\"line\":{\"color\":\"white\"}},\"header\":{\"fill\":{\"color\":\"#C8D4E3\"},\"line\":{\"color\":\"white\"}},\"type\":\"table\"}],\"barpolar\":[{\"marker\":{\"line\":{\"color\":\"#E5ECF6\",\"width\":0.5},\"pattern\":{\"fillmode\":\"overlay\",\"size\":10,\"solidity\":0.2}},\"type\":\"barpolar\"}],\"pie\":[{\"automargin\":true,\"type\":\"pie\"}]},\"layout\":{\"autotypenumbers\":\"strict\",\"colorway\":[\"#636efa\",\"#EF553B\",\"#00cc96\",\"#ab63fa\",\"#FFA15A\",\"#19d3f3\",\"#FF6692\",\"#B6E880\",\"#FF97FF\",\"#FECB52\"],\"font\":{\"color\":\"#2a3f5f\"},\"hovermode\":\"closest\",\"hoverlabel\":{\"align\":\"left\"},\"paper_bgcolor\":\"white\",\"plot_bgcolor\":\"#E5ECF6\",\"polar\":{\"bgcolor\":\"#E5ECF6\",\"angularaxis\":{\"gridcolor\":\"white\",\"linecolor\":\"white\",\"ticks\":\"\"},\"radialaxis\":{\"gridcolor\":\"white\",\"linecolor\":\"white\",\"ticks\":\"\"}},\"ternary\":{\"bgcolor\":\"#E5ECF6\",\"aaxis\":{\"gridcolor\":\"white\",\"linecolor\":\"white\",\"ticks\":\"\"},\"baxis\":{\"gridcolor\":\"white\",\"linecolor\":\"white\",\"ticks\":\"\"},\"caxis\":{\"gridcolor\":\"white\",\"linecolor\":\"white\",\"ticks\":\"\"}},\"coloraxis\":{\"colorbar\":{\"outlinewidth\":0,\"ticks\":\"\"}},\"colorscale\":{\"sequential\":[[0.0,\"#0d0887\"],[0.1111111111111111,\"#46039f\"],[0.2222222222222222,\"#7201a8\"],[0.3333333333333333,\"#9c179e\"],[0.4444444444444444,\"#bd3786\"],[0.5555555555555556,\"#d8576b\"],[0.6666666666666666,\"#ed7953\"],[0.7777777777777778,\"#fb9f3a\"],[0.8888888888888888,\"#fdca26\"],[1.0,\"#f0f921\"]],\"sequentialminus\":[[0.0,\"#0d0887\"],[0.1111111111111111,\"#46039f\"],[0.2222222222222222,\"#7201a8\"],[0.3333333333333333,\"#9c179e\"],[0.4444444444444444,\"#bd3786\"],[0.5555555555555556,\"#d8576b\"],[0.6666666666666666,\"#ed7953\"],[0.7777777777777778,\"#fb9f3a\"],[0.8888888888888888,\"#fdca26\"],[1.0,\"#f0f921\"]],\"diverging\":[[0,\"#8e0152\"],[0.1,\"#c51b7d\"],[0.2,\"#de77ae\"],[0.3,\"#f1b6da\"],[0.4,\"#fde0ef\"],[0.5,\"#f7f7f7\"],[0.6,\"#e6f5d0\"],[0.7,\"#b8e186\"],[0.8,\"#7fbc41\"],[0.9,\"#4d9221\"],[1,\"#276419\"]]},\"xaxis\":{\"gridcolor\":\"white\",\"linecolor\":\"white\",\"ticks\":\"\",\"title\":{\"standoff\":15},\"zerolinecolor\":\"white\",\"automargin\":true,\"zerolinewidth\":2},\"yaxis\":{\"gridcolor\":\"white\",\"linecolor\":\"white\",\"ticks\":\"\",\"title\":{\"standoff\":15},\"zerolinecolor\":\"white\",\"automargin\":true,\"zerolinewidth\":2},\"scene\":{\"xaxis\":{\"backgroundcolor\":\"#E5ECF6\",\"gridcolor\":\"white\",\"linecolor\":\"white\",\"showbackground\":true,\"ticks\":\"\",\"zerolinecolor\":\"white\",\"gridwidth\":2},\"yaxis\":{\"backgroundcolor\":\"#E5ECF6\",\"gridcolor\":\"white\",\"linecolor\":\"white\",\"showbackground\":true,\"ticks\":\"\",\"zerolinecolor\":\"white\",\"gridwidth\":2},\"zaxis\":{\"backgroundcolor\":\"#E5ECF6\",\"gridcolor\":\"white\",\"linecolor\":\"white\",\"showbackground\":true,\"ticks\":\"\",\"zerolinecolor\":\"white\",\"gridwidth\":2}},\"shapedefaults\":{\"line\":{\"color\":\"#2a3f5f\"}},\"annotationdefaults\":{\"arrowcolor\":\"#2a3f5f\",\"arrowhead\":0,\"arrowwidth\":1},\"geo\":{\"bgcolor\":\"white\",\"landcolor\":\"#E5ECF6\",\"subunitcolor\":\"white\",\"showland\":true,\"showlakes\":true,\"lakecolor\":\"white\"},\"title\":{\"x\":0.05},\"mapbox\":{\"style\":\"light\"}}},\"xaxis\":{\"anchor\":\"y\",\"domain\":[0.0,1.0],\"type\":\"linear\"},\"yaxis\":{\"anchor\":\"x\",\"domain\":[0.0,1.0],\"title\":{\"text\":\"Resource\"},\"autorange\":\"reversed\"},\"legend\":{\"title\":{\"text\":\"Task\"},\"tracegroupgap\":0},\"margin\":{\"t\":60},\"barmode\":\"overlay\",\"title\":{\"text\":\"Parallel WTA\"}},                        {\"responsive\": true}                    ).then(function(){\n",
       "                            \n",
       "var gd = document.getElementById('2558c47f-52fe-476e-a9cc-f49ab4bc9d77');\n",
       "var x = new MutationObserver(function (mutations, observer) {{\n",
       "        var display = window.getComputedStyle(gd).display;\n",
       "        if (!display || display === 'none') {{\n",
       "            console.log([gd, 'removed!']);\n",
       "            Plotly.purge(gd);\n",
       "            observer.disconnect();\n",
       "        }}\n",
       "}});\n",
       "\n",
       "// Listen for the removal of the full notebook cells\n",
       "var notebookContainer = gd.closest('#notebook-container');\n",
       "if (notebookContainer) {{\n",
       "    x.observe(notebookContainer, {childList: true});\n",
       "}}\n",
       "\n",
       "// Listen for the clearing of the current output cell\n",
       "var outputEl = gd.closest('.output');\n",
       "if (outputEl) {{\n",
       "    x.observe(outputEl, {childList: true});\n",
       "}}\n",
       "\n",
       "                        })                };                });            </script>        </div>"
      ]
     },
     "metadata": {},
     "output_type": "display_data"
    }
   ],
   "source": [
    "fig = getDataGantt(data, \"Parallel WTA\")\n",
    "fig.show()"
   ]
  },
  {
   "cell_type": "code",
   "execution_count": null,
   "metadata": {},
   "outputs": [],
   "source": [
    "\n",
    "    # Alternating 'Node i' and 'Projection' labels\n",
    "    # title = 'LambertW Prox with single projection using max connectivity'\n",
    "    # subtitle = f'{n} nodes with {wpns} weapons and {tgts} targets'\n",
    "    # graphResults(logs, None, true_p, title, subtitle)"
   ]
  }
 ],
 "metadata": {
  "kernelspec": {
   "display_name": "base",
   "language": "python",
   "name": "python3"
  },
  "language_info": {
   "codemirror_mode": {
    "name": "ipython",
    "version": 3
   },
   "file_extension": ".py",
   "mimetype": "text/x-python",
   "name": "python",
   "nbconvert_exporter": "python",
   "pygments_lexer": "ipython3",
   "version": "3.9.13"
  }
 },
 "nbformat": 4,
 "nbformat_minor": 2
}
