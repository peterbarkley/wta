{
 "cells": [
  {
   "cell_type": "code",
   "execution_count": 1,
   "metadata": {},
   "outputs": [],
   "source": [
    "# Import log json file and view Gantt chart of the log\n",
    "import json\n",
    "import pandas as pd\n",
    "import matplotlib.pyplot as plt\n",
    "import plotly.express as px\n",
    "import numpy as np"
   ]
  },
  {
   "cell_type": "code",
   "execution_count": 2,
   "metadata": {},
   "outputs": [],
   "source": [
    "\n",
    "def graphResults(logs, labels, ref, title, subtitle):\n",
    "    '''Graph the results'''\n",
    "\n",
    "    i=0\n",
    "    for log in logs:\n",
    "        if labels:\n",
    "            plt.plot(log, label=labels[i])\n",
    "        else:\n",
    "            plt.plot(log)\n",
    "        i+=1\n",
    "    \n",
    "    # Horizontal line for reference\n",
    "    plt.axhline(y=ref, color='red', linestyle='dashed')\n",
    "    \n",
    "    # Add labels\n",
    "    plt.xlabel('Time')\n",
    "    plt.ylabel('Value')\n",
    "    plt.title(subtitle)\n",
    "    plt.suptitle(title)\n",
    "    # Add legend\n",
    "    plt.legend()\n",
    "    #plt.show()\n",
    "\n",
    "    # Save the figure\n",
    "    timestamp = time()\n",
    "    plt.savefig(title+str(timestamp)+'.png')\n",
    "\n",
    "def getDataGantt(logs, title):\n",
    "    n = len(logs)\n",
    "    #tt, s, x = getCycleTime(t, l, L, W)\n",
    "    dflist = []\n",
    "\n",
    "    j = 0\n",
    "    for log in logs: # Node logs\n",
    "        i = 0\n",
    "        for iterlog in log: # Operations\n",
    "            if i > 50:\n",
    "                break\n",
    "            start = iterlog['start']\n",
    "            stop = iterlog['end']\n",
    "            if j==0 and i==0:\n",
    "                offset = start\n",
    "            start = start - offset\n",
    "            stop = stop - offset\n",
    "            #start = s[i,j]\n",
    "            #stop = start + t[j]\n",
    "            dflist.append(dict(Task=\"Iter %s\" % i, Start=start, Finish=stop, Resource=\"Node %s\" % j))\n",
    "            i += 1\n",
    "        j += 1\n",
    "    df = pd.DataFrame(dflist)\n",
    "    df['delta'] = df['Finish'] - df['Start']\n",
    "    # Export df to csv\n",
    "    #df.to_csv(title+'.csv')\n",
    "\n",
    "    fig = px.timeline(df, x_start=\"Start\", x_end=\"Finish\", y=\"Resource\", color=\"Task\")\n",
    "    fig.update_yaxes(autorange=\"reversed\") \n",
    "\n",
    "    fig.layout.xaxis.type = 'linear'\n",
    "    for d in fig.data:\n",
    "        filt = df['Task'] == d.name\n",
    "        d.x = df[filt]['delta'].tolist()\n",
    "\n",
    "    fig.update_layout(title_text=title)\n",
    "    return fig\n"
   ]
  },
  {
   "cell_type": "code",
   "execution_count": 3,
   "metadata": {},
   "outputs": [],
   "source": [
    "# Import log file logs_lambert1710*.json\n",
    "LW_titles = ['full', 'MT', 'block2']\n",
    "logs = []\n",
    "for title in LW_titles:\n",
    "    log = []\n",
    "    for node in range(10):\n",
    "        logname = 'logs_wta'+str(node)+'_'+title+'.json'\n",
    "        with open(logname) as f:\n",
    "            data = json.load(f)\n",
    "        log.append(data)\n",
    "    logs.append(log)\n",
    "\n",
    "# Data is a list of lists with the following structure:\n",
    "# data = [[node1_1, node1_2, ... ],[node2_1, node2_2, ...],...]\n",
    "# where log1 is a dictionary with the following structure:\n",
    "# log1 = {'start': 0, 'end': 0, 'value': 0, 'time': 0}\n",
    "\n"
   ]
  },
  {
   "cell_type": "code",
   "execution_count": 4,
   "metadata": {},
   "outputs": [
    {
     "data": {
      "text/plain": [
       "10"
      ]
     },
     "execution_count": 4,
     "metadata": {},
     "output_type": "execute_result"
    }
   ],
   "source": [
    "len(logs[0])\n"
   ]
  },
  {
   "cell_type": "code",
   "execution_count": 4,
   "metadata": {},
   "outputs": [
    {
     "data": {
      "application/vnd.plotly.v1+json": {
       "config": {
        "plotlyServerURL": "https://plot.ly"
       },
       "data": [
        {
         "alignmentgroup": "True",
         "base": [
          0,
          0.002763509750366211,
          0.0029277801513671875,
          0.003134489059448242,
          0.0032525062561035156,
          0.003518342971801758,
          0.0036687850952148438,
          0.0038530826568603516,
          0.003983259201049805,
          0.0041294097900390625
         ],
         "hovertemplate": "Task=Iter 0<br>Start=%{base}<br>Finish=%{x}<br>Resource=%{y}<extra></extra>",
         "legendgroup": "Iter 0",
         "marker": {
          "color": "#636efa",
          "pattern": {
           "shape": ""
          }
         },
         "name": "Iter 0",
         "offsetgroup": "Iter 0",
         "orientation": "h",
         "showlegend": true,
         "textposition": "auto",
         "type": "bar",
         "x": [
          0.000050067901611328125,
          0.00011920928955078125,
          0.00017523765563964844,
          0.00008487701416015625,
          0.00023674964904785156,
          0.00010085105895996094,
          0.00012612342834472656,
          0.00008440017700195312,
          0.00011348724365234375,
          0.0008819103240966797
         ],
         "xaxis": "x",
         "y": [
          "Node 0",
          "Node 1",
          "Node 2",
          "Node 3",
          "Node 4",
          "Node 5",
          "Node 6",
          "Node 7",
          "Node 8",
          "Node 9"
         ],
         "yaxis": "y"
        },
        {
         "alignmentgroup": "True",
         "base": [
          0.005187511444091797,
          0.005227327346801758,
          0.005260467529296875,
          0.005295515060424805,
          0.005333423614501953,
          0.005377054214477539,
          0.005414724349975586,
          0.00545191764831543,
          0.005492448806762695,
          0.005524396896362305
         ],
         "hovertemplate": "Task=Iter 1<br>Start=%{base}<br>Finish=%{x}<br>Resource=%{y}<extra></extra>",
         "legendgroup": "Iter 1",
         "marker": {
          "color": "#EF553B",
          "pattern": {
           "shape": ""
          }
         },
         "name": "Iter 1",
         "offsetgroup": "Iter 1",
         "orientation": "h",
         "showlegend": true,
         "textposition": "auto",
         "type": "bar",
         "x": [
          0.000015735626220703125,
          0.000015974044799804688,
          0.000015974044799804688,
          0.000020265579223632812,
          0.000016689300537109375,
          0.000019788742065429688,
          0.000019311904907226562,
          0.000020742416381835938,
          0.000015497207641601562,
          0.0006935596466064453
         ],
         "xaxis": "x",
         "y": [
          "Node 0",
          "Node 1",
          "Node 2",
          "Node 3",
          "Node 4",
          "Node 5",
          "Node 6",
          "Node 7",
          "Node 8",
          "Node 9"
         ],
         "yaxis": "y"
        },
        {
         "alignmentgroup": "True",
         "base": [
          0.006273746490478516,
          0.006306171417236328,
          0.006335735321044922,
          0.006376981735229492,
          0.006406545639038086,
          0.0064389705657958984,
          0.006469249725341797,
          0.006501436233520508,
          0.0065326690673828125,
          0.006564617156982422
         ],
         "hovertemplate": "Task=Iter 2<br>Start=%{base}<br>Finish=%{x}<br>Resource=%{y}<extra></extra>",
         "legendgroup": "Iter 2",
         "marker": {
          "color": "#00cc96",
          "pattern": {
           "shape": ""
          }
         },
         "name": "Iter 2",
         "offsetgroup": "Iter 2",
         "orientation": "h",
         "showlegend": true,
         "textposition": "auto",
         "type": "bar",
         "x": [
          0.000013113021850585938,
          0.000012874603271484375,
          0.000013113021850585938,
          0.0000133514404296875,
          0.0000133514404296875,
          0.000012874603271484375,
          0.000013828277587890625,
          0.000013828277587890625,
          0.000015020370483398438,
          0.0006835460662841797
         ],
         "xaxis": "x",
         "y": [
          "Node 0",
          "Node 1",
          "Node 2",
          "Node 3",
          "Node 4",
          "Node 5",
          "Node 6",
          "Node 7",
          "Node 8",
          "Node 9"
         ],
         "yaxis": "y"
        },
        {
         "alignmentgroup": "True",
         "base": [
          0.007346153259277344,
          0.007488727569580078,
          0.007518768310546875,
          0.00754857063293457,
          0.007584810256958008,
          0.007613658905029297,
          0.007642269134521484,
          0.007674694061279297,
          0.007704257965087891,
          0.0077326297760009766
         ],
         "hovertemplate": "Task=Iter 3<br>Start=%{base}<br>Finish=%{x}<br>Resource=%{y}<extra></extra>",
         "legendgroup": "Iter 3",
         "marker": {
          "color": "#ab63fa",
          "pattern": {
           "shape": ""
          }
         },
         "name": "Iter 3",
         "offsetgroup": "Iter 3",
         "orientation": "h",
         "showlegend": true,
         "textposition": "auto",
         "type": "bar",
         "x": [
          0.00010395050048828125,
          0.0000133514404296875,
          0.000012159347534179688,
          0.000012874603271484375,
          0.000013113021850585938,
          0.000013113021850585938,
          0.000013589859008789062,
          0.000012874603271484375,
          0.00001239776611328125,
          0.0006873607635498047
         ],
         "xaxis": "x",
         "y": [
          "Node 0",
          "Node 1",
          "Node 2",
          "Node 3",
          "Node 4",
          "Node 5",
          "Node 6",
          "Node 7",
          "Node 8",
          "Node 9"
         ],
         "yaxis": "y"
        },
        {
         "alignmentgroup": "True",
         "base": [
          0.008468389511108398,
          0.008507251739501953,
          0.008534669876098633,
          0.008566141128540039,
          0.008596658706665039,
          0.008628606796264648,
          0.00865626335144043,
          0.008685111999511719,
          0.008713960647583008,
          0.008742094039916992
         ],
         "hovertemplate": "Task=Iter 4<br>Start=%{base}<br>Finish=%{x}<br>Resource=%{y}<extra></extra>",
         "legendgroup": "Iter 4",
         "marker": {
          "color": "#FFA15A",
          "pattern": {
           "shape": ""
          }
         },
         "name": "Iter 4",
         "offsetgroup": "Iter 4",
         "orientation": "h",
         "showlegend": true,
         "textposition": "auto",
         "type": "bar",
         "x": [
          0.0000152587890625,
          0.000012159347534179688,
          0.000011682510375976562,
          0.000012636184692382812,
          0.00001239776611328125,
          0.000012159347534179688,
          0.000012874603271484375,
          0.00001239776611328125,
          0.000011920928955078125,
          0.0007283687591552734
         ],
         "xaxis": "x",
         "y": [
          "Node 0",
          "Node 1",
          "Node 2",
          "Node 3",
          "Node 4",
          "Node 5",
          "Node 6",
          "Node 7",
          "Node 8",
          "Node 9"
         ],
         "yaxis": "y"
        },
        {
         "alignmentgroup": "True",
         "base": [
          0.009519338607788086,
          0.009556293487548828,
          0.00958561897277832,
          0.009615659713745117,
          0.00964498519897461,
          0.009676694869995117,
          0.009704351425170898,
          0.009732723236083984,
          0.009761571884155273,
          0.00979161262512207
         ],
         "hovertemplate": "Task=Iter 5<br>Start=%{base}<br>Finish=%{x}<br>Resource=%{y}<extra></extra>",
         "legendgroup": "Iter 5",
         "marker": {
          "color": "#19d3f3",
          "pattern": {
           "shape": ""
          }
         },
         "name": "Iter 5",
         "offsetgroup": "Iter 5",
         "orientation": "h",
         "showlegend": true,
         "textposition": "auto",
         "type": "bar",
         "x": [
          0.000013828277587890625,
          0.000012636184692382812,
          0.000012874603271484375,
          0.000011920928955078125,
          0.000012874603271484375,
          0.000012874603271484375,
          0.000012636184692382812,
          0.00001239776611328125,
          0.000011682510375976562,
          0.0006892681121826172
         ],
         "xaxis": "x",
         "y": [
          "Node 0",
          "Node 1",
          "Node 2",
          "Node 3",
          "Node 4",
          "Node 5",
          "Node 6",
          "Node 7",
          "Node 8",
          "Node 9"
         ],
         "yaxis": "y"
        },
        {
         "alignmentgroup": "True",
         "base": [
          0.010527610778808594,
          0.010561466217041016,
          0.010591268539428711,
          0.01062631607055664,
          0.010654449462890625,
          0.010684728622436523,
          0.010713815689086914,
          0.010746955871582031,
          0.01077413558959961,
          0.010802745819091797
         ],
         "hovertemplate": "Task=Iter 6<br>Start=%{base}<br>Finish=%{x}<br>Resource=%{y}<extra></extra>",
         "legendgroup": "Iter 6",
         "marker": {
          "color": "#FF6692",
          "pattern": {
           "shape": ""
          }
         },
         "name": "Iter 6",
         "offsetgroup": "Iter 6",
         "orientation": "h",
         "showlegend": true,
         "textposition": "auto",
         "type": "bar",
         "x": [
          0.00001239776611328125,
          0.000011920928955078125,
          0.00001239776611328125,
          0.000012159347534179688,
          0.000011920928955078125,
          0.000011682510375976562,
          0.000011682510375976562,
          0.000011682510375976562,
          0.000012636184692382812,
          0.0006871223449707031
         ],
         "xaxis": "x",
         "y": [
          "Node 0",
          "Node 1",
          "Node 2",
          "Node 3",
          "Node 4",
          "Node 5",
          "Node 6",
          "Node 7",
          "Node 8",
          "Node 9"
         ],
         "yaxis": "y"
        },
        {
         "alignmentgroup": "True",
         "base": [
          0.01153874397277832,
          0.01157689094543457,
          0.011606216430664062,
          0.011642217636108398,
          0.011675119400024414,
          0.011710882186889648,
          0.011739492416381836,
          0.011768817901611328,
          0.01179814338684082,
          0.011827707290649414
         ],
         "hovertemplate": "Task=Iter 7<br>Start=%{base}<br>Finish=%{x}<br>Resource=%{y}<extra></extra>",
         "legendgroup": "Iter 7",
         "marker": {
          "color": "#B6E880",
          "pattern": {
           "shape": ""
          }
         },
         "name": "Iter 7",
         "offsetgroup": "Iter 7",
         "orientation": "h",
         "showlegend": true,
         "textposition": "auto",
         "type": "bar",
         "x": [
          0.0000171661376953125,
          0.000015497207641601562,
          0.000022649765014648438,
          0.000018835067749023438,
          0.000023365020751953125,
          0.000016927719116210938,
          0.0000171661376953125,
          0.0000171661376953125,
          0.0000171661376953125,
          0.0007014274597167969
         ],
         "xaxis": "x",
         "y": [
          "Node 0",
          "Node 1",
          "Node 2",
          "Node 3",
          "Node 4",
          "Node 5",
          "Node 6",
          "Node 7",
          "Node 8",
          "Node 9"
         ],
         "yaxis": "y"
        },
        {
         "alignmentgroup": "True",
         "base": [
          0.012571096420288086,
          0.012606143951416016,
          0.012635946273803711,
          0.012660026550292969,
          0.012684822082519531,
          0.012717247009277344,
          0.012741804122924805,
          0.01276707649230957,
          0.012798070907592773,
          0.012822628021240234
         ],
         "hovertemplate": "Task=Iter 8<br>Start=%{base}<br>Finish=%{x}<br>Resource=%{y}<extra></extra>",
         "legendgroup": "Iter 8",
         "marker": {
          "color": "#FF97FF",
          "pattern": {
           "shape": ""
          }
         },
         "name": "Iter 8",
         "offsetgroup": "Iter 8",
         "orientation": "h",
         "showlegend": true,
         "textposition": "auto",
         "type": "bar",
         "x": [
          0.000012874603271484375,
          0.000012636184692382812,
          0.000012874603271484375,
          0.000012874603271484375,
          0.0000133514404296875,
          0.000013113021850585938,
          0.000013589859008789062,
          0.000013113021850585938,
          0.0000133514404296875,
          0.0006864070892333984
         ],
         "xaxis": "x",
         "y": [
          "Node 0",
          "Node 1",
          "Node 2",
          "Node 3",
          "Node 4",
          "Node 5",
          "Node 6",
          "Node 7",
          "Node 8",
          "Node 9"
         ],
         "yaxis": "y"
        },
        {
         "alignmentgroup": "True",
         "base": [
          0.0135498046875,
          0.01358485221862793,
          0.013613224029541016,
          0.013637781143188477,
          0.01366567611694336,
          0.013689279556274414,
          0.01371908187866211,
          0.013748884201049805,
          0.013773679733276367,
          0.013799190521240234
         ],
         "hovertemplate": "Task=Iter 9<br>Start=%{base}<br>Finish=%{x}<br>Resource=%{y}<extra></extra>",
         "legendgroup": "Iter 9",
         "marker": {
          "color": "#FECB52",
          "pattern": {
           "shape": ""
          }
         },
         "name": "Iter 9",
         "offsetgroup": "Iter 9",
         "orientation": "h",
         "showlegend": true,
         "textposition": "auto",
         "type": "bar",
         "x": [
          0.000011444091796875,
          0.000011920928955078125,
          0.000013113021850585938,
          0.000012159347534179688,
          0.000012159347534179688,
          0.000012636184692382812,
          0.000012159347534179688,
          0.000012636184692382812,
          0.000012874603271484375,
          0.0006880760192871094
         ],
         "xaxis": "x",
         "y": [
          "Node 0",
          "Node 1",
          "Node 2",
          "Node 3",
          "Node 4",
          "Node 5",
          "Node 6",
          "Node 7",
          "Node 8",
          "Node 9"
         ],
         "yaxis": "y"
        },
        {
         "alignmentgroup": "True",
         "base": [
          0.014531850814819336,
          0.014559268951416016,
          0.014583349227905273,
          0.014607667922973633,
          0.014631032943725586,
          0.014658451080322266,
          0.01468515396118164,
          0.014708518981933594,
          0.014731645584106445,
          0.014758586883544922
         ],
         "hovertemplate": "Task=Iter 10<br>Start=%{base}<br>Finish=%{x}<br>Resource=%{y}<extra></extra>",
         "legendgroup": "Iter 10",
         "marker": {
          "color": "#636efa",
          "pattern": {
           "shape": ""
          }
         },
         "name": "Iter 10",
         "offsetgroup": "Iter 10",
         "orientation": "h",
         "showlegend": true,
         "textposition": "auto",
         "type": "bar",
         "x": [
          0.0000133514404296875,
          0.000011205673217773438,
          0.000011682510375976562,
          0.000011920928955078125,
          0.00001239776611328125,
          0.000011682510375976562,
          0.00001239776611328125,
          0.000011682510375976562,
          0.000011682510375976562,
          0.0006856918334960938
         ],
         "xaxis": "x",
         "y": [
          "Node 0",
          "Node 1",
          "Node 2",
          "Node 3",
          "Node 4",
          "Node 5",
          "Node 6",
          "Node 7",
          "Node 8",
          "Node 9"
         ],
         "yaxis": "y"
        },
        {
         "alignmentgroup": "True",
         "base": [
          0.015483856201171875,
          0.015517234802246094,
          0.01554250717163086,
          0.015570402145385742,
          0.015598297119140625,
          0.015623807907104492,
          0.01565098762512207,
          0.01567387580871582,
          0.01569652557373047,
          0.015721797943115234
         ],
         "hovertemplate": "Task=Iter 11<br>Start=%{base}<br>Finish=%{x}<br>Resource=%{y}<extra></extra>",
         "legendgroup": "Iter 11",
         "marker": {
          "color": "#EF553B",
          "pattern": {
           "shape": ""
          }
         },
         "name": "Iter 11",
         "offsetgroup": "Iter 11",
         "orientation": "h",
         "showlegend": true,
         "textposition": "auto",
         "type": "bar",
         "x": [
          0.000012159347534179688,
          0.000011444091796875,
          0.000011682510375976562,
          0.000011920928955078125,
          0.00001239776611328125,
          0.000014066696166992188,
          0.000011920928955078125,
          0.000011682510375976562,
          0.00001239776611328125,
          0.0006959438323974609
         ],
         "xaxis": "x",
         "y": [
          "Node 0",
          "Node 1",
          "Node 2",
          "Node 3",
          "Node 4",
          "Node 5",
          "Node 6",
          "Node 7",
          "Node 8",
          "Node 9"
         ],
         "yaxis": "y"
        },
        {
         "alignmentgroup": "True",
         "base": [
          0.016455650329589844,
          0.016482114791870117,
          0.016504287719726562,
          0.01653146743774414,
          0.0165555477142334,
          0.016585111618041992,
          0.01660752296447754,
          0.01663041114807129,
          0.01665806770324707,
          0.01668524742126465
         ],
         "hovertemplate": "Task=Iter 12<br>Start=%{base}<br>Finish=%{x}<br>Resource=%{y}<extra></extra>",
         "legendgroup": "Iter 12",
         "marker": {
          "color": "#00cc96",
          "pattern": {
           "shape": ""
          }
         },
         "name": "Iter 12",
         "offsetgroup": "Iter 12",
         "orientation": "h",
         "showlegend": true,
         "textposition": "auto",
         "type": "bar",
         "x": [
          0.000011444091796875,
          0.000011205673217773438,
          0.000013589859008789062,
          0.000011444091796875,
          0.000011682510375976562,
          0.000011682510375976562,
          0.000011444091796875,
          0.000011444091796875,
          0.000011444091796875,
          0.0006854534149169922
         ],
         "xaxis": "x",
         "y": [
          "Node 0",
          "Node 1",
          "Node 2",
          "Node 3",
          "Node 4",
          "Node 5",
          "Node 6",
          "Node 7",
          "Node 8",
          "Node 9"
         ],
         "yaxis": "y"
        },
        {
         "alignmentgroup": "True",
         "base": [
          0.017409324645996094,
          0.01743483543395996,
          0.017462730407714844,
          0.017485380172729492,
          0.017509937286376953,
          0.01754021644592285,
          0.01756763458251953,
          0.017595291137695312,
          0.01761913299560547,
          0.01764225959777832
         ],
         "hovertemplate": "Task=Iter 13<br>Start=%{base}<br>Finish=%{x}<br>Resource=%{y}<extra></extra>",
         "legendgroup": "Iter 13",
         "marker": {
          "color": "#ab63fa",
          "pattern": {
           "shape": ""
          }
         },
         "name": "Iter 13",
         "offsetgroup": "Iter 13",
         "orientation": "h",
         "showlegend": true,
         "textposition": "auto",
         "type": "bar",
         "x": [
          0.000011205673217773438,
          0.000010967254638671875,
          0.000011444091796875,
          0.000011682510375976562,
          0.000011682510375976562,
          0.000011205673217773438,
          0.000010728836059570312,
          0.000011444091796875,
          0.000010967254638671875,
          0.0006809234619140625
         ],
         "xaxis": "x",
         "y": [
          "Node 0",
          "Node 1",
          "Node 2",
          "Node 3",
          "Node 4",
          "Node 5",
          "Node 6",
          "Node 7",
          "Node 8",
          "Node 9"
         ],
         "yaxis": "y"
        },
        {
         "alignmentgroup": "True",
         "base": [
          0.018369197845458984,
          0.01839423179626465,
          0.018420696258544922,
          0.018448352813720703,
          0.01847362518310547,
          0.01850295066833496,
          0.018525123596191406,
          0.018549680709838867,
          0.018573284149169922,
          0.018596410751342773
         ],
         "hovertemplate": "Task=Iter 14<br>Start=%{base}<br>Finish=%{x}<br>Resource=%{y}<extra></extra>",
         "legendgroup": "Iter 14",
         "marker": {
          "color": "#FFA15A",
          "pattern": {
           "shape": ""
          }
         },
         "name": "Iter 14",
         "offsetgroup": "Iter 14",
         "orientation": "h",
         "showlegend": true,
         "textposition": "auto",
         "type": "bar",
         "x": [
          0.000010728836059570312,
          0.00001049041748046875,
          0.000011444091796875,
          0.000011205673217773438,
          0.000011920928955078125,
          0.000011205673217773438,
          0.000011682510375976562,
          0.000011444091796875,
          0.000011205673217773438,
          0.0006785392761230469
         ],
         "xaxis": "x",
         "y": [
          "Node 0",
          "Node 1",
          "Node 2",
          "Node 3",
          "Node 4",
          "Node 5",
          "Node 6",
          "Node 7",
          "Node 8",
          "Node 9"
         ],
         "yaxis": "y"
        },
        {
         "alignmentgroup": "True",
         "base": [
          0.019310712814331055,
          0.01934218406677246,
          0.019368410110473633,
          0.019390583038330078,
          0.019412994384765625,
          0.019434690475463867,
          0.019458532333374023,
          0.019481658935546875,
          0.019502878189086914,
          0.019526243209838867
         ],
         "hovertemplate": "Task=Iter 15<br>Start=%{base}<br>Finish=%{x}<br>Resource=%{y}<extra></extra>",
         "legendgroup": "Iter 15",
         "marker": {
          "color": "#19d3f3",
          "pattern": {
           "shape": ""
          }
         },
         "name": "Iter 15",
         "offsetgroup": "Iter 15",
         "orientation": "h",
         "showlegend": true,
         "textposition": "auto",
         "type": "bar",
         "x": [
          0.000010251998901367188,
          0.000011205673217773438,
          0.000011682510375976562,
          0.000011682510375976562,
          0.000010967254638671875,
          0.000011205673217773438,
          0.000010728836059570312,
          0.000011444091796875,
          0.000011444091796875,
          0.0006861686706542969
         ],
         "xaxis": "x",
         "y": [
          "Node 0",
          "Node 1",
          "Node 2",
          "Node 3",
          "Node 4",
          "Node 5",
          "Node 6",
          "Node 7",
          "Node 8",
          "Node 9"
         ],
         "yaxis": "y"
        },
        {
         "alignmentgroup": "True",
         "base": [
          0.02025008201599121,
          0.020282506942749023,
          0.020304203033447266,
          0.020326614379882812,
          0.020349979400634766,
          0.020377159118652344,
          0.02040410041809082,
          0.020425081253051758,
          0.020453929901123047,
          0.020480632781982422
         ],
         "hovertemplate": "Task=Iter 16<br>Start=%{base}<br>Finish=%{x}<br>Resource=%{y}<extra></extra>",
         "legendgroup": "Iter 16",
         "marker": {
          "color": "#FF6692",
          "pattern": {
           "shape": ""
          }
         },
         "name": "Iter 16",
         "offsetgroup": "Iter 16",
         "orientation": "h",
         "showlegend": true,
         "textposition": "auto",
         "type": "bar",
         "x": [
          0.000010967254638671875,
          0.000010967254638671875,
          0.000010967254638671875,
          0.000010967254638671875,
          0.000015735626220703125,
          0.000010967254638671875,
          0.00001049041748046875,
          0.000011205673217773438,
          0.000011205673217773438,
          0.0006775856018066406
         ],
         "xaxis": "x",
         "y": [
          "Node 0",
          "Node 1",
          "Node 2",
          "Node 3",
          "Node 4",
          "Node 5",
          "Node 6",
          "Node 7",
          "Node 8",
          "Node 9"
         ],
         "yaxis": "y"
        },
        {
         "alignmentgroup": "True",
         "base": [
          0.021195411682128906,
          0.021220922470092773,
          0.021247386932373047,
          0.02127695083618164,
          0.02129840850830078,
          0.02131962776184082,
          0.021341323852539062,
          0.021373748779296875,
          0.02139735221862793,
          0.021424055099487305
         ],
         "hovertemplate": "Task=Iter 17<br>Start=%{base}<br>Finish=%{x}<br>Resource=%{y}<extra></extra>",
         "legendgroup": "Iter 17",
         "marker": {
          "color": "#B6E880",
          "pattern": {
           "shape": ""
          }
         },
         "name": "Iter 17",
         "offsetgroup": "Iter 17",
         "orientation": "h",
         "showlegend": true,
         "textposition": "auto",
         "type": "bar",
         "x": [
          0.000011444091796875,
          0.000010251998901367188,
          0.000010967254638671875,
          0.000010967254638671875,
          0.000010728836059570312,
          0.000010967254638671875,
          0.000011682510375976562,
          0.000010967254638671875,
          0.000011444091796875,
          0.0006792545318603516
         ],
         "xaxis": "x",
         "y": [
          "Node 0",
          "Node 1",
          "Node 2",
          "Node 3",
          "Node 4",
          "Node 5",
          "Node 6",
          "Node 7",
          "Node 8",
          "Node 9"
         ],
         "yaxis": "y"
        },
        {
         "alignmentgroup": "True",
         "base": [
          0.022145986557006836,
          0.02217721939086914,
          0.02220606803894043,
          0.0222318172454834,
          0.02225661277770996,
          0.022286415100097656,
          0.022315263748168945,
          0.022341012954711914,
          0.02237081527709961,
          0.022400379180908203
         ],
         "hovertemplate": "Task=Iter 18<br>Start=%{base}<br>Finish=%{x}<br>Resource=%{y}<extra></extra>",
         "legendgroup": "Iter 18",
         "marker": {
          "color": "#FF97FF",
          "pattern": {
           "shape": ""
          }
         },
         "name": "Iter 18",
         "offsetgroup": "Iter 18",
         "orientation": "h",
         "showlegend": true,
         "textposition": "auto",
         "type": "bar",
         "x": [
          0.000010967254638671875,
          0.000012636184692382812,
          0.000013828277587890625,
          0.000013828277587890625,
          0.0000133514404296875,
          0.000013113021850585938,
          0.0000133514404296875,
          0.000018596649169921875,
          0.000012874603271484375,
          0.0006821155548095703
         ],
         "xaxis": "x",
         "y": [
          "Node 0",
          "Node 1",
          "Node 2",
          "Node 3",
          "Node 4",
          "Node 5",
          "Node 6",
          "Node 7",
          "Node 8",
          "Node 9"
         ],
         "yaxis": "y"
        },
        {
         "alignmentgroup": "True",
         "base": [
          0.023122549057006836,
          0.02314925193786621,
          0.02317047119140625,
          0.023200035095214844,
          0.023231029510498047,
          0.02325439453125,
          0.023276805877685547,
          0.023299217224121094,
          0.023320674896240234,
          0.023342370986938477
         ],
         "hovertemplate": "Task=Iter 19<br>Start=%{base}<br>Finish=%{x}<br>Resource=%{y}<extra></extra>",
         "legendgroup": "Iter 19",
         "marker": {
          "color": "#FECB52",
          "pattern": {
           "shape": ""
          }
         },
         "name": "Iter 19",
         "offsetgroup": "Iter 19",
         "orientation": "h",
         "showlegend": true,
         "textposition": "auto",
         "type": "bar",
         "x": [
          0.00001049041748046875,
          0.000010728836059570312,
          0.000011205673217773438,
          0.000011444091796875,
          0.000011205673217773438,
          0.000011444091796875,
          0.000011444091796875,
          0.000011444091796875,
          0.000011205673217773438,
          0.0006868839263916016
         ],
         "xaxis": "x",
         "y": [
          "Node 0",
          "Node 1",
          "Node 2",
          "Node 3",
          "Node 4",
          "Node 5",
          "Node 6",
          "Node 7",
          "Node 8",
          "Node 9"
         ],
         "yaxis": "y"
        },
        {
         "alignmentgroup": "True",
         "base": [
          0.024069786071777344,
          0.024096965789794922,
          0.024119853973388672,
          0.024142980575561523,
          0.0241701602935791,
          0.024192333221435547,
          0.0242159366607666,
          0.02423834800720215,
          0.024270057678222656,
          0.024297714233398438
         ],
         "hovertemplate": "Task=Iter 20<br>Start=%{base}<br>Finish=%{x}<br>Resource=%{y}<extra></extra>",
         "legendgroup": "Iter 20",
         "marker": {
          "color": "#636efa",
          "pattern": {
           "shape": ""
          }
         },
         "name": "Iter 20",
         "offsetgroup": "Iter 20",
         "orientation": "h",
         "showlegend": true,
         "textposition": "auto",
         "type": "bar",
         "x": [
          0.000010728836059570312,
          0.00001049041748046875,
          0.000011682510375976562,
          0.000011205673217773438,
          0.000010967254638671875,
          0.000011205673217773438,
          0.000011444091796875,
          0.000011205673217773438,
          0.000010967254638671875,
          0.0006854534149169922
         ],
         "xaxis": "x",
         "y": [
          "Node 0",
          "Node 1",
          "Node 2",
          "Node 3",
          "Node 4",
          "Node 5",
          "Node 6",
          "Node 7",
          "Node 8",
          "Node 9"
         ],
         "yaxis": "y"
        },
        {
         "alignmentgroup": "True",
         "base": [
          0.025020599365234375,
          0.025046825408935547,
          0.025069713592529297,
          0.025092363357543945,
          0.02512049674987793,
          0.02514958381652832,
          0.025173187255859375,
          0.025201797485351562,
          0.025229215621948242,
          0.02525639533996582
         ],
         "hovertemplate": "Task=Iter 21<br>Start=%{base}<br>Finish=%{x}<br>Resource=%{y}<extra></extra>",
         "legendgroup": "Iter 21",
         "marker": {
          "color": "#EF553B",
          "pattern": {
           "shape": ""
          }
         },
         "name": "Iter 21",
         "offsetgroup": "Iter 21",
         "orientation": "h",
         "showlegend": true,
         "textposition": "auto",
         "type": "bar",
         "x": [
          0.000011205673217773438,
          0.00001049041748046875,
          0.000011444091796875,
          0.000011205673217773438,
          0.000011205673217773438,
          0.000011444091796875,
          0.000010967254638671875,
          0.000011444091796875,
          0.000011682510375976562,
          0.0006840229034423828
         ],
         "xaxis": "x",
         "y": [
          "Node 0",
          "Node 1",
          "Node 2",
          "Node 3",
          "Node 4",
          "Node 5",
          "Node 6",
          "Node 7",
          "Node 8",
          "Node 9"
         ],
         "yaxis": "y"
        },
        {
         "alignmentgroup": "True",
         "base": [
          0.025981664657592773,
          0.02600717544555664,
          0.026027917861938477,
          0.026052474975585938,
          0.026076078414916992,
          0.02610015869140625,
          0.02612614631652832,
          0.02614760398864746,
          0.026171207427978516,
          0.026192188262939453
         ],
         "hovertemplate": "Task=Iter 22<br>Start=%{base}<br>Finish=%{x}<br>Resource=%{y}<extra></extra>",
         "legendgroup": "Iter 22",
         "marker": {
          "color": "#00cc96",
          "pattern": {
           "shape": ""
          }
         },
         "name": "Iter 22",
         "offsetgroup": "Iter 22",
         "orientation": "h",
         "showlegend": true,
         "textposition": "auto",
         "type": "bar",
         "x": [
          0.000010967254638671875,
          0.000010013580322265625,
          0.000011444091796875,
          0.000010728836059570312,
          0.000010967254638671875,
          0.000010967254638671875,
          0.000010251998901367188,
          0.000010967254638671875,
          0.000010728836059570312,
          0.0006830692291259766
         ],
         "xaxis": "x",
         "y": [
          "Node 0",
          "Node 1",
          "Node 2",
          "Node 3",
          "Node 4",
          "Node 5",
          "Node 6",
          "Node 7",
          "Node 8",
          "Node 9"
         ],
         "yaxis": "y"
        },
        {
         "alignmentgroup": "True",
         "base": [
          0.02691507339477539,
          0.02694559097290039,
          0.02696847915649414,
          0.026992082595825195,
          0.02701425552368164,
          0.027038097381591797,
          0.027060508728027344,
          0.027083873748779297,
          0.02710556983947754,
          0.02712702751159668
         ],
         "hovertemplate": "Task=Iter 23<br>Start=%{base}<br>Finish=%{x}<br>Resource=%{y}<extra></extra>",
         "legendgroup": "Iter 23",
         "marker": {
          "color": "#ab63fa",
          "pattern": {
           "shape": ""
          }
         },
         "name": "Iter 23",
         "offsetgroup": "Iter 23",
         "orientation": "h",
         "showlegend": true,
         "textposition": "auto",
         "type": "bar",
         "x": [
          0.000011205673217773438,
          0.000010251998901367188,
          0.000010728836059570312,
          0.000010967254638671875,
          0.00001049041748046875,
          0.000011444091796875,
          0.00001049041748046875,
          0.000011205673217773438,
          0.000010967254638671875,
          0.0006864070892333984
         ],
         "xaxis": "x",
         "y": [
          "Node 0",
          "Node 1",
          "Node 2",
          "Node 3",
          "Node 4",
          "Node 5",
          "Node 6",
          "Node 7",
          "Node 8",
          "Node 9"
         ],
         "yaxis": "y"
        },
        {
         "alignmentgroup": "True",
         "base": [
          0.02785205841064453,
          0.027883529663085938,
          0.027904748916625977,
          0.02792811393737793,
          0.02795243263244629,
          0.027975797653198242,
          0.02799820899963379,
          0.02802753448486328,
          0.02805495262145996,
          0.028076171875
         ],
         "hovertemplate": "Task=Iter 24<br>Start=%{base}<br>Finish=%{x}<br>Resource=%{y}<extra></extra>",
         "legendgroup": "Iter 24",
         "marker": {
          "color": "#FFA15A",
          "pattern": {
           "shape": ""
          }
         },
         "name": "Iter 24",
         "offsetgroup": "Iter 24",
         "orientation": "h",
         "showlegend": true,
         "textposition": "auto",
         "type": "bar",
         "x": [
          0.000010728836059570312,
          0.000010967254638671875,
          0.000011444091796875,
          0.000011205673217773438,
          0.000011682510375976562,
          0.000011205673217773438,
          0.000012159347534179688,
          0.000010967254638671875,
          0.000010728836059570312,
          0.0006852149963378906
         ],
         "xaxis": "x",
         "y": [
          "Node 0",
          "Node 1",
          "Node 2",
          "Node 3",
          "Node 4",
          "Node 5",
          "Node 6",
          "Node 7",
          "Node 8",
          "Node 9"
         ],
         "yaxis": "y"
        },
        {
         "alignmentgroup": "True",
         "base": [
          0.02879500389099121,
          0.028820514678955078,
          0.028841733932495117,
          0.02886366844177246,
          0.028885364532470703,
          0.02890753746032715,
          0.02892899513244629,
          0.028956174850463867,
          0.028980016708374023,
          0.029001235961914062
         ],
         "hovertemplate": "Task=Iter 25<br>Start=%{base}<br>Finish=%{x}<br>Resource=%{y}<extra></extra>",
         "legendgroup": "Iter 25",
         "marker": {
          "color": "#19d3f3",
          "pattern": {
           "shape": ""
          }
         },
         "name": "Iter 25",
         "offsetgroup": "Iter 25",
         "orientation": "h",
         "showlegend": true,
         "textposition": "auto",
         "type": "bar",
         "x": [
          0.000010728836059570312,
          0.000010251998901367188,
          0.000010728836059570312,
          0.000010728836059570312,
          0.000010967254638671875,
          0.000010728836059570312,
          0.000010728836059570312,
          0.000011205673217773438,
          0.00001049041748046875,
          0.0006861686706542969
         ],
         "xaxis": "x",
         "y": [
          "Node 0",
          "Node 1",
          "Node 2",
          "Node 3",
          "Node 4",
          "Node 5",
          "Node 6",
          "Node 7",
          "Node 8",
          "Node 9"
         ],
         "yaxis": "y"
        },
        {
         "alignmentgroup": "True",
         "base": [
          0.029721975326538086,
          0.02974700927734375,
          0.0297698974609375,
          0.02979254722595215,
          0.029814481735229492,
          0.029842853546142578,
          0.02986621856689453,
          0.029888391494750977,
          0.02991199493408203,
          0.02993297576904297
         ],
         "hovertemplate": "Task=Iter 26<br>Start=%{base}<br>Finish=%{x}<br>Resource=%{y}<extra></extra>",
         "legendgroup": "Iter 26",
         "marker": {
          "color": "#FF6692",
          "pattern": {
           "shape": ""
          }
         },
         "name": "Iter 26",
         "offsetgroup": "Iter 26",
         "orientation": "h",
         "showlegend": true,
         "textposition": "auto",
         "type": "bar",
         "x": [
          0.00001049041748046875,
          0.000010251998901367188,
          0.000010967254638671875,
          0.000010967254638671875,
          0.000010728836059570312,
          0.000010728836059570312,
          0.000010728836059570312,
          0.00001049041748046875,
          0.000010251998901367188,
          0.0006833076477050781
         ],
         "xaxis": "x",
         "y": [
          "Node 0",
          "Node 1",
          "Node 2",
          "Node 3",
          "Node 4",
          "Node 5",
          "Node 6",
          "Node 7",
          "Node 8",
          "Node 9"
         ],
         "yaxis": "y"
        },
        {
         "alignmentgroup": "True",
         "base": [
          0.03065347671508789,
          0.030678749084472656,
          0.030704975128173828,
          0.030733585357666016,
          0.03075575828552246,
          0.03077864646911621,
          0.03080439567565918,
          0.030827999114990234,
          0.03085017204284668,
          0.030871868133544922
         ],
         "hovertemplate": "Task=Iter 27<br>Start=%{base}<br>Finish=%{x}<br>Resource=%{y}<extra></extra>",
         "legendgroup": "Iter 27",
         "marker": {
          "color": "#B6E880",
          "pattern": {
           "shape": ""
          }
         },
         "name": "Iter 27",
         "offsetgroup": "Iter 27",
         "orientation": "h",
         "showlegend": true,
         "textposition": "auto",
         "type": "bar",
         "x": [
          0.000010728836059570312,
          0.00001049041748046875,
          0.000010728836059570312,
          0.000010967254638671875,
          0.000011205673217773438,
          0.00001049041748046875,
          0.000010967254638671875,
          0.000010728836059570312,
          0.000010251998901367188,
          0.0006954669952392578
         ],
         "xaxis": "x",
         "y": [
          "Node 0",
          "Node 1",
          "Node 2",
          "Node 3",
          "Node 4",
          "Node 5",
          "Node 6",
          "Node 7",
          "Node 8",
          "Node 9"
         ],
         "yaxis": "y"
        },
        {
         "alignmentgroup": "True",
         "base": [
          0.03160572052001953,
          0.03163003921508789,
          0.031656742095947266,
          0.03167891502380371,
          0.03170037269592285,
          0.031722307205200195,
          0.03174877166748047,
          0.03177046775817871,
          0.03179287910461426,
          0.0318145751953125
         ],
         "hovertemplate": "Task=Iter 28<br>Start=%{base}<br>Finish=%{x}<br>Resource=%{y}<extra></extra>",
         "legendgroup": "Iter 28",
         "marker": {
          "color": "#FF97FF",
          "pattern": {
           "shape": ""
          }
         },
         "name": "Iter 28",
         "offsetgroup": "Iter 28",
         "orientation": "h",
         "showlegend": true,
         "textposition": "auto",
         "type": "bar",
         "x": [
          0.000010251998901367188,
          0.000010251998901367188,
          0.000011205673217773438,
          0.000010728836059570312,
          0.000010728836059570312,
          0.000010728836059570312,
          0.00001049041748046875,
          0.000011205673217773438,
          0.00001049041748046875,
          0.0006814002990722656
         ],
         "xaxis": "x",
         "y": [
          "Node 0",
          "Node 1",
          "Node 2",
          "Node 3",
          "Node 4",
          "Node 5",
          "Node 6",
          "Node 7",
          "Node 8",
          "Node 9"
         ],
         "yaxis": "y"
        },
        {
         "alignmentgroup": "True",
         "base": [
          0.03253507614135742,
          0.032560110092163086,
          0.03258109092712402,
          0.03260350227355957,
          0.03262615203857422,
          0.03264784812927246,
          0.0326690673828125,
          0.03269219398498535,
          0.03271889686584473,
          0.03274202346801758
         ],
         "hovertemplate": "Task=Iter 29<br>Start=%{base}<br>Finish=%{x}<br>Resource=%{y}<extra></extra>",
         "legendgroup": "Iter 29",
         "marker": {
          "color": "#FECB52",
          "pattern": {
           "shape": ""
          }
         },
         "name": "Iter 29",
         "offsetgroup": "Iter 29",
         "orientation": "h",
         "showlegend": true,
         "textposition": "auto",
         "type": "bar",
         "x": [
          0.00001049041748046875,
          0.000010251998901367188,
          0.000011205673217773438,
          0.000011444091796875,
          0.000010251998901367188,
          0.000010728836059570312,
          0.000010728836059570312,
          0.000010728836059570312,
          0.000010967254638671875,
          0.0006835460662841797
         ],
         "xaxis": "x",
         "y": [
          "Node 0",
          "Node 1",
          "Node 2",
          "Node 3",
          "Node 4",
          "Node 5",
          "Node 6",
          "Node 7",
          "Node 8",
          "Node 9"
         ],
         "yaxis": "y"
        },
        {
         "alignmentgroup": "True",
         "base": [
          0.03345823287963867,
          0.03348278999328613,
          0.033510446548461914,
          0.03353381156921387,
          0.03355598449707031,
          0.0335841178894043,
          0.03360557556152344,
          0.03363323211669922,
          0.03365468978881836,
          0.03367471694946289
         ],
         "hovertemplate": "Task=Iter 30<br>Start=%{base}<br>Finish=%{x}<br>Resource=%{y}<extra></extra>",
         "legendgroup": "Iter 30",
         "marker": {
          "color": "#636efa",
          "pattern": {
           "shape": ""
          }
         },
         "name": "Iter 30",
         "offsetgroup": "Iter 30",
         "orientation": "h",
         "showlegend": true,
         "textposition": "auto",
         "type": "bar",
         "x": [
          0.000010251998901367188,
          0.000010251998901367188,
          0.000010728836059570312,
          0.000011205673217773438,
          0.00001049041748046875,
          0.00001049041748046875,
          0.000010967254638671875,
          0.000010728836059570312,
          0.000010251998901367188,
          0.0006773471832275391
         ],
         "xaxis": "x",
         "y": [
          "Node 0",
          "Node 1",
          "Node 2",
          "Node 3",
          "Node 4",
          "Node 5",
          "Node 6",
          "Node 7",
          "Node 8",
          "Node 9"
         ],
         "yaxis": "y"
        },
        {
         "alignmentgroup": "True",
         "base": [
          0.03439021110534668,
          0.03441500663757324,
          0.03443646430969238,
          0.03445839881896973,
          0.034485578536987305,
          0.03450727462768555,
          0.03453254699707031,
          0.034554481506347656,
          0.0345759391784668,
          0.03459668159484863
         ],
         "hovertemplate": "Task=Iter 31<br>Start=%{base}<br>Finish=%{x}<br>Resource=%{y}<extra></extra>",
         "legendgroup": "Iter 31",
         "marker": {
          "color": "#EF553B",
          "pattern": {
           "shape": ""
          }
         },
         "name": "Iter 31",
         "offsetgroup": "Iter 31",
         "orientation": "h",
         "showlegend": true,
         "textposition": "auto",
         "type": "bar",
         "x": [
          0.000010251998901367188,
          0.00001049041748046875,
          0.000010967254638671875,
          0.000010728836059570312,
          0.00001049041748046875,
          0.00001049041748046875,
          0.000010728836059570312,
          0.00001049041748046875,
          0.00001049041748046875,
          0.0006783008575439453
         ],
         "xaxis": "x",
         "y": [
          "Node 0",
          "Node 1",
          "Node 2",
          "Node 3",
          "Node 4",
          "Node 5",
          "Node 6",
          "Node 7",
          "Node 8",
          "Node 9"
         ],
         "yaxis": "y"
        },
        {
         "alignmentgroup": "True",
         "base": [
          0.03530764579772949,
          0.035332679748535156,
          0.03535962104797363,
          0.0353853702545166,
          0.03540849685668945,
          0.0354304313659668,
          0.03545212745666504,
          0.03547334671020508,
          0.035500526428222656,
          0.035521507263183594
         ],
         "hovertemplate": "Task=Iter 32<br>Start=%{base}<br>Finish=%{x}<br>Resource=%{y}<extra></extra>",
         "legendgroup": "Iter 32",
         "marker": {
          "color": "#00cc96",
          "pattern": {
           "shape": ""
          }
         },
         "name": "Iter 32",
         "offsetgroup": "Iter 32",
         "orientation": "h",
         "showlegend": true,
         "textposition": "auto",
         "type": "bar",
         "x": [
          0.000010013580322265625,
          0.00001049041748046875,
          0.000011682510375976562,
          0.000010967254638671875,
          0.000010967254638671875,
          0.000010728836059570312,
          0.000010251998901367188,
          0.000010728836059570312,
          0.00001049041748046875,
          0.0006771087646484375
         ],
         "xaxis": "x",
         "y": [
          "Node 0",
          "Node 1",
          "Node 2",
          "Node 3",
          "Node 4",
          "Node 5",
          "Node 6",
          "Node 7",
          "Node 8",
          "Node 9"
         ],
         "yaxis": "y"
        },
        {
         "alignmentgroup": "True",
         "base": [
          0.03623199462890625,
          0.036257028579711914,
          0.036285400390625,
          0.036307573318481445,
          0.03632974624633789,
          0.03635096549987793,
          0.03638315200805664,
          0.0364069938659668,
          0.03643393516540527,
          0.03645515441894531
         ],
         "hovertemplate": "Task=Iter 33<br>Start=%{base}<br>Finish=%{x}<br>Resource=%{y}<extra></extra>",
         "legendgroup": "Iter 33",
         "marker": {
          "color": "#ab63fa",
          "pattern": {
           "shape": ""
          }
         },
         "name": "Iter 33",
         "offsetgroup": "Iter 33",
         "orientation": "h",
         "showlegend": true,
         "textposition": "auto",
         "type": "bar",
         "x": [
          0.000010728836059570312,
          0.000012159347534179688,
          0.000011205673217773438,
          0.000011205673217773438,
          0.000010728836059570312,
          0.000017404556274414062,
          0.000011444091796875,
          0.000011205673217773438,
          0.000011205673217773438,
          0.0006773471832275391
         ],
         "xaxis": "x",
         "y": [
          "Node 0",
          "Node 1",
          "Node 2",
          "Node 3",
          "Node 4",
          "Node 5",
          "Node 6",
          "Node 7",
          "Node 8",
          "Node 9"
         ],
         "yaxis": "y"
        },
        {
         "alignmentgroup": "True",
         "base": [
          0.037165164947509766,
          0.03718996047973633,
          0.03721117973327637,
          0.03723287582397461,
          0.03725457191467285,
          0.03727531433105469,
          0.037296295166015625,
          0.0373232364654541,
          0.03734445571899414,
          0.03736996650695801
         ],
         "hovertemplate": "Task=Iter 34<br>Start=%{base}<br>Finish=%{x}<br>Resource=%{y}<extra></extra>",
         "legendgroup": "Iter 34",
         "marker": {
          "color": "#FFA15A",
          "pattern": {
           "shape": ""
          }
         },
         "name": "Iter 34",
         "offsetgroup": "Iter 34",
         "orientation": "h",
         "showlegend": true,
         "textposition": "auto",
         "type": "bar",
         "x": [
          0.000010251998901367188,
          0.00001049041748046875,
          0.00001049041748046875,
          0.000010728836059570312,
          0.000010251998901367188,
          0.000010251998901367188,
          0.00001049041748046875,
          0.00001049041748046875,
          0.0000152587890625,
          0.0006763935089111328
         ],
         "xaxis": "x",
         "y": [
          "Node 0",
          "Node 1",
          "Node 2",
          "Node 3",
          "Node 4",
          "Node 5",
          "Node 6",
          "Node 7",
          "Node 8",
          "Node 9"
         ],
         "yaxis": "y"
        },
        {
         "alignmentgroup": "True",
         "base": [
          0.03808021545410156,
          0.03810882568359375,
          0.038129568099975586,
          0.038152217864990234,
          0.038175344467163086,
          0.03819584846496582,
          0.03821706771850586,
          0.0382390022277832,
          0.03825998306274414,
          0.03828692436218262
         ],
         "hovertemplate": "Task=Iter 35<br>Start=%{base}<br>Finish=%{x}<br>Resource=%{y}<extra></extra>",
         "legendgroup": "Iter 35",
         "marker": {
          "color": "#19d3f3",
          "pattern": {
           "shape": ""
          }
         },
         "name": "Iter 35",
         "offsetgroup": "Iter 35",
         "orientation": "h",
         "showlegend": true,
         "textposition": "auto",
         "type": "bar",
         "x": [
          0.000010728836059570312,
          0.000010251998901367188,
          0.000011205673217773438,
          0.00001049041748046875,
          0.000010251998901367188,
          0.000011205673217773438,
          0.00001049041748046875,
          0.00001049041748046875,
          0.000010251998901367188,
          0.0006840229034423828
         ],
         "xaxis": "x",
         "y": [
          "Node 0",
          "Node 1",
          "Node 2",
          "Node 3",
          "Node 4",
          "Node 5",
          "Node 6",
          "Node 7",
          "Node 8",
          "Node 9"
         ],
         "yaxis": "y"
        },
        {
         "alignmentgroup": "True",
         "base": [
          0.039003610610961914,
          0.03902864456176758,
          0.039051055908203125,
          0.039075374603271484,
          0.03910183906555176,
          0.03912544250488281,
          0.039147138595581055,
          0.039170265197753906,
          0.03919219970703125,
          0.039215087890625
         ],
         "hovertemplate": "Task=Iter 36<br>Start=%{base}<br>Finish=%{x}<br>Resource=%{y}<extra></extra>",
         "legendgroup": "Iter 36",
         "marker": {
          "color": "#FF6692",
          "pattern": {
           "shape": ""
          }
         },
         "name": "Iter 36",
         "offsetgroup": "Iter 36",
         "orientation": "h",
         "showlegend": true,
         "textposition": "auto",
         "type": "bar",
         "x": [
          0.00001049041748046875,
          0.00001049041748046875,
          0.000011205673217773438,
          0.000010728836059570312,
          0.000010728836059570312,
          0.000010728836059570312,
          0.000010251998901367188,
          0.000010967254638671875,
          0.00001049041748046875,
          0.0006847381591796875
         ],
         "xaxis": "x",
         "y": [
          "Node 0",
          "Node 1",
          "Node 2",
          "Node 3",
          "Node 4",
          "Node 5",
          "Node 6",
          "Node 7",
          "Node 8",
          "Node 9"
         ],
         "yaxis": "y"
        },
        {
         "alignmentgroup": "True",
         "base": [
          0.0399320125579834,
          0.03995633125305176,
          0.039978742599487305,
          0.04000234603881836,
          0.040024757385253906,
          0.04004669189453125,
          0.040068626403808594,
          0.040090084075927734,
          0.04011130332946777,
          0.04013180732727051
         ],
         "hovertemplate": "Task=Iter 37<br>Start=%{base}<br>Finish=%{x}<br>Resource=%{y}<extra></extra>",
         "legendgroup": "Iter 37",
         "marker": {
          "color": "#B6E880",
          "pattern": {
           "shape": ""
          }
         },
         "name": "Iter 37",
         "offsetgroup": "Iter 37",
         "orientation": "h",
         "showlegend": true,
         "textposition": "auto",
         "type": "bar",
         "x": [
          0.00001049041748046875,
          0.000010967254638671875,
          0.00001049041748046875,
          0.00001049041748046875,
          0.000010728836059570312,
          0.000011205673217773438,
          0.00001049041748046875,
          0.000010251998901367188,
          0.000010251998901367188,
          0.0006840229034423828
         ],
         "xaxis": "x",
         "y": [
          "Node 0",
          "Node 1",
          "Node 2",
          "Node 3",
          "Node 4",
          "Node 5",
          "Node 6",
          "Node 7",
          "Node 8",
          "Node 9"
         ],
         "yaxis": "y"
        },
        {
         "alignmentgroup": "True",
         "base": [
          0.04084897041320801,
          0.04087376594543457,
          0.04089474678039551,
          0.040915489196777344,
          0.040936946868896484,
          0.04095911979675293,
          0.04098105430603027,
          0.04100227355957031,
          0.04102373123168945,
          0.041043996810913086
         ],
         "hovertemplate": "Task=Iter 38<br>Start=%{base}<br>Finish=%{x}<br>Resource=%{y}<extra></extra>",
         "legendgroup": "Iter 38",
         "marker": {
          "color": "#FF97FF",
          "pattern": {
           "shape": ""
          }
         },
         "name": "Iter 38",
         "offsetgroup": "Iter 38",
         "orientation": "h",
         "showlegend": true,
         "textposition": "auto",
         "type": "bar",
         "x": [
          0.000010013580322265625,
          0.000010251998901367188,
          0.00001049041748046875,
          0.00001049041748046875,
          0.000010728836059570312,
          0.000010728836059570312,
          0.000010251998901367188,
          0.000010728836059570312,
          0.00001049041748046875,
          0.0006825923919677734
         ],
         "xaxis": "x",
         "y": [
          "Node 0",
          "Node 1",
          "Node 2",
          "Node 3",
          "Node 4",
          "Node 5",
          "Node 6",
          "Node 7",
          "Node 8",
          "Node 9"
         ],
         "yaxis": "y"
        },
        {
         "alignmentgroup": "True",
         "base": [
          0.04176044464111328,
          0.04178476333618164,
          0.04180550575256348,
          0.04182720184326172,
          0.041847944259643555,
          0.0418703556060791,
          0.04189133644104004,
          0.04191279411315918,
          0.04193520545959473,
          0.04195666313171387
         ],
         "hovertemplate": "Task=Iter 39<br>Start=%{base}<br>Finish=%{x}<br>Resource=%{y}<extra></extra>",
         "legendgroup": "Iter 39",
         "marker": {
          "color": "#FECB52",
          "pattern": {
           "shape": ""
          }
         },
         "name": "Iter 39",
         "offsetgroup": "Iter 39",
         "orientation": "h",
         "showlegend": true,
         "textposition": "auto",
         "type": "bar",
         "x": [
          0.000010251998901367188,
          0.000010251998901367188,
          0.000010251998901367188,
          0.000010728836059570312,
          0.000010728836059570312,
          0.000010251998901367188,
          0.00001049041748046875,
          0.00001049041748046875,
          0.000010013580322265625,
          0.0006844997406005859
         ],
         "xaxis": "x",
         "y": [
          "Node 0",
          "Node 1",
          "Node 2",
          "Node 3",
          "Node 4",
          "Node 5",
          "Node 6",
          "Node 7",
          "Node 8",
          "Node 9"
         ],
         "yaxis": "y"
        },
        {
         "alignmentgroup": "True",
         "base": [
          0.042673587799072266,
          0.042699337005615234,
          0.04272007942199707,
          0.04274177551269531,
          0.04276323318481445,
          0.0427854061126709,
          0.04280662536621094,
          0.04283428192138672,
          0.04285621643066406,
          0.0428769588470459
         ],
         "hovertemplate": "Task=Iter 40<br>Start=%{base}<br>Finish=%{x}<br>Resource=%{y}<extra></extra>",
         "legendgroup": "Iter 40",
         "marker": {
          "color": "#636efa",
          "pattern": {
           "shape": ""
          }
         },
         "name": "Iter 40",
         "offsetgroup": "Iter 40",
         "orientation": "h",
         "showlegend": true,
         "textposition": "auto",
         "type": "bar",
         "x": [
          0.000010251998901367188,
          0.000009775161743164062,
          0.00001049041748046875,
          0.000010013580322265625,
          0.000010967254638671875,
          0.000010251998901367188,
          0.000010967254638671875,
          0.000010967254638671875,
          0.000010013580322265625,
          0.0006842613220214844
         ],
         "xaxis": "x",
         "y": [
          "Node 0",
          "Node 1",
          "Node 2",
          "Node 3",
          "Node 4",
          "Node 5",
          "Node 6",
          "Node 7",
          "Node 8",
          "Node 9"
         ],
         "yaxis": "y"
        },
        {
         "alignmentgroup": "True",
         "base": [
          0.043595075607299805,
          0.04362010955810547,
          0.04364180564880371,
          0.043663740158081055,
          0.043685197830200195,
          0.04370713233947754,
          0.04372859001159668,
          0.043750762939453125,
          0.04377317428588867,
          0.04379391670227051
         ],
         "hovertemplate": "Task=Iter 41<br>Start=%{base}<br>Finish=%{x}<br>Resource=%{y}<extra></extra>",
         "legendgroup": "Iter 41",
         "marker": {
          "color": "#EF553B",
          "pattern": {
           "shape": ""
          }
         },
         "name": "Iter 41",
         "offsetgroup": "Iter 41",
         "orientation": "h",
         "showlegend": true,
         "textposition": "auto",
         "type": "bar",
         "x": [
          0.000010251998901367188,
          0.00001049041748046875,
          0.000010728836059570312,
          0.000010728836059570312,
          0.00001049041748046875,
          0.000010728836059570312,
          0.000010728836059570312,
          0.000011205673217773438,
          0.000010251998901367188,
          0.0006878376007080078
         ],
         "xaxis": "x",
         "y": [
          "Node 0",
          "Node 1",
          "Node 2",
          "Node 3",
          "Node 4",
          "Node 5",
          "Node 6",
          "Node 7",
          "Node 8",
          "Node 9"
         ],
         "yaxis": "y"
        },
        {
         "alignmentgroup": "True",
         "base": [
          0.04451441764831543,
          0.04453873634338379,
          0.04455924034118652,
          0.04458141326904297,
          0.04460930824279785,
          0.044631004333496094,
          0.04465198516845703,
          0.04467344284057617,
          0.04469490051269531,
          0.044715166091918945
         ],
         "hovertemplate": "Task=Iter 42<br>Start=%{base}<br>Finish=%{x}<br>Resource=%{y}<extra></extra>",
         "legendgroup": "Iter 42",
         "marker": {
          "color": "#00cc96",
          "pattern": {
           "shape": ""
          }
         },
         "name": "Iter 42",
         "offsetgroup": "Iter 42",
         "orientation": "h",
         "showlegend": true,
         "textposition": "auto",
         "type": "bar",
         "x": [
          0.000010013580322265625,
          0.000010013580322265625,
          0.00001049041748046875,
          0.00001049041748046875,
          0.000010251998901367188,
          0.000010251998901367188,
          0.00001049041748046875,
          0.000010728836059570312,
          0.000010013580322265625,
          0.0006840229034423828
         ],
         "xaxis": "x",
         "y": [
          "Node 0",
          "Node 1",
          "Node 2",
          "Node 3",
          "Node 4",
          "Node 5",
          "Node 6",
          "Node 7",
          "Node 8",
          "Node 9"
         ],
         "yaxis": "y"
        },
        {
         "alignmentgroup": "True",
         "base": [
          0.04543256759643555,
          0.045456647872924805,
          0.045481204986572266,
          0.04550790786743164,
          0.0455324649810791,
          0.045557260513305664,
          0.045583486557006836,
          0.04561209678649902,
          0.04563784599304199,
          0.04566359519958496
         ],
         "hovertemplate": "Task=Iter 43<br>Start=%{base}<br>Finish=%{x}<br>Resource=%{y}<extra></extra>",
         "legendgroup": "Iter 43",
         "marker": {
          "color": "#ab63fa",
          "pattern": {
           "shape": ""
          }
         },
         "name": "Iter 43",
         "offsetgroup": "Iter 43",
         "orientation": "h",
         "showlegend": true,
         "textposition": "auto",
         "type": "bar",
         "x": [
          0.000010013580322265625,
          0.000009775161743164062,
          0.000010251998901367188,
          0.00001049041748046875,
          0.000010251998901367188,
          0.000010728836059570312,
          0.00001049041748046875,
          0.000010967254638671875,
          0.000010251998901367188,
          0.0006794929504394531
         ],
         "xaxis": "x",
         "y": [
          "Node 0",
          "Node 1",
          "Node 2",
          "Node 3",
          "Node 4",
          "Node 5",
          "Node 6",
          "Node 7",
          "Node 8",
          "Node 9"
         ],
         "yaxis": "y"
        },
        {
         "alignmentgroup": "True",
         "base": [
          0.04638171195983887,
          0.04640650749206543,
          0.04642772674560547,
          0.046451568603515625,
          0.04647350311279297,
          0.04649496078491211,
          0.04651761054992676,
          0.046541690826416016,
          0.046563148498535156,
          0.04658365249633789
         ],
         "hovertemplate": "Task=Iter 44<br>Start=%{base}<br>Finish=%{x}<br>Resource=%{y}<extra></extra>",
         "legendgroup": "Iter 44",
         "marker": {
          "color": "#FFA15A",
          "pattern": {
           "shape": ""
          }
         },
         "name": "Iter 44",
         "offsetgroup": "Iter 44",
         "orientation": "h",
         "showlegend": true,
         "textposition": "auto",
         "type": "bar",
         "x": [
          0.000010251998901367188,
          0.000010251998901367188,
          0.00001049041748046875,
          0.00001049041748046875,
          0.000010728836059570312,
          0.000010728836059570312,
          0.000011920928955078125,
          0.000010728836059570312,
          0.000009775161743164062,
          0.0006754398345947266
         ],
         "xaxis": "x",
         "y": [
          "Node 0",
          "Node 1",
          "Node 2",
          "Node 3",
          "Node 4",
          "Node 5",
          "Node 6",
          "Node 7",
          "Node 8",
          "Node 9"
         ],
         "yaxis": "y"
        },
        {
         "alignmentgroup": "True",
         "base": [
          0.04729104042053223,
          0.04731440544128418,
          0.04733562469482422,
          0.04736065864562988,
          0.04738283157348633,
          0.047403812408447266,
          0.047425031661987305,
          0.047446489334106445,
          0.047467708587646484,
          0.047489166259765625
         ],
         "hovertemplate": "Task=Iter 45<br>Start=%{base}<br>Finish=%{x}<br>Resource=%{y}<extra></extra>",
         "legendgroup": "Iter 45",
         "marker": {
          "color": "#19d3f3",
          "pattern": {
           "shape": ""
          }
         },
         "name": "Iter 45",
         "offsetgroup": "Iter 45",
         "orientation": "h",
         "showlegend": true,
         "textposition": "auto",
         "type": "bar",
         "x": [
          0.000010013580322265625,
          0.000010251998901367188,
          0.000010013580322265625,
          0.00001049041748046875,
          0.000010013580322265625,
          0.00001049041748046875,
          0.00001049041748046875,
          0.00001049041748046875,
          0.00001049041748046875,
          0.0006780624389648438
         ],
         "xaxis": "x",
         "y": [
          "Node 0",
          "Node 1",
          "Node 2",
          "Node 3",
          "Node 4",
          "Node 5",
          "Node 6",
          "Node 7",
          "Node 8",
          "Node 9"
         ],
         "yaxis": "y"
        },
        {
         "alignmentgroup": "True",
         "base": [
          0.048200130462646484,
          0.048224449157714844,
          0.04824471473693848,
          0.048265695571899414,
          0.048287391662597656,
          0.04830789566040039,
          0.04832863807678223,
          0.04834938049316406,
          0.048375844955444336,
          0.04839634895324707
         ],
         "hovertemplate": "Task=Iter 46<br>Start=%{base}<br>Finish=%{x}<br>Resource=%{y}<extra></extra>",
         "legendgroup": "Iter 46",
         "marker": {
          "color": "#FF6692",
          "pattern": {
           "shape": ""
          }
         },
         "name": "Iter 46",
         "offsetgroup": "Iter 46",
         "orientation": "h",
         "showlegend": true,
         "textposition": "auto",
         "type": "bar",
         "x": [
          0.000010251998901367188,
          0.000009775161743164062,
          0.000010728836059570312,
          0.000010013580322265625,
          0.000010251998901367188,
          0.000010251998901367188,
          0.000010251998901367188,
          0.000015020370483398438,
          0.000010251998901367188,
          0.0006778240203857422
         ],
         "xaxis": "x",
         "y": [
          "Node 0",
          "Node 1",
          "Node 2",
          "Node 3",
          "Node 4",
          "Node 5",
          "Node 6",
          "Node 7",
          "Node 8",
          "Node 9"
         ],
         "yaxis": "y"
        },
        {
         "alignmentgroup": "True",
         "base": [
          0.049106597900390625,
          0.04913139343261719,
          0.04915118217468262,
          0.04917263984680176,
          0.0491945743560791,
          0.04921579360961914,
          0.04923677444458008,
          0.049257755279541016,
          0.049277544021606445,
          0.04929828643798828
         ],
         "hovertemplate": "Task=Iter 47<br>Start=%{base}<br>Finish=%{x}<br>Resource=%{y}<extra></extra>",
         "legendgroup": "Iter 47",
         "marker": {
          "color": "#B6E880",
          "pattern": {
           "shape": ""
          }
         },
         "name": "Iter 47",
         "offsetgroup": "Iter 47",
         "orientation": "h",
         "showlegend": true,
         "textposition": "auto",
         "type": "bar",
         "x": [
          0.00001049041748046875,
          0.000010013580322265625,
          0.00001049041748046875,
          0.000010251998901367188,
          0.000010013580322265625,
          0.000010251998901367188,
          0.000010251998901367188,
          0.000010251998901367188,
          0.000010013580322265625,
          0.0006816387176513672
         ],
         "xaxis": "x",
         "y": [
          "Node 0",
          "Node 1",
          "Node 2",
          "Node 3",
          "Node 4",
          "Node 5",
          "Node 6",
          "Node 7",
          "Node 8",
          "Node 9"
         ],
         "yaxis": "y"
        },
        {
         "alignmentgroup": "True",
         "base": [
          0.050012826919555664,
          0.05003786087036133,
          0.05006146430969238,
          0.05008268356323242,
          0.050104379653930664,
          0.05012655258178711,
          0.05014681816101074,
          0.05016827583312988,
          0.05018949508666992,
          0.05021023750305176
         ],
         "hovertemplate": "Task=Iter 48<br>Start=%{base}<br>Finish=%{x}<br>Resource=%{y}<extra></extra>",
         "legendgroup": "Iter 48",
         "marker": {
          "color": "#FF97FF",
          "pattern": {
           "shape": ""
          }
         },
         "name": "Iter 48",
         "offsetgroup": "Iter 48",
         "orientation": "h",
         "showlegend": true,
         "textposition": "auto",
         "type": "bar",
         "x": [
          0.000010251998901367188,
          0.000010013580322265625,
          0.000010013580322265625,
          0.00001049041748046875,
          0.000009775161743164062,
          0.000010013580322265625,
          0.000010251998901367188,
          0.00001049041748046875,
          0.000009775161743164062,
          0.0006825923919677734
         ],
         "xaxis": "x",
         "y": [
          "Node 0",
          "Node 1",
          "Node 2",
          "Node 3",
          "Node 4",
          "Node 5",
          "Node 6",
          "Node 7",
          "Node 8",
          "Node 9"
         ],
         "yaxis": "y"
        },
        {
         "alignmentgroup": "True",
         "base": [
          0.050923824310302734,
          0.05094742774963379,
          0.05096745491027832,
          0.0509951114654541,
          0.05101656913757324,
          0.05104255676269531,
          0.05106377601623535,
          0.05108499526977539,
          0.05110597610473633,
          0.05112624168395996
         ],
         "hovertemplate": "Task=Iter 49<br>Start=%{base}<br>Finish=%{x}<br>Resource=%{y}<extra></extra>",
         "legendgroup": "Iter 49",
         "marker": {
          "color": "#FECB52",
          "pattern": {
           "shape": ""
          }
         },
         "name": "Iter 49",
         "offsetgroup": "Iter 49",
         "orientation": "h",
         "showlegend": true,
         "textposition": "auto",
         "type": "bar",
         "x": [
          0.000010251998901367188,
          0.000010251998901367188,
          0.000010251998901367188,
          0.00001049041748046875,
          0.000010251998901367188,
          0.000010251998901367188,
          0.000010251998901367188,
          0.00001049041748046875,
          0.000010251998901367188,
          0.0006830692291259766
         ],
         "xaxis": "x",
         "y": [
          "Node 0",
          "Node 1",
          "Node 2",
          "Node 3",
          "Node 4",
          "Node 5",
          "Node 6",
          "Node 7",
          "Node 8",
          "Node 9"
         ],
         "yaxis": "y"
        },
        {
         "alignmentgroup": "True",
         "base": [
          0.05184197425842285,
          0.05186605453491211,
          0.051886796951293945,
          0.05190849304199219,
          0.05193066596984863,
          0.051953792572021484,
          0.05197477340698242,
          0.051996707916259766,
          0.0520176887512207,
          0.05203819274902344
         ],
         "hovertemplate": "Task=Iter 50<br>Start=%{base}<br>Finish=%{x}<br>Resource=%{y}<extra></extra>",
         "legendgroup": "Iter 50",
         "marker": {
          "color": "#636efa",
          "pattern": {
           "shape": ""
          }
         },
         "name": "Iter 50",
         "offsetgroup": "Iter 50",
         "orientation": "h",
         "showlegend": true,
         "textposition": "auto",
         "type": "bar",
         "x": [
          0.000010013580322265625,
          0.000010251998901367188,
          0.000010251998901367188,
          0.000010251998901367188,
          0.00001049041748046875,
          0.00001049041748046875,
          0.00001049041748046875,
          0.000010728836059570312,
          0.000010251998901367188,
          0.0006830692291259766
         ],
         "xaxis": "x",
         "y": [
          "Node 0",
          "Node 1",
          "Node 2",
          "Node 3",
          "Node 4",
          "Node 5",
          "Node 6",
          "Node 7",
          "Node 8",
          "Node 9"
         ],
         "yaxis": "y"
        }
       ],
       "layout": {
        "barmode": "overlay",
        "legend": {
         "title": {
          "text": "Task"
         },
         "tracegroupgap": 0
        },
        "margin": {
         "t": 60
        },
        "template": {
         "data": {
          "bar": [
           {
            "error_x": {
             "color": "#2a3f5f"
            },
            "error_y": {
             "color": "#2a3f5f"
            },
            "marker": {
             "line": {
              "color": "#E5ECF6",
              "width": 0.5
             },
             "pattern": {
              "fillmode": "overlay",
              "size": 10,
              "solidity": 0.2
             }
            },
            "type": "bar"
           }
          ],
          "barpolar": [
           {
            "marker": {
             "line": {
              "color": "#E5ECF6",
              "width": 0.5
             },
             "pattern": {
              "fillmode": "overlay",
              "size": 10,
              "solidity": 0.2
             }
            },
            "type": "barpolar"
           }
          ],
          "carpet": [
           {
            "aaxis": {
             "endlinecolor": "#2a3f5f",
             "gridcolor": "white",
             "linecolor": "white",
             "minorgridcolor": "white",
             "startlinecolor": "#2a3f5f"
            },
            "baxis": {
             "endlinecolor": "#2a3f5f",
             "gridcolor": "white",
             "linecolor": "white",
             "minorgridcolor": "white",
             "startlinecolor": "#2a3f5f"
            },
            "type": "carpet"
           }
          ],
          "choropleth": [
           {
            "colorbar": {
             "outlinewidth": 0,
             "ticks": ""
            },
            "type": "choropleth"
           }
          ],
          "contour": [
           {
            "colorbar": {
             "outlinewidth": 0,
             "ticks": ""
            },
            "colorscale": [
             [
              0,
              "#0d0887"
             ],
             [
              0.1111111111111111,
              "#46039f"
             ],
             [
              0.2222222222222222,
              "#7201a8"
             ],
             [
              0.3333333333333333,
              "#9c179e"
             ],
             [
              0.4444444444444444,
              "#bd3786"
             ],
             [
              0.5555555555555556,
              "#d8576b"
             ],
             [
              0.6666666666666666,
              "#ed7953"
             ],
             [
              0.7777777777777778,
              "#fb9f3a"
             ],
             [
              0.8888888888888888,
              "#fdca26"
             ],
             [
              1,
              "#f0f921"
             ]
            ],
            "type": "contour"
           }
          ],
          "contourcarpet": [
           {
            "colorbar": {
             "outlinewidth": 0,
             "ticks": ""
            },
            "type": "contourcarpet"
           }
          ],
          "heatmap": [
           {
            "colorbar": {
             "outlinewidth": 0,
             "ticks": ""
            },
            "colorscale": [
             [
              0,
              "#0d0887"
             ],
             [
              0.1111111111111111,
              "#46039f"
             ],
             [
              0.2222222222222222,
              "#7201a8"
             ],
             [
              0.3333333333333333,
              "#9c179e"
             ],
             [
              0.4444444444444444,
              "#bd3786"
             ],
             [
              0.5555555555555556,
              "#d8576b"
             ],
             [
              0.6666666666666666,
              "#ed7953"
             ],
             [
              0.7777777777777778,
              "#fb9f3a"
             ],
             [
              0.8888888888888888,
              "#fdca26"
             ],
             [
              1,
              "#f0f921"
             ]
            ],
            "type": "heatmap"
           }
          ],
          "heatmapgl": [
           {
            "colorbar": {
             "outlinewidth": 0,
             "ticks": ""
            },
            "colorscale": [
             [
              0,
              "#0d0887"
             ],
             [
              0.1111111111111111,
              "#46039f"
             ],
             [
              0.2222222222222222,
              "#7201a8"
             ],
             [
              0.3333333333333333,
              "#9c179e"
             ],
             [
              0.4444444444444444,
              "#bd3786"
             ],
             [
              0.5555555555555556,
              "#d8576b"
             ],
             [
              0.6666666666666666,
              "#ed7953"
             ],
             [
              0.7777777777777778,
              "#fb9f3a"
             ],
             [
              0.8888888888888888,
              "#fdca26"
             ],
             [
              1,
              "#f0f921"
             ]
            ],
            "type": "heatmapgl"
           }
          ],
          "histogram": [
           {
            "marker": {
             "pattern": {
              "fillmode": "overlay",
              "size": 10,
              "solidity": 0.2
             }
            },
            "type": "histogram"
           }
          ],
          "histogram2d": [
           {
            "colorbar": {
             "outlinewidth": 0,
             "ticks": ""
            },
            "colorscale": [
             [
              0,
              "#0d0887"
             ],
             [
              0.1111111111111111,
              "#46039f"
             ],
             [
              0.2222222222222222,
              "#7201a8"
             ],
             [
              0.3333333333333333,
              "#9c179e"
             ],
             [
              0.4444444444444444,
              "#bd3786"
             ],
             [
              0.5555555555555556,
              "#d8576b"
             ],
             [
              0.6666666666666666,
              "#ed7953"
             ],
             [
              0.7777777777777778,
              "#fb9f3a"
             ],
             [
              0.8888888888888888,
              "#fdca26"
             ],
             [
              1,
              "#f0f921"
             ]
            ],
            "type": "histogram2d"
           }
          ],
          "histogram2dcontour": [
           {
            "colorbar": {
             "outlinewidth": 0,
             "ticks": ""
            },
            "colorscale": [
             [
              0,
              "#0d0887"
             ],
             [
              0.1111111111111111,
              "#46039f"
             ],
             [
              0.2222222222222222,
              "#7201a8"
             ],
             [
              0.3333333333333333,
              "#9c179e"
             ],
             [
              0.4444444444444444,
              "#bd3786"
             ],
             [
              0.5555555555555556,
              "#d8576b"
             ],
             [
              0.6666666666666666,
              "#ed7953"
             ],
             [
              0.7777777777777778,
              "#fb9f3a"
             ],
             [
              0.8888888888888888,
              "#fdca26"
             ],
             [
              1,
              "#f0f921"
             ]
            ],
            "type": "histogram2dcontour"
           }
          ],
          "mesh3d": [
           {
            "colorbar": {
             "outlinewidth": 0,
             "ticks": ""
            },
            "type": "mesh3d"
           }
          ],
          "parcoords": [
           {
            "line": {
             "colorbar": {
              "outlinewidth": 0,
              "ticks": ""
             }
            },
            "type": "parcoords"
           }
          ],
          "pie": [
           {
            "automargin": true,
            "type": "pie"
           }
          ],
          "scatter": [
           {
            "fillpattern": {
             "fillmode": "overlay",
             "size": 10,
             "solidity": 0.2
            },
            "type": "scatter"
           }
          ],
          "scatter3d": [
           {
            "line": {
             "colorbar": {
              "outlinewidth": 0,
              "ticks": ""
             }
            },
            "marker": {
             "colorbar": {
              "outlinewidth": 0,
              "ticks": ""
             }
            },
            "type": "scatter3d"
           }
          ],
          "scattercarpet": [
           {
            "marker": {
             "colorbar": {
              "outlinewidth": 0,
              "ticks": ""
             }
            },
            "type": "scattercarpet"
           }
          ],
          "scattergeo": [
           {
            "marker": {
             "colorbar": {
              "outlinewidth": 0,
              "ticks": ""
             }
            },
            "type": "scattergeo"
           }
          ],
          "scattergl": [
           {
            "marker": {
             "colorbar": {
              "outlinewidth": 0,
              "ticks": ""
             }
            },
            "type": "scattergl"
           }
          ],
          "scattermapbox": [
           {
            "marker": {
             "colorbar": {
              "outlinewidth": 0,
              "ticks": ""
             }
            },
            "type": "scattermapbox"
           }
          ],
          "scatterpolar": [
           {
            "marker": {
             "colorbar": {
              "outlinewidth": 0,
              "ticks": ""
             }
            },
            "type": "scatterpolar"
           }
          ],
          "scatterpolargl": [
           {
            "marker": {
             "colorbar": {
              "outlinewidth": 0,
              "ticks": ""
             }
            },
            "type": "scatterpolargl"
           }
          ],
          "scatterternary": [
           {
            "marker": {
             "colorbar": {
              "outlinewidth": 0,
              "ticks": ""
             }
            },
            "type": "scatterternary"
           }
          ],
          "surface": [
           {
            "colorbar": {
             "outlinewidth": 0,
             "ticks": ""
            },
            "colorscale": [
             [
              0,
              "#0d0887"
             ],
             [
              0.1111111111111111,
              "#46039f"
             ],
             [
              0.2222222222222222,
              "#7201a8"
             ],
             [
              0.3333333333333333,
              "#9c179e"
             ],
             [
              0.4444444444444444,
              "#bd3786"
             ],
             [
              0.5555555555555556,
              "#d8576b"
             ],
             [
              0.6666666666666666,
              "#ed7953"
             ],
             [
              0.7777777777777778,
              "#fb9f3a"
             ],
             [
              0.8888888888888888,
              "#fdca26"
             ],
             [
              1,
              "#f0f921"
             ]
            ],
            "type": "surface"
           }
          ],
          "table": [
           {
            "cells": {
             "fill": {
              "color": "#EBF0F8"
             },
             "line": {
              "color": "white"
             }
            },
            "header": {
             "fill": {
              "color": "#C8D4E3"
             },
             "line": {
              "color": "white"
             }
            },
            "type": "table"
           }
          ]
         },
         "layout": {
          "annotationdefaults": {
           "arrowcolor": "#2a3f5f",
           "arrowhead": 0,
           "arrowwidth": 1
          },
          "autotypenumbers": "strict",
          "coloraxis": {
           "colorbar": {
            "outlinewidth": 0,
            "ticks": ""
           }
          },
          "colorscale": {
           "diverging": [
            [
             0,
             "#8e0152"
            ],
            [
             0.1,
             "#c51b7d"
            ],
            [
             0.2,
             "#de77ae"
            ],
            [
             0.3,
             "#f1b6da"
            ],
            [
             0.4,
             "#fde0ef"
            ],
            [
             0.5,
             "#f7f7f7"
            ],
            [
             0.6,
             "#e6f5d0"
            ],
            [
             0.7,
             "#b8e186"
            ],
            [
             0.8,
             "#7fbc41"
            ],
            [
             0.9,
             "#4d9221"
            ],
            [
             1,
             "#276419"
            ]
           ],
           "sequential": [
            [
             0,
             "#0d0887"
            ],
            [
             0.1111111111111111,
             "#46039f"
            ],
            [
             0.2222222222222222,
             "#7201a8"
            ],
            [
             0.3333333333333333,
             "#9c179e"
            ],
            [
             0.4444444444444444,
             "#bd3786"
            ],
            [
             0.5555555555555556,
             "#d8576b"
            ],
            [
             0.6666666666666666,
             "#ed7953"
            ],
            [
             0.7777777777777778,
             "#fb9f3a"
            ],
            [
             0.8888888888888888,
             "#fdca26"
            ],
            [
             1,
             "#f0f921"
            ]
           ],
           "sequentialminus": [
            [
             0,
             "#0d0887"
            ],
            [
             0.1111111111111111,
             "#46039f"
            ],
            [
             0.2222222222222222,
             "#7201a8"
            ],
            [
             0.3333333333333333,
             "#9c179e"
            ],
            [
             0.4444444444444444,
             "#bd3786"
            ],
            [
             0.5555555555555556,
             "#d8576b"
            ],
            [
             0.6666666666666666,
             "#ed7953"
            ],
            [
             0.7777777777777778,
             "#fb9f3a"
            ],
            [
             0.8888888888888888,
             "#fdca26"
            ],
            [
             1,
             "#f0f921"
            ]
           ]
          },
          "colorway": [
           "#636efa",
           "#EF553B",
           "#00cc96",
           "#ab63fa",
           "#FFA15A",
           "#19d3f3",
           "#FF6692",
           "#B6E880",
           "#FF97FF",
           "#FECB52"
          ],
          "font": {
           "color": "#2a3f5f"
          },
          "geo": {
           "bgcolor": "white",
           "lakecolor": "white",
           "landcolor": "#E5ECF6",
           "showlakes": true,
           "showland": true,
           "subunitcolor": "white"
          },
          "hoverlabel": {
           "align": "left"
          },
          "hovermode": "closest",
          "mapbox": {
           "style": "light"
          },
          "paper_bgcolor": "white",
          "plot_bgcolor": "#E5ECF6",
          "polar": {
           "angularaxis": {
            "gridcolor": "white",
            "linecolor": "white",
            "ticks": ""
           },
           "bgcolor": "#E5ECF6",
           "radialaxis": {
            "gridcolor": "white",
            "linecolor": "white",
            "ticks": ""
           }
          },
          "scene": {
           "xaxis": {
            "backgroundcolor": "#E5ECF6",
            "gridcolor": "white",
            "gridwidth": 2,
            "linecolor": "white",
            "showbackground": true,
            "ticks": "",
            "zerolinecolor": "white"
           },
           "yaxis": {
            "backgroundcolor": "#E5ECF6",
            "gridcolor": "white",
            "gridwidth": 2,
            "linecolor": "white",
            "showbackground": true,
            "ticks": "",
            "zerolinecolor": "white"
           },
           "zaxis": {
            "backgroundcolor": "#E5ECF6",
            "gridcolor": "white",
            "gridwidth": 2,
            "linecolor": "white",
            "showbackground": true,
            "ticks": "",
            "zerolinecolor": "white"
           }
          },
          "shapedefaults": {
           "line": {
            "color": "#2a3f5f"
           }
          },
          "ternary": {
           "aaxis": {
            "gridcolor": "white",
            "linecolor": "white",
            "ticks": ""
           },
           "baxis": {
            "gridcolor": "white",
            "linecolor": "white",
            "ticks": ""
           },
           "bgcolor": "#E5ECF6",
           "caxis": {
            "gridcolor": "white",
            "linecolor": "white",
            "ticks": ""
           }
          },
          "title": {
           "x": 0.05
          },
          "xaxis": {
           "automargin": true,
           "gridcolor": "white",
           "linecolor": "white",
           "ticks": "",
           "title": {
            "standoff": 15
           },
           "zerolinecolor": "white",
           "zerolinewidth": 2
          },
          "yaxis": {
           "automargin": true,
           "gridcolor": "white",
           "linecolor": "white",
           "ticks": "",
           "title": {
            "standoff": 15
           },
           "zerolinecolor": "white",
           "zerolinewidth": 2
          }
         }
        },
        "title": {
         "text": "Parallel WTA Full"
        },
        "xaxis": {
         "anchor": "y",
         "domain": [
          0,
          1
         ],
         "type": "linear"
        },
        "yaxis": {
         "anchor": "x",
         "autorange": "reversed",
         "domain": [
          0,
          1
         ],
         "title": {
          "text": "Resource"
         }
        }
       }
      }
     },
     "metadata": {},
     "output_type": "display_data"
    }
   ],
   "source": [
    "fig = getDataGantt(logs[0], \"Parallel WTA Full\")\n",
    "fig.show()"
   ]
  },
  {
   "cell_type": "code",
   "execution_count": 5,
   "metadata": {},
   "outputs": [
    {
     "data": {
      "application/vnd.plotly.v1+json": {
       "config": {
        "plotlyServerURL": "https://plot.ly"
       },
       "data": [
        {
         "alignmentgroup": "True",
         "base": [
          0,
          0.00007295608520507812,
          0.0001087188720703125,
          0.00015282630920410156,
          0.00018715858459472656,
          0.0002200603485107422,
          0.00025343894958496094,
          0.0002894401550292969,
          0.00032639503479003906,
          0.0003573894500732422
         ],
         "hovertemplate": "Task=Iter 0<br>Start=%{base}<br>Finish=%{x}<br>Resource=%{y}<extra></extra>",
         "legendgroup": "Iter 0",
         "marker": {
          "color": "#636efa",
          "pattern": {
           "shape": ""
          }
         },
         "name": "Iter 0",
         "offsetgroup": "Iter 0",
         "orientation": "h",
         "showlegend": true,
         "textposition": "auto",
         "type": "bar",
         "x": [
          0.00003552436828613281,
          0.000016689300537109375,
          0.000024318695068359375,
          0.000015020370483398438,
          0.000015020370483398438,
          0.0000152587890625,
          0.0000152587890625,
          0.00001621246337890625,
          0.000016450881958007812,
          0.0007050037384033203
         ],
         "xaxis": "x",
         "y": [
          "Node 0",
          "Node 1",
          "Node 2",
          "Node 3",
          "Node 4",
          "Node 5",
          "Node 6",
          "Node 7",
          "Node 8",
          "Node 9"
         ],
         "yaxis": "y"
        },
        {
         "alignmentgroup": "True",
         "base": [
          0.0001227855682373047,
          0.0001876354217529297,
          0.00021767616271972656,
          0.00024008750915527344,
          0.0002639293670654297,
          0.00029850006103515625,
          0.00033402442932128906,
          0.0003705024719238281,
          0.0011320114135742188,
          0.0011539459228515625
         ],
         "hovertemplate": "Task=Iter 1<br>Start=%{base}<br>Finish=%{x}<br>Resource=%{y}<extra></extra>",
         "legendgroup": "Iter 1",
         "marker": {
          "color": "#EF553B",
          "pattern": {
           "shape": ""
          }
         },
         "name": "Iter 1",
         "offsetgroup": "Iter 1",
         "orientation": "h",
         "showlegend": true,
         "textposition": "auto",
         "type": "bar",
         "x": [
          0.000011444091796875,
          0.000017642974853515625,
          0.000011444091796875,
          0.00001049041748046875,
          0.000010251998901367188,
          0.00001049041748046875,
          0.000010251998901367188,
          0.000011205673217773438,
          0.000010967254638671875,
          0.0007083415985107422
         ],
         "xaxis": "x",
         "y": [
          "Node 0",
          "Node 1",
          "Node 2",
          "Node 3",
          "Node 4",
          "Node 5",
          "Node 6",
          "Node 7",
          "Node 8",
          "Node 9"
         ],
         "yaxis": "y"
        },
        {
         "alignmentgroup": "True",
         "base": [
          0.0002243518829345703,
          0.0002560615539550781,
          0.00027823448181152344,
          0.0003008842468261719,
          0.0003337860107421875,
          0.00036835670471191406,
          0.00040411949157714844,
          0.0011665821075439453,
          0.0019097328186035156,
          0.0019304752349853516
         ],
         "hovertemplate": "Task=Iter 2<br>Start=%{base}<br>Finish=%{x}<br>Resource=%{y}<extra></extra>",
         "legendgroup": "Iter 2",
         "marker": {
          "color": "#00cc96",
          "pattern": {
           "shape": ""
          }
         },
         "name": "Iter 2",
         "offsetgroup": "Iter 2",
         "orientation": "h",
         "showlegend": true,
         "textposition": "auto",
         "type": "bar",
         "x": [
          0.000009775161743164062,
          0.000011205673217773438,
          0.000011920928955078125,
          0.000010013580322265625,
          0.0000095367431640625,
          0.0000095367431640625,
          0.00001049041748046875,
          0.000010251998901367188,
          0.000010013580322265625,
          0.0006909370422363281
         ],
         "xaxis": "x",
         "y": [
          "Node 0",
          "Node 1",
          "Node 2",
          "Node 3",
          "Node 4",
          "Node 5",
          "Node 6",
          "Node 7",
          "Node 8",
          "Node 9"
         ],
         "yaxis": "y"
        },
        {
         "alignmentgroup": "True",
         "base": [
          0.0002846717834472656,
          0.00031495094299316406,
          0.00033593177795410156,
          0.0003674030303955078,
          0.0004000663757324219,
          0.0004372596740722656,
          0.0011997222900390625,
          0.0019421577453613281,
          0.002668619155883789,
          0.002688884735107422
         ],
         "hovertemplate": "Task=Iter 3<br>Start=%{base}<br>Finish=%{x}<br>Resource=%{y}<extra></extra>",
         "legendgroup": "Iter 3",
         "marker": {
          "color": "#ab63fa",
          "pattern": {
           "shape": ""
          }
         },
         "name": "Iter 3",
         "offsetgroup": "Iter 3",
         "orientation": "h",
         "showlegend": true,
         "textposition": "auto",
         "type": "bar",
         "x": [
          0.0000095367431640625,
          0.000009775161743164062,
          0.000009059906005859375,
          0.0000095367431640625,
          0.000009298324584960938,
          0.000009298324584960938,
          0.00001049041748046875,
          0.000010013580322265625,
          0.000010013580322265625,
          0.0006897449493408203
         ],
         "xaxis": "x",
         "y": [
          "Node 0",
          "Node 1",
          "Node 2",
          "Node 3",
          "Node 4",
          "Node 5",
          "Node 6",
          "Node 7",
          "Node 8",
          "Node 9"
         ],
         "yaxis": "y"
        },
        {
         "alignmentgroup": "True",
         "base": [
          0.0003426074981689453,
          0.000370025634765625,
          0.0003998279571533203,
          0.0004317760467529297,
          0.000469207763671875,
          0.0012335777282714844,
          0.0019731521606445312,
          0.0027010440826416016,
          0.00342559814453125,
          0.003446340560913086
         ],
         "hovertemplate": "Task=Iter 4<br>Start=%{base}<br>Finish=%{x}<br>Resource=%{y}<extra></extra>",
         "legendgroup": "Iter 4",
         "marker": {
          "color": "#FFA15A",
          "pattern": {
           "shape": ""
          }
         },
         "name": "Iter 4",
         "offsetgroup": "Iter 4",
         "orientation": "h",
         "showlegend": true,
         "textposition": "auto",
         "type": "bar",
         "x": [
          0.000009059906005859375,
          0.000009059906005859375,
          0.0000095367431640625,
          0.0000095367431640625,
          0.000009298324584960938,
          0.000009775161743164062,
          0.0000095367431640625,
          0.000009775161743164062,
          0.000009298324584960938,
          0.0006878376007080078
         ],
         "xaxis": "x",
         "y": [
          "Node 0",
          "Node 1",
          "Node 2",
          "Node 3",
          "Node 4",
          "Node 5",
          "Node 6",
          "Node 7",
          "Node 8",
          "Node 9"
         ],
         "yaxis": "y"
        },
        {
         "alignmentgroup": "True",
         "base": [
          0.00039696693420410156,
          0.0004372596740722656,
          0.0004661083221435547,
          0.0005018711090087891,
          0.0012669563293457031,
          0.0020046234130859375,
          0.0027341842651367188,
          0.003460407257080078,
          0.0041806697845458984,
          0.004201412200927734
         ],
         "hovertemplate": "Task=Iter 5<br>Start=%{base}<br>Finish=%{x}<br>Resource=%{y}<extra></extra>",
         "legendgroup": "Iter 5",
         "marker": {
          "color": "#19d3f3",
          "pattern": {
           "shape": ""
          }
         },
         "name": "Iter 5",
         "offsetgroup": "Iter 5",
         "orientation": "h",
         "showlegend": true,
         "textposition": "auto",
         "type": "bar",
         "x": [
          0.000009298324584960938,
          0.0000095367431640625,
          0.000009775161743164062,
          0.000009059906005859375,
          0.000010013580322265625,
          0.0000095367431640625,
          0.000009775161743164062,
          0.000011682510375976562,
          0.0000095367431640625,
          0.0006766319274902344
         ],
         "xaxis": "x",
         "y": [
          "Node 0",
          "Node 1",
          "Node 2",
          "Node 3",
          "Node 4",
          "Node 5",
          "Node 6",
          "Node 7",
          "Node 8",
          "Node 9"
         ],
         "yaxis": "y"
        },
        {
         "alignmentgroup": "True",
         "base": [
          0.00046372413635253906,
          0.0005006790161132812,
          0.0005331039428710938,
          0.0012993812561035156,
          0.0020368099212646484,
          0.002766847610473633,
          0.003494739532470703,
          0.0042133331298828125,
          0.004922628402709961,
          0.004942893981933594
         ],
         "hovertemplate": "Task=Iter 6<br>Start=%{base}<br>Finish=%{x}<br>Resource=%{y}<extra></extra>",
         "legendgroup": "Iter 6",
         "marker": {
          "color": "#FF6692",
          "pattern": {
           "shape": ""
          }
         },
         "name": "Iter 6",
         "offsetgroup": "Iter 6",
         "orientation": "h",
         "showlegend": true,
         "textposition": "auto",
         "type": "bar",
         "x": [
          0.000008821487426757812,
          0.0000095367431640625,
          0.000009059906005859375,
          0.000010013580322265625,
          0.000009059906005859375,
          0.000009775161743164062,
          0.000009298324584960938,
          0.0000095367431640625,
          0.000009298324584960938,
          0.0006899833679199219
         ],
         "xaxis": "x",
         "y": [
          "Node 0",
          "Node 1",
          "Node 2",
          "Node 3",
          "Node 4",
          "Node 5",
          "Node 6",
          "Node 7",
          "Node 8",
          "Node 9"
         ],
         "yaxis": "y"
        },
        {
         "alignmentgroup": "True",
         "base": [
          0.0005273818969726562,
          0.0005645751953125,
          0.0013322830200195312,
          0.0020678043365478516,
          0.002799510955810547,
          0.003526926040649414,
          0.0042459964752197266,
          0.004954338073730469,
          0.005678653717041016,
          0.00569915771484375
         ],
         "hovertemplate": "Task=Iter 7<br>Start=%{base}<br>Finish=%{x}<br>Resource=%{y}<extra></extra>",
         "legendgroup": "Iter 7",
         "marker": {
          "color": "#B6E880",
          "pattern": {
           "shape": ""
          }
         },
         "name": "Iter 7",
         "offsetgroup": "Iter 7",
         "orientation": "h",
         "showlegend": true,
         "textposition": "auto",
         "type": "bar",
         "x": [
          0.000009298324584960938,
          0.0000095367431640625,
          0.000009775161743164062,
          0.000009059906005859375,
          0.0000095367431640625,
          0.000009775161743164062,
          0.000010251998901367188,
          0.0000095367431640625,
          0.000009775161743164062,
          0.0006844997406005859
         ],
         "xaxis": "x",
         "y": [
          "Node 0",
          "Node 1",
          "Node 2",
          "Node 3",
          "Node 4",
          "Node 5",
          "Node 6",
          "Node 7",
          "Node 8",
          "Node 9"
         ],
         "yaxis": "y"
        },
        {
         "alignmentgroup": "True",
         "base": [
          0.0005908012390136719,
          0.0013654232025146484,
          0.00209808349609375,
          0.0028319358825683594,
          0.0035598278045654297,
          0.004279613494873047,
          0.0049855709075927734,
          0.005711078643798828,
          0.006430864334106445,
          0.0064508914947509766
         ],
         "hovertemplate": "Task=Iter 8<br>Start=%{base}<br>Finish=%{x}<br>Resource=%{y}<extra></extra>",
         "legendgroup": "Iter 8",
         "marker": {
          "color": "#FF97FF",
          "pattern": {
           "shape": ""
          }
         },
         "name": "Iter 8",
         "offsetgroup": "Iter 8",
         "orientation": "h",
         "showlegend": true,
         "textposition": "auto",
         "type": "bar",
         "x": [
          0.000009298324584960938,
          0.000010728836059570312,
          0.000009775161743164062,
          0.000009775161743164062,
          0.000010013580322265625,
          0.000010013580322265625,
          0.000009775161743164062,
          0.0000095367431640625,
          0.0000095367431640625,
          0.0006835460662841797
         ],
         "xaxis": "x",
         "y": [
          "Node 0",
          "Node 1",
          "Node 2",
          "Node 3",
          "Node 4",
          "Node 5",
          "Node 6",
          "Node 7",
          "Node 8",
          "Node 9"
         ],
         "yaxis": "y"
        },
        {
         "alignmentgroup": "True",
         "base": [
          0.0013933181762695312,
          0.0021376609802246094,
          0.0028645992279052734,
          0.00359344482421875,
          0.004312992095947266,
          0.0050182342529296875,
          0.005743503570556641,
          0.0064640045166015625,
          0.007178068161010742,
          0.007197856903076172
         ],
         "hovertemplate": "Task=Iter 9<br>Start=%{base}<br>Finish=%{x}<br>Resource=%{y}<extra></extra>",
         "legendgroup": "Iter 9",
         "marker": {
          "color": "#FECB52",
          "pattern": {
           "shape": ""
          }
         },
         "name": "Iter 9",
         "offsetgroup": "Iter 9",
         "orientation": "h",
         "showlegend": true,
         "textposition": "auto",
         "type": "bar",
         "x": [
          0.000010251998901367188,
          0.000010013580322265625,
          0.000009298324584960938,
          0.000009775161743164062,
          0.0000095367431640625,
          0.000009298324584960938,
          0.000010013580322265625,
          0.0000095367431640625,
          0.000009298324584960938,
          0.0006871223449707031
         ],
         "xaxis": "x",
         "y": [
          "Node 0",
          "Node 1",
          "Node 2",
          "Node 3",
          "Node 4",
          "Node 5",
          "Node 6",
          "Node 7",
          "Node 8",
          "Node 9"
         ],
         "yaxis": "y"
        },
        {
         "alignmentgroup": "True",
         "base": [
          0.002166271209716797,
          0.0028963088989257812,
          0.0036263465881347656,
          0.004344940185546875,
          0.005050182342529297,
          0.005776882171630859,
          0.006497621536254883,
          0.007210254669189453,
          0.00792694091796875,
          0.007946491241455078
         ],
         "hovertemplate": "Task=Iter 10<br>Start=%{base}<br>Finish=%{x}<br>Resource=%{y}<extra></extra>",
         "legendgroup": "Iter 10",
         "marker": {
          "color": "#636efa",
          "pattern": {
           "shape": ""
          }
         },
         "name": "Iter 10",
         "offsetgroup": "Iter 10",
         "orientation": "h",
         "showlegend": true,
         "textposition": "auto",
         "type": "bar",
         "x": [
          0.000010728836059570312,
          0.000010251998901367188,
          0.000010251998901367188,
          0.0000095367431640625,
          0.000009775161743164062,
          0.000010013580322265625,
          0.000010013580322265625,
          0.000009775161743164062,
          0.0000095367431640625,
          0.0006861686706542969
         ],
         "xaxis": "x",
         "y": [
          "Node 0",
          "Node 1",
          "Node 2",
          "Node 3",
          "Node 4",
          "Node 5",
          "Node 6",
          "Node 7",
          "Node 8",
          "Node 9"
         ],
         "yaxis": "y"
        },
        {
         "alignmentgroup": "True",
         "base": [
          0.0029239654541015625,
          0.003659963607788086,
          0.004377603530883789,
          0.005082368850708008,
          0.0058100223541259766,
          0.006529808044433594,
          0.0072422027587890625,
          0.00795888900756836,
          0.008675336837768555,
          0.008695602416992188
         ],
         "hovertemplate": "Task=Iter 11<br>Start=%{base}<br>Finish=%{x}<br>Resource=%{y}<extra></extra>",
         "legendgroup": "Iter 11",
         "marker": {
          "color": "#EF553B",
          "pattern": {
           "shape": ""
          }
         },
         "name": "Iter 11",
         "offsetgroup": "Iter 11",
         "orientation": "h",
         "showlegend": true,
         "textposition": "auto",
         "type": "bar",
         "x": [
          0.000010013580322265625,
          0.00001049041748046875,
          0.000009775161743164062,
          0.0000095367431640625,
          0.0000095367431640625,
          0.0000095367431640625,
          0.000010013580322265625,
          0.000009298324584960938,
          0.0000095367431640625,
          0.0006837844848632812
         ],
         "xaxis": "x",
         "y": [
          "Node 0",
          "Node 1",
          "Node 2",
          "Node 3",
          "Node 4",
          "Node 5",
          "Node 6",
          "Node 7",
          "Node 8",
          "Node 9"
         ],
         "yaxis": "y"
        },
        {
         "alignmentgroup": "True",
         "base": [
          0.003687620162963867,
          0.004410982131958008,
          0.005122661590576172,
          0.005841970443725586,
          0.006561756134033203,
          0.0072748661041259766,
          0.00799250602722168,
          0.008707284927368164,
          0.00942230224609375,
          0.009442329406738281
         ],
         "hovertemplate": "Task=Iter 12<br>Start=%{base}<br>Finish=%{x}<br>Resource=%{y}<extra></extra>",
         "legendgroup": "Iter 12",
         "marker": {
          "color": "#00cc96",
          "pattern": {
           "shape": ""
          }
         },
         "name": "Iter 12",
         "offsetgroup": "Iter 12",
         "orientation": "h",
         "showlegend": true,
         "textposition": "auto",
         "type": "bar",
         "x": [
          0.000010251998901367188,
          0.000010251998901367188,
          0.000009775161743164062,
          0.0000095367431640625,
          0.000009298324584960938,
          0.000009298324584960938,
          0.000009775161743164062,
          0.0000095367431640625,
          0.000009298324584960938,
          0.0006835460662841797
         ],
         "xaxis": "x",
         "y": [
          "Node 0",
          "Node 1",
          "Node 2",
          "Node 3",
          "Node 4",
          "Node 5",
          "Node 6",
          "Node 7",
          "Node 8",
          "Node 9"
         ],
         "yaxis": "y"
        },
        {
         "alignmentgroup": "True",
         "base": [
          0.004439115524291992,
          0.005156040191650391,
          0.005872964859008789,
          0.0065937042236328125,
          0.007308006286621094,
          0.008024930953979492,
          0.008741378784179688,
          0.00945425033569336,
          0.010168313980102539,
          0.01018834114074707
         ],
         "hovertemplate": "Task=Iter 13<br>Start=%{base}<br>Finish=%{x}<br>Resource=%{y}<extra></extra>",
         "legendgroup": "Iter 13",
         "marker": {
          "color": "#ab63fa",
          "pattern": {
           "shape": ""
          }
         },
         "name": "Iter 13",
         "offsetgroup": "Iter 13",
         "orientation": "h",
         "showlegend": true,
         "textposition": "auto",
         "type": "bar",
         "x": [
          0.000010013580322265625,
          0.000009775161743164062,
          0.000009298324584960938,
          0.0000095367431640625,
          0.0000095367431640625,
          0.000009059906005859375,
          0.000011205673217773438,
          0.0000095367431640625,
          0.0000095367431640625,
          0.0006744861602783203
         ],
         "xaxis": "x",
         "y": [
          "Node 0",
          "Node 1",
          "Node 2",
          "Node 3",
          "Node 4",
          "Node 5",
          "Node 6",
          "Node 7",
          "Node 8",
          "Node 9"
         ],
         "yaxis": "y"
        },
        {
         "alignmentgroup": "True",
         "base": [
          0.005185127258300781,
          0.0059070587158203125,
          0.006627321243286133,
          0.0073413848876953125,
          0.008057355880737305,
          0.008775949478149414,
          0.009488344192504883,
          0.010201692581176758,
          0.010904550552368164,
          0.010923385620117188
         ],
         "hovertemplate": "Task=Iter 14<br>Start=%{base}<br>Finish=%{x}<br>Resource=%{y}<extra></extra>",
         "legendgroup": "Iter 14",
         "marker": {
          "color": "#FFA15A",
          "pattern": {
           "shape": ""
          }
         },
         "name": "Iter 14",
         "offsetgroup": "Iter 14",
         "orientation": "h",
         "showlegend": true,
         "textposition": "auto",
         "type": "bar",
         "x": [
          0.0000095367431640625,
          0.000010013580322265625,
          0.00001049041748046875,
          0.000009298324584960938,
          0.000009059906005859375,
          0.000010013580322265625,
          0.000009775161743164062,
          0.000010013580322265625,
          0.000009298324584960938,
          0.0006868839263916016
         ],
         "xaxis": "x",
         "y": [
          "Node 0",
          "Node 1",
          "Node 2",
          "Node 3",
          "Node 4",
          "Node 5",
          "Node 6",
          "Node 7",
          "Node 8",
          "Node 9"
         ],
         "yaxis": "y"
        },
        {
         "alignmentgroup": "True",
         "base": [
          0.005934238433837891,
          0.006662130355834961,
          0.007373809814453125,
          0.00808858871459961,
          0.008811235427856445,
          0.009520292282104492,
          0.010233640670776367,
          0.01093602180480957,
          0.011651992797851562,
          0.011671066284179688
         ],
         "hovertemplate": "Task=Iter 15<br>Start=%{base}<br>Finish=%{x}<br>Resource=%{y}<extra></extra>",
         "legendgroup": "Iter 15",
         "marker": {
          "color": "#19d3f3",
          "pattern": {
           "shape": ""
          }
         },
         "name": "Iter 15",
         "offsetgroup": "Iter 15",
         "orientation": "h",
         "showlegend": true,
         "textposition": "auto",
         "type": "bar",
         "x": [
          0.000010013580322265625,
          0.00001049041748046875,
          0.000010251998901367188,
          0.000009298324584960938,
          0.000010728836059570312,
          0.000009298324584960938,
          0.000010013580322265625,
          0.0000095367431640625,
          0.0000095367431640625,
          0.0006840229034423828
         ],
         "xaxis": "x",
         "y": [
          "Node 0",
          "Node 1",
          "Node 2",
          "Node 3",
          "Node 4",
          "Node 5",
          "Node 6",
          "Node 7",
          "Node 8",
          "Node 9"
         ],
         "yaxis": "y"
        },
        {
         "alignmentgroup": "True",
         "base": [
          0.0066907405853271484,
          0.007407426834106445,
          0.008125782012939453,
          0.008844614028930664,
          0.009552478790283203,
          0.010265350341796875,
          0.010967016220092773,
          0.011684179306030273,
          0.012397527694702148,
          0.012417078018188477
         ],
         "hovertemplate": "Task=Iter 16<br>Start=%{base}<br>Finish=%{x}<br>Resource=%{y}<extra></extra>",
         "legendgroup": "Iter 16",
         "marker": {
          "color": "#FF6692",
          "pattern": {
           "shape": ""
          }
         },
         "name": "Iter 16",
         "offsetgroup": "Iter 16",
         "orientation": "h",
         "showlegend": true,
         "textposition": "auto",
         "type": "bar",
         "x": [
          0.000010251998901367188,
          0.000009298324584960938,
          0.000010013580322265625,
          0.000009298324584960938,
          0.0000095367431640625,
          0.000009298324584960938,
          0.000009059906005859375,
          0.000009298324584960938,
          0.000009298324584960938,
          0.0006766319274902344
         ],
         "xaxis": "x",
         "y": [
          "Node 0",
          "Node 1",
          "Node 2",
          "Node 3",
          "Node 4",
          "Node 5",
          "Node 6",
          "Node 7",
          "Node 8",
          "Node 9"
         ],
         "yaxis": "y"
        },
        {
         "alignmentgroup": "True",
         "base": [
          0.00743556022644043,
          0.008158206939697266,
          0.00887441635131836,
          0.009584903717041016,
          0.010297536849975586,
          0.010998010635375977,
          0.011717557907104492,
          0.012430906295776367,
          0.013143301010131836,
          0.013163089752197266
         ],
         "hovertemplate": "Task=Iter 17<br>Start=%{base}<br>Finish=%{x}<br>Resource=%{y}<extra></extra>",
         "legendgroup": "Iter 17",
         "marker": {
          "color": "#B6E880",
          "pattern": {
           "shape": ""
          }
         },
         "name": "Iter 17",
         "offsetgroup": "Iter 17",
         "orientation": "h",
         "showlegend": true,
         "textposition": "auto",
         "type": "bar",
         "x": [
          0.00001049041748046875,
          0.00001049041748046875,
          0.000009775161743164062,
          0.000010013580322265625,
          0.0000095367431640625,
          0.000009298324584960938,
          0.000009775161743164062,
          0.0000095367431640625,
          0.000009298324584960938,
          0.0006749629974365234
         ],
         "xaxis": "x",
         "y": [
          "Node 0",
          "Node 1",
          "Node 2",
          "Node 3",
          "Node 4",
          "Node 5",
          "Node 6",
          "Node 7",
          "Node 8",
          "Node 9"
         ],
         "yaxis": "y"
        },
        {
         "alignmentgroup": "True",
         "base": [
          0.008186101913452148,
          0.008906841278076172,
          0.009617328643798828,
          0.010329484939575195,
          0.011029958724975586,
          0.011750221252441406,
          0.012462139129638672,
          0.013175487518310547,
          0.013880252838134766,
          0.013900041580200195
         ],
         "hovertemplate": "Task=Iter 18<br>Start=%{base}<br>Finish=%{x}<br>Resource=%{y}<extra></extra>",
         "legendgroup": "Iter 18",
         "marker": {
          "color": "#FF97FF",
          "pattern": {
           "shape": ""
          }
         },
         "name": "Iter 18",
         "offsetgroup": "Iter 18",
         "orientation": "h",
         "showlegend": true,
         "textposition": "auto",
         "type": "bar",
         "x": [
          0.00001049041748046875,
          0.0000095367431640625,
          0.000010013580322265625,
          0.0000095367431640625,
          0.000009059906005859375,
          0.000009298324584960938,
          0.000009298324584960938,
          0.0000095367431640625,
          0.000009059906005859375,
          0.0006804466247558594
         ],
         "xaxis": "x",
         "y": [
          "Node 0",
          "Node 1",
          "Node 2",
          "Node 3",
          "Node 4",
          "Node 5",
          "Node 6",
          "Node 7",
          "Node 8",
          "Node 9"
         ],
         "yaxis": "y"
        },
        {
         "alignmentgroup": "True",
         "base": [
          0.008934497833251953,
          0.009650707244873047,
          0.010361671447753906,
          0.011061429977416992,
          0.01178288459777832,
          0.01249384880065918,
          0.013206958770751953,
          0.013911962509155273,
          0.014623403549194336,
          0.014643192291259766
         ],
         "hovertemplate": "Task=Iter 19<br>Start=%{base}<br>Finish=%{x}<br>Resource=%{y}<extra></extra>",
         "legendgroup": "Iter 19",
         "marker": {
          "color": "#FECB52",
          "pattern": {
           "shape": ""
          }
         },
         "name": "Iter 19",
         "offsetgroup": "Iter 19",
         "orientation": "h",
         "showlegend": true,
         "textposition": "auto",
         "type": "bar",
         "x": [
          0.000009775161743164062,
          0.000010013580322265625,
          0.000010251998901367188,
          0.0000095367431640625,
          0.0000095367431640625,
          0.000009298324584960938,
          0.000009298324584960938,
          0.0000095367431640625,
          0.0000095367431640625,
          0.0006861686706542969
         ],
         "xaxis": "x",
         "y": [
          "Node 0",
          "Node 1",
          "Node 2",
          "Node 3",
          "Node 4",
          "Node 5",
          "Node 6",
          "Node 7",
          "Node 8",
          "Node 9"
         ],
         "yaxis": "y"
        },
        {
         "alignmentgroup": "True",
         "base": [
          0.009678125381469727,
          0.010394811630249023,
          0.011092662811279297,
          0.011814117431640625,
          0.012526273727416992,
          0.013238906860351562,
          0.013942241668701172,
          0.014655828475952148,
          0.015370845794677734,
          0.015391349792480469
         ],
         "hovertemplate": "Task=Iter 20<br>Start=%{base}<br>Finish=%{x}<br>Resource=%{y}<extra></extra>",
         "legendgroup": "Iter 20",
         "marker": {
          "color": "#636efa",
          "pattern": {
           "shape": ""
          }
         },
         "name": "Iter 20",
         "offsetgroup": "Iter 20",
         "orientation": "h",
         "showlegend": true,
         "textposition": "auto",
         "type": "bar",
         "x": [
          0.000010967254638671875,
          0.000010728836059570312,
          0.000010728836059570312,
          0.00001049041748046875,
          0.000010251998901367188,
          0.000010013580322265625,
          0.000010013580322265625,
          0.000010251998901367188,
          0.000009775161743164062,
          0.0006723403930664062
         ],
         "xaxis": "x",
         "y": [
          "Node 0",
          "Node 1",
          "Node 2",
          "Node 3",
          "Node 4",
          "Node 5",
          "Node 6",
          "Node 7",
          "Node 8",
          "Node 9"
         ],
         "yaxis": "y"
        },
        {
         "alignmentgroup": "True",
         "base": [
          0.01042318344116211,
          0.011136531829833984,
          0.011847734451293945,
          0.012559652328491211,
          0.01327204704284668,
          0.013975143432617188,
          0.014688253402709961,
          0.01540374755859375,
          0.01610565185546875,
          0.01613450050354004
         ],
         "hovertemplate": "Task=Iter 21<br>Start=%{base}<br>Finish=%{x}<br>Resource=%{y}<extra></extra>",
         "legendgroup": "Iter 21",
         "marker": {
          "color": "#EF553B",
          "pattern": {
           "shape": ""
          }
         },
         "name": "Iter 21",
         "offsetgroup": "Iter 21",
         "orientation": "h",
         "showlegend": true,
         "textposition": "auto",
         "type": "bar",
         "x": [
          0.000010251998901367188,
          0.000010251998901367188,
          0.000010728836059570312,
          0.000009775161743164062,
          0.0000095367431640625,
          0.000009059906005859375,
          0.000009298324584960938,
          0.000009775161743164062,
          0.000018358230590820312,
          0.0006721019744873047
         ],
         "xaxis": "x",
         "y": [
          "Node 0",
          "Node 1",
          "Node 2",
          "Node 3",
          "Node 4",
          "Node 5",
          "Node 6",
          "Node 7",
          "Node 8",
          "Node 9"
         ],
         "yaxis": "y"
        },
        {
         "alignmentgroup": "True",
         "base": [
          0.01116490364074707,
          0.01188039779663086,
          0.012590885162353516,
          0.01330423355102539,
          0.014007091522216797,
          0.014719724655151367,
          0.015435457229614258,
          0.016147136688232422,
          0.016846895217895508,
          0.01686716079711914
         ],
         "hovertemplate": "Task=Iter 22<br>Start=%{base}<br>Finish=%{x}<br>Resource=%{y}<extra></extra>",
         "legendgroup": "Iter 22",
         "marker": {
          "color": "#00cc96",
          "pattern": {
           "shape": ""
          }
         },
         "name": "Iter 22",
         "offsetgroup": "Iter 22",
         "orientation": "h",
         "showlegend": true,
         "textposition": "auto",
         "type": "bar",
         "x": [
          0.000010013580322265625,
          0.0000095367431640625,
          0.000010251998901367188,
          0.0000095367431640625,
          0.000009775161743164062,
          0.0000095367431640625,
          0.000009298324584960938,
          0.0000095367431640625,
          0.000009775161743164062,
          0.0006883144378662109
         ],
         "xaxis": "x",
         "y": [
          "Node 0",
          "Node 1",
          "Node 2",
          "Node 3",
          "Node 4",
          "Node 5",
          "Node 6",
          "Node 7",
          "Node 8",
          "Node 9"
         ],
         "yaxis": "y"
        },
        {
         "alignmentgroup": "True",
         "base": [
          0.011907100677490234,
          0.012624979019165039,
          0.013337135314941406,
          0.01403951644897461,
          0.014752864837646484,
          0.015467405319213867,
          0.016179800033569336,
          0.016880035400390625,
          0.01759648323059082,
          0.017615318298339844
         ],
         "hovertemplate": "Task=Iter 23<br>Start=%{base}<br>Finish=%{x}<br>Resource=%{y}<extra></extra>",
         "legendgroup": "Iter 23",
         "marker": {
          "color": "#ab63fa",
          "pattern": {
           "shape": ""
          }
         },
         "name": "Iter 23",
         "offsetgroup": "Iter 23",
         "orientation": "h",
         "showlegend": true,
         "textposition": "auto",
         "type": "bar",
         "x": [
          0.000009775161743164062,
          0.000010013580322265625,
          0.000010251998901367188,
          0.000009298324584960938,
          0.000009775161743164062,
          0.0000095367431640625,
          0.000009059906005859375,
          0.000009775161743164062,
          0.000009059906005859375,
          0.0006797313690185547
         ],
         "xaxis": "x",
         "y": [
          "Node 0",
          "Node 1",
          "Node 2",
          "Node 3",
          "Node 4",
          "Node 5",
          "Node 6",
          "Node 7",
          "Node 8",
          "Node 9"
         ],
         "yaxis": "y"
        },
        {
         "alignmentgroup": "True",
         "base": [
          0.012653112411499023,
          0.013369560241699219,
          0.014070510864257812,
          0.014785051345825195,
          0.01549983024597168,
          0.016211509704589844,
          0.016911983489990234,
          0.01762866973876953,
          0.018335819244384766,
          0.018355369567871094
         ],
         "hovertemplate": "Task=Iter 24<br>Start=%{base}<br>Finish=%{x}<br>Resource=%{y}<extra></extra>",
         "legendgroup": "Iter 24",
         "marker": {
          "color": "#FFA15A",
          "pattern": {
           "shape": ""
          }
         },
         "name": "Iter 24",
         "offsetgroup": "Iter 24",
         "orientation": "h",
         "showlegend": true,
         "textposition": "auto",
         "type": "bar",
         "x": [
          0.000009775161743164062,
          0.000010251998901367188,
          0.0000095367431640625,
          0.0000095367431640625,
          0.000009059906005859375,
          0.000009775161743164062,
          0.000008821487426757812,
          0.000009775161743164062,
          0.000009298324584960938,
          0.0006735324859619141
         ],
         "xaxis": "x",
         "y": [
          "Node 0",
          "Node 1",
          "Node 2",
          "Node 3",
          "Node 4",
          "Node 5",
          "Node 6",
          "Node 7",
          "Node 8",
          "Node 9"
         ],
         "yaxis": "y"
        },
        {
         "alignmentgroup": "True",
         "base": [
          0.013397455215454102,
          0.014101505279541016,
          0.014816999435424805,
          0.01553201675415039,
          0.01624441146850586,
          0.016942739486694336,
          0.017661333084106445,
          0.01836848258972168,
          0.019069671630859375,
          0.0190887451171875
         ],
         "hovertemplate": "Task=Iter 25<br>Start=%{base}<br>Finish=%{x}<br>Resource=%{y}<extra></extra>",
         "legendgroup": "Iter 25",
         "marker": {
          "color": "#19d3f3",
          "pattern": {
           "shape": ""
          }
         },
         "name": "Iter 25",
         "offsetgroup": "Iter 25",
         "orientation": "h",
         "showlegend": true,
         "textposition": "auto",
         "type": "bar",
         "x": [
          0.000010013580322265625,
          0.000017881393432617188,
          0.000010251998901367188,
          0.000009775161743164062,
          0.0000095367431640625,
          0.000009298324584960938,
          0.0000095367431640625,
          0.000009775161743164062,
          0.000009298324584960938,
          0.0006852149963378906
         ],
         "xaxis": "x",
         "y": [
          "Node 0",
          "Node 1",
          "Node 2",
          "Node 3",
          "Node 4",
          "Node 5",
          "Node 6",
          "Node 7",
          "Node 8",
          "Node 9"
         ],
         "yaxis": "y"
        },
        {
         "alignmentgroup": "True",
         "base": [
          0.014136791229248047,
          0.01484990119934082,
          0.015562772750854492,
          0.016276836395263672,
          0.016974925994873047,
          0.017693281173706055,
          0.01840043067932129,
          0.01910114288330078,
          0.01981353759765625,
          0.019832611083984375
         ],
         "hovertemplate": "Task=Iter 26<br>Start=%{base}<br>Finish=%{x}<br>Resource=%{y}<extra></extra>",
         "legendgroup": "Iter 26",
         "marker": {
          "color": "#FF6692",
          "pattern": {
           "shape": ""
          }
         },
         "name": "Iter 26",
         "offsetgroup": "Iter 26",
         "orientation": "h",
         "showlegend": true,
         "textposition": "auto",
         "type": "bar",
         "x": [
          0.00001049041748046875,
          0.000009059906005859375,
          0.000009775161743164062,
          0.000009775161743164062,
          0.000009298324584960938,
          0.000009298324584960938,
          0.000009298324584960938,
          0.000017642974853515625,
          0.000009298324584960938,
          0.0006833076477050781
         ],
         "xaxis": "x",
         "y": [
          "Node 0",
          "Node 1",
          "Node 2",
          "Node 3",
          "Node 4",
          "Node 5",
          "Node 6",
          "Node 7",
          "Node 8",
          "Node 9"
         ],
         "yaxis": "y"
        },
        {
         "alignmentgroup": "True",
         "base": [
          0.01487588882446289,
          0.015596866607666016,
          0.016309261322021484,
          0.017006874084472656,
          0.017725229263305664,
          0.0184328556060791,
          0.019141674041748047,
          0.019845962524414062,
          0.020555734634399414,
          0.020576000213623047
         ],
         "hovertemplate": "Task=Iter 27<br>Start=%{base}<br>Finish=%{x}<br>Resource=%{y}<extra></extra>",
         "legendgroup": "Iter 27",
         "marker": {
          "color": "#B6E880",
          "pattern": {
           "shape": ""
          }
         },
         "name": "Iter 27",
         "offsetgroup": "Iter 27",
         "orientation": "h",
         "showlegend": true,
         "textposition": "auto",
         "type": "bar",
         "x": [
          0.000010013580322265625,
          0.00001049041748046875,
          0.0000095367431640625,
          0.000009298324584960938,
          0.000009775161743164062,
          0.000009059906005859375,
          0.000009059906005859375,
          0.000009298324584960938,
          0.0000095367431640625,
          0.00067901611328125
         ],
         "xaxis": "x",
         "y": [
          "Node 0",
          "Node 1",
          "Node 2",
          "Node 3",
          "Node 4",
          "Node 5",
          "Node 6",
          "Node 7",
          "Node 8",
          "Node 9"
         ],
         "yaxis": "y"
        },
        {
         "alignmentgroup": "True",
         "base": [
          0.015625,
          0.016341209411621094,
          0.017038345336914062,
          0.017757415771484375,
          0.018465757369995117,
          0.019173145294189453,
          0.01987743377685547,
          0.02058863639831543,
          0.021294593811035156,
          0.021314382553100586
         ],
         "hovertemplate": "Task=Iter 28<br>Start=%{base}<br>Finish=%{x}<br>Resource=%{y}<extra></extra>",
         "legendgroup": "Iter 28",
         "marker": {
          "color": "#FF97FF",
          "pattern": {
           "shape": ""
          }
         },
         "name": "Iter 28",
         "offsetgroup": "Iter 28",
         "orientation": "h",
         "showlegend": true,
         "textposition": "auto",
         "type": "bar",
         "x": [
          0.000010251998901367188,
          0.0000095367431640625,
          0.000010013580322265625,
          0.0000095367431640625,
          0.0000095367431640625,
          0.000009298324584960938,
          0.000009059906005859375,
          0.0000095367431640625,
          0.000009298324584960938,
          0.0006723403930664062
         ],
         "xaxis": "x",
         "y": [
          "Node 0",
          "Node 1",
          "Node 2",
          "Node 3",
          "Node 4",
          "Node 5",
          "Node 6",
          "Node 7",
          "Node 8",
          "Node 9"
         ],
         "yaxis": "y"
        },
        {
         "alignmentgroup": "True",
         "base": [
          0.01636815071105957,
          0.01706981658935547,
          0.017789363861083984,
          0.018497705459594727,
          0.019205570220947266,
          0.01990795135498047,
          0.020619630813598633,
          0.021326780319213867,
          0.02202606201171875,
          0.022045373916625977
         ],
         "hovertemplate": "Task=Iter 29<br>Start=%{base}<br>Finish=%{x}<br>Resource=%{y}<extra></extra>",
         "legendgroup": "Iter 29",
         "marker": {
          "color": "#FECB52",
          "pattern": {
           "shape": ""
          }
         },
         "name": "Iter 29",
         "offsetgroup": "Iter 29",
         "orientation": "h",
         "showlegend": true,
         "textposition": "auto",
         "type": "bar",
         "x": [
          0.00001049041748046875,
          0.000009059906005859375,
          0.0000095367431640625,
          0.000009298324584960938,
          0.0000095367431640625,
          0.000009059906005859375,
          0.000009059906005859375,
          0.0000095367431640625,
          0.000008821487426757812,
          0.0006787776947021484
         ],
         "xaxis": "x",
         "y": [
          "Node 0",
          "Node 1",
          "Node 2",
          "Node 3",
          "Node 4",
          "Node 5",
          "Node 6",
          "Node 7",
          "Node 8",
          "Node 9"
         ],
         "yaxis": "y"
        },
        {
         "alignmentgroup": "True",
         "base": [
          0.017095327377319336,
          0.01782059669494629,
          0.01852893829345703,
          0.019237995147705078,
          0.01993870735168457,
          0.02065110206604004,
          0.021358251571655273,
          0.022057533264160156,
          0.022763729095458984,
          0.022783756256103516
         ],
         "hovertemplate": "Task=Iter 30<br>Start=%{base}<br>Finish=%{x}<br>Resource=%{y}<extra></extra>",
         "legendgroup": "Iter 30",
         "marker": {
          "color": "#636efa",
          "pattern": {
           "shape": ""
          }
         },
         "name": "Iter 30",
         "offsetgroup": "Iter 30",
         "orientation": "h",
         "showlegend": true,
         "textposition": "auto",
         "type": "bar",
         "x": [
          0.000009775161743164062,
          0.000009059906005859375,
          0.000009298324584960938,
          0.000009298324584960938,
          0.000009298324584960938,
          0.000009059906005859375,
          0.000009059906005859375,
          0.000009059906005859375,
          0.0000095367431640625,
          0.0006806850433349609
         ],
         "xaxis": "x",
         "y": [
          "Node 0",
          "Node 1",
          "Node 2",
          "Node 3",
          "Node 4",
          "Node 5",
          "Node 6",
          "Node 7",
          "Node 8",
          "Node 9"
         ],
         "yaxis": "y"
        },
        {
         "alignmentgroup": "True",
         "base": [
          0.01784682273864746,
          0.01856088638305664,
          0.019268512725830078,
          0.019969940185546875,
          0.02068328857421875,
          0.021390199661254883,
          0.02208852767944336,
          0.022795438766479492,
          0.023504018783569336,
          0.02352452278137207
         ],
         "hovertemplate": "Task=Iter 31<br>Start=%{base}<br>Finish=%{x}<br>Resource=%{y}<extra></extra>",
         "legendgroup": "Iter 31",
         "marker": {
          "color": "#EF553B",
          "pattern": {
           "shape": ""
          }
         },
         "name": "Iter 31",
         "offsetgroup": "Iter 31",
         "orientation": "h",
         "showlegend": true,
         "textposition": "auto",
         "type": "bar",
         "x": [
          0.000009775161743164062,
          0.000008821487426757812,
          0.000010013580322265625,
          0.0000095367431640625,
          0.0000095367431640625,
          0.000009298324584960938,
          0.000008821487426757812,
          0.000009775161743164062,
          0.000009298324584960938,
          0.00067901611328125
         ],
         "xaxis": "x",
         "y": [
          "Node 0",
          "Node 1",
          "Node 2",
          "Node 3",
          "Node 4",
          "Node 5",
          "Node 6",
          "Node 7",
          "Node 8",
          "Node 9"
         ],
         "yaxis": "y"
        },
        {
         "alignmentgroup": "True",
         "base": [
          0.018585681915283203,
          0.019301176071166992,
          0.020000696182250977,
          0.020714998245239258,
          0.02142190933227539,
          0.022124528884887695,
          0.022827863693237305,
          0.02353692054748535,
          0.024245023727416992,
          0.024265050888061523
         ],
         "hovertemplate": "Task=Iter 32<br>Start=%{base}<br>Finish=%{x}<br>Resource=%{y}<extra></extra>",
         "legendgroup": "Iter 32",
         "marker": {
          "color": "#00cc96",
          "pattern": {
           "shape": ""
          }
         },
         "name": "Iter 32",
         "offsetgroup": "Iter 32",
         "orientation": "h",
         "showlegend": true,
         "textposition": "auto",
         "type": "bar",
         "x": [
          0.0000095367431640625,
          0.000009059906005859375,
          0.000010013580322265625,
          0.0000095367431640625,
          0.000009298324584960938,
          0.0000095367431640625,
          0.000008821487426757812,
          0.0000095367431640625,
          0.000009298324584960938,
          0.0007233619689941406
         ],
         "xaxis": "x",
         "y": [
          "Node 0",
          "Node 1",
          "Node 2",
          "Node 3",
          "Node 4",
          "Node 5",
          "Node 6",
          "Node 7",
          "Node 8",
          "Node 9"
         ],
         "yaxis": "y"
        },
        {
         "alignmentgroup": "True",
         "base": [
          0.019328594207763672,
          0.020035266876220703,
          0.020746946334838867,
          0.021454811096191406,
          0.022156715393066406,
          0.022858858108520508,
          0.023569107055664062,
          0.024277925491333008,
          0.025031566619873047,
          0.025051593780517578
         ],
         "hovertemplate": "Task=Iter 33<br>Start=%{base}<br>Finish=%{x}<br>Resource=%{y}<extra></extra>",
         "legendgroup": "Iter 33",
         "marker": {
          "color": "#ab63fa",
          "pattern": {
           "shape": ""
          }
         },
         "name": "Iter 33",
         "offsetgroup": "Iter 33",
         "orientation": "h",
         "showlegend": true,
         "textposition": "auto",
         "type": "bar",
         "x": [
          0.0000095367431640625,
          0.000010251998901367188,
          0.000009775161743164062,
          0.000009775161743164062,
          0.0000095367431640625,
          0.000009059906005859375,
          0.000009298324584960938,
          0.0000095367431640625,
          0.000009298324584960938,
          0.0006768703460693359
         ],
         "xaxis": "x",
         "y": [
          "Node 0",
          "Node 1",
          "Node 2",
          "Node 3",
          "Node 4",
          "Node 5",
          "Node 6",
          "Node 7",
          "Node 8",
          "Node 9"
         ],
         "yaxis": "y"
        },
        {
         "alignmentgroup": "True",
         "base": [
          0.020062685012817383,
          0.020778656005859375,
          0.02148747444152832,
          0.022190093994140625,
          0.022890567779541016,
          0.02360081672668457,
          0.024312496185302734,
          0.02506399154663086,
          0.025769472122192383,
          0.02578902244567871
         ],
         "hovertemplate": "Task=Iter 34<br>Start=%{base}<br>Finish=%{x}<br>Resource=%{y}<extra></extra>",
         "legendgroup": "Iter 34",
         "marker": {
          "color": "#FFA15A",
          "pattern": {
           "shape": ""
          }
         },
         "name": "Iter 34",
         "offsetgroup": "Iter 34",
         "orientation": "h",
         "showlegend": true,
         "textposition": "auto",
         "type": "bar",
         "x": [
          0.000009298324584960938,
          0.000009298324584960938,
          0.000009775161743164062,
          0.0000095367431640625,
          0.000009059906005859375,
          0.0000095367431640625,
          0.000009298324584960938,
          0.0000095367431640625,
          0.000009298324584960938,
          0.0006759166717529297
         ],
         "xaxis": "x",
         "y": [
          "Node 0",
          "Node 1",
          "Node 2",
          "Node 3",
          "Node 4",
          "Node 5",
          "Node 6",
          "Node 7",
          "Node 8",
          "Node 9"
         ],
         "yaxis": "y"
        },
        {
         "alignmentgroup": "True",
         "base": [
          0.020806312561035156,
          0.021520137786865234,
          0.02222299575805664,
          0.022922992706298828,
          0.02363300323486328,
          0.024344205856323242,
          0.02509617805480957,
          0.025801897048950195,
          0.0265047550201416,
          0.02652430534362793
         ],
         "hovertemplate": "Task=Iter 35<br>Start=%{base}<br>Finish=%{x}<br>Resource=%{y}<extra></extra>",
         "legendgroup": "Iter 35",
         "marker": {
          "color": "#19d3f3",
          "pattern": {
           "shape": ""
          }
         },
         "name": "Iter 35",
         "offsetgroup": "Iter 35",
         "orientation": "h",
         "showlegend": true,
         "textposition": "auto",
         "type": "bar",
         "x": [
          0.000010251998901367188,
          0.000009298324584960938,
          0.0000095367431640625,
          0.000009298324584960938,
          0.000009298324584960938,
          0.0000095367431640625,
          0.000009059906005859375,
          0.000009298324584960938,
          0.0000095367431640625,
          0.0006763935089111328
         ],
         "xaxis": "x",
         "y": [
          "Node 0",
          "Node 1",
          "Node 2",
          "Node 3",
          "Node 4",
          "Node 5",
          "Node 6",
          "Node 7",
          "Node 8",
          "Node 9"
         ],
         "yaxis": "y"
        },
        {
         "alignmentgroup": "True",
         "base": [
          0.02154707908630371,
          0.02225470542907715,
          0.022954702377319336,
          0.023665428161621094,
          0.024376392364501953,
          0.025140047073364258,
          0.025833845138549805,
          0.026536941528320312,
          0.027240991592407227,
          0.027260303497314453
         ],
         "hovertemplate": "Task=Iter 36<br>Start=%{base}<br>Finish=%{x}<br>Resource=%{y}<extra></extra>",
         "legendgroup": "Iter 36",
         "marker": {
          "color": "#FF6692",
          "pattern": {
           "shape": ""
          }
         },
         "name": "Iter 36",
         "offsetgroup": "Iter 36",
         "orientation": "h",
         "showlegend": true,
         "textposition": "auto",
         "type": "bar",
         "x": [
          0.000009059906005859375,
          0.000009059906005859375,
          0.000009298324584960938,
          0.0000095367431640625,
          0.000009298324584960938,
          0.0000133514404296875,
          0.000009059906005859375,
          0.0000095367431640625,
          0.000009298324584960938,
          0.0006694793701171875
         ],
         "xaxis": "x",
         "y": [
          "Node 0",
          "Node 1",
          "Node 2",
          "Node 3",
          "Node 4",
          "Node 5",
          "Node 6",
          "Node 7",
          "Node 8",
          "Node 9"
         ],
         "yaxis": "y"
        },
        {
         "alignmentgroup": "True",
         "base": [
          0.02228260040283203,
          0.02298593521118164,
          0.023697614669799805,
          0.02440810203552246,
          0.025175809860229492,
          0.025865793228149414,
          0.026569366455078125,
          0.02727365493774414,
          0.027968406677246094,
          0.027987957000732422
         ],
         "hovertemplate": "Task=Iter 37<br>Start=%{base}<br>Finish=%{x}<br>Resource=%{y}<extra></extra>",
         "legendgroup": "Iter 37",
         "marker": {
          "color": "#B6E880",
          "pattern": {
           "shape": ""
          }
         },
         "name": "Iter 37",
         "offsetgroup": "Iter 37",
         "orientation": "h",
         "showlegend": true,
         "textposition": "auto",
         "type": "bar",
         "x": [
          0.000009298324584960938,
          0.000009059906005859375,
          0.000010013580322265625,
          0.0000095367431640625,
          0.0000095367431640625,
          0.000009298324584960938,
          0.0000095367431640625,
          0.0000095367431640625,
          0.000009059906005859375,
          0.0006759166717529297
         ],
         "xaxis": "x",
         "y": [
          "Node 0",
          "Node 1",
          "Node 2",
          "Node 3",
          "Node 4",
          "Node 5",
          "Node 6",
          "Node 7",
          "Node 8",
          "Node 9"
         ],
         "yaxis": "y"
        },
        {
         "alignmentgroup": "True",
         "base": [
          0.023012161254882812,
          0.02373027801513672,
          0.024440288543701172,
          0.025208234786987305,
          0.02589726448059082,
          0.026601552963256836,
          0.027308225631713867,
          0.028000593185424805,
          0.0287017822265625,
          0.028721094131469727
         ],
         "hovertemplate": "Task=Iter 38<br>Start=%{base}<br>Finish=%{x}<br>Resource=%{y}<extra></extra>",
         "legendgroup": "Iter 38",
         "marker": {
          "color": "#FF97FF",
          "pattern": {
           "shape": ""
          }
         },
         "name": "Iter 38",
         "offsetgroup": "Iter 38",
         "orientation": "h",
         "showlegend": true,
         "textposition": "auto",
         "type": "bar",
         "x": [
          0.000009298324584960938,
          0.000008821487426757812,
          0.000010013580322265625,
          0.0000095367431640625,
          0.000009059906005859375,
          0.0000095367431640625,
          0.000010967254638671875,
          0.000009059906005859375,
          0.000009059906005859375,
          0.0006775856018066406
         ],
         "xaxis": "x",
         "y": [
          "Node 0",
          "Node 1",
          "Node 2",
          "Node 3",
          "Node 4",
          "Node 5",
          "Node 6",
          "Node 7",
          "Node 8",
          "Node 9"
         ],
         "yaxis": "y"
        },
        {
         "alignmentgroup": "True",
         "base": [
          0.02375650405883789,
          0.024472475051879883,
          0.025240659713745117,
          0.025928735733032227,
          0.026633739471435547,
          0.02734208106994629,
          0.02803206443786621,
          0.02873396873474121,
          0.029438495635986328,
          0.02945852279663086
         ],
         "hovertemplate": "Task=Iter 39<br>Start=%{base}<br>Finish=%{x}<br>Resource=%{y}<extra></extra>",
         "legendgroup": "Iter 39",
         "marker": {
          "color": "#FECB52",
          "pattern": {
           "shape": ""
          }
         },
         "name": "Iter 39",
         "offsetgroup": "Iter 39",
         "orientation": "h",
         "showlegend": true,
         "textposition": "auto",
         "type": "bar",
         "x": [
          0.000009298324584960938,
          0.000009298324584960938,
          0.0000095367431640625,
          0.000009298324584960938,
          0.0000095367431640625,
          0.0000095367431640625,
          0.000008821487426757812,
          0.0000095367431640625,
          0.0000095367431640625,
          0.0006759166717529297
         ],
         "xaxis": "x",
         "y": [
          "Node 0",
          "Node 1",
          "Node 2",
          "Node 3",
          "Node 4",
          "Node 5",
          "Node 6",
          "Node 7",
          "Node 8",
          "Node 9"
         ],
         "yaxis": "y"
        },
        {
         "alignmentgroup": "True",
         "base": [
          0.02449965476989746,
          0.02527308464050293,
          0.025960922241210938,
          0.02666616439819336,
          0.0273745059967041,
          0.028063297271728516,
          0.028766393661499023,
          0.02947092056274414,
          0.030173540115356445,
          0.030193090438842773
         ],
         "hovertemplate": "Task=Iter 40<br>Start=%{base}<br>Finish=%{x}<br>Resource=%{y}<extra></extra>",
         "legendgroup": "Iter 40",
         "marker": {
          "color": "#636efa",
          "pattern": {
           "shape": ""
          }
         },
         "name": "Iter 40",
         "offsetgroup": "Iter 40",
         "orientation": "h",
         "showlegend": true,
         "textposition": "auto",
         "type": "bar",
         "x": [
          0.000009775161743164062,
          0.000009059906005859375,
          0.0000095367431640625,
          0.0000095367431640625,
          0.000009298324584960938,
          0.000009059906005859375,
          0.000009059906005859375,
          0.000009775161743164062,
          0.000009059906005859375,
          0.0006718635559082031
         ],
         "xaxis": "x",
         "y": [
          "Node 0",
          "Node 1",
          "Node 2",
          "Node 3",
          "Node 4",
          "Node 5",
          "Node 6",
          "Node 7",
          "Node 8",
          "Node 9"
         ],
         "yaxis": "y"
        },
        {
         "alignmentgroup": "True",
         "base": [
          0.025300025939941406,
          0.02599310874938965,
          0.026698827743530273,
          0.02740764617919922,
          0.028095006942749023,
          0.02879810333251953,
          0.029503822326660156,
          0.03020620346069336,
          0.030903339385986328,
          0.030923128128051758
         ],
         "hovertemplate": "Task=Iter 41<br>Start=%{base}<br>Finish=%{x}<br>Resource=%{y}<extra></extra>",
         "legendgroup": "Iter 41",
         "marker": {
          "color": "#EF553B",
          "pattern": {
           "shape": ""
          }
         },
         "name": "Iter 41",
         "offsetgroup": "Iter 41",
         "orientation": "h",
         "showlegend": true,
         "textposition": "auto",
         "type": "bar",
         "x": [
          0.0000095367431640625,
          0.000009059906005859375,
          0.000010013580322265625,
          0.0000095367431640625,
          0.000009298324584960938,
          0.000009298324584960938,
          0.000009059906005859375,
          0.0000095367431640625,
          0.000008821487426757812,
          0.0006811618804931641
         ],
         "xaxis": "x",
         "y": [
          "Node 0",
          "Node 1",
          "Node 2",
          "Node 3",
          "Node 4",
          "Node 5",
          "Node 6",
          "Node 7",
          "Node 8",
          "Node 9"
         ],
         "yaxis": "y"
        },
        {
         "alignmentgroup": "True",
         "base": [
          0.02601933479309082,
          0.026731252670288086,
          0.027439594268798828,
          0.028131961822509766,
          0.028830528259277344,
          0.029535770416259766,
          0.03023838996887207,
          0.030935287475585938,
          0.03164362907409668,
          0.03166389465332031
         ],
         "hovertemplate": "Task=Iter 42<br>Start=%{base}<br>Finish=%{x}<br>Resource=%{y}<extra></extra>",
         "legendgroup": "Iter 42",
         "marker": {
          "color": "#00cc96",
          "pattern": {
           "shape": ""
          }
         },
         "name": "Iter 42",
         "offsetgroup": "Iter 42",
         "orientation": "h",
         "showlegend": true,
         "textposition": "auto",
         "type": "bar",
         "x": [
          0.0000095367431640625,
          0.000009059906005859375,
          0.0000095367431640625,
          0.000009298324584960938,
          0.000009298324584960938,
          0.000009298324584960938,
          0.0000095367431640625,
          0.000009298324584960938,
          0.0000095367431640625,
          0.0006792545318603516
         ],
         "xaxis": "x",
         "y": [
          "Node 0",
          "Node 1",
          "Node 2",
          "Node 3",
          "Node 4",
          "Node 5",
          "Node 6",
          "Node 7",
          "Node 8",
          "Node 9"
         ],
         "yaxis": "y"
        },
        {
         "alignmentgroup": "True",
         "base": [
          0.026758193969726562,
          0.02747178077697754,
          0.028164386749267578,
          0.028863191604614258,
          0.029567480087280273,
          0.030270814895629883,
          0.030966997146606445,
          0.0316770076751709,
          0.03238344192504883,
          0.03240323066711426
         ],
         "hovertemplate": "Task=Iter 43<br>Start=%{base}<br>Finish=%{x}<br>Resource=%{y}<extra></extra>",
         "legendgroup": "Iter 43",
         "marker": {
          "color": "#ab63fa",
          "pattern": {
           "shape": ""
          }
         },
         "name": "Iter 43",
         "offsetgroup": "Iter 43",
         "orientation": "h",
         "showlegend": true,
         "textposition": "auto",
         "type": "bar",
         "x": [
          0.0000095367431640625,
          0.000009059906005859375,
          0.000008821487426757812,
          0.000009298324584960938,
          0.000009298324584960938,
          0.000009059906005859375,
          0.000009298324584960938,
          0.000009298324584960938,
          0.0000095367431640625,
          0.0006709098815917969
         ],
         "xaxis": "x",
         "y": [
          "Node 0",
          "Node 1",
          "Node 2",
          "Node 3",
          "Node 4",
          "Node 5",
          "Node 6",
          "Node 7",
          "Node 8",
          "Node 9"
         ],
         "yaxis": "y"
        },
        {
         "alignmentgroup": "True",
         "base": [
          0.027498483657836914,
          0.028196096420288086,
          0.028895139694213867,
          0.029599905014038086,
          0.030304908752441406,
          0.03099846839904785,
          0.03171038627624512,
          0.032416582107543945,
          0.03311896324157715,
          0.03313922882080078
         ],
         "hovertemplate": "Task=Iter 44<br>Start=%{base}<br>Finish=%{x}<br>Resource=%{y}<extra></extra>",
         "legendgroup": "Iter 44",
         "marker": {
          "color": "#FFA15A",
          "pattern": {
           "shape": ""
          }
         },
         "name": "Iter 44",
         "offsetgroup": "Iter 44",
         "orientation": "h",
         "showlegend": true,
         "textposition": "auto",
         "type": "bar",
         "x": [
          0.000009298324584960938,
          0.000009298324584960938,
          0.0000095367431640625,
          0.0000095367431640625,
          0.000010967254638671875,
          0.000009298324584960938,
          0.000010251998901367188,
          0.000009775161743164062,
          0.0000095367431640625,
          0.00067138671875
         ],
         "xaxis": "x",
         "y": [
          "Node 0",
          "Node 1",
          "Node 2",
          "Node 3",
          "Node 4",
          "Node 5",
          "Node 6",
          "Node 7",
          "Node 8",
          "Node 9"
         ],
         "yaxis": "y"
        },
        {
         "alignmentgroup": "True",
         "base": [
          0.02822399139404297,
          0.028927326202392578,
          0.029633760452270508,
          0.030338764190673828,
          0.031029939651489258,
          0.031743764877319336,
          0.03244924545288086,
          0.033152103424072266,
          0.03385138511657715,
          0.03387093544006348
         ],
         "hovertemplate": "Task=Iter 45<br>Start=%{base}<br>Finish=%{x}<br>Resource=%{y}<extra></extra>",
         "legendgroup": "Iter 45",
         "marker": {
          "color": "#19d3f3",
          "pattern": {
           "shape": ""
          }
         },
         "name": "Iter 45",
         "offsetgroup": "Iter 45",
         "orientation": "h",
         "showlegend": true,
         "textposition": "auto",
         "type": "bar",
         "x": [
          0.000009298324584960938,
          0.000008821487426757812,
          0.000010251998901367188,
          0.000009298324584960938,
          0.000009298324584960938,
          0.000009298324584960938,
          0.000009298324584960938,
          0.0000095367431640625,
          0.000009059906005859375,
          0.0006773471832275391
         ],
         "xaxis": "x",
         "y": [
          "Node 0",
          "Node 1",
          "Node 2",
          "Node 3",
          "Node 4",
          "Node 5",
          "Node 6",
          "Node 7",
          "Node 8",
          "Node 9"
         ],
         "yaxis": "y"
        },
        {
         "alignmentgroup": "True",
         "base": [
          0.02895331382751465,
          0.029667377471923828,
          0.030371904373168945,
          0.03106236457824707,
          0.03177595138549805,
          0.03248023986816406,
          0.03318428993225098,
          0.03388357162475586,
          0.03458690643310547,
          0.03460693359375
         ],
         "hovertemplate": "Task=Iter 46<br>Start=%{base}<br>Finish=%{x}<br>Resource=%{y}<extra></extra>",
         "legendgroup": "Iter 46",
         "marker": {
          "color": "#FF6692",
          "pattern": {
           "shape": ""
          }
         },
         "name": "Iter 46",
         "offsetgroup": "Iter 46",
         "orientation": "h",
         "showlegend": true,
         "textposition": "auto",
         "type": "bar",
         "x": [
          0.0000095367431640625,
          0.000009059906005859375,
          0.000009298324584960938,
          0.000009059906005859375,
          0.000009775161743164062,
          0.0000095367431640625,
          0.000009298324584960938,
          0.0000095367431640625,
          0.0000095367431640625,
          0.0006756782531738281
         ],
         "xaxis": "x",
         "y": [
          "Node 0",
          "Node 1",
          "Node 2",
          "Node 3",
          "Node 4",
          "Node 5",
          "Node 6",
          "Node 7",
          "Node 8",
          "Node 9"
         ],
         "yaxis": "y"
        },
        {
         "alignmentgroup": "True",
         "base": [
          0.029694557189941406,
          0.030405044555664062,
          0.03109431266784668,
          0.03180956840515137,
          0.03251338005065918,
          0.033216238021850586,
          0.033915042877197266,
          0.034619808197021484,
          0.03532123565673828,
          0.03534078598022461
         ],
         "hovertemplate": "Task=Iter 47<br>Start=%{base}<br>Finish=%{x}<br>Resource=%{y}<extra></extra>",
         "legendgroup": "Iter 47",
         "marker": {
          "color": "#B6E880",
          "pattern": {
           "shape": ""
          }
         },
         "name": "Iter 47",
         "offsetgroup": "Iter 47",
         "orientation": "h",
         "showlegend": true,
         "textposition": "auto",
         "type": "bar",
         "x": [
          0.000009059906005859375,
          0.000009059906005859375,
          0.000008821487426757812,
          0.0000095367431640625,
          0.000009059906005859375,
          0.0000095367431640625,
          0.000009059906005859375,
          0.000009775161743164062,
          0.000009298324584960938,
          0.0006773471832275391
         ],
         "xaxis": "x",
         "y": [
          "Node 0",
          "Node 1",
          "Node 2",
          "Node 3",
          "Node 4",
          "Node 5",
          "Node 6",
          "Node 7",
          "Node 8",
          "Node 9"
         ],
         "yaxis": "y"
        },
        {
         "alignmentgroup": "True",
         "base": [
          0.030432462692260742,
          0.031136035919189453,
          0.03184199333190918,
          0.03254580497741699,
          0.033249855041503906,
          0.03394603729248047,
          0.0346522331237793,
          0.035353899002075195,
          0.03605818748474121,
          0.03607749938964844
         ],
         "hovertemplate": "Task=Iter 48<br>Start=%{base}<br>Finish=%{x}<br>Resource=%{y}<extra></extra>",
         "legendgroup": "Iter 48",
         "marker": {
          "color": "#FF97FF",
          "pattern": {
           "shape": ""
          }
         },
         "name": "Iter 48",
         "offsetgroup": "Iter 48",
         "orientation": "h",
         "showlegend": true,
         "textposition": "auto",
         "type": "bar",
         "x": [
          0.0000095367431640625,
          0.000009298324584960938,
          0.000009298324584960938,
          0.000009298324584960938,
          0.00001049041748046875,
          0.000009059906005859375,
          0.000008821487426757812,
          0.0000095367431640625,
          0.000008821487426757812,
          0.0006816387176513672
         ],
         "xaxis": "x",
         "y": [
          "Node 0",
          "Node 1",
          "Node 2",
          "Node 3",
          "Node 4",
          "Node 5",
          "Node 6",
          "Node 7",
          "Node 8",
          "Node 9"
         ],
         "yaxis": "y"
        },
        {
         "alignmentgroup": "True",
         "base": [
          0.031163692474365234,
          0.031873226165771484,
          0.0325779914855957,
          0.03328347206115723,
          0.03397774696350098,
          0.0346837043762207,
          0.03538680076599121,
          0.03609013557434082,
          0.036798715591430664,
          0.036818504333496094
         ],
         "hovertemplate": "Task=Iter 49<br>Start=%{base}<br>Finish=%{x}<br>Resource=%{y}<extra></extra>",
         "legendgroup": "Iter 49",
         "marker": {
          "color": "#FECB52",
          "pattern": {
           "shape": ""
          }
         },
         "name": "Iter 49",
         "offsetgroup": "Iter 49",
         "orientation": "h",
         "showlegend": true,
         "textposition": "auto",
         "type": "bar",
         "x": [
          0.000009059906005859375,
          0.000009059906005859375,
          0.0000095367431640625,
          0.0000095367431640625,
          0.000009298324584960938,
          0.000009059906005859375,
          0.000009775161743164062,
          0.000009298324584960938,
          0.000009298324584960938,
          0.0006766319274902344
         ],
         "xaxis": "x",
         "y": [
          "Node 0",
          "Node 1",
          "Node 2",
          "Node 3",
          "Node 4",
          "Node 5",
          "Node 6",
          "Node 7",
          "Node 8",
          "Node 9"
         ],
         "yaxis": "y"
        },
        {
         "alignmentgroup": "True",
         "base": [
          0.03189992904663086,
          0.03260993957519531,
          0.03331589698791504,
          0.03400993347167969,
          0.034715890884399414,
          0.03541922569274902,
          0.03612995147705078,
          0.03683185577392578,
          0.03753328323364258,
          0.03755307197570801
         ],
         "hovertemplate": "Task=Iter 50<br>Start=%{base}<br>Finish=%{x}<br>Resource=%{y}<extra></extra>",
         "legendgroup": "Iter 50",
         "marker": {
          "color": "#636efa",
          "pattern": {
           "shape": ""
          }
         },
         "name": "Iter 50",
         "offsetgroup": "Iter 50",
         "orientation": "h",
         "showlegend": true,
         "textposition": "auto",
         "type": "bar",
         "x": [
          0.000008821487426757812,
          0.000009298324584960938,
          0.000009059906005859375,
          0.000009059906005859375,
          0.0000095367431640625,
          0.000009059906005859375,
          0.000011205673217773438,
          0.000009298324584960938,
          0.000009059906005859375,
          0.00067901611328125
         ],
         "xaxis": "x",
         "y": [
          "Node 0",
          "Node 1",
          "Node 2",
          "Node 3",
          "Node 4",
          "Node 5",
          "Node 6",
          "Node 7",
          "Node 8",
          "Node 9"
         ],
         "yaxis": "y"
        }
       ],
       "layout": {
        "barmode": "overlay",
        "legend": {
         "title": {
          "text": "Task"
         },
         "tracegroupgap": 0
        },
        "margin": {
         "t": 60
        },
        "template": {
         "data": {
          "bar": [
           {
            "error_x": {
             "color": "#2a3f5f"
            },
            "error_y": {
             "color": "#2a3f5f"
            },
            "marker": {
             "line": {
              "color": "#E5ECF6",
              "width": 0.5
             },
             "pattern": {
              "fillmode": "overlay",
              "size": 10,
              "solidity": 0.2
             }
            },
            "type": "bar"
           }
          ],
          "barpolar": [
           {
            "marker": {
             "line": {
              "color": "#E5ECF6",
              "width": 0.5
             },
             "pattern": {
              "fillmode": "overlay",
              "size": 10,
              "solidity": 0.2
             }
            },
            "type": "barpolar"
           }
          ],
          "carpet": [
           {
            "aaxis": {
             "endlinecolor": "#2a3f5f",
             "gridcolor": "white",
             "linecolor": "white",
             "minorgridcolor": "white",
             "startlinecolor": "#2a3f5f"
            },
            "baxis": {
             "endlinecolor": "#2a3f5f",
             "gridcolor": "white",
             "linecolor": "white",
             "minorgridcolor": "white",
             "startlinecolor": "#2a3f5f"
            },
            "type": "carpet"
           }
          ],
          "choropleth": [
           {
            "colorbar": {
             "outlinewidth": 0,
             "ticks": ""
            },
            "type": "choropleth"
           }
          ],
          "contour": [
           {
            "colorbar": {
             "outlinewidth": 0,
             "ticks": ""
            },
            "colorscale": [
             [
              0,
              "#0d0887"
             ],
             [
              0.1111111111111111,
              "#46039f"
             ],
             [
              0.2222222222222222,
              "#7201a8"
             ],
             [
              0.3333333333333333,
              "#9c179e"
             ],
             [
              0.4444444444444444,
              "#bd3786"
             ],
             [
              0.5555555555555556,
              "#d8576b"
             ],
             [
              0.6666666666666666,
              "#ed7953"
             ],
             [
              0.7777777777777778,
              "#fb9f3a"
             ],
             [
              0.8888888888888888,
              "#fdca26"
             ],
             [
              1,
              "#f0f921"
             ]
            ],
            "type": "contour"
           }
          ],
          "contourcarpet": [
           {
            "colorbar": {
             "outlinewidth": 0,
             "ticks": ""
            },
            "type": "contourcarpet"
           }
          ],
          "heatmap": [
           {
            "colorbar": {
             "outlinewidth": 0,
             "ticks": ""
            },
            "colorscale": [
             [
              0,
              "#0d0887"
             ],
             [
              0.1111111111111111,
              "#46039f"
             ],
             [
              0.2222222222222222,
              "#7201a8"
             ],
             [
              0.3333333333333333,
              "#9c179e"
             ],
             [
              0.4444444444444444,
              "#bd3786"
             ],
             [
              0.5555555555555556,
              "#d8576b"
             ],
             [
              0.6666666666666666,
              "#ed7953"
             ],
             [
              0.7777777777777778,
              "#fb9f3a"
             ],
             [
              0.8888888888888888,
              "#fdca26"
             ],
             [
              1,
              "#f0f921"
             ]
            ],
            "type": "heatmap"
           }
          ],
          "heatmapgl": [
           {
            "colorbar": {
             "outlinewidth": 0,
             "ticks": ""
            },
            "colorscale": [
             [
              0,
              "#0d0887"
             ],
             [
              0.1111111111111111,
              "#46039f"
             ],
             [
              0.2222222222222222,
              "#7201a8"
             ],
             [
              0.3333333333333333,
              "#9c179e"
             ],
             [
              0.4444444444444444,
              "#bd3786"
             ],
             [
              0.5555555555555556,
              "#d8576b"
             ],
             [
              0.6666666666666666,
              "#ed7953"
             ],
             [
              0.7777777777777778,
              "#fb9f3a"
             ],
             [
              0.8888888888888888,
              "#fdca26"
             ],
             [
              1,
              "#f0f921"
             ]
            ],
            "type": "heatmapgl"
           }
          ],
          "histogram": [
           {
            "marker": {
             "pattern": {
              "fillmode": "overlay",
              "size": 10,
              "solidity": 0.2
             }
            },
            "type": "histogram"
           }
          ],
          "histogram2d": [
           {
            "colorbar": {
             "outlinewidth": 0,
             "ticks": ""
            },
            "colorscale": [
             [
              0,
              "#0d0887"
             ],
             [
              0.1111111111111111,
              "#46039f"
             ],
             [
              0.2222222222222222,
              "#7201a8"
             ],
             [
              0.3333333333333333,
              "#9c179e"
             ],
             [
              0.4444444444444444,
              "#bd3786"
             ],
             [
              0.5555555555555556,
              "#d8576b"
             ],
             [
              0.6666666666666666,
              "#ed7953"
             ],
             [
              0.7777777777777778,
              "#fb9f3a"
             ],
             [
              0.8888888888888888,
              "#fdca26"
             ],
             [
              1,
              "#f0f921"
             ]
            ],
            "type": "histogram2d"
           }
          ],
          "histogram2dcontour": [
           {
            "colorbar": {
             "outlinewidth": 0,
             "ticks": ""
            },
            "colorscale": [
             [
              0,
              "#0d0887"
             ],
             [
              0.1111111111111111,
              "#46039f"
             ],
             [
              0.2222222222222222,
              "#7201a8"
             ],
             [
              0.3333333333333333,
              "#9c179e"
             ],
             [
              0.4444444444444444,
              "#bd3786"
             ],
             [
              0.5555555555555556,
              "#d8576b"
             ],
             [
              0.6666666666666666,
              "#ed7953"
             ],
             [
              0.7777777777777778,
              "#fb9f3a"
             ],
             [
              0.8888888888888888,
              "#fdca26"
             ],
             [
              1,
              "#f0f921"
             ]
            ],
            "type": "histogram2dcontour"
           }
          ],
          "mesh3d": [
           {
            "colorbar": {
             "outlinewidth": 0,
             "ticks": ""
            },
            "type": "mesh3d"
           }
          ],
          "parcoords": [
           {
            "line": {
             "colorbar": {
              "outlinewidth": 0,
              "ticks": ""
             }
            },
            "type": "parcoords"
           }
          ],
          "pie": [
           {
            "automargin": true,
            "type": "pie"
           }
          ],
          "scatter": [
           {
            "fillpattern": {
             "fillmode": "overlay",
             "size": 10,
             "solidity": 0.2
            },
            "type": "scatter"
           }
          ],
          "scatter3d": [
           {
            "line": {
             "colorbar": {
              "outlinewidth": 0,
              "ticks": ""
             }
            },
            "marker": {
             "colorbar": {
              "outlinewidth": 0,
              "ticks": ""
             }
            },
            "type": "scatter3d"
           }
          ],
          "scattercarpet": [
           {
            "marker": {
             "colorbar": {
              "outlinewidth": 0,
              "ticks": ""
             }
            },
            "type": "scattercarpet"
           }
          ],
          "scattergeo": [
           {
            "marker": {
             "colorbar": {
              "outlinewidth": 0,
              "ticks": ""
             }
            },
            "type": "scattergeo"
           }
          ],
          "scattergl": [
           {
            "marker": {
             "colorbar": {
              "outlinewidth": 0,
              "ticks": ""
             }
            },
            "type": "scattergl"
           }
          ],
          "scattermapbox": [
           {
            "marker": {
             "colorbar": {
              "outlinewidth": 0,
              "ticks": ""
             }
            },
            "type": "scattermapbox"
           }
          ],
          "scatterpolar": [
           {
            "marker": {
             "colorbar": {
              "outlinewidth": 0,
              "ticks": ""
             }
            },
            "type": "scatterpolar"
           }
          ],
          "scatterpolargl": [
           {
            "marker": {
             "colorbar": {
              "outlinewidth": 0,
              "ticks": ""
             }
            },
            "type": "scatterpolargl"
           }
          ],
          "scatterternary": [
           {
            "marker": {
             "colorbar": {
              "outlinewidth": 0,
              "ticks": ""
             }
            },
            "type": "scatterternary"
           }
          ],
          "surface": [
           {
            "colorbar": {
             "outlinewidth": 0,
             "ticks": ""
            },
            "colorscale": [
             [
              0,
              "#0d0887"
             ],
             [
              0.1111111111111111,
              "#46039f"
             ],
             [
              0.2222222222222222,
              "#7201a8"
             ],
             [
              0.3333333333333333,
              "#9c179e"
             ],
             [
              0.4444444444444444,
              "#bd3786"
             ],
             [
              0.5555555555555556,
              "#d8576b"
             ],
             [
              0.6666666666666666,
              "#ed7953"
             ],
             [
              0.7777777777777778,
              "#fb9f3a"
             ],
             [
              0.8888888888888888,
              "#fdca26"
             ],
             [
              1,
              "#f0f921"
             ]
            ],
            "type": "surface"
           }
          ],
          "table": [
           {
            "cells": {
             "fill": {
              "color": "#EBF0F8"
             },
             "line": {
              "color": "white"
             }
            },
            "header": {
             "fill": {
              "color": "#C8D4E3"
             },
             "line": {
              "color": "white"
             }
            },
            "type": "table"
           }
          ]
         },
         "layout": {
          "annotationdefaults": {
           "arrowcolor": "#2a3f5f",
           "arrowhead": 0,
           "arrowwidth": 1
          },
          "autotypenumbers": "strict",
          "coloraxis": {
           "colorbar": {
            "outlinewidth": 0,
            "ticks": ""
           }
          },
          "colorscale": {
           "diverging": [
            [
             0,
             "#8e0152"
            ],
            [
             0.1,
             "#c51b7d"
            ],
            [
             0.2,
             "#de77ae"
            ],
            [
             0.3,
             "#f1b6da"
            ],
            [
             0.4,
             "#fde0ef"
            ],
            [
             0.5,
             "#f7f7f7"
            ],
            [
             0.6,
             "#e6f5d0"
            ],
            [
             0.7,
             "#b8e186"
            ],
            [
             0.8,
             "#7fbc41"
            ],
            [
             0.9,
             "#4d9221"
            ],
            [
             1,
             "#276419"
            ]
           ],
           "sequential": [
            [
             0,
             "#0d0887"
            ],
            [
             0.1111111111111111,
             "#46039f"
            ],
            [
             0.2222222222222222,
             "#7201a8"
            ],
            [
             0.3333333333333333,
             "#9c179e"
            ],
            [
             0.4444444444444444,
             "#bd3786"
            ],
            [
             0.5555555555555556,
             "#d8576b"
            ],
            [
             0.6666666666666666,
             "#ed7953"
            ],
            [
             0.7777777777777778,
             "#fb9f3a"
            ],
            [
             0.8888888888888888,
             "#fdca26"
            ],
            [
             1,
             "#f0f921"
            ]
           ],
           "sequentialminus": [
            [
             0,
             "#0d0887"
            ],
            [
             0.1111111111111111,
             "#46039f"
            ],
            [
             0.2222222222222222,
             "#7201a8"
            ],
            [
             0.3333333333333333,
             "#9c179e"
            ],
            [
             0.4444444444444444,
             "#bd3786"
            ],
            [
             0.5555555555555556,
             "#d8576b"
            ],
            [
             0.6666666666666666,
             "#ed7953"
            ],
            [
             0.7777777777777778,
             "#fb9f3a"
            ],
            [
             0.8888888888888888,
             "#fdca26"
            ],
            [
             1,
             "#f0f921"
            ]
           ]
          },
          "colorway": [
           "#636efa",
           "#EF553B",
           "#00cc96",
           "#ab63fa",
           "#FFA15A",
           "#19d3f3",
           "#FF6692",
           "#B6E880",
           "#FF97FF",
           "#FECB52"
          ],
          "font": {
           "color": "#2a3f5f"
          },
          "geo": {
           "bgcolor": "white",
           "lakecolor": "white",
           "landcolor": "#E5ECF6",
           "showlakes": true,
           "showland": true,
           "subunitcolor": "white"
          },
          "hoverlabel": {
           "align": "left"
          },
          "hovermode": "closest",
          "mapbox": {
           "style": "light"
          },
          "paper_bgcolor": "white",
          "plot_bgcolor": "#E5ECF6",
          "polar": {
           "angularaxis": {
            "gridcolor": "white",
            "linecolor": "white",
            "ticks": ""
           },
           "bgcolor": "#E5ECF6",
           "radialaxis": {
            "gridcolor": "white",
            "linecolor": "white",
            "ticks": ""
           }
          },
          "scene": {
           "xaxis": {
            "backgroundcolor": "#E5ECF6",
            "gridcolor": "white",
            "gridwidth": 2,
            "linecolor": "white",
            "showbackground": true,
            "ticks": "",
            "zerolinecolor": "white"
           },
           "yaxis": {
            "backgroundcolor": "#E5ECF6",
            "gridcolor": "white",
            "gridwidth": 2,
            "linecolor": "white",
            "showbackground": true,
            "ticks": "",
            "zerolinecolor": "white"
           },
           "zaxis": {
            "backgroundcolor": "#E5ECF6",
            "gridcolor": "white",
            "gridwidth": 2,
            "linecolor": "white",
            "showbackground": true,
            "ticks": "",
            "zerolinecolor": "white"
           }
          },
          "shapedefaults": {
           "line": {
            "color": "#2a3f5f"
           }
          },
          "ternary": {
           "aaxis": {
            "gridcolor": "white",
            "linecolor": "white",
            "ticks": ""
           },
           "baxis": {
            "gridcolor": "white",
            "linecolor": "white",
            "ticks": ""
           },
           "bgcolor": "#E5ECF6",
           "caxis": {
            "gridcolor": "white",
            "linecolor": "white",
            "ticks": ""
           }
          },
          "title": {
           "x": 0.05
          },
          "xaxis": {
           "automargin": true,
           "gridcolor": "white",
           "linecolor": "white",
           "ticks": "",
           "title": {
            "standoff": 15
           },
           "zerolinecolor": "white",
           "zerolinewidth": 2
          },
          "yaxis": {
           "automargin": true,
           "gridcolor": "white",
           "linecolor": "white",
           "ticks": "",
           "title": {
            "standoff": 15
           },
           "zerolinecolor": "white",
           "zerolinewidth": 2
          }
         }
        },
        "title": {
         "text": "Parallel WTA MT"
        },
        "xaxis": {
         "anchor": "y",
         "domain": [
          0,
          1
         ],
         "type": "linear"
        },
        "yaxis": {
         "anchor": "x",
         "autorange": "reversed",
         "domain": [
          0,
          1
         ],
         "title": {
          "text": "Resource"
         }
        }
       }
      }
     },
     "metadata": {},
     "output_type": "display_data"
    }
   ],
   "source": [
    "fig = getDataGantt(logs[1], \"Parallel WTA MT\")\n",
    "fig.show()"
   ]
  },
  {
   "cell_type": "code",
   "execution_count": 6,
   "metadata": {},
   "outputs": [
    {
     "data": {
      "application/vnd.plotly.v1+json": {
       "config": {
        "plotlyServerURL": "https://plot.ly"
       },
       "data": [
        {
         "alignmentgroup": "True",
         "base": [
          0,
          -0.00023674964904785156,
          -0.00018835067749023438,
          -0.00016951560974121094,
          -0.0001316070556640625,
          0.00007653236389160156,
          0.00008106231689453125,
          0.00008487701416015625,
          0.000087738037109375,
          0.0000896453857421875
         ],
         "hovertemplate": "Task=Iter 0<br>Start=%{base}<br>Finish=%{x}<br>Resource=%{y}<extra></extra>",
         "legendgroup": "Iter 0",
         "marker": {
          "color": "#636efa",
          "pattern": {
           "shape": ""
          }
         },
         "name": "Iter 0",
         "offsetgroup": "Iter 0",
         "orientation": "h",
         "showlegend": true,
         "textposition": "auto",
         "type": "bar",
         "x": [
          0.000026226043701171875,
          0.000015735626220703125,
          0.000016450881958007812,
          0.0000152587890625,
          0.0000152587890625,
          0.000014543533325195312,
          0.000015497207641601562,
          0.000014543533325195312,
          0.000015020370483398438,
          0.000701904296875
         ],
         "xaxis": "x",
         "y": [
          "Node 0",
          "Node 1",
          "Node 2",
          "Node 3",
          "Node 4",
          "Node 5",
          "Node 6",
          "Node 7",
          "Node 8",
          "Node 9"
         ],
         "yaxis": "y"
        },
        {
         "alignmentgroup": "True",
         "base": [
          0.0008456707000732422,
          0.0008482933044433594,
          0.0008509159088134766,
          0.0008528232574462891,
          0.0008566379547119141,
          0.0008993148803710938,
          0.0009026527404785156,
          0.0009081363677978516,
          0.0009086132049560547,
          0.0009124279022216797
         ],
         "hovertemplate": "Task=Iter 1<br>Start=%{base}<br>Finish=%{x}<br>Resource=%{y}<extra></extra>",
         "legendgroup": "Iter 1",
         "marker": {
          "color": "#EF553B",
          "pattern": {
           "shape": ""
          }
         },
         "name": "Iter 1",
         "offsetgroup": "Iter 1",
         "orientation": "h",
         "showlegend": true,
         "textposition": "auto",
         "type": "bar",
         "x": [
          0.000013589859008789062,
          0.000011682510375976562,
          0.000012159347534179688,
          0.000011205673217773438,
          0.000011682510375976562,
          0.000010967254638671875,
          0.000011444091796875,
          0.000011920928955078125,
          0.000011444091796875,
          0.0006864070892333984
         ],
         "xaxis": "x",
         "y": [
          "Node 0",
          "Node 1",
          "Node 2",
          "Node 3",
          "Node 4",
          "Node 5",
          "Node 6",
          "Node 7",
          "Node 8",
          "Node 9"
         ],
         "yaxis": "y"
        },
        {
         "alignmentgroup": "True",
         "base": [
          0.0016450881958007812,
          0.0016474723815917969,
          0.0016508102416992188,
          0.0016529560089111328,
          0.0016570091247558594,
          0.0016977787017822266,
          0.0017011165618896484,
          0.001705169677734375,
          0.0017063617706298828,
          0.001710653305053711
         ],
         "hovertemplate": "Task=Iter 2<br>Start=%{base}<br>Finish=%{x}<br>Resource=%{y}<extra></extra>",
         "legendgroup": "Iter 2",
         "marker": {
          "color": "#00cc96",
          "pattern": {
           "shape": ""
          }
         },
         "name": "Iter 2",
         "offsetgroup": "Iter 2",
         "orientation": "h",
         "showlegend": true,
         "textposition": "auto",
         "type": "bar",
         "x": [
          0.000012874603271484375,
          0.000010013580322265625,
          0.000010728836059570312,
          0.000010251998901367188,
          0.00001049041748046875,
          0.00001049041748046875,
          0.000010728836059570312,
          0.000010728836059570312,
          0.000010251998901367188,
          0.0006933212280273438
         ],
         "xaxis": "x",
         "y": [
          "Node 0",
          "Node 1",
          "Node 2",
          "Node 3",
          "Node 4",
          "Node 5",
          "Node 6",
          "Node 7",
          "Node 8",
          "Node 9"
         ],
         "yaxis": "y"
        },
        {
         "alignmentgroup": "True",
         "base": [
          0.0024476051330566406,
          0.002449512481689453,
          0.002452850341796875,
          0.002455472946166992,
          0.0024597644805908203,
          0.0025000572204589844,
          0.0025043487548828125,
          0.0025076866149902344,
          0.00251007080078125,
          0.0025115013122558594
         ],
         "hovertemplate": "Task=Iter 3<br>Start=%{base}<br>Finish=%{x}<br>Resource=%{y}<extra></extra>",
         "legendgroup": "Iter 3",
         "marker": {
          "color": "#ab63fa",
          "pattern": {
           "shape": ""
          }
         },
         "name": "Iter 3",
         "offsetgroup": "Iter 3",
         "orientation": "h",
         "showlegend": true,
         "textposition": "auto",
         "type": "bar",
         "x": [
          0.000011205673217773438,
          0.000009775161743164062,
          0.00001049041748046875,
          0.000010013580322265625,
          0.000010251998901367188,
          0.000010251998901367188,
          0.000011682510375976562,
          0.00001049041748046875,
          0.000011444091796875,
          0.0006859302520751953
         ],
         "xaxis": "x",
         "y": [
          "Node 0",
          "Node 1",
          "Node 2",
          "Node 3",
          "Node 4",
          "Node 5",
          "Node 6",
          "Node 7",
          "Node 8",
          "Node 9"
         ],
         "yaxis": "y"
        },
        {
         "alignmentgroup": "True",
         "base": [
          0.0032379627227783203,
          0.003240823745727539,
          0.0032444000244140625,
          0.0032465457916259766,
          0.003249645233154297,
          0.003288745880126953,
          0.003289461135864258,
          0.003293752670288086,
          0.0032966136932373047,
          0.003303050994873047
         ],
         "hovertemplate": "Task=Iter 4<br>Start=%{base}<br>Finish=%{x}<br>Resource=%{y}<extra></extra>",
         "legendgroup": "Iter 4",
         "marker": {
          "color": "#FFA15A",
          "pattern": {
           "shape": ""
          }
         },
         "name": "Iter 4",
         "offsetgroup": "Iter 4",
         "orientation": "h",
         "showlegend": true,
         "textposition": "auto",
         "type": "bar",
         "x": [
          0.000011682510375976562,
          0.000009298324584960938,
          0.000009775161743164062,
          0.000009775161743164062,
          0.0000095367431640625,
          0.000010013580322265625,
          0.000009775161743164062,
          0.000010251998901367188,
          0.000010013580322265625,
          0.0006918907165527344
         ],
         "xaxis": "x",
         "y": [
          "Node 0",
          "Node 1",
          "Node 2",
          "Node 3",
          "Node 4",
          "Node 5",
          "Node 6",
          "Node 7",
          "Node 8",
          "Node 9"
         ],
         "yaxis": "y"
        },
        {
         "alignmentgroup": "True",
         "base": [
          0.0040361881256103516,
          0.0040378570556640625,
          0.004041194915771484,
          0.004044294357299805,
          0.00404810905456543,
          0.004086494445800781,
          0.004088401794433594,
          0.00409388542175293,
          0.004095315933227539,
          0.004098415374755859
         ],
         "hovertemplate": "Task=Iter 5<br>Start=%{base}<br>Finish=%{x}<br>Resource=%{y}<extra></extra>",
         "legendgroup": "Iter 5",
         "marker": {
          "color": "#19d3f3",
          "pattern": {
           "shape": ""
          }
         },
         "name": "Iter 5",
         "offsetgroup": "Iter 5",
         "orientation": "h",
         "showlegend": true,
         "textposition": "auto",
         "type": "bar",
         "x": [
          0.000011205673217773438,
          0.0000095367431640625,
          0.000010251998901367188,
          0.0000095367431640625,
          0.00001049041748046875,
          0.000010251998901367188,
          0.00001049041748046875,
          0.000010251998901367188,
          0.000010013580322265625,
          0.0006957054138183594
         ],
         "xaxis": "x",
         "y": [
          "Node 0",
          "Node 1",
          "Node 2",
          "Node 3",
          "Node 4",
          "Node 5",
          "Node 6",
          "Node 7",
          "Node 8",
          "Node 9"
         ],
         "yaxis": "y"
        },
        {
         "alignmentgroup": "True",
         "base": [
          0.004837989807128906,
          0.00484013557434082,
          0.004843473434448242,
          0.004845857620239258,
          0.00484919548034668,
          0.004889249801635742,
          0.0048902034759521484,
          0.004895687103271484,
          0.0048983097076416016,
          0.004901409149169922
         ],
         "hovertemplate": "Task=Iter 6<br>Start=%{base}<br>Finish=%{x}<br>Resource=%{y}<extra></extra>",
         "legendgroup": "Iter 6",
         "marker": {
          "color": "#FF6692",
          "pattern": {
           "shape": ""
          }
         },
         "name": "Iter 6",
         "offsetgroup": "Iter 6",
         "orientation": "h",
         "showlegend": true,
         "textposition": "auto",
         "type": "bar",
         "x": [
          0.000011920928955078125,
          0.0000095367431640625,
          0.000010251998901367188,
          0.000010013580322265625,
          0.000010013580322265625,
          0.000010251998901367188,
          0.000010251998901367188,
          0.000010251998901367188,
          0.000009775161743164062,
          0.0006887912750244141
         ],
         "xaxis": "x",
         "y": [
          "Node 0",
          "Node 1",
          "Node 2",
          "Node 3",
          "Node 4",
          "Node 5",
          "Node 6",
          "Node 7",
          "Node 8",
          "Node 9"
         ],
         "yaxis": "y"
        },
        {
         "alignmentgroup": "True",
         "base": [
          0.005628347396850586,
          0.005631446838378906,
          0.005634784698486328,
          0.005637168884277344,
          0.005640745162963867,
          0.005678892135620117,
          0.005681037902832031,
          0.005690813064575195,
          0.005687236785888672,
          0.005692243576049805
         ],
         "hovertemplate": "Task=Iter 7<br>Start=%{base}<br>Finish=%{x}<br>Resource=%{y}<extra></extra>",
         "legendgroup": "Iter 7",
         "marker": {
          "color": "#B6E880",
          "pattern": {
           "shape": ""
          }
         },
         "name": "Iter 7",
         "offsetgroup": "Iter 7",
         "orientation": "h",
         "showlegend": true,
         "textposition": "auto",
         "type": "bar",
         "x": [
          0.000010967254638671875,
          0.000009775161743164062,
          0.000010251998901367188,
          0.000010013580322265625,
          0.00001049041748046875,
          0.000010251998901367188,
          0.000010251998901367188,
          0.00001049041748046875,
          0.000010013580322265625,
          0.0007169246673583984
         ],
         "xaxis": "x",
         "y": [
          "Node 0",
          "Node 1",
          "Node 2",
          "Node 3",
          "Node 4",
          "Node 5",
          "Node 6",
          "Node 7",
          "Node 8",
          "Node 9"
         ],
         "yaxis": "y"
        },
        {
         "alignmentgroup": "True",
         "base": [
          0.006447553634643555,
          0.006450653076171875,
          0.006455183029174805,
          0.006457090377807617,
          0.006459712982177734,
          0.00649714469909668,
          0.006501674652099609,
          0.006506681442260742,
          0.0065076351165771484,
          0.0065114498138427734
         ],
         "hovertemplate": "Task=Iter 8<br>Start=%{base}<br>Finish=%{x}<br>Resource=%{y}<extra></extra>",
         "legendgroup": "Iter 8",
         "marker": {
          "color": "#FF97FF",
          "pattern": {
           "shape": ""
          }
         },
         "name": "Iter 8",
         "offsetgroup": "Iter 8",
         "orientation": "h",
         "showlegend": true,
         "textposition": "auto",
         "type": "bar",
         "x": [
          0.000010967254638671875,
          0.000010013580322265625,
          0.000010967254638671875,
          0.0000095367431640625,
          0.000010251998901367188,
          0.000010013580322265625,
          0.000011444091796875,
          0.000010013580322265625,
          0.000009775161743164062,
          0.0006792545318603516
         ],
         "xaxis": "x",
         "y": [
          "Node 0",
          "Node 1",
          "Node 2",
          "Node 3",
          "Node 4",
          "Node 5",
          "Node 6",
          "Node 7",
          "Node 8",
          "Node 9"
         ],
         "yaxis": "y"
        },
        {
         "alignmentgroup": "True",
         "base": [
          0.007227897644042969,
          0.007229804992675781,
          0.007233142852783203,
          0.0072362422943115234,
          0.007239818572998047,
          0.007277250289916992,
          0.0072786808013916016,
          0.007284641265869141,
          0.007285594940185547,
          0.00728917121887207
         ],
         "hovertemplate": "Task=Iter 9<br>Start=%{base}<br>Finish=%{x}<br>Resource=%{y}<extra></extra>",
         "legendgroup": "Iter 9",
         "marker": {
          "color": "#FECB52",
          "pattern": {
           "shape": ""
          }
         },
         "name": "Iter 9",
         "offsetgroup": "Iter 9",
         "orientation": "h",
         "showlegend": true,
         "textposition": "auto",
         "type": "bar",
         "x": [
          0.000010728836059570312,
          0.0000095367431640625,
          0.000010013580322265625,
          0.0000095367431640625,
          0.0000095367431640625,
          0.000010013580322265625,
          0.000009775161743164062,
          0.000010251998901367188,
          0.000010013580322265625,
          0.0006890296936035156
         ],
         "xaxis": "x",
         "y": [
          "Node 0",
          "Node 1",
          "Node 2",
          "Node 3",
          "Node 4",
          "Node 5",
          "Node 6",
          "Node 7",
          "Node 8",
          "Node 9"
         ],
         "yaxis": "y"
        },
        {
         "alignmentgroup": "True",
         "base": [
          0.008014440536499023,
          0.008017301559448242,
          0.008021116256713867,
          0.008023262023925781,
          0.008026838302612305,
          0.008064508438110352,
          0.008066654205322266,
          0.008071422576904297,
          0.008072376251220703,
          0.008076906204223633
         ],
         "hovertemplate": "Task=Iter 10<br>Start=%{base}<br>Finish=%{x}<br>Resource=%{y}<extra></extra>",
         "legendgroup": "Iter 10",
         "marker": {
          "color": "#636efa",
          "pattern": {
           "shape": ""
          }
         },
         "name": "Iter 10",
         "offsetgroup": "Iter 10",
         "orientation": "h",
         "showlegend": true,
         "textposition": "auto",
         "type": "bar",
         "x": [
          0.000010728836059570312,
          0.000009775161743164062,
          0.000009775161743164062,
          0.000010013580322265625,
          0.000009298324584960938,
          0.000010251998901367188,
          0.000010013580322265625,
          0.000009775161743164062,
          0.000009775161743164062,
          0.0006847381591796875
         ],
         "xaxis": "x",
         "y": [
          "Node 0",
          "Node 1",
          "Node 2",
          "Node 3",
          "Node 4",
          "Node 5",
          "Node 6",
          "Node 7",
          "Node 8",
          "Node 9"
         ],
         "yaxis": "y"
        },
        {
         "alignmentgroup": "True",
         "base": [
          0.008797645568847656,
          0.008800506591796875,
          0.008803367614746094,
          0.008806228637695312,
          0.008810043334960938,
          0.008847713470458984,
          0.008849859237670898,
          0.008856058120727539,
          0.008855104446411133,
          0.00886082649230957
         ],
         "hovertemplate": "Task=Iter 11<br>Start=%{base}<br>Finish=%{x}<br>Resource=%{y}<extra></extra>",
         "legendgroup": "Iter 11",
         "marker": {
          "color": "#EF553B",
          "pattern": {
           "shape": ""
          }
         },
         "name": "Iter 11",
         "offsetgroup": "Iter 11",
         "orientation": "h",
         "showlegend": true,
         "textposition": "auto",
         "type": "bar",
         "x": [
          0.00001049041748046875,
          0.000009298324584960938,
          0.000009775161743164062,
          0.000009775161743164062,
          0.000009775161743164062,
          0.000010013580322265625,
          0.000010013580322265625,
          0.000010251998901367188,
          0.000010013580322265625,
          0.0006864070892333984
         ],
         "xaxis": "x",
         "y": [
          "Node 0",
          "Node 1",
          "Node 2",
          "Node 3",
          "Node 4",
          "Node 5",
          "Node 6",
          "Node 7",
          "Node 8",
          "Node 9"
         ],
         "yaxis": "y"
        },
        {
         "alignmentgroup": "True",
         "base": [
          0.009582281112670898,
          0.009585142135620117,
          0.009589195251464844,
          0.00959157943725586,
          0.009595394134521484,
          0.009631872177124023,
          0.009634971618652344,
          0.009639501571655273,
          0.00963902473449707,
          0.009642839431762695
         ],
         "hovertemplate": "Task=Iter 12<br>Start=%{base}<br>Finish=%{x}<br>Resource=%{y}<extra></extra>",
         "legendgroup": "Iter 12",
         "marker": {
          "color": "#00cc96",
          "pattern": {
           "shape": ""
          }
         },
         "name": "Iter 12",
         "offsetgroup": "Iter 12",
         "orientation": "h",
         "showlegend": true,
         "textposition": "auto",
         "type": "bar",
         "x": [
          0.000010251998901367188,
          0.0000095367431640625,
          0.000009775161743164062,
          0.000010013580322265625,
          0.000009775161743164062,
          0.000009775161743164062,
          0.000010013580322265625,
          0.000010251998901367188,
          0.000010013580322265625,
          0.0006859302520751953
         ],
         "xaxis": "x",
         "y": [
          "Node 0",
          "Node 1",
          "Node 2",
          "Node 3",
          "Node 4",
          "Node 5",
          "Node 6",
          "Node 7",
          "Node 8",
          "Node 9"
         ],
         "yaxis": "y"
        },
        {
         "alignmentgroup": "True",
         "base": [
          0.010365486145019531,
          0.01036834716796875,
          0.010371685028076172,
          0.010374069213867188,
          0.010376930236816406,
          0.010415315628051758,
          0.010417461395263672,
          0.010423660278320312,
          0.010422945022583008,
          0.010426998138427734
         ],
         "hovertemplate": "Task=Iter 13<br>Start=%{base}<br>Finish=%{x}<br>Resource=%{y}<extra></extra>",
         "legendgroup": "Iter 13",
         "marker": {
          "color": "#ab63fa",
          "pattern": {
           "shape": ""
          }
         },
         "name": "Iter 13",
         "offsetgroup": "Iter 13",
         "orientation": "h",
         "showlegend": true,
         "textposition": "auto",
         "type": "bar",
         "x": [
          0.000010967254638671875,
          0.000009775161743164062,
          0.000010013580322265625,
          0.000010251998901367188,
          0.0000095367431640625,
          0.000010251998901367188,
          0.00001049041748046875,
          0.00001049041748046875,
          0.000010013580322265625,
          0.0006780624389648438
         ],
         "xaxis": "x",
         "y": [
          "Node 0",
          "Node 1",
          "Node 2",
          "Node 3",
          "Node 4",
          "Node 5",
          "Node 6",
          "Node 7",
          "Node 8",
          "Node 9"
         ],
         "yaxis": "y"
        },
        {
         "alignmentgroup": "True",
         "base": [
          0.011138916015625,
          0.01114201545715332,
          0.011144638061523438,
          0.011147499084472656,
          0.011150121688842773,
          0.011188268661499023,
          0.011189937591552734,
          0.011195182800292969,
          0.01119542121887207,
          0.011199474334716797
         ],
         "hovertemplate": "Task=Iter 14<br>Start=%{base}<br>Finish=%{x}<br>Resource=%{y}<extra></extra>",
         "legendgroup": "Iter 14",
         "marker": {
          "color": "#FFA15A",
          "pattern": {
           "shape": ""
          }
         },
         "name": "Iter 14",
         "offsetgroup": "Iter 14",
         "orientation": "h",
         "showlegend": true,
         "textposition": "auto",
         "type": "bar",
         "x": [
          0.00001049041748046875,
          0.0000095367431640625,
          0.0000095367431640625,
          0.0000095367431640625,
          0.000009775161743164062,
          0.000009775161743164062,
          0.000009775161743164062,
          0.000010013580322265625,
          0.0000095367431640625,
          0.0006856918334960938
         ],
         "xaxis": "x",
         "y": [
          "Node 0",
          "Node 1",
          "Node 2",
          "Node 3",
          "Node 4",
          "Node 5",
          "Node 6",
          "Node 7",
          "Node 8",
          "Node 9"
         ],
         "yaxis": "y"
        },
        {
         "alignmentgroup": "True",
         "base": [
          0.011919498443603516,
          0.011921882629394531,
          0.01192474365234375,
          0.011927127838134766,
          0.01193094253540039,
          0.011970043182373047,
          0.01197195053100586,
          0.011976242065429688,
          0.011977434158325195,
          0.011981010437011719
         ],
         "hovertemplate": "Task=Iter 15<br>Start=%{base}<br>Finish=%{x}<br>Resource=%{y}<extra></extra>",
         "legendgroup": "Iter 15",
         "marker": {
          "color": "#19d3f3",
          "pattern": {
           "shape": ""
          }
         },
         "name": "Iter 15",
         "offsetgroup": "Iter 15",
         "orientation": "h",
         "showlegend": true,
         "textposition": "auto",
         "type": "bar",
         "x": [
          0.000010251998901367188,
          0.0000095367431640625,
          0.000009298324584960938,
          0.000009775161743164062,
          0.0000095367431640625,
          0.000009775161743164062,
          0.000010013580322265625,
          0.000010251998901367188,
          0.000010013580322265625,
          0.0006911754608154297
         ],
         "xaxis": "x",
         "y": [
          "Node 0",
          "Node 1",
          "Node 2",
          "Node 3",
          "Node 4",
          "Node 5",
          "Node 6",
          "Node 7",
          "Node 8",
          "Node 9"
         ],
         "yaxis": "y"
        },
        {
         "alignmentgroup": "True",
         "base": [
          0.012706279754638672,
          0.012709379196166992,
          0.012711763381958008,
          0.012714624404907227,
          0.01271820068359375,
          0.012755632400512695,
          0.012758970260620117,
          0.01276254653930664,
          0.012764453887939453,
          0.01276707649230957
         ],
         "hovertemplate": "Task=Iter 16<br>Start=%{base}<br>Finish=%{x}<br>Resource=%{y}<extra></extra>",
         "legendgroup": "Iter 16",
         "marker": {
          "color": "#FF6692",
          "pattern": {
           "shape": ""
          }
         },
         "name": "Iter 16",
         "offsetgroup": "Iter 16",
         "orientation": "h",
         "showlegend": true,
         "textposition": "auto",
         "type": "bar",
         "x": [
          0.000010013580322265625,
          0.000009059906005859375,
          0.000009775161743164062,
          0.000009775161743164062,
          0.0000095367431640625,
          0.000010013580322265625,
          0.000010013580322265625,
          0.000010251998901367188,
          0.000009775161743164062,
          0.0006887912750244141
         ],
         "xaxis": "x",
         "y": [
          "Node 0",
          "Node 1",
          "Node 2",
          "Node 3",
          "Node 4",
          "Node 5",
          "Node 6",
          "Node 7",
          "Node 8",
          "Node 9"
         ],
         "yaxis": "y"
        },
        {
         "alignmentgroup": "True",
         "base": [
          0.013489723205566406,
          0.013492584228515625,
          0.01349496841430664,
          0.013498306274414062,
          0.01350259780883789,
          0.01354074478149414,
          0.013543128967285156,
          0.013547420501708984,
          0.013547897338867188,
          0.01355290412902832
         ],
         "hovertemplate": "Task=Iter 17<br>Start=%{base}<br>Finish=%{x}<br>Resource=%{y}<extra></extra>",
         "legendgroup": "Iter 17",
         "marker": {
          "color": "#B6E880",
          "pattern": {
           "shape": ""
          }
         },
         "name": "Iter 17",
         "offsetgroup": "Iter 17",
         "orientation": "h",
         "showlegend": true,
         "textposition": "auto",
         "type": "bar",
         "x": [
          0.000010013580322265625,
          0.000009775161743164062,
          0.000009775161743164062,
          0.000009775161743164062,
          0.000010967254638671875,
          0.000010013580322265625,
          0.000010728836059570312,
          0.000010728836059570312,
          0.000010013580322265625,
          0.0006780624389648438
         ],
         "xaxis": "x",
         "y": [
          "Node 0",
          "Node 1",
          "Node 2",
          "Node 3",
          "Node 4",
          "Node 5",
          "Node 6",
          "Node 7",
          "Node 8",
          "Node 9"
         ],
         "yaxis": "y"
        },
        {
         "alignmentgroup": "True",
         "base": [
          0.01426386833190918,
          0.0142669677734375,
          0.014269828796386719,
          0.014272451400756836,
          0.014275074005126953,
          0.014313459396362305,
          0.014314651489257812,
          0.01432037353515625,
          0.014321565628051758,
          0.014330625534057617
         ],
         "hovertemplate": "Task=Iter 18<br>Start=%{base}<br>Finish=%{x}<br>Resource=%{y}<extra></extra>",
         "legendgroup": "Iter 18",
         "marker": {
          "color": "#FF97FF",
          "pattern": {
           "shape": ""
          }
         },
         "name": "Iter 18",
         "offsetgroup": "Iter 18",
         "orientation": "h",
         "showlegend": true,
         "textposition": "auto",
         "type": "bar",
         "x": [
          0.000010013580322265625,
          0.000009059906005859375,
          0.0000095367431640625,
          0.0000095367431640625,
          0.000009298324584960938,
          0.000017404556274414062,
          0.000022172927856445312,
          0.000022172927856445312,
          0.000019788742065429688,
          0.0006792545318603516
         ],
         "xaxis": "x",
         "y": [
          "Node 0",
          "Node 1",
          "Node 2",
          "Node 3",
          "Node 4",
          "Node 5",
          "Node 6",
          "Node 7",
          "Node 8",
          "Node 9"
         ],
         "yaxis": "y"
        },
        {
         "alignmentgroup": "True",
         "base": [
          0.015043973922729492,
          0.015046358108520508,
          0.015048742294311523,
          0.015051603317260742,
          0.015056133270263672,
          0.015092849731445312,
          0.015094518661499023,
          0.015100240707397461,
          0.01510167121887207,
          0.015104055404663086
         ],
         "hovertemplate": "Task=Iter 19<br>Start=%{base}<br>Finish=%{x}<br>Resource=%{y}<extra></extra>",
         "legendgroup": "Iter 19",
         "marker": {
          "color": "#FECB52",
          "pattern": {
           "shape": ""
          }
         },
         "name": "Iter 19",
         "offsetgroup": "Iter 19",
         "orientation": "h",
         "showlegend": true,
         "textposition": "auto",
         "type": "bar",
         "x": [
          0.00001049041748046875,
          0.000009059906005859375,
          0.000010013580322265625,
          0.000009775161743164062,
          0.00001049041748046875,
          0.000009775161743164062,
          0.000010251998901367188,
          0.000010251998901367188,
          0.0000095367431640625,
          0.0006866455078125
         ],
         "xaxis": "x",
         "y": [
          "Node 0",
          "Node 1",
          "Node 2",
          "Node 3",
          "Node 4",
          "Node 5",
          "Node 6",
          "Node 7",
          "Node 8",
          "Node 9"
         ],
         "yaxis": "y"
        },
        {
         "alignmentgroup": "True",
         "base": [
          0.0158233642578125,
          0.015826940536499023,
          0.015829086303710938,
          0.015831947326660156,
          0.01583552360534668,
          0.01587390899658203,
          0.015876293182373047,
          0.015880823135375977,
          0.015883445739746094,
          0.015886783599853516
         ],
         "hovertemplate": "Task=Iter 20<br>Start=%{base}<br>Finish=%{x}<br>Resource=%{y}<extra></extra>",
         "legendgroup": "Iter 20",
         "marker": {
          "color": "#636efa",
          "pattern": {
           "shape": ""
          }
         },
         "name": "Iter 20",
         "offsetgroup": "Iter 20",
         "orientation": "h",
         "showlegend": true,
         "textposition": "auto",
         "type": "bar",
         "x": [
          0.000009775161743164062,
          0.000009298324584960938,
          0.000009775161743164062,
          0.000009775161743164062,
          0.000010251998901367188,
          0.000010013580322265625,
          0.000009775161743164062,
          0.000010251998901367188,
          0.000009775161743164062,
          0.0006885528564453125
         ],
         "xaxis": "x",
         "y": [
          "Node 0",
          "Node 1",
          "Node 2",
          "Node 3",
          "Node 4",
          "Node 5",
          "Node 6",
          "Node 7",
          "Node 8",
          "Node 9"
         ],
         "yaxis": "y"
        },
        {
         "alignmentgroup": "True",
         "base": [
          0.016608715057373047,
          0.016613006591796875,
          0.016614198684692383,
          0.0166168212890625,
          0.016620635986328125,
          0.0166623592376709,
          0.016661643981933594,
          0.01666855812072754,
          0.016668081283569336,
          0.016671180725097656
         ],
         "hovertemplate": "Task=Iter 21<br>Start=%{base}<br>Finish=%{x}<br>Resource=%{y}<extra></extra>",
         "legendgroup": "Iter 21",
         "marker": {
          "color": "#EF553B",
          "pattern": {
           "shape": ""
          }
         },
         "name": "Iter 21",
         "offsetgroup": "Iter 21",
         "orientation": "h",
         "showlegend": true,
         "textposition": "auto",
         "type": "bar",
         "x": [
          0.000010728836059570312,
          0.000010728836059570312,
          0.0000095367431640625,
          0.000009775161743164062,
          0.000010013580322265625,
          0.000011682510375976562,
          0.000009775161743164062,
          0.000011444091796875,
          0.000010013580322265625,
          0.0006930828094482422
         ],
         "xaxis": "x",
         "y": [
          "Node 0",
          "Node 1",
          "Node 2",
          "Node 3",
          "Node 4",
          "Node 5",
          "Node 6",
          "Node 7",
          "Node 8",
          "Node 9"
         ],
         "yaxis": "y"
        },
        {
         "alignmentgroup": "True",
         "base": [
          0.017397403717041016,
          0.017400503158569336,
          0.017403125762939453,
          0.01740574836730957,
          0.017409324645996094,
          0.017448902130126953,
          0.01745009422302246,
          0.0174558162689209,
          0.017456769943237305,
          0.017459630966186523
         ],
         "hovertemplate": "Task=Iter 22<br>Start=%{base}<br>Finish=%{x}<br>Resource=%{y}<extra></extra>",
         "legendgroup": "Iter 22",
         "marker": {
          "color": "#00cc96",
          "pattern": {
           "shape": ""
          }
         },
         "name": "Iter 22",
         "offsetgroup": "Iter 22",
         "orientation": "h",
         "showlegend": true,
         "textposition": "auto",
         "type": "bar",
         "x": [
          0.000010251998901367188,
          0.000009775161743164062,
          0.0000095367431640625,
          0.000010013580322265625,
          0.000010251998901367188,
          0.000010251998901367188,
          0.000009775161743164062,
          0.00001049041748046875,
          0.000010013580322265625,
          0.0006785392761230469
         ],
         "xaxis": "x",
         "y": [
          "Node 0",
          "Node 1",
          "Node 2",
          "Node 3",
          "Node 4",
          "Node 5",
          "Node 6",
          "Node 7",
          "Node 8",
          "Node 9"
         ],
         "yaxis": "y"
        },
        {
         "alignmentgroup": "True",
         "base": [
          0.018170833587646484,
          0.0181732177734375,
          0.01817607879638672,
          0.018178701400756836,
          0.018181800842285156,
          0.018220901489257812,
          0.018221378326416016,
          0.01822805404663086,
          0.018227577209472656,
          0.01823115348815918
         ],
         "hovertemplate": "Task=Iter 23<br>Start=%{base}<br>Finish=%{x}<br>Resource=%{y}<extra></extra>",
         "legendgroup": "Iter 23",
         "marker": {
          "color": "#ab63fa",
          "pattern": {
           "shape": ""
          }
         },
         "name": "Iter 23",
         "offsetgroup": "Iter 23",
         "orientation": "h",
         "showlegend": true,
         "textposition": "auto",
         "type": "bar",
         "x": [
          0.000010013580322265625,
          0.000009298324584960938,
          0.0000095367431640625,
          0.000009775161743164062,
          0.000009775161743164062,
          0.0000095367431640625,
          0.0000095367431640625,
          0.000010013580322265625,
          0.000009775161743164062,
          0.0006856918334960938
         ],
         "xaxis": "x",
         "y": [
          "Node 0",
          "Node 1",
          "Node 2",
          "Node 3",
          "Node 4",
          "Node 5",
          "Node 6",
          "Node 7",
          "Node 8",
          "Node 9"
         ],
         "yaxis": "y"
        },
        {
         "alignmentgroup": "True",
         "base": [
          0.018949270248413086,
          0.018952369689941406,
          0.018954992294311523,
          0.01895761489868164,
          0.01896190643310547,
          0.018999814987182617,
          0.019001483917236328,
          0.019006967544555664,
          0.019007205963134766,
          0.0190122127532959
         ],
         "hovertemplate": "Task=Iter 24<br>Start=%{base}<br>Finish=%{x}<br>Resource=%{y}<extra></extra>",
         "legendgroup": "Iter 24",
         "marker": {
          "color": "#FFA15A",
          "pattern": {
           "shape": ""
          }
         },
         "name": "Iter 24",
         "offsetgroup": "Iter 24",
         "orientation": "h",
         "showlegend": true,
         "textposition": "auto",
         "type": "bar",
         "x": [
          0.000009775161743164062,
          0.0000095367431640625,
          0.0000095367431640625,
          0.0000095367431640625,
          0.000009775161743164062,
          0.000009775161743164062,
          0.0000095367431640625,
          0.000010251998901367188,
          0.000010013580322265625,
          0.0006844997406005859
         ],
         "xaxis": "x",
         "y": [
          "Node 0",
          "Node 1",
          "Node 2",
          "Node 3",
          "Node 4",
          "Node 5",
          "Node 6",
          "Node 7",
          "Node 8",
          "Node 9"
         ],
         "yaxis": "y"
        },
        {
         "alignmentgroup": "True",
         "base": [
          0.0197293758392334,
          0.019731998443603516,
          0.01973438262939453,
          0.019737720489501953,
          0.019740819931030273,
          0.019780397415161133,
          0.019780635833740234,
          0.019786596298217773,
          0.019786596298217773,
          0.0197906494140625
         ],
         "hovertemplate": "Task=Iter 25<br>Start=%{base}<br>Finish=%{x}<br>Resource=%{y}<extra></extra>",
         "legendgroup": "Iter 25",
         "marker": {
          "color": "#19d3f3",
          "pattern": {
           "shape": ""
          }
         },
         "name": "Iter 25",
         "offsetgroup": "Iter 25",
         "orientation": "h",
         "showlegend": true,
         "textposition": "auto",
         "type": "bar",
         "x": [
          0.000010251998901367188,
          0.0000095367431640625,
          0.0000095367431640625,
          0.000009775161743164062,
          0.000010251998901367188,
          0.000009775161743164062,
          0.000009775161743164062,
          0.000010013580322265625,
          0.000010013580322265625,
          0.0006883144378662109
         ],
         "xaxis": "x",
         "y": [
          "Node 0",
          "Node 1",
          "Node 2",
          "Node 3",
          "Node 4",
          "Node 5",
          "Node 6",
          "Node 7",
          "Node 8",
          "Node 9"
         ],
         "yaxis": "y"
        },
        {
         "alignmentgroup": "True",
         "base": [
          0.02051258087158203,
          0.020514249801635742,
          0.02051687240600586,
          0.020519256591796875,
          0.020522356033325195,
          0.020563364028930664,
          0.020563840866088867,
          0.020570039749145508,
          0.020571231842041016,
          0.02057480812072754
         ],
         "hovertemplate": "Task=Iter 26<br>Start=%{base}<br>Finish=%{x}<br>Resource=%{y}<extra></extra>",
         "legendgroup": "Iter 26",
         "marker": {
          "color": "#FF6692",
          "pattern": {
           "shape": ""
          }
         },
         "name": "Iter 26",
         "offsetgroup": "Iter 26",
         "orientation": "h",
         "showlegend": true,
         "textposition": "auto",
         "type": "bar",
         "x": [
          0.000011920928955078125,
          0.000009298324584960938,
          0.0000095367431640625,
          0.000009775161743164062,
          0.000010013580322265625,
          0.000010013580322265625,
          0.000009298324584960938,
          0.00001049041748046875,
          0.000010251998901367188,
          0.0006802082061767578
         ],
         "xaxis": "x",
         "y": [
          "Node 0",
          "Node 1",
          "Node 2",
          "Node 3",
          "Node 4",
          "Node 5",
          "Node 6",
          "Node 7",
          "Node 8",
          "Node 9"
         ],
         "yaxis": "y"
        },
        {
         "alignmentgroup": "True",
         "base": [
          0.021286964416503906,
          0.021289587020874023,
          0.021292686462402344,
          0.021295785903930664,
          0.021298646926879883,
          0.021347522735595703,
          0.021353960037231445,
          0.021349191665649414,
          0.021352767944335938,
          0.02135610580444336
         ],
         "hovertemplate": "Task=Iter 27<br>Start=%{base}<br>Finish=%{x}<br>Resource=%{y}<extra></extra>",
         "legendgroup": "Iter 27",
         "marker": {
          "color": "#B6E880",
          "pattern": {
           "shape": ""
          }
         },
         "name": "Iter 27",
         "offsetgroup": "Iter 27",
         "orientation": "h",
         "showlegend": true,
         "textposition": "auto",
         "type": "bar",
         "x": [
          0.000010013580322265625,
          0.000009298324584960938,
          0.0000095367431640625,
          0.0000095367431640625,
          0.000009298324584960938,
          0.000010013580322265625,
          0.000012636184692382812,
          0.000010251998901367188,
          0.000010013580322265625,
          0.0006783008575439453
         ],
         "xaxis": "x",
         "y": [
          "Node 0",
          "Node 1",
          "Node 2",
          "Node 3",
          "Node 4",
          "Node 5",
          "Node 6",
          "Node 7",
          "Node 8",
          "Node 9"
         ],
         "yaxis": "y"
        },
        {
         "alignmentgroup": "True",
         "base": [
          0.022066354751586914,
          0.022069215774536133,
          0.022072315216064453,
          0.022074222564697266,
          0.022077560424804688,
          0.02211594581604004,
          0.02211785316467285,
          0.022121429443359375,
          0.02212238311767578,
          0.02212667465209961
         ],
         "hovertemplate": "Task=Iter 28<br>Start=%{base}<br>Finish=%{x}<br>Resource=%{y}<extra></extra>",
         "legendgroup": "Iter 28",
         "marker": {
          "color": "#FF97FF",
          "pattern": {
           "shape": ""
          }
         },
         "name": "Iter 28",
         "offsetgroup": "Iter 28",
         "orientation": "h",
         "showlegend": true,
         "textposition": "auto",
         "type": "bar",
         "x": [
          0.000010251998901367188,
          0.000009059906005859375,
          0.0000095367431640625,
          0.000009775161743164062,
          0.00001049041748046875,
          0.0000095367431640625,
          0.0000095367431640625,
          0.000010013580322265625,
          0.0000095367431640625,
          0.0006837844848632812
         ],
         "xaxis": "x",
         "y": [
          "Node 0",
          "Node 1",
          "Node 2",
          "Node 3",
          "Node 4",
          "Node 5",
          "Node 6",
          "Node 7",
          "Node 8",
          "Node 9"
         ],
         "yaxis": "y"
        },
        {
         "alignmentgroup": "True",
         "base": [
          0.022842884063720703,
          0.022845745086669922,
          0.02284836769104004,
          0.02285146713256836,
          0.02285480499267578,
          0.022892236709594727,
          0.02289557456970215,
          0.022899627685546875,
          0.022901058197021484,
          0.022905349731445312
         ],
         "hovertemplate": "Task=Iter 29<br>Start=%{base}<br>Finish=%{x}<br>Resource=%{y}<extra></extra>",
         "legendgroup": "Iter 29",
         "marker": {
          "color": "#FECB52",
          "pattern": {
           "shape": ""
          }
         },
         "name": "Iter 29",
         "offsetgroup": "Iter 29",
         "orientation": "h",
         "showlegend": true,
         "textposition": "auto",
         "type": "bar",
         "x": [
          0.000009775161743164062,
          0.0000095367431640625,
          0.000009775161743164062,
          0.000009775161743164062,
          0.000010251998901367188,
          0.000009775161743164062,
          0.000010251998901367188,
          0.000010251998901367188,
          0.000010013580322265625,
          0.0006840229034423828
         ],
         "xaxis": "x",
         "y": [
          "Node 0",
          "Node 1",
          "Node 2",
          "Node 3",
          "Node 4",
          "Node 5",
          "Node 6",
          "Node 7",
          "Node 8",
          "Node 9"
         ],
         "yaxis": "y"
        },
        {
         "alignmentgroup": "True",
         "base": [
          0.0236208438873291,
          0.02362346649169922,
          0.023625850677490234,
          0.023628711700439453,
          0.023631811141967773,
          0.02367115020751953,
          0.023672103881835938,
          0.02367568016052246,
          0.02367854118347168,
          0.023682117462158203
         ],
         "hovertemplate": "Task=Iter 30<br>Start=%{base}<br>Finish=%{x}<br>Resource=%{y}<extra></extra>",
         "legendgroup": "Iter 30",
         "marker": {
          "color": "#636efa",
          "pattern": {
           "shape": ""
          }
         },
         "name": "Iter 30",
         "offsetgroup": "Iter 30",
         "orientation": "h",
         "showlegend": true,
         "textposition": "auto",
         "type": "bar",
         "x": [
          0.000010251998901367188,
          0.000009775161743164062,
          0.0000095367431640625,
          0.000009775161743164062,
          0.000010013580322265625,
          0.000010013580322265625,
          0.00001049041748046875,
          0.000010251998901367188,
          0.000010013580322265625,
          0.0006885528564453125
         ],
         "xaxis": "x",
         "y": [
          "Node 0",
          "Node 1",
          "Node 2",
          "Node 3",
          "Node 4",
          "Node 5",
          "Node 6",
          "Node 7",
          "Node 8",
          "Node 9"
         ],
         "yaxis": "y"
        },
        {
         "alignmentgroup": "True",
         "base": [
          0.024402379989624023,
          0.02440476417541504,
          0.024407625198364258,
          0.024410009384155273,
          0.024413347244262695,
          0.024453163146972656,
          0.02445840835571289,
          0.024458885192871094,
          0.0244600772857666,
          0.024463176727294922
         ],
         "hovertemplate": "Task=Iter 31<br>Start=%{base}<br>Finish=%{x}<br>Resource=%{y}<extra></extra>",
         "legendgroup": "Iter 31",
         "marker": {
          "color": "#EF553B",
          "pattern": {
           "shape": ""
          }
         },
         "name": "Iter 31",
         "offsetgroup": "Iter 31",
         "orientation": "h",
         "showlegend": true,
         "textposition": "auto",
         "type": "bar",
         "x": [
          0.000010251998901367188,
          0.000009775161743164062,
          0.000009775161743164062,
          0.000009775161743164062,
          0.000009775161743164062,
          0.000009775161743164062,
          0.000012636184692382812,
          0.000010013580322265625,
          0.000009775161743164062,
          0.0007290840148925781
         ],
         "xaxis": "x",
         "y": [
          "Node 0",
          "Node 1",
          "Node 2",
          "Node 3",
          "Node 4",
          "Node 5",
          "Node 6",
          "Node 7",
          "Node 8",
          "Node 9"
         ],
         "yaxis": "y"
        },
        {
         "alignmentgroup": "True",
         "base": [
          0.02522587776184082,
          0.02522897720336914,
          0.02523207664489746,
          0.025234222412109375,
          0.0252382755279541,
          0.025281667709350586,
          0.02527761459350586,
          0.025282621383666992,
          0.0252838134765625,
          0.025289535522460938
         ],
         "hovertemplate": "Task=Iter 32<br>Start=%{base}<br>Finish=%{x}<br>Resource=%{y}<extra></extra>",
         "legendgroup": "Iter 32",
         "marker": {
          "color": "#00cc96",
          "pattern": {
           "shape": ""
          }
         },
         "name": "Iter 32",
         "offsetgroup": "Iter 32",
         "orientation": "h",
         "showlegend": true,
         "textposition": "auto",
         "type": "bar",
         "x": [
          0.000009775161743164062,
          0.0000095367431640625,
          0.000009775161743164062,
          0.0000095367431640625,
          0.000009298324584960938,
          0.0000133514404296875,
          0.000010013580322265625,
          0.000010013580322265625,
          0.0000095367431640625,
          0.0006866455078125
         ],
         "xaxis": "x",
         "y": [
          "Node 0",
          "Node 1",
          "Node 2",
          "Node 3",
          "Node 4",
          "Node 5",
          "Node 6",
          "Node 7",
          "Node 8",
          "Node 9"
         ],
         "yaxis": "y"
        },
        {
         "alignmentgroup": "True",
         "base": [
          0.02600860595703125,
          0.02601170539855957,
          0.026014089584350586,
          0.026016950607299805,
          0.026020288467407227,
          0.026059389114379883,
          0.026061058044433594,
          0.026065349578857422,
          0.026066064834594727,
          0.02606987953186035
         ],
         "hovertemplate": "Task=Iter 33<br>Start=%{base}<br>Finish=%{x}<br>Resource=%{y}<extra></extra>",
         "legendgroup": "Iter 33",
         "marker": {
          "color": "#ab63fa",
          "pattern": {
           "shape": ""
          }
         },
         "name": "Iter 33",
         "offsetgroup": "Iter 33",
         "orientation": "h",
         "showlegend": true,
         "textposition": "auto",
         "type": "bar",
         "x": [
          0.000010728836059570312,
          0.000009775161743164062,
          0.000010251998901367188,
          0.000010251998901367188,
          0.000010013580322265625,
          0.00001049041748046875,
          0.00001049041748046875,
          0.000010251998901367188,
          0.000009775161743164062,
          0.0006837844848632812
         ],
         "xaxis": "x",
         "y": [
          "Node 0",
          "Node 1",
          "Node 2",
          "Node 3",
          "Node 4",
          "Node 5",
          "Node 6",
          "Node 7",
          "Node 8",
          "Node 9"
         ],
         "yaxis": "y"
        },
        {
         "alignmentgroup": "True",
         "base": [
          0.026784896850585938,
          0.026787996292114258,
          0.026790380477905273,
          0.02679276466369629,
          0.02679586410522461,
          0.026834726333618164,
          0.026837587356567383,
          0.02684307098388672,
          0.02684307098388672,
          0.026846885681152344
         ],
         "hovertemplate": "Task=Iter 34<br>Start=%{base}<br>Finish=%{x}<br>Resource=%{y}<extra></extra>",
         "legendgroup": "Iter 34",
         "marker": {
          "color": "#FFA15A",
          "pattern": {
           "shape": ""
          }
         },
         "name": "Iter 34",
         "offsetgroup": "Iter 34",
         "orientation": "h",
         "showlegend": true,
         "textposition": "auto",
         "type": "bar",
         "x": [
          0.000010013580322265625,
          0.000009775161743164062,
          0.0000095367431640625,
          0.000010013580322265625,
          0.000010013580322265625,
          0.000010251998901367188,
          0.000010728836059570312,
          0.000010013580322265625,
          0.000010013580322265625,
          0.0006830692291259766
         ],
         "xaxis": "x",
         "y": [
          "Node 0",
          "Node 1",
          "Node 2",
          "Node 3",
          "Node 4",
          "Node 5",
          "Node 6",
          "Node 7",
          "Node 8",
          "Node 9"
         ],
         "yaxis": "y"
        },
        {
         "alignmentgroup": "True",
         "base": [
          0.027560710906982422,
          0.02756333351135254,
          0.027566194534301758,
          0.027568578720092773,
          0.027571439743041992,
          0.027609825134277344,
          0.027611494064331055,
          0.027618408203125,
          0.027617931365966797,
          0.027622461318969727
         ],
         "hovertemplate": "Task=Iter 35<br>Start=%{base}<br>Finish=%{x}<br>Resource=%{y}<extra></extra>",
         "legendgroup": "Iter 35",
         "marker": {
          "color": "#19d3f3",
          "pattern": {
           "shape": ""
          }
         },
         "name": "Iter 35",
         "offsetgroup": "Iter 35",
         "orientation": "h",
         "showlegend": true,
         "textposition": "auto",
         "type": "bar",
         "x": [
          0.000010013580322265625,
          0.0000095367431640625,
          0.000009775161743164062,
          0.000009775161743164062,
          0.0000095367431640625,
          0.000010013580322265625,
          0.000010251998901367188,
          0.000010013580322265625,
          0.000009775161743164062,
          0.0006797313690185547
         ],
         "xaxis": "x",
         "y": [
          "Node 0",
          "Node 1",
          "Node 2",
          "Node 3",
          "Node 4",
          "Node 5",
          "Node 6",
          "Node 7",
          "Node 8",
          "Node 9"
         ],
         "yaxis": "y"
        },
        {
         "alignmentgroup": "True",
         "base": [
          0.02834153175354004,
          0.028343677520751953,
          0.028344154357910156,
          0.028346776962280273,
          0.028351545333862305,
          0.028391361236572266,
          0.02839350700378418,
          0.028397560119628906,
          0.028398990631103516,
          0.02840280532836914
         ],
         "hovertemplate": "Task=Iter 36<br>Start=%{base}<br>Finish=%{x}<br>Resource=%{y}<extra></extra>",
         "legendgroup": "Iter 36",
         "marker": {
          "color": "#FF6692",
          "pattern": {
           "shape": ""
          }
         },
         "name": "Iter 36",
         "offsetgroup": "Iter 36",
         "orientation": "h",
         "showlegend": true,
         "textposition": "auto",
         "type": "bar",
         "x": [
          0.000010013580322265625,
          0.0000095367431640625,
          0.000009775161743164062,
          0.000009775161743164062,
          0.000010728836059570312,
          0.000010013580322265625,
          0.000010251998901367188,
          0.000010251998901367188,
          0.000010013580322265625,
          0.0006802082061767578
         ],
         "xaxis": "x",
         "y": [
          "Node 0",
          "Node 1",
          "Node 2",
          "Node 3",
          "Node 4",
          "Node 5",
          "Node 6",
          "Node 7",
          "Node 8",
          "Node 9"
         ],
         "yaxis": "y"
        },
        {
         "alignmentgroup": "True",
         "base": [
          0.02911376953125,
          0.029116392135620117,
          0.029119014739990234,
          0.029121875762939453,
          0.029124736785888672,
          0.029163599014282227,
          0.029164791107177734,
          0.02917003631591797,
          0.02917027473449707,
          0.029175758361816406
         ],
         "hovertemplate": "Task=Iter 37<br>Start=%{base}<br>Finish=%{x}<br>Resource=%{y}<extra></extra>",
         "legendgroup": "Iter 37",
         "marker": {
          "color": "#B6E880",
          "pattern": {
           "shape": ""
          }
         },
         "name": "Iter 37",
         "offsetgroup": "Iter 37",
         "orientation": "h",
         "showlegend": true,
         "textposition": "auto",
         "type": "bar",
         "x": [
          0.000009775161743164062,
          0.000009298324584960938,
          0.0000095367431640625,
          0.0000095367431640625,
          0.0000095367431640625,
          0.0000095367431640625,
          0.0000095367431640625,
          0.000010013580322265625,
          0.000010013580322265625,
          0.0006861686706542969
         ],
         "xaxis": "x",
         "y": [
          "Node 0",
          "Node 1",
          "Node 2",
          "Node 3",
          "Node 4",
          "Node 5",
          "Node 6",
          "Node 7",
          "Node 8",
          "Node 9"
         ],
         "yaxis": "y"
        },
        {
         "alignmentgroup": "True",
         "base": [
          0.029893159866333008,
          0.029896020889282227,
          0.029899120330810547,
          0.029901504516601562,
          0.029904842376708984,
          0.02994370460510254,
          0.029944896697998047,
          0.029948711395263672,
          0.02995014190673828,
          0.029954195022583008
         ],
         "hovertemplate": "Task=Iter 38<br>Start=%{base}<br>Finish=%{x}<br>Resource=%{y}<extra></extra>",
         "legendgroup": "Iter 38",
         "marker": {
          "color": "#FF97FF",
          "pattern": {
           "shape": ""
          }
         },
         "name": "Iter 38",
         "offsetgroup": "Iter 38",
         "orientation": "h",
         "showlegend": true,
         "textposition": "auto",
         "type": "bar",
         "x": [
          0.000010013580322265625,
          0.0000095367431640625,
          0.0000095367431640625,
          0.000009775161743164062,
          0.000010013580322265625,
          0.000010013580322265625,
          0.000011444091796875,
          0.00001049041748046875,
          0.000010013580322265625,
          0.0006818771362304688
         ],
         "xaxis": "x",
         "y": [
          "Node 0",
          "Node 1",
          "Node 2",
          "Node 3",
          "Node 4",
          "Node 5",
          "Node 6",
          "Node 7",
          "Node 8",
          "Node 9"
         ],
         "yaxis": "y"
        },
        {
         "alignmentgroup": "True",
         "base": [
          0.030666828155517578,
          0.030669689178466797,
          0.030672311782836914,
          0.03067493438720703,
          0.030678272247314453,
          0.030717849731445312,
          0.03071880340576172,
          0.03072333335876465,
          0.030724525451660156,
          0.03072834014892578
         ],
         "hovertemplate": "Task=Iter 39<br>Start=%{base}<br>Finish=%{x}<br>Resource=%{y}<extra></extra>",
         "legendgroup": "Iter 39",
         "marker": {
          "color": "#FECB52",
          "pattern": {
           "shape": ""
          }
         },
         "name": "Iter 39",
         "offsetgroup": "Iter 39",
         "orientation": "h",
         "showlegend": true,
         "textposition": "auto",
         "type": "bar",
         "x": [
          0.000010013580322265625,
          0.0000095367431640625,
          0.000009775161743164062,
          0.000009298324584960938,
          0.0000095367431640625,
          0.000010013580322265625,
          0.00001049041748046875,
          0.000010013580322265625,
          0.000010013580322265625,
          0.0006840229034423828
         ],
         "xaxis": "x",
         "y": [
          "Node 0",
          "Node 1",
          "Node 2",
          "Node 3",
          "Node 4",
          "Node 5",
          "Node 6",
          "Node 7",
          "Node 8",
          "Node 9"
         ],
         "yaxis": "y"
        },
        {
         "alignmentgroup": "True",
         "base": [
          0.03144335746765137,
          0.031445980072021484,
          0.0314481258392334,
          0.03145122528076172,
          0.03145408630371094,
          0.031493186950683594,
          0.03149533271789551,
          0.03150057792663574,
          0.031501054763793945,
          0.03150486946105957
         ],
         "hovertemplate": "Task=Iter 40<br>Start=%{base}<br>Finish=%{x}<br>Resource=%{y}<extra></extra>",
         "legendgroup": "Iter 40",
         "marker": {
          "color": "#636efa",
          "pattern": {
           "shape": ""
          }
         },
         "name": "Iter 40",
         "offsetgroup": "Iter 40",
         "orientation": "h",
         "showlegend": true,
         "textposition": "auto",
         "type": "bar",
         "x": [
          0.0000095367431640625,
          0.000009298324584960938,
          0.000009775161743164062,
          0.0000095367431640625,
          0.0000095367431640625,
          0.000009775161743164062,
          0.000010013580322265625,
          0.000010013580322265625,
          0.0000095367431640625,
          0.00067901611328125
         ],
         "xaxis": "x",
         "y": [
          "Node 0",
          "Node 1",
          "Node 2",
          "Node 3",
          "Node 4",
          "Node 5",
          "Node 6",
          "Node 7",
          "Node 8",
          "Node 9"
         ],
         "yaxis": "y"
        },
        {
         "alignmentgroup": "True",
         "base": [
          0.03221440315246582,
          0.03221726417541504,
          0.03222036361694336,
          0.03222250938415527,
          0.032225608825683594,
          0.03226470947265625,
          0.032265424728393555,
          0.03227114677429199,
          0.0322721004486084,
          0.03227519989013672
         ],
         "hovertemplate": "Task=Iter 41<br>Start=%{base}<br>Finish=%{x}<br>Resource=%{y}<extra></extra>",
         "legendgroup": "Iter 41",
         "marker": {
          "color": "#EF553B",
          "pattern": {
           "shape": ""
          }
         },
         "name": "Iter 41",
         "offsetgroup": "Iter 41",
         "orientation": "h",
         "showlegend": true,
         "textposition": "auto",
         "type": "bar",
         "x": [
          0.000010251998901367188,
          0.0000095367431640625,
          0.000009298324584960938,
          0.000009775161743164062,
          0.0000095367431640625,
          0.0000095367431640625,
          0.000009775161743164062,
          0.000010013580322265625,
          0.000009298324584960938,
          0.0006926059722900391
         ],
         "xaxis": "x",
         "y": [
          "Node 0",
          "Node 1",
          "Node 2",
          "Node 3",
          "Node 4",
          "Node 5",
          "Node 6",
          "Node 7",
          "Node 8",
          "Node 9"
         ],
         "yaxis": "y"
        },
        {
         "alignmentgroup": "True",
         "base": [
          0.032998085021972656,
          0.03300118446350098,
          0.03300333023071289,
          0.03300595283508301,
          0.03300952911376953,
          0.03304862976074219,
          0.0330500602722168,
          0.03305530548095703,
          0.033055782318115234,
          0.03305983543395996
         ],
         "hovertemplate": "Task=Iter 42<br>Start=%{base}<br>Finish=%{x}<br>Resource=%{y}<extra></extra>",
         "legendgroup": "Iter 42",
         "marker": {
          "color": "#00cc96",
          "pattern": {
           "shape": ""
          }
         },
         "name": "Iter 42",
         "offsetgroup": "Iter 42",
         "orientation": "h",
         "showlegend": true,
         "textposition": "auto",
         "type": "bar",
         "x": [
          0.0000095367431640625,
          0.000009059906005859375,
          0.0000095367431640625,
          0.0000095367431640625,
          0.000009775161743164062,
          0.000009775161743164062,
          0.000010251998901367188,
          0.000010251998901367188,
          0.000010013580322265625,
          0.0006852149963378906
         ],
         "xaxis": "x",
         "y": [
          "Node 0",
          "Node 1",
          "Node 2",
          "Node 3",
          "Node 4",
          "Node 5",
          "Node 6",
          "Node 7",
          "Node 8",
          "Node 9"
         ],
         "yaxis": "y"
        },
        {
         "alignmentgroup": "True",
         "base": [
          0.033776044845581055,
          0.03377890586853027,
          0.03378129005432129,
          0.03378415107727051,
          0.03378748893737793,
          0.0338284969329834,
          0.0338282585144043,
          0.03383517265319824,
          0.03383469581604004,
          0.033837318420410156
         ],
         "hovertemplate": "Task=Iter 43<br>Start=%{base}<br>Finish=%{x}<br>Resource=%{y}<extra></extra>",
         "legendgroup": "Iter 43",
         "marker": {
          "color": "#ab63fa",
          "pattern": {
           "shape": ""
          }
         },
         "name": "Iter 43",
         "offsetgroup": "Iter 43",
         "orientation": "h",
         "showlegend": true,
         "textposition": "auto",
         "type": "bar",
         "x": [
          0.000010728836059570312,
          0.00001049041748046875,
          0.000010967254638671875,
          0.00001049041748046875,
          0.00001049041748046875,
          0.000010728836059570312,
          0.000010728836059570312,
          0.000010967254638671875,
          0.000010728836059570312,
          0.0006854534149169922
         ],
         "xaxis": "x",
         "y": [
          "Node 0",
          "Node 1",
          "Node 2",
          "Node 3",
          "Node 4",
          "Node 5",
          "Node 6",
          "Node 7",
          "Node 8",
          "Node 9"
         ],
         "yaxis": "y"
        },
        {
         "alignmentgroup": "True",
         "base": [
          0.03455376625061035,
          0.03455662727355957,
          0.03455948829650879,
          0.034561872482299805,
          0.03456521034240723,
          0.03460502624511719,
          0.03460550308227539,
          0.03461050987243652,
          0.034612178802490234,
          0.034616708755493164
         ],
         "hovertemplate": "Task=Iter 44<br>Start=%{base}<br>Finish=%{x}<br>Resource=%{y}<extra></extra>",
         "legendgroup": "Iter 44",
         "marker": {
          "color": "#FFA15A",
          "pattern": {
           "shape": ""
          }
         },
         "name": "Iter 44",
         "offsetgroup": "Iter 44",
         "orientation": "h",
         "showlegend": true,
         "textposition": "auto",
         "type": "bar",
         "x": [
          0.000010251998901367188,
          0.000009775161743164062,
          0.0000095367431640625,
          0.000010013580322265625,
          0.000009775161743164062,
          0.000010013580322265625,
          0.000009775161743164062,
          0.000010251998901367188,
          0.000009775161743164062,
          0.0006773471832275391
         ],
         "xaxis": "x",
         "y": [
          "Node 0",
          "Node 1",
          "Node 2",
          "Node 3",
          "Node 4",
          "Node 5",
          "Node 6",
          "Node 7",
          "Node 8",
          "Node 9"
         ],
         "yaxis": "y"
        },
        {
         "alignmentgroup": "True",
         "base": [
          0.03532886505126953,
          0.03533220291137695,
          0.03533482551574707,
          0.03533673286437988,
          0.03534078598022461,
          0.03537940979003906,
          0.03538179397583008,
          0.03538799285888672,
          0.03538823127746582,
          0.03538990020751953
         ],
         "hovertemplate": "Task=Iter 45<br>Start=%{base}<br>Finish=%{x}<br>Resource=%{y}<extra></extra>",
         "legendgroup": "Iter 45",
         "marker": {
          "color": "#19d3f3",
          "pattern": {
           "shape": ""
          }
         },
         "name": "Iter 45",
         "offsetgroup": "Iter 45",
         "orientation": "h",
         "showlegend": true,
         "textposition": "auto",
         "type": "bar",
         "x": [
          0.000010251998901367188,
          0.0000095367431640625,
          0.000009775161743164062,
          0.000009775161743164062,
          0.0000095367431640625,
          0.000009775161743164062,
          0.000009775161743164062,
          0.000010251998901367188,
          0.000010013580322265625,
          0.0006866455078125
         ],
         "xaxis": "x",
         "y": [
          "Node 0",
          "Node 1",
          "Node 2",
          "Node 3",
          "Node 4",
          "Node 5",
          "Node 6",
          "Node 7",
          "Node 8",
          "Node 9"
         ],
         "yaxis": "y"
        },
        {
         "alignmentgroup": "True",
         "base": [
          0.03610587120056152,
          0.036109209060668945,
          0.036112070083618164,
          0.03611421585083008,
          0.0361177921295166,
          0.03615593910217285,
          0.036158084869384766,
          0.036162376403808594,
          0.03616476058959961,
          0.036168575286865234
         ],
         "hovertemplate": "Task=Iter 46<br>Start=%{base}<br>Finish=%{x}<br>Resource=%{y}<extra></extra>",
         "legendgroup": "Iter 46",
         "marker": {
          "color": "#FF6692",
          "pattern": {
           "shape": ""
          }
         },
         "name": "Iter 46",
         "offsetgroup": "Iter 46",
         "orientation": "h",
         "showlegend": true,
         "textposition": "auto",
         "type": "bar",
         "x": [
          0.000009775161743164062,
          0.000009298324584960938,
          0.000009775161743164062,
          0.000009775161743164062,
          0.0000095367431640625,
          0.000009775161743164062,
          0.0000095367431640625,
          0.000010013580322265625,
          0.000009775161743164062,
          0.0006840229034423828
         ],
         "xaxis": "x",
         "y": [
          "Node 0",
          "Node 1",
          "Node 2",
          "Node 3",
          "Node 4",
          "Node 5",
          "Node 6",
          "Node 7",
          "Node 8",
          "Node 9"
         ],
         "yaxis": "y"
        },
        {
         "alignmentgroup": "True",
         "base": [
          0.03688311576843262,
          0.036885738372802734,
          0.03688836097717285,
          0.03689098358154297,
          0.03689384460449219,
          0.03693222999572754,
          0.03693437576293945,
          0.03693890571594238,
          0.0369410514831543,
          0.036943912506103516
         ],
         "hovertemplate": "Task=Iter 47<br>Start=%{base}<br>Finish=%{x}<br>Resource=%{y}<extra></extra>",
         "legendgroup": "Iter 47",
         "marker": {
          "color": "#B6E880",
          "pattern": {
           "shape": ""
          }
         },
         "name": "Iter 47",
         "offsetgroup": "Iter 47",
         "orientation": "h",
         "showlegend": true,
         "textposition": "auto",
         "type": "bar",
         "x": [
          0.000010013580322265625,
          0.000009298324584960938,
          0.000010251998901367188,
          0.000009775161743164062,
          0.000009775161743164062,
          0.000010013580322265625,
          0.00001049041748046875,
          0.000010251998901367188,
          0.000009775161743164062,
          0.0006840229034423828
         ],
         "xaxis": "x",
         "y": [
          "Node 0",
          "Node 1",
          "Node 2",
          "Node 3",
          "Node 4",
          "Node 5",
          "Node 6",
          "Node 7",
          "Node 8",
          "Node 9"
         ],
         "yaxis": "y"
        },
        {
         "alignmentgroup": "True",
         "base": [
          0.037657976150512695,
          0.03766155242919922,
          0.037664175033569336,
          0.03766655921936035,
          0.03766965866088867,
          0.037706851959228516,
          0.037709951400756836,
          0.03771567344665527,
          0.037717342376708984,
          0.03772473335266113
         ],
         "hovertemplate": "Task=Iter 48<br>Start=%{base}<br>Finish=%{x}<br>Resource=%{y}<extra></extra>",
         "legendgroup": "Iter 48",
         "marker": {
          "color": "#FF97FF",
          "pattern": {
           "shape": ""
          }
         },
         "name": "Iter 48",
         "offsetgroup": "Iter 48",
         "orientation": "h",
         "showlegend": true,
         "textposition": "auto",
         "type": "bar",
         "x": [
          0.000010013580322265625,
          0.0000095367431640625,
          0.000009775161743164062,
          0.0000095367431640625,
          0.000009775161743164062,
          0.000010013580322265625,
          0.000010013580322265625,
          0.000010013580322265625,
          0.000009775161743164062,
          0.0008940696716308594
         ],
         "xaxis": "x",
         "y": [
          "Node 0",
          "Node 1",
          "Node 2",
          "Node 3",
          "Node 4",
          "Node 5",
          "Node 6",
          "Node 7",
          "Node 8",
          "Node 9"
         ],
         "yaxis": "y"
        },
        {
         "alignmentgroup": "True",
         "base": [
          0.03865814208984375,
          0.03866314888000488,
          0.038666725158691406,
          0.03867292404174805,
          0.03867506980895996,
          0.03871607780456543,
          0.03871917724609375,
          0.03871488571166992,
          0.03871655464172363,
          0.03872990608215332
         ],
         "hovertemplate": "Task=Iter 49<br>Start=%{base}<br>Finish=%{x}<br>Resource=%{y}<extra></extra>",
         "legendgroup": "Iter 49",
         "marker": {
          "color": "#FECB52",
          "pattern": {
           "shape": ""
          }
         },
         "name": "Iter 49",
         "offsetgroup": "Iter 49",
         "orientation": "h",
         "showlegend": true,
         "textposition": "auto",
         "type": "bar",
         "x": [
          0.000010013580322265625,
          0.000009059906005859375,
          0.0000095367431640625,
          0.00001239776611328125,
          0.000009775161743164062,
          0.000015020370483398438,
          0.000014066696166992188,
          0.000010013580322265625,
          0.000010013580322265625,
          0.0007607936859130859
         ],
         "xaxis": "x",
         "y": [
          "Node 0",
          "Node 1",
          "Node 2",
          "Node 3",
          "Node 4",
          "Node 5",
          "Node 6",
          "Node 7",
          "Node 8",
          "Node 9"
         ],
         "yaxis": "y"
        },
        {
         "alignmentgroup": "True",
         "base": [
          0.039525508880615234,
          0.03952908515930176,
          0.03953242301940918,
          0.039752960205078125,
          0.03975534439086914,
          0.039782047271728516,
          0.03978419303894043,
          0.03978776931762695,
          0.03978991508483887,
          0.03979325294494629
         ],
         "hovertemplate": "Task=Iter 50<br>Start=%{base}<br>Finish=%{x}<br>Resource=%{y}<extra></extra>",
         "legendgroup": "Iter 50",
         "marker": {
          "color": "#636efa",
          "pattern": {
           "shape": ""
          }
         },
         "name": "Iter 50",
         "offsetgroup": "Iter 50",
         "orientation": "h",
         "showlegend": true,
         "textposition": "auto",
         "type": "bar",
         "x": [
          0.000010013580322265625,
          0.0000095367431640625,
          0.000009775161743164062,
          0.000010967254638671875,
          0.000009775161743164062,
          0.000010728836059570312,
          0.000011682510375976562,
          0.000010251998901367188,
          0.000009775161743164062,
          0.0007655620574951172
         ],
         "xaxis": "x",
         "y": [
          "Node 0",
          "Node 1",
          "Node 2",
          "Node 3",
          "Node 4",
          "Node 5",
          "Node 6",
          "Node 7",
          "Node 8",
          "Node 9"
         ],
         "yaxis": "y"
        }
       ],
       "layout": {
        "barmode": "overlay",
        "legend": {
         "title": {
          "text": "Task"
         },
         "tracegroupgap": 0
        },
        "margin": {
         "t": 60
        },
        "template": {
         "data": {
          "bar": [
           {
            "error_x": {
             "color": "#2a3f5f"
            },
            "error_y": {
             "color": "#2a3f5f"
            },
            "marker": {
             "line": {
              "color": "#E5ECF6",
              "width": 0.5
             },
             "pattern": {
              "fillmode": "overlay",
              "size": 10,
              "solidity": 0.2
             }
            },
            "type": "bar"
           }
          ],
          "barpolar": [
           {
            "marker": {
             "line": {
              "color": "#E5ECF6",
              "width": 0.5
             },
             "pattern": {
              "fillmode": "overlay",
              "size": 10,
              "solidity": 0.2
             }
            },
            "type": "barpolar"
           }
          ],
          "carpet": [
           {
            "aaxis": {
             "endlinecolor": "#2a3f5f",
             "gridcolor": "white",
             "linecolor": "white",
             "minorgridcolor": "white",
             "startlinecolor": "#2a3f5f"
            },
            "baxis": {
             "endlinecolor": "#2a3f5f",
             "gridcolor": "white",
             "linecolor": "white",
             "minorgridcolor": "white",
             "startlinecolor": "#2a3f5f"
            },
            "type": "carpet"
           }
          ],
          "choropleth": [
           {
            "colorbar": {
             "outlinewidth": 0,
             "ticks": ""
            },
            "type": "choropleth"
           }
          ],
          "contour": [
           {
            "colorbar": {
             "outlinewidth": 0,
             "ticks": ""
            },
            "colorscale": [
             [
              0,
              "#0d0887"
             ],
             [
              0.1111111111111111,
              "#46039f"
             ],
             [
              0.2222222222222222,
              "#7201a8"
             ],
             [
              0.3333333333333333,
              "#9c179e"
             ],
             [
              0.4444444444444444,
              "#bd3786"
             ],
             [
              0.5555555555555556,
              "#d8576b"
             ],
             [
              0.6666666666666666,
              "#ed7953"
             ],
             [
              0.7777777777777778,
              "#fb9f3a"
             ],
             [
              0.8888888888888888,
              "#fdca26"
             ],
             [
              1,
              "#f0f921"
             ]
            ],
            "type": "contour"
           }
          ],
          "contourcarpet": [
           {
            "colorbar": {
             "outlinewidth": 0,
             "ticks": ""
            },
            "type": "contourcarpet"
           }
          ],
          "heatmap": [
           {
            "colorbar": {
             "outlinewidth": 0,
             "ticks": ""
            },
            "colorscale": [
             [
              0,
              "#0d0887"
             ],
             [
              0.1111111111111111,
              "#46039f"
             ],
             [
              0.2222222222222222,
              "#7201a8"
             ],
             [
              0.3333333333333333,
              "#9c179e"
             ],
             [
              0.4444444444444444,
              "#bd3786"
             ],
             [
              0.5555555555555556,
              "#d8576b"
             ],
             [
              0.6666666666666666,
              "#ed7953"
             ],
             [
              0.7777777777777778,
              "#fb9f3a"
             ],
             [
              0.8888888888888888,
              "#fdca26"
             ],
             [
              1,
              "#f0f921"
             ]
            ],
            "type": "heatmap"
           }
          ],
          "heatmapgl": [
           {
            "colorbar": {
             "outlinewidth": 0,
             "ticks": ""
            },
            "colorscale": [
             [
              0,
              "#0d0887"
             ],
             [
              0.1111111111111111,
              "#46039f"
             ],
             [
              0.2222222222222222,
              "#7201a8"
             ],
             [
              0.3333333333333333,
              "#9c179e"
             ],
             [
              0.4444444444444444,
              "#bd3786"
             ],
             [
              0.5555555555555556,
              "#d8576b"
             ],
             [
              0.6666666666666666,
              "#ed7953"
             ],
             [
              0.7777777777777778,
              "#fb9f3a"
             ],
             [
              0.8888888888888888,
              "#fdca26"
             ],
             [
              1,
              "#f0f921"
             ]
            ],
            "type": "heatmapgl"
           }
          ],
          "histogram": [
           {
            "marker": {
             "pattern": {
              "fillmode": "overlay",
              "size": 10,
              "solidity": 0.2
             }
            },
            "type": "histogram"
           }
          ],
          "histogram2d": [
           {
            "colorbar": {
             "outlinewidth": 0,
             "ticks": ""
            },
            "colorscale": [
             [
              0,
              "#0d0887"
             ],
             [
              0.1111111111111111,
              "#46039f"
             ],
             [
              0.2222222222222222,
              "#7201a8"
             ],
             [
              0.3333333333333333,
              "#9c179e"
             ],
             [
              0.4444444444444444,
              "#bd3786"
             ],
             [
              0.5555555555555556,
              "#d8576b"
             ],
             [
              0.6666666666666666,
              "#ed7953"
             ],
             [
              0.7777777777777778,
              "#fb9f3a"
             ],
             [
              0.8888888888888888,
              "#fdca26"
             ],
             [
              1,
              "#f0f921"
             ]
            ],
            "type": "histogram2d"
           }
          ],
          "histogram2dcontour": [
           {
            "colorbar": {
             "outlinewidth": 0,
             "ticks": ""
            },
            "colorscale": [
             [
              0,
              "#0d0887"
             ],
             [
              0.1111111111111111,
              "#46039f"
             ],
             [
              0.2222222222222222,
              "#7201a8"
             ],
             [
              0.3333333333333333,
              "#9c179e"
             ],
             [
              0.4444444444444444,
              "#bd3786"
             ],
             [
              0.5555555555555556,
              "#d8576b"
             ],
             [
              0.6666666666666666,
              "#ed7953"
             ],
             [
              0.7777777777777778,
              "#fb9f3a"
             ],
             [
              0.8888888888888888,
              "#fdca26"
             ],
             [
              1,
              "#f0f921"
             ]
            ],
            "type": "histogram2dcontour"
           }
          ],
          "mesh3d": [
           {
            "colorbar": {
             "outlinewidth": 0,
             "ticks": ""
            },
            "type": "mesh3d"
           }
          ],
          "parcoords": [
           {
            "line": {
             "colorbar": {
              "outlinewidth": 0,
              "ticks": ""
             }
            },
            "type": "parcoords"
           }
          ],
          "pie": [
           {
            "automargin": true,
            "type": "pie"
           }
          ],
          "scatter": [
           {
            "fillpattern": {
             "fillmode": "overlay",
             "size": 10,
             "solidity": 0.2
            },
            "type": "scatter"
           }
          ],
          "scatter3d": [
           {
            "line": {
             "colorbar": {
              "outlinewidth": 0,
              "ticks": ""
             }
            },
            "marker": {
             "colorbar": {
              "outlinewidth": 0,
              "ticks": ""
             }
            },
            "type": "scatter3d"
           }
          ],
          "scattercarpet": [
           {
            "marker": {
             "colorbar": {
              "outlinewidth": 0,
              "ticks": ""
             }
            },
            "type": "scattercarpet"
           }
          ],
          "scattergeo": [
           {
            "marker": {
             "colorbar": {
              "outlinewidth": 0,
              "ticks": ""
             }
            },
            "type": "scattergeo"
           }
          ],
          "scattergl": [
           {
            "marker": {
             "colorbar": {
              "outlinewidth": 0,
              "ticks": ""
             }
            },
            "type": "scattergl"
           }
          ],
          "scattermapbox": [
           {
            "marker": {
             "colorbar": {
              "outlinewidth": 0,
              "ticks": ""
             }
            },
            "type": "scattermapbox"
           }
          ],
          "scatterpolar": [
           {
            "marker": {
             "colorbar": {
              "outlinewidth": 0,
              "ticks": ""
             }
            },
            "type": "scatterpolar"
           }
          ],
          "scatterpolargl": [
           {
            "marker": {
             "colorbar": {
              "outlinewidth": 0,
              "ticks": ""
             }
            },
            "type": "scatterpolargl"
           }
          ],
          "scatterternary": [
           {
            "marker": {
             "colorbar": {
              "outlinewidth": 0,
              "ticks": ""
             }
            },
            "type": "scatterternary"
           }
          ],
          "surface": [
           {
            "colorbar": {
             "outlinewidth": 0,
             "ticks": ""
            },
            "colorscale": [
             [
              0,
              "#0d0887"
             ],
             [
              0.1111111111111111,
              "#46039f"
             ],
             [
              0.2222222222222222,
              "#7201a8"
             ],
             [
              0.3333333333333333,
              "#9c179e"
             ],
             [
              0.4444444444444444,
              "#bd3786"
             ],
             [
              0.5555555555555556,
              "#d8576b"
             ],
             [
              0.6666666666666666,
              "#ed7953"
             ],
             [
              0.7777777777777778,
              "#fb9f3a"
             ],
             [
              0.8888888888888888,
              "#fdca26"
             ],
             [
              1,
              "#f0f921"
             ]
            ],
            "type": "surface"
           }
          ],
          "table": [
           {
            "cells": {
             "fill": {
              "color": "#EBF0F8"
             },
             "line": {
              "color": "white"
             }
            },
            "header": {
             "fill": {
              "color": "#C8D4E3"
             },
             "line": {
              "color": "white"
             }
            },
            "type": "table"
           }
          ]
         },
         "layout": {
          "annotationdefaults": {
           "arrowcolor": "#2a3f5f",
           "arrowhead": 0,
           "arrowwidth": 1
          },
          "autotypenumbers": "strict",
          "coloraxis": {
           "colorbar": {
            "outlinewidth": 0,
            "ticks": ""
           }
          },
          "colorscale": {
           "diverging": [
            [
             0,
             "#8e0152"
            ],
            [
             0.1,
             "#c51b7d"
            ],
            [
             0.2,
             "#de77ae"
            ],
            [
             0.3,
             "#f1b6da"
            ],
            [
             0.4,
             "#fde0ef"
            ],
            [
             0.5,
             "#f7f7f7"
            ],
            [
             0.6,
             "#e6f5d0"
            ],
            [
             0.7,
             "#b8e186"
            ],
            [
             0.8,
             "#7fbc41"
            ],
            [
             0.9,
             "#4d9221"
            ],
            [
             1,
             "#276419"
            ]
           ],
           "sequential": [
            [
             0,
             "#0d0887"
            ],
            [
             0.1111111111111111,
             "#46039f"
            ],
            [
             0.2222222222222222,
             "#7201a8"
            ],
            [
             0.3333333333333333,
             "#9c179e"
            ],
            [
             0.4444444444444444,
             "#bd3786"
            ],
            [
             0.5555555555555556,
             "#d8576b"
            ],
            [
             0.6666666666666666,
             "#ed7953"
            ],
            [
             0.7777777777777778,
             "#fb9f3a"
            ],
            [
             0.8888888888888888,
             "#fdca26"
            ],
            [
             1,
             "#f0f921"
            ]
           ],
           "sequentialminus": [
            [
             0,
             "#0d0887"
            ],
            [
             0.1111111111111111,
             "#46039f"
            ],
            [
             0.2222222222222222,
             "#7201a8"
            ],
            [
             0.3333333333333333,
             "#9c179e"
            ],
            [
             0.4444444444444444,
             "#bd3786"
            ],
            [
             0.5555555555555556,
             "#d8576b"
            ],
            [
             0.6666666666666666,
             "#ed7953"
            ],
            [
             0.7777777777777778,
             "#fb9f3a"
            ],
            [
             0.8888888888888888,
             "#fdca26"
            ],
            [
             1,
             "#f0f921"
            ]
           ]
          },
          "colorway": [
           "#636efa",
           "#EF553B",
           "#00cc96",
           "#ab63fa",
           "#FFA15A",
           "#19d3f3",
           "#FF6692",
           "#B6E880",
           "#FF97FF",
           "#FECB52"
          ],
          "font": {
           "color": "#2a3f5f"
          },
          "geo": {
           "bgcolor": "white",
           "lakecolor": "white",
           "landcolor": "#E5ECF6",
           "showlakes": true,
           "showland": true,
           "subunitcolor": "white"
          },
          "hoverlabel": {
           "align": "left"
          },
          "hovermode": "closest",
          "mapbox": {
           "style": "light"
          },
          "paper_bgcolor": "white",
          "plot_bgcolor": "#E5ECF6",
          "polar": {
           "angularaxis": {
            "gridcolor": "white",
            "linecolor": "white",
            "ticks": ""
           },
           "bgcolor": "#E5ECF6",
           "radialaxis": {
            "gridcolor": "white",
            "linecolor": "white",
            "ticks": ""
           }
          },
          "scene": {
           "xaxis": {
            "backgroundcolor": "#E5ECF6",
            "gridcolor": "white",
            "gridwidth": 2,
            "linecolor": "white",
            "showbackground": true,
            "ticks": "",
            "zerolinecolor": "white"
           },
           "yaxis": {
            "backgroundcolor": "#E5ECF6",
            "gridcolor": "white",
            "gridwidth": 2,
            "linecolor": "white",
            "showbackground": true,
            "ticks": "",
            "zerolinecolor": "white"
           },
           "zaxis": {
            "backgroundcolor": "#E5ECF6",
            "gridcolor": "white",
            "gridwidth": 2,
            "linecolor": "white",
            "showbackground": true,
            "ticks": "",
            "zerolinecolor": "white"
           }
          },
          "shapedefaults": {
           "line": {
            "color": "#2a3f5f"
           }
          },
          "ternary": {
           "aaxis": {
            "gridcolor": "white",
            "linecolor": "white",
            "ticks": ""
           },
           "baxis": {
            "gridcolor": "white",
            "linecolor": "white",
            "ticks": ""
           },
           "bgcolor": "#E5ECF6",
           "caxis": {
            "gridcolor": "white",
            "linecolor": "white",
            "ticks": ""
           }
          },
          "title": {
           "x": 0.05
          },
          "xaxis": {
           "automargin": true,
           "gridcolor": "white",
           "linecolor": "white",
           "ticks": "",
           "title": {
            "standoff": 15
           },
           "zerolinecolor": "white",
           "zerolinewidth": 2
          },
          "yaxis": {
           "automargin": true,
           "gridcolor": "white",
           "linecolor": "white",
           "ticks": "",
           "title": {
            "standoff": 15
           },
           "zerolinecolor": "white",
           "zerolinewidth": 2
          }
         }
        },
        "title": {
         "text": "Parallel WTA Block"
        },
        "xaxis": {
         "anchor": "y",
         "domain": [
          0,
          1
         ],
         "type": "linear"
        },
        "yaxis": {
         "anchor": "x",
         "autorange": "reversed",
         "domain": [
          0,
          1
         ],
         "title": {
          "text": "Resource"
         }
        }
       }
      }
     },
     "metadata": {},
     "output_type": "display_data"
    }
   ],
   "source": [
    "# Block\n",
    "fig = getDataGantt(logs[2], \"Parallel WTA Block\")\n",
    "fig.show()\n"
   ]
  },
  {
   "cell_type": "code",
   "execution_count": 12,
   "metadata": {},
   "outputs": [],
   "source": [
    "# Plot the value entry in last log for each of the three methods\n",
    "# Against the time delta \n",
    "# Get the last value of each log\n",
    "ref=8.629087973826826\n",
    "values = []\n",
    "time_deltas = []\n",
    "for log in logs:\n",
    "    start = log[0][0]['start']\n",
    "    values.append([np.log10(e['value']-ref) for e in log[-1]])\n",
    "    time_deltas.append([e['end']-start for e in log[-1]])\n"
   ]
  },
  {
   "cell_type": "code",
   "execution_count": 11,
   "metadata": {},
   "outputs": [
    {
     "data": {
      "image/png": "[encoded data removed]",
      "text/plain": [
       "<Figure size 640x480 with 1 Axes>"
      ]
     },
     "metadata": {},
     "output_type": "display_data"
    }
   ],
   "source": [
    "ref=8.629087973826826\n",
    "plt.plot(time_deltas[0], values[0], label='Full')\n",
    "plt.plot(time_deltas[1], values[1], label='MT')\n",
    "plt.plot(time_deltas[2], values[2], label='Block')\n",
    "#plt.axhline(y=ref, color='red', linestyle='dashed')\n",
    "plt.xlabel('Time')\n",
    "plt.ylabel('Log10(Value - Ref)')\n",
    "\n",
    "# Only display x-axis less than 0.2\n",
    "plt.xlim(0, 0.3)\n",
    "plt.title('Delta from Optimal vs Time')\n",
    "plt.legend()\n",
    "\n",
    "plt.show()"
   ]
  },
  {
   "cell_type": "code",
   "execution_count": null,
   "metadata": {},
   "outputs": [],
   "source": [
    "# Find "
   ]
  }
 ],
 "metadata": {
  "kernelspec": {
   "display_name": "base",
   "language": "python",
   "name": "python3"
  },
  "language_info": {
   "codemirror_mode": {
    "name": "ipython",
    "version": 3
   },
   "file_extension": ".py",
   "mimetype": "text/x-python",
   "name": "python",
   "nbconvert_exporter": "python",
   "pygments_lexer": "ipython3",
   "version": "3.11.4"
  }
 },
 "nbformat": 4,
 "nbformat_minor": 2
}
