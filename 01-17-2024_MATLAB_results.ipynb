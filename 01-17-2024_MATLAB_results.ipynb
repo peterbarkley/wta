{
 "cells": [
  {
   "cell_type": "code",
   "execution_count": 1,
   "metadata": {},
   "outputs": [],
   "source": [
    "import cvxpy as cvx\n",
    "import numpy as np"
   ]
  },
  {
   "cell_type": "code",
   "execution_count": 3,
   "metadata": {},
   "outputs": [],
   "source": [
    "\n",
    "def getCycleTime(t,l,L,W):\n",
    "    # Get cycle time\n",
    "    # t: list of resolvent times for each agent\n",
    "    # l: n x n array of communication times\n",
    "    # L: n x n array of resolvent multipliers\n",
    "    # W: n x n array of consensus multipliers\n",
    "    # Uses critical path method\n",
    "    n = len(t)\n",
    "    # X[i,j] is 1 if L[i,j] is nonzero, i>j\n",
    "    # X[j,i] is 1 if W[i,j] is nonzero, i<j\n",
    "    X = np.zeros((n,n))\n",
    "    for i in range(n):\n",
    "        for j in range(i):\n",
    "            if L[i,j] != 0:\n",
    "                X[i,j] = 1\n",
    "            if W[i,j] != 0:\n",
    "                X[j,i] = 1\n",
    "    # Declare variables\n",
    "    itrs = 3*n-1\n",
    "    s = cvx.Variable((itrs,n), nonneg=True) # completion time for each agent in each iteration\n",
    "\n",
    "    M = itrs*(max(t) + np.max(l))*n\n",
    "    # Build constraints\n",
    "    cons = [ s[i, k] - s[i, j] >= (t[j] + l[j,k] + M)*X[k,j] - M for i in range(itrs) for j in range(n-1) for k in range(j+1, n)]\n",
    "    cons += [s[i+1, k] - s[i, j] >= (t[j] + l[j,k] + M)*X[j,k] - M for i in range(itrs-1) for k in range(1,n) for j in range(k)]\n",
    "    cons += [s[i+1, j] - s[i, k] >= (t[k] + l[k,j] + M)*X[j,k] - M for i in range(itrs-1) for k in range(1,n) for j in range(k)]\n",
    "\n",
    "    # Build objective\n",
    "    obj = cvx.Minimize(cvx.max(s[itrs-1,:]))\n",
    "\n",
    "    # Solve problem\n",
    "    prob = cvx.Problem(obj, cons)\n",
    "    prob.solve()\n",
    "    return prob.value/itrs\n",
    "\n",
    "# W = np.array([[1, -1, 0], [-1, 2, -1], [0, -1, 1]])\n",
    "# L = np.array([[0, 0, 0], [1, 0, 0], [1, 1, 0]])\n",
    "# t = [1, 1, 1]\n",
    "# l = np.ones((3,3))/10\n",
    "# print(getCycleTime(t,l,L,W))\n",
    "\n",
    "def getRyu(n):\n",
    "    '''Get Ryu values for W and L\n",
    "    n: number of agents'''\n",
    "    W = np.eye(n)\n",
    "    # Set bottom row to -np.ones\n",
    "    W[n-1,:] = -np.ones(n)\n",
    "    W[:,n-1] = -np.ones(n)\n",
    "    W[n-1,n-1] = n-1\n",
    "    W = 2/(n-1)*W\n",
    "    L = np.zeros((n,n))\n",
    "    # Set lower triangle of L to 1\n",
    "    for i in range(n):\n",
    "        for j in range(i):\n",
    "            L[i,j] = 1\n",
    "    L = 2/(n-1)*L\n",
    "    return W, L\n",
    "\n",
    "def getMT(n):\n",
    "    '''Get Malitsky-Tam values for W and L\n",
    "    n: number of agents'''\n",
    "    W = np.zeros((n,n))\n",
    "    W[0,0] = 1\n",
    "    W[0,1] = -1\n",
    "    for r in range(1,n-1):\n",
    "        W[r,r-1] = -1\n",
    "        W[r,r] = 2\n",
    "        W[r,r+1] = -1\n",
    "    W[n-1,n-1] = 1\n",
    "    W[n-1,n-2] = -1\n",
    "\n",
    "    L = np.zeros((n,n))\n",
    "    # Add ones just below the diagonal\n",
    "    for i in range(n-1):\n",
    "        L[i+1,i] = 1\n",
    "    L[n-1,0] = 1\n",
    "    return W, L\n",
    "\n"
   ]
  },
  {
   "cell_type": "code",
   "execution_count": 4,
   "metadata": {},
   "outputs": [
    {
     "name": "stdout",
     "output_type": "stream",
     "text": [
      "[[ 1. -1.  0.  0.]\n",
      " [-1.  2. -1.  0.]\n",
      " [ 0. -1.  2. -1.]\n",
      " [ 0.  0. -1.  1.]] [[0. 0. 0. 0.]\n",
      " [1. 0. 0. 0.]\n",
      " [0. 1. 0. 0.]\n",
      " [1. 0. 1. 0.]]\n"
     ]
    }
   ],
   "source": [
    "L_mt, W_mt = getMT(4)\n",
    "print(L_mt, W_mt)"
   ]
  },
  {
   "cell_type": "code",
   "execution_count": 5,
   "metadata": {},
   "outputs": [
    {
     "name": "stdout",
     "output_type": "stream",
     "text": [
      "69.29999999999976\n"
     ]
    }
   ],
   "source": [
    "t = [3,1,1,1]\n",
    "l = np.ones((4,4))/10\n",
    "\n",
    "print(getCycleTime(t,l,L_mt,W_mt))"
   ]
  },
  {
   "cell_type": "code",
   "execution_count": 6,
   "metadata": {},
   "outputs": [],
   "source": [
    "L_b = np.array([[0, 0, 0, 0], [0, 0, 0, 0], [1.5, 0.5, 0, 0], [0.5,1.5,0,0]])\n",
    "W_b = np.array([[1, 0, -1, 0], [0, 2, -0.5, -1.5], [-1, -0.5, 1.67218, -0.17218], [0,-1.5,-0.17218,1.67218]])"
   ]
  },
  {
   "cell_type": "code",
   "execution_count": 7,
   "metadata": {},
   "outputs": [
    {
     "name": "stdout",
     "output_type": "stream",
     "text": [
      "45.09999999999988\n"
     ]
    }
   ],
   "source": [
    "print(getCycleTime(t,l,L_b,W_b))"
   ]
  },
  {
   "cell_type": "code",
   "execution_count": null,
   "metadata": {},
   "outputs": [],
   "source": []
  }
 ],
 "metadata": {
  "kernelspec": {
   "display_name": "base",
   "language": "python",
   "name": "python3"
  },
  "language_info": {
   "codemirror_mode": {
    "name": "ipython",
    "version": 3
   },
   "file_extension": ".py",
   "mimetype": "text/x-python",
   "name": "python",
   "nbconvert_exporter": "python",
   "pygments_lexer": "ipython3",
   "version": "3.11.4"
  }
 },
 "nbformat": 4,
 "nbformat_minor": 2
}
