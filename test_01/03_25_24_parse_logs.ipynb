{
 "cells": [
  {
   "cell_type": "code",
   "execution_count": 1,
   "metadata": {},
   "outputs": [],
   "source": [
    "# Import log json file and view Gantt chart of the log\n",
    "import json\n",
    "import pandas as pd\n",
    "import matplotlib.pyplot as plt\n",
    "import plotly.express as px"
   ]
  },
  {
   "cell_type": "code",
   "execution_count": 2,
   "metadata": {},
   "outputs": [],
   "source": [
    "\n",
    "def graphResults(logs, labels, ref, title, subtitle):\n",
    "    '''Graph the results'''\n",
    "\n",
    "    i=0\n",
    "    for log in logs:\n",
    "        if labels:\n",
    "            plt.plot(log, label=labels[i])\n",
    "        else:\n",
    "            plt.plot(log)\n",
    "        i+=1\n",
    "    \n",
    "    # Horizontal line for reference\n",
    "    plt.axhline(y=ref, color='red', linestyle='dashed')\n",
    "    \n",
    "    # Add labels\n",
    "    plt.xlabel('Time')\n",
    "    plt.ylabel('Value')\n",
    "    plt.title(subtitle)\n",
    "    plt.suptitle(title)\n",
    "    # Add legend\n",
    "    plt.legend()\n",
    "    #plt.show()\n",
    "\n",
    "    # Save the figure\n",
    "    timestamp = time()\n",
    "    plt.savefig(title+str(timestamp)+'.png')\n",
    "\n",
    "def getDataGantt(logs, title):\n",
    "    n = len(logs)\n",
    "    #tt, s, x = getCycleTime(t, l, L, W)\n",
    "    dflist = []\n",
    "\n",
    "    j = 0\n",
    "    for log in logs: # Node logs\n",
    "        i = 0\n",
    "        for iterlog in log: # Operations\n",
    "            if i > 50:\n",
    "                break\n",
    "            start = iterlog['start']\n",
    "            stop = iterlog['end']\n",
    "            if j==0 and i==0:\n",
    "                offset = start\n",
    "            start = start - offset\n",
    "            stop = stop - offset\n",
    "            #start = s[i,j]\n",
    "            #stop = start + t[j]\n",
    "            dflist.append(dict(Task=\"Iter %s\" % i, Start=start, Finish=stop, Resource=\"Node %s\" % j))\n",
    "            i += 1\n",
    "        j += 1\n",
    "    df = pd.DataFrame(dflist)\n",
    "    df['delta'] = df['Finish'] - df['Start']\n",
    "    # Export df to csv\n",
    "    #df.to_csv(title+'.csv')\n",
    "\n",
    "    fig = px.timeline(df, x_start=\"Start\", x_end=\"Finish\", y=\"Resource\", color=\"Task\")\n",
    "    fig.update_yaxes(autorange=\"reversed\") \n",
    "\n",
    "    fig.layout.xaxis.type = 'linear'\n",
    "    for d in fig.data:\n",
    "        filt = df['Task'] == d.name\n",
    "        d.x = df[filt]['delta'].tolist()\n",
    "\n",
    "    fig.update_layout(title_text=title)\n",
    "    return fig\n"
   ]
  },
  {
   "cell_type": "code",
   "execution_count": 10,
   "metadata": {},
   "outputs": [],
   "source": [
    "# Import log file logs_lambert1710*.json\n",
    "LW_titles = ['full', 'MT', 'block2']\n",
    "logs = []\n",
    "for title in LW_titles:\n",
    "    log = []\n",
    "    for node in range(10):\n",
    "        logname = 'logs_wta'+str(node)+'_'+title+'.json'\n",
    "        with open(logname) as f:\n",
    "            data = json.load(f)\n",
    "        log.append(data)\n",
    "    logs.append(log)\n",
    "\n",
    "# Data is a list of lists with the following structure:\n",
    "# data = [[node1_1, node1_2, ... ],[node2_1, node2_2, ...],...]\n",
    "# where log1 is a dictionary with the following structure:\n",
    "# log1 = {'start': 0, 'end': 0, 'value': 0, 'time': 0}\n",
    "\n"
   ]
  },
  {
   "cell_type": "code",
   "execution_count": 12,
   "metadata": {},
   "outputs": [
    {
     "data": {
      "text/plain": [
       "10"
      ]
     },
     "execution_count": 12,
     "metadata": {},
     "output_type": "execute_result"
    }
   ],
   "source": [
    "len(logs[0])\n"
   ]
  },
  {
   "cell_type": "code",
   "execution_count": 13,
   "metadata": {},
   "outputs": [
    {
     "data": {
      "application/vnd.plotly.v1+json": {
       "config": {
        "plotlyServerURL": "https://plot.ly"
       },
       "data": [
        {
         "alignmentgroup": "True",
         "base": [
          0,
          0.0009903907775878906,
          0.0019383430480957031,
          0.0029075145721435547,
          0.003900766372680664,
          0.0049076080322265625,
          0.005863189697265625,
          0.006838321685791016,
          0.007817745208740234,
          0.008766651153564453
         ],
         "hovertemplate": "Task=Iter 0<br>Start=%{base}<br>Finish=%{x}<br>Resource=%{y}<extra></extra>",
         "legendgroup": "Iter 0",
         "marker": {
          "color": "#636efa",
          "pattern": {
           "shape": ""
          }
         },
         "name": "Iter 0",
         "offsetgroup": "Iter 0",
         "orientation": "h",
         "showlegend": true,
         "textposition": "auto",
         "type": "bar",
         "x": [
          0.00004887580871582031,
          0.000049591064453125,
          0.00004172325134277344,
          0.00004601478576660156,
          0.000051021575927734375,
          0.00004935264587402344,
          0.00004482269287109375,
          0.00004363059997558594,
          0.000041484832763671875,
          0.0007975101470947266
         ],
         "xaxis": "x",
         "y": [
          "Node 0",
          "Node 1",
          "Node 2",
          "Node 3",
          "Node 4",
          "Node 5",
          "Node 6",
          "Node 7",
          "Node 8",
          "Node 9"
         ],
         "yaxis": "y"
        },
        {
         "alignmentgroup": "True",
         "base": [
          0.0019466876983642578,
          0.002921581268310547,
          0.0039043426513671875,
          0.004915475845336914,
          0.005871772766113281,
          0.006844282150268555,
          0.007834196090698242,
          0.008782386779785156,
          0.009743928909301758,
          0.010506391525268555
         ],
         "hovertemplate": "Task=Iter 1<br>Start=%{base}<br>Finish=%{x}<br>Resource=%{y}<extra></extra>",
         "legendgroup": "Iter 1",
         "marker": {
          "color": "#EF553B",
          "pattern": {
           "shape": ""
          }
         },
         "name": "Iter 1",
         "offsetgroup": "Iter 1",
         "orientation": "h",
         "showlegend": true,
         "textposition": "auto",
         "type": "bar",
         "x": [
          0.0000152587890625,
          0.000014543533325195312,
          0.000014066696166992188,
          0.000014543533325195312,
          0.000015020370483398438,
          0.000014066696166992188,
          0.000015974044799804688,
          0.000026226043701171875,
          0.000016689300537109375,
          0.0007281303405761719
         ],
         "xaxis": "x",
         "y": [
          "Node 0",
          "Node 1",
          "Node 2",
          "Node 3",
          "Node 4",
          "Node 5",
          "Node 6",
          "Node 7",
          "Node 8",
          "Node 9"
         ],
         "yaxis": "y"
        },
        {
         "alignmentgroup": "True",
         "base": [
          0.003770112991333008,
          0.004705667495727539,
          0.005684614181518555,
          0.006667613983154297,
          0.007605552673339844,
          0.008594512939453125,
          0.009574651718139648,
          0.010523796081542969,
          0.011292219161987305,
          0.012041807174682617
         ],
         "hovertemplate": "Task=Iter 2<br>Start=%{base}<br>Finish=%{x}<br>Resource=%{y}<extra></extra>",
         "legendgroup": "Iter 2",
         "marker": {
          "color": "#00cc96",
          "pattern": {
           "shape": ""
          }
         },
         "name": "Iter 2",
         "offsetgroup": "Iter 2",
         "orientation": "h",
         "showlegend": true,
         "textposition": "auto",
         "type": "bar",
         "x": [
          0.0000133514404296875,
          0.0000171661376953125,
          0.000013113021850585938,
          0.000017881393432617188,
          0.0000133514404296875,
          0.000013113021850585938,
          0.000013828277587890625,
          0.00001430511474609375,
          0.000015020370483398438,
          0.0007054805755615234
         ],
         "xaxis": "x",
         "y": [
          "Node 0",
          "Node 1",
          "Node 2",
          "Node 3",
          "Node 4",
          "Node 5",
          "Node 6",
          "Node 7",
          "Node 8",
          "Node 9"
         ],
         "yaxis": "y"
        },
        {
         "alignmentgroup": "True",
         "base": [
          0.005542278289794922,
          0.006499052047729492,
          0.0074672698974609375,
          0.008387088775634766,
          0.009349346160888672,
          0.010341405868530273,
          0.011299610137939453,
          0.012066841125488281,
          0.012835264205932617,
          0.013562679290771484
         ],
         "hovertemplate": "Task=Iter 3<br>Start=%{base}<br>Finish=%{x}<br>Resource=%{y}<extra></extra>",
         "legendgroup": "Iter 3",
         "marker": {
          "color": "#ab63fa",
          "pattern": {
           "shape": ""
          }
         },
         "name": "Iter 3",
         "offsetgroup": "Iter 3",
         "orientation": "h",
         "showlegend": true,
         "textposition": "auto",
         "type": "bar",
         "x": [
          0.000013589859008789062,
          0.000014781951904296875,
          0.00001621246337890625,
          0.000014066696166992188,
          0.00001239776611328125,
          0.000013113021850585938,
          0.000013589859008789062,
          0.000013589859008789062,
          0.000014066696166992188,
          0.0007216930389404297
         ],
         "xaxis": "x",
         "y": [
          "Node 0",
          "Node 1",
          "Node 2",
          "Node 3",
          "Node 4",
          "Node 5",
          "Node 6",
          "Node 7",
          "Node 8",
          "Node 9"
         ],
         "yaxis": "y"
        },
        {
         "alignmentgroup": "True",
         "base": [
          0.007264375686645508,
          0.008257865905761719,
          0.00914621353149414,
          0.010111570358276367,
          0.011098146438598633,
          0.01206207275390625,
          0.012848615646362305,
          0.013586282730102539,
          0.014352798461914062,
          0.01510167121887207
         ],
         "hovertemplate": "Task=Iter 4<br>Start=%{base}<br>Finish=%{x}<br>Resource=%{y}<extra></extra>",
         "legendgroup": "Iter 4",
         "marker": {
          "color": "#FFA15A",
          "pattern": {
           "shape": ""
          }
         },
         "name": "Iter 4",
         "offsetgroup": "Iter 4",
         "orientation": "h",
         "showlegend": true,
         "textposition": "auto",
         "type": "bar",
         "x": [
          0.00001430511474609375,
          0.000013589859008789062,
          0.000013113021850585938,
          0.000012874603271484375,
          0.00001239776611328125,
          0.000013113021850585938,
          0.000013589859008789062,
          0.000016689300537109375,
          0.000013113021850585938,
          0.0007197856903076172
         ],
         "xaxis": "x",
         "y": [
          "Node 0",
          "Node 1",
          "Node 2",
          "Node 3",
          "Node 4",
          "Node 5",
          "Node 6",
          "Node 7",
          "Node 8",
          "Node 9"
         ],
         "yaxis": "y"
        },
        {
         "alignmentgroup": "True",
         "base": [
          0.009026288986206055,
          0.009925365447998047,
          0.010880231857299805,
          0.011878252029418945,
          0.012816905975341797,
          0.013599634170532227,
          0.014374256134033203,
          0.015125036239624023,
          0.015879154205322266,
          0.01661062240600586
         ],
         "hovertemplate": "Task=Iter 5<br>Start=%{base}<br>Finish=%{x}<br>Resource=%{y}<extra></extra>",
         "legendgroup": "Iter 5",
         "marker": {
          "color": "#19d3f3",
          "pattern": {
           "shape": ""
          }
         },
         "name": "Iter 5",
         "offsetgroup": "Iter 5",
         "orientation": "h",
         "showlegend": true,
         "textposition": "auto",
         "type": "bar",
         "x": [
          0.00001239776611328125,
          0.000012636184692382812,
          0.000012159347534179688,
          0.000012874603271484375,
          0.0000133514404296875,
          0.00001239776611328125,
          0.000013828277587890625,
          0.000012636184692382812,
          0.000012874603271484375,
          0.0007123947143554688
         ],
         "xaxis": "x",
         "y": [
          "Node 0",
          "Node 1",
          "Node 2",
          "Node 3",
          "Node 4",
          "Node 5",
          "Node 6",
          "Node 7",
          "Node 8",
          "Node 9"
         ],
         "yaxis": "y"
        },
        {
         "alignmentgroup": "True",
         "base": [
          0.010677576065063477,
          0.011656522750854492,
          0.012621164321899414,
          0.013576030731201172,
          0.014359474182128906,
          0.01512908935546875,
          0.015882253646850586,
          0.016625404357910156,
          0.017372608184814453,
          0.01811504364013672
         ],
         "hovertemplate": "Task=Iter 6<br>Start=%{base}<br>Finish=%{x}<br>Resource=%{y}<extra></extra>",
         "legendgroup": "Iter 6",
         "marker": {
          "color": "#FF6692",
          "pattern": {
           "shape": ""
          }
         },
         "name": "Iter 6",
         "offsetgroup": "Iter 6",
         "orientation": "h",
         "showlegend": true,
         "textposition": "auto",
         "type": "bar",
         "x": [
          0.000011682510375976562,
          0.0000133514404296875,
          0.00001239776611328125,
          0.000014066696166992188,
          0.000012636184692382812,
          0.0000133514404296875,
          0.0000133514404296875,
          0.000012874603271484375,
          0.000012159347534179688,
          0.0007181167602539062
         ],
         "xaxis": "x",
         "y": [
          "Node 0",
          "Node 1",
          "Node 2",
          "Node 3",
          "Node 4",
          "Node 5",
          "Node 6",
          "Node 7",
          "Node 8",
          "Node 9"
         ],
         "yaxis": "y"
        },
        {
         "alignmentgroup": "True",
         "base": [
          0.01243901252746582,
          0.013406038284301758,
          0.01433873176574707,
          0.015134096145629883,
          0.015886306762695312,
          0.016634464263916016,
          0.01739215850830078,
          0.01873636245727539,
          0.019485950469970703,
          0.020230770111083984
         ],
         "hovertemplate": "Task=Iter 7<br>Start=%{base}<br>Finish=%{x}<br>Resource=%{y}<extra></extra>",
         "legendgroup": "Iter 7",
         "marker": {
          "color": "#B6E880",
          "pattern": {
           "shape": ""
          }
         },
         "name": "Iter 7",
         "offsetgroup": "Iter 7",
         "orientation": "h",
         "showlegend": true,
         "textposition": "auto",
         "type": "bar",
         "x": [
          0.000014543533325195312,
          0.000015020370483398438,
          0.000015020370483398438,
          0.0000152587890625,
          0.000014543533325195312,
          0.0000152587890625,
          0.000015497207641601562,
          0.000014543533325195312,
          0.000014781951904296875,
          0.0007262229919433594
         ],
         "xaxis": "x",
         "y": [
          "Node 0",
          "Node 1",
          "Node 2",
          "Node 3",
          "Node 4",
          "Node 5",
          "Node 6",
          "Node 7",
          "Node 8",
          "Node 9"
         ],
         "yaxis": "y"
        },
        {
         "alignmentgroup": "True",
         "base": [
          0.014165878295898438,
          0.015123844146728516,
          0.015898942947387695,
          0.016649484634399414,
          0.017394542694091797,
          0.01874685287475586,
          0.019518136978149414,
          0.02028679847717285,
          0.021040916442871094,
          0.02177119255065918
         ],
         "hovertemplate": "Task=Iter 8<br>Start=%{base}<br>Finish=%{x}<br>Resource=%{y}<extra></extra>",
         "legendgroup": "Iter 8",
         "marker": {
          "color": "#FF97FF",
          "pattern": {
           "shape": ""
          }
         },
         "name": "Iter 8",
         "offsetgroup": "Iter 8",
         "orientation": "h",
         "showlegend": true,
         "textposition": "auto",
         "type": "bar",
         "x": [
          0.000012159347534179688,
          0.000013828277587890625,
          0.000012874603271484375,
          0.00001430511474609375,
          0.000013113021850585938,
          0.000013828277587890625,
          0.00003361701965332031,
          0.000012874603271484375,
          0.000013113021850585938,
          0.0007119178771972656
         ],
         "xaxis": "x",
         "y": [
          "Node 0",
          "Node 1",
          "Node 2",
          "Node 3",
          "Node 4",
          "Node 5",
          "Node 6",
          "Node 7",
          "Node 8",
          "Node 9"
         ],
         "yaxis": "y"
        },
        {
         "alignmentgroup": "True",
         "base": [
          0.015881776809692383,
          0.01665353775024414,
          0.01741313934326172,
          0.01816534996032715,
          0.019491195678710938,
          0.020308494567871094,
          0.02106785774230957,
          0.02180337905883789,
          0.02254009246826172,
          0.023281574249267578
         ],
         "hovertemplate": "Task=Iter 9<br>Start=%{base}<br>Finish=%{x}<br>Resource=%{y}<extra></extra>",
         "legendgroup": "Iter 9",
         "marker": {
          "color": "#FECB52",
          "pattern": {
           "shape": ""
          }
         },
         "name": "Iter 9",
         "offsetgroup": "Iter 9",
         "orientation": "h",
         "showlegend": true,
         "textposition": "auto",
         "type": "bar",
         "x": [
          0.000012159347534179688,
          0.000012874603271484375,
          0.000012636184692382812,
          0.000013828277587890625,
          0.00001239776611328125,
          0.000012636184692382812,
          0.000013589859008789062,
          0.000012159347534179688,
          0.000012159347534179688,
          0.0007154941558837891
         ],
         "xaxis": "x",
         "y": [
          "Node 0",
          "Node 1",
          "Node 2",
          "Node 3",
          "Node 4",
          "Node 5",
          "Node 6",
          "Node 7",
          "Node 8",
          "Node 9"
         ],
         "yaxis": "y"
        },
        {
         "alignmentgroup": "True",
         "base": [
          0.01739645004272461,
          0.01818251609802246,
          0.0189211368560791,
          0.02025151252746582,
          0.02106189727783203,
          0.021823406219482422,
          0.022557735443115234,
          0.02329707145690918,
          0.024050474166870117,
          0.024778366088867188
         ],
         "hovertemplate": "Task=Iter 10<br>Start=%{base}<br>Finish=%{x}<br>Resource=%{y}<extra></extra>",
         "legendgroup": "Iter 10",
         "marker": {
          "color": "#636efa",
          "pattern": {
           "shape": ""
          }
         },
         "name": "Iter 10",
         "offsetgroup": "Iter 10",
         "orientation": "h",
         "showlegend": true,
         "textposition": "auto",
         "type": "bar",
         "x": [
          0.000011682510375976562,
          0.000012874603271484375,
          0.000011682510375976562,
          0.000012636184692382812,
          0.000011920928955078125,
          0.000012159347534179688,
          0.000012636184692382812,
          0.000011920928955078125,
          0.000012159347534179688,
          0.0007059574127197266
         ],
         "xaxis": "x",
         "y": [
          "Node 0",
          "Node 1",
          "Node 2",
          "Node 3",
          "Node 4",
          "Node 5",
          "Node 6",
          "Node 7",
          "Node 8",
          "Node 9"
         ],
         "yaxis": "y"
        },
        {
         "alignmentgroup": "True",
         "base": [
          0.01893901824951172,
          0.019689083099365234,
          0.02100992202758789,
          0.021844863891601562,
          0.02256917953491211,
          0.023334264755249023,
          0.024074792861938477,
          0.024812936782836914,
          0.025550127029418945,
          0.026285648345947266
         ],
         "hovertemplate": "Task=Iter 11<br>Start=%{base}<br>Finish=%{x}<br>Resource=%{y}<extra></extra>",
         "legendgroup": "Iter 11",
         "marker": {
          "color": "#EF553B",
          "pattern": {
           "shape": ""
          }
         },
         "name": "Iter 11",
         "offsetgroup": "Iter 11",
         "orientation": "h",
         "showlegend": true,
         "textposition": "auto",
         "type": "bar",
         "x": [
          0.000011682510375976562,
          0.00001239776611328125,
          0.000013113021850585938,
          0.000012636184692382812,
          0.00001811981201171875,
          0.00001239776611328125,
          0.000012874603271484375,
          0.000012159347534179688,
          0.00001239776611328125,
          0.0007078647613525391
         ],
         "xaxis": "x",
         "y": [
          "Node 0",
          "Node 1",
          "Node 2",
          "Node 3",
          "Node 4",
          "Node 5",
          "Node 6",
          "Node 7",
          "Node 8",
          "Node 9"
         ],
         "yaxis": "y"
        },
        {
         "alignmentgroup": "True",
         "base": [
          0.020445585250854492,
          0.021773338317871094,
          0.0225830078125,
          0.023349285125732422,
          0.024091720581054688,
          0.024843931198120117,
          0.02556753158569336,
          0.026302337646484375,
          0.027042150497436523,
          0.027767181396484375
         ],
         "hovertemplate": "Task=Iter 12<br>Start=%{base}<br>Finish=%{x}<br>Resource=%{y}<extra></extra>",
         "legendgroup": "Iter 12",
         "marker": {
          "color": "#00cc96",
          "pattern": {
           "shape": ""
          }
         },
         "name": "Iter 12",
         "offsetgroup": "Iter 12",
         "orientation": "h",
         "showlegend": true,
         "textposition": "auto",
         "type": "bar",
         "x": [
          0.000011682510375976562,
          0.000011920928955078125,
          0.000012159347534179688,
          0.000012874603271484375,
          0.000013589859008789062,
          0.000011444091796875,
          0.00001239776611328125,
          0.000011444091796875,
          0.000011920928955078125,
          0.0007138252258300781
         ],
         "xaxis": "x",
         "y": [
          "Node 0",
          "Node 1",
          "Node 2",
          "Node 3",
          "Node 4",
          "Node 5",
          "Node 6",
          "Node 7",
          "Node 8",
          "Node 9"
         ],
         "yaxis": "y"
        },
        {
         "alignmentgroup": "True",
         "base": [
          0.022521257400512695,
          0.023345947265625,
          0.024106264114379883,
          0.024866819381713867,
          0.025586366653442383,
          0.02633380889892578,
          0.027065277099609375,
          0.027789592742919922,
          0.02853250503540039,
          0.029270172119140625
         ],
         "hovertemplate": "Task=Iter 13<br>Start=%{base}<br>Finish=%{x}<br>Resource=%{y}<extra></extra>",
         "legendgroup": "Iter 13",
         "marker": {
          "color": "#ab63fa",
          "pattern": {
           "shape": ""
          }
         },
         "name": "Iter 13",
         "offsetgroup": "Iter 13",
         "orientation": "h",
         "showlegend": true,
         "textposition": "auto",
         "type": "bar",
         "x": [
          0.000011444091796875,
          0.00001239776611328125,
          0.000012636184692382812,
          0.00001239776611328125,
          0.000012159347534179688,
          0.000011920928955078125,
          0.000011682510375976562,
          0.000020265579223632812,
          0.000011920928955078125,
          0.0007085800170898438
         ],
         "xaxis": "x",
         "y": [
          "Node 0",
          "Node 1",
          "Node 2",
          "Node 3",
          "Node 4",
          "Node 5",
          "Node 6",
          "Node 7",
          "Node 8",
          "Node 9"
         ],
         "yaxis": "y"
        },
        {
         "alignmentgroup": "True",
         "base": [
          0.024088382720947266,
          0.02488231658935547,
          0.025606632232666016,
          0.026354074478149414,
          0.027082204818725586,
          0.027841567993164062,
          0.028559446334838867,
          0.029293537139892578,
          0.03003692626953125,
          0.03076338768005371
         ],
         "hovertemplate": "Task=Iter 14<br>Start=%{base}<br>Finish=%{x}<br>Resource=%{y}<extra></extra>",
         "legendgroup": "Iter 14",
         "marker": {
          "color": "#FFA15A",
          "pattern": {
           "shape": ""
          }
         },
         "name": "Iter 14",
         "offsetgroup": "Iter 14",
         "orientation": "h",
         "showlegend": true,
         "textposition": "auto",
         "type": "bar",
         "x": [
          0.000011205673217773438,
          0.000012159347534179688,
          0.00001239776611328125,
          0.000011682510375976562,
          0.000012874603271484375,
          0.000011920928955078125,
          0.000011682510375976562,
          0.000011682510375976562,
          0.000012159347534179688,
          0.0007092952728271484
         ],
         "xaxis": "x",
         "y": [
          "Node 0",
          "Node 1",
          "Node 2",
          "Node 3",
          "Node 4",
          "Node 5",
          "Node 6",
          "Node 7",
          "Node 8",
          "Node 9"
         ],
         "yaxis": "y"
        },
        {
         "alignmentgroup": "True",
         "base": [
          0.025623559951782227,
          0.02637028694152832,
          0.027106046676635742,
          0.0278627872467041,
          0.028580427169799805,
          0.029329538345336914,
          0.03005838394165039,
          0.03078484535217285,
          0.03152966499328613,
          0.03225827217102051
         ],
         "hovertemplate": "Task=Iter 15<br>Start=%{base}<br>Finish=%{x}<br>Resource=%{y}<extra></extra>",
         "legendgroup": "Iter 15",
         "marker": {
          "color": "#19d3f3",
          "pattern": {
           "shape": ""
          }
         },
         "name": "Iter 15",
         "offsetgroup": "Iter 15",
         "orientation": "h",
         "showlegend": true,
         "textposition": "auto",
         "type": "bar",
         "x": [
          0.000011920928955078125,
          0.000011682510375976562,
          0.000012159347534179688,
          0.00001239776611328125,
          0.000012636184692382812,
          0.000011444091796875,
          0.000011682510375976562,
          0.000018358230590820312,
          0.00001239776611328125,
          0.0007102489471435547
         ],
         "xaxis": "x",
         "y": [
          "Node 0",
          "Node 1",
          "Node 2",
          "Node 3",
          "Node 4",
          "Node 5",
          "Node 6",
          "Node 7",
          "Node 8",
          "Node 9"
         ],
         "yaxis": "y"
        },
        {
         "alignmentgroup": "True",
         "base": [
          0.02710890769958496,
          0.027887582778930664,
          0.02860879898071289,
          0.029358863830566406,
          0.03009033203125,
          0.03084540367126465,
          0.03156304359436035,
          0.03229570388793945,
          0.03302907943725586,
          0.03375840187072754
         ],
         "hovertemplate": "Task=Iter 16<br>Start=%{base}<br>Finish=%{x}<br>Resource=%{y}<extra></extra>",
         "legendgroup": "Iter 16",
         "marker": {
          "color": "#FF6692",
          "pattern": {
           "shape": ""
          }
         },
         "name": "Iter 16",
         "offsetgroup": "Iter 16",
         "orientation": "h",
         "showlegend": true,
         "textposition": "auto",
         "type": "bar",
         "x": [
          0.000011444091796875,
          0.000011682510375976562,
          0.000011920928955078125,
          0.000012874603271484375,
          0.000012159347534179688,
          0.000011920928955078125,
          0.000011920928955078125,
          0.000011205673217773438,
          0.000011682510375976562,
          0.000705718994140625
         ],
         "xaxis": "x",
         "y": [
          "Node 0",
          "Node 1",
          "Node 2",
          "Node 3",
          "Node 4",
          "Node 5",
          "Node 6",
          "Node 7",
          "Node 8",
          "Node 9"
         ],
         "yaxis": "y"
        },
        {
         "alignmentgroup": "True",
         "base": [
          0.0286257266998291,
          0.029378414154052734,
          0.030115365982055664,
          0.03086686134338379,
          0.031583309173583984,
          0.03232145309448242,
          0.03305459022521973,
          0.03377890586853027,
          0.034520626068115234,
          0.03525066375732422
         ],
         "hovertemplate": "Task=Iter 17<br>Start=%{base}<br>Finish=%{x}<br>Resource=%{y}<extra></extra>",
         "legendgroup": "Iter 17",
         "marker": {
          "color": "#B6E880",
          "pattern": {
           "shape": ""
          }
         },
         "name": "Iter 17",
         "offsetgroup": "Iter 17",
         "orientation": "h",
         "showlegend": true,
         "textposition": "auto",
         "type": "bar",
         "x": [
          0.000010728836059570312,
          0.000011444091796875,
          0.000012159347534179688,
          0.000011682510375976562,
          0.000011444091796875,
          0.000011205673217773438,
          0.000011682510375976562,
          0.000011444091796875,
          0.000011444091796875,
          0.0007102489471435547
         ],
         "xaxis": "x",
         "y": [
          "Node 0",
          "Node 1",
          "Node 2",
          "Node 3",
          "Node 4",
          "Node 5",
          "Node 6",
          "Node 7",
          "Node 8",
          "Node 9"
         ],
         "yaxis": "y"
        },
        {
         "alignmentgroup": "True",
         "base": [
          0.03011918067932129,
          0.03089141845703125,
          0.03161001205444336,
          0.03235745429992676,
          0.03308844566345215,
          0.0338289737701416,
          0.034548044204711914,
          0.035279035568237305,
          0.03601408004760742,
          0.036746978759765625
         ],
         "hovertemplate": "Task=Iter 18<br>Start=%{base}<br>Finish=%{x}<br>Resource=%{y}<extra></extra>",
         "legendgroup": "Iter 18",
         "marker": {
          "color": "#FF97FF",
          "pattern": {
           "shape": ""
          }
         },
         "name": "Iter 18",
         "offsetgroup": "Iter 18",
         "orientation": "h",
         "showlegend": true,
         "textposition": "auto",
         "type": "bar",
         "x": [
          0.000012159347534179688,
          0.000011920928955078125,
          0.000012874603271484375,
          0.000012874603271484375,
          0.00001239776611328125,
          0.000012159347534179688,
          0.000011920928955078125,
          0.000011682510375976562,
          0.000012159347534179688,
          0.0007061958312988281
         ],
         "xaxis": "x",
         "y": [
          "Node 0",
          "Node 1",
          "Node 2",
          "Node 3",
          "Node 4",
          "Node 5",
          "Node 6",
          "Node 7",
          "Node 8",
          "Node 9"
         ],
         "yaxis": "y"
        },
        {
         "alignmentgroup": "True",
         "base": [
          0.03162574768066406,
          0.03237557411193848,
          0.0331113338470459,
          0.033869028091430664,
          0.03458547592163086,
          0.035329580307006836,
          0.036051273345947266,
          0.03677964210510254,
          0.03752326965332031,
          0.03825664520263672
         ],
         "hovertemplate": "Task=Iter 19<br>Start=%{base}<br>Finish=%{x}<br>Resource=%{y}<extra></extra>",
         "legendgroup": "Iter 19",
         "marker": {
          "color": "#FECB52",
          "pattern": {
           "shape": ""
          }
         },
         "name": "Iter 19",
         "offsetgroup": "Iter 19",
         "orientation": "h",
         "showlegend": true,
         "textposition": "auto",
         "type": "bar",
         "x": [
          0.000011205673217773438,
          0.000011682510375976562,
          0.000011920928955078125,
          0.000011920928955078125,
          0.000011444091796875,
          0.000010967254638671875,
          0.000011205673217773438,
          0.00002002716064453125,
          0.000011682510375976562,
          0.0007100105285644531
         ],
         "xaxis": "x",
         "y": [
          "Node 0",
          "Node 1",
          "Node 2",
          "Node 3",
          "Node 4",
          "Node 5",
          "Node 6",
          "Node 7",
          "Node 8",
          "Node 9"
         ],
         "yaxis": "y"
        },
        {
         "alignmentgroup": "True",
         "base": [
          0.03310751914978027,
          0.03388524055480957,
          0.034603118896484375,
          0.03535032272338867,
          0.03608226776123047,
          0.03683137893676758,
          0.03755044937133789,
          0.0382843017578125,
          0.03901958465576172,
          0.0397489070892334
         ],
         "hovertemplate": "Task=Iter 20<br>Start=%{base}<br>Finish=%{x}<br>Resource=%{y}<extra></extra>",
         "legendgroup": "Iter 20",
         "marker": {
          "color": "#636efa",
          "pattern": {
           "shape": ""
          }
         },
         "name": "Iter 20",
         "offsetgroup": "Iter 20",
         "orientation": "h",
         "showlegend": true,
         "textposition": "auto",
         "type": "bar",
         "x": [
          0.000011444091796875,
          0.000011444091796875,
          0.000011444091796875,
          0.000011682510375976562,
          0.000011920928955078125,
          0.000010967254638671875,
          0.000011444091796875,
          0.000011682510375976562,
          0.000011444091796875,
          0.0007061958312988281
         ],
         "xaxis": "x",
         "y": [
          "Node 0",
          "Node 1",
          "Node 2",
          "Node 3",
          "Node 4",
          "Node 5",
          "Node 6",
          "Node 7",
          "Node 8",
          "Node 9"
         ],
         "yaxis": "y"
        },
        {
         "alignmentgroup": "True",
         "base": [
          0.034619808197021484,
          0.03537344932556152,
          0.03611111640930176,
          0.03686118125915527,
          0.03757500648498535,
          0.03830766677856445,
          0.03904247283935547,
          0.03976893424987793,
          0.040508270263671875,
          0.04123568534851074
         ],
         "hovertemplate": "Task=Iter 21<br>Start=%{base}<br>Finish=%{x}<br>Resource=%{y}<extra></extra>",
         "legendgroup": "Iter 21",
         "marker": {
          "color": "#EF553B",
          "pattern": {
           "shape": ""
          }
         },
         "name": "Iter 21",
         "offsetgroup": "Iter 21",
         "orientation": "h",
         "showlegend": true,
         "textposition": "auto",
         "type": "bar",
         "x": [
          0.000011920928955078125,
          0.000014066696166992188,
          0.000012159347534179688,
          0.000011682510375976562,
          0.000011682510375976562,
          0.000010967254638671875,
          0.000011682510375976562,
          0.000011444091796875,
          0.000011682510375976562,
          0.0007064342498779297
         ],
         "xaxis": "x",
         "y": [
          "Node 0",
          "Node 1",
          "Node 2",
          "Node 3",
          "Node 4",
          "Node 5",
          "Node 6",
          "Node 7",
          "Node 8",
          "Node 9"
         ],
         "yaxis": "y"
        },
        {
         "alignmentgroup": "True",
         "base": [
          0.03611397743225098,
          0.03688311576843262,
          0.03759574890136719,
          0.03834223747253418,
          0.03906869888305664,
          0.039804935455322266,
          0.040525197982788086,
          0.04125499725341797,
          0.041994571685791016,
          0.04272055625915527
         ],
         "hovertemplate": "Task=Iter 22<br>Start=%{base}<br>Finish=%{x}<br>Resource=%{y}<extra></extra>",
         "legendgroup": "Iter 22",
         "marker": {
          "color": "#00cc96",
          "pattern": {
           "shape": ""
          }
         },
         "name": "Iter 22",
         "offsetgroup": "Iter 22",
         "orientation": "h",
         "showlegend": true,
         "textposition": "auto",
         "type": "bar",
         "x": [
          0.000011682510375976562,
          0.000011444091796875,
          0.000011682510375976562,
          0.000012159347534179688,
          0.000011920928955078125,
          0.000011444091796875,
          0.000011205673217773438,
          0.000011205673217773438,
          0.000011682510375976562,
          0.0007092952728271484
         ],
         "xaxis": "x",
         "y": [
          "Node 0",
          "Node 1",
          "Node 2",
          "Node 3",
          "Node 4",
          "Node 5",
          "Node 6",
          "Node 7",
          "Node 8",
          "Node 9"
         ],
         "yaxis": "y"
        },
        {
         "alignmentgroup": "True",
         "base": [
          0.0376129150390625,
          0.03835892677307129,
          0.03909158706665039,
          0.03984332084655762,
          0.04055428504943848,
          0.04128384590148926,
          0.04201650619506836,
          0.0427393913269043,
          0.043488502502441406,
          0.04421496391296387
         ],
         "hovertemplate": "Task=Iter 23<br>Start=%{base}<br>Finish=%{x}<br>Resource=%{y}<extra></extra>",
         "legendgroup": "Iter 23",
         "marker": {
          "color": "#ab63fa",
          "pattern": {
           "shape": ""
          }
         },
         "name": "Iter 23",
         "offsetgroup": "Iter 23",
         "orientation": "h",
         "showlegend": true,
         "textposition": "auto",
         "type": "bar",
         "x": [
          0.000011205673217773438,
          0.000011205673217773438,
          0.000011444091796875,
          0.000011682510375976562,
          0.000011444091796875,
          0.000011444091796875,
          0.000011682510375976562,
          0.000011205673217773438,
          0.000011682510375976562,
          0.0007042884826660156
         ],
         "xaxis": "x",
         "y": [
          "Node 0",
          "Node 1",
          "Node 2",
          "Node 3",
          "Node 4",
          "Node 5",
          "Node 6",
          "Node 7",
          "Node 8",
          "Node 9"
         ],
         "yaxis": "y"
        },
        {
         "alignmentgroup": "True",
         "base": [
          0.03908681869506836,
          0.03986072540283203,
          0.04057908058166504,
          0.04132843017578125,
          0.04206252098083496,
          0.042798519134521484,
          0.04351496696472168,
          0.044237375259399414,
          0.044969797134399414,
          0.04569435119628906
         ],
         "hovertemplate": "Task=Iter 24<br>Start=%{base}<br>Finish=%{x}<br>Resource=%{y}<extra></extra>",
         "legendgroup": "Iter 24",
         "marker": {
          "color": "#FFA15A",
          "pattern": {
           "shape": ""
          }
         },
         "name": "Iter 24",
         "offsetgroup": "Iter 24",
         "orientation": "h",
         "showlegend": true,
         "textposition": "auto",
         "type": "bar",
         "x": [
          0.000011444091796875,
          0.000011920928955078125,
          0.000011920928955078125,
          0.000012636184692382812,
          0.000011920928955078125,
          0.000011205673217773438,
          0.000011444091796875,
          0.000011444091796875,
          0.000011682510375976562,
          0.0007050037384033203
         ],
         "xaxis": "x",
         "y": [
          "Node 0",
          "Node 1",
          "Node 2",
          "Node 3",
          "Node 4",
          "Node 5",
          "Node 6",
          "Node 7",
          "Node 8",
          "Node 9"
         ],
         "yaxis": "y"
        },
        {
         "alignmentgroup": "True",
         "base": [
          0.04059576988220215,
          0.041344404220581055,
          0.042088985443115234,
          0.04283952713012695,
          0.04355359077453613,
          0.044286251068115234,
          0.04500126838684082,
          0.04572463035583496,
          0.04646110534667969,
          0.047185659408569336
         ],
         "hovertemplate": "Task=Iter 25<br>Start=%{base}<br>Finish=%{x}<br>Resource=%{y}<extra></extra>",
         "legendgroup": "Iter 25",
         "marker": {
          "color": "#19d3f3",
          "pattern": {
           "shape": ""
          }
         },
         "name": "Iter 25",
         "offsetgroup": "Iter 25",
         "orientation": "h",
         "showlegend": true,
         "textposition": "auto",
         "type": "bar",
         "x": [
          0.000011444091796875,
          0.000011682510375976562,
          0.000012159347534179688,
          0.000011920928955078125,
          0.000011444091796875,
          0.000010967254638671875,
          0.000011205673217773438,
          0.000011444091796875,
          0.000011444091796875,
          0.0007097721099853516
         ],
         "xaxis": "x",
         "y": [
          "Node 0",
          "Node 1",
          "Node 2",
          "Node 3",
          "Node 4",
          "Node 5",
          "Node 6",
          "Node 7",
          "Node 8",
          "Node 9"
         ],
         "yaxis": "y"
        },
        {
         "alignmentgroup": "True",
         "base": [
          0.042078256607055664,
          0.04285573959350586,
          0.04357314109802246,
          0.044319868087768555,
          0.0450441837310791,
          0.04580831527709961,
          0.046523094177246094,
          0.04725146293640137,
          0.04798078536987305,
          0.0487060546875
         ],
         "hovertemplate": "Task=Iter 26<br>Start=%{base}<br>Finish=%{x}<br>Resource=%{y}<extra></extra>",
         "legendgroup": "Iter 26",
         "marker": {
          "color": "#FF6692",
          "pattern": {
           "shape": ""
          }
         },
         "name": "Iter 26",
         "offsetgroup": "Iter 26",
         "orientation": "h",
         "showlegend": true,
         "textposition": "auto",
         "type": "bar",
         "x": [
          0.000011205673217773438,
          0.000011205673217773438,
          0.000011205673217773438,
          0.000011444091796875,
          0.000012159347534179688,
          0.000011205673217773438,
          0.000011920928955078125,
          0.000011444091796875,
          0.000011444091796875,
          0.0007059574127197266
         ],
         "xaxis": "x",
         "y": [
          "Node 0",
          "Node 1",
          "Node 2",
          "Node 3",
          "Node 4",
          "Node 5",
          "Node 6",
          "Node 7",
          "Node 8",
          "Node 9"
         ],
         "yaxis": "y"
        },
        {
         "alignmentgroup": "True",
         "base": [
          0.04358959197998047,
          0.04433631896972656,
          0.045068979263305664,
          0.04582786560058594,
          0.046553611755371094,
          0.04729509353637695,
          0.04802441596984863,
          0.04875612258911133,
          0.04949760437011719,
          0.0502321720123291
         ],
         "hovertemplate": "Task=Iter 27<br>Start=%{base}<br>Finish=%{x}<br>Resource=%{y}<extra></extra>",
         "legendgroup": "Iter 27",
         "marker": {
          "color": "#B6E880",
          "pattern": {
           "shape": ""
          }
         },
         "name": "Iter 27",
         "offsetgroup": "Iter 27",
         "orientation": "h",
         "showlegend": true,
         "textposition": "auto",
         "type": "bar",
         "x": [
          0.000011444091796875,
          0.000010967254638671875,
          0.000011205673217773438,
          0.000012159347534179688,
          0.000011444091796875,
          0.000011205673217773438,
          0.000011682510375976562,
          0.000011444091796875,
          0.000011920928955078125,
          0.0007064342498779297
         ],
         "xaxis": "x",
         "y": [
          "Node 0",
          "Node 1",
          "Node 2",
          "Node 3",
          "Node 4",
          "Node 5",
          "Node 6",
          "Node 7",
          "Node 8",
          "Node 9"
         ],
         "yaxis": "y"
        },
        {
         "alignmentgroup": "True",
         "base": [
          0.04507184028625488,
          0.04584336280822754,
          0.0465693473815918,
          0.047313690185546875,
          0.04805278778076172,
          0.0487821102142334,
          0.049515485763549805,
          0.050251007080078125,
          0.050981998443603516,
          0.05170726776123047
         ],
         "hovertemplate": "Task=Iter 28<br>Start=%{base}<br>Finish=%{x}<br>Resource=%{y}<extra></extra>",
         "legendgroup": "Iter 28",
         "marker": {
          "color": "#FF97FF",
          "pattern": {
           "shape": ""
          }
         },
         "name": "Iter 28",
         "offsetgroup": "Iter 28",
         "orientation": "h",
         "showlegend": true,
         "textposition": "auto",
         "type": "bar",
         "x": [
          0.000011444091796875,
          0.000011682510375976562,
          0.000011920928955078125,
          0.000011682510375976562,
          0.000011444091796875,
          0.0000171661376953125,
          0.000011205673217773438,
          0.000011682510375976562,
          0.000011205673217773438,
          0.0007064342498779297
         ],
         "xaxis": "x",
         "y": [
          "Node 0",
          "Node 1",
          "Node 2",
          "Node 3",
          "Node 4",
          "Node 5",
          "Node 6",
          "Node 7",
          "Node 8",
          "Node 9"
         ],
         "yaxis": "y"
        },
        {
         "alignmentgroup": "True",
         "base": [
          0.04657745361328125,
          0.04733014106750488,
          0.0480649471282959,
          0.048812150955200195,
          0.04952669143676758,
          0.0502619743347168,
          0.05100417137145996,
          0.05172538757324219,
          0.05246233940124512,
          0.053186893463134766
         ],
         "hovertemplate": "Task=Iter 29<br>Start=%{base}<br>Finish=%{x}<br>Resource=%{y}<extra></extra>",
         "legendgroup": "Iter 29",
         "marker": {
          "color": "#FECB52",
          "pattern": {
           "shape": ""
          }
         },
         "name": "Iter 29",
         "offsetgroup": "Iter 29",
         "orientation": "h",
         "showlegend": true,
         "textposition": "auto",
         "type": "bar",
         "x": [
          0.000011205673217773438,
          0.000011444091796875,
          0.000012159347534179688,
          0.000011682510375976562,
          0.000011205673217773438,
          0.000011444091796875,
          0.000011682510375976562,
          0.000011444091796875,
          0.000011682510375976562,
          0.000705718994140625
         ],
         "xaxis": "x",
         "y": [
          "Node 0",
          "Node 1",
          "Node 2",
          "Node 3",
          "Node 4",
          "Node 5",
          "Node 6",
          "Node 7",
          "Node 8",
          "Node 9"
         ],
         "yaxis": "y"
        },
        {
         "alignmentgroup": "True",
         "base": [
          0.04806160926818848,
          0.048829078674316406,
          0.04954862594604492,
          0.05029177665710449,
          0.05101752281188965,
          0.051744937896728516,
          0.05246925354003906,
          0.05320096015930176,
          0.053934574127197266,
          0.0546574592590332
         ],
         "hovertemplate": "Task=Iter 30<br>Start=%{base}<br>Finish=%{x}<br>Resource=%{y}<extra></extra>",
         "legendgroup": "Iter 30",
         "marker": {
          "color": "#636efa",
          "pattern": {
           "shape": ""
          }
         },
         "name": "Iter 30",
         "offsetgroup": "Iter 30",
         "orientation": "h",
         "showlegend": true,
         "textposition": "auto",
         "type": "bar",
         "x": [
          0.000010967254638671875,
          0.000011444091796875,
          0.000011444091796875,
          0.000011444091796875,
          0.000011444091796875,
          0.000010967254638671875,
          0.000010728836059570312,
          0.000011205673217773438,
          0.000011682510375976562,
          0.0007059574127197266
         ],
         "xaxis": "x",
         "y": [
          "Node 0",
          "Node 1",
          "Node 2",
          "Node 3",
          "Node 4",
          "Node 5",
          "Node 6",
          "Node 7",
          "Node 8",
          "Node 9"
         ],
         "yaxis": "y"
        },
        {
         "alignmentgroup": "True",
         "base": [
          0.04954981803894043,
          0.050306081771850586,
          0.05102682113647461,
          0.051766395568847656,
          0.052484750747680664,
          0.05321502685546875,
          0.05394911766052246,
          0.054665327072143555,
          0.05541348457336426,
          0.05614495277404785
         ],
         "hovertemplate": "Task=Iter 31<br>Start=%{base}<br>Finish=%{x}<br>Resource=%{y}<extra></extra>",
         "legendgroup": "Iter 31",
         "marker": {
          "color": "#EF553B",
          "pattern": {
           "shape": ""
          }
         },
         "name": "Iter 31",
         "offsetgroup": "Iter 31",
         "orientation": "h",
         "showlegend": true,
         "textposition": "auto",
         "type": "bar",
         "x": [
          0.000011205673217773438,
          0.000011205673217773438,
          0.000011444091796875,
          0.000011444091796875,
          0.000012159347534179688,
          0.000010967254638671875,
          0.000011205673217773438,
          0.000010967254638671875,
          0.000011682510375976562,
          0.0007026195526123047
         ],
         "xaxis": "x",
         "y": [
          "Node 0",
          "Node 1",
          "Node 2",
          "Node 3",
          "Node 4",
          "Node 5",
          "Node 6",
          "Node 7",
          "Node 8",
          "Node 9"
         ],
         "yaxis": "y"
        },
        {
         "alignmentgroup": "True",
         "base": [
          0.05104207992553711,
          0.05177712440490723,
          0.052500009536743164,
          0.05324053764343262,
          0.053958892822265625,
          0.05467820167541504,
          0.05541372299194336,
          0.05615234375,
          0.05689048767089844,
          0.05760550498962402
         ],
         "hovertemplate": "Task=Iter 32<br>Start=%{base}<br>Finish=%{x}<br>Resource=%{y}<extra></extra>",
         "legendgroup": "Iter 32",
         "marker": {
          "color": "#00cc96",
          "pattern": {
           "shape": ""
          }
         },
         "name": "Iter 32",
         "offsetgroup": "Iter 32",
         "orientation": "h",
         "showlegend": true,
         "textposition": "auto",
         "type": "bar",
         "x": [
          0.000010967254638671875,
          0.000010967254638671875,
          0.000011205673217773438,
          0.000011682510375976562,
          0.000011444091796875,
          0.00001049041748046875,
          0.000011205673217773438,
          0.000011205673217773438,
          0.000010967254638671875,
          0.0007064342498779297
         ],
         "xaxis": "x",
         "y": [
          "Node 0",
          "Node 1",
          "Node 2",
          "Node 3",
          "Node 4",
          "Node 5",
          "Node 6",
          "Node 7",
          "Node 8",
          "Node 9"
         ],
         "yaxis": "y"
        },
        {
         "alignmentgroup": "True",
         "base": [
          0.05250358581542969,
          0.053263187408447266,
          0.053981781005859375,
          0.05471086502075195,
          0.055434226989746094,
          0.056162357330322266,
          0.056893348693847656,
          0.05762124061584473,
          0.058355093002319336,
          0.059082984924316406
         ],
         "hovertemplate": "Task=Iter 33<br>Start=%{base}<br>Finish=%{x}<br>Resource=%{y}<extra></extra>",
         "legendgroup": "Iter 33",
         "marker": {
          "color": "#ab63fa",
          "pattern": {
           "shape": ""
          }
         },
         "name": "Iter 33",
         "offsetgroup": "Iter 33",
         "orientation": "h",
         "showlegend": true,
         "textposition": "auto",
         "type": "bar",
         "x": [
          0.000011920928955078125,
          0.000011682510375976562,
          0.000011920928955078125,
          0.000011920928955078125,
          0.000012159347534179688,
          0.000012159347534179688,
          0.000011444091796875,
          0.000011920928955078125,
          0.000011682510375976562,
          0.0007054805755615234
         ],
         "xaxis": "x",
         "y": [
          "Node 0",
          "Node 1",
          "Node 2",
          "Node 3",
          "Node 4",
          "Node 5",
          "Node 6",
          "Node 7",
          "Node 8",
          "Node 9"
         ],
         "yaxis": "y"
        },
        {
         "alignmentgroup": "True",
         "base": [
          0.053992271423339844,
          0.05472850799560547,
          0.055455923080444336,
          0.05619335174560547,
          0.05691242218017578,
          0.057633161544799805,
          0.05836939811706543,
          0.05909895896911621,
          0.05983543395996094,
          0.060552120208740234
         ],
         "hovertemplate": "Task=Iter 34<br>Start=%{base}<br>Finish=%{x}<br>Resource=%{y}<extra></extra>",
         "legendgroup": "Iter 34",
         "marker": {
          "color": "#FFA15A",
          "pattern": {
           "shape": ""
          }
         },
         "name": "Iter 34",
         "offsetgroup": "Iter 34",
         "orientation": "h",
         "showlegend": true,
         "textposition": "auto",
         "type": "bar",
         "x": [
          0.000011205673217773438,
          0.000011205673217773438,
          0.000011682510375976562,
          0.000011682510375976562,
          0.000010967254638671875,
          0.000011205673217773438,
          0.000010967254638671875,
          0.000011205673217773438,
          0.000011205673217773438,
          0.0007059574127197266
         ],
         "xaxis": "x",
         "y": [
          "Node 0",
          "Node 1",
          "Node 2",
          "Node 3",
          "Node 4",
          "Node 5",
          "Node 6",
          "Node 7",
          "Node 8",
          "Node 9"
         ],
         "yaxis": "y"
        },
        {
         "alignmentgroup": "True",
         "base": [
          0.055466651916503906,
          0.05621194839477539,
          0.05693364143371582,
          0.057663917541503906,
          0.05838179588317871,
          0.05910897254943848,
          0.059839725494384766,
          0.06056785583496094,
          0.06130647659301758,
          0.06203198432922363
         ],
         "hovertemplate": "Task=Iter 35<br>Start=%{base}<br>Finish=%{x}<br>Resource=%{y}<extra></extra>",
         "legendgroup": "Iter 35",
         "marker": {
          "color": "#19d3f3",
          "pattern": {
           "shape": ""
          }
         },
         "name": "Iter 35",
         "offsetgroup": "Iter 35",
         "orientation": "h",
         "showlegend": true,
         "textposition": "auto",
         "type": "bar",
         "x": [
          0.000010967254638671875,
          0.000011682510375976562,
          0.000010967254638671875,
          0.000011444091796875,
          0.000011444091796875,
          0.000011205673217773438,
          0.000011205673217773438,
          0.000011205673217773438,
          0.000011205673217773438,
          0.0007023811340332031
         ],
         "xaxis": "x",
         "y": [
          "Node 0",
          "Node 1",
          "Node 2",
          "Node 3",
          "Node 4",
          "Node 5",
          "Node 6",
          "Node 7",
          "Node 8",
          "Node 9"
         ],
         "yaxis": "y"
        },
        {
         "alignmentgroup": "True",
         "base": [
          0.056943416595458984,
          0.05768132209777832,
          0.05839848518371582,
          0.05913376808166504,
          0.05985522270202637,
          0.06057548522949219,
          0.061309814453125,
          0.06204628944396973,
          0.06277608871459961,
          0.06350016593933105
         ],
         "hovertemplate": "Task=Iter 36<br>Start=%{base}<br>Finish=%{x}<br>Resource=%{y}<extra></extra>",
         "legendgroup": "Iter 36",
         "marker": {
          "color": "#FF6692",
          "pattern": {
           "shape": ""
          }
         },
         "name": "Iter 36",
         "offsetgroup": "Iter 36",
         "orientation": "h",
         "showlegend": true,
         "textposition": "auto",
         "type": "bar",
         "x": [
          0.000010967254638671875,
          0.000010967254638671875,
          0.000011682510375976562,
          0.000011444091796875,
          0.000011444091796875,
          0.00001049041748046875,
          0.000010967254638671875,
          0.000011444091796875,
          0.000011205673217773438,
          0.0007207393646240234
         ],
         "xaxis": "x",
         "y": [
          "Node 0",
          "Node 1",
          "Node 2",
          "Node 3",
          "Node 4",
          "Node 5",
          "Node 6",
          "Node 7",
          "Node 8",
          "Node 9"
         ],
         "yaxis": "y"
        },
        {
         "alignmentgroup": "True",
         "base": [
          0.05840754508972168,
          0.05915331840515137,
          0.05987262725830078,
          0.06060194969177246,
          0.06132078170776367,
          0.06204938888549805,
          0.06278491020202637,
          0.06351542472839355,
          0.06426167488098145,
          0.0649862289428711
         ],
         "hovertemplate": "Task=Iter 37<br>Start=%{base}<br>Finish=%{x}<br>Resource=%{y}<extra></extra>",
         "legendgroup": "Iter 37",
         "marker": {
          "color": "#B6E880",
          "pattern": {
           "shape": ""
          }
         },
         "name": "Iter 37",
         "offsetgroup": "Iter 37",
         "orientation": "h",
         "showlegend": true,
         "textposition": "auto",
         "type": "bar",
         "x": [
          0.000010967254638671875,
          0.000010967254638671875,
          0.000011682510375976562,
          0.000011444091796875,
          0.000011205673217773438,
          0.000010967254638671875,
          0.000017642974853515625,
          0.000011205673217773438,
          0.000011444091796875,
          0.0006997585296630859
         ],
         "xaxis": "x",
         "y": [
          "Node 0",
          "Node 1",
          "Node 2",
          "Node 3",
          "Node 4",
          "Node 5",
          "Node 6",
          "Node 7",
          "Node 8",
          "Node 9"
         ],
         "yaxis": "y"
        },
        {
         "alignmentgroup": "True",
         "base": [
          0.059882402420043945,
          0.060622453689575195,
          0.061341285705566406,
          0.06207418441772461,
          0.06278657913208008,
          0.0635216236114502,
          0.06426310539245605,
          0.06500029563903809,
          0.06573009490966797,
          0.06645488739013672
         ],
         "hovertemplate": "Task=Iter 38<br>Start=%{base}<br>Finish=%{x}<br>Resource=%{y}<extra></extra>",
         "legendgroup": "Iter 38",
         "marker": {
          "color": "#FF97FF",
          "pattern": {
           "shape": ""
          }
         },
         "name": "Iter 38",
         "offsetgroup": "Iter 38",
         "orientation": "h",
         "showlegend": true,
         "textposition": "auto",
         "type": "bar",
         "x": [
          0.000011205673217773438,
          0.000010967254638671875,
          0.000010967254638671875,
          0.000011444091796875,
          0.000017642974853515625,
          0.000010728836059570312,
          0.000010967254638671875,
          0.000010967254638671875,
          0.000010967254638671875,
          0.0007061958312988281
         ],
         "xaxis": "x",
         "y": [
          "Node 0",
          "Node 1",
          "Node 2",
          "Node 3",
          "Node 4",
          "Node 5",
          "Node 6",
          "Node 7",
          "Node 8",
          "Node 9"
         ],
         "yaxis": "y"
        },
        {
         "alignmentgroup": "True",
         "base": [
          0.06135201454162598,
          0.06209588050842285,
          0.0628194808959961,
          0.06355929374694824,
          0.06427907943725586,
          0.06501007080078125,
          0.0657353401184082,
          0.06646895408630371,
          0.06720948219299316,
          0.06794071197509766
         ],
         "hovertemplate": "Task=Iter 39<br>Start=%{base}<br>Finish=%{x}<br>Resource=%{y}<extra></extra>",
         "legendgroup": "Iter 39",
         "marker": {
          "color": "#FECB52",
          "pattern": {
           "shape": ""
          }
         },
         "name": "Iter 39",
         "offsetgroup": "Iter 39",
         "orientation": "h",
         "showlegend": true,
         "textposition": "auto",
         "type": "bar",
         "x": [
          0.000010967254638671875,
          0.000010967254638671875,
          0.000011444091796875,
          0.000011444091796875,
          0.000011920928955078125,
          0.000010967254638671875,
          0.000011205673217773438,
          0.000010967254638671875,
          0.000011682510375976562,
          0.0006992816925048828
         ],
         "xaxis": "x",
         "y": [
          "Node 0",
          "Node 1",
          "Node 2",
          "Node 3",
          "Node 4",
          "Node 5",
          "Node 6",
          "Node 7",
          "Node 8",
          "Node 9"
         ],
         "yaxis": "y"
        },
        {
         "alignmentgroup": "True",
         "base": [
          0.06282949447631836,
          0.06358098983764648,
          0.06431078910827637,
          0.06504678726196289,
          0.06576085090637207,
          0.06648874282836914,
          0.0672147274017334,
          0.06795525550842285,
          0.06868147850036621,
          0.06940269470214844
         ],
         "hovertemplate": "Task=Iter 40<br>Start=%{base}<br>Finish=%{x}<br>Resource=%{y}<extra></extra>",
         "legendgroup": "Iter 40",
         "marker": {
          "color": "#636efa",
          "pattern": {
           "shape": ""
          }
         },
         "name": "Iter 40",
         "offsetgroup": "Iter 40",
         "orientation": "h",
         "showlegend": true,
         "textposition": "auto",
         "type": "bar",
         "x": [
          0.000010967254638671875,
          0.000012159347534179688,
          0.000011682510375976562,
          0.000011920928955078125,
          0.000010967254638671875,
          0.000010728836059570312,
          0.000010728836059570312,
          0.000011205673217773438,
          0.000011444091796875,
          0.000705718994140625
         ],
         "xaxis": "x",
         "y": [
          "Node 0",
          "Node 1",
          "Node 2",
          "Node 3",
          "Node 4",
          "Node 5",
          "Node 6",
          "Node 7",
          "Node 8",
          "Node 9"
         ],
         "yaxis": "y"
        },
        {
         "alignmentgroup": "True",
         "base": [
          0.06432127952575684,
          0.06507086753845215,
          0.06578421592712402,
          0.06652140617370605,
          0.0672445297241211,
          0.06798219680786133,
          0.06869769096374512,
          0.06941938400268555,
          0.07015037536621094,
          0.07087564468383789
         ],
         "hovertemplate": "Task=Iter 41<br>Start=%{base}<br>Finish=%{x}<br>Resource=%{y}<extra></extra>",
         "legendgroup": "Iter 41",
         "marker": {
          "color": "#EF553B",
          "pattern": {
           "shape": ""
          }
         },
         "name": "Iter 41",
         "offsetgroup": "Iter 41",
         "orientation": "h",
         "showlegend": true,
         "textposition": "auto",
         "type": "bar",
         "x": [
          0.000010967254638671875,
          0.000011682510375976562,
          0.000017404556274414062,
          0.000011444091796875,
          0.000011444091796875,
          0.000011205673217773438,
          0.000010967254638671875,
          0.000011444091796875,
          0.000011682510375976562,
          0.0007016658782958984
         ],
         "xaxis": "x",
         "y": [
          "Node 0",
          "Node 1",
          "Node 2",
          "Node 3",
          "Node 4",
          "Node 5",
          "Node 6",
          "Node 7",
          "Node 8",
          "Node 9"
         ],
         "yaxis": "y"
        },
        {
         "alignmentgroup": "True",
         "base": [
          0.06579875946044922,
          0.06653833389282227,
          0.0672609806060791,
          0.06799888610839844,
          0.06871414184570312,
          0.0694437026977539,
          0.07016682624816895,
          0.07089114189147949,
          0.07161855697631836,
          0.0723412036895752
         ],
         "hovertemplate": "Task=Iter 42<br>Start=%{base}<br>Finish=%{x}<br>Resource=%{y}<extra></extra>",
         "legendgroup": "Iter 42",
         "marker": {
          "color": "#00cc96",
          "pattern": {
           "shape": ""
          }
         },
         "name": "Iter 42",
         "offsetgroup": "Iter 42",
         "orientation": "h",
         "showlegend": true,
         "textposition": "auto",
         "type": "bar",
         "x": [
          0.000011205673217773438,
          0.000011205673217773438,
          0.000011205673217773438,
          0.000011444091796875,
          0.000012636184692382812,
          0.000010728836059570312,
          0.000011205673217773438,
          0.000011205673217773438,
          0.000011444091796875,
          0.0007138252258300781
         ],
         "xaxis": "x",
         "y": [
          "Node 0",
          "Node 1",
          "Node 2",
          "Node 3",
          "Node 4",
          "Node 5",
          "Node 6",
          "Node 7",
          "Node 8",
          "Node 9"
         ],
         "yaxis": "y"
        },
        {
         "alignmentgroup": "True",
         "base": [
          0.06726837158203125,
          0.06801342964172363,
          0.06872868537902832,
          0.06946206092834473,
          0.07018232345581055,
          0.07090973854064941,
          0.07163214683532715,
          0.0723564624786377,
          0.07310318946838379,
          0.07401919364929199
         ],
         "hovertemplate": "Task=Iter 43<br>Start=%{base}<br>Finish=%{x}<br>Resource=%{y}<extra></extra>",
         "legendgroup": "Iter 43",
         "marker": {
          "color": "#ab63fa",
          "pattern": {
           "shape": ""
          }
         },
         "name": "Iter 43",
         "offsetgroup": "Iter 43",
         "orientation": "h",
         "showlegend": true,
         "textposition": "auto",
         "type": "bar",
         "x": [
          0.000010967254638671875,
          0.000010967254638671875,
          0.000011205673217773438,
          0.000011444091796875,
          0.000010967254638671875,
          0.000010967254638671875,
          0.000010967254638671875,
          0.000010967254638671875,
          0.000011444091796875,
          0.000701904296875
         ],
         "xaxis": "x",
         "y": [
          "Node 0",
          "Node 1",
          "Node 2",
          "Node 3",
          "Node 4",
          "Node 5",
          "Node 6",
          "Node 7",
          "Node 8",
          "Node 9"
         ],
         "yaxis": "y"
        },
        {
         "alignmentgroup": "True",
         "base": [
          0.06873798370361328,
          0.06947922706604004,
          0.07020211219787598,
          0.07093667984008789,
          0.07165217399597168,
          0.07238459587097168,
          0.07309913635253906,
          0.07403349876403809,
          0.07476258277893066,
          0.07548403739929199
         ],
         "hovertemplate": "Task=Iter 44<br>Start=%{base}<br>Finish=%{x}<br>Resource=%{y}<extra></extra>",
         "legendgroup": "Iter 44",
         "marker": {
          "color": "#FFA15A",
          "pattern": {
           "shape": ""
          }
         },
         "name": "Iter 44",
         "offsetgroup": "Iter 44",
         "orientation": "h",
         "showlegend": true,
         "textposition": "auto",
         "type": "bar",
         "x": [
          0.000010967254638671875,
          0.000011205673217773438,
          0.000011682510375976562,
          0.000011682510375976562,
          0.000010967254638671875,
          0.000010728836059570312,
          0.000010967254638671875,
          0.000010967254638671875,
          0.000011205673217773438,
          0.0007069110870361328
         ],
         "xaxis": "x",
         "y": [
          "Node 0",
          "Node 1",
          "Node 2",
          "Node 3",
          "Node 4",
          "Node 5",
          "Node 6",
          "Node 7",
          "Node 8",
          "Node 9"
         ],
         "yaxis": "y"
        },
        {
         "alignmentgroup": "True",
         "base": [
          0.07021284103393555,
          0.07095646858215332,
          0.07166862487792969,
          0.07240414619445801,
          0.07312726974487305,
          0.0740513801574707,
          0.07477450370788574,
          0.0754997730255127,
          0.0762321949005127,
          0.07696104049682617
         ],
         "hovertemplate": "Task=Iter 45<br>Start=%{base}<br>Finish=%{x}<br>Resource=%{y}<extra></extra>",
         "legendgroup": "Iter 45",
         "marker": {
          "color": "#19d3f3",
          "pattern": {
           "shape": ""
          }
         },
         "name": "Iter 45",
         "offsetgroup": "Iter 45",
         "orientation": "h",
         "showlegend": true,
         "textposition": "auto",
         "type": "bar",
         "x": [
          0.000011205673217773438,
          0.000011205673217773438,
          0.000011205673217773438,
          0.000011444091796875,
          0.000011205673217773438,
          0.000010728836059570312,
          0.000011205673217773438,
          0.000011444091796875,
          0.000011682510375976562,
          0.0006999969482421875
         ],
         "xaxis": "x",
         "y": [
          "Node 0",
          "Node 1",
          "Node 2",
          "Node 3",
          "Node 4",
          "Node 5",
          "Node 6",
          "Node 7",
          "Node 8",
          "Node 9"
         ],
         "yaxis": "y"
        },
        {
         "alignmentgroup": "True",
         "base": [
          0.07167863845825195,
          0.07242155075073242,
          0.07314372062683105,
          0.07407140731811523,
          0.07478499412536621,
          0.0755152702331543,
          0.07624387741088867,
          0.07697677612304688,
          0.07770299911499023,
          0.07842683792114258
         ],
         "hovertemplate": "Task=Iter 46<br>Start=%{base}<br>Finish=%{x}<br>Resource=%{y}<extra></extra>",
         "legendgroup": "Iter 46",
         "marker": {
          "color": "#FF6692",
          "pattern": {
           "shape": ""
          }
         },
         "name": "Iter 46",
         "offsetgroup": "Iter 46",
         "orientation": "h",
         "showlegend": true,
         "textposition": "auto",
         "type": "bar",
         "x": [
          0.000010728836059570312,
          0.000011205673217773438,
          0.000011205673217773438,
          0.000011444091796875,
          0.000016450881958007812,
          0.000010728836059570312,
          0.000010967254638671875,
          0.000011205673217773438,
          0.000011205673217773438,
          0.0007164478302001953
         ],
         "xaxis": "x",
         "y": [
          "Node 0",
          "Node 1",
          "Node 2",
          "Node 3",
          "Node 4",
          "Node 5",
          "Node 6",
          "Node 7",
          "Node 8",
          "Node 9"
         ],
         "yaxis": "y"
        },
        {
         "alignmentgroup": "True",
         "base": [
          0.07315182685852051,
          0.07408857345581055,
          0.07480692863464355,
          0.07553648948669434,
          0.07625484466552734,
          0.07698249816894531,
          0.07771611213684082,
          0.07844209671020508,
          0.07919001579284668,
          0.07993102073669434
         ],
         "hovertemplate": "Task=Iter 47<br>Start=%{base}<br>Finish=%{x}<br>Resource=%{y}<extra></extra>",
         "legendgroup": "Iter 47",
         "marker": {
          "color": "#B6E880",
          "pattern": {
           "shape": ""
          }
         },
         "name": "Iter 47",
         "offsetgroup": "Iter 47",
         "orientation": "h",
         "showlegend": true,
         "textposition": "auto",
         "type": "bar",
         "x": [
          0.000010728836059570312,
          0.000010967254638671875,
          0.000011444091796875,
          0.000011205673217773438,
          0.000011205673217773438,
          0.000010967254638671875,
          0.000010967254638671875,
          0.000011205673217773438,
          0.000011444091796875,
          0.0007009506225585938
         ],
         "xaxis": "x",
         "y": [
          "Node 0",
          "Node 1",
          "Node 2",
          "Node 3",
          "Node 4",
          "Node 5",
          "Node 6",
          "Node 7",
          "Node 8",
          "Node 9"
         ],
         "yaxis": "y"
        },
        {
         "alignmentgroup": "True",
         "base": [
          0.07481670379638672,
          0.07555389404296875,
          0.07627701759338379,
          0.07701301574707031,
          0.07772421836853027,
          0.07845520973205566,
          0.07918596267700195,
          0.07994508743286133,
          0.0806734561920166,
          0.08139634132385254
         ],
         "hovertemplate": "Task=Iter 48<br>Start=%{base}<br>Finish=%{x}<br>Resource=%{y}<extra></extra>",
         "legendgroup": "Iter 48",
         "marker": {
          "color": "#FF97FF",
          "pattern": {
           "shape": ""
          }
         },
         "name": "Iter 48",
         "offsetgroup": "Iter 48",
         "orientation": "h",
         "showlegend": true,
         "textposition": "auto",
         "type": "bar",
         "x": [
          0.000010967254638671875,
          0.000011205673217773438,
          0.000011205673217773438,
          0.000011682510375976562,
          0.000011205673217773438,
          0.000011205673217773438,
          0.000011205673217773438,
          0.000011205673217773438,
          0.000011205673217773438,
          0.0007126331329345703
         ],
         "xaxis": "x",
         "y": [
          "Node 0",
          "Node 1",
          "Node 2",
          "Node 3",
          "Node 4",
          "Node 5",
          "Node 6",
          "Node 7",
          "Node 8",
          "Node 9"
         ],
         "yaxis": "y"
        },
        {
         "alignmentgroup": "True",
         "base": [
          0.07628774642944336,
          0.07703280448913574,
          0.07774567604064941,
          0.07848000526428223,
          0.07919740676879883,
          0.07993149757385254,
          0.08068513870239258,
          0.08141160011291504,
          0.08215117454528809,
          0.08287382125854492
         ],
         "hovertemplate": "Task=Iter 49<br>Start=%{base}<br>Finish=%{x}<br>Resource=%{y}<extra></extra>",
         "legendgroup": "Iter 49",
         "marker": {
          "color": "#FECB52",
          "pattern": {
           "shape": ""
          }
         },
         "name": "Iter 49",
         "offsetgroup": "Iter 49",
         "orientation": "h",
         "showlegend": true,
         "textposition": "auto",
         "type": "bar",
         "x": [
          0.000011682510375976562,
          0.000010728836059570312,
          0.000011444091796875,
          0.000011205673217773438,
          0.0000133514404296875,
          0.000010967254638671875,
          0.000010967254638671875,
          0.000011205673217773438,
          0.000011444091796875,
          0.0007004737854003906
         ],
         "xaxis": "x",
         "y": [
          "Node 0",
          "Node 1",
          "Node 2",
          "Node 3",
          "Node 4",
          "Node 5",
          "Node 6",
          "Node 7",
          "Node 8",
          "Node 9"
         ],
         "yaxis": "y"
        },
        {
         "alignmentgroup": "True",
         "base": [
          0.07775592803955078,
          0.07849907875061035,
          0.07921957969665527,
          0.07997250556945801,
          0.08070111274719238,
          0.08144569396972656,
          0.08215880393981934,
          0.08288955688476562,
          0.08361530303955078,
          0.0843358039855957
         ],
         "hovertemplate": "Task=Iter 50<br>Start=%{base}<br>Finish=%{x}<br>Resource=%{y}<extra></extra>",
         "legendgroup": "Iter 50",
         "marker": {
          "color": "#636efa",
          "pattern": {
           "shape": ""
          }
         },
         "name": "Iter 50",
         "offsetgroup": "Iter 50",
         "orientation": "h",
         "showlegend": true,
         "textposition": "auto",
         "type": "bar",
         "x": [
          0.000010967254638671875,
          0.000010967254638671875,
          0.000011205673217773438,
          0.000011920928955078125,
          0.000014781951904296875,
          0.000010728836059570312,
          0.000011444091796875,
          0.000011205673217773438,
          0.000011205673217773438,
          0.0007090568542480469
         ],
         "xaxis": "x",
         "y": [
          "Node 0",
          "Node 1",
          "Node 2",
          "Node 3",
          "Node 4",
          "Node 5",
          "Node 6",
          "Node 7",
          "Node 8",
          "Node 9"
         ],
         "yaxis": "y"
        }
       ],
       "layout": {
        "barmode": "overlay",
        "legend": {
         "title": {
          "text": "Task"
         },
         "tracegroupgap": 0
        },
        "margin": {
         "t": 60
        },
        "template": {
         "data": {
          "bar": [
           {
            "error_x": {
             "color": "#2a3f5f"
            },
            "error_y": {
             "color": "#2a3f5f"
            },
            "marker": {
             "line": {
              "color": "#E5ECF6",
              "width": 0.5
             },
             "pattern": {
              "fillmode": "overlay",
              "size": 10,
              "solidity": 0.2
             }
            },
            "type": "bar"
           }
          ],
          "barpolar": [
           {
            "marker": {
             "line": {
              "color": "#E5ECF6",
              "width": 0.5
             },
             "pattern": {
              "fillmode": "overlay",
              "size": 10,
              "solidity": 0.2
             }
            },
            "type": "barpolar"
           }
          ],
          "carpet": [
           {
            "aaxis": {
             "endlinecolor": "#2a3f5f",
             "gridcolor": "white",
             "linecolor": "white",
             "minorgridcolor": "white",
             "startlinecolor": "#2a3f5f"
            },
            "baxis": {
             "endlinecolor": "#2a3f5f",
             "gridcolor": "white",
             "linecolor": "white",
             "minorgridcolor": "white",
             "startlinecolor": "#2a3f5f"
            },
            "type": "carpet"
           }
          ],
          "choropleth": [
           {
            "colorbar": {
             "outlinewidth": 0,
             "ticks": ""
            },
            "type": "choropleth"
           }
          ],
          "contour": [
           {
            "colorbar": {
             "outlinewidth": 0,
             "ticks": ""
            },
            "colorscale": [
             [
              0,
              "#0d0887"
             ],
             [
              0.1111111111111111,
              "#46039f"
             ],
             [
              0.2222222222222222,
              "#7201a8"
             ],
             [
              0.3333333333333333,
              "#9c179e"
             ],
             [
              0.4444444444444444,
              "#bd3786"
             ],
             [
              0.5555555555555556,
              "#d8576b"
             ],
             [
              0.6666666666666666,
              "#ed7953"
             ],
             [
              0.7777777777777778,
              "#fb9f3a"
             ],
             [
              0.8888888888888888,
              "#fdca26"
             ],
             [
              1,
              "#f0f921"
             ]
            ],
            "type": "contour"
           }
          ],
          "contourcarpet": [
           {
            "colorbar": {
             "outlinewidth": 0,
             "ticks": ""
            },
            "type": "contourcarpet"
           }
          ],
          "heatmap": [
           {
            "colorbar": {
             "outlinewidth": 0,
             "ticks": ""
            },
            "colorscale": [
             [
              0,
              "#0d0887"
             ],
             [
              0.1111111111111111,
              "#46039f"
             ],
             [
              0.2222222222222222,
              "#7201a8"
             ],
             [
              0.3333333333333333,
              "#9c179e"
             ],
             [
              0.4444444444444444,
              "#bd3786"
             ],
             [
              0.5555555555555556,
              "#d8576b"
             ],
             [
              0.6666666666666666,
              "#ed7953"
             ],
             [
              0.7777777777777778,
              "#fb9f3a"
             ],
             [
              0.8888888888888888,
              "#fdca26"
             ],
             [
              1,
              "#f0f921"
             ]
            ],
            "type": "heatmap"
           }
          ],
          "heatmapgl": [
           {
            "colorbar": {
             "outlinewidth": 0,
             "ticks": ""
            },
            "colorscale": [
             [
              0,
              "#0d0887"
             ],
             [
              0.1111111111111111,
              "#46039f"
             ],
             [
              0.2222222222222222,
              "#7201a8"
             ],
             [
              0.3333333333333333,
              "#9c179e"
             ],
             [
              0.4444444444444444,
              "#bd3786"
             ],
             [
              0.5555555555555556,
              "#d8576b"
             ],
             [
              0.6666666666666666,
              "#ed7953"
             ],
             [
              0.7777777777777778,
              "#fb9f3a"
             ],
             [
              0.8888888888888888,
              "#fdca26"
             ],
             [
              1,
              "#f0f921"
             ]
            ],
            "type": "heatmapgl"
           }
          ],
          "histogram": [
           {
            "marker": {
             "pattern": {
              "fillmode": "overlay",
              "size": 10,
              "solidity": 0.2
             }
            },
            "type": "histogram"
           }
          ],
          "histogram2d": [
           {
            "colorbar": {
             "outlinewidth": 0,
             "ticks": ""
            },
            "colorscale": [
             [
              0,
              "#0d0887"
             ],
             [
              0.1111111111111111,
              "#46039f"
             ],
             [
              0.2222222222222222,
              "#7201a8"
             ],
             [
              0.3333333333333333,
              "#9c179e"
             ],
             [
              0.4444444444444444,
              "#bd3786"
             ],
             [
              0.5555555555555556,
              "#d8576b"
             ],
             [
              0.6666666666666666,
              "#ed7953"
             ],
             [
              0.7777777777777778,
              "#fb9f3a"
             ],
             [
              0.8888888888888888,
              "#fdca26"
             ],
             [
              1,
              "#f0f921"
             ]
            ],
            "type": "histogram2d"
           }
          ],
          "histogram2dcontour": [
           {
            "colorbar": {
             "outlinewidth": 0,
             "ticks": ""
            },
            "colorscale": [
             [
              0,
              "#0d0887"
             ],
             [
              0.1111111111111111,
              "#46039f"
             ],
             [
              0.2222222222222222,
              "#7201a8"
             ],
             [
              0.3333333333333333,
              "#9c179e"
             ],
             [
              0.4444444444444444,
              "#bd3786"
             ],
             [
              0.5555555555555556,
              "#d8576b"
             ],
             [
              0.6666666666666666,
              "#ed7953"
             ],
             [
              0.7777777777777778,
              "#fb9f3a"
             ],
             [
              0.8888888888888888,
              "#fdca26"
             ],
             [
              1,
              "#f0f921"
             ]
            ],
            "type": "histogram2dcontour"
           }
          ],
          "mesh3d": [
           {
            "colorbar": {
             "outlinewidth": 0,
             "ticks": ""
            },
            "type": "mesh3d"
           }
          ],
          "parcoords": [
           {
            "line": {
             "colorbar": {
              "outlinewidth": 0,
              "ticks": ""
             }
            },
            "type": "parcoords"
           }
          ],
          "pie": [
           {
            "automargin": true,
            "type": "pie"
           }
          ],
          "scatter": [
           {
            "fillpattern": {
             "fillmode": "overlay",
             "size": 10,
             "solidity": 0.2
            },
            "type": "scatter"
           }
          ],
          "scatter3d": [
           {
            "line": {
             "colorbar": {
              "outlinewidth": 0,
              "ticks": ""
             }
            },
            "marker": {
             "colorbar": {
              "outlinewidth": 0,
              "ticks": ""
             }
            },
            "type": "scatter3d"
           }
          ],
          "scattercarpet": [
           {
            "marker": {
             "colorbar": {
              "outlinewidth": 0,
              "ticks": ""
             }
            },
            "type": "scattercarpet"
           }
          ],
          "scattergeo": [
           {
            "marker": {
             "colorbar": {
              "outlinewidth": 0,
              "ticks": ""
             }
            },
            "type": "scattergeo"
           }
          ],
          "scattergl": [
           {
            "marker": {
             "colorbar": {
              "outlinewidth": 0,
              "ticks": ""
             }
            },
            "type": "scattergl"
           }
          ],
          "scattermapbox": [
           {
            "marker": {
             "colorbar": {
              "outlinewidth": 0,
              "ticks": ""
             }
            },
            "type": "scattermapbox"
           }
          ],
          "scatterpolar": [
           {
            "marker": {
             "colorbar": {
              "outlinewidth": 0,
              "ticks": ""
             }
            },
            "type": "scatterpolar"
           }
          ],
          "scatterpolargl": [
           {
            "marker": {
             "colorbar": {
              "outlinewidth": 0,
              "ticks": ""
             }
            },
            "type": "scatterpolargl"
           }
          ],
          "scatterternary": [
           {
            "marker": {
             "colorbar": {
              "outlinewidth": 0,
              "ticks": ""
             }
            },
            "type": "scatterternary"
           }
          ],
          "surface": [
           {
            "colorbar": {
             "outlinewidth": 0,
             "ticks": ""
            },
            "colorscale": [
             [
              0,
              "#0d0887"
             ],
             [
              0.1111111111111111,
              "#46039f"
             ],
             [
              0.2222222222222222,
              "#7201a8"
             ],
             [
              0.3333333333333333,
              "#9c179e"
             ],
             [
              0.4444444444444444,
              "#bd3786"
             ],
             [
              0.5555555555555556,
              "#d8576b"
             ],
             [
              0.6666666666666666,
              "#ed7953"
             ],
             [
              0.7777777777777778,
              "#fb9f3a"
             ],
             [
              0.8888888888888888,
              "#fdca26"
             ],
             [
              1,
              "#f0f921"
             ]
            ],
            "type": "surface"
           }
          ],
          "table": [
           {
            "cells": {
             "fill": {
              "color": "#EBF0F8"
             },
             "line": {
              "color": "white"
             }
            },
            "header": {
             "fill": {
              "color": "#C8D4E3"
             },
             "line": {
              "color": "white"
             }
            },
            "type": "table"
           }
          ]
         },
         "layout": {
          "annotationdefaults": {
           "arrowcolor": "#2a3f5f",
           "arrowhead": 0,
           "arrowwidth": 1
          },
          "autotypenumbers": "strict",
          "coloraxis": {
           "colorbar": {
            "outlinewidth": 0,
            "ticks": ""
           }
          },
          "colorscale": {
           "diverging": [
            [
             0,
             "#8e0152"
            ],
            [
             0.1,
             "#c51b7d"
            ],
            [
             0.2,
             "#de77ae"
            ],
            [
             0.3,
             "#f1b6da"
            ],
            [
             0.4,
             "#fde0ef"
            ],
            [
             0.5,
             "#f7f7f7"
            ],
            [
             0.6,
             "#e6f5d0"
            ],
            [
             0.7,
             "#b8e186"
            ],
            [
             0.8,
             "#7fbc41"
            ],
            [
             0.9,
             "#4d9221"
            ],
            [
             1,
             "#276419"
            ]
           ],
           "sequential": [
            [
             0,
             "#0d0887"
            ],
            [
             0.1111111111111111,
             "#46039f"
            ],
            [
             0.2222222222222222,
             "#7201a8"
            ],
            [
             0.3333333333333333,
             "#9c179e"
            ],
            [
             0.4444444444444444,
             "#bd3786"
            ],
            [
             0.5555555555555556,
             "#d8576b"
            ],
            [
             0.6666666666666666,
             "#ed7953"
            ],
            [
             0.7777777777777778,
             "#fb9f3a"
            ],
            [
             0.8888888888888888,
             "#fdca26"
            ],
            [
             1,
             "#f0f921"
            ]
           ],
           "sequentialminus": [
            [
             0,
             "#0d0887"
            ],
            [
             0.1111111111111111,
             "#46039f"
            ],
            [
             0.2222222222222222,
             "#7201a8"
            ],
            [
             0.3333333333333333,
             "#9c179e"
            ],
            [
             0.4444444444444444,
             "#bd3786"
            ],
            [
             0.5555555555555556,
             "#d8576b"
            ],
            [
             0.6666666666666666,
             "#ed7953"
            ],
            [
             0.7777777777777778,
             "#fb9f3a"
            ],
            [
             0.8888888888888888,
             "#fdca26"
            ],
            [
             1,
             "#f0f921"
            ]
           ]
          },
          "colorway": [
           "#636efa",
           "#EF553B",
           "#00cc96",
           "#ab63fa",
           "#FFA15A",
           "#19d3f3",
           "#FF6692",
           "#B6E880",
           "#FF97FF",
           "#FECB52"
          ],
          "font": {
           "color": "#2a3f5f"
          },
          "geo": {
           "bgcolor": "white",
           "lakecolor": "white",
           "landcolor": "#E5ECF6",
           "showlakes": true,
           "showland": true,
           "subunitcolor": "white"
          },
          "hoverlabel": {
           "align": "left"
          },
          "hovermode": "closest",
          "mapbox": {
           "style": "light"
          },
          "paper_bgcolor": "white",
          "plot_bgcolor": "#E5ECF6",
          "polar": {
           "angularaxis": {
            "gridcolor": "white",
            "linecolor": "white",
            "ticks": ""
           },
           "bgcolor": "#E5ECF6",
           "radialaxis": {
            "gridcolor": "white",
            "linecolor": "white",
            "ticks": ""
           }
          },
          "scene": {
           "xaxis": {
            "backgroundcolor": "#E5ECF6",
            "gridcolor": "white",
            "gridwidth": 2,
            "linecolor": "white",
            "showbackground": true,
            "ticks": "",
            "zerolinecolor": "white"
           },
           "yaxis": {
            "backgroundcolor": "#E5ECF6",
            "gridcolor": "white",
            "gridwidth": 2,
            "linecolor": "white",
            "showbackground": true,
            "ticks": "",
            "zerolinecolor": "white"
           },
           "zaxis": {
            "backgroundcolor": "#E5ECF6",
            "gridcolor": "white",
            "gridwidth": 2,
            "linecolor": "white",
            "showbackground": true,
            "ticks": "",
            "zerolinecolor": "white"
           }
          },
          "shapedefaults": {
           "line": {
            "color": "#2a3f5f"
           }
          },
          "ternary": {
           "aaxis": {
            "gridcolor": "white",
            "linecolor": "white",
            "ticks": ""
           },
           "baxis": {
            "gridcolor": "white",
            "linecolor": "white",
            "ticks": ""
           },
           "bgcolor": "#E5ECF6",
           "caxis": {
            "gridcolor": "white",
            "linecolor": "white",
            "ticks": ""
           }
          },
          "title": {
           "x": 0.05
          },
          "xaxis": {
           "automargin": true,
           "gridcolor": "white",
           "linecolor": "white",
           "ticks": "",
           "title": {
            "standoff": 15
           },
           "zerolinecolor": "white",
           "zerolinewidth": 2
          },
          "yaxis": {
           "automargin": true,
           "gridcolor": "white",
           "linecolor": "white",
           "ticks": "",
           "title": {
            "standoff": 15
           },
           "zerolinecolor": "white",
           "zerolinewidth": 2
          }
         }
        },
        "title": {
         "text": "Parallel WTA Full"
        },
        "xaxis": {
         "anchor": "y",
         "domain": [
          0,
          1
         ],
         "type": "linear"
        },
        "yaxis": {
         "anchor": "x",
         "autorange": "reversed",
         "domain": [
          0,
          1
         ],
         "title": {
          "text": "Resource"
         }
        }
       }
      }
     },
     "metadata": {},
     "output_type": "display_data"
    }
   ],
   "source": [
    "fig = getDataGantt(logs[0], \"Parallel WTA Full\")\n",
    "fig.show()"
   ]
  },
  {
   "cell_type": "code",
   "execution_count": 14,
   "metadata": {},
   "outputs": [
    {
     "data": {
      "application/vnd.plotly.v1+json": {
       "config": {
        "plotlyServerURL": "https://plot.ly"
       },
       "data": [
        {
         "alignmentgroup": "True",
         "base": [
          0,
          0.0010886192321777344,
          0.002129793167114258,
          0.0031142234802246094,
          0.004552602767944336,
          0.005792140960693359,
          0.006671428680419922,
          0.00756072998046875,
          0.008475065231323242,
          0.009356260299682617
         ],
         "hovertemplate": "Task=Iter 0<br>Start=%{base}<br>Finish=%{x}<br>Resource=%{y}<extra></extra>",
         "legendgroup": "Iter 0",
         "marker": {
          "color": "#636efa",
          "pattern": {
           "shape": ""
          }
         },
         "name": "Iter 0",
         "offsetgroup": "Iter 0",
         "orientation": "h",
         "showlegend": true,
         "textposition": "auto",
         "type": "bar",
         "x": [
          0.00014066696166992188,
          0.00009465217590332031,
          0.00005173683166503906,
          0.00022149085998535156,
          0.00017261505126953125,
          0.000050067901611328125,
          0.000049114227294921875,
          0.00005173683166503906,
          0.0000514984130859375,
          0.0008280277252197266
         ],
         "xaxis": "x",
         "y": [
          "Node 0",
          "Node 1",
          "Node 2",
          "Node 3",
          "Node 4",
          "Node 5",
          "Node 6",
          "Node 7",
          "Node 8",
          "Node 9"
         ],
         "yaxis": "y"
        },
        {
         "alignmentgroup": "True",
         "base": [
          0.002121448516845703,
          0.0030193328857421875,
          0.0044705867767333984,
          0.005789041519165039,
          0.0066683292388916016,
          0.007552385330200195,
          0.008463144302368164,
          0.009353160858154297,
          0.010339736938476562,
          0.011075019836425781
         ],
         "hovertemplate": "Task=Iter 1<br>Start=%{base}<br>Finish=%{x}<br>Resource=%{y}<extra></extra>",
         "legendgroup": "Iter 1",
         "marker": {
          "color": "#EF553B",
          "pattern": {
           "shape": ""
          }
         },
         "name": "Iter 1",
         "offsetgroup": "Iter 1",
         "orientation": "h",
         "showlegend": true,
         "textposition": "auto",
         "type": "bar",
         "x": [
          0.000014781951904296875,
          0.000015497207641601562,
          0.000013589859008789062,
          0.000017881393432617188,
          0.000013113021850585938,
          0.0000133514404296875,
          0.000013589859008789062,
          0.00001239776611328125,
          0.000013828277587890625,
          0.0007171630859375
         ],
         "xaxis": "x",
         "y": [
          "Node 0",
          "Node 1",
          "Node 2",
          "Node 3",
          "Node 4",
          "Node 5",
          "Node 6",
          "Node 7",
          "Node 8",
          "Node 9"
         ],
         "yaxis": "y"
        },
        {
         "alignmentgroup": "True",
         "base": [
          0.0037839412689208984,
          0.005235910415649414,
          0.006575345993041992,
          0.0074405670166015625,
          0.008315324783325195,
          0.009217262268066406,
          0.010141134262084961,
          0.011090517044067383,
          0.011852264404296875,
          0.012603998184204102
         ],
         "hovertemplate": "Task=Iter 2<br>Start=%{base}<br>Finish=%{x}<br>Resource=%{y}<extra></extra>",
         "legendgroup": "Iter 2",
         "marker": {
          "color": "#00cc96",
          "pattern": {
           "shape": ""
          }
         },
         "name": "Iter 2",
         "offsetgroup": "Iter 2",
         "orientation": "h",
         "showlegend": true,
         "textposition": "auto",
         "type": "bar",
         "x": [
          0.000011920928955078125,
          0.000014543533325195312,
          0.000011682510375976562,
          0.000021219253540039062,
          0.000011920928955078125,
          0.000015020370483398438,
          0.000012874603271484375,
          0.000012159347534179688,
          0.000013113021850585938,
          0.0007166862487792969
         ],
         "xaxis": "x",
         "y": [
          "Node 0",
          "Node 1",
          "Node 2",
          "Node 3",
          "Node 4",
          "Node 5",
          "Node 6",
          "Node 7",
          "Node 8",
          "Node 9"
         ],
         "yaxis": "y"
        },
        {
         "alignmentgroup": "True",
         "base": [
          0.005989789962768555,
          0.007341146469116211,
          0.008220195770263672,
          0.00906682014465332,
          0.009971141815185547,
          0.010895013809204102,
          0.011867284774780273,
          0.012618541717529297,
          0.013370990753173828,
          0.014098644256591797
         ],
         "hovertemplate": "Task=Iter 3<br>Start=%{base}<br>Finish=%{x}<br>Resource=%{y}<extra></extra>",
         "legendgroup": "Iter 3",
         "marker": {
          "color": "#ab63fa",
          "pattern": {
           "shape": ""
          }
         },
         "name": "Iter 3",
         "offsetgroup": "Iter 3",
         "orientation": "h",
         "showlegend": true,
         "textposition": "auto",
         "type": "bar",
         "x": [
          0.000012159347534179688,
          0.000011682510375976562,
          0.00001239776611328125,
          0.00001239776611328125,
          0.000011205673217773438,
          0.000011205673217773438,
          0.000011682510375976562,
          0.000011444091796875,
          0.000011444091796875,
          0.0007061958312988281
         ],
         "xaxis": "x",
         "y": [
          "Node 0",
          "Node 1",
          "Node 2",
          "Node 3",
          "Node 4",
          "Node 5",
          "Node 6",
          "Node 7",
          "Node 8",
          "Node 9"
         ],
         "yaxis": "y"
        },
        {
         "alignmentgroup": "True",
         "base": [
          0.008070707321166992,
          0.00898122787475586,
          0.009833574295043945,
          0.010725259780883789,
          0.011636734008789062,
          0.012618303298950195,
          0.013379812240600586,
          0.014114618301391602,
          0.014860153198242188,
          0.015595674514770508
         ],
         "hovertemplate": "Task=Iter 4<br>Start=%{base}<br>Finish=%{x}<br>Resource=%{y}<extra></extra>",
         "legendgroup": "Iter 4",
         "marker": {
          "color": "#FFA15A",
          "pattern": {
           "shape": ""
          }
         },
         "name": "Iter 4",
         "offsetgroup": "Iter 4",
         "orientation": "h",
         "showlegend": true,
         "textposition": "auto",
         "type": "bar",
         "x": [
          0.000012636184692382812,
          0.000011205673217773438,
          0.00001239776611328125,
          0.000013113021850585938,
          0.000011444091796875,
          0.000012636184692382812,
          0.000012636184692382812,
          0.000011682510375976562,
          0.000012874603271484375,
          0.0007073879241943359
         ],
         "xaxis": "x",
         "y": [
          "Node 0",
          "Node 1",
          "Node 2",
          "Node 3",
          "Node 4",
          "Node 5",
          "Node 6",
          "Node 7",
          "Node 8",
          "Node 9"
         ],
         "yaxis": "y"
        },
        {
         "alignmentgroup": "True",
         "base": [
          0.00971841812133789,
          0.01059412956237793,
          0.011493682861328125,
          0.012393474578857422,
          0.013369560241699219,
          0.014127016067504883,
          0.014874935150146484,
          0.015648841857910156,
          0.016412973403930664,
          0.01714158058166504
         ],
         "hovertemplate": "Task=Iter 5<br>Start=%{base}<br>Finish=%{x}<br>Resource=%{y}<extra></extra>",
         "legendgroup": "Iter 5",
         "marker": {
          "color": "#19d3f3",
          "pattern": {
           "shape": ""
          }
         },
         "name": "Iter 5",
         "offsetgroup": "Iter 5",
         "orientation": "h",
         "showlegend": true,
         "textposition": "auto",
         "type": "bar",
         "x": [
          0.000012874603271484375,
          0.000011444091796875,
          0.000012636184692382812,
          0.000012874603271484375,
          0.000011682510375976562,
          0.000011920928955078125,
          0.000012874603271484375,
          0.000011682510375976562,
          0.000013113021850585938,
          0.0007097721099853516
         ],
         "xaxis": "x",
         "y": [
          "Node 0",
          "Node 1",
          "Node 2",
          "Node 3",
          "Node 4",
          "Node 5",
          "Node 6",
          "Node 7",
          "Node 8",
          "Node 9"
         ],
         "yaxis": "y"
        },
        {
         "alignmentgroup": "True",
         "base": [
          0.011343002319335938,
          0.012252330780029297,
          0.013145923614501953,
          0.014119625091552734,
          0.014877796173095703,
          0.015665054321289062,
          0.016428232192993164,
          0.01716160774230957,
          0.017903804779052734,
          0.018642902374267578
         ],
         "hovertemplate": "Task=Iter 6<br>Start=%{base}<br>Finish=%{x}<br>Resource=%{y}<extra></extra>",
         "legendgroup": "Iter 6",
         "marker": {
          "color": "#FF6692",
          "pattern": {
           "shape": ""
          }
         },
         "name": "Iter 6",
         "offsetgroup": "Iter 6",
         "orientation": "h",
         "showlegend": true,
         "textposition": "auto",
         "type": "bar",
         "x": [
          0.000012636184692382812,
          0.000010967254638671875,
          0.000012636184692382812,
          0.000014066696166992188,
          0.000011682510375976562,
          0.000012159347534179688,
          0.000012636184692382812,
          0.000011205673217773438,
          0.000013113021850585938,
          0.0007083415985107422
         ],
         "xaxis": "x",
         "y": [
          "Node 0",
          "Node 1",
          "Node 2",
          "Node 3",
          "Node 4",
          "Node 5",
          "Node 6",
          "Node 7",
          "Node 8",
          "Node 9"
         ],
         "yaxis": "y"
        },
        {
         "alignmentgroup": "True",
         "base": [
          0.012996196746826172,
          0.013906478881835938,
          0.014881610870361328,
          0.01563405990600586,
          0.016411542892456055,
          0.01717686653137207,
          0.017958402633666992,
          0.01869678497314453,
          0.019436359405517578,
          0.020165681838989258
         ],
         "hovertemplate": "Task=Iter 7<br>Start=%{base}<br>Finish=%{x}<br>Resource=%{y}<extra></extra>",
         "legendgroup": "Iter 7",
         "marker": {
          "color": "#B6E880",
          "pattern": {
           "shape": ""
          }
         },
         "name": "Iter 7",
         "offsetgroup": "Iter 7",
         "orientation": "h",
         "showlegend": true,
         "textposition": "auto",
         "type": "bar",
         "x": [
          0.000011444091796875,
          0.000011205673217773438,
          0.00001239776611328125,
          0.000013113021850585938,
          0.000011205673217773438,
          0.00001239776611328125,
          0.00001239776611328125,
          0.000011444091796875,
          0.000012636184692382812,
          0.0007071495056152344
         ],
         "xaxis": "x",
         "y": [
          "Node 0",
          "Node 1",
          "Node 2",
          "Node 3",
          "Node 4",
          "Node 5",
          "Node 6",
          "Node 7",
          "Node 8",
          "Node 9"
         ],
         "yaxis": "y"
        },
        {
         "alignmentgroup": "True",
         "base": [
          0.014649391174316406,
          0.01563882827758789,
          0.016391515731811523,
          0.017155885696411133,
          0.017972946166992188,
          0.01871943473815918,
          0.01945352554321289,
          0.020182132720947266,
          0.0209200382232666,
          0.021654129028320312
         ],
         "hovertemplate": "Task=Iter 8<br>Start=%{base}<br>Finish=%{x}<br>Resource=%{y}<extra></extra>",
         "legendgroup": "Iter 8",
         "marker": {
          "color": "#FF97FF",
          "pattern": {
           "shape": ""
          }
         },
         "name": "Iter 8",
         "offsetgroup": "Iter 8",
         "orientation": "h",
         "showlegend": true,
         "textposition": "auto",
         "type": "bar",
         "x": [
          0.000011682510375976562,
          0.000011444091796875,
          0.000011205673217773438,
          0.000012636184692382812,
          0.000011444091796875,
          0.0000133514404296875,
          0.000012636184692382812,
          0.000011205673217773438,
          0.00001239776611328125,
          0.0007121562957763672
         ],
         "xaxis": "x",
         "y": [
          "Node 0",
          "Node 1",
          "Node 2",
          "Node 3",
          "Node 4",
          "Node 5",
          "Node 6",
          "Node 7",
          "Node 8",
          "Node 9"
         ],
         "yaxis": "y"
        },
        {
         "alignmentgroup": "True",
         "base": [
          0.016376256942749023,
          0.01714348793029785,
          0.017915010452270508,
          0.018735647201538086,
          0.019478321075439453,
          0.020211458206176758,
          0.020937442779541016,
          0.021674633026123047,
          0.0224149227142334,
          0.023144960403442383
         ],
         "hovertemplate": "Task=Iter 9<br>Start=%{base}<br>Finish=%{x}<br>Resource=%{y}<extra></extra>",
         "legendgroup": "Iter 9",
         "marker": {
          "color": "#FECB52",
          "pattern": {
           "shape": ""
          }
         },
         "name": "Iter 9",
         "offsetgroup": "Iter 9",
         "orientation": "h",
         "showlegend": true,
         "textposition": "auto",
         "type": "bar",
         "x": [
          0.000011444091796875,
          0.000010967254638671875,
          0.000011205673217773438,
          0.000011682510375976562,
          0.000011682510375976562,
          0.000011205673217773438,
          0.000011205673217773438,
          0.000010967254638671875,
          0.000010728836059570312,
          0.0007083415985107422
         ],
         "xaxis": "x",
         "y": [
          "Node 0",
          "Node 1",
          "Node 2",
          "Node 3",
          "Node 4",
          "Node 5",
          "Node 6",
          "Node 7",
          "Node 8",
          "Node 9"
         ],
         "yaxis": "y"
        },
        {
         "alignmentgroup": "True",
         "base": [
          0.017877817153930664,
          0.018671035766601562,
          0.01949310302734375,
          0.02022838592529297,
          0.02097344398498535,
          0.021708965301513672,
          0.02243971824645996,
          0.023165464401245117,
          0.02390432357788086,
          0.02464008331298828
         ],
         "hovertemplate": "Task=Iter 10<br>Start=%{base}<br>Finish=%{x}<br>Resource=%{y}<extra></extra>",
         "legendgroup": "Iter 10",
         "marker": {
          "color": "#636efa",
          "pattern": {
           "shape": ""
          }
         },
         "name": "Iter 10",
         "offsetgroup": "Iter 10",
         "orientation": "h",
         "showlegend": true,
         "textposition": "auto",
         "type": "bar",
         "x": [
          0.000012159347534179688,
          0.000010967254638671875,
          0.00001239776611328125,
          0.000012636184692382812,
          0.000011205673217773438,
          0.000012636184692382812,
          0.000012636184692382812,
          0.000011682510375976562,
          0.00001430511474609375,
          0.0007123947143554688
         ],
         "xaxis": "x",
         "y": [
          "Node 0",
          "Node 1",
          "Node 2",
          "Node 3",
          "Node 4",
          "Node 5",
          "Node 6",
          "Node 7",
          "Node 8",
          "Node 9"
         ],
         "yaxis": "y"
        },
        {
         "alignmentgroup": "True",
         "base": [
          0.019405603408813477,
          0.020244598388671875,
          0.020987987518310547,
          0.021726369857788086,
          0.02247023582458496,
          0.02320075035095215,
          0.023932456970214844,
          0.02466440200805664,
          0.0254056453704834,
          0.02613520622253418
         ],
         "hovertemplate": "Task=Iter 11<br>Start=%{base}<br>Finish=%{x}<br>Resource=%{y}<extra></extra>",
         "legendgroup": "Iter 11",
         "marker": {
          "color": "#EF553B",
          "pattern": {
           "shape": ""
          }
         },
         "name": "Iter 11",
         "offsetgroup": "Iter 11",
         "orientation": "h",
         "showlegend": true,
         "textposition": "auto",
         "type": "bar",
         "x": [
          0.000011920928955078125,
          0.000010728836059570312,
          0.000012636184692382812,
          0.000012874603271484375,
          0.000011682510375976562,
          0.000012159347534179688,
          0.000012874603271484375,
          0.000011444091796875,
          0.000013113021850585938,
          0.0007073879241943359
         ],
         "xaxis": "x",
         "y": [
          "Node 0",
          "Node 1",
          "Node 2",
          "Node 3",
          "Node 4",
          "Node 5",
          "Node 6",
          "Node 7",
          "Node 8",
          "Node 9"
         ],
         "yaxis": "y"
        },
        {
         "alignmentgroup": "True",
         "base": [
          0.020979642868041992,
          0.021744489669799805,
          0.02248549461364746,
          0.023216962814331055,
          0.0239565372467041,
          0.024690866470336914,
          0.025422334671020508,
          0.02615213394165039,
          0.026889801025390625,
          0.02762150764465332
         ],
         "hovertemplate": "Task=Iter 12<br>Start=%{base}<br>Finish=%{x}<br>Resource=%{y}<extra></extra>",
         "legendgroup": "Iter 12",
         "marker": {
          "color": "#00cc96",
          "pattern": {
           "shape": ""
          }
         },
         "name": "Iter 12",
         "offsetgroup": "Iter 12",
         "orientation": "h",
         "showlegend": true,
         "textposition": "auto",
         "type": "bar",
         "x": [
          0.000011205673217773438,
          0.000010967254638671875,
          0.000010967254638671875,
          0.000011444091796875,
          0.000011444091796875,
          0.000011205673217773438,
          0.000011205673217773438,
          0.000010967254638671875,
          0.000011444091796875,
          0.0007114410400390625
         ],
         "xaxis": "x",
         "y": [
          "Node 0",
          "Node 1",
          "Node 2",
          "Node 3",
          "Node 4",
          "Node 5",
          "Node 6",
          "Node 7",
          "Node 8",
          "Node 9"
         ],
         "yaxis": "y"
        },
        {
         "alignmentgroup": "True",
         "base": [
          0.022478342056274414,
          0.02323627471923828,
          0.023973703384399414,
          0.024710893630981445,
          0.025452375411987305,
          0.026182889938354492,
          0.02691197395324707,
          0.027646780014038086,
          0.02838444709777832,
          0.0291135311126709
         ],
         "hovertemplate": "Task=Iter 13<br>Start=%{base}<br>Finish=%{x}<br>Resource=%{y}<extra></extra>",
         "legendgroup": "Iter 13",
         "marker": {
          "color": "#ab63fa",
          "pattern": {
           "shape": ""
          }
         },
         "name": "Iter 13",
         "offsetgroup": "Iter 13",
         "orientation": "h",
         "showlegend": true,
         "textposition": "auto",
         "type": "bar",
         "x": [
          0.000011444091796875,
          0.0000133514404296875,
          0.000012636184692382812,
          0.000012874603271484375,
          0.000011205673217773438,
          0.000012159347534179688,
          0.00001239776611328125,
          0.000011444091796875,
          0.00001239776611328125,
          0.0007069110870361328
         ],
         "xaxis": "x",
         "y": [
          "Node 0",
          "Node 1",
          "Node 2",
          "Node 3",
          "Node 4",
          "Node 5",
          "Node 6",
          "Node 7",
          "Node 8",
          "Node 9"
         ],
         "yaxis": "y"
        },
        {
         "alignmentgroup": "True",
         "base": [
          0.023970842361450195,
          0.024728775024414062,
          0.0254669189453125,
          0.0261993408203125,
          0.026940107345581055,
          0.027673006057739258,
          0.028401613235473633,
          0.029130220413208008,
          0.029873132705688477,
          0.030606746673583984
         ],
         "hovertemplate": "Task=Iter 14<br>Start=%{base}<br>Finish=%{x}<br>Resource=%{y}<extra></extra>",
         "legendgroup": "Iter 14",
         "marker": {
          "color": "#FFA15A",
          "pattern": {
           "shape": ""
          }
         },
         "name": "Iter 14",
         "offsetgroup": "Iter 14",
         "orientation": "h",
         "showlegend": true,
         "textposition": "auto",
         "type": "bar",
         "x": [
          0.000011444091796875,
          0.000010967254638671875,
          0.00001239776611328125,
          0.000012636184692382812,
          0.000011205673217773438,
          0.00001239776611328125,
          0.000012159347534179688,
          0.000011205673217773438,
          0.00001239776611328125,
          0.0007157325744628906
         ],
         "xaxis": "x",
         "y": [
          "Node 0",
          "Node 1",
          "Node 2",
          "Node 3",
          "Node 4",
          "Node 5",
          "Node 6",
          "Node 7",
          "Node 8",
          "Node 9"
         ],
         "yaxis": "y"
        },
        {
         "alignmentgroup": "True",
         "base": [
          0.025461673736572266,
          0.0262298583984375,
          0.02695775032043457,
          0.02769613265991211,
          0.02843761444091797,
          0.029163122177124023,
          0.029961347579956055,
          0.030864715576171875,
          0.03160452842712402,
          0.03233695030212402
         ],
         "hovertemplate": "Task=Iter 15<br>Start=%{base}<br>Finish=%{x}<br>Resource=%{y}<extra></extra>",
         "legendgroup": "Iter 15",
         "marker": {
          "color": "#19d3f3",
          "pattern": {
           "shape": ""
          }
         },
         "name": "Iter 15",
         "offsetgroup": "Iter 15",
         "orientation": "h",
         "showlegend": true,
         "textposition": "auto",
         "type": "bar",
         "x": [
          0.000011920928955078125,
          0.000011920928955078125,
          0.00001239776611328125,
          0.00001239776611328125,
          0.000011444091796875,
          0.000012159347534179688,
          0.00001239776611328125,
          0.000011444091796875,
          0.000012636184692382812,
          0.0007028579711914062
         ],
         "xaxis": "x",
         "y": [
          "Node 0",
          "Node 1",
          "Node 2",
          "Node 3",
          "Node 4",
          "Node 5",
          "Node 6",
          "Node 7",
          "Node 8",
          "Node 9"
         ],
         "yaxis": "y"
        },
        {
         "alignmentgroup": "True",
         "base": [
          0.026963233947753906,
          0.027715206146240234,
          0.02845311164855957,
          0.029196739196777344,
          0.029978275299072266,
          0.03088688850402832,
          0.03162360191345215,
          0.0324249267578125,
          0.03316307067871094,
          0.03389930725097656
         ],
         "hovertemplate": "Task=Iter 16<br>Start=%{base}<br>Finish=%{x}<br>Resource=%{y}<extra></extra>",
         "legendgroup": "Iter 16",
         "marker": {
          "color": "#FF6692",
          "pattern": {
           "shape": ""
          }
         },
         "name": "Iter 16",
         "offsetgroup": "Iter 16",
         "orientation": "h",
         "showlegend": true,
         "textposition": "auto",
         "type": "bar",
         "x": [
          0.000011920928955078125,
          0.000010728836059570312,
          0.000012636184692382812,
          0.00001239776611328125,
          0.000011205673217773438,
          0.000015735626220703125,
          0.000014543533325195312,
          0.000011205673217773438,
          0.000012636184692382812,
          0.0007081031799316406
         ],
         "xaxis": "x",
         "y": [
          "Node 0",
          "Node 1",
          "Node 2",
          "Node 3",
          "Node 4",
          "Node 5",
          "Node 6",
          "Node 7",
          "Node 8",
          "Node 9"
         ],
         "yaxis": "y"
        },
        {
         "alignmentgroup": "True",
         "base": [
          0.02844405174255371,
          0.029211759567260742,
          0.0299532413482666,
          0.030725955963134766,
          0.031639814376831055,
          0.032440900802612305,
          0.033179521560668945,
          0.03391671180725098,
          0.03465628623962402,
          0.03539609909057617
         ],
         "hovertemplate": "Task=Iter 17<br>Start=%{base}<br>Finish=%{x}<br>Resource=%{y}<extra></extra>",
         "legendgroup": "Iter 17",
         "marker": {
          "color": "#B6E880",
          "pattern": {
           "shape": ""
          }
         },
         "name": "Iter 17",
         "offsetgroup": "Iter 17",
         "orientation": "h",
         "showlegend": true,
         "textposition": "auto",
         "type": "bar",
         "x": [
          0.000011205673217773438,
          0.000010728836059570312,
          0.000012159347534179688,
          0.000013113021850585938,
          0.00001239776611328125,
          0.00001239776611328125,
          0.000012874603271484375,
          0.000011682510375976562,
          0.000012636184692382812,
          0.0006995201110839844
         ],
         "xaxis": "x",
         "y": [
          "Node 0",
          "Node 1",
          "Node 2",
          "Node 3",
          "Node 4",
          "Node 5",
          "Node 6",
          "Node 7",
          "Node 8",
          "Node 9"
         ],
         "yaxis": "y"
        },
        {
         "alignmentgroup": "True",
         "base": [
          0.029943466186523438,
          0.030725955963134766,
          0.03151512145996094,
          0.03240203857421875,
          0.033174753189086914,
          0.03393244743347168,
          0.03467369079589844,
          0.035416364669799805,
          0.036150217056274414,
          0.03688693046569824
         ],
         "hovertemplate": "Task=Iter 18<br>Start=%{base}<br>Finish=%{x}<br>Resource=%{y}<extra></extra>",
         "legendgroup": "Iter 18",
         "marker": {
          "color": "#FF97FF",
          "pattern": {
           "shape": ""
          }
         },
         "name": "Iter 18",
         "offsetgroup": "Iter 18",
         "orientation": "h",
         "showlegend": true,
         "textposition": "auto",
         "type": "bar",
         "x": [
          0.000011205673217773438,
          0.000014781951904296875,
          0.00001239776611328125,
          0.000012636184692382812,
          0.000011205673217773438,
          0.000012636184692382812,
          0.000012636184692382812,
          0.000011444091796875,
          0.00001239776611328125,
          0.0007116794586181641
         ],
         "xaxis": "x",
         "y": [
          "Node 0",
          "Node 1",
          "Node 2",
          "Node 3",
          "Node 4",
          "Node 5",
          "Node 6",
          "Node 7",
          "Node 8",
          "Node 9"
         ],
         "yaxis": "y"
        },
        {
         "alignmentgroup": "True",
         "base": [
          0.03152775764465332,
          0.03227972984313965,
          0.03315544128417969,
          0.03392314910888672,
          0.034677982330322266,
          0.03543257713317871,
          0.03616690635681152,
          0.03690481185913086,
          0.037644386291503906,
          0.03838372230529785
         ],
         "hovertemplate": "Task=Iter 19<br>Start=%{base}<br>Finish=%{x}<br>Resource=%{y}<extra></extra>",
         "legendgroup": "Iter 19",
         "marker": {
          "color": "#FECB52",
          "pattern": {
           "shape": ""
          }
         },
         "name": "Iter 19",
         "offsetgroup": "Iter 19",
         "orientation": "h",
         "showlegend": true,
         "textposition": "auto",
         "type": "bar",
         "x": [
          0.000011920928955078125,
          0.000019073486328125,
          0.000012636184692382812,
          0.000012636184692382812,
          0.000011205673217773438,
          0.00001239776611328125,
          0.000012636184692382812,
          0.000011205673217773438,
          0.000012636184692382812,
          0.0007002353668212891
         ],
         "xaxis": "x",
         "y": [
          "Node 0",
          "Node 1",
          "Node 2",
          "Node 3",
          "Node 4",
          "Node 5",
          "Node 6",
          "Node 7",
          "Node 8",
          "Node 9"
         ],
         "yaxis": "y"
        },
        {
         "alignmentgroup": "True",
         "base": [
          0.03301572799682617,
          0.03390955924987793,
          0.034679412841796875,
          0.035428762435913086,
          0.03616929054260254,
          0.03691554069519043,
          0.0376589298248291,
          0.03840017318725586,
          0.039139509201049805,
          0.0398712158203125
         ],
         "hovertemplate": "Task=Iter 20<br>Start=%{base}<br>Finish=%{x}<br>Resource=%{y}<extra></extra>",
         "legendgroup": "Iter 20",
         "marker": {
          "color": "#636efa",
          "pattern": {
           "shape": ""
          }
         },
         "name": "Iter 20",
         "offsetgroup": "Iter 20",
         "orientation": "h",
         "showlegend": true,
         "textposition": "auto",
         "type": "bar",
         "x": [
          0.000013113021850585938,
          0.000011920928955078125,
          0.000011920928955078125,
          0.000011920928955078125,
          0.000011920928955078125,
          0.000011920928955078125,
          0.000011920928955078125,
          0.000011920928955078125,
          0.000011444091796875,
          0.0007171630859375
         ],
         "xaxis": "x",
         "y": [
          "Node 0",
          "Node 1",
          "Node 2",
          "Node 3",
          "Node 4",
          "Node 5",
          "Node 6",
          "Node 7",
          "Node 8",
          "Node 9"
         ],
         "yaxis": "y"
        },
        {
         "alignmentgroup": "True",
         "base": [
          0.03464102745056152,
          0.03543424606323242,
          0.03617382049560547,
          0.036917686462402344,
          0.03765749931335449,
          0.03840804100036621,
          0.0391535758972168,
          0.039887428283691406,
          0.0406343936920166,
          0.04137778282165527
         ],
         "hovertemplate": "Task=Iter 21<br>Start=%{base}<br>Finish=%{x}<br>Resource=%{y}<extra></extra>",
         "legendgroup": "Iter 21",
         "marker": {
          "color": "#EF553B",
          "pattern": {
           "shape": ""
          }
         },
         "name": "Iter 21",
         "offsetgroup": "Iter 21",
         "orientation": "h",
         "showlegend": true,
         "textposition": "auto",
         "type": "bar",
         "x": [
          0.000011682510375976562,
          0.000010967254638671875,
          0.000010967254638671875,
          0.000011444091796875,
          0.000011205673217773438,
          0.000010967254638671875,
          0.000011205673217773438,
          0.000011444091796875,
          0.000011444091796875,
          0.0006995201110839844
         ],
         "xaxis": "x",
         "y": [
          "Node 0",
          "Node 1",
          "Node 2",
          "Node 3",
          "Node 4",
          "Node 5",
          "Node 6",
          "Node 7",
          "Node 8",
          "Node 9"
         ],
         "yaxis": "y"
        },
        {
         "alignmentgroup": "True",
         "base": [
          0.03615760803222656,
          0.03692293167114258,
          0.03766965866088867,
          0.03840494155883789,
          0.03914189338684082,
          0.0399017333984375,
          0.040642499923706055,
          0.04139423370361328,
          0.042130231857299805,
          0.04286456108093262
         ],
         "hovertemplate": "Task=Iter 22<br>Start=%{base}<br>Finish=%{x}<br>Resource=%{y}<extra></extra>",
         "legendgroup": "Iter 22",
         "marker": {
          "color": "#00cc96",
          "pattern": {
           "shape": ""
          }
         },
         "name": "Iter 22",
         "offsetgroup": "Iter 22",
         "orientation": "h",
         "showlegend": true,
         "textposition": "auto",
         "type": "bar",
         "x": [
          0.000011920928955078125,
          0.000010728836059570312,
          0.000011205673217773438,
          0.000011444091796875,
          0.000011205673217773438,
          0.000011205673217773438,
          0.000011444091796875,
          0.000011682510375976562,
          0.000011205673217773438,
          0.0007061958312988281
         ],
         "xaxis": "x",
         "y": [
          "Node 0",
          "Node 1",
          "Node 2",
          "Node 3",
          "Node 4",
          "Node 5",
          "Node 6",
          "Node 7",
          "Node 8",
          "Node 9"
         ],
         "yaxis": "y"
        },
        {
         "alignmentgroup": "True",
         "base": [
          0.03765416145324707,
          0.038421630859375,
          0.0391542911529541,
          0.03989768028259277,
          0.04064679145812988,
          0.04140138626098633,
          0.0421450138092041,
          0.042881011962890625,
          0.04362607002258301,
          0.04435920715332031
         ],
         "hovertemplate": "Task=Iter 23<br>Start=%{base}<br>Finish=%{x}<br>Resource=%{y}<extra></extra>",
         "legendgroup": "Iter 23",
         "marker": {
          "color": "#ab63fa",
          "pattern": {
           "shape": ""
          }
         },
         "name": "Iter 23",
         "offsetgroup": "Iter 23",
         "orientation": "h",
         "showlegend": true,
         "textposition": "auto",
         "type": "bar",
         "x": [
          0.000011682510375976562,
          0.000010728836059570312,
          0.000010728836059570312,
          0.000013589859008789062,
          0.000011205673217773438,
          0.000011444091796875,
          0.000010967254638671875,
          0.000011444091796875,
          0.000011205673217773438,
          0.0007030963897705078
         ],
         "xaxis": "x",
         "y": [
          "Node 0",
          "Node 1",
          "Node 2",
          "Node 3",
          "Node 4",
          "Node 5",
          "Node 6",
          "Node 7",
          "Node 8",
          "Node 9"
         ],
         "yaxis": "y"
        },
        {
         "alignmentgroup": "True",
         "base": [
          0.03914594650268555,
          0.03990459442138672,
          0.04066157341003418,
          0.04140281677246094,
          0.04213714599609375,
          0.04289436340332031,
          0.043641090393066406,
          0.044374942779541016,
          0.04510641098022461,
          0.045845746994018555
         ],
         "hovertemplate": "Task=Iter 24<br>Start=%{base}<br>Finish=%{x}<br>Resource=%{y}<extra></extra>",
         "legendgroup": "Iter 24",
         "marker": {
          "color": "#FFA15A",
          "pattern": {
           "shape": ""
          }
         },
         "name": "Iter 24",
         "offsetgroup": "Iter 24",
         "orientation": "h",
         "showlegend": true,
         "textposition": "auto",
         "type": "bar",
         "x": [
          0.000011444091796875,
          0.000011444091796875,
          0.000011444091796875,
          0.00001239776611328125,
          0.000011444091796875,
          0.000010967254638671875,
          0.000010967254638671875,
          0.000011205673217773438,
          0.000013113021850585938,
          0.0007064342498779297
         ],
         "xaxis": "x",
         "y": [
          "Node 0",
          "Node 1",
          "Node 2",
          "Node 3",
          "Node 4",
          "Node 5",
          "Node 6",
          "Node 7",
          "Node 8",
          "Node 9"
         ],
         "yaxis": "y"
        },
        {
         "alignmentgroup": "True",
         "base": [
          0.0406343936920166,
          0.041417598724365234,
          0.04214954376220703,
          0.04288744926452637,
          0.04363703727722168,
          0.0443878173828125,
          0.04512381553649902,
          0.04586291313171387,
          0.046602487564086914,
          0.04733419418334961
         ],
         "hovertemplate": "Task=Iter 25<br>Start=%{base}<br>Finish=%{x}<br>Resource=%{y}<extra></extra>",
         "legendgroup": "Iter 25",
         "marker": {
          "color": "#19d3f3",
          "pattern": {
           "shape": ""
          }
         },
         "name": "Iter 25",
         "offsetgroup": "Iter 25",
         "orientation": "h",
         "showlegend": true,
         "textposition": "auto",
         "type": "bar",
         "x": [
          0.000011682510375976562,
          0.000011205673217773438,
          0.000010967254638671875,
          0.000012159347534179688,
          0.000011444091796875,
          0.000010967254638671875,
          0.000013589859008789062,
          0.000011205673217773438,
          0.000011444091796875,
          0.0006978511810302734
         ],
         "xaxis": "x",
         "y": [
          "Node 0",
          "Node 1",
          "Node 2",
          "Node 3",
          "Node 4",
          "Node 5",
          "Node 6",
          "Node 7",
          "Node 8",
          "Node 9"
         ],
         "yaxis": "y"
        },
        {
         "alignmentgroup": "True",
         "base": [
          0.04214048385620117,
          0.04290270805358887,
          0.04364275932312012,
          0.04438638687133789,
          0.04512500762939453,
          0.0458829402923584,
          0.04661917686462402,
          0.047350406646728516,
          0.04808354377746582,
          0.048807621002197266
         ],
         "hovertemplate": "Task=Iter 26<br>Start=%{base}<br>Finish=%{x}<br>Resource=%{y}<extra></extra>",
         "legendgroup": "Iter 26",
         "marker": {
          "color": "#FF6692",
          "pattern": {
           "shape": ""
          }
         },
         "name": "Iter 26",
         "offsetgroup": "Iter 26",
         "orientation": "h",
         "showlegend": true,
         "textposition": "auto",
         "type": "bar",
         "x": [
          0.000011444091796875,
          0.000010967254638671875,
          0.000010967254638671875,
          0.000012636184692382812,
          0.000011205673217773438,
          0.000011205673217773438,
          0.000011444091796875,
          0.000010967254638671875,
          0.000011205673217773438,
          0.0007085800170898438
         ],
         "xaxis": "x",
         "y": [
          "Node 0",
          "Node 1",
          "Node 2",
          "Node 3",
          "Node 4",
          "Node 5",
          "Node 6",
          "Node 7",
          "Node 8",
          "Node 9"
         ],
         "yaxis": "y"
        },
        {
         "alignmentgroup": "True",
         "base": [
          0.043634653091430664,
          0.044393301010131836,
          0.04513216018676758,
          0.0458829402923584,
          0.046625375747680664,
          0.04736661911010742,
          0.048097848892211914,
          0.048827171325683594,
          0.04956793785095215,
          0.0502927303314209
         ],
         "hovertemplate": "Task=Iter 27<br>Start=%{base}<br>Finish=%{x}<br>Resource=%{y}<extra></extra>",
         "legendgroup": "Iter 27",
         "marker": {
          "color": "#B6E880",
          "pattern": {
           "shape": ""
          }
         },
         "name": "Iter 27",
         "offsetgroup": "Iter 27",
         "orientation": "h",
         "showlegend": true,
         "textposition": "auto",
         "type": "bar",
         "x": [
          0.000011444091796875,
          0.000011205673217773438,
          0.000012159347534179688,
          0.000012159347534179688,
          0.000011205673217773438,
          0.000010967254638671875,
          0.000011444091796875,
          0.000011682510375976562,
          0.000011205673217773438,
          0.0006995201110839844
         ],
         "xaxis": "x",
         "y": [
          "Node 0",
          "Node 1",
          "Node 2",
          "Node 3",
          "Node 4",
          "Node 5",
          "Node 6",
          "Node 7",
          "Node 8",
          "Node 9"
         ],
         "yaxis": "y"
        },
        {
         "alignmentgroup": "True",
         "base": [
          0.04511666297912598,
          0.04588937759399414,
          0.04663515090942383,
          0.04737401008605957,
          0.04810762405395508,
          0.04884839057922363,
          0.04958629608154297,
          0.05031299591064453,
          0.051045894622802734,
          0.051775217056274414
         ],
         "hovertemplate": "Task=Iter 28<br>Start=%{base}<br>Finish=%{x}<br>Resource=%{y}<extra></extra>",
         "legendgroup": "Iter 28",
         "marker": {
          "color": "#FF97FF",
          "pattern": {
           "shape": ""
          }
         },
         "name": "Iter 28",
         "offsetgroup": "Iter 28",
         "orientation": "h",
         "showlegend": true,
         "textposition": "auto",
         "type": "bar",
         "x": [
          0.000011205673217773438,
          0.000011205673217773438,
          0.000011205673217773438,
          0.000011682510375976562,
          0.000011444091796875,
          0.000010967254638671875,
          0.000011205673217773438,
          0.000011920928955078125,
          0.000011444091796875,
          0.0007076263427734375
         ],
         "xaxis": "x",
         "y": [
          "Node 0",
          "Node 1",
          "Node 2",
          "Node 3",
          "Node 4",
          "Node 5",
          "Node 6",
          "Node 7",
          "Node 8",
          "Node 9"
         ],
         "yaxis": "y"
        },
        {
         "alignmentgroup": "True",
         "base": [
          0.04662060737609863,
          0.047387123107910156,
          0.048123836517333984,
          0.04886603355407715,
          0.049599647521972656,
          0.050330400466918945,
          0.05106639862060547,
          0.051796674728393555,
          0.052530527114868164,
          0.0532526969909668
         ],
         "hovertemplate": "Task=Iter 29<br>Start=%{base}<br>Finish=%{x}<br>Resource=%{y}<extra></extra>",
         "legendgroup": "Iter 29",
         "marker": {
          "color": "#FECB52",
          "pattern": {
           "shape": ""
          }
         },
         "name": "Iter 29",
         "offsetgroup": "Iter 29",
         "orientation": "h",
         "showlegend": true,
         "textposition": "auto",
         "type": "bar",
         "x": [
          0.000011205673217773438,
          0.000010728836059570312,
          0.000010967254638671875,
          0.000011444091796875,
          0.000010967254638671875,
          0.000011444091796875,
          0.000011205673217773438,
          0.000011205673217773438,
          0.000011205673217773438,
          0.0007071495056152344
         ],
         "xaxis": "x",
         "y": [
          "Node 0",
          "Node 1",
          "Node 2",
          "Node 3",
          "Node 4",
          "Node 5",
          "Node 6",
          "Node 7",
          "Node 8",
          "Node 9"
         ],
         "yaxis": "y"
        },
        {
         "alignmentgroup": "True",
         "base": [
          0.048108577728271484,
          0.0488739013671875,
          0.04961442947387695,
          0.05034899711608887,
          0.051076412200927734,
          0.051813602447509766,
          0.05254721641540527,
          0.053269147872924805,
          0.054009437561035156,
          0.05474352836608887
         ],
         "hovertemplate": "Task=Iter 30<br>Start=%{base}<br>Finish=%{x}<br>Resource=%{y}<extra></extra>",
         "legendgroup": "Iter 30",
         "marker": {
          "color": "#636efa",
          "pattern": {
           "shape": ""
          }
         },
         "name": "Iter 30",
         "offsetgroup": "Iter 30",
         "orientation": "h",
         "showlegend": true,
         "textposition": "auto",
         "type": "bar",
         "x": [
          0.000011205673217773438,
          0.000010967254638671875,
          0.000010967254638671875,
          0.000011444091796875,
          0.000011205673217773438,
          0.000010967254638671875,
          0.000010967254638671875,
          0.000010967254638671875,
          0.000011682510375976562,
          0.0007102489471435547
         ],
         "xaxis": "x",
         "y": [
          "Node 0",
          "Node 1",
          "Node 2",
          "Node 3",
          "Node 4",
          "Node 5",
          "Node 6",
          "Node 7",
          "Node 8",
          "Node 9"
         ],
         "yaxis": "y"
        },
        {
         "alignmentgroup": "True",
         "base": [
          0.04960465431213379,
          0.05036616325378418,
          0.05109763145446777,
          0.05183219909667969,
          0.0525660514831543,
          0.05329394340515137,
          0.054024696350097656,
          0.05475902557373047,
          0.05550050735473633,
          0.05622410774230957
         ],
         "hovertemplate": "Task=Iter 31<br>Start=%{base}<br>Finish=%{x}<br>Resource=%{y}<extra></extra>",
         "legendgroup": "Iter 31",
         "marker": {
          "color": "#EF553B",
          "pattern": {
           "shape": ""
          }
         },
         "name": "Iter 31",
         "offsetgroup": "Iter 31",
         "orientation": "h",
         "showlegend": true,
         "textposition": "auto",
         "type": "bar",
         "x": [
          0.000011444091796875,
          0.000010967254638671875,
          0.00001239776611328125,
          0.000011444091796875,
          0.000011205673217773438,
          0.000011205673217773438,
          0.000010967254638671875,
          0.000011205673217773438,
          0.000011205673217773438,
          0.0007147789001464844
         ],
         "xaxis": "x",
         "y": [
          "Node 0",
          "Node 1",
          "Node 2",
          "Node 3",
          "Node 4",
          "Node 5",
          "Node 6",
          "Node 7",
          "Node 8",
          "Node 9"
         ],
         "yaxis": "y"
        },
        {
         "alignmentgroup": "True",
         "base": [
          0.05108976364135742,
          0.0518498420715332,
          0.05258536338806152,
          0.05332446098327637,
          0.054055213928222656,
          0.054785966873168945,
          0.055524349212646484,
          0.05630826950073242,
          0.05704045295715332,
          0.05778193473815918
         ],
         "hovertemplate": "Task=Iter 32<br>Start=%{base}<br>Finish=%{x}<br>Resource=%{y}<extra></extra>",
         "legendgroup": "Iter 32",
         "marker": {
          "color": "#00cc96",
          "pattern": {
           "shape": ""
          }
         },
         "name": "Iter 32",
         "offsetgroup": "Iter 32",
         "orientation": "h",
         "showlegend": true,
         "textposition": "auto",
         "type": "bar",
         "x": [
          0.000011205673217773438,
          0.000010967254638671875,
          0.000010967254638671875,
          0.000011205673217773438,
          0.000011444091796875,
          0.000010967254638671875,
          0.000014543533325195312,
          0.000011682510375976562,
          0.000011682510375976562,
          0.0007114410400390625
         ],
         "xaxis": "x",
         "y": [
          "Node 0",
          "Node 1",
          "Node 2",
          "Node 3",
          "Node 4",
          "Node 5",
          "Node 6",
          "Node 7",
          "Node 8",
          "Node 9"
         ],
         "yaxis": "y"
        },
        {
         "alignmentgroup": "True",
         "base": [
          0.052596092224121094,
          0.053350210189819336,
          0.054071664810180664,
          0.0548100471496582,
          0.05554461479187012,
          0.05632424354553223,
          0.05706334114074707,
          0.05786609649658203,
          0.05861186981201172,
          0.05934429168701172
         ],
         "hovertemplate": "Task=Iter 33<br>Start=%{base}<br>Finish=%{x}<br>Resource=%{y}<extra></extra>",
         "legendgroup": "Iter 33",
         "marker": {
          "color": "#ab63fa",
          "pattern": {
           "shape": ""
          }
         },
         "name": "Iter 33",
         "offsetgroup": "Iter 33",
         "orientation": "h",
         "showlegend": true,
         "textposition": "auto",
         "type": "bar",
         "x": [
          0.000011682510375976562,
          0.000011682510375976562,
          0.000011205673217773438,
          0.000011205673217773438,
          0.000011682510375976562,
          0.000010967254638671875,
          0.000011920928955078125,
          0.000011444091796875,
          0.000011444091796875,
          0.000701904296875
         ],
         "xaxis": "x",
         "y": [
          "Node 0",
          "Node 1",
          "Node 2",
          "Node 3",
          "Node 4",
          "Node 5",
          "Node 6",
          "Node 7",
          "Node 8",
          "Node 9"
         ],
         "yaxis": "y"
        },
        {
         "alignmentgroup": "True",
         "base": [
          0.0540766716003418,
          0.05483603477478027,
          0.0555722713470459,
          0.056311607360839844,
          0.057057857513427734,
          0.057882070541381836,
          0.05863595008850098,
          0.059372901916503906,
          0.06010150909423828,
          0.060840606689453125
         ],
         "hovertemplate": "Task=Iter 34<br>Start=%{base}<br>Finish=%{x}<br>Resource=%{y}<extra></extra>",
         "legendgroup": "Iter 34",
         "marker": {
          "color": "#FFA15A",
          "pattern": {
           "shape": ""
          }
         },
         "name": "Iter 34",
         "offsetgroup": "Iter 34",
         "orientation": "h",
         "showlegend": true,
         "textposition": "auto",
         "type": "bar",
         "x": [
          0.000011205673217773438,
          0.000015020370483398438,
          0.000010967254638671875,
          0.000011444091796875,
          0.000011444091796875,
          0.000010728836059570312,
          0.000014781951904296875,
          0.000011205673217773438,
          0.000012636184692382812,
          0.0007202625274658203
         ],
         "xaxis": "x",
         "y": [
          "Node 0",
          "Node 1",
          "Node 2",
          "Node 3",
          "Node 4",
          "Node 5",
          "Node 6",
          "Node 7",
          "Node 8",
          "Node 9"
         ],
         "yaxis": "y"
        },
        {
         "alignmentgroup": "True",
         "base": [
          0.05558371543884277,
          0.05633854866027832,
          0.057102203369140625,
          0.05783796310424805,
          0.05861783027648926,
          0.05938911437988281,
          0.06012916564941406,
          0.06090712547302246,
          0.06164836883544922,
          0.06238150596618652
         ],
         "hovertemplate": "Task=Iter 35<br>Start=%{base}<br>Finish=%{x}<br>Resource=%{y}<extra></extra>",
         "legendgroup": "Iter 35",
         "marker": {
          "color": "#19d3f3",
          "pattern": {
           "shape": ""
          }
         },
         "name": "Iter 35",
         "offsetgroup": "Iter 35",
         "orientation": "h",
         "showlegend": true,
         "textposition": "auto",
         "type": "bar",
         "x": [
          0.000011205673217773438,
          0.000015020370483398438,
          0.000012159347534179688,
          0.000011205673217773438,
          0.000011444091796875,
          0.000010728836059570312,
          0.00001430511474609375,
          0.000011205673217773438,
          0.000011444091796875,
          0.0007038116455078125
         ],
         "xaxis": "x",
         "y": [
          "Node 0",
          "Node 1",
          "Node 2",
          "Node 3",
          "Node 4",
          "Node 5",
          "Node 6",
          "Node 7",
          "Node 8",
          "Node 9"
         ],
         "yaxis": "y"
        },
        {
         "alignmentgroup": "True",
         "base": [
          0.05711174011230469,
          0.057862043380737305,
          0.058634281158447266,
          0.059369564056396484,
          0.0601198673248291,
          0.06092333793640137,
          0.061664581298828125,
          0.06239914894104004,
          0.06313014030456543,
          0.06386709213256836
         ],
         "hovertemplate": "Task=Iter 36<br>Start=%{base}<br>Finish=%{x}<br>Resource=%{y}<extra></extra>",
         "legendgroup": "Iter 36",
         "marker": {
          "color": "#FF6692",
          "pattern": {
           "shape": ""
          }
         },
         "name": "Iter 36",
         "offsetgroup": "Iter 36",
         "orientation": "h",
         "showlegend": true,
         "textposition": "auto",
         "type": "bar",
         "x": [
          0.000011205673217773438,
          0.000011920928955078125,
          0.000011205673217773438,
          0.000011205673217773438,
          0.000011444091796875,
          0.000010967254638671875,
          0.000012874603271484375,
          0.000010967254638671875,
          0.000011444091796875,
          0.0007214546203613281
         ],
         "xaxis": "x",
         "y": [
          "Node 0",
          "Node 1",
          "Node 2",
          "Node 3",
          "Node 4",
          "Node 5",
          "Node 6",
          "Node 7",
          "Node 8",
          "Node 9"
         ],
         "yaxis": "y"
        },
        {
         "alignmentgroup": "True",
         "base": [
          0.05864524841308594,
          0.05940079689025879,
          0.060128211975097656,
          0.06086850166320801,
          0.061662912368774414,
          0.06241440773010254,
          0.06314587593078613,
          0.06388258934020996,
          0.06463384628295898,
          0.0653696060180664
         ],
         "hovertemplate": "Task=Iter 37<br>Start=%{base}<br>Finish=%{x}<br>Resource=%{y}<extra></extra>",
         "legendgroup": "Iter 37",
         "marker": {
          "color": "#B6E880",
          "pattern": {
           "shape": ""
          }
         },
         "name": "Iter 37",
         "offsetgroup": "Iter 37",
         "orientation": "h",
         "showlegend": true,
         "textposition": "auto",
         "type": "bar",
         "x": [
          0.000011444091796875,
          0.000014781951904296875,
          0.000010728836059570312,
          0.000011444091796875,
          0.000010967254638671875,
          0.000010728836059570312,
          0.000010967254638671875,
          0.000011205673217773438,
          0.000011205673217773438,
          0.0007028579711914062
         ],
         "xaxis": "x",
         "y": [
          "Node 0",
          "Node 1",
          "Node 2",
          "Node 3",
          "Node 4",
          "Node 5",
          "Node 6",
          "Node 7",
          "Node 8",
          "Node 9"
         ],
         "yaxis": "y"
        },
        {
         "alignmentgroup": "True",
         "base": [
          0.06013751029968262,
          0.060898780822753906,
          0.06163740158081055,
          0.062408447265625,
          0.06314587593078613,
          0.06389141082763672,
          0.06463861465454102,
          0.06538510322570801,
          0.0661156177520752,
          0.06684470176696777
         ],
         "hovertemplate": "Task=Iter 38<br>Start=%{base}<br>Finish=%{x}<br>Resource=%{y}<extra></extra>",
         "legendgroup": "Iter 38",
         "marker": {
          "color": "#FF97FF",
          "pattern": {
           "shape": ""
          }
         },
         "name": "Iter 38",
         "offsetgroup": "Iter 38",
         "orientation": "h",
         "showlegend": true,
         "textposition": "auto",
         "type": "bar",
         "x": [
          0.000011444091796875,
          0.000014781951904296875,
          0.000011205673217773438,
          0.000011205673217773438,
          0.000010967254638671875,
          0.000010728836059570312,
          0.000011444091796875,
          0.000011205673217773438,
          0.000011444091796875,
          0.0007157325744628906
         ],
         "xaxis": "x",
         "y": [
          "Node 0",
          "Node 1",
          "Node 2",
          "Node 3",
          "Node 4",
          "Node 5",
          "Node 6",
          "Node 7",
          "Node 8",
          "Node 9"
         ],
         "yaxis": "y"
        },
        {
         "alignmentgroup": "True",
         "base": [
          0.06164860725402832,
          0.062395572662353516,
          0.0631551742553711,
          0.06388998031616211,
          0.06463623046875,
          0.06539130210876465,
          0.06612825393676758,
          0.06686019897460938,
          0.06760454177856445,
          0.06833744049072266
         ],
         "hovertemplate": "Task=Iter 39<br>Start=%{base}<br>Finish=%{x}<br>Resource=%{y}<extra></extra>",
         "legendgroup": "Iter 39",
         "marker": {
          "color": "#FECB52",
          "pattern": {
           "shape": ""
          }
         },
         "name": "Iter 39",
         "offsetgroup": "Iter 39",
         "orientation": "h",
         "showlegend": true,
         "textposition": "auto",
         "type": "bar",
         "x": [
          0.000011444091796875,
          0.000011444091796875,
          0.000010728836059570312,
          0.000011444091796875,
          0.000011682510375976562,
          0.000010728836059570312,
          0.000011205673217773438,
          0.000010967254638671875,
          0.000011444091796875,
          0.0007059574127197266
         ],
         "xaxis": "x",
         "y": [
          "Node 0",
          "Node 1",
          "Node 2",
          "Node 3",
          "Node 4",
          "Node 5",
          "Node 6",
          "Node 7",
          "Node 8",
          "Node 9"
         ],
         "yaxis": "y"
        },
        {
         "alignmentgroup": "True",
         "base": [
          0.06312179565429688,
          0.0639040470123291,
          0.0646517276763916,
          0.06539225578308105,
          0.06612491607666016,
          0.06687211990356445,
          0.06761741638183594,
          0.06835651397705078,
          0.06908869743347168,
          0.0698251724243164
         ],
         "hovertemplate": "Task=Iter 40<br>Start=%{base}<br>Finish=%{x}<br>Resource=%{y}<extra></extra>",
         "legendgroup": "Iter 40",
         "marker": {
          "color": "#636efa",
          "pattern": {
           "shape": ""
          }
         },
         "name": "Iter 40",
         "offsetgroup": "Iter 40",
         "orientation": "h",
         "showlegend": true,
         "textposition": "auto",
         "type": "bar",
         "x": [
          0.000011444091796875,
          0.000011444091796875,
          0.000010967254638671875,
          0.000011205673217773438,
          0.000011205673217773438,
          0.000010728836059570312,
          0.000011444091796875,
          0.000011205673217773438,
          0.000011205673217773438,
          0.0007109642028808594
         ],
         "xaxis": "x",
         "y": [
          "Node 0",
          "Node 1",
          "Node 2",
          "Node 3",
          "Node 4",
          "Node 5",
          "Node 6",
          "Node 7",
          "Node 8",
          "Node 9"
         ],
         "yaxis": "y"
        },
        {
         "alignmentgroup": "True",
         "base": [
          0.06464624404907227,
          0.06541037559509277,
          0.06613707542419434,
          0.06687545776367188,
          0.06762075424194336,
          0.06837296485900879,
          0.06910943984985352,
          0.0698404312133789,
          0.07058191299438477,
          0.07131505012512207
         ],
         "hovertemplate": "Task=Iter 41<br>Start=%{base}<br>Finish=%{x}<br>Resource=%{y}<extra></extra>",
         "legendgroup": "Iter 41",
         "marker": {
          "color": "#EF553B",
          "pattern": {
           "shape": ""
          }
         },
         "name": "Iter 41",
         "offsetgroup": "Iter 41",
         "orientation": "h",
         "showlegend": true,
         "textposition": "auto",
         "type": "bar",
         "x": [
          0.000011205673217773438,
          0.000011682510375976562,
          0.000010967254638671875,
          0.000011444091796875,
          0.000011205673217773438,
          0.000010967254638671875,
          0.000011682510375976562,
          0.000011444091796875,
          0.000011205673217773438,
          0.0007033348083496094
         ],
         "xaxis": "x",
         "y": [
          "Node 0",
          "Node 1",
          "Node 2",
          "Node 3",
          "Node 4",
          "Node 5",
          "Node 6",
          "Node 7",
          "Node 8",
          "Node 9"
         ],
         "yaxis": "y"
        },
        {
         "alignmentgroup": "True",
         "base": [
          0.06613731384277344,
          0.06688594818115234,
          0.0676274299621582,
          0.06837344169616699,
          0.06910920143127441,
          0.06985616683959961,
          0.07059168815612793,
          0.07132959365844727,
          0.07206106185913086,
          0.07279419898986816
         ],
         "hovertemplate": "Task=Iter 42<br>Start=%{base}<br>Finish=%{x}<br>Resource=%{y}<extra></extra>",
         "legendgroup": "Iter 42",
         "marker": {
          "color": "#00cc96",
          "pattern": {
           "shape": ""
          }
         },
         "name": "Iter 42",
         "offsetgroup": "Iter 42",
         "orientation": "h",
         "showlegend": true,
         "textposition": "auto",
         "type": "bar",
         "x": [
          0.000011444091796875,
          0.000011444091796875,
          0.000010967254638671875,
          0.000011205673217773438,
          0.000011205673217773438,
          0.000010967254638671875,
          0.000011205673217773438,
          0.000011444091796875,
          0.000010967254638671875,
          0.0007114410400390625
         ],
         "xaxis": "x",
         "y": [
          "Node 0",
          "Node 1",
          "Node 2",
          "Node 3",
          "Node 4",
          "Node 5",
          "Node 6",
          "Node 7",
          "Node 8",
          "Node 9"
         ],
         "yaxis": "y"
        },
        {
         "alignmentgroup": "True",
         "base": [
          0.06762051582336426,
          0.06837749481201172,
          0.06911420822143555,
          0.06985712051391602,
          0.07059597969055176,
          0.07133984565734863,
          0.07207250595092773,
          0.07281017303466797,
          0.0735483169555664,
          0.07427215576171875
         ],
         "hovertemplate": "Task=Iter 43<br>Start=%{base}<br>Finish=%{x}<br>Resource=%{y}<extra></extra>",
         "legendgroup": "Iter 43",
         "marker": {
          "color": "#ab63fa",
          "pattern": {
           "shape": ""
          }
         },
         "name": "Iter 43",
         "offsetgroup": "Iter 43",
         "orientation": "h",
         "showlegend": true,
         "textposition": "auto",
         "type": "bar",
         "x": [
          0.000011205673217773438,
          0.000011444091796875,
          0.000010967254638671875,
          0.000011682510375976562,
          0.000011205673217773438,
          0.000010967254638671875,
          0.000011205673217773438,
          0.000010967254638671875,
          0.000011444091796875,
          0.0007104873657226562
         ],
         "xaxis": "x",
         "y": [
          "Node 0",
          "Node 1",
          "Node 2",
          "Node 3",
          "Node 4",
          "Node 5",
          "Node 6",
          "Node 7",
          "Node 8",
          "Node 9"
         ],
         "yaxis": "y"
        },
        {
         "alignmentgroup": "True",
         "base": [
          0.06910276412963867,
          0.0698690414428711,
          0.07060766220092773,
          0.07134437561035156,
          0.07207202911376953,
          0.07281780242919922,
          0.07356142997741699,
          0.07429313659667969,
          0.07502555847167969,
          0.07575321197509766
         ],
         "hovertemplate": "Task=Iter 44<br>Start=%{base}<br>Finish=%{x}<br>Resource=%{y}<extra></extra>",
         "legendgroup": "Iter 44",
         "marker": {
          "color": "#FFA15A",
          "pattern": {
           "shape": ""
          }
         },
         "name": "Iter 44",
         "offsetgroup": "Iter 44",
         "orientation": "h",
         "showlegend": true,
         "textposition": "auto",
         "type": "bar",
         "x": [
          0.000011205673217773438,
          0.000011205673217773438,
          0.000010967254638671875,
          0.000011205673217773438,
          0.000011682510375976562,
          0.000010967254638671875,
          0.000010967254638671875,
          0.000011682510375976562,
          0.000011444091796875,
          0.0007076263427734375
         ],
         "xaxis": "x",
         "y": [
          "Node 0",
          "Node 1",
          "Node 2",
          "Node 3",
          "Node 4",
          "Node 5",
          "Node 6",
          "Node 7",
          "Node 8",
          "Node 9"
         ],
         "yaxis": "y"
        },
        {
         "alignmentgroup": "True",
         "base": [
          0.07060003280639648,
          0.07136225700378418,
          0.07208847999572754,
          0.07282233238220215,
          0.07355761528015137,
          0.07430219650268555,
          0.07503890991210938,
          0.07576894760131836,
          0.07650399208068848,
          0.07723212242126465
         ],
         "hovertemplate": "Task=Iter 45<br>Start=%{base}<br>Finish=%{x}<br>Resource=%{y}<extra></extra>",
         "legendgroup": "Iter 45",
         "marker": {
          "color": "#19d3f3",
          "pattern": {
           "shape": ""
          }
         },
         "name": "Iter 45",
         "offsetgroup": "Iter 45",
         "orientation": "h",
         "showlegend": true,
         "textposition": "auto",
         "type": "bar",
         "x": [
          0.000011205673217773438,
          0.000010728836059570312,
          0.000010728836059570312,
          0.000011444091796875,
          0.000010967254638671875,
          0.000010967254638671875,
          0.000010967254638671875,
          0.000011205673217773438,
          0.000011205673217773438,
          0.0007085800170898438
         ],
         "xaxis": "x",
         "y": [
          "Node 0",
          "Node 1",
          "Node 2",
          "Node 3",
          "Node 4",
          "Node 5",
          "Node 6",
          "Node 7",
          "Node 8",
          "Node 9"
         ],
         "yaxis": "y"
        },
        {
         "alignmentgroup": "True",
         "base": [
          0.07208609580993652,
          0.07283830642700195,
          0.07357358932495117,
          0.0743093490600586,
          0.07503461837768555,
          0.0757761001586914,
          0.07651591300964355,
          0.07724595069885254,
          0.07798457145690918,
          0.0787208080291748
         ],
         "hovertemplate": "Task=Iter 46<br>Start=%{base}<br>Finish=%{x}<br>Resource=%{y}<extra></extra>",
         "legendgroup": "Iter 46",
         "marker": {
          "color": "#FF6692",
          "pattern": {
           "shape": ""
          }
         },
         "name": "Iter 46",
         "offsetgroup": "Iter 46",
         "orientation": "h",
         "showlegend": true,
         "textposition": "auto",
         "type": "bar",
         "x": [
          0.000011444091796875,
          0.000010967254638671875,
          0.000010967254638671875,
          0.000011205673217773438,
          0.000010967254638671875,
          0.000010967254638671875,
          0.000010728836059570312,
          0.000011205673217773438,
          0.000014066696166992188,
          0.0007162094116210938
         ],
         "xaxis": "x",
         "y": [
          "Node 0",
          "Node 1",
          "Node 2",
          "Node 3",
          "Node 4",
          "Node 5",
          "Node 6",
          "Node 7",
          "Node 8",
          "Node 9"
         ],
         "yaxis": "y"
        },
        {
         "alignmentgroup": "True",
         "base": [
          0.07357096672058105,
          0.07432842254638672,
          0.07505154609680176,
          0.07578301429748535,
          0.0765237808227539,
          0.07725119590759277,
          0.07799363136291504,
          0.0787353515625,
          0.07948064804077148,
          0.08020472526550293
         ],
         "hovertemplate": "Task=Iter 47<br>Start=%{base}<br>Finish=%{x}<br>Resource=%{y}<extra></extra>",
         "legendgroup": "Iter 47",
         "marker": {
          "color": "#B6E880",
          "pattern": {
           "shape": ""
          }
         },
         "name": "Iter 47",
         "offsetgroup": "Iter 47",
         "orientation": "h",
         "showlegend": true,
         "textposition": "auto",
         "type": "bar",
         "x": [
          0.000010967254638671875,
          0.000010967254638671875,
          0.000011205673217773438,
          0.000011205673217773438,
          0.000011444091796875,
          0.000010967254638671875,
          0.000011205673217773438,
          0.000010967254638671875,
          0.000011682510375976562,
          0.0007112026214599609
         ],
         "xaxis": "x",
         "y": [
          "Node 0",
          "Node 1",
          "Node 2",
          "Node 3",
          "Node 4",
          "Node 5",
          "Node 6",
          "Node 7",
          "Node 8",
          "Node 9"
         ],
         "yaxis": "y"
        },
        {
         "alignmentgroup": "True",
         "base": [
          0.07505321502685547,
          0.07580089569091797,
          0.0765385627746582,
          0.07726836204528809,
          0.07800149917602539,
          0.07873916625976562,
          0.07948470115661621,
          0.08021879196166992,
          0.08095812797546387,
          0.08169150352478027
         ],
         "hovertemplate": "Task=Iter 48<br>Start=%{base}<br>Finish=%{x}<br>Resource=%{y}<extra></extra>",
         "legendgroup": "Iter 48",
         "marker": {
          "color": "#FF97FF",
          "pattern": {
           "shape": ""
          }
         },
         "name": "Iter 48",
         "offsetgroup": "Iter 48",
         "orientation": "h",
         "showlegend": true,
         "textposition": "auto",
         "type": "bar",
         "x": [
          0.000010967254638671875,
          0.000011205673217773438,
          0.000010967254638671875,
          0.000010967254638671875,
          0.000013113021850585938,
          0.000010728836059570312,
          0.000011205673217773438,
          0.000011205673217773438,
          0.000011205673217773438,
          0.0007140636444091797
         ],
         "xaxis": "x",
         "y": [
          "Node 0",
          "Node 1",
          "Node 2",
          "Node 3",
          "Node 4",
          "Node 5",
          "Node 6",
          "Node 7",
          "Node 8",
          "Node 9"
         ],
         "yaxis": "y"
        },
        {
         "alignmentgroup": "True",
         "base": [
          0.07653045654296875,
          0.07728862762451172,
          0.0780191421508789,
          0.07875514030456543,
          0.0794985294342041,
          0.0802297592163086,
          0.08096957206726074,
          0.08170580863952637,
          0.08244800567626953,
          0.08317232131958008
         ],
         "hovertemplate": "Task=Iter 49<br>Start=%{base}<br>Finish=%{x}<br>Resource=%{y}<extra></extra>",
         "legendgroup": "Iter 49",
         "marker": {
          "color": "#FECB52",
          "pattern": {
           "shape": ""
          }
         },
         "name": "Iter 49",
         "offsetgroup": "Iter 49",
         "orientation": "h",
         "showlegend": true,
         "textposition": "auto",
         "type": "bar",
         "x": [
          0.000011444091796875,
          0.000010967254638671875,
          0.000011920928955078125,
          0.000011444091796875,
          0.000012636184692382812,
          0.000011205673217773438,
          0.000010967254638671875,
          0.000011444091796875,
          0.000011205673217773438,
          0.00070953369140625
         ],
         "xaxis": "x",
         "y": [
          "Node 0",
          "Node 1",
          "Node 2",
          "Node 3",
          "Node 4",
          "Node 5",
          "Node 6",
          "Node 7",
          "Node 8",
          "Node 9"
         ],
         "yaxis": "y"
        },
        {
         "alignmentgroup": "True",
         "base": [
          0.07801389694213867,
          0.07877278327941895,
          0.07951498031616211,
          0.0802454948425293,
          0.08098030090332031,
          0.08170819282531738,
          0.08245635032653809,
          0.08318614959716797,
          0.0839240550994873,
          0.08465337753295898
         ],
         "hovertemplate": "Task=Iter 50<br>Start=%{base}<br>Finish=%{x}<br>Resource=%{y}<extra></extra>",
         "legendgroup": "Iter 50",
         "marker": {
          "color": "#636efa",
          "pattern": {
           "shape": ""
          }
         },
         "name": "Iter 50",
         "offsetgroup": "Iter 50",
         "orientation": "h",
         "showlegend": true,
         "textposition": "auto",
         "type": "bar",
         "x": [
          0.000010967254638671875,
          0.000011205673217773438,
          0.000011920928955078125,
          0.000011205673217773438,
          0.000011444091796875,
          0.000010967254638671875,
          0.000011205673217773438,
          0.000010967254638671875,
          0.000011205673217773438,
          0.0007140636444091797
         ],
         "xaxis": "x",
         "y": [
          "Node 0",
          "Node 1",
          "Node 2",
          "Node 3",
          "Node 4",
          "Node 5",
          "Node 6",
          "Node 7",
          "Node 8",
          "Node 9"
         ],
         "yaxis": "y"
        }
       ],
       "layout": {
        "barmode": "overlay",
        "legend": {
         "title": {
          "text": "Task"
         },
         "tracegroupgap": 0
        },
        "margin": {
         "t": 60
        },
        "template": {
         "data": {
          "bar": [
           {
            "error_x": {
             "color": "#2a3f5f"
            },
            "error_y": {
             "color": "#2a3f5f"
            },
            "marker": {
             "line": {
              "color": "#E5ECF6",
              "width": 0.5
             },
             "pattern": {
              "fillmode": "overlay",
              "size": 10,
              "solidity": 0.2
             }
            },
            "type": "bar"
           }
          ],
          "barpolar": [
           {
            "marker": {
             "line": {
              "color": "#E5ECF6",
              "width": 0.5
             },
             "pattern": {
              "fillmode": "overlay",
              "size": 10,
              "solidity": 0.2
             }
            },
            "type": "barpolar"
           }
          ],
          "carpet": [
           {
            "aaxis": {
             "endlinecolor": "#2a3f5f",
             "gridcolor": "white",
             "linecolor": "white",
             "minorgridcolor": "white",
             "startlinecolor": "#2a3f5f"
            },
            "baxis": {
             "endlinecolor": "#2a3f5f",
             "gridcolor": "white",
             "linecolor": "white",
             "minorgridcolor": "white",
             "startlinecolor": "#2a3f5f"
            },
            "type": "carpet"
           }
          ],
          "choropleth": [
           {
            "colorbar": {
             "outlinewidth": 0,
             "ticks": ""
            },
            "type": "choropleth"
           }
          ],
          "contour": [
           {
            "colorbar": {
             "outlinewidth": 0,
             "ticks": ""
            },
            "colorscale": [
             [
              0,
              "#0d0887"
             ],
             [
              0.1111111111111111,
              "#46039f"
             ],
             [
              0.2222222222222222,
              "#7201a8"
             ],
             [
              0.3333333333333333,
              "#9c179e"
             ],
             [
              0.4444444444444444,
              "#bd3786"
             ],
             [
              0.5555555555555556,
              "#d8576b"
             ],
             [
              0.6666666666666666,
              "#ed7953"
             ],
             [
              0.7777777777777778,
              "#fb9f3a"
             ],
             [
              0.8888888888888888,
              "#fdca26"
             ],
             [
              1,
              "#f0f921"
             ]
            ],
            "type": "contour"
           }
          ],
          "contourcarpet": [
           {
            "colorbar": {
             "outlinewidth": 0,
             "ticks": ""
            },
            "type": "contourcarpet"
           }
          ],
          "heatmap": [
           {
            "colorbar": {
             "outlinewidth": 0,
             "ticks": ""
            },
            "colorscale": [
             [
              0,
              "#0d0887"
             ],
             [
              0.1111111111111111,
              "#46039f"
             ],
             [
              0.2222222222222222,
              "#7201a8"
             ],
             [
              0.3333333333333333,
              "#9c179e"
             ],
             [
              0.4444444444444444,
              "#bd3786"
             ],
             [
              0.5555555555555556,
              "#d8576b"
             ],
             [
              0.6666666666666666,
              "#ed7953"
             ],
             [
              0.7777777777777778,
              "#fb9f3a"
             ],
             [
              0.8888888888888888,
              "#fdca26"
             ],
             [
              1,
              "#f0f921"
             ]
            ],
            "type": "heatmap"
           }
          ],
          "heatmapgl": [
           {
            "colorbar": {
             "outlinewidth": 0,
             "ticks": ""
            },
            "colorscale": [
             [
              0,
              "#0d0887"
             ],
             [
              0.1111111111111111,
              "#46039f"
             ],
             [
              0.2222222222222222,
              "#7201a8"
             ],
             [
              0.3333333333333333,
              "#9c179e"
             ],
             [
              0.4444444444444444,
              "#bd3786"
             ],
             [
              0.5555555555555556,
              "#d8576b"
             ],
             [
              0.6666666666666666,
              "#ed7953"
             ],
             [
              0.7777777777777778,
              "#fb9f3a"
             ],
             [
              0.8888888888888888,
              "#fdca26"
             ],
             [
              1,
              "#f0f921"
             ]
            ],
            "type": "heatmapgl"
           }
          ],
          "histogram": [
           {
            "marker": {
             "pattern": {
              "fillmode": "overlay",
              "size": 10,
              "solidity": 0.2
             }
            },
            "type": "histogram"
           }
          ],
          "histogram2d": [
           {
            "colorbar": {
             "outlinewidth": 0,
             "ticks": ""
            },
            "colorscale": [
             [
              0,
              "#0d0887"
             ],
             [
              0.1111111111111111,
              "#46039f"
             ],
             [
              0.2222222222222222,
              "#7201a8"
             ],
             [
              0.3333333333333333,
              "#9c179e"
             ],
             [
              0.4444444444444444,
              "#bd3786"
             ],
             [
              0.5555555555555556,
              "#d8576b"
             ],
             [
              0.6666666666666666,
              "#ed7953"
             ],
             [
              0.7777777777777778,
              "#fb9f3a"
             ],
             [
              0.8888888888888888,
              "#fdca26"
             ],
             [
              1,
              "#f0f921"
             ]
            ],
            "type": "histogram2d"
           }
          ],
          "histogram2dcontour": [
           {
            "colorbar": {
             "outlinewidth": 0,
             "ticks": ""
            },
            "colorscale": [
             [
              0,
              "#0d0887"
             ],
             [
              0.1111111111111111,
              "#46039f"
             ],
             [
              0.2222222222222222,
              "#7201a8"
             ],
             [
              0.3333333333333333,
              "#9c179e"
             ],
             [
              0.4444444444444444,
              "#bd3786"
             ],
             [
              0.5555555555555556,
              "#d8576b"
             ],
             [
              0.6666666666666666,
              "#ed7953"
             ],
             [
              0.7777777777777778,
              "#fb9f3a"
             ],
             [
              0.8888888888888888,
              "#fdca26"
             ],
             [
              1,
              "#f0f921"
             ]
            ],
            "type": "histogram2dcontour"
           }
          ],
          "mesh3d": [
           {
            "colorbar": {
             "outlinewidth": 0,
             "ticks": ""
            },
            "type": "mesh3d"
           }
          ],
          "parcoords": [
           {
            "line": {
             "colorbar": {
              "outlinewidth": 0,
              "ticks": ""
             }
            },
            "type": "parcoords"
           }
          ],
          "pie": [
           {
            "automargin": true,
            "type": "pie"
           }
          ],
          "scatter": [
           {
            "fillpattern": {
             "fillmode": "overlay",
             "size": 10,
             "solidity": 0.2
            },
            "type": "scatter"
           }
          ],
          "scatter3d": [
           {
            "line": {
             "colorbar": {
              "outlinewidth": 0,
              "ticks": ""
             }
            },
            "marker": {
             "colorbar": {
              "outlinewidth": 0,
              "ticks": ""
             }
            },
            "type": "scatter3d"
           }
          ],
          "scattercarpet": [
           {
            "marker": {
             "colorbar": {
              "outlinewidth": 0,
              "ticks": ""
             }
            },
            "type": "scattercarpet"
           }
          ],
          "scattergeo": [
           {
            "marker": {
             "colorbar": {
              "outlinewidth": 0,
              "ticks": ""
             }
            },
            "type": "scattergeo"
           }
          ],
          "scattergl": [
           {
            "marker": {
             "colorbar": {
              "outlinewidth": 0,
              "ticks": ""
             }
            },
            "type": "scattergl"
           }
          ],
          "scattermapbox": [
           {
            "marker": {
             "colorbar": {
              "outlinewidth": 0,
              "ticks": ""
             }
            },
            "type": "scattermapbox"
           }
          ],
          "scatterpolar": [
           {
            "marker": {
             "colorbar": {
              "outlinewidth": 0,
              "ticks": ""
             }
            },
            "type": "scatterpolar"
           }
          ],
          "scatterpolargl": [
           {
            "marker": {
             "colorbar": {
              "outlinewidth": 0,
              "ticks": ""
             }
            },
            "type": "scatterpolargl"
           }
          ],
          "scatterternary": [
           {
            "marker": {
             "colorbar": {
              "outlinewidth": 0,
              "ticks": ""
             }
            },
            "type": "scatterternary"
           }
          ],
          "surface": [
           {
            "colorbar": {
             "outlinewidth": 0,
             "ticks": ""
            },
            "colorscale": [
             [
              0,
              "#0d0887"
             ],
             [
              0.1111111111111111,
              "#46039f"
             ],
             [
              0.2222222222222222,
              "#7201a8"
             ],
             [
              0.3333333333333333,
              "#9c179e"
             ],
             [
              0.4444444444444444,
              "#bd3786"
             ],
             [
              0.5555555555555556,
              "#d8576b"
             ],
             [
              0.6666666666666666,
              "#ed7953"
             ],
             [
              0.7777777777777778,
              "#fb9f3a"
             ],
             [
              0.8888888888888888,
              "#fdca26"
             ],
             [
              1,
              "#f0f921"
             ]
            ],
            "type": "surface"
           }
          ],
          "table": [
           {
            "cells": {
             "fill": {
              "color": "#EBF0F8"
             },
             "line": {
              "color": "white"
             }
            },
            "header": {
             "fill": {
              "color": "#C8D4E3"
             },
             "line": {
              "color": "white"
             }
            },
            "type": "table"
           }
          ]
         },
         "layout": {
          "annotationdefaults": {
           "arrowcolor": "#2a3f5f",
           "arrowhead": 0,
           "arrowwidth": 1
          },
          "autotypenumbers": "strict",
          "coloraxis": {
           "colorbar": {
            "outlinewidth": 0,
            "ticks": ""
           }
          },
          "colorscale": {
           "diverging": [
            [
             0,
             "#8e0152"
            ],
            [
             0.1,
             "#c51b7d"
            ],
            [
             0.2,
             "#de77ae"
            ],
            [
             0.3,
             "#f1b6da"
            ],
            [
             0.4,
             "#fde0ef"
            ],
            [
             0.5,
             "#f7f7f7"
            ],
            [
             0.6,
             "#e6f5d0"
            ],
            [
             0.7,
             "#b8e186"
            ],
            [
             0.8,
             "#7fbc41"
            ],
            [
             0.9,
             "#4d9221"
            ],
            [
             1,
             "#276419"
            ]
           ],
           "sequential": [
            [
             0,
             "#0d0887"
            ],
            [
             0.1111111111111111,
             "#46039f"
            ],
            [
             0.2222222222222222,
             "#7201a8"
            ],
            [
             0.3333333333333333,
             "#9c179e"
            ],
            [
             0.4444444444444444,
             "#bd3786"
            ],
            [
             0.5555555555555556,
             "#d8576b"
            ],
            [
             0.6666666666666666,
             "#ed7953"
            ],
            [
             0.7777777777777778,
             "#fb9f3a"
            ],
            [
             0.8888888888888888,
             "#fdca26"
            ],
            [
             1,
             "#f0f921"
            ]
           ],
           "sequentialminus": [
            [
             0,
             "#0d0887"
            ],
            [
             0.1111111111111111,
             "#46039f"
            ],
            [
             0.2222222222222222,
             "#7201a8"
            ],
            [
             0.3333333333333333,
             "#9c179e"
            ],
            [
             0.4444444444444444,
             "#bd3786"
            ],
            [
             0.5555555555555556,
             "#d8576b"
            ],
            [
             0.6666666666666666,
             "#ed7953"
            ],
            [
             0.7777777777777778,
             "#fb9f3a"
            ],
            [
             0.8888888888888888,
             "#fdca26"
            ],
            [
             1,
             "#f0f921"
            ]
           ]
          },
          "colorway": [
           "#636efa",
           "#EF553B",
           "#00cc96",
           "#ab63fa",
           "#FFA15A",
           "#19d3f3",
           "#FF6692",
           "#B6E880",
           "#FF97FF",
           "#FECB52"
          ],
          "font": {
           "color": "#2a3f5f"
          },
          "geo": {
           "bgcolor": "white",
           "lakecolor": "white",
           "landcolor": "#E5ECF6",
           "showlakes": true,
           "showland": true,
           "subunitcolor": "white"
          },
          "hoverlabel": {
           "align": "left"
          },
          "hovermode": "closest",
          "mapbox": {
           "style": "light"
          },
          "paper_bgcolor": "white",
          "plot_bgcolor": "#E5ECF6",
          "polar": {
           "angularaxis": {
            "gridcolor": "white",
            "linecolor": "white",
            "ticks": ""
           },
           "bgcolor": "#E5ECF6",
           "radialaxis": {
            "gridcolor": "white",
            "linecolor": "white",
            "ticks": ""
           }
          },
          "scene": {
           "xaxis": {
            "backgroundcolor": "#E5ECF6",
            "gridcolor": "white",
            "gridwidth": 2,
            "linecolor": "white",
            "showbackground": true,
            "ticks": "",
            "zerolinecolor": "white"
           },
           "yaxis": {
            "backgroundcolor": "#E5ECF6",
            "gridcolor": "white",
            "gridwidth": 2,
            "linecolor": "white",
            "showbackground": true,
            "ticks": "",
            "zerolinecolor": "white"
           },
           "zaxis": {
            "backgroundcolor": "#E5ECF6",
            "gridcolor": "white",
            "gridwidth": 2,
            "linecolor": "white",
            "showbackground": true,
            "ticks": "",
            "zerolinecolor": "white"
           }
          },
          "shapedefaults": {
           "line": {
            "color": "#2a3f5f"
           }
          },
          "ternary": {
           "aaxis": {
            "gridcolor": "white",
            "linecolor": "white",
            "ticks": ""
           },
           "baxis": {
            "gridcolor": "white",
            "linecolor": "white",
            "ticks": ""
           },
           "bgcolor": "#E5ECF6",
           "caxis": {
            "gridcolor": "white",
            "linecolor": "white",
            "ticks": ""
           }
          },
          "title": {
           "x": 0.05
          },
          "xaxis": {
           "automargin": true,
           "gridcolor": "white",
           "linecolor": "white",
           "ticks": "",
           "title": {
            "standoff": 15
           },
           "zerolinecolor": "white",
           "zerolinewidth": 2
          },
          "yaxis": {
           "automargin": true,
           "gridcolor": "white",
           "linecolor": "white",
           "ticks": "",
           "title": {
            "standoff": 15
           },
           "zerolinecolor": "white",
           "zerolinewidth": 2
          }
         }
        },
        "title": {
         "text": "Parallel WTA MT"
        },
        "xaxis": {
         "anchor": "y",
         "domain": [
          0,
          1
         ],
         "type": "linear"
        },
        "yaxis": {
         "anchor": "x",
         "autorange": "reversed",
         "domain": [
          0,
          1
         ],
         "title": {
          "text": "Resource"
         }
        }
       }
      }
     },
     "metadata": {},
     "output_type": "display_data"
    }
   ],
   "source": [
    "fig = getDataGantt(logs[1], \"Parallel WTA MT\")\n",
    "fig.show()"
   ]
  },
  {
   "cell_type": "code",
   "execution_count": 15,
   "metadata": {},
   "outputs": [
    {
     "data": {
      "application/vnd.plotly.v1+json": {
       "config": {
        "plotlyServerURL": "https://plot.ly"
       },
       "data": [
        {
         "alignmentgroup": "True",
         "base": [
          0,
          -0.0001823902130126953,
          -0.0001361370086669922,
          -0.00010371208190917969,
          -0.00008726119995117188,
          0.0008342266082763672,
          0.0008394718170166016,
          0.0008418560028076172,
          0.000843048095703125,
          0.0008730888366699219
         ],
         "hovertemplate": "Task=Iter 0<br>Start=%{base}<br>Finish=%{x}<br>Resource=%{y}<extra></extra>",
         "legendgroup": "Iter 0",
         "marker": {
          "color": "#636efa",
          "pattern": {
           "shape": ""
          }
         },
         "name": "Iter 0",
         "offsetgroup": "Iter 0",
         "orientation": "h",
         "showlegend": true,
         "textposition": "auto",
         "type": "bar",
         "x": [
          0.00002193450927734375,
          0.000015974044799804688,
          0.000015735626220703125,
          0.000015497207641601562,
          0.000015735626220703125,
          0.000014543533325195312,
          0.000026226043701171875,
          0.00002288818359375,
          0.000019788742065429688,
          0.0007064342498779297
         ],
         "xaxis": "x",
         "y": [
          "Node 0",
          "Node 1",
          "Node 2",
          "Node 3",
          "Node 4",
          "Node 5",
          "Node 6",
          "Node 7",
          "Node 8",
          "Node 9"
         ],
         "yaxis": "y"
        },
        {
         "alignmentgroup": "True",
         "base": [
          0.0016798973083496094,
          0.001697540283203125,
          0.0016927719116210938,
          0.00170135498046875,
          0.0016894340515136719,
          0.002500295639038086,
          0.0024955272674560547,
          0.002511262893676758,
          0.002502918243408203,
          0.0025131702423095703
         ],
         "hovertemplate": "Task=Iter 1<br>Start=%{base}<br>Finish=%{x}<br>Resource=%{y}<extra></extra>",
         "legendgroup": "Iter 1",
         "marker": {
          "color": "#EF553B",
          "pattern": {
           "shape": ""
          }
         },
         "name": "Iter 1",
         "offsetgroup": "Iter 1",
         "orientation": "h",
         "showlegend": true,
         "textposition": "auto",
         "type": "bar",
         "x": [
          0.000013828277587890625,
          0.000013589859008789062,
          0.00001239776611328125,
          0.0000133514404296875,
          0.000012874603271484375,
          0.000012636184692382812,
          0.000012636184692382812,
          0.000012636184692382812,
          0.0000133514404296875,
          0.0007138252258300781
         ],
         "xaxis": "x",
         "y": [
          "Node 0",
          "Node 1",
          "Node 2",
          "Node 3",
          "Node 4",
          "Node 5",
          "Node 6",
          "Node 7",
          "Node 8",
          "Node 9"
         ],
         "yaxis": "y"
        },
        {
         "alignmentgroup": "True",
         "base": [
          0.0033111572265625,
          0.0033218860626220703,
          0.0033164024353027344,
          0.0033135414123535156,
          0.0033164024353027344,
          0.004112958908081055,
          0.004126310348510742,
          0.004124879837036133,
          0.004125356674194336,
          0.0041310787200927734
         ],
         "hovertemplate": "Task=Iter 2<br>Start=%{base}<br>Finish=%{x}<br>Resource=%{y}<extra></extra>",
         "legendgroup": "Iter 2",
         "marker": {
          "color": "#00cc96",
          "pattern": {
           "shape": ""
          }
         },
         "name": "Iter 2",
         "offsetgroup": "Iter 2",
         "orientation": "h",
         "showlegend": true,
         "textposition": "auto",
         "type": "bar",
         "x": [
          0.00001239776611328125,
          0.000014781951904296875,
          0.000011682510375976562,
          0.00001239776611328125,
          0.000012159347534179688,
          0.000011920928955078125,
          0.00001239776611328125,
          0.000012636184692382812,
          0.00001239776611328125,
          0.0007090568542480469
         ],
         "xaxis": "x",
         "y": [
          "Node 0",
          "Node 1",
          "Node 2",
          "Node 3",
          "Node 4",
          "Node 5",
          "Node 6",
          "Node 7",
          "Node 8",
          "Node 9"
         ],
         "yaxis": "y"
        },
        {
         "alignmentgroup": "True",
         "base": [
          0.004908323287963867,
          0.0049266815185546875,
          0.004917621612548828,
          0.004918813705444336,
          0.004923820495605469,
          0.0057070255279541016,
          0.005708217620849609,
          0.005720615386962891,
          0.005721330642700195,
          0.00571441650390625
         ],
         "hovertemplate": "Task=Iter 3<br>Start=%{base}<br>Finish=%{x}<br>Resource=%{y}<extra></extra>",
         "legendgroup": "Iter 3",
         "marker": {
          "color": "#ab63fa",
          "pattern": {
           "shape": ""
          }
         },
         "name": "Iter 3",
         "offsetgroup": "Iter 3",
         "orientation": "h",
         "showlegend": true,
         "textposition": "auto",
         "type": "bar",
         "x": [
          0.00001239776611328125,
          0.000015497207641601562,
          0.000011920928955078125,
          0.000011920928955078125,
          0.000020503997802734375,
          0.000011920928955078125,
          0.000012159347534179688,
          0.000011920928955078125,
          0.000013589859008789062,
          0.0007140636444091797
         ],
         "xaxis": "x",
         "y": [
          "Node 0",
          "Node 1",
          "Node 2",
          "Node 3",
          "Node 4",
          "Node 5",
          "Node 6",
          "Node 7",
          "Node 8",
          "Node 9"
         ],
         "yaxis": "y"
        },
        {
         "alignmentgroup": "True",
         "base": [
          0.006510734558105469,
          0.0065174102783203125,
          0.006514072418212891,
          0.006509304046630859,
          0.006513833999633789,
          0.0073015689849853516,
          0.0073108673095703125,
          0.007302761077880859,
          0.007314205169677734,
          0.007315874099731445
         ],
         "hovertemplate": "Task=Iter 4<br>Start=%{base}<br>Finish=%{x}<br>Resource=%{y}<extra></extra>",
         "legendgroup": "Iter 4",
         "marker": {
          "color": "#FFA15A",
          "pattern": {
           "shape": ""
          }
         },
         "name": "Iter 4",
         "offsetgroup": "Iter 4",
         "orientation": "h",
         "showlegend": true,
         "textposition": "auto",
         "type": "bar",
         "x": [
          0.00001239776611328125,
          0.00001239776611328125,
          0.000011682510375976562,
          0.000011920928955078125,
          0.00001239776611328125,
          0.000012159347534179688,
          0.000011682510375976562,
          0.000012636184692382812,
          0.000012159347534179688,
          0.0007083415985107422
         ],
         "xaxis": "x",
         "y": [
          "Node 0",
          "Node 1",
          "Node 2",
          "Node 3",
          "Node 4",
          "Node 5",
          "Node 6",
          "Node 7",
          "Node 8",
          "Node 9"
         ],
         "yaxis": "y"
        },
        {
         "alignmentgroup": "True",
         "base": [
          0.008097410202026367,
          0.008100032806396484,
          0.008100509643554688,
          0.008109807968139648,
          0.00810694694519043,
          0.008897542953491211,
          0.008902788162231445,
          0.008896827697753906,
          0.008897066116333008,
          0.008906364440917969
         ],
         "hovertemplate": "Task=Iter 5<br>Start=%{base}<br>Finish=%{x}<br>Resource=%{y}<extra></extra>",
         "legendgroup": "Iter 5",
         "marker": {
          "color": "#19d3f3",
          "pattern": {
           "shape": ""
          }
         },
         "name": "Iter 5",
         "offsetgroup": "Iter 5",
         "orientation": "h",
         "showlegend": true,
         "textposition": "auto",
         "type": "bar",
         "x": [
          0.000012159347534179688,
          0.000011682510375976562,
          0.000011682510375976562,
          0.000011920928955078125,
          0.000012159347534179688,
          0.000011920928955078125,
          0.00001239776611328125,
          0.000011920928955078125,
          0.000012159347534179688,
          0.0007011890411376953
         ],
         "xaxis": "x",
         "y": [
          "Node 0",
          "Node 1",
          "Node 2",
          "Node 3",
          "Node 4",
          "Node 5",
          "Node 6",
          "Node 7",
          "Node 8",
          "Node 9"
         ],
         "yaxis": "y"
        },
        {
         "alignmentgroup": "True",
         "base": [
          0.009687423706054688,
          0.009689569473266602,
          0.009690046310424805,
          0.009682893753051758,
          0.009684324264526367,
          0.01046895980834961,
          0.010478734970092773,
          0.010478973388671875,
          0.010478973388671875,
          0.010488271713256836
         ],
         "hovertemplate": "Task=Iter 6<br>Start=%{base}<br>Finish=%{x}<br>Resource=%{y}<extra></extra>",
         "legendgroup": "Iter 6",
         "marker": {
          "color": "#FF6692",
          "pattern": {
           "shape": ""
          }
         },
         "name": "Iter 6",
         "offsetgroup": "Iter 6",
         "orientation": "h",
         "showlegend": true,
         "textposition": "auto",
         "type": "bar",
         "x": [
          0.000013113021850585938,
          0.000011920928955078125,
          0.00001430511474609375,
          0.000012636184692382812,
          0.000012159347534179688,
          0.000012636184692382812,
          0.000012159347534179688,
          0.00001239776611328125,
          0.00001239776611328125,
          0.0007059574127197266
         ],
         "xaxis": "x",
         "y": [
          "Node 0",
          "Node 1",
          "Node 2",
          "Node 3",
          "Node 4",
          "Node 5",
          "Node 6",
          "Node 7",
          "Node 8",
          "Node 9"
         ],
         "yaxis": "y"
        },
        {
         "alignmentgroup": "True",
         "base": [
          0.011262655258178711,
          0.011263370513916016,
          0.011263847351074219,
          0.011266469955444336,
          0.01127314567565918,
          0.012047529220581055,
          0.01204371452331543,
          0.012056589126586914,
          0.012053489685058594,
          0.012059926986694336
         ],
         "hovertemplate": "Task=Iter 7<br>Start=%{base}<br>Finish=%{x}<br>Resource=%{y}<extra></extra>",
         "legendgroup": "Iter 7",
         "marker": {
          "color": "#B6E880",
          "pattern": {
           "shape": ""
          }
         },
         "name": "Iter 7",
         "offsetgroup": "Iter 7",
         "orientation": "h",
         "showlegend": true,
         "textposition": "auto",
         "type": "bar",
         "x": [
          0.00001239776611328125,
          0.000012159347534179688,
          0.000011682510375976562,
          0.000011920928955078125,
          0.000011444091796875,
          0.000011920928955078125,
          0.000011682510375976562,
          0.000012159347534179688,
          0.000012159347534179688,
          0.0006968975067138672
         ],
         "xaxis": "x",
         "y": [
          "Node 0",
          "Node 1",
          "Node 2",
          "Node 3",
          "Node 4",
          "Node 5",
          "Node 6",
          "Node 7",
          "Node 8",
          "Node 9"
         ],
         "yaxis": "y"
        },
        {
         "alignmentgroup": "True",
         "base": [
          0.01282358169555664,
          0.012830018997192383,
          0.012835025787353516,
          0.012835025787353516,
          0.012834787368774414,
          0.013605117797851562,
          0.013622045516967773,
          0.013621807098388672,
          0.013623714447021484,
          0.01362919807434082
         ],
         "hovertemplate": "Task=Iter 8<br>Start=%{base}<br>Finish=%{x}<br>Resource=%{y}<extra></extra>",
         "legendgroup": "Iter 8",
         "marker": {
          "color": "#FF97FF",
          "pattern": {
           "shape": ""
          }
         },
         "name": "Iter 8",
         "offsetgroup": "Iter 8",
         "orientation": "h",
         "showlegend": true,
         "textposition": "auto",
         "type": "bar",
         "x": [
          0.000011920928955078125,
          0.000011682510375976562,
          0.000011444091796875,
          0.000011920928955078125,
          0.000011682510375976562,
          0.000011682510375976562,
          0.000011920928955078125,
          0.000011920928955078125,
          0.000011920928955078125,
          0.000705718994140625
         ],
         "xaxis": "x",
         "y": [
          "Node 0",
          "Node 1",
          "Node 2",
          "Node 3",
          "Node 4",
          "Node 5",
          "Node 6",
          "Node 7",
          "Node 8",
          "Node 9"
         ],
         "yaxis": "y"
        },
        {
         "alignmentgroup": "True",
         "base": [
          0.014396190643310547,
          0.014414787292480469,
          0.014408349990844727,
          0.014413595199584961,
          0.014415502548217773,
          0.015200614929199219,
          0.015192031860351562,
          0.015215635299682617,
          0.015195369720458984,
          0.015210390090942383
         ],
         "hovertemplate": "Task=Iter 9<br>Start=%{base}<br>Finish=%{x}<br>Resource=%{y}<extra></extra>",
         "legendgroup": "Iter 9",
         "marker": {
          "color": "#FECB52",
          "pattern": {
           "shape": ""
          }
         },
         "name": "Iter 9",
         "offsetgroup": "Iter 9",
         "orientation": "h",
         "showlegend": true,
         "textposition": "auto",
         "type": "bar",
         "x": [
          0.000011920928955078125,
          0.000012159347534179688,
          0.000011682510375976562,
          0.000011920928955078125,
          0.000011920928955078125,
          0.000011920928955078125,
          0.000011920928955078125,
          0.000012159347534179688,
          0.000012159347534179688,
          0.0007102489471435547
         ],
         "xaxis": "x",
         "y": [
          "Node 0",
          "Node 1",
          "Node 2",
          "Node 3",
          "Node 4",
          "Node 5",
          "Node 6",
          "Node 7",
          "Node 8",
          "Node 9"
         ],
         "yaxis": "y"
        },
        {
         "alignmentgroup": "True",
         "base": [
          0.0159757137298584,
          0.01598954200744629,
          0.015996217727661133,
          0.015990734100341797,
          0.015997648239135742,
          0.016755104064941406,
          0.016763925552368164,
          0.016763687133789062,
          0.016770601272583008,
          0.01677227020263672
         ],
         "hovertemplate": "Task=Iter 10<br>Start=%{base}<br>Finish=%{x}<br>Resource=%{y}<extra></extra>",
         "legendgroup": "Iter 10",
         "marker": {
          "color": "#636efa",
          "pattern": {
           "shape": ""
          }
         },
         "name": "Iter 10",
         "offsetgroup": "Iter 10",
         "orientation": "h",
         "showlegend": true,
         "textposition": "auto",
         "type": "bar",
         "x": [
          0.000011920928955078125,
          0.000011444091796875,
          0.000011682510375976562,
          0.000011682510375976562,
          0.000011682510375976562,
          0.000011682510375976562,
          0.000011682510375976562,
          0.000011920928955078125,
          0.000011920928955078125,
          0.0007040500640869141
         ],
         "xaxis": "x",
         "y": [
          "Node 0",
          "Node 1",
          "Node 2",
          "Node 3",
          "Node 4",
          "Node 5",
          "Node 6",
          "Node 7",
          "Node 8",
          "Node 9"
         ],
         "yaxis": "y"
        },
        {
         "alignmentgroup": "True",
         "base": [
          0.017533063888549805,
          0.017544984817504883,
          0.017546892166137695,
          0.01755070686340332,
          0.017555713653564453,
          0.01832127571105957,
          0.018320560455322266,
          0.018332958221435547,
          0.018328189849853516,
          0.018473386764526367
         ],
         "hovertemplate": "Task=Iter 11<br>Start=%{base}<br>Finish=%{x}<br>Resource=%{y}<extra></extra>",
         "legendgroup": "Iter 11",
         "marker": {
          "color": "#EF553B",
          "pattern": {
           "shape": ""
          }
         },
         "name": "Iter 11",
         "offsetgroup": "Iter 11",
         "orientation": "h",
         "showlegend": true,
         "textposition": "auto",
         "type": "bar",
         "x": [
          0.000012159347534179688,
          0.000011682510375976562,
          0.000011682510375976562,
          0.000012159347534179688,
          0.000011682510375976562,
          0.000011920928955078125,
          0.000011920928955078125,
          0.000011682510375976562,
          0.00001239776611328125,
          0.0007119178771972656
         ],
         "xaxis": "x",
         "y": [
          "Node 0",
          "Node 1",
          "Node 2",
          "Node 3",
          "Node 4",
          "Node 5",
          "Node 6",
          "Node 7",
          "Node 8",
          "Node 9"
         ],
         "yaxis": "y"
        },
        {
         "alignmentgroup": "True",
         "base": [
          0.019227027893066406,
          0.01923084259033203,
          0.01923656463623047,
          0.019239425659179688,
          0.019242286682128906,
          0.020005226135253906,
          0.02001214027404785,
          0.020015716552734375,
          0.02001500129699707,
          0.020016908645629883
         ],
         "hovertemplate": "Task=Iter 12<br>Start=%{base}<br>Finish=%{x}<br>Resource=%{y}<extra></extra>",
         "legendgroup": "Iter 12",
         "marker": {
          "color": "#00cc96",
          "pattern": {
           "shape": ""
          }
         },
         "name": "Iter 12",
         "offsetgroup": "Iter 12",
         "orientation": "h",
         "showlegend": true,
         "textposition": "auto",
         "type": "bar",
         "x": [
          0.000012159347534179688,
          0.000011920928955078125,
          0.000011444091796875,
          0.000012159347534179688,
          0.000011920928955078125,
          0.000011920928955078125,
          0.000011920928955078125,
          0.000011920928955078125,
          0.00001239776611328125,
          0.0007016658782958984
         ],
         "xaxis": "x",
         "y": [
          "Node 0",
          "Node 1",
          "Node 2",
          "Node 3",
          "Node 4",
          "Node 5",
          "Node 6",
          "Node 7",
          "Node 8",
          "Node 9"
         ],
         "yaxis": "y"
        },
        {
         "alignmentgroup": "True",
         "base": [
          0.020775556564331055,
          0.020788908004760742,
          0.020787477493286133,
          0.020787954330444336,
          0.02078986167907715,
          0.021552085876464844,
          0.021556854248046875,
          0.02156209945678711,
          0.021563053131103516,
          0.021561622619628906
         ],
         "hovertemplate": "Task=Iter 13<br>Start=%{base}<br>Finish=%{x}<br>Resource=%{y}<extra></extra>",
         "legendgroup": "Iter 13",
         "marker": {
          "color": "#ab63fa",
          "pattern": {
           "shape": ""
          }
         },
         "name": "Iter 13",
         "offsetgroup": "Iter 13",
         "orientation": "h",
         "showlegend": true,
         "textposition": "auto",
         "type": "bar",
         "x": [
          0.000012159347534179688,
          0.000012159347534179688,
          0.000011682510375976562,
          0.000011682510375976562,
          0.000011920928955078125,
          0.000011682510375976562,
          0.000011920928955078125,
          0.000011920928955078125,
          0.00001239776611328125,
          0.0007045269012451172
         ],
         "xaxis": "x",
         "y": [
          "Node 0",
          "Node 1",
          "Node 2",
          "Node 3",
          "Node 4",
          "Node 5",
          "Node 6",
          "Node 7",
          "Node 8",
          "Node 9"
         ],
         "yaxis": "y"
        },
        {
         "alignmentgroup": "True",
         "base": [
          0.022317171096801758,
          0.022319555282592773,
          0.022321701049804688,
          0.022324800491333008,
          0.022333383560180664,
          0.023086071014404297,
          0.023089170455932617,
          0.02309441566467285,
          0.02309393882751465,
          0.02309894561767578
         ],
         "hovertemplate": "Task=Iter 14<br>Start=%{base}<br>Finish=%{x}<br>Resource=%{y}<extra></extra>",
         "legendgroup": "Iter 14",
         "marker": {
          "color": "#FFA15A",
          "pattern": {
           "shape": ""
          }
         },
         "name": "Iter 14",
         "offsetgroup": "Iter 14",
         "orientation": "h",
         "showlegend": true,
         "textposition": "auto",
         "type": "bar",
         "x": [
          0.000012159347534179688,
          0.000011205673217773438,
          0.000011444091796875,
          0.000011682510375976562,
          0.000011444091796875,
          0.000011444091796875,
          0.000011682510375976562,
          0.000011920928955078125,
          0.000012159347534179688,
          0.0007009506225585938
         ],
         "xaxis": "x",
         "y": [
          "Node 0",
          "Node 1",
          "Node 2",
          "Node 3",
          "Node 4",
          "Node 5",
          "Node 6",
          "Node 7",
          "Node 8",
          "Node 9"
         ],
         "yaxis": "y"
        },
        {
         "alignmentgroup": "True",
         "base": [
          0.023850202560424805,
          0.023845672607421875,
          0.023847579956054688,
          0.023868083953857422,
          0.023874282836914062,
          0.024630069732666016,
          0.02462911605834961,
          0.024632692337036133,
          0.024636507034301758,
          0.024637937545776367
         ],
         "hovertemplate": "Task=Iter 15<br>Start=%{base}<br>Finish=%{x}<br>Resource=%{y}<extra></extra>",
         "legendgroup": "Iter 15",
         "marker": {
          "color": "#19d3f3",
          "pattern": {
           "shape": ""
          }
         },
         "name": "Iter 15",
         "offsetgroup": "Iter 15",
         "orientation": "h",
         "showlegend": true,
         "textposition": "auto",
         "type": "bar",
         "x": [
          0.000018358230590820312,
          0.000019073486328125,
          0.000019073486328125,
          0.000011682510375976562,
          0.000011682510375976562,
          0.000011682510375976562,
          0.000011920928955078125,
          0.000011920928955078125,
          0.000012636184692382812,
          0.00070953369140625
         ],
         "xaxis": "x",
         "y": [
          "Node 0",
          "Node 1",
          "Node 2",
          "Node 3",
          "Node 4",
          "Node 5",
          "Node 6",
          "Node 7",
          "Node 8",
          "Node 9"
         ],
         "yaxis": "y"
        },
        {
         "alignmentgroup": "True",
         "base": [
          0.025399446487426758,
          0.025398731231689453,
          0.025400876998901367,
          0.02540874481201172,
          0.02541208267211914,
          0.026180028915405273,
          0.026182174682617188,
          0.026190519332885742,
          0.026189565658569336,
          0.026190519332885742
         ],
         "hovertemplate": "Task=Iter 16<br>Start=%{base}<br>Finish=%{x}<br>Resource=%{y}<extra></extra>",
         "legendgroup": "Iter 16",
         "marker": {
          "color": "#FF6692",
          "pattern": {
           "shape": ""
          }
         },
         "name": "Iter 16",
         "offsetgroup": "Iter 16",
         "orientation": "h",
         "showlegend": true,
         "textposition": "auto",
         "type": "bar",
         "x": [
          0.000012159347534179688,
          0.000011682510375976562,
          0.000012159347534179688,
          0.000012159347534179688,
          0.000013113021850585938,
          0.000011444091796875,
          0.000011444091796875,
          0.000011682510375976562,
          0.000011920928955078125,
          0.0007050037384033203
         ],
         "xaxis": "x",
         "y": [
          "Node 0",
          "Node 1",
          "Node 2",
          "Node 3",
          "Node 4",
          "Node 5",
          "Node 6",
          "Node 7",
          "Node 8",
          "Node 9"
         ],
         "yaxis": "y"
        },
        {
         "alignmentgroup": "True",
         "base": [
          0.02694082260131836,
          0.026955366134643555,
          0.026945829391479492,
          0.026947498321533203,
          0.026952028274536133,
          0.027713298797607422,
          0.0277101993560791,
          0.027715444564819336,
          0.02772068977355957,
          0.027718782424926758
         ],
         "hovertemplate": "Task=Iter 17<br>Start=%{base}<br>Finish=%{x}<br>Resource=%{y}<extra></extra>",
         "legendgroup": "Iter 17",
         "marker": {
          "color": "#B6E880",
          "pattern": {
           "shape": ""
          }
         },
         "name": "Iter 17",
         "offsetgroup": "Iter 17",
         "orientation": "h",
         "showlegend": true,
         "textposition": "auto",
         "type": "bar",
         "x": [
          0.000011920928955078125,
          0.000011682510375976562,
          0.000011205673217773438,
          0.000011920928955078125,
          0.000011682510375976562,
          0.000011444091796875,
          0.000013589859008789062,
          0.000012874603271484375,
          0.000012159347534179688,
          0.0007045269012451172
         ],
         "xaxis": "x",
         "y": [
          "Node 0",
          "Node 1",
          "Node 2",
          "Node 3",
          "Node 4",
          "Node 5",
          "Node 6",
          "Node 7",
          "Node 8",
          "Node 9"
         ],
         "yaxis": "y"
        },
        {
         "alignmentgroup": "True",
         "base": [
          0.02847599983215332,
          0.028476476669311523,
          0.02849411964416504,
          0.028488874435424805,
          0.028484821319580078,
          0.029250144958496094,
          0.02925276756286621,
          0.029256343841552734,
          0.029259204864501953,
          0.029262542724609375
         ],
         "hovertemplate": "Task=Iter 18<br>Start=%{base}<br>Finish=%{x}<br>Resource=%{y}<extra></extra>",
         "legendgroup": "Iter 18",
         "marker": {
          "color": "#FF97FF",
          "pattern": {
           "shape": ""
          }
         },
         "name": "Iter 18",
         "offsetgroup": "Iter 18",
         "orientation": "h",
         "showlegend": true,
         "textposition": "auto",
         "type": "bar",
         "x": [
          0.000012159347534179688,
          0.000011205673217773438,
          0.000011205673217773438,
          0.000011444091796875,
          0.000011205673217773438,
          0.000011682510375976562,
          0.000011682510375976562,
          0.000011920928955078125,
          0.000011682510375976562,
          0.0007047653198242188
         ],
         "xaxis": "x",
         "y": [
          "Node 0",
          "Node 1",
          "Node 2",
          "Node 3",
          "Node 4",
          "Node 5",
          "Node 6",
          "Node 7",
          "Node 8",
          "Node 9"
         ],
         "yaxis": "y"
        },
        {
         "alignmentgroup": "True",
         "base": [
          0.03002786636352539,
          0.030023574829101562,
          0.030022144317626953,
          0.030033349990844727,
          0.03004598617553711,
          0.030790328979492188,
          0.03079843521118164,
          0.03079509735107422,
          0.030797958374023438,
          0.030801773071289062
         ],
         "hovertemplate": "Task=Iter 19<br>Start=%{base}<br>Finish=%{x}<br>Resource=%{y}<extra></extra>",
         "legendgroup": "Iter 19",
         "marker": {
          "color": "#FECB52",
          "pattern": {
           "shape": ""
          }
         },
         "name": "Iter 19",
         "offsetgroup": "Iter 19",
         "orientation": "h",
         "showlegend": true,
         "textposition": "auto",
         "type": "bar",
         "x": [
          0.000012159347534179688,
          0.000011682510375976562,
          0.000011205673217773438,
          0.000011920928955078125,
          0.000011444091796875,
          0.000012874603271484375,
          0.000011920928955078125,
          0.000011920928955078125,
          0.000011920928955078125,
          0.0007047653198242188
         ],
         "xaxis": "x",
         "y": [
          "Node 0",
          "Node 1",
          "Node 2",
          "Node 3",
          "Node 4",
          "Node 5",
          "Node 6",
          "Node 7",
          "Node 8",
          "Node 9"
         ],
         "yaxis": "y"
        },
        {
         "alignmentgroup": "True",
         "base": [
          0.03179287910461426,
          0.03174543380737305,
          0.0317530632019043,
          0.03178906440734863,
          0.0317692756652832,
          0.032692909240722656,
          0.03273200988769531,
          0.032723426818847656,
          0.0327303409576416,
          0.03257298469543457
         ],
         "hovertemplate": "Task=Iter 20<br>Start=%{base}<br>Finish=%{x}<br>Resource=%{y}<extra></extra>",
         "legendgroup": "Iter 20",
         "marker": {
          "color": "#636efa",
          "pattern": {
           "shape": ""
          }
         },
         "name": "Iter 20",
         "offsetgroup": "Iter 20",
         "orientation": "h",
         "showlegend": true,
         "textposition": "auto",
         "type": "bar",
         "x": [
          0.000014066696166992188,
          0.000014066696166992188,
          0.000011682510375976562,
          0.000012636184692382812,
          0.00001239776611328125,
          0.000012636184692382812,
          0.000012874603271484375,
          0.000012159347534179688,
          0.000012636184692382812,
          0.0007054805755615234
         ],
         "xaxis": "x",
         "y": [
          "Node 0",
          "Node 1",
          "Node 2",
          "Node 3",
          "Node 4",
          "Node 5",
          "Node 6",
          "Node 7",
          "Node 8",
          "Node 9"
         ],
         "yaxis": "y"
        },
        {
         "alignmentgroup": "True",
         "base": [
          0.033483028411865234,
          0.03349637985229492,
          0.03348827362060547,
          0.03349041938781738,
          0.03349423408508301,
          0.0342562198638916,
          0.03425908088684082,
          0.03426408767700195,
          0.0342707633972168,
          0.03427767753601074
         ],
         "hovertemplate": "Task=Iter 21<br>Start=%{base}<br>Finish=%{x}<br>Resource=%{y}<extra></extra>",
         "legendgroup": "Iter 21",
         "marker": {
          "color": "#EF553B",
          "pattern": {
           "shape": ""
          }
         },
         "name": "Iter 21",
         "offsetgroup": "Iter 21",
         "orientation": "h",
         "showlegend": true,
         "textposition": "auto",
         "type": "bar",
         "x": [
          0.000011920928955078125,
          0.000011920928955078125,
          0.000011682510375976562,
          0.000011682510375976562,
          0.000011205673217773438,
          0.000011682510375976562,
          0.000011920928955078125,
          0.000011682510375976562,
          0.000011920928955078125,
          0.0007064342498779297
         ],
         "xaxis": "x",
         "y": [
          "Node 0",
          "Node 1",
          "Node 2",
          "Node 3",
          "Node 4",
          "Node 5",
          "Node 6",
          "Node 7",
          "Node 8",
          "Node 9"
         ],
         "yaxis": "y"
        },
        {
         "alignmentgroup": "True",
         "base": [
          0.03502774238586426,
          0.035034894943237305,
          0.03502488136291504,
          0.035045623779296875,
          0.03504586219787598,
          0.03578782081604004,
          0.035790205001831055,
          0.03579545021057129,
          0.035796403884887695,
          0.03580069541931152
         ],
         "hovertemplate": "Task=Iter 22<br>Start=%{base}<br>Finish=%{x}<br>Resource=%{y}<extra></extra>",
         "legendgroup": "Iter 22",
         "marker": {
          "color": "#00cc96",
          "pattern": {
           "shape": ""
          }
         },
         "name": "Iter 22",
         "offsetgroup": "Iter 22",
         "orientation": "h",
         "showlegend": true,
         "textposition": "auto",
         "type": "bar",
         "x": [
          0.000011682510375976562,
          0.000011444091796875,
          0.000011444091796875,
          0.000011920928955078125,
          0.000013113021850585938,
          0.000011444091796875,
          0.000012159347534179688,
          0.000011682510375976562,
          0.000012159347534179688,
          0.0007047653198242188
         ],
         "xaxis": "x",
         "y": [
          "Node 0",
          "Node 1",
          "Node 2",
          "Node 3",
          "Node 4",
          "Node 5",
          "Node 6",
          "Node 7",
          "Node 8",
          "Node 9"
         ],
         "yaxis": "y"
        },
        {
         "alignmentgroup": "True",
         "base": [
          0.03655695915222168,
          0.03654932975769043,
          0.03656196594238281,
          0.03656911849975586,
          0.036568641662597656,
          0.03733420372009277,
          0.03733992576599121,
          0.03733706474304199,
          0.03733491897583008,
          0.03734302520751953
         ],
         "hovertemplate": "Task=Iter 23<br>Start=%{base}<br>Finish=%{x}<br>Resource=%{y}<extra></extra>",
         "legendgroup": "Iter 23",
         "marker": {
          "color": "#ab63fa",
          "pattern": {
           "shape": ""
          }
         },
         "name": "Iter 23",
         "offsetgroup": "Iter 23",
         "orientation": "h",
         "showlegend": true,
         "textposition": "auto",
         "type": "bar",
         "x": [
          0.000012159347534179688,
          0.000011444091796875,
          0.000011444091796875,
          0.000011682510375976562,
          0.000011444091796875,
          0.000012159347534179688,
          0.0000133514404296875,
          0.000011682510375976562,
          0.000011920928955078125,
          0.000705718994140625
         ],
         "xaxis": "x",
         "y": [
          "Node 0",
          "Node 1",
          "Node 2",
          "Node 3",
          "Node 4",
          "Node 5",
          "Node 6",
          "Node 7",
          "Node 8",
          "Node 9"
         ],
         "yaxis": "y"
        },
        {
         "alignmentgroup": "True",
         "base": [
          0.03810310363769531,
          0.03809499740600586,
          0.03809380531311035,
          0.03809714317321777,
          0.03810906410217285,
          0.03886985778808594,
          0.03887438774108887,
          0.03887629508972168,
          0.0388796329498291,
          0.03888297080993652
         ],
         "hovertemplate": "Task=Iter 24<br>Start=%{base}<br>Finish=%{x}<br>Resource=%{y}<extra></extra>",
         "legendgroup": "Iter 24",
         "marker": {
          "color": "#FFA15A",
          "pattern": {
           "shape": ""
          }
         },
         "name": "Iter 24",
         "offsetgroup": "Iter 24",
         "orientation": "h",
         "showlegend": true,
         "textposition": "auto",
         "type": "bar",
         "x": [
          0.000011920928955078125,
          0.000011205673217773438,
          0.000011444091796875,
          0.000011682510375976562,
          0.000011920928955078125,
          0.000011682510375976562,
          0.000011682510375976562,
          0.000011920928955078125,
          0.000011920928955078125,
          0.0007016658782958984
         ],
         "xaxis": "x",
         "y": [
          "Node 0",
          "Node 1",
          "Node 2",
          "Node 3",
          "Node 4",
          "Node 5",
          "Node 6",
          "Node 7",
          "Node 8",
          "Node 9"
         ],
         "yaxis": "y"
        },
        {
         "alignmentgroup": "True",
         "base": [
          0.03961968421936035,
          0.03963470458984375,
          0.03963065147399902,
          0.039627790451049805,
          0.03963017463684082,
          0.0403897762298584,
          0.04039645195007324,
          0.040392398834228516,
          0.04039502143859863,
          0.04039931297302246
         ],
         "hovertemplate": "Task=Iter 25<br>Start=%{base}<br>Finish=%{x}<br>Resource=%{y}<extra></extra>",
         "legendgroup": "Iter 25",
         "marker": {
          "color": "#19d3f3",
          "pattern": {
           "shape": ""
          }
         },
         "name": "Iter 25",
         "offsetgroup": "Iter 25",
         "orientation": "h",
         "showlegend": true,
         "textposition": "auto",
         "type": "bar",
         "x": [
          0.000011682510375976562,
          0.000011444091796875,
          0.000011444091796875,
          0.000011682510375976562,
          0.000011920928955078125,
          0.000011682510375976562,
          0.000011920928955078125,
          0.000011682510375976562,
          0.000011682510375976562,
          0.0007083415985107422
         ],
         "xaxis": "x",
         "y": [
          "Node 0",
          "Node 1",
          "Node 2",
          "Node 3",
          "Node 4",
          "Node 5",
          "Node 6",
          "Node 7",
          "Node 8",
          "Node 9"
         ],
         "yaxis": "y"
        },
        {
         "alignmentgroup": "True",
         "base": [
          0.041144371032714844,
          0.04115915298461914,
          0.04114985466003418,
          0.04115867614746094,
          0.04115605354309082,
          0.04191851615905762,
          0.041921138763427734,
          0.04191851615905762,
          0.04192018508911133,
          0.041931867599487305
         ],
         "hovertemplate": "Task=Iter 26<br>Start=%{base}<br>Finish=%{x}<br>Resource=%{y}<extra></extra>",
         "legendgroup": "Iter 26",
         "marker": {
          "color": "#FF6692",
          "pattern": {
           "shape": ""
          }
         },
         "name": "Iter 26",
         "offsetgroup": "Iter 26",
         "orientation": "h",
         "showlegend": true,
         "textposition": "auto",
         "type": "bar",
         "x": [
          0.000011682510375976562,
          0.000011444091796875,
          0.000011205673217773438,
          0.000011920928955078125,
          0.000011444091796875,
          0.000011682510375976562,
          0.000011682510375976562,
          0.000011920928955078125,
          0.000012159347534179688,
          0.0006997585296630859
         ],
         "xaxis": "x",
         "y": [
          "Node 0",
          "Node 1",
          "Node 2",
          "Node 3",
          "Node 4",
          "Node 5",
          "Node 6",
          "Node 7",
          "Node 8",
          "Node 9"
         ],
         "yaxis": "y"
        },
        {
         "alignmentgroup": "True",
         "base": [
          0.04266667366027832,
          0.04266953468322754,
          0.042682647705078125,
          0.04267525672912598,
          0.042679548263549805,
          0.04344773292541504,
          0.04344534873962402,
          0.04344320297241211,
          0.04344511032104492,
          0.043450355529785156
         ],
         "hovertemplate": "Task=Iter 27<br>Start=%{base}<br>Finish=%{x}<br>Resource=%{y}<extra></extra>",
         "legendgroup": "Iter 27",
         "marker": {
          "color": "#B6E880",
          "pattern": {
           "shape": ""
          }
         },
         "name": "Iter 27",
         "offsetgroup": "Iter 27",
         "orientation": "h",
         "showlegend": true,
         "textposition": "auto",
         "type": "bar",
         "x": [
          0.000011444091796875,
          0.000011205673217773438,
          0.000011205673217773438,
          0.000013828277587890625,
          0.000012636184692382812,
          0.00001811981201171875,
          0.000011920928955078125,
          0.000011682510375976562,
          0.000011920928955078125,
          0.0007081031799316406
         ],
         "xaxis": "x",
         "y": [
          "Node 0",
          "Node 1",
          "Node 2",
          "Node 3",
          "Node 4",
          "Node 5",
          "Node 6",
          "Node 7",
          "Node 8",
          "Node 9"
         ],
         "yaxis": "y"
        },
        {
         "alignmentgroup": "True",
         "base": [
          0.04424333572387695,
          0.04425549507141113,
          0.044249534606933594,
          0.04425191879272461,
          0.04425382614135742,
          0.045076847076416016,
          0.045075178146362305,
          0.04507637023925781,
          0.04507875442504883,
          0.04508233070373535
         ],
         "hovertemplate": "Task=Iter 28<br>Start=%{base}<br>Finish=%{x}<br>Resource=%{y}<extra></extra>",
         "legendgroup": "Iter 28",
         "marker": {
          "color": "#FF97FF",
          "pattern": {
           "shape": ""
          }
         },
         "name": "Iter 28",
         "offsetgroup": "Iter 28",
         "orientation": "h",
         "showlegend": true,
         "textposition": "auto",
         "type": "bar",
         "x": [
          0.000011920928955078125,
          0.0000152587890625,
          0.000011444091796875,
          0.000011682510375976562,
          0.000011682510375976562,
          0.00001239776611328125,
          0.000015497207641601562,
          0.000011920928955078125,
          0.000011682510375976562,
          0.0006988048553466797
         ],
         "xaxis": "x",
         "y": [
          "Node 0",
          "Node 1",
          "Node 2",
          "Node 3",
          "Node 4",
          "Node 5",
          "Node 6",
          "Node 7",
          "Node 8",
          "Node 9"
         ],
         "yaxis": "y"
        },
        {
         "alignmentgroup": "True",
         "base": [
          0.04587674140930176,
          0.045882463455200195,
          0.0458831787109375,
          0.045885562896728516,
          0.04588937759399414,
          0.04663848876953125,
          0.04664158821105957,
          0.04664421081542969,
          0.0466461181640625,
          0.04665088653564453
         ],
         "hovertemplate": "Task=Iter 29<br>Start=%{base}<br>Finish=%{x}<br>Resource=%{y}<extra></extra>",
         "legendgroup": "Iter 29",
         "marker": {
          "color": "#FECB52",
          "pattern": {
           "shape": ""
          }
         },
         "name": "Iter 29",
         "offsetgroup": "Iter 29",
         "orientation": "h",
         "showlegend": true,
         "textposition": "auto",
         "type": "bar",
         "x": [
          0.000011682510375976562,
          0.00001239776611328125,
          0.000011205673217773438,
          0.000011920928955078125,
          0.000012159347534179688,
          0.000011682510375976562,
          0.00001239776611328125,
          0.000011444091796875,
          0.000011920928955078125,
          0.0007035732269287109
         ],
         "xaxis": "x",
         "y": [
          "Node 0",
          "Node 1",
          "Node 2",
          "Node 3",
          "Node 4",
          "Node 5",
          "Node 6",
          "Node 7",
          "Node 8",
          "Node 9"
         ],
         "yaxis": "y"
        },
        {
         "alignmentgroup": "True",
         "base": [
          0.047399282455444336,
          0.04740190505981445,
          0.047403573989868164,
          0.04740619659423828,
          0.04741072654724121,
          0.048172712326049805,
          0.04817914962768555,
          0.04817938804626465,
          0.04818153381347656,
          0.04818606376647949
         ],
         "hovertemplate": "Task=Iter 30<br>Start=%{base}<br>Finish=%{x}<br>Resource=%{y}<extra></extra>",
         "legendgroup": "Iter 30",
         "marker": {
          "color": "#636efa",
          "pattern": {
           "shape": ""
          }
         },
         "name": "Iter 30",
         "offsetgroup": "Iter 30",
         "orientation": "h",
         "showlegend": true,
         "textposition": "auto",
         "type": "bar",
         "x": [
          0.000012159347534179688,
          0.000011444091796875,
          0.000011444091796875,
          0.000011920928955078125,
          0.000011682510375976562,
          0.000011444091796875,
          0.000011682510375976562,
          0.000011682510375976562,
          0.000011920928955078125,
          0.0007047653198242188
         ],
         "xaxis": "x",
         "y": [
          "Node 0",
          "Node 1",
          "Node 2",
          "Node 3",
          "Node 4",
          "Node 5",
          "Node 6",
          "Node 7",
          "Node 8",
          "Node 9"
         ],
         "yaxis": "y"
        },
        {
         "alignmentgroup": "True",
         "base": [
          0.0489351749420166,
          0.048938751220703125,
          0.04894518852233887,
          0.04894614219665527,
          0.0489497184753418,
          0.04969668388366699,
          0.049707651138305664,
          0.049706220626831055,
          0.04970574378967285,
          0.04970979690551758
         ],
         "hovertemplate": "Task=Iter 31<br>Start=%{base}<br>Finish=%{x}<br>Resource=%{y}<extra></extra>",
         "legendgroup": "Iter 31",
         "marker": {
          "color": "#EF553B",
          "pattern": {
           "shape": ""
          }
         },
         "name": "Iter 31",
         "offsetgroup": "Iter 31",
         "orientation": "h",
         "showlegend": true,
         "textposition": "auto",
         "type": "bar",
         "x": [
          0.000011682510375976562,
          0.000011205673217773438,
          0.000011444091796875,
          0.000011444091796875,
          0.000011444091796875,
          0.000011444091796875,
          0.000014066696166992188,
          0.000013828277587890625,
          0.000011682510375976562,
          0.0007047653198242188
         ],
         "xaxis": "x",
         "y": [
          "Node 0",
          "Node 1",
          "Node 2",
          "Node 3",
          "Node 4",
          "Node 5",
          "Node 6",
          "Node 7",
          "Node 8",
          "Node 9"
         ],
         "yaxis": "y"
        },
        {
         "alignmentgroup": "True",
         "base": [
          0.0504608154296875,
          0.050462961196899414,
          0.05046725273132324,
          0.05047440528869629,
          0.05047202110290527,
          0.051239967346191406,
          0.05123543739318848,
          0.05124020576477051,
          0.05124163627624512,
          0.05124473571777344
         ],
         "hovertemplate": "Task=Iter 32<br>Start=%{base}<br>Finish=%{x}<br>Resource=%{y}<extra></extra>",
         "legendgroup": "Iter 32",
         "marker": {
          "color": "#00cc96",
          "pattern": {
           "shape": ""
          }
         },
         "name": "Iter 32",
         "offsetgroup": "Iter 32",
         "orientation": "h",
         "showlegend": true,
         "textposition": "auto",
         "type": "bar",
         "x": [
          0.000011920928955078125,
          0.000011205673217773438,
          0.000011444091796875,
          0.000011920928955078125,
          0.000011682510375976562,
          0.000011444091796875,
          0.000011444091796875,
          0.000011682510375976562,
          0.000011920928955078125,
          0.0007059574127197266
         ],
         "xaxis": "x",
         "y": [
          "Node 0",
          "Node 1",
          "Node 2",
          "Node 3",
          "Node 4",
          "Node 5",
          "Node 6",
          "Node 7",
          "Node 8",
          "Node 9"
         ],
         "yaxis": "y"
        },
        {
         "alignmentgroup": "True",
         "base": [
          0.05199456214904785,
          0.05199933052062988,
          0.0520017147064209,
          0.05200338363647461,
          0.05200767517089844,
          0.05276370048522949,
          0.05277395248413086,
          0.052771806716918945,
          0.05277705192565918,
          0.05277514457702637
         ],
         "hovertemplate": "Task=Iter 33<br>Start=%{base}<br>Finish=%{x}<br>Resource=%{y}<extra></extra>",
         "legendgroup": "Iter 33",
         "marker": {
          "color": "#ab63fa",
          "pattern": {
           "shape": ""
          }
         },
         "name": "Iter 33",
         "offsetgroup": "Iter 33",
         "orientation": "h",
         "showlegend": true,
         "textposition": "auto",
         "type": "bar",
         "x": [
          0.000011682510375976562,
          0.000011444091796875,
          0.000011205673217773438,
          0.000011682510375976562,
          0.000011205673217773438,
          0.000011444091796875,
          0.000011444091796875,
          0.000011682510375976562,
          0.000011920928955078125,
          0.0007054805755615234
         ],
         "xaxis": "x",
         "y": [
          "Node 0",
          "Node 1",
          "Node 2",
          "Node 3",
          "Node 4",
          "Node 5",
          "Node 6",
          "Node 7",
          "Node 8",
          "Node 9"
         ],
         "yaxis": "y"
        },
        {
         "alignmentgroup": "True",
         "base": [
          0.053522586822509766,
          0.05352616310119629,
          0.05352783203125,
          0.05353689193725586,
          0.05353832244873047,
          0.054296016693115234,
          0.05429959297180176,
          0.05430245399475098,
          0.05430459976196289,
          0.054308414459228516
         ],
         "hovertemplate": "Task=Iter 34<br>Start=%{base}<br>Finish=%{x}<br>Resource=%{y}<extra></extra>",
         "legendgroup": "Iter 34",
         "marker": {
          "color": "#FFA15A",
          "pattern": {
           "shape": ""
          }
         },
         "name": "Iter 34",
         "offsetgroup": "Iter 34",
         "orientation": "h",
         "showlegend": true,
         "textposition": "auto",
         "type": "bar",
         "x": [
          0.000011920928955078125,
          0.000011205673217773438,
          0.000011444091796875,
          0.000011920928955078125,
          0.000011444091796875,
          0.000011444091796875,
          0.000011444091796875,
          0.000011920928955078125,
          0.000011920928955078125,
          0.0007050037384033203
         ],
         "xaxis": "x",
         "y": [
          "Node 0",
          "Node 1",
          "Node 2",
          "Node 3",
          "Node 4",
          "Node 5",
          "Node 6",
          "Node 7",
          "Node 8",
          "Node 9"
         ],
         "yaxis": "y"
        },
        {
         "alignmentgroup": "True",
         "base": [
          0.0550541877746582,
          0.05505728721618652,
          0.05507302284240723,
          0.05506324768066406,
          0.05506634712219238,
          0.055823564529418945,
          0.05582070350646973,
          0.05582380294799805,
          0.05582571029663086,
          0.05583000183105469
         ],
         "hovertemplate": "Task=Iter 35<br>Start=%{base}<br>Finish=%{x}<br>Resource=%{y}<extra></extra>",
         "legendgroup": "Iter 35",
         "marker": {
          "color": "#19d3f3",
          "pattern": {
           "shape": ""
          }
         },
         "name": "Iter 35",
         "offsetgroup": "Iter 35",
         "orientation": "h",
         "showlegend": true,
         "textposition": "auto",
         "type": "bar",
         "x": [
          0.000011682510375976562,
          0.000011444091796875,
          0.000011444091796875,
          0.000011444091796875,
          0.000011444091796875,
          0.000011444091796875,
          0.000011205673217773438,
          0.000011682510375976562,
          0.000011682510375976562,
          0.0007097721099853516
         ],
         "xaxis": "x",
         "y": [
          "Node 0",
          "Node 1",
          "Node 2",
          "Node 3",
          "Node 4",
          "Node 5",
          "Node 6",
          "Node 7",
          "Node 8",
          "Node 9"
         ],
         "yaxis": "y"
        },
        {
         "alignmentgroup": "True",
         "base": [
          0.05657768249511719,
          0.0565798282623291,
          0.05658268928527832,
          0.05658435821533203,
          0.05658745765686035,
          0.05735516548156738,
          0.0573582649230957,
          0.05736112594604492,
          0.05736684799194336,
          0.05736732482910156
         ],
         "hovertemplate": "Task=Iter 36<br>Start=%{base}<br>Finish=%{x}<br>Resource=%{y}<extra></extra>",
         "legendgroup": "Iter 36",
         "marker": {
          "color": "#FF6692",
          "pattern": {
           "shape": ""
          }
         },
         "name": "Iter 36",
         "offsetgroup": "Iter 36",
         "orientation": "h",
         "showlegend": true,
         "textposition": "auto",
         "type": "bar",
         "x": [
          0.000011920928955078125,
          0.000011444091796875,
          0.000011205673217773438,
          0.000012159347534179688,
          0.000011444091796875,
          0.000011205673217773438,
          0.000011444091796875,
          0.000011682510375976562,
          0.000011920928955078125,
          0.0007071495056152344
         ],
         "xaxis": "x",
         "y": [
          "Node 0",
          "Node 1",
          "Node 2",
          "Node 3",
          "Node 4",
          "Node 5",
          "Node 6",
          "Node 7",
          "Node 8",
          "Node 9"
         ],
         "yaxis": "y"
        },
        {
         "alignmentgroup": "True",
         "base": [
          0.05811929702758789,
          0.05812263488769531,
          0.05812525749206543,
          0.058127641677856445,
          0.05813145637512207,
          0.058888912200927734,
          0.058896541595458984,
          0.05889582633972168,
          0.05889749526977539,
          0.058901309967041016
         ],
         "hovertemplate": "Task=Iter 37<br>Start=%{base}<br>Finish=%{x}<br>Resource=%{y}<extra></extra>",
         "legendgroup": "Iter 37",
         "marker": {
          "color": "#B6E880",
          "pattern": {
           "shape": ""
          }
         },
         "name": "Iter 37",
         "offsetgroup": "Iter 37",
         "orientation": "h",
         "showlegend": true,
         "textposition": "auto",
         "type": "bar",
         "x": [
          0.000011920928955078125,
          0.000011682510375976562,
          0.000011682510375976562,
          0.00001239776611328125,
          0.0000133514404296875,
          0.000011205673217773438,
          0.000011920928955078125,
          0.000011444091796875,
          0.00001239776611328125,
          0.0007004737854003906
         ],
         "xaxis": "x",
         "y": [
          "Node 0",
          "Node 1",
          "Node 2",
          "Node 3",
          "Node 4",
          "Node 5",
          "Node 6",
          "Node 7",
          "Node 8",
          "Node 9"
         ],
         "yaxis": "y"
        },
        {
         "alignmentgroup": "True",
         "base": [
          0.05964088439941406,
          0.05964207649230957,
          0.059645891189575195,
          0.05964803695678711,
          0.05965757369995117,
          0.06041455268859863,
          0.06041741371154785,
          0.060420989990234375,
          0.06042313575744629,
          0.06042790412902832
         ],
         "hovertemplate": "Task=Iter 38<br>Start=%{base}<br>Finish=%{x}<br>Resource=%{y}<extra></extra>",
         "legendgroup": "Iter 38",
         "marker": {
          "color": "#FF97FF",
          "pattern": {
           "shape": ""
          }
         },
         "name": "Iter 38",
         "offsetgroup": "Iter 38",
         "orientation": "h",
         "showlegend": true,
         "textposition": "auto",
         "type": "bar",
         "x": [
          0.000011920928955078125,
          0.000011205673217773438,
          0.000011205673217773438,
          0.000011920928955078125,
          0.000012874603271484375,
          0.000011682510375976562,
          0.000011682510375976562,
          0.000011920928955078125,
          0.000011682510375976562,
          0.0007100105285644531
         ],
         "xaxis": "x",
         "y": [
          "Node 0",
          "Node 1",
          "Node 2",
          "Node 3",
          "Node 4",
          "Node 5",
          "Node 6",
          "Node 7",
          "Node 8",
          "Node 9"
         ],
         "yaxis": "y"
        },
        {
         "alignmentgroup": "True",
         "base": [
          0.06117606163024902,
          0.061179161071777344,
          0.06118178367614746,
          0.06118416786193848,
          0.06118917465209961,
          0.061943769454956055,
          0.06194877624511719,
          0.061949729919433594,
          0.06195211410522461,
          0.06195664405822754
         ],
         "hovertemplate": "Task=Iter 39<br>Start=%{base}<br>Finish=%{x}<br>Resource=%{y}<extra></extra>",
         "legendgroup": "Iter 39",
         "marker": {
          "color": "#FECB52",
          "pattern": {
           "shape": ""
          }
         },
         "name": "Iter 39",
         "offsetgroup": "Iter 39",
         "orientation": "h",
         "showlegend": true,
         "textposition": "auto",
         "type": "bar",
         "x": [
          0.000011444091796875,
          0.000011205673217773438,
          0.000011682510375976562,
          0.000011920928955078125,
          0.000011444091796875,
          0.000011444091796875,
          0.000011682510375976562,
          0.000011444091796875,
          0.000012159347534179688,
          0.0006992816925048828
         ],
         "xaxis": "x",
         "y": [
          "Node 0",
          "Node 1",
          "Node 2",
          "Node 3",
          "Node 4",
          "Node 5",
          "Node 6",
          "Node 7",
          "Node 8",
          "Node 9"
         ],
         "yaxis": "y"
        },
        {
         "alignmentgroup": "True",
         "base": [
          0.06269645690917969,
          0.06269955635070801,
          0.06270146369934082,
          0.06270408630371094,
          0.06270790100097656,
          0.0634622573852539,
          0.06346464157104492,
          0.06346797943115234,
          0.06347084045410156,
          0.06347393989562988
         ],
         "hovertemplate": "Task=Iter 40<br>Start=%{base}<br>Finish=%{x}<br>Resource=%{y}<extra></extra>",
         "legendgroup": "Iter 40",
         "marker": {
          "color": "#636efa",
          "pattern": {
           "shape": ""
          }
         },
         "name": "Iter 40",
         "offsetgroup": "Iter 40",
         "orientation": "h",
         "showlegend": true,
         "textposition": "auto",
         "type": "bar",
         "x": [
          0.000011444091796875,
          0.000011205673217773438,
          0.000011205673217773438,
          0.000011444091796875,
          0.000011444091796875,
          0.000011682510375976562,
          0.000011205673217773438,
          0.000011682510375976562,
          0.000011920928955078125,
          0.0007030963897705078
         ],
         "xaxis": "x",
         "y": [
          "Node 0",
          "Node 1",
          "Node 2",
          "Node 3",
          "Node 4",
          "Node 5",
          "Node 6",
          "Node 7",
          "Node 8",
          "Node 9"
         ],
         "yaxis": "y"
        },
        {
         "alignmentgroup": "True",
         "base": [
          0.06422567367553711,
          0.06422543525695801,
          0.0642251968383789,
          0.06422853469848633,
          0.06423425674438477,
          0.06499338150024414,
          0.06500363349914551,
          0.06500577926635742,
          0.0650026798248291,
          0.06500506401062012
         ],
         "hovertemplate": "Task=Iter 41<br>Start=%{base}<br>Finish=%{x}<br>Resource=%{y}<extra></extra>",
         "legendgroup": "Iter 41",
         "marker": {
          "color": "#EF553B",
          "pattern": {
           "shape": ""
          }
         },
         "name": "Iter 41",
         "offsetgroup": "Iter 41",
         "orientation": "h",
         "showlegend": true,
         "textposition": "auto",
         "type": "bar",
         "x": [
          0.000011682510375976562,
          0.000011682510375976562,
          0.000011444091796875,
          0.000011444091796875,
          0.000011444091796875,
          0.000011682510375976562,
          0.000011920928955078125,
          0.000011682510375976562,
          0.000011682510375976562,
          0.0006985664367675781
         ],
         "xaxis": "x",
         "y": [
          "Node 0",
          "Node 1",
          "Node 2",
          "Node 3",
          "Node 4",
          "Node 5",
          "Node 6",
          "Node 7",
          "Node 8",
          "Node 9"
         ],
         "yaxis": "y"
        },
        {
         "alignmentgroup": "True",
         "base": [
          0.06575655937194824,
          0.06575894355773926,
          0.06576061248779297,
          0.06576371192932129,
          0.06576752662658691,
          0.06652355194091797,
          0.06652617454528809,
          0.06652975082397461,
          0.06653285026550293,
          0.06653571128845215
         ],
         "hovertemplate": "Task=Iter 42<br>Start=%{base}<br>Finish=%{x}<br>Resource=%{y}<extra></extra>",
         "legendgroup": "Iter 42",
         "marker": {
          "color": "#00cc96",
          "pattern": {
           "shape": ""
          }
         },
         "name": "Iter 42",
         "offsetgroup": "Iter 42",
         "orientation": "h",
         "showlegend": true,
         "textposition": "auto",
         "type": "bar",
         "x": [
          0.000011205673217773438,
          0.000011205673217773438,
          0.000011444091796875,
          0.000011682510375976562,
          0.000011444091796875,
          0.000011205673217773438,
          0.000011444091796875,
          0.000011205673217773438,
          0.000012159347534179688,
          0.0007033348083496094
         ],
         "xaxis": "x",
         "y": [
          "Node 0",
          "Node 1",
          "Node 2",
          "Node 3",
          "Node 4",
          "Node 5",
          "Node 6",
          "Node 7",
          "Node 8",
          "Node 9"
         ],
         "yaxis": "y"
        },
        {
         "alignmentgroup": "True",
         "base": [
          0.06728291511535645,
          0.06728529930114746,
          0.06728744506835938,
          0.0672903060913086,
          0.06730103492736816,
          0.0680532455444336,
          0.06805634498596191,
          0.06805944442749023,
          0.06806159019470215,
          0.06806516647338867
         ],
         "hovertemplate": "Task=Iter 43<br>Start=%{base}<br>Finish=%{x}<br>Resource=%{y}<extra></extra>",
         "legendgroup": "Iter 43",
         "marker": {
          "color": "#ab63fa",
          "pattern": {
           "shape": ""
          }
         },
         "name": "Iter 43",
         "offsetgroup": "Iter 43",
         "orientation": "h",
         "showlegend": true,
         "textposition": "auto",
         "type": "bar",
         "x": [
          0.000012874603271484375,
          0.000012159347534179688,
          0.00001239776611328125,
          0.000012636184692382812,
          0.00001239776611328125,
          0.000012159347534179688,
          0.000011920928955078125,
          0.000012159347534179688,
          0.000012636184692382812,
          0.0006968975067138672
         ],
         "xaxis": "x",
         "y": [
          "Node 0",
          "Node 1",
          "Node 2",
          "Node 3",
          "Node 4",
          "Node 5",
          "Node 6",
          "Node 7",
          "Node 8",
          "Node 9"
         ],
         "yaxis": "y"
        },
        {
         "alignmentgroup": "True",
         "base": [
          0.0688483715057373,
          0.06886029243469238,
          0.06886076927185059,
          0.0688629150390625,
          0.06886744499206543,
          0.06964993476867676,
          0.06965446472167969,
          0.0696570873260498,
          0.06965970993041992,
          0.06966328620910645
         ],
         "hovertemplate": "Task=Iter 44<br>Start=%{base}<br>Finish=%{x}<br>Resource=%{y}<extra></extra>",
         "legendgroup": "Iter 44",
         "marker": {
          "color": "#FFA15A",
          "pattern": {
           "shape": ""
          }
         },
         "name": "Iter 44",
         "offsetgroup": "Iter 44",
         "orientation": "h",
         "showlegend": true,
         "textposition": "auto",
         "type": "bar",
         "x": [
          0.000018596649169921875,
          0.000015974044799804688,
          0.000011444091796875,
          0.000011444091796875,
          0.00001239776611328125,
          0.000011444091796875,
          0.000012874603271484375,
          0.000011682510375976562,
          0.000011920928955078125,
          0.00070953369140625
         ],
         "xaxis": "x",
         "y": [
          "Node 0",
          "Node 1",
          "Node 2",
          "Node 3",
          "Node 4",
          "Node 5",
          "Node 6",
          "Node 7",
          "Node 8",
          "Node 9"
         ],
         "yaxis": "y"
        },
        {
         "alignmentgroup": "True",
         "base": [
          0.07045364379882812,
          0.07045841217041016,
          0.07045865058898926,
          0.07046008110046387,
          0.07046365737915039,
          0.07122564315795898,
          0.07124018669128418,
          0.07124161720275879,
          0.07123756408691406,
          0.07124209403991699
         ],
         "hovertemplate": "Task=Iter 45<br>Start=%{base}<br>Finish=%{x}<br>Resource=%{y}<extra></extra>",
         "legendgroup": "Iter 45",
         "marker": {
          "color": "#19d3f3",
          "pattern": {
           "shape": ""
          }
         },
         "name": "Iter 45",
         "offsetgroup": "Iter 45",
         "orientation": "h",
         "showlegend": true,
         "textposition": "auto",
         "type": "bar",
         "x": [
          0.000011920928955078125,
          0.000014781951904296875,
          0.000011205673217773438,
          0.000011444091796875,
          0.000011444091796875,
          0.000011682510375976562,
          0.000015497207641601562,
          0.000011920928955078125,
          0.000012159347534179688,
          0.000705718994140625
         ],
         "xaxis": "x",
         "y": [
          "Node 0",
          "Node 1",
          "Node 2",
          "Node 3",
          "Node 4",
          "Node 5",
          "Node 6",
          "Node 7",
          "Node 8",
          "Node 9"
         ],
         "yaxis": "y"
        },
        {
         "alignmentgroup": "True",
         "base": [
          0.0720071792602539,
          0.07201147079467773,
          0.07201361656188965,
          0.07201790809631348,
          0.07202291488647461,
          0.07281732559204102,
          0.07282233238220215,
          0.07282447814941406,
          0.07282733917236328,
          0.0728304386138916
         ],
         "hovertemplate": "Task=Iter 46<br>Start=%{base}<br>Finish=%{x}<br>Resource=%{y}<extra></extra>",
         "legendgroup": "Iter 46",
         "marker": {
          "color": "#FF6692",
          "pattern": {
           "shape": ""
          }
         },
         "name": "Iter 46",
         "offsetgroup": "Iter 46",
         "orientation": "h",
         "showlegend": true,
         "textposition": "auto",
         "type": "bar",
         "x": [
          0.000011682510375976562,
          0.000011682510375976562,
          0.000011205673217773438,
          0.000011444091796875,
          0.000011682510375976562,
          0.000011444091796875,
          0.000015020370483398438,
          0.000011682510375976562,
          0.000011682510375976562,
          0.0007109642028808594
         ],
         "xaxis": "x",
         "y": [
          "Node 0",
          "Node 1",
          "Node 2",
          "Node 3",
          "Node 4",
          "Node 5",
          "Node 6",
          "Node 7",
          "Node 8",
          "Node 9"
         ],
         "yaxis": "y"
        },
        {
         "alignmentgroup": "True",
         "base": [
          0.07362484931945801,
          0.07363605499267578,
          0.07362914085388184,
          0.07363224029541016,
          0.07363629341125488,
          0.07441830635070801,
          0.07442331314086914,
          0.07442522048950195,
          0.07442879676818848,
          0.074432373046875
         ],
         "hovertemplate": "Task=Iter 47<br>Start=%{base}<br>Finish=%{x}<br>Resource=%{y}<extra></extra>",
         "legendgroup": "Iter 47",
         "marker": {
          "color": "#B6E880",
          "pattern": {
           "shape": ""
          }
         },
         "name": "Iter 47",
         "offsetgroup": "Iter 47",
         "orientation": "h",
         "showlegend": true,
         "textposition": "auto",
         "type": "bar",
         "x": [
          0.000011444091796875,
          0.000017881393432617188,
          0.000011682510375976562,
          0.000011444091796875,
          0.000011682510375976562,
          0.000011920928955078125,
          0.000015974044799804688,
          0.000012159347534179688,
          0.000012159347534179688,
          0.0007090568542480469
         ],
         "xaxis": "x",
         "y": [
          "Node 0",
          "Node 1",
          "Node 2",
          "Node 3",
          "Node 4",
          "Node 5",
          "Node 6",
          "Node 7",
          "Node 8",
          "Node 9"
         ],
         "yaxis": "y"
        },
        {
         "alignmentgroup": "True",
         "base": [
          0.07519245147705078,
          0.07519745826721191,
          0.07519698143005371,
          0.07519960403442383,
          0.07520318031311035,
          0.07596492767333984,
          0.07596969604492188,
          0.07597041130065918,
          0.07597827911376953,
          0.07597970962524414
         ],
         "hovertemplate": "Task=Iter 48<br>Start=%{base}<br>Finish=%{x}<br>Resource=%{y}<extra></extra>",
         "legendgroup": "Iter 48",
         "marker": {
          "color": "#FF97FF",
          "pattern": {
           "shape": ""
          }
         },
         "name": "Iter 48",
         "offsetgroup": "Iter 48",
         "orientation": "h",
         "showlegend": true,
         "textposition": "auto",
         "type": "bar",
         "x": [
          0.000011682510375976562,
          0.0000152587890625,
          0.000011205673217773438,
          0.000011920928955078125,
          0.000011682510375976562,
          0.000011205673217773438,
          0.000012636184692382812,
          0.000011920928955078125,
          0.000012159347534179688,
          0.0007014274597167969
         ],
         "xaxis": "x",
         "y": [
          "Node 0",
          "Node 1",
          "Node 2",
          "Node 3",
          "Node 4",
          "Node 5",
          "Node 6",
          "Node 7",
          "Node 8",
          "Node 9"
         ],
         "yaxis": "y"
        },
        {
         "alignmentgroup": "True",
         "base": [
          0.07672333717346191,
          0.07672834396362305,
          0.07672834396362305,
          0.07673144340515137,
          0.0767359733581543,
          0.07749247550964355,
          0.07749652862548828,
          0.07750487327575684,
          0.07750558853149414,
          0.07750964164733887
         ],
         "hovertemplate": "Task=Iter 49<br>Start=%{base}<br>Finish=%{x}<br>Resource=%{y}<extra></extra>",
         "legendgroup": "Iter 49",
         "marker": {
          "color": "#FECB52",
          "pattern": {
           "shape": ""
          }
         },
         "name": "Iter 49",
         "offsetgroup": "Iter 49",
         "orientation": "h",
         "showlegend": true,
         "textposition": "auto",
         "type": "bar",
         "x": [
          0.000011682510375976562,
          0.000011444091796875,
          0.000010967254638671875,
          0.000011444091796875,
          0.000011682510375976562,
          0.000011444091796875,
          0.000012636184692382812,
          0.000011920928955078125,
          0.000011920928955078125,
          0.0007085800170898438
         ],
         "xaxis": "x",
         "y": [
          "Node 0",
          "Node 1",
          "Node 2",
          "Node 3",
          "Node 4",
          "Node 5",
          "Node 6",
          "Node 7",
          "Node 8",
          "Node 9"
         ],
         "yaxis": "y"
        },
        {
         "alignmentgroup": "True",
         "base": [
          0.0782632827758789,
          0.07826590538024902,
          0.07826781272888184,
          0.07827043533325195,
          0.07827401161193848,
          0.07903289794921875,
          0.07903718948364258,
          0.07903885841369629,
          0.07904195785522461,
          0.07904505729675293
         ],
         "hovertemplate": "Task=Iter 50<br>Start=%{base}<br>Finish=%{x}<br>Resource=%{y}<extra></extra>",
         "legendgroup": "Iter 50",
         "marker": {
          "color": "#636efa",
          "pattern": {
           "shape": ""
          }
         },
         "name": "Iter 50",
         "offsetgroup": "Iter 50",
         "orientation": "h",
         "showlegend": true,
         "textposition": "auto",
         "type": "bar",
         "x": [
          0.000011682510375976562,
          0.000011920928955078125,
          0.000011205673217773438,
          0.000011682510375976562,
          0.000011444091796875,
          0.000011444091796875,
          0.000011920928955078125,
          0.000011920928955078125,
          0.000011920928955078125,
          0.0007030963897705078
         ],
         "xaxis": "x",
         "y": [
          "Node 0",
          "Node 1",
          "Node 2",
          "Node 3",
          "Node 4",
          "Node 5",
          "Node 6",
          "Node 7",
          "Node 8",
          "Node 9"
         ],
         "yaxis": "y"
        }
       ],
       "layout": {
        "barmode": "overlay",
        "legend": {
         "title": {
          "text": "Task"
         },
         "tracegroupgap": 0
        },
        "margin": {
         "t": 60
        },
        "template": {
         "data": {
          "bar": [
           {
            "error_x": {
             "color": "#2a3f5f"
            },
            "error_y": {
             "color": "#2a3f5f"
            },
            "marker": {
             "line": {
              "color": "#E5ECF6",
              "width": 0.5
             },
             "pattern": {
              "fillmode": "overlay",
              "size": 10,
              "solidity": 0.2
             }
            },
            "type": "bar"
           }
          ],
          "barpolar": [
           {
            "marker": {
             "line": {
              "color": "#E5ECF6",
              "width": 0.5
             },
             "pattern": {
              "fillmode": "overlay",
              "size": 10,
              "solidity": 0.2
             }
            },
            "type": "barpolar"
           }
          ],
          "carpet": [
           {
            "aaxis": {
             "endlinecolor": "#2a3f5f",
             "gridcolor": "white",
             "linecolor": "white",
             "minorgridcolor": "white",
             "startlinecolor": "#2a3f5f"
            },
            "baxis": {
             "endlinecolor": "#2a3f5f",
             "gridcolor": "white",
             "linecolor": "white",
             "minorgridcolor": "white",
             "startlinecolor": "#2a3f5f"
            },
            "type": "carpet"
           }
          ],
          "choropleth": [
           {
            "colorbar": {
             "outlinewidth": 0,
             "ticks": ""
            },
            "type": "choropleth"
           }
          ],
          "contour": [
           {
            "colorbar": {
             "outlinewidth": 0,
             "ticks": ""
            },
            "colorscale": [
             [
              0,
              "#0d0887"
             ],
             [
              0.1111111111111111,
              "#46039f"
             ],
             [
              0.2222222222222222,
              "#7201a8"
             ],
             [
              0.3333333333333333,
              "#9c179e"
             ],
             [
              0.4444444444444444,
              "#bd3786"
             ],
             [
              0.5555555555555556,
              "#d8576b"
             ],
             [
              0.6666666666666666,
              "#ed7953"
             ],
             [
              0.7777777777777778,
              "#fb9f3a"
             ],
             [
              0.8888888888888888,
              "#fdca26"
             ],
             [
              1,
              "#f0f921"
             ]
            ],
            "type": "contour"
           }
          ],
          "contourcarpet": [
           {
            "colorbar": {
             "outlinewidth": 0,
             "ticks": ""
            },
            "type": "contourcarpet"
           }
          ],
          "heatmap": [
           {
            "colorbar": {
             "outlinewidth": 0,
             "ticks": ""
            },
            "colorscale": [
             [
              0,
              "#0d0887"
             ],
             [
              0.1111111111111111,
              "#46039f"
             ],
             [
              0.2222222222222222,
              "#7201a8"
             ],
             [
              0.3333333333333333,
              "#9c179e"
             ],
             [
              0.4444444444444444,
              "#bd3786"
             ],
             [
              0.5555555555555556,
              "#d8576b"
             ],
             [
              0.6666666666666666,
              "#ed7953"
             ],
             [
              0.7777777777777778,
              "#fb9f3a"
             ],
             [
              0.8888888888888888,
              "#fdca26"
             ],
             [
              1,
              "#f0f921"
             ]
            ],
            "type": "heatmap"
           }
          ],
          "heatmapgl": [
           {
            "colorbar": {
             "outlinewidth": 0,
             "ticks": ""
            },
            "colorscale": [
             [
              0,
              "#0d0887"
             ],
             [
              0.1111111111111111,
              "#46039f"
             ],
             [
              0.2222222222222222,
              "#7201a8"
             ],
             [
              0.3333333333333333,
              "#9c179e"
             ],
             [
              0.4444444444444444,
              "#bd3786"
             ],
             [
              0.5555555555555556,
              "#d8576b"
             ],
             [
              0.6666666666666666,
              "#ed7953"
             ],
             [
              0.7777777777777778,
              "#fb9f3a"
             ],
             [
              0.8888888888888888,
              "#fdca26"
             ],
             [
              1,
              "#f0f921"
             ]
            ],
            "type": "heatmapgl"
           }
          ],
          "histogram": [
           {
            "marker": {
             "pattern": {
              "fillmode": "overlay",
              "size": 10,
              "solidity": 0.2
             }
            },
            "type": "histogram"
           }
          ],
          "histogram2d": [
           {
            "colorbar": {
             "outlinewidth": 0,
             "ticks": ""
            },
            "colorscale": [
             [
              0,
              "#0d0887"
             ],
             [
              0.1111111111111111,
              "#46039f"
             ],
             [
              0.2222222222222222,
              "#7201a8"
             ],
             [
              0.3333333333333333,
              "#9c179e"
             ],
             [
              0.4444444444444444,
              "#bd3786"
             ],
             [
              0.5555555555555556,
              "#d8576b"
             ],
             [
              0.6666666666666666,
              "#ed7953"
             ],
             [
              0.7777777777777778,
              "#fb9f3a"
             ],
             [
              0.8888888888888888,
              "#fdca26"
             ],
             [
              1,
              "#f0f921"
             ]
            ],
            "type": "histogram2d"
           }
          ],
          "histogram2dcontour": [
           {
            "colorbar": {
             "outlinewidth": 0,
             "ticks": ""
            },
            "colorscale": [
             [
              0,
              "#0d0887"
             ],
             [
              0.1111111111111111,
              "#46039f"
             ],
             [
              0.2222222222222222,
              "#7201a8"
             ],
             [
              0.3333333333333333,
              "#9c179e"
             ],
             [
              0.4444444444444444,
              "#bd3786"
             ],
             [
              0.5555555555555556,
              "#d8576b"
             ],
             [
              0.6666666666666666,
              "#ed7953"
             ],
             [
              0.7777777777777778,
              "#fb9f3a"
             ],
             [
              0.8888888888888888,
              "#fdca26"
             ],
             [
              1,
              "#f0f921"
             ]
            ],
            "type": "histogram2dcontour"
           }
          ],
          "mesh3d": [
           {
            "colorbar": {
             "outlinewidth": 0,
             "ticks": ""
            },
            "type": "mesh3d"
           }
          ],
          "parcoords": [
           {
            "line": {
             "colorbar": {
              "outlinewidth": 0,
              "ticks": ""
             }
            },
            "type": "parcoords"
           }
          ],
          "pie": [
           {
            "automargin": true,
            "type": "pie"
           }
          ],
          "scatter": [
           {
            "fillpattern": {
             "fillmode": "overlay",
             "size": 10,
             "solidity": 0.2
            },
            "type": "scatter"
           }
          ],
          "scatter3d": [
           {
            "line": {
             "colorbar": {
              "outlinewidth": 0,
              "ticks": ""
             }
            },
            "marker": {
             "colorbar": {
              "outlinewidth": 0,
              "ticks": ""
             }
            },
            "type": "scatter3d"
           }
          ],
          "scattercarpet": [
           {
            "marker": {
             "colorbar": {
              "outlinewidth": 0,
              "ticks": ""
             }
            },
            "type": "scattercarpet"
           }
          ],
          "scattergeo": [
           {
            "marker": {
             "colorbar": {
              "outlinewidth": 0,
              "ticks": ""
             }
            },
            "type": "scattergeo"
           }
          ],
          "scattergl": [
           {
            "marker": {
             "colorbar": {
              "outlinewidth": 0,
              "ticks": ""
             }
            },
            "type": "scattergl"
           }
          ],
          "scattermapbox": [
           {
            "marker": {
             "colorbar": {
              "outlinewidth": 0,
              "ticks": ""
             }
            },
            "type": "scattermapbox"
           }
          ],
          "scatterpolar": [
           {
            "marker": {
             "colorbar": {
              "outlinewidth": 0,
              "ticks": ""
             }
            },
            "type": "scatterpolar"
           }
          ],
          "scatterpolargl": [
           {
            "marker": {
             "colorbar": {
              "outlinewidth": 0,
              "ticks": ""
             }
            },
            "type": "scatterpolargl"
           }
          ],
          "scatterternary": [
           {
            "marker": {
             "colorbar": {
              "outlinewidth": 0,
              "ticks": ""
             }
            },
            "type": "scatterternary"
           }
          ],
          "surface": [
           {
            "colorbar": {
             "outlinewidth": 0,
             "ticks": ""
            },
            "colorscale": [
             [
              0,
              "#0d0887"
             ],
             [
              0.1111111111111111,
              "#46039f"
             ],
             [
              0.2222222222222222,
              "#7201a8"
             ],
             [
              0.3333333333333333,
              "#9c179e"
             ],
             [
              0.4444444444444444,
              "#bd3786"
             ],
             [
              0.5555555555555556,
              "#d8576b"
             ],
             [
              0.6666666666666666,
              "#ed7953"
             ],
             [
              0.7777777777777778,
              "#fb9f3a"
             ],
             [
              0.8888888888888888,
              "#fdca26"
             ],
             [
              1,
              "#f0f921"
             ]
            ],
            "type": "surface"
           }
          ],
          "table": [
           {
            "cells": {
             "fill": {
              "color": "#EBF0F8"
             },
             "line": {
              "color": "white"
             }
            },
            "header": {
             "fill": {
              "color": "#C8D4E3"
             },
             "line": {
              "color": "white"
             }
            },
            "type": "table"
           }
          ]
         },
         "layout": {
          "annotationdefaults": {
           "arrowcolor": "#2a3f5f",
           "arrowhead": 0,
           "arrowwidth": 1
          },
          "autotypenumbers": "strict",
          "coloraxis": {
           "colorbar": {
            "outlinewidth": 0,
            "ticks": ""
           }
          },
          "colorscale": {
           "diverging": [
            [
             0,
             "#8e0152"
            ],
            [
             0.1,
             "#c51b7d"
            ],
            [
             0.2,
             "#de77ae"
            ],
            [
             0.3,
             "#f1b6da"
            ],
            [
             0.4,
             "#fde0ef"
            ],
            [
             0.5,
             "#f7f7f7"
            ],
            [
             0.6,
             "#e6f5d0"
            ],
            [
             0.7,
             "#b8e186"
            ],
            [
             0.8,
             "#7fbc41"
            ],
            [
             0.9,
             "#4d9221"
            ],
            [
             1,
             "#276419"
            ]
           ],
           "sequential": [
            [
             0,
             "#0d0887"
            ],
            [
             0.1111111111111111,
             "#46039f"
            ],
            [
             0.2222222222222222,
             "#7201a8"
            ],
            [
             0.3333333333333333,
             "#9c179e"
            ],
            [
             0.4444444444444444,
             "#bd3786"
            ],
            [
             0.5555555555555556,
             "#d8576b"
            ],
            [
             0.6666666666666666,
             "#ed7953"
            ],
            [
             0.7777777777777778,
             "#fb9f3a"
            ],
            [
             0.8888888888888888,
             "#fdca26"
            ],
            [
             1,
             "#f0f921"
            ]
           ],
           "sequentialminus": [
            [
             0,
             "#0d0887"
            ],
            [
             0.1111111111111111,
             "#46039f"
            ],
            [
             0.2222222222222222,
             "#7201a8"
            ],
            [
             0.3333333333333333,
             "#9c179e"
            ],
            [
             0.4444444444444444,
             "#bd3786"
            ],
            [
             0.5555555555555556,
             "#d8576b"
            ],
            [
             0.6666666666666666,
             "#ed7953"
            ],
            [
             0.7777777777777778,
             "#fb9f3a"
            ],
            [
             0.8888888888888888,
             "#fdca26"
            ],
            [
             1,
             "#f0f921"
            ]
           ]
          },
          "colorway": [
           "#636efa",
           "#EF553B",
           "#00cc96",
           "#ab63fa",
           "#FFA15A",
           "#19d3f3",
           "#FF6692",
           "#B6E880",
           "#FF97FF",
           "#FECB52"
          ],
          "font": {
           "color": "#2a3f5f"
          },
          "geo": {
           "bgcolor": "white",
           "lakecolor": "white",
           "landcolor": "#E5ECF6",
           "showlakes": true,
           "showland": true,
           "subunitcolor": "white"
          },
          "hoverlabel": {
           "align": "left"
          },
          "hovermode": "closest",
          "mapbox": {
           "style": "light"
          },
          "paper_bgcolor": "white",
          "plot_bgcolor": "#E5ECF6",
          "polar": {
           "angularaxis": {
            "gridcolor": "white",
            "linecolor": "white",
            "ticks": ""
           },
           "bgcolor": "#E5ECF6",
           "radialaxis": {
            "gridcolor": "white",
            "linecolor": "white",
            "ticks": ""
           }
          },
          "scene": {
           "xaxis": {
            "backgroundcolor": "#E5ECF6",
            "gridcolor": "white",
            "gridwidth": 2,
            "linecolor": "white",
            "showbackground": true,
            "ticks": "",
            "zerolinecolor": "white"
           },
           "yaxis": {
            "backgroundcolor": "#E5ECF6",
            "gridcolor": "white",
            "gridwidth": 2,
            "linecolor": "white",
            "showbackground": true,
            "ticks": "",
            "zerolinecolor": "white"
           },
           "zaxis": {
            "backgroundcolor": "#E5ECF6",
            "gridcolor": "white",
            "gridwidth": 2,
            "linecolor": "white",
            "showbackground": true,
            "ticks": "",
            "zerolinecolor": "white"
           }
          },
          "shapedefaults": {
           "line": {
            "color": "#2a3f5f"
           }
          },
          "ternary": {
           "aaxis": {
            "gridcolor": "white",
            "linecolor": "white",
            "ticks": ""
           },
           "baxis": {
            "gridcolor": "white",
            "linecolor": "white",
            "ticks": ""
           },
           "bgcolor": "#E5ECF6",
           "caxis": {
            "gridcolor": "white",
            "linecolor": "white",
            "ticks": ""
           }
          },
          "title": {
           "x": 0.05
          },
          "xaxis": {
           "automargin": true,
           "gridcolor": "white",
           "linecolor": "white",
           "ticks": "",
           "title": {
            "standoff": 15
           },
           "zerolinecolor": "white",
           "zerolinewidth": 2
          },
          "yaxis": {
           "automargin": true,
           "gridcolor": "white",
           "linecolor": "white",
           "ticks": "",
           "title": {
            "standoff": 15
           },
           "zerolinecolor": "white",
           "zerolinewidth": 2
          }
         }
        },
        "title": {
         "text": "Parallel WTA Block"
        },
        "xaxis": {
         "anchor": "y",
         "domain": [
          0,
          1
         ],
         "type": "linear"
        },
        "yaxis": {
         "anchor": "x",
         "autorange": "reversed",
         "domain": [
          0,
          1
         ],
         "title": {
          "text": "Resource"
         }
        }
       }
      }
     },
     "metadata": {},
     "output_type": "display_data"
    }
   ],
   "source": [
    "# Block\n",
    "fig = getDataGantt(logs[2], \"Parallel WTA Block\")\n",
    "fig.show()\n"
   ]
  },
  {
   "cell_type": "code",
   "execution_count": 26,
   "metadata": {},
   "outputs": [
    {
     "data": {
      "image/png": "[encoded data removed]",
      "text/plain": [
       "<Figure size 640x480 with 1 Axes>"
      ]
     },
     "metadata": {},
     "output_type": "display_data"
    }
   ],
   "source": [
    "# Plot the value entry in last log for each of the three methods\n",
    "# Against the time delta \n",
    "# Get the last value of each log\n",
    "values = []\n",
    "time_deltas = []\n",
    "for log in logs:\n",
    "    start = log[0][0]['start']\n",
    "    values.append([e['value'] for e in log[-1]])\n",
    "    time_deltas.append([e['end']-start for e in log[-1]])\n",
    "\n",
    "plt.plot(time_deltas[0], values[0], label='Full')\n",
    "plt.plot(time_deltas[1], values[1], label='MT')\n",
    "plt.plot(time_deltas[2], values[2], label='Block')\n",
    "plt.axhline(y=8.629, color='red', linestyle='dashed')\n",
    "plt.xlabel('Time')\n",
    "plt.ylabel('Value')\n",
    "\n",
    "# Only display x-axis less than 0.2\n",
    "plt.xlim(0, 0.2)\n",
    "plt.title('Value vs Time')\n",
    "plt.legend()\n",
    "\n",
    "plt.show()"
   ]
  },
  {
   "cell_type": "code",
   "execution_count": 24,
   "metadata": {},
   "outputs": [
    {
     "data": {
      "text/plain": [
       "[1711400159.395944,\n",
       " 1711400159.3976145,\n",
       " 1711400159.3991272,\n",
       " 1711400159.4006643,\n",
       " 1711400159.4022014,\n",
       " 1711400159.403703,\n",
       " 1711400159.405213,\n",
       " 1711400159.407337,\n",
       " 1711400159.408863,\n",
       " 1711400159.410377,\n",
       " 1711400159.4118643,\n",
       " 1711400159.4133735,\n",
       " 1711400159.414861,\n",
       " 1711400159.4163587,\n",
       " 1711400159.4178526,\n",
       " 1711400159.4193485,\n",
       " 1711400159.420844,\n",
       " 1711400159.4223409,\n",
       " 1711400159.4238331,\n",
       " 1711400159.4253466,\n",
       " 1711400159.426835,\n",
       " 1711400159.428322,\n",
       " 1711400159.4298098,\n",
       " 1711400159.4312992,\n",
       " 1711400159.4327793,\n",
       " 1711400159.4342754,\n",
       " 1711400159.435792,\n",
       " 1711400159.4373186,\n",
       " 1711400159.4387937,\n",
       " 1711400159.4402726,\n",
       " 1711400159.4417434,\n",
       " 1711400159.4432275,\n",
       " 1711400159.444692,\n",
       " 1711400159.4461684,\n",
       " 1711400159.447638,\n",
       " 1711400159.4491143,\n",
       " 1711400159.4506009,\n",
       " 1711400159.452066,\n",
       " 1711400159.453541,\n",
       " 1711400159.45502,\n",
       " 1711400159.4564884,\n",
       " 1711400159.4579573,\n",
       " 1711400159.459435,\n",
       " 1711400159.461101,\n",
       " 1711400159.462571,\n",
       " 1711400159.464041,\n",
       " 1711400159.4655232,\n",
       " 1711400159.467012,\n",
       " 1711400159.468489,\n",
       " 1711400159.4699543,\n",
       " 1711400159.4714248,\n",
       " 1711400159.4728966,\n",
       " 1711400159.474365,\n",
       " 1711400159.4758527,\n",
       " 1711400159.4773283,\n",
       " 1711400159.4788034,\n",
       " 1711400159.4802794,\n",
       " 1711400159.481747,\n",
       " 1711400159.4832308,\n",
       " 1711400159.4847083,\n",
       " 1711400159.4861832,\n",
       " 1711400159.4876518,\n",
       " 1711400159.4891214,\n",
       " 1711400159.4905956,\n",
       " 1711400159.49207,\n",
       " 1711400159.4935477,\n",
       " 1711400159.4950154,\n",
       " 1711400159.4964943,\n",
       " 1711400159.4979627,\n",
       " 1711400159.4994435,\n",
       " 1711400159.500911,\n",
       " 1711400159.5023994,\n",
       " 1711400159.5038788,\n",
       " 1711400159.505359,\n",
       " 1711400159.5068247,\n",
       " 1711400159.5083,\n",
       " 1711400159.5097663,\n",
       " 1711400159.5112457,\n",
       " 1711400159.51271,\n",
       " 1711400159.514192,\n",
       " 1711400159.5156736,\n",
       " 1711400159.5171432,\n",
       " 1711400159.518615,\n",
       " 1711400159.520127,\n",
       " 1711400159.5215995,\n",
       " 1711400159.5230603,\n",
       " 1711400159.5245314,\n",
       " 1711400159.5260231,\n",
       " 1711400159.527497,\n",
       " 1711400159.52896,\n",
       " 1711400159.5304763,\n",
       " 1711400159.5319362,\n",
       " 1711400159.5334136,\n",
       " 1711400159.5348845,\n",
       " 1711400159.5363584,\n",
       " 1711400159.537833,\n",
       " 1711400159.5393002,\n",
       " 1711400159.5407727,\n",
       " 1711400159.5422485,\n",
       " 1711400159.5437365,\n",
       " 1711400159.5452132,\n",
       " 1711400159.5466928,\n",
       " 1711400159.5481656,\n",
       " 1711400159.5496373,\n",
       " 1711400159.5511065,\n",
       " 1711400159.5525846,\n",
       " 1711400159.5540595,\n",
       " 1711400159.5555298,\n",
       " 1711400159.557008,\n",
       " 1711400159.5584881,\n",
       " 1711400159.5599582,\n",
       " 1711400159.561434,\n",
       " 1711400159.5629213,\n",
       " 1711400159.5644085,\n",
       " 1711400159.5658836,\n",
       " 1711400159.5673747,\n",
       " 1711400159.5688417,\n",
       " 1711400159.570331,\n",
       " 1711400159.5718086,\n",
       " 1711400159.5732758,\n",
       " 1711400159.574905,\n",
       " 1711400159.576388,\n",
       " 1711400159.5778644,\n",
       " 1711400159.5793312,\n",
       " 1711400159.580793,\n",
       " 1711400159.582258,\n",
       " 1711400159.5837166,\n",
       " 1711400159.5852168,\n",
       " 1711400159.5866978,\n",
       " 1711400159.588178,\n",
       " 1711400159.5896432,\n",
       " 1711400159.5911129,\n",
       " 1711400159.592603,\n",
       " 1711400159.5940683,\n",
       " 1711400159.5955591,\n",
       " 1711400159.597029,\n",
       " 1711400159.598512,\n",
       " 1711400159.5999885,\n",
       " 1711400159.6014645,\n",
       " 1711400159.602936,\n",
       " 1711400159.604426,\n",
       " 1711400159.6059012,\n",
       " 1711400159.6073875,\n",
       " 1711400159.6088746,\n",
       " 1711400159.610388,\n",
       " 1711400159.6118577,\n",
       " 1711400159.6133435,\n",
       " 1711400159.614811,\n",
       " 1711400159.6162906,\n",
       " 1711400159.617764,\n",
       " 1711400159.6192439,\n",
       " 1711400159.6207268,\n",
       " 1711400159.6222076,\n",
       " 1711400159.623687,\n",
       " 1711400159.6251874,\n",
       " 1711400159.6266565,\n",
       " 1711400159.6281345,\n",
       " 1711400159.62963,\n",
       " 1711400159.6311078,\n",
       " 1711400159.6325958,\n",
       " 1711400159.634065,\n",
       " 1711400159.6355531,\n",
       " 1711400159.6370223,\n",
       " 1711400159.6385088,\n",
       " 1711400159.639988,\n",
       " 1711400159.6414685,\n",
       " 1711400159.6429482,\n",
       " 1711400159.6444407,\n",
       " 1711400159.645921,\n",
       " 1711400159.6474037,\n",
       " 1711400159.648875,\n",
       " 1711400159.650356,\n",
       " 1711400159.6518314,\n",
       " 1711400159.653306,\n",
       " 1711400159.6547916,\n",
       " 1711400159.6562731,\n",
       " 1711400159.6577883,\n",
       " 1711400159.6592717,\n",
       " 1711400159.6607604,\n",
       " 1711400159.6622434,\n",
       " 1711400159.6637127,\n",
       " 1711400159.6651893,\n",
       " 1711400159.6666663,\n",
       " 1711400159.668143,\n",
       " 1711400159.6696243,\n",
       " 1711400159.6711183,\n",
       " 1711400159.6725945,\n",
       " 1711400159.6740725,\n",
       " 1711400159.6755471,\n",
       " 1711400159.6770198,\n",
       " 1711400159.6785045,\n",
       " 1711400159.679976,\n",
       " 1711400159.6814702,\n",
       " 1711400159.6829438,\n",
       " 1711400159.6844254,\n",
       " 1711400159.685892,\n",
       " 1711400159.68738,\n",
       " 1711400159.688863,\n",
       " 1711400159.6903567,\n",
       " 1711400159.6918218,\n",
       " 1711400159.6933072,\n",
       " 1711400159.694773,\n",
       " 1711400159.6962643,\n",
       " 1711400159.69774,\n",
       " 1711400159.6992347,\n",
       " 1711400159.7007198,\n",
       " 1711400159.702204,\n",
       " 1711400159.703692,\n",
       " 1711400159.7052038,\n",
       " 1711400159.7066698,\n",
       " 1711400159.7081485,\n",
       " 1711400159.7096295,\n",
       " 1711400159.7111053,\n",
       " 1711400159.712589,\n",
       " 1711400159.7140675,\n",
       " 1711400159.715556,\n",
       " 1711400159.717032,\n",
       " 1711400159.7185419,\n",
       " 1711400159.7200115,\n",
       " 1711400159.7214868,\n",
       " 1711400159.7229621,\n",
       " 1711400159.7244418,\n",
       " 1711400159.7259128,\n",
       " 1711400159.7273905,\n",
       " 1711400159.7288663,\n",
       " 1711400159.7303503,\n",
       " 1711400159.7318213,\n",
       " 1711400159.733303,\n",
       " 1711400159.7347746,\n",
       " 1711400159.736255,\n",
       " 1711400159.7377243,\n",
       " 1711400159.7392094,\n",
       " 1711400159.740687,\n",
       " 1711400159.7421768,\n",
       " 1711400159.7436595,\n",
       " 1711400159.7451487,\n",
       " 1711400159.746637,\n",
       " 1711400159.7481084,\n",
       " 1711400159.74963,\n",
       " 1711400159.7511299,\n",
       " 1711400159.752678,\n",
       " 1711400159.7541573,\n",
       " 1711400159.755644,\n",
       " 1711400159.7571323,\n",
       " 1711400159.7586386,\n",
       " 1711400159.76012,\n",
       " 1711400159.7616048,\n",
       " 1711400159.7631006,\n",
       " 1711400159.7645996,\n",
       " 1711400159.7661235,\n",
       " 1711400159.7676063,\n",
       " 1711400159.769083,\n",
       " 1711400159.7705765,\n",
       " 1711400159.7720666,\n",
       " 1711400159.7735689,\n",
       " 1711400159.775069,\n",
       " 1711400159.7765522,\n",
       " 1711400159.7780395,\n",
       " 1711400159.7795208,\n",
       " 1711400159.781004,\n",
       " 1711400159.7824917,\n",
       " 1711400159.7839665,\n",
       " 1711400159.7854457,\n",
       " 1711400159.7869225,\n",
       " 1711400159.7884154,\n",
       " 1711400159.7898889,\n",
       " 1711400159.7913618,\n",
       " 1711400159.7928548,\n",
       " 1711400159.794336,\n",
       " 1711400159.7958162,\n",
       " 1711400159.7972915,\n",
       " 1711400159.798783,\n",
       " 1711400159.8002915,\n",
       " 1711400159.8017633,\n",
       " 1711400159.8032393,\n",
       " 1711400159.80471,\n",
       " 1711400159.806201,\n",
       " 1711400159.8076723,\n",
       " 1711400159.8091488,\n",
       " 1711400159.8106296,\n",
       " 1711400159.8121288,\n",
       " 1711400159.8138287,\n",
       " 1711400159.8154697,\n",
       " 1711400159.8172133,\n",
       " 1711400159.8189285,\n",
       " 1711400159.8205116,\n",
       " 1711400159.82198,\n",
       " 1711400159.8234637,\n",
       " 1711400159.824929,\n",
       " 1711400159.826401,\n",
       " 1711400159.8278735,\n",
       " 1711400159.8293858,\n",
       " 1711400159.8308616,\n",
       " 1711400159.8323557,\n",
       " 1711400159.8338187,\n",
       " 1711400159.8352957,\n",
       " 1711400159.836768,\n",
       " 1711400159.8382668,\n",
       " 1711400159.8397343,\n",
       " 1711400159.841214,\n",
       " 1711400159.842678,\n",
       " 1711400159.844154,\n",
       " 1711400159.8456292,\n",
       " 1711400159.8470936,\n",
       " 1711400159.8486295,\n",
       " 1711400159.850103,\n",
       " 1711400159.8515706,\n",
       " 1711400159.853033,\n",
       " 1711400159.8545077,\n",
       " 1711400159.8559883,\n",
       " 1711400159.8574727,\n",
       " 1711400159.8589425,\n",
       " 1711400159.8604574,\n",
       " 1711400159.8619285,\n",
       " 1711400159.8633971,\n",
       " 1711400159.864861,\n",
       " 1711400159.8663387,\n",
       " 1711400159.8678272,\n",
       " 1711400159.8692966,\n",
       " 1711400159.8707685,\n",
       " 1711400159.8722453,\n",
       " 1711400159.873712,\n",
       " 1711400159.875189,\n",
       " 1711400159.876657,\n",
       " 1711400159.878124,\n",
       " 1711400159.8796003,\n",
       " 1711400159.881065,\n",
       " 1711400159.882552,\n",
       " 1711400159.8840256,\n",
       " 1711400159.8855016,\n",
       " 1711400159.8869665,\n",
       " 1711400159.8884535,\n",
       " 1711400159.8899317,\n",
       " 1711400159.8914247,\n",
       " 1711400159.8929114,\n",
       " 1711400159.894392,\n",
       " 1711400159.8958864,\n",
       " 1711400159.8973649,\n",
       " 1711400159.898831,\n",
       " 1711400159.90031,\n",
       " 1711400159.9017863,\n",
       " 1711400159.903268,\n",
       " 1711400159.9047804,\n",
       " 1711400159.9062696,\n",
       " 1711400159.90775,\n",
       " 1711400159.909228,\n",
       " 1711400159.9106925,\n",
       " 1711400159.9121635,\n",
       " 1711400159.9136283,\n",
       " 1711400159.9151046,\n",
       " 1711400159.9165804,\n",
       " 1711400159.9180474,\n",
       " 1711400159.9195218,\n",
       " 1711400159.920995,\n",
       " 1711400159.9224775,\n",
       " 1711400159.9239419,\n",
       " 1711400159.9254315,\n",
       " 1711400159.9268932,\n",
       " 1711400159.9283779,\n",
       " 1711400159.9298568,\n",
       " 1711400159.931331,\n",
       " 1711400159.9328094,\n",
       " 1711400159.9342782,\n",
       " 1711400159.935761,\n",
       " 1711400159.937227,\n",
       " 1711400159.9387,\n",
       " 1711400159.940183,\n",
       " 1711400159.9416802,\n",
       " 1711400159.9431672,\n",
       " 1711400159.9446383,\n",
       " 1711400159.9461005,\n",
       " 1711400159.9475782,\n",
       " 1711400159.949037,\n",
       " 1711400159.9505184,\n",
       " 1711400159.9520013,\n",
       " 1711400159.9534717,\n",
       " 1711400159.9549716,\n",
       " 1711400159.9564393,\n",
       " 1711400159.9578974,\n",
       " 1711400159.9593773,\n",
       " 1711400159.9608376,\n",
       " 1711400159.9623246,\n",
       " 1711400159.9638305,\n",
       " 1711400159.96531,\n",
       " 1711400159.9667666,\n",
       " 1711400159.9682555,\n",
       " 1711400159.9697282,\n",
       " 1711400159.9712138,\n",
       " 1711400159.9726744,\n",
       " 1711400159.9741478,\n",
       " 1711400159.975617,\n",
       " 1711400159.9770887,\n",
       " 1711400159.9785583,\n",
       " 1711400159.980032,\n",
       " 1711400159.9815128,\n",
       " 1711400159.983029,\n",
       " 1711400159.9845152,\n",
       " 1711400159.986005,\n",
       " 1711400159.9874861,\n",
       " 1711400159.9889834,\n",
       " 1711400159.990532,\n",
       " 1711400159.992001,\n",
       " 1711400159.993472,\n",
       " 1711400159.9949372,\n",
       " 1711400159.9964135,\n",
       " 1711400159.9978874,\n",
       " 1711400159.999398,\n",
       " 1711400160.0009089,\n",
       " 1711400160.0024483,\n",
       " 1711400160.0039234,\n",
       " 1711400160.0053911,\n",
       " 1711400160.006854,\n",
       " 1711400160.0083253,\n",
       " 1711400160.009793,\n",
       " 1711400160.0112634,\n",
       " 1711400160.012738,\n",
       " 1711400160.0142105,\n",
       " 1711400160.0156786,\n",
       " 1711400160.0171504,\n",
       " 1711400160.0186207,\n",
       " 1711400160.020088,\n",
       " 1711400160.0215757,\n",
       " 1711400160.0230439,\n",
       " 1711400160.024524,\n",
       " 1711400160.0259929,\n",
       " 1711400160.0274706,\n",
       " 1711400160.0289354,\n",
       " 1711400160.0304077,\n",
       " 1711400160.0318842,\n",
       " 1711400160.033372,\n",
       " 1711400160.03484,\n",
       " 1711400160.036344,\n",
       " 1711400160.037814,\n",
       " 1711400160.0392892,\n",
       " 1711400160.0407557,\n",
       " 1711400160.0422406,\n",
       " 1711400160.0437138,\n",
       " 1711400160.0451882,\n",
       " 1711400160.046686,\n",
       " 1711400160.0481818,\n",
       " 1711400160.049649,\n",
       " 1711400160.0511088,\n",
       " 1711400160.0525966,\n",
       " 1711400160.0540667,\n",
       " 1711400160.05553,\n",
       " 1711400160.0569954,\n",
       " 1711400160.058486,\n",
       " 1711400160.059952,\n",
       " 1711400160.0614352,\n",
       " 1711400160.0628974,\n",
       " 1711400160.0643806,\n",
       " 1711400160.0658495,\n",
       " 1711400160.0673249,\n",
       " 1711400160.0688167,\n",
       " 1711400160.070292,\n",
       " 1711400160.0717735,\n",
       " 1711400160.073249,\n",
       " 1711400160.0747247,\n",
       " 1711400160.0761974,\n",
       " 1711400160.0776665,\n",
       " 1711400160.0791416,\n",
       " 1711400160.0806243,\n",
       " 1711400160.082097,\n",
       " 1711400160.0835977,\n",
       " 1711400160.0850651,\n",
       " 1711400160.0865617,\n",
       " 1711400160.0880415,\n",
       " 1711400160.0895076,\n",
       " 1711400160.0909836,\n",
       " 1711400160.0924668,\n",
       " 1711400160.0939364,\n",
       " 1711400160.0954592,\n",
       " 1711400160.096923,\n",
       " 1711400160.098403,\n",
       " 1711400160.0998814,\n",
       " 1711400160.1013734,\n",
       " 1711400160.1028447,\n",
       " 1711400160.10432,\n",
       " 1711400160.105807,\n",
       " 1711400160.1072888,\n",
       " 1711400160.1087768,\n",
       " 1711400160.1102672,\n",
       " 1711400160.111734,\n",
       " 1711400160.1132214,\n",
       " 1711400160.11469,\n",
       " 1711400160.116182,\n",
       " 1711400160.1176763,\n",
       " 1711400160.1191523,\n",
       " 1711400160.120634,\n",
       " 1711400160.1221085,\n",
       " 1711400160.1235852,\n",
       " 1711400160.1250787,\n",
       " 1711400160.126553,\n",
       " 1711400160.1280303,\n",
       " 1711400160.129513,\n",
       " 1711400160.131032,\n",
       " 1711400160.1325037,\n",
       " 1711400160.1339803,\n",
       " 1711400160.1354604,\n",
       " 1711400160.136933,\n",
       " 1711400160.1384294,\n",
       " 1711400160.1399093,\n",
       " 1711400160.1413825,\n",
       " 1711400160.1428907,\n",
       " 1711400160.1443653,\n",
       " 1711400160.145827,\n",
       " 1711400160.1473114,\n",
       " 1711400160.1487818,\n",
       " 1711400160.1502643,\n",
       " 1711400160.1517522,\n",
       " 1711400160.1532304,\n",
       " 1711400160.1546946,\n",
       " 1711400160.1561801,\n",
       " 1711400160.1576595,\n",
       " 1711400160.1591346,\n",
       " 1711400160.1606257,\n",
       " 1711400160.162105,\n",
       " 1711400160.1636117,\n",
       " 1711400160.1650856,\n",
       " 1711400160.1665845,\n",
       " 1711400160.1680582,\n",
       " 1711400160.1695352,\n",
       " 1711400160.1710176,\n",
       " 1711400160.1724856,\n",
       " 1711400160.17395,\n",
       " 1711400160.1754355,\n",
       " 1711400160.176909,\n",
       " 1711400160.178422,\n",
       " 1711400160.1798973,\n",
       " 1711400160.1813767,\n",
       " 1711400160.1828473,\n",
       " 1711400160.1843362,\n",
       " 1711400160.185813,\n",
       " 1711400160.187294,\n",
       " 1711400160.1887693,\n",
       " 1711400160.190324,\n",
       " 1711400160.1917999,\n",
       " 1711400160.1932793,\n",
       " 1711400160.1947515,\n",
       " 1711400160.1962328,\n",
       " 1711400160.1977885,\n",
       " 1711400160.1992683,\n",
       " 1711400160.2007465,\n",
       " 1711400160.2022262,\n",
       " 1711400160.2037017,\n",
       " 1711400160.2051778,\n",
       " 1711400160.2066576,\n",
       " 1711400160.2081442,\n",
       " 1711400160.2096226,\n",
       " 1711400160.2111056,\n",
       " 1711400160.212583,\n",
       " 1711400160.2140741,\n",
       " 1711400160.21555,\n",
       " 1711400160.2170384,\n",
       " 1711400160.2185187,\n",
       " 1711400160.220012,\n",
       " 1711400160.221487,\n",
       " 1711400160.2229683,\n",
       " 1711400160.2244456,\n",
       " 1711400160.2259567,\n",
       " 1711400160.227434,\n",
       " 1711400160.228905,\n",
       " 1711400160.2304022,\n",
       " 1711400160.231871,\n",
       " 1711400160.233365,\n",
       " 1711400160.2348347,\n",
       " 1711400160.2363517,\n",
       " 1711400160.2378225,\n",
       " 1711400160.2392957,\n",
       " 1711400160.2407684,\n",
       " 1711400160.242263,\n",
       " 1711400160.243735,\n",
       " 1711400160.24522,\n",
       " 1711400160.2467093,\n",
       " 1711400160.2481859,\n",
       " 1711400160.2496662,\n",
       " 1711400160.251132,\n",
       " 1711400160.2526278,\n",
       " 1711400160.2541008,\n",
       " 1711400160.2555847,\n",
       " 1711400160.2570605,\n",
       " 1711400160.25855,\n",
       " 1711400160.2600317,\n",
       " 1711400160.261512,\n",
       " 1711400160.2629912,\n",
       " 1711400160.2644784,\n",
       " 1711400160.2659497,\n",
       " 1711400160.2674348,\n",
       " 1711400160.2689042,\n",
       " 1711400160.2703826,\n",
       " 1711400160.2718525,\n",
       " 1711400160.2733755,\n",
       " 1711400160.2748544,\n",
       " 1711400160.2763355,\n",
       " 1711400160.2778146,\n",
       " 1711400160.2792928,\n",
       " 1711400160.2807586,\n",
       " 1711400160.2822402,\n",
       " 1711400160.2837186,\n",
       " 1711400160.2852008,\n",
       " 1711400160.2866673,\n",
       " 1711400160.2881389,\n",
       " 1711400160.289612,\n",
       " 1711400160.2910788,\n",
       " 1711400160.2925677,\n",
       " 1711400160.2940545,\n",
       " 1711400160.2956192,\n",
       " 1711400160.297125,\n",
       " 1711400160.2986085,\n",
       " 1711400160.3000872,\n",
       " 1711400160.3015566,\n",
       " 1711400160.3030336,\n",
       " 1711400160.3045192,\n",
       " 1711400160.3059957,\n",
       " 1711400160.3074908,\n",
       " 1711400160.3089614,\n",
       " 1711400160.3104353,\n",
       " 1711400160.3119247,\n",
       " 1711400160.3134072,\n",
       " 1711400160.314891,\n",
       " 1711400160.3163724,\n",
       " 1711400160.317858,\n",
       " 1711400160.3193362,\n",
       " 1711400160.3208625,\n",
       " 1711400160.322353,\n",
       " 1711400160.3238237,\n",
       " 1711400160.3253105,\n",
       " 1711400160.3267765,\n",
       " 1711400160.3282638,\n",
       " 1711400160.3297346,\n",
       " 1711400160.3312407,\n",
       " 1711400160.3327086,\n",
       " 1711400160.3341858,\n",
       " 1711400160.3356514,\n",
       " 1711400160.337117,\n",
       " 1711400160.3385885,\n",
       " 1711400160.340062,\n",
       " 1711400160.3415413,\n",
       " 1711400160.3430161,\n",
       " 1711400160.3445046,\n",
       " 1711400160.3462415,\n",
       " 1711400160.3477094,\n",
       " 1711400160.349186,\n",
       " 1711400160.3506567,\n",
       " 1711400160.3521202,\n",
       " 1711400160.35359,\n",
       " 1711400160.3550522,\n",
       " 1711400160.356543,\n",
       " 1711400160.3580132,\n",
       " 1711400160.3594909,\n",
       " 1711400160.360966,\n",
       " 1711400160.362443,\n",
       " 1711400160.3639128,\n",
       " 1711400160.3654077,\n",
       " 1711400160.3669012,\n",
       " 1711400160.3683803,\n",
       " 1711400160.3698504,\n",
       " 1711400160.3713434,\n",
       " 1711400160.3728154,\n",
       " 1711400160.3742945,\n",
       " 1711400160.3757672,\n",
       " 1711400160.3772538,\n",
       " 1711400160.3787787,\n",
       " 1711400160.380266,\n",
       " 1711400160.3817377,\n",
       " 1711400160.3832238,\n",
       " 1711400160.3846967,\n",
       " 1711400160.3861787,\n",
       " 1711400160.3876486,\n",
       " 1711400160.389128,\n",
       " 1711400160.3906002,\n",
       " 1711400160.3920662,\n",
       " 1711400160.3935509,\n",
       " 1711400160.3950233,\n",
       " 1711400160.3964908,\n",
       " 1711400160.3979828,\n",
       " 1711400160.3994648,\n",
       " 1711400160.400943,\n",
       " 1711400160.402418,\n",
       " 1711400160.4038894,\n",
       " 1711400160.4053807,\n",
       " 1711400160.4068582,\n",
       " 1711400160.4083366,\n",
       " 1711400160.4098027,\n",
       " 1711400160.4112875,\n",
       " 1711400160.412755,\n",
       " 1711400160.4142282,\n",
       " 1711400160.4157047,\n",
       " 1711400160.4171932,\n",
       " 1711400160.4212995,\n",
       " 1711400160.4227707,\n",
       " 1711400160.424251,\n",
       " 1711400160.4257283,\n",
       " 1711400160.4274914,\n",
       " 1711400160.4289575,\n",
       " 1711400160.4304352,\n",
       " 1711400160.4319022,\n",
       " 1711400160.4333756,\n",
       " 1711400160.4348521,\n",
       " 1711400160.4363303,\n",
       " 1711400160.4378054,\n",
       " 1711400160.4392889,\n",
       " 1711400160.4407637,\n",
       " 1711400160.4422407,\n",
       " 1711400160.4437165,\n",
       " 1711400160.445201,\n",
       " 1711400160.4466777,\n",
       " 1711400160.4481535,\n",
       " 1711400160.449635,\n",
       " 1711400160.4511108,\n",
       " 1711400160.4526002,\n",
       " 1711400160.4540708,\n",
       " 1711400160.4555438,\n",
       " 1711400160.4570162,\n",
       " 1711400160.458488,\n",
       " 1711400160.459957,\n",
       " 1711400160.4614341,\n",
       " 1711400160.4629052,\n",
       " 1711400160.4643874,\n",
       " 1711400160.4658577,\n",
       " 1711400160.467341,\n",
       " 1711400160.4688113,\n",
       " 1711400160.4702907,\n",
       " 1711400160.471768,\n",
       " 1711400160.4732423,\n",
       " 1711400160.4747396,\n",
       " 1711400160.4762182,\n",
       " 1711400160.4776852,\n",
       " 1711400160.4791522,\n",
       " 1711400160.4806263,\n",
       " 1711400160.4821007,\n",
       " 1711400160.483579,\n",
       " 1711400160.4850612,\n",
       " 1711400160.4865313,\n",
       " 1711400160.4880042,\n",
       " 1711400160.4894774,\n",
       " 1711400160.4909482,\n",
       " 1711400160.4924452,\n",
       " 1711400160.493915,\n",
       " 1711400160.4954011,\n",
       " 1711400160.4968665,\n",
       " 1711400160.4983473,\n",
       " 1711400160.4998255,\n",
       " 1711400160.5013323,\n",
       " 1711400160.5028045,\n",
       " 1711400160.5042903,\n",
       " 1711400160.505765,\n",
       " 1711400160.507238,\n",
       " 1711400160.5087056,\n",
       " 1711400160.5101774,\n",
       " 1711400160.5116894,\n",
       " 1711400160.513162,\n",
       " 1711400160.514643,\n",
       " 1711400160.5161107,\n",
       " 1711400160.5175889,\n",
       " 1711400160.519056,\n",
       " 1711400160.5205283,\n",
       " 1711400160.5220077,\n",
       " 1711400160.523478,\n",
       " 1711400160.5249476,\n",
       " 1711400160.5264254,\n",
       " 1711400160.5278938,\n",
       " 1711400160.5293689,\n",
       " 1711400160.5308418,\n",
       " 1711400160.5323184,\n",
       " 1711400160.5337849,\n",
       " 1711400160.5352674,\n",
       " 1711400160.536743,\n",
       " 1711400160.5382264,\n",
       " 1711400160.539689,\n",
       " 1711400160.5411577,\n",
       " 1711400160.5426273,\n",
       " 1711400160.5440948,\n",
       " 1711400160.5455718,\n",
       " 1711400160.5470445,\n",
       " 1711400160.5485168,\n",
       " 1711400160.5499876,\n",
       " 1711400160.5514674,\n",
       " 1711400160.5529342,\n",
       " 1711400160.5544066,\n",
       " 1711400160.5558815,\n",
       " 1711400160.557355,\n",
       " 1711400160.5588322,\n",
       " 1711400160.5603285,\n",
       " 1711400160.5618012,\n",
       " 1711400160.56329,\n",
       " 1711400160.5647552,\n",
       " 1711400160.566234,\n",
       " 1711400160.5677102,\n",
       " 1711400160.5692363,\n",
       " 1711400160.5707052,\n",
       " 1711400160.572189,\n",
       " 1711400160.5736504,\n",
       " 1711400160.5751233,\n",
       " 1711400160.5766006,\n",
       " 1711400160.578064,\n",
       " 1711400160.5795548,\n",
       " 1711400160.5810466,\n",
       " 1711400160.5825303,\n",
       " 1711400160.584015,\n",
       " 1711400160.5855207,\n",
       " 1711400160.5869963,\n",
       " 1711400160.588472,\n",
       " 1711400160.5899441,\n",
       " 1711400160.5914178,\n",
       " 1711400160.5928879,\n",
       " 1711400160.5943677,\n",
       " 1711400160.5958512,\n",
       " 1711400160.5973294,\n",
       " 1711400160.598799,\n",
       " 1711400160.6002727,\n",
       " 1711400160.6017387,\n",
       " 1711400160.603209,\n",
       " 1711400160.604677,\n",
       " 1711400160.6061628,\n",
       " 1711400160.607643,\n",
       " 1711400160.6091163,\n",
       " 1711400160.610595,\n",
       " 1711400160.6120713,\n",
       " 1711400160.6135907,\n",
       " 1711400160.615069,\n",
       " 1711400160.616544,\n",
       " 1711400160.6180167,\n",
       " 1711400160.6195052,\n",
       " 1711400160.62098,\n",
       " 1711400160.6224515,\n",
       " 1711400160.6239243,\n",
       " 1711400160.6253946,\n",
       " 1711400160.6268601,\n",
       " 1711400160.6283438,\n",
       " 1711400160.6298158,\n",
       " 1711400160.631291,\n",
       " 1711400160.632756,\n",
       " 1711400160.634243,\n",
       " 1711400160.635717,\n",
       " 1711400160.6371975,\n",
       " 1711400160.6386642,\n",
       " 1711400160.6401289,\n",
       " 1711400160.6415982,\n",
       " 1711400160.643063,\n",
       " 1711400160.6445363,\n",
       " 1711400160.6460116,\n",
       " 1711400160.647499,\n",
       " 1711400160.648983,\n",
       " 1711400160.6504784,\n",
       " 1711400160.6519783,\n",
       " 1711400160.653478,\n",
       " 1711400160.6549582,\n",
       " 1711400160.6564345,\n",
       " 1711400160.6579049,\n",
       " 1711400160.6593864,\n",
       " 1711400160.6608503,\n",
       " 1711400160.6623821,\n",
       " 1711400160.6638503,\n",
       " 1711400160.6653273,\n",
       " 1711400160.6667998,\n",
       " 1711400160.6682794,\n",
       " 1711400160.6697464,\n",
       " 1711400160.6712375,\n",
       " 1711400160.6727107,\n",
       " 1711400160.674183,\n",
       " 1711400160.6756828,\n",
       " 1711400160.677184,\n",
       " 1711400160.678682,\n",
       " 1711400160.680161,\n",
       " 1711400160.6816423,\n",
       " 1711400160.6831129,\n",
       " 1711400160.684586,\n",
       " 1711400160.6860614,\n",
       " 1711400160.6875417,\n",
       " 1711400160.6890063,\n",
       " 1711400160.6905031,\n",
       " 1711400160.6919713,\n",
       " 1711400160.6934526,\n",
       " 1711400160.6949186,\n",
       " 1711400160.6963959,\n",
       " 1711400160.6978695,\n",
       " 1711400160.6993632,\n",
       " 1711400160.7008493,\n",
       " 1711400160.7023299,\n",
       " 1711400160.7037997,\n",
       " 1711400160.7052913,\n",
       " 1711400160.706771,\n",
       " 1711400160.7082527,\n",
       " 1711400160.709763,\n",
       " 1711400160.7112312,\n",
       " 1711400160.7126954,\n",
       " 1711400160.7141702,\n",
       " 1711400160.715637,\n",
       " 1711400160.7171037,\n",
       " 1711400160.7185764,\n",
       " 1711400160.7200396,\n",
       " 1711400160.721523,\n",
       " 1711400160.7230055,\n",
       " 1711400160.7244964,\n",
       " 1711400160.725961,\n",
       " 1711400160.727433,\n",
       " 1711400160.7289054,\n",
       " 1711400160.7303905,\n",
       " 1711400160.7318559,\n",
       " 1711400160.7333343,\n",
       " 1711400160.734818,\n",
       " 1711400160.736287,\n",
       " 1711400160.7377641,\n",
       " 1711400160.7392497,\n",
       " 1711400160.740719,\n",
       " 1711400160.7421923,\n",
       " 1711400160.7436724,\n",
       " 1711400160.7451403,\n",
       " 1711400160.746669,\n",
       " 1711400160.748133,\n",
       " 1711400160.7496462,\n",
       " 1711400160.751114,\n",
       " 1711400160.7526102,\n",
       " 1711400160.7540884,\n",
       " 1711400160.7555783,\n",
       " 1711400160.75712,\n",
       " 1711400160.7585926,\n",
       " 1711400160.7600598,\n",
       " 1711400160.7615368,\n",
       " 1711400160.7630086,\n",
       " 1711400160.764508,\n",
       " 1711400160.7659798,\n",
       " 1711400160.7674737,\n",
       " 1711400160.768973,\n",
       " 1711400160.7704725,\n",
       " 1711400160.7719624,\n",
       " 1711400160.7734494,\n",
       " 1711400160.7749317,\n",
       " 1711400160.7764232,\n",
       " 1711400160.7778924,\n",
       " 1711400160.7793715,\n",
       " 1711400160.7808495,\n",
       " 1711400160.782348,\n",
       " 1711400160.7838213,\n",
       " 1711400160.7853043,\n",
       " 1711400160.7867913,\n",
       " 1711400160.7882705,\n",
       " 1711400160.7897422,\n",
       " 1711400160.79123,\n",
       " 1711400160.7927058,\n",
       " 1711400160.7942228,\n",
       " 1711400160.7956898,\n",
       " 1711400160.797164,\n",
       " 1711400160.7986338,\n",
       " 1711400160.8001118,\n",
       " 1711400160.801595,\n",
       " 1711400160.8030996,\n",
       " 1711400160.804576,\n",
       " 1711400160.8060496,\n",
       " 1711400160.8075268,\n",
       " 1711400160.8089945,\n",
       " 1711400160.8104706,\n",
       " 1711400160.81194,\n",
       " 1711400160.8134146,\n",
       " 1711400160.8148894,\n",
       " 1711400160.8163605,\n",
       " 1711400160.8178308,\n",
       " 1711400160.8193073,\n",
       " 1711400160.8207812,\n",
       " 1711400160.8222988,\n",
       " 1711400160.8237698,\n",
       " 1711400160.8252468,\n",
       " 1711400160.8267152,\n",
       " 1711400160.8281918,\n",
       " 1711400160.8296723,\n",
       " 1711400160.8311405,\n",
       " 1711400160.8326204,\n",
       " 1711400160.834093,\n",
       " 1711400160.835587,\n",
       " 1711400160.8370576,\n",
       " 1711400160.8385353,\n",
       " 1711400160.8400135,\n",
       " 1711400160.841525,\n",
       " 1711400160.8429942,\n",
       " 1711400160.8444738,\n",
       " 1711400160.8459535,\n",
       " 1711400160.8474357,\n",
       " 1711400160.8489146,\n",
       " 1711400160.8504028,\n",
       " 1711400160.8518782,\n",
       " 1711400160.8533576,\n",
       " 1711400160.8548384,\n",
       " 1711400160.8563242,\n",
       " 1711400160.8577955,\n",
       " 1711400160.859271,\n",
       " 1711400160.860751,\n",
       " 1711400160.8622227,\n",
       " 1711400160.8637059,\n",
       " 1711400160.865181,\n",
       " 1711400160.8666673,\n",
       " 1711400160.8681424,\n",
       " 1711400160.8696194,\n",
       " 1711400160.8710973,\n",
       " 1711400160.8725827,\n",
       " 1711400160.874061,\n",
       " 1711400160.8755796,\n",
       " 1711400160.8770876,\n",
       " 1711400160.878647,\n",
       " 1711400160.8801558]"
      ]
     },
     "execution_count": 24,
     "metadata": {},
     "output_type": "execute_result"
    }
   ],
   "source": [
    "time_deltas[0]"
   ]
  },
  {
   "cell_type": "code",
   "execution_count": null,
   "metadata": {},
   "outputs": [],
   "source": []
  }
 ],
 "metadata": {
  "kernelspec": {
   "display_name": "base",
   "language": "python",
   "name": "python3"
  },
  "language_info": {
   "codemirror_mode": {
    "name": "ipython",
    "version": 3
   },
   "file_extension": ".py",
   "mimetype": "text/x-python",
   "name": "python",
   "nbconvert_exporter": "python",
   "pygments_lexer": "ipython3",
   "version": "3.11.4"
  }
 },
 "nbformat": 4,
 "nbformat_minor": 2
}
