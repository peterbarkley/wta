{
 "cells": [
  {
   "cell_type": "code",
   "execution_count": 2,
   "metadata": {},
   "outputs": [],
   "source": [
    "import numpy as np\n",
    "import cvxpy as cp\n",
    "import wta\n",
    "np.set_printoptions(precision=3, suppress=True)"
   ]
  },
  {
   "cell_type": "code",
   "execution_count": 3,
   "metadata": {},
   "outputs": [],
   "source": [
    "wpns = 6\n",
    "tgts = 3\n",
    "# Define the y matrix\n",
    "y = np.zeros((tgts, wpns))\n",
    "y[0,:] = [0.5, 0.2, 0.3, 0.3, 0.1, 0.6]\n",
    "y[1,:] = [0.1, 0.2, 0.3, 0.3, 0.6, 0.2]\n",
    "y[2,:] = [0.2, 0.21, 0.31, 0.31, 0.6, 0.65]\n",
    "\n",
    "V0 = 6\n",
    "q0 = np.array([0.8, 0.8, 0.4, 0.45, 0.5, 0.05])\n"
   ]
  },
  {
   "cell_type": "code",
   "execution_count": 6,
   "metadata": {},
   "outputs": [],
   "source": [
    "def refProx(i, q, y, V, verbose=False):\n",
    "    tgts, wpns = y.shape\n",
    "    \n",
    "    x = cp.Variable(y.shape, nonneg=True)\n",
    "    econs = [cp.sum(x, axis=0) == 1]\n",
    "    z1 = cp.exp(x[i,:]@cp.log(q))\n",
    "    obj1 = cp.Minimize(V*z1 + 0.5*cp.sum_squares(x-y))\n",
    "    prob1 = cp.Problem(obj1, econs)\n",
    "    prob1.solve(verbose=verbose)\n",
    "    print(obj1.value)\n",
    "    return x.value"
   ]
  },
  {
   "cell_type": "code",
   "execution_count": 17,
   "metadata": {},
   "outputs": [
    {
     "name": "stdout",
     "output_type": "stream",
     "text": [
      "0.41069458918430923\n",
      "[[0.597 0.36  0.454 0.438 0.094 0.78 ]\n",
      " [0.152 0.315 0.268 0.276 0.453 0.   ]\n",
      " [0.252 0.325 0.278 0.286 0.453 0.22 ]]\n"
     ]
    }
   ],
   "source": [
    "# Get the reference proximal operator solution\n",
    "x_ref = refProx(0, q0, y, V0)\n",
    "print(x_ref)"
   ]
  },
  {
   "cell_type": "code",
   "execution_count": 13,
   "metadata": {},
   "outputs": [],
   "source": [
    "def fastProx(i, q, y, V, verbose=False):\n",
    "    tgts, wpns = y.shape\n",
    "    x = np.zeros((tgts, wpns))\n",
    "    y_sum = np.sum(y, axis=0)-y[i,:]\n",
    "    # Find values of x[i,:] to set to 1 because the benefit, \n",
    "    # even when all other values of x[i,:] are 1,\n",
    "    # exceeds the cost of setting it to 1\n",
    "\n",
    "    # Find the values of x[i,:] to set to 0 because the benefit of setting it to a non zero value\n",
    "    # even when all other values of x[i,:] are 0,\n",
    "    # is exceeded by the cost of setting it to a non zero value\n",
    "\n",
    "    # Solve the problem for the remaining values of x[i,:]\n",
    "    promising = [i for i in range(wpns)]\n",
    "    base_val = V\n",
    "    promising_vals = singleWTA(q, base_val, y[i,:], y_sum, tgts-1, promising, True)\n",
    "    offset = ((1-promising_vals)-y_sum)/(tgts-1)\n",
    "    x = y + offset\n",
    "    x[i, promising] = promising_vals\n",
    "    return x\n",
    "\n"
   ]
  },
  {
   "cell_type": "code",
   "execution_count": 14,
   "metadata": {},
   "outputs": [],
   "source": [
    "def singleWTA(q, V, y_i, y_sum, n, promising, verbose=False):\n",
    "    '''\n",
    "    Solve the weapon-target assignment problem for a single target\n",
    "    Inputs:\n",
    "    q: (m,) array of survival probabilities\n",
    "    V: target value (float)\n",
    "    cost_diff: (m,) array of the difference between the cost of each weapon and the base value\n",
    "    promising: list of promising weapons\n",
    "    Outputs:\n",
    "    p: list of weapons to use\n",
    "    '''\n",
    "    m = len(promising)\n",
    "    small_q = q[promising]\n",
    "    small_y = y_i[promising]\n",
    "    small_c = y_sum[promising]\n",
    "    print(\"small_q\", small_q)\n",
    "    print(\"small_c\", small_c)\n",
    "    print(\"V\", V)\n",
    "    x = cp.Variable(m, nonneg=True)\n",
    "    ww = x@cp.log(small_q)\n",
    "    ss = 0.5*(cp.sum_squares(x - small_y) + cp.sum_squares(((1-x) - small_c)/n))\n",
    "    cons = [x <= 1]\n",
    "    obj = cp.Minimize(V*cp.exp(ww) + ss)\n",
    "    prob = cp.Problem(obj)\n",
    "    prob.solve()\n",
    "    if verbose:print(\"prob status\", prob.status)\n",
    "    if verbose:print(\"prob value\", prob.value)\n",
    "    if verbose:print(\"prob x\", x.value)\n",
    "    used = [i for i in range(m) if x.value[i] > 0.5]\n",
    "    print(used)\n",
    "    return x.value\n",
    "\n"
   ]
  },
  {
   "cell_type": "code",
   "execution_count": 15,
   "metadata": {},
   "outputs": [
    {
     "name": "stdout",
     "output_type": "stream",
     "text": [
      "small_q [0.8  0.8  0.4  0.45 0.5  0.05]\n",
      "small_c [0.3  0.41 0.61 0.61 1.2  0.85]\n",
      "V 6\n",
      "prob status optimal\n",
      "prob value 0.3118355092153159\n",
      "prob x [0.568 0.306 0.432 0.417 0.126 0.882]\n",
      "[0, 5]\n",
      "[[ 0.568  0.306  0.432  0.417  0.126  0.882]\n",
      " [ 0.166  0.342  0.279  0.286  0.437 -0.166]\n",
      " [ 0.266  0.352  0.289  0.296  0.437  0.284]]\n"
     ]
    }
   ],
   "source": [
    "# Get the fast proximal operator solution\n",
    "x = fastProx(0, q0, y, V0)\n",
    "print(x)"
   ]
  },
  {
   "cell_type": "code",
   "execution_count": 18,
   "metadata": {},
   "outputs": [
    {
     "data": {
      "text/plain": [
       "array([[0.597, 0.36 , 0.454, 0.438, 0.094, 0.78 ],\n",
       "       [0.152, 0.315, 0.268, 0.276, 0.453, 0.   ],\n",
       "       [0.252, 0.325, 0.278, 0.286, 0.453, 0.22 ]])"
      ]
     },
     "execution_count": 18,
     "metadata": {},
     "output_type": "execute_result"
    }
   ],
   "source": [
    "x_ref\n"
   ]
  },
  {
   "cell_type": "code",
   "execution_count": null,
   "metadata": {},
   "outputs": [],
   "source": []
  }
 ],
 "metadata": {
  "kernelspec": {
   "display_name": "base",
   "language": "python",
   "name": "python3"
  },
  "language_info": {
   "codemirror_mode": {
    "name": "ipython",
    "version": 3
   },
   "file_extension": ".py",
   "mimetype": "text/x-python",
   "name": "python",
   "nbconvert_exporter": "python",
   "pygments_lexer": "ipython3",
   "version": "3.11.4"
  }
 },
 "nbformat": 4,
 "nbformat_minor": 2
}
