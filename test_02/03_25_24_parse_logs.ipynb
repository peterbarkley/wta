{
 "cells": [
  {
   "cell_type": "code",
   "execution_count": 9,
   "metadata": {},
   "outputs": [],
   "source": [
    "# Import log json file and view Gantt chart of the log\n",
    "import json\n",
    "import pandas as pd\n",
    "import matplotlib.pyplot as plt\n",
    "import plotly.express as px\n",
    "import numpy as np"
   ]
  },
  {
   "cell_type": "code",
   "execution_count": 2,
   "metadata": {},
   "outputs": [],
   "source": [
    "\n",
    "def graphResults(logs, labels, ref, title, subtitle):\n",
    "    '''Graph the results'''\n",
    "\n",
    "    i=0\n",
    "    for log in logs:\n",
    "        if labels:\n",
    "            plt.plot(log, label=labels[i])\n",
    "        else:\n",
    "            plt.plot(log)\n",
    "        i+=1\n",
    "    \n",
    "    # Horizontal line for reference\n",
    "    plt.axhline(y=ref, color='red', linestyle='dashed')\n",
    "    \n",
    "    # Add labels\n",
    "    plt.xlabel('Time')\n",
    "    plt.ylabel('Value')\n",
    "    plt.title(subtitle)\n",
    "    plt.suptitle(title)\n",
    "    # Add legend\n",
    "    plt.legend()\n",
    "    #plt.show()\n",
    "\n",
    "    # Save the figure\n",
    "    timestamp = time()\n",
    "    plt.savefig(title+str(timestamp)+'.png')\n",
    "\n",
    "def getDataGantt(logs, title):\n",
    "    n = len(logs)\n",
    "    #tt, s, x = getCycleTime(t, l, L, W)\n",
    "    dflist = []\n",
    "\n",
    "    j = 0\n",
    "    for log in logs: # Node logs\n",
    "        i = 0\n",
    "        for iterlog in log: # Operations\n",
    "            if i > 50:\n",
    "                break\n",
    "            start = iterlog['start']\n",
    "            stop = iterlog['end']\n",
    "            if j==0 and i==0:\n",
    "                offset = start\n",
    "            start = start - offset\n",
    "            stop = stop - offset\n",
    "            #start = s[i,j]\n",
    "            #stop = start + t[j]\n",
    "            dflist.append(dict(Task=\"Iter %s\" % i, Start=start, Finish=stop, Resource=\"Node %s\" % j))\n",
    "            i += 1\n",
    "        j += 1\n",
    "    df = pd.DataFrame(dflist)\n",
    "    df['delta'] = df['Finish'] - df['Start']\n",
    "    # Export df to csv\n",
    "    #df.to_csv(title+'.csv')\n",
    "\n",
    "    fig = px.timeline(df, x_start=\"Start\", x_end=\"Finish\", y=\"Resource\", color=\"Task\")\n",
    "    fig.update_yaxes(autorange=\"reversed\") \n",
    "\n",
    "    fig.layout.xaxis.type = 'linear'\n",
    "    for d in fig.data:\n",
    "        filt = df['Task'] == d.name\n",
    "        d.x = df[filt]['delta'].tolist()\n",
    "\n",
    "    fig.update_layout(title_text=title)\n",
    "    return fig\n"
   ]
  },
  {
   "cell_type": "code",
   "execution_count": 3,
   "metadata": {},
   "outputs": [],
   "source": [
    "# Import log file logs_lambert1710*.json\n",
    "LW_titles = ['full', 'MT', 'block2']\n",
    "logs = []\n",
    "for title in LW_titles:\n",
    "    log = []\n",
    "    for node in range(10):\n",
    "        logname = 'logs_wta'+str(node)+'_'+title+'.json'\n",
    "        with open(logname) as f:\n",
    "            data = json.load(f)\n",
    "        log.append(data)\n",
    "    logs.append(log)\n",
    "\n",
    "# Data is a list of lists with the following structure:\n",
    "# data = [[node1_1, node1_2, ... ],[node2_1, node2_2, ...],...]\n",
    "# where log1 is a dictionary with the following structure:\n",
    "# log1 = {'start': 0, 'end': 0, 'value': 0, 'time': 0}\n",
    "\n"
   ]
  },
  {
   "cell_type": "code",
   "execution_count": 4,
   "metadata": {},
   "outputs": [
    {
     "data": {
      "text/plain": [
       "10"
      ]
     },
     "execution_count": 4,
     "metadata": {},
     "output_type": "execute_result"
    }
   ],
   "source": [
    "len(logs[0])\n"
   ]
  },
  {
   "cell_type": "code",
   "execution_count": 5,
   "metadata": {},
   "outputs": [
    {
     "data": {
      "application/vnd.plotly.v1+json": {
       "config": {
        "plotlyServerURL": "https://plot.ly"
       },
       "data": [
        {
         "alignmentgroup": "True",
         "base": [
          0,
          0.0009779930114746094,
          0.0019736289978027344,
          0.002945423126220703,
          0.003968477249145508,
          0.004927635192871094,
          0.005850791931152344,
          0.00679326057434082,
          0.007769346237182617,
          0.008764028549194336
         ],
         "hovertemplate": "Task=Iter 0<br>Start=%{base}<br>Finish=%{x}<br>Resource=%{y}<extra></extra>",
         "legendgroup": "Iter 0",
         "marker": {
          "color": "#636efa",
          "pattern": {
           "shape": ""
          }
         },
         "name": "Iter 0",
         "offsetgroup": "Iter 0",
         "orientation": "h",
         "showlegend": true,
         "textposition": "auto",
         "type": "bar",
         "x": [
          0.0000438690185546875,
          0.00004982948303222656,
          0.00004458427429199219,
          0.000052928924560546875,
          0.00004124641418457031,
          0.00004220008850097656,
          0.00004553794860839844,
          0.000041961669921875,
          0.00005078315734863281,
          0.0007643699645996094
         ],
         "xaxis": "x",
         "y": [
          "Node 0",
          "Node 1",
          "Node 2",
          "Node 3",
          "Node 4",
          "Node 5",
          "Node 6",
          "Node 7",
          "Node 8",
          "Node 9"
         ],
         "yaxis": "y"
        },
        {
         "alignmentgroup": "True",
         "base": [
          0.00970149040222168,
          0.010474205017089844,
          0.011250972747802734,
          0.012013435363769531,
          0.012799978256225586,
          0.013570547103881836,
          0.014342546463012695,
          0.01511836051940918,
          0.015898466110229492,
          0.0166776180267334
         ],
         "hovertemplate": "Task=Iter 1<br>Start=%{base}<br>Finish=%{x}<br>Resource=%{y}<extra></extra>",
         "legendgroup": "Iter 1",
         "marker": {
          "color": "#EF553B",
          "pattern": {
           "shape": ""
          }
         },
         "name": "Iter 1",
         "offsetgroup": "Iter 1",
         "orientation": "h",
         "showlegend": true,
         "textposition": "auto",
         "type": "bar",
         "x": [
          0.000016927719116210938,
          0.000016927719116210938,
          0.000017881393432617188,
          0.0000171661376953125,
          0.000016927719116210938,
          0.000015497207641601562,
          0.000019073486328125,
          0.000017881393432617188,
          0.0000171661376953125,
          0.0007083415985107422
         ],
         "xaxis": "x",
         "y": [
          "Node 0",
          "Node 1",
          "Node 2",
          "Node 3",
          "Node 4",
          "Node 5",
          "Node 6",
          "Node 7",
          "Node 8",
          "Node 9"
         ],
         "yaxis": "y"
        },
        {
         "alignmentgroup": "True",
         "base": [
          0.01743912696838379,
          0.018201828002929688,
          0.018978357315063477,
          0.019746780395507812,
          0.02050495147705078,
          0.021273136138916016,
          0.022019147872924805,
          0.022786617279052734,
          0.023550033569335938,
          0.024313926696777344
         ],
         "hovertemplate": "Task=Iter 2<br>Start=%{base}<br>Finish=%{x}<br>Resource=%{y}<extra></extra>",
         "legendgroup": "Iter 2",
         "marker": {
          "color": "#00cc96",
          "pattern": {
           "shape": ""
          }
         },
         "name": "Iter 2",
         "offsetgroup": "Iter 2",
         "orientation": "h",
         "showlegend": true,
         "textposition": "auto",
         "type": "bar",
         "x": [
          0.000014543533325195312,
          0.000019311904907226562,
          0.000019550323486328125,
          0.000015974044799804688,
          0.000015020370483398438,
          0.00001430511474609375,
          0.000015497207641601562,
          0.00001621246337890625,
          0.000014781951904296875,
          0.0006842613220214844
         ],
         "xaxis": "x",
         "y": [
          "Node 0",
          "Node 1",
          "Node 2",
          "Node 3",
          "Node 4",
          "Node 5",
          "Node 6",
          "Node 7",
          "Node 8",
          "Node 9"
         ],
         "yaxis": "y"
        },
        {
         "alignmentgroup": "True",
         "base": [
          0.025051116943359375,
          0.025824546813964844,
          0.0265960693359375,
          0.027348041534423828,
          0.028094768524169922,
          0.028862714767456055,
          0.029628992080688477,
          0.03040003776550293,
          0.031149864196777344,
          0.0319058895111084
         ],
         "hovertemplate": "Task=Iter 3<br>Start=%{base}<br>Finish=%{x}<br>Resource=%{y}<extra></extra>",
         "legendgroup": "Iter 3",
         "marker": {
          "color": "#ab63fa",
          "pattern": {
           "shape": ""
          }
         },
         "name": "Iter 3",
         "offsetgroup": "Iter 3",
         "orientation": "h",
         "showlegend": true,
         "textposition": "auto",
         "type": "bar",
         "x": [
          0.000013828277587890625,
          0.00001430511474609375,
          0.000015735626220703125,
          0.000015497207641601562,
          0.000018358230590820312,
          0.000017881393432617188,
          0.000015020370483398438,
          0.000014066696166992188,
          0.000018835067749023438,
          0.0006992816925048828
         ],
         "xaxis": "x",
         "y": [
          "Node 0",
          "Node 1",
          "Node 2",
          "Node 3",
          "Node 4",
          "Node 5",
          "Node 6",
          "Node 7",
          "Node 8",
          "Node 9"
         ],
         "yaxis": "y"
        },
        {
         "alignmentgroup": "True",
         "base": [
          0.03265380859375,
          0.033421993255615234,
          0.03417396545410156,
          0.03492593765258789,
          0.035683631896972656,
          0.03644990921020508,
          0.037184953689575195,
          0.03792905807495117,
          0.0386962890625,
          0.03944683074951172
         ],
         "hovertemplate": "Task=Iter 4<br>Start=%{base}<br>Finish=%{x}<br>Resource=%{y}<extra></extra>",
         "legendgroup": "Iter 4",
         "marker": {
          "color": "#FFA15A",
          "pattern": {
           "shape": ""
          }
         },
         "name": "Iter 4",
         "offsetgroup": "Iter 4",
         "orientation": "h",
         "showlegend": true,
         "textposition": "auto",
         "type": "bar",
         "x": [
          0.000013828277587890625,
          0.0000152587890625,
          0.000014543533325195312,
          0.000018358230590820312,
          0.000016450881958007812,
          0.000014781951904296875,
          0.000013589859008789062,
          0.000014066696166992188,
          0.000014781951904296875,
          0.0006814002990722656
         ],
         "xaxis": "x",
         "y": [
          "Node 0",
          "Node 1",
          "Node 2",
          "Node 3",
          "Node 4",
          "Node 5",
          "Node 6",
          "Node 7",
          "Node 8",
          "Node 9"
         ],
         "yaxis": "y"
        },
        {
         "alignmentgroup": "True",
         "base": [
          0.040175676345825195,
          0.040940046310424805,
          0.04169821739196777,
          0.04244518280029297,
          0.04319190979003906,
          0.04394364356994629,
          0.04470229148864746,
          0.04544806480407715,
          0.04620647430419922,
          0.04696464538574219
         ],
         "hovertemplate": "Task=Iter 5<br>Start=%{base}<br>Finish=%{x}<br>Resource=%{y}<extra></extra>",
         "legendgroup": "Iter 5",
         "marker": {
          "color": "#19d3f3",
          "pattern": {
           "shape": ""
          }
         },
         "name": "Iter 5",
         "offsetgroup": "Iter 5",
         "orientation": "h",
         "showlegend": true,
         "textposition": "auto",
         "type": "bar",
         "x": [
          0.000013113021850585938,
          0.00001430511474609375,
          0.000014066696166992188,
          0.000014543533325195312,
          0.000015497207641601562,
          0.000014543533325195312,
          0.000013828277587890625,
          0.000013828277587890625,
          0.000026226043701171875,
          0.0006859302520751953
         ],
         "xaxis": "x",
         "y": [
          "Node 0",
          "Node 1",
          "Node 2",
          "Node 3",
          "Node 4",
          "Node 5",
          "Node 6",
          "Node 7",
          "Node 8",
          "Node 9"
         ],
         "yaxis": "y"
        },
        {
         "alignmentgroup": "True",
         "base": [
          0.047695159912109375,
          0.04845166206359863,
          0.049208879470825195,
          0.04994654655456543,
          0.050688982009887695,
          0.05144476890563965,
          0.05217623710632324,
          0.05293154716491699,
          0.05368542671203613,
          0.054443359375
         ],
         "hovertemplate": "Task=Iter 6<br>Start=%{base}<br>Finish=%{x}<br>Resource=%{y}<extra></extra>",
         "legendgroup": "Iter 6",
         "marker": {
          "color": "#FF6692",
          "pattern": {
           "shape": ""
          }
         },
         "name": "Iter 6",
         "offsetgroup": "Iter 6",
         "orientation": "h",
         "showlegend": true,
         "textposition": "auto",
         "type": "bar",
         "x": [
          0.000013828277587890625,
          0.000014066696166992188,
          0.000019311904907226562,
          0.000013828277587890625,
          0.000013828277587890625,
          0.0000133514404296875,
          0.0000133514404296875,
          0.000013589859008789062,
          0.00001430511474609375,
          0.0006773471832275391
         ],
         "xaxis": "x",
         "y": [
          "Node 0",
          "Node 1",
          "Node 2",
          "Node 3",
          "Node 4",
          "Node 5",
          "Node 6",
          "Node 7",
          "Node 8",
          "Node 9"
         ],
         "yaxis": "y"
        },
        {
         "alignmentgroup": "True",
         "base": [
          0.055171966552734375,
          0.055936574935913086,
          0.056693077087402344,
          0.05743718147277832,
          0.05817818641662598,
          0.05893301963806152,
          0.05967092514038086,
          0.06041908264160156,
          0.06116485595703125,
          0.06190681457519531
         ],
         "hovertemplate": "Task=Iter 7<br>Start=%{base}<br>Finish=%{x}<br>Resource=%{y}<extra></extra>",
         "legendgroup": "Iter 7",
         "marker": {
          "color": "#B6E880",
          "pattern": {
           "shape": ""
          }
         },
         "name": "Iter 7",
         "offsetgroup": "Iter 7",
         "orientation": "h",
         "showlegend": true,
         "textposition": "auto",
         "type": "bar",
         "x": [
          0.0000152587890625,
          0.000015974044799804688,
          0.00001621246337890625,
          0.000015497207641601562,
          0.0000152587890625,
          0.000015497207641601562,
          0.0000152587890625,
          0.000015974044799804688,
          0.000015735626220703125,
          0.0006830692291259766
         ],
         "xaxis": "x",
         "y": [
          "Node 0",
          "Node 1",
          "Node 2",
          "Node 3",
          "Node 4",
          "Node 5",
          "Node 6",
          "Node 7",
          "Node 8",
          "Node 9"
         ],
         "yaxis": "y"
        },
        {
         "alignmentgroup": "True",
         "base": [
          0.06263208389282227,
          0.06339359283447266,
          0.06413602828979492,
          0.06486845016479492,
          0.06560635566711426,
          0.0663461685180664,
          0.0670773983001709,
          0.06781554222106934,
          0.0685577392578125,
          0.06929492950439453
         ],
         "hovertemplate": "Task=Iter 8<br>Start=%{base}<br>Finish=%{x}<br>Resource=%{y}<extra></extra>",
         "legendgroup": "Iter 8",
         "marker": {
          "color": "#FF97FF",
          "pattern": {
           "shape": ""
          }
         },
         "name": "Iter 8",
         "offsetgroup": "Iter 8",
         "orientation": "h",
         "showlegend": true,
         "textposition": "auto",
         "type": "bar",
         "x": [
          0.000013828277587890625,
          0.000015020370483398438,
          0.000014066696166992188,
          0.000013828277587890625,
          0.00001430511474609375,
          0.0000133514404296875,
          0.000013828277587890625,
          0.000014066696166992188,
          0.000013113021850585938,
          0.0006723403930664062
         ],
         "xaxis": "x",
         "y": [
          "Node 0",
          "Node 1",
          "Node 2",
          "Node 3",
          "Node 4",
          "Node 5",
          "Node 6",
          "Node 7",
          "Node 8",
          "Node 9"
         ],
         "yaxis": "y"
        },
        {
         "alignmentgroup": "True",
         "base": [
          0.07000732421875,
          0.07076358795166016,
          0.07150626182556152,
          0.07224273681640625,
          0.07297205924987793,
          0.07371759414672852,
          0.07445669174194336,
          0.07519316673278809,
          0.07606029510498047,
          0.07680106163024902
         ],
         "hovertemplate": "Task=Iter 9<br>Start=%{base}<br>Finish=%{x}<br>Resource=%{y}<extra></extra>",
         "legendgroup": "Iter 9",
         "marker": {
          "color": "#FECB52",
          "pattern": {
           "shape": ""
          }
         },
         "name": "Iter 9",
         "offsetgroup": "Iter 9",
         "orientation": "h",
         "showlegend": true,
         "textposition": "auto",
         "type": "bar",
         "x": [
          0.000012874603271484375,
          0.0000133514404296875,
          0.000014066696166992188,
          0.0000133514404296875,
          0.0000133514404296875,
          0.000013113021850585938,
          0.000013589859008789062,
          0.000013589859008789062,
          0.0000133514404296875,
          0.0006825923919677734
         ],
         "xaxis": "x",
         "y": [
          "Node 0",
          "Node 1",
          "Node 2",
          "Node 3",
          "Node 4",
          "Node 5",
          "Node 6",
          "Node 7",
          "Node 8",
          "Node 9"
         ],
         "yaxis": "y"
        },
        {
         "alignmentgroup": "True",
         "base": [
          0.07752132415771484,
          0.07829403877258301,
          0.07903766632080078,
          0.07977604866027832,
          0.08051681518554688,
          0.08126711845397949,
          0.08199262619018555,
          0.0827336311340332,
          0.08348536491394043,
          0.0842294692993164
         ],
         "hovertemplate": "Task=Iter 10<br>Start=%{base}<br>Finish=%{x}<br>Resource=%{y}<extra></extra>",
         "legendgroup": "Iter 10",
         "marker": {
          "color": "#636efa",
          "pattern": {
           "shape": ""
          }
         },
         "name": "Iter 10",
         "offsetgroup": "Iter 10",
         "orientation": "h",
         "showlegend": true,
         "textposition": "auto",
         "type": "bar",
         "x": [
          0.000012874603271484375,
          0.000013113021850585938,
          0.0000133514404296875,
          0.000013828277587890625,
          0.000015020370483398438,
          0.00001239776611328125,
          0.000012874603271484375,
          0.000012874603271484375,
          0.000013113021850585938,
          0.0006749629974365234
         ],
         "xaxis": "x",
         "y": [
          "Node 0",
          "Node 1",
          "Node 2",
          "Node 3",
          "Node 4",
          "Node 5",
          "Node 6",
          "Node 7",
          "Node 8",
          "Node 9"
         ],
         "yaxis": "y"
        },
        {
         "alignmentgroup": "True",
         "base": [
          0.08494353294372559,
          0.08570504188537598,
          0.08646059036254883,
          0.08719444274902344,
          0.08792901039123535,
          0.08867454528808594,
          0.0894157886505127,
          0.09015560150146484,
          0.09090495109558105,
          0.09164738655090332
         ],
         "hovertemplate": "Task=Iter 11<br>Start=%{base}<br>Finish=%{x}<br>Resource=%{y}<extra></extra>",
         "legendgroup": "Iter 11",
         "marker": {
          "color": "#EF553B",
          "pattern": {
           "shape": ""
          }
         },
         "name": "Iter 11",
         "offsetgroup": "Iter 11",
         "orientation": "h",
         "showlegend": true,
         "textposition": "auto",
         "type": "bar",
         "x": [
          0.000012874603271484375,
          0.000013589859008789062,
          0.000013828277587890625,
          0.0000133514404296875,
          0.000013828277587890625,
          0.000012636184692382812,
          0.000013589859008789062,
          0.0000133514404296875,
          0.000013589859008789062,
          0.0006835460662841797
         ],
         "xaxis": "x",
         "y": [
          "Node 0",
          "Node 1",
          "Node 2",
          "Node 3",
          "Node 4",
          "Node 5",
          "Node 6",
          "Node 7",
          "Node 8",
          "Node 9"
         ],
         "yaxis": "y"
        },
        {
         "alignmentgroup": "True",
         "base": [
          0.09237074851989746,
          0.09312272071838379,
          0.09386730194091797,
          0.0946049690246582,
          0.09534668922424316,
          0.09607863426208496,
          0.09681272506713867,
          0.09755086898803711,
          0.09829854965209961,
          0.09903216361999512
         ],
         "hovertemplate": "Task=Iter 12<br>Start=%{base}<br>Finish=%{x}<br>Resource=%{y}<extra></extra>",
         "legendgroup": "Iter 12",
         "marker": {
          "color": "#00cc96",
          "pattern": {
           "shape": ""
          }
         },
         "name": "Iter 12",
         "offsetgroup": "Iter 12",
         "orientation": "h",
         "showlegend": true,
         "textposition": "auto",
         "type": "bar",
         "x": [
          0.000012874603271484375,
          0.000013113021850585938,
          0.000012636184692382812,
          0.0000133514404296875,
          0.000013113021850585938,
          0.000012636184692382812,
          0.000012636184692382812,
          0.0000133514404296875,
          0.000013113021850585938,
          0.0006816387176513672
         ],
         "xaxis": "x",
         "y": [
          "Node 0",
          "Node 1",
          "Node 2",
          "Node 3",
          "Node 4",
          "Node 5",
          "Node 6",
          "Node 7",
          "Node 8",
          "Node 9"
         ],
         "yaxis": "y"
        },
        {
         "alignmentgroup": "True",
         "base": [
          0.09975099563598633,
          0.10051178932189941,
          0.10126185417175293,
          0.1019902229309082,
          0.10273551940917969,
          0.10348176956176758,
          0.1042180061340332,
          0.10495924949645996,
          0.10571575164794922,
          0.10645818710327148
         ],
         "hovertemplate": "Task=Iter 13<br>Start=%{base}<br>Finish=%{x}<br>Resource=%{y}<extra></extra>",
         "legendgroup": "Iter 13",
         "marker": {
          "color": "#ab63fa",
          "pattern": {
           "shape": ""
          }
         },
         "name": "Iter 13",
         "offsetgroup": "Iter 13",
         "orientation": "h",
         "showlegend": true,
         "textposition": "auto",
         "type": "bar",
         "x": [
          0.000012874603271484375,
          0.000013113021850585938,
          0.000013113021850585938,
          0.000013113021850585938,
          0.000012636184692382812,
          0.00001239776611328125,
          0.000012874603271484375,
          0.000012874603271484375,
          0.0000133514404296875,
          0.0006694793701171875
         ],
         "xaxis": "x",
         "y": [
          "Node 0",
          "Node 1",
          "Node 2",
          "Node 3",
          "Node 4",
          "Node 5",
          "Node 6",
          "Node 7",
          "Node 8",
          "Node 9"
         ],
         "yaxis": "y"
        },
        {
         "alignmentgroup": "True",
         "base": [
          0.1071631908416748,
          0.10791921615600586,
          0.10866928100585938,
          0.1094052791595459,
          0.11014294624328613,
          0.1108860969543457,
          0.11162161827087402,
          0.11236906051635742,
          0.11310648918151855,
          0.1138465404510498
         ],
         "hovertemplate": "Task=Iter 14<br>Start=%{base}<br>Finish=%{x}<br>Resource=%{y}<extra></extra>",
         "legendgroup": "Iter 14",
         "marker": {
          "color": "#FFA15A",
          "pattern": {
           "shape": ""
          }
         },
         "name": "Iter 14",
         "offsetgroup": "Iter 14",
         "orientation": "h",
         "showlegend": true,
         "textposition": "auto",
         "type": "bar",
         "x": [
          0.000012874603271484375,
          0.000012874603271484375,
          0.00001239776611328125,
          0.0000133514404296875,
          0.000013113021850585938,
          0.000012874603271484375,
          0.000013113021850585938,
          0.000012874603271484375,
          0.000013113021850585938,
          0.0006754398345947266
         ],
         "xaxis": "x",
         "y": [
          "Node 0",
          "Node 1",
          "Node 2",
          "Node 3",
          "Node 4",
          "Node 5",
          "Node 6",
          "Node 7",
          "Node 8",
          "Node 9"
         ],
         "yaxis": "y"
        },
        {
         "alignmentgroup": "True",
         "base": [
          0.11455988883972168,
          0.11532211303710938,
          0.11606788635253906,
          0.11679935455322266,
          0.11753511428833008,
          0.1182713508605957,
          0.11899662017822266,
          0.11973333358764648,
          0.12049293518066406,
          0.1212308406829834
         ],
         "hovertemplate": "Task=Iter 15<br>Start=%{base}<br>Finish=%{x}<br>Resource=%{y}<extra></extra>",
         "legendgroup": "Iter 15",
         "marker": {
          "color": "#19d3f3",
          "pattern": {
           "shape": ""
          }
         },
         "name": "Iter 15",
         "offsetgroup": "Iter 15",
         "orientation": "h",
         "showlegend": true,
         "textposition": "auto",
         "type": "bar",
         "x": [
          0.000012159347534179688,
          0.0000133514404296875,
          0.000012874603271484375,
          0.000012636184692382812,
          0.0000133514404296875,
          0.00001239776611328125,
          0.000012636184692382812,
          0.0000133514404296875,
          0.000012874603271484375,
          0.0006692409515380859
         ],
         "xaxis": "x",
         "y": [
          "Node 0",
          "Node 1",
          "Node 2",
          "Node 3",
          "Node 4",
          "Node 5",
          "Node 6",
          "Node 7",
          "Node 8",
          "Node 9"
         ],
         "yaxis": "y"
        },
        {
         "alignmentgroup": "True",
         "base": [
          0.12194061279296875,
          0.12270140647888184,
          0.12344741821289062,
          0.12417936325073242,
          0.1249244213104248,
          0.1256711483001709,
          0.1264052391052246,
          0.12713861465454102,
          0.12789106369018555,
          0.12862682342529297
         ],
         "hovertemplate": "Task=Iter 16<br>Start=%{base}<br>Finish=%{x}<br>Resource=%{y}<extra></extra>",
         "legendgroup": "Iter 16",
         "marker": {
          "color": "#FF6692",
          "pattern": {
           "shape": ""
          }
         },
         "name": "Iter 16",
         "offsetgroup": "Iter 16",
         "orientation": "h",
         "showlegend": true,
         "textposition": "auto",
         "type": "bar",
         "x": [
          0.000012636184692382812,
          0.000012874603271484375,
          0.000013113021850585938,
          0.000012874603271484375,
          0.000013113021850585938,
          0.00001239776611328125,
          0.00001239776611328125,
          0.000012636184692382812,
          0.000012636184692382812,
          0.0006747245788574219
         ],
         "xaxis": "x",
         "y": [
          "Node 0",
          "Node 1",
          "Node 2",
          "Node 3",
          "Node 4",
          "Node 5",
          "Node 6",
          "Node 7",
          "Node 8",
          "Node 9"
         ],
         "yaxis": "y"
        },
        {
         "alignmentgroup": "True",
         "base": [
          0.12933921813964844,
          0.13009023666381836,
          0.13083219528198242,
          0.1315624713897705,
          0.13230037689208984,
          0.13303375244140625,
          0.13376498222351074,
          0.13451218605041504,
          0.13525867462158203,
          0.13599181175231934
         ],
         "hovertemplate": "Task=Iter 17<br>Start=%{base}<br>Finish=%{x}<br>Resource=%{y}<extra></extra>",
         "legendgroup": "Iter 17",
         "marker": {
          "color": "#B6E880",
          "pattern": {
           "shape": ""
          }
         },
         "name": "Iter 17",
         "offsetgroup": "Iter 17",
         "orientation": "h",
         "showlegend": true,
         "textposition": "auto",
         "type": "bar",
         "x": [
          0.000012874603271484375,
          0.000013113021850585938,
          0.000012636184692382812,
          0.000012874603271484375,
          0.000012874603271484375,
          0.00001239776611328125,
          0.000012636184692382812,
          0.000013113021850585938,
          0.000012874603271484375,
          0.0006728172302246094
         ],
         "xaxis": "x",
         "y": [
          "Node 0",
          "Node 1",
          "Node 2",
          "Node 3",
          "Node 4",
          "Node 5",
          "Node 6",
          "Node 7",
          "Node 8",
          "Node 9"
         ],
         "yaxis": "y"
        },
        {
         "alignmentgroup": "True",
         "base": [
          0.1367051601409912,
          0.13746070861816406,
          0.13820171356201172,
          0.1389317512512207,
          0.13967156410217285,
          0.14040803909301758,
          0.14113545417785645,
          0.14187836647033691,
          0.1426224708557129,
          0.1433546543121338
         ],
         "hovertemplate": "Task=Iter 18<br>Start=%{base}<br>Finish=%{x}<br>Resource=%{y}<extra></extra>",
         "legendgroup": "Iter 18",
         "marker": {
          "color": "#FF97FF",
          "pattern": {
           "shape": ""
          }
         },
         "name": "Iter 18",
         "offsetgroup": "Iter 18",
         "orientation": "h",
         "showlegend": true,
         "textposition": "auto",
         "type": "bar",
         "x": [
          0.0000133514404296875,
          0.000013589859008789062,
          0.000016450881958007812,
          0.0000133514404296875,
          0.0000133514404296875,
          0.000012636184692382812,
          0.000013589859008789062,
          0.000013589859008789062,
          0.000012874603271484375,
          0.0006699562072753906
         ],
         "xaxis": "x",
         "y": [
          "Node 0",
          "Node 1",
          "Node 2",
          "Node 3",
          "Node 4",
          "Node 5",
          "Node 6",
          "Node 7",
          "Node 8",
          "Node 9"
         ],
         "yaxis": "y"
        },
        {
         "alignmentgroup": "True",
         "base": [
          0.14406776428222656,
          0.1448228359222412,
          0.14556670188903809,
          0.1462996006011963,
          0.14702701568603516,
          0.14775824546813965,
          0.14848804473876953,
          0.14922547340393066,
          0.14996790885925293,
          0.1507124900817871
         ],
         "hovertemplate": "Task=Iter 19<br>Start=%{base}<br>Finish=%{x}<br>Resource=%{y}<extra></extra>",
         "legendgroup": "Iter 19",
         "marker": {
          "color": "#FECB52",
          "pattern": {
           "shape": ""
          }
         },
         "name": "Iter 19",
         "offsetgroup": "Iter 19",
         "orientation": "h",
         "showlegend": true,
         "textposition": "auto",
         "type": "bar",
         "x": [
          0.000012159347534179688,
          0.000012636184692382812,
          0.000012636184692382812,
          0.000012874603271484375,
          0.000012874603271484375,
          0.000012159347534179688,
          0.00001239776611328125,
          0.00001239776611328125,
          0.0000133514404296875,
          0.0006721019744873047
         ],
         "xaxis": "x",
         "y": [
          "Node 0",
          "Node 1",
          "Node 2",
          "Node 3",
          "Node 4",
          "Node 5",
          "Node 6",
          "Node 7",
          "Node 8",
          "Node 9"
         ],
         "yaxis": "y"
        },
        {
         "alignmentgroup": "True",
         "base": [
          0.15142083168029785,
          0.15216779708862305,
          0.1529092788696289,
          0.15364480018615723,
          0.15438532829284668,
          0.15511631965637207,
          0.15584874153137207,
          0.15659332275390625,
          0.15734219551086426,
          0.15807008743286133
         ],
         "hovertemplate": "Task=Iter 20<br>Start=%{base}<br>Finish=%{x}<br>Resource=%{y}<extra></extra>",
         "legendgroup": "Iter 20",
         "marker": {
          "color": "#636efa",
          "pattern": {
           "shape": ""
          }
         },
         "name": "Iter 20",
         "offsetgroup": "Iter 20",
         "orientation": "h",
         "showlegend": true,
         "textposition": "auto",
         "type": "bar",
         "x": [
          0.00001239776611328125,
          0.00001239776611328125,
          0.000012874603271484375,
          0.000012636184692382812,
          0.000012636184692382812,
          0.00001239776611328125,
          0.000012874603271484375,
          0.00001239776611328125,
          0.000012636184692382812,
          0.0006721019744873047
         ],
         "xaxis": "x",
         "y": [
          "Node 0",
          "Node 1",
          "Node 2",
          "Node 3",
          "Node 4",
          "Node 5",
          "Node 6",
          "Node 7",
          "Node 8",
          "Node 9"
         ],
         "yaxis": "y"
        },
        {
         "alignmentgroup": "True",
         "base": [
          0.15877628326416016,
          0.15952801704406738,
          0.16027092933654785,
          0.16100072860717773,
          0.16173219680786133,
          0.16249394416809082,
          0.1632239818572998,
          0.16395854949951172,
          0.16470575332641602,
          0.16544175148010254
         ],
         "hovertemplate": "Task=Iter 21<br>Start=%{base}<br>Finish=%{x}<br>Resource=%{y}<extra></extra>",
         "legendgroup": "Iter 21",
         "marker": {
          "color": "#EF553B",
          "pattern": {
           "shape": ""
          }
         },
         "name": "Iter 21",
         "offsetgroup": "Iter 21",
         "orientation": "h",
         "showlegend": true,
         "textposition": "auto",
         "type": "bar",
         "x": [
          0.00001239776611328125,
          0.000012636184692382812,
          0.000012636184692382812,
          0.000012874603271484375,
          0.00001239776611328125,
          0.000011920928955078125,
          0.00001239776611328125,
          0.000013113021850585938,
          0.000012874603271484375,
          0.0006651878356933594
         ],
         "xaxis": "x",
         "y": [
          "Node 0",
          "Node 1",
          "Node 2",
          "Node 3",
          "Node 4",
          "Node 5",
          "Node 6",
          "Node 7",
          "Node 8",
          "Node 9"
         ],
         "yaxis": "y"
        },
        {
         "alignmentgroup": "True",
         "base": [
          0.16614651679992676,
          0.1668999195098877,
          0.1676485538482666,
          0.1683812141418457,
          0.1691117286682129,
          0.1698441505432129,
          0.17057442665100098,
          0.17131519317626953,
          0.17205595970153809,
          0.1727910041809082
         ],
         "hovertemplate": "Task=Iter 22<br>Start=%{base}<br>Finish=%{x}<br>Resource=%{y}<extra></extra>",
         "legendgroup": "Iter 22",
         "marker": {
          "color": "#00cc96",
          "pattern": {
           "shape": ""
          }
         },
         "name": "Iter 22",
         "offsetgroup": "Iter 22",
         "orientation": "h",
         "showlegend": true,
         "textposition": "auto",
         "type": "bar",
         "x": [
          0.000012636184692382812,
          0.0000133514404296875,
          0.000013113021850585938,
          0.00001239776611328125,
          0.000012874603271484375,
          0.000011682510375976562,
          0.000012159347534179688,
          0.000012874603271484375,
          0.00001239776611328125,
          0.0006701946258544922
         ],
         "xaxis": "x",
         "y": [
          "Node 0",
          "Node 1",
          "Node 2",
          "Node 3",
          "Node 4",
          "Node 5",
          "Node 6",
          "Node 7",
          "Node 8",
          "Node 9"
         ],
         "yaxis": "y"
        },
        {
         "alignmentgroup": "True",
         "base": [
          0.17349624633789062,
          0.17424893379211426,
          0.1749868392944336,
          0.17572283744812012,
          0.17645597457885742,
          0.1771857738494873,
          0.17791962623596191,
          0.1786665916442871,
          0.17941641807556152,
          0.1801469326019287
         ],
         "hovertemplate": "Task=Iter 23<br>Start=%{base}<br>Finish=%{x}<br>Resource=%{y}<extra></extra>",
         "legendgroup": "Iter 23",
         "marker": {
          "color": "#ab63fa",
          "pattern": {
           "shape": ""
          }
         },
         "name": "Iter 23",
         "offsetgroup": "Iter 23",
         "orientation": "h",
         "showlegend": true,
         "textposition": "auto",
         "type": "bar",
         "x": [
          0.000012159347534179688,
          0.00001239776611328125,
          0.000013828277587890625,
          0.000012874603271484375,
          0.000012636184692382812,
          0.000011920928955078125,
          0.00001239776611328125,
          0.000013113021850585938,
          0.000013113021850585938,
          0.0006711483001708984
         ],
         "xaxis": "x",
         "y": [
          "Node 0",
          "Node 1",
          "Node 2",
          "Node 3",
          "Node 4",
          "Node 5",
          "Node 6",
          "Node 7",
          "Node 8",
          "Node 9"
         ],
         "yaxis": "y"
        },
        {
         "alignmentgroup": "True",
         "base": [
          0.18085622787475586,
          0.18161487579345703,
          0.18236422538757324,
          0.18309736251831055,
          0.18383336067199707,
          0.18457484245300293,
          0.18531274795532227,
          0.18605375289916992,
          0.18680119514465332,
          0.18753910064697266
         ],
         "hovertemplate": "Task=Iter 24<br>Start=%{base}<br>Finish=%{x}<br>Resource=%{y}<extra></extra>",
         "legendgroup": "Iter 24",
         "marker": {
          "color": "#FFA15A",
          "pattern": {
           "shape": ""
          }
         },
         "name": "Iter 24",
         "offsetgroup": "Iter 24",
         "orientation": "h",
         "showlegend": true,
         "textposition": "auto",
         "type": "bar",
         "x": [
          0.000012636184692382812,
          0.000012636184692382812,
          0.000014781951904296875,
          0.00001239776611328125,
          0.000012874603271484375,
          0.000012159347534179688,
          0.000012874603271484375,
          0.000012636184692382812,
          0.0000133514404296875,
          0.0006756782531738281
         ],
         "xaxis": "x",
         "y": [
          "Node 0",
          "Node 1",
          "Node 2",
          "Node 3",
          "Node 4",
          "Node 5",
          "Node 6",
          "Node 7",
          "Node 8",
          "Node 9"
         ],
         "yaxis": "y"
        },
        {
         "alignmentgroup": "True",
         "base": [
          0.1882479190826416,
          0.18899965286254883,
          0.18974542617797852,
          0.19048190116882324,
          0.1912212371826172,
          0.19194841384887695,
          0.19268560409545898,
          0.19342994689941406,
          0.19418072700500488,
          0.19492125511169434
         ],
         "hovertemplate": "Task=Iter 25<br>Start=%{base}<br>Finish=%{x}<br>Resource=%{y}<extra></extra>",
         "legendgroup": "Iter 25",
         "marker": {
          "color": "#19d3f3",
          "pattern": {
           "shape": ""
          }
         },
         "name": "Iter 25",
         "offsetgroup": "Iter 25",
         "orientation": "h",
         "showlegend": true,
         "textposition": "auto",
         "type": "bar",
         "x": [
          0.00001239776611328125,
          0.000012636184692382812,
          0.000012874603271484375,
          0.000012636184692382812,
          0.000012636184692382812,
          0.000011920928955078125,
          0.000012874603271484375,
          0.00001239776611328125,
          0.000012159347534179688,
          0.0006725788116455078
         ],
         "xaxis": "x",
         "y": [
          "Node 0",
          "Node 1",
          "Node 2",
          "Node 3",
          "Node 4",
          "Node 5",
          "Node 6",
          "Node 7",
          "Node 8",
          "Node 9"
         ],
         "yaxis": "y"
        },
        {
         "alignmentgroup": "True",
         "base": [
          0.19562745094299316,
          0.19638323783874512,
          0.19712162017822266,
          0.19785070419311523,
          0.19858670234680176,
          0.19932818412780762,
          0.2000594139099121,
          0.2008049488067627,
          0.20155048370361328,
          0.2022848129272461
         ],
         "hovertemplate": "Task=Iter 26<br>Start=%{base}<br>Finish=%{x}<br>Resource=%{y}<extra></extra>",
         "legendgroup": "Iter 26",
         "marker": {
          "color": "#FF6692",
          "pattern": {
           "shape": ""
          }
         },
         "name": "Iter 26",
         "offsetgroup": "Iter 26",
         "orientation": "h",
         "showlegend": true,
         "textposition": "auto",
         "type": "bar",
         "x": [
          0.00001239776611328125,
          0.000012874603271484375,
          0.000012874603271484375,
          0.000012636184692382812,
          0.00001239776611328125,
          0.000011920928955078125,
          0.00001239776611328125,
          0.000012636184692382812,
          0.000012874603271484375,
          0.0006706714630126953
         ],
         "xaxis": "x",
         "y": [
          "Node 0",
          "Node 1",
          "Node 2",
          "Node 3",
          "Node 4",
          "Node 5",
          "Node 6",
          "Node 7",
          "Node 8",
          "Node 9"
         ],
         "yaxis": "y"
        },
        {
         "alignmentgroup": "True",
         "base": [
          0.20299410820007324,
          0.2037506103515625,
          0.20450448989868164,
          0.2052440643310547,
          0.20598340034484863,
          0.2067263126373291,
          0.20746469497680664,
          0.20820355415344238,
          0.20895671844482422,
          0.2096998691558838
         ],
         "hovertemplate": "Task=Iter 27<br>Start=%{base}<br>Finish=%{x}<br>Resource=%{y}<extra></extra>",
         "legendgroup": "Iter 27",
         "marker": {
          "color": "#B6E880",
          "pattern": {
           "shape": ""
          }
         },
         "name": "Iter 27",
         "offsetgroup": "Iter 27",
         "orientation": "h",
         "showlegend": true,
         "textposition": "auto",
         "type": "bar",
         "x": [
          0.000012159347534179688,
          0.00001239776611328125,
          0.00001239776611328125,
          0.000012159347534179688,
          0.000012636184692382812,
          0.000011920928955078125,
          0.000012874603271484375,
          0.000016689300537109375,
          0.00001239776611328125,
          0.0006763935089111328
         ],
         "xaxis": "x",
         "y": [
          "Node 0",
          "Node 1",
          "Node 2",
          "Node 3",
          "Node 4",
          "Node 5",
          "Node 6",
          "Node 7",
          "Node 8",
          "Node 9"
         ],
         "yaxis": "y"
        },
        {
         "alignmentgroup": "True",
         "base": [
          0.21041512489318848,
          0.2111663818359375,
          0.21190857887268066,
          0.21263694763183594,
          0.2133777141571045,
          0.21410679817199707,
          0.21483993530273438,
          0.21558523178100586,
          0.21634173393249512,
          0.21707367897033691
         ],
         "hovertemplate": "Task=Iter 28<br>Start=%{base}<br>Finish=%{x}<br>Resource=%{y}<extra></extra>",
         "legendgroup": "Iter 28",
         "marker": {
          "color": "#FF97FF",
          "pattern": {
           "shape": ""
          }
         },
         "name": "Iter 28",
         "offsetgroup": "Iter 28",
         "orientation": "h",
         "showlegend": true,
         "textposition": "auto",
         "type": "bar",
         "x": [
          0.000013113021850585938,
          0.000012159347534179688,
          0.000013113021850585938,
          0.000012636184692382812,
          0.000012159347534179688,
          0.000012159347534179688,
          0.000012636184692382812,
          0.000012636184692382812,
          0.000012636184692382812,
          0.0006766319274902344
         ],
         "xaxis": "x",
         "y": [
          "Node 0",
          "Node 1",
          "Node 2",
          "Node 3",
          "Node 4",
          "Node 5",
          "Node 6",
          "Node 7",
          "Node 8",
          "Node 9"
         ],
         "yaxis": "y"
        },
        {
         "alignmentgroup": "True",
         "base": [
          0.21778225898742676,
          0.2185370922088623,
          0.21927833557128906,
          0.2199997901916504,
          0.22073650360107422,
          0.22147226333618164,
          0.22220444679260254,
          0.22293782234191895,
          0.22368526458740234,
          0.22441673278808594
         ],
         "hovertemplate": "Task=Iter 29<br>Start=%{base}<br>Finish=%{x}<br>Resource=%{y}<extra></extra>",
         "legendgroup": "Iter 29",
         "marker": {
          "color": "#FECB52",
          "pattern": {
           "shape": ""
          }
         },
         "name": "Iter 29",
         "offsetgroup": "Iter 29",
         "orientation": "h",
         "showlegend": true,
         "textposition": "auto",
         "type": "bar",
         "x": [
          0.00001239776611328125,
          0.000012874603271484375,
          0.000012636184692382812,
          0.00001239776611328125,
          0.000012874603271484375,
          0.000011920928955078125,
          0.00001621246337890625,
          0.000012874603271484375,
          0.000012159347534179688,
          0.0006661415100097656
         ],
         "xaxis": "x",
         "y": [
          "Node 0",
          "Node 1",
          "Node 2",
          "Node 3",
          "Node 4",
          "Node 5",
          "Node 6",
          "Node 7",
          "Node 8",
          "Node 9"
         ],
         "yaxis": "y"
        },
        {
         "alignmentgroup": "True",
         "base": [
          0.22511649131774902,
          0.22587180137634277,
          0.2266101837158203,
          0.2273421287536621,
          0.22807621955871582,
          0.22881031036376953,
          0.22954344749450684,
          0.23027825355529785,
          0.2310166358947754,
          0.23174595832824707
         ],
         "hovertemplate": "Task=Iter 30<br>Start=%{base}<br>Finish=%{x}<br>Resource=%{y}<extra></extra>",
         "legendgroup": "Iter 30",
         "marker": {
          "color": "#636efa",
          "pattern": {
           "shape": ""
          }
         },
         "name": "Iter 30",
         "offsetgroup": "Iter 30",
         "orientation": "h",
         "showlegend": true,
         "textposition": "auto",
         "type": "bar",
         "x": [
          0.00001239776611328125,
          0.000012159347534179688,
          0.000013113021850585938,
          0.00001239776611328125,
          0.00001239776611328125,
          0.00001239776611328125,
          0.000012636184692382812,
          0.000012159347534179688,
          0.000011920928955078125,
          0.0006737709045410156
         ],
         "xaxis": "x",
         "y": [
          "Node 0",
          "Node 1",
          "Node 2",
          "Node 3",
          "Node 4",
          "Node 5",
          "Node 6",
          "Node 7",
          "Node 8",
          "Node 9"
         ],
         "yaxis": "y"
        },
        {
         "alignmentgroup": "True",
         "base": [
          0.2324526309967041,
          0.23320841789245605,
          0.23395299911499023,
          0.23468542098999023,
          0.23541641235351562,
          0.2361433506011963,
          0.2368757724761963,
          0.2376103401184082,
          0.23835992813110352,
          0.23908710479736328
         ],
         "hovertemplate": "Task=Iter 31<br>Start=%{base}<br>Finish=%{x}<br>Resource=%{y}<extra></extra>",
         "legendgroup": "Iter 31",
         "marker": {
          "color": "#EF553B",
          "pattern": {
           "shape": ""
          }
         },
         "name": "Iter 31",
         "offsetgroup": "Iter 31",
         "orientation": "h",
         "showlegend": true,
         "textposition": "auto",
         "type": "bar",
         "x": [
          0.000012636184692382812,
          0.000016927719116210938,
          0.00001239776611328125,
          0.00001239776611328125,
          0.000012636184692382812,
          0.000012159347534179688,
          0.000012636184692382812,
          0.00001239776611328125,
          0.000012159347534179688,
          0.0006699562072753906
         ],
         "xaxis": "x",
         "y": [
          "Node 0",
          "Node 1",
          "Node 2",
          "Node 3",
          "Node 4",
          "Node 5",
          "Node 6",
          "Node 7",
          "Node 8",
          "Node 9"
         ],
         "yaxis": "y"
        },
        {
         "alignmentgroup": "True",
         "base": [
          0.23978972434997559,
          0.2405407428741455,
          0.24127721786499023,
          0.24200105667114258,
          0.24273395538330078,
          0.24346637725830078,
          0.24419522285461426,
          0.24493837356567383,
          0.24568605422973633,
          0.2464282512664795
         ],
         "hovertemplate": "Task=Iter 32<br>Start=%{base}<br>Finish=%{x}<br>Resource=%{y}<extra></extra>",
         "legendgroup": "Iter 32",
         "marker": {
          "color": "#00cc96",
          "pattern": {
           "shape": ""
          }
         },
         "name": "Iter 32",
         "offsetgroup": "Iter 32",
         "orientation": "h",
         "showlegend": true,
         "textposition": "auto",
         "type": "bar",
         "x": [
          0.000012159347534179688,
          0.000012636184692382812,
          0.000012636184692382812,
          0.000011920928955078125,
          0.000012636184692382812,
          0.000011920928955078125,
          0.00001239776611328125,
          0.00001239776611328125,
          0.000012874603271484375,
          0.0006682872772216797
         ],
         "xaxis": "x",
         "y": [
          "Node 0",
          "Node 1",
          "Node 2",
          "Node 3",
          "Node 4",
          "Node 5",
          "Node 6",
          "Node 7",
          "Node 8",
          "Node 9"
         ],
         "yaxis": "y"
        },
        {
         "alignmentgroup": "True",
         "base": [
          0.24712920188903809,
          0.2478945255279541,
          0.24865055084228516,
          0.24938440322875977,
          0.2501242160797119,
          0.25086331367492676,
          0.25159502029418945,
          0.252335786819458,
          0.2530784606933594,
          0.2538135051727295
         ],
         "hovertemplate": "Task=Iter 33<br>Start=%{base}<br>Finish=%{x}<br>Resource=%{y}<extra></extra>",
         "legendgroup": "Iter 33",
         "marker": {
          "color": "#ab63fa",
          "pattern": {
           "shape": ""
          }
         },
         "name": "Iter 33",
         "offsetgroup": "Iter 33",
         "orientation": "h",
         "showlegend": true,
         "textposition": "auto",
         "type": "bar",
         "x": [
          0.000013113021850585938,
          0.000014781951904296875,
          0.0000133514404296875,
          0.000013113021850585938,
          0.000013113021850585938,
          0.000012874603271484375,
          0.000013113021850585938,
          0.000012874603271484375,
          0.000013589859008789062,
          0.0006797313690185547
         ],
         "xaxis": "x",
         "y": [
          "Node 0",
          "Node 1",
          "Node 2",
          "Node 3",
          "Node 4",
          "Node 5",
          "Node 6",
          "Node 7",
          "Node 8",
          "Node 9"
         ],
         "yaxis": "y"
        },
        {
         "alignmentgroup": "True",
         "base": [
          0.25452613830566406,
          0.255281925201416,
          0.25602078437805176,
          0.25675058364868164,
          0.25748515129089355,
          0.2582261562347412,
          0.25895237922668457,
          0.2596921920776367,
          0.2604377269744873,
          0.2611663341522217
         ],
         "hovertemplate": "Task=Iter 34<br>Start=%{base}<br>Finish=%{x}<br>Resource=%{y}<extra></extra>",
         "legendgroup": "Iter 34",
         "marker": {
          "color": "#FFA15A",
          "pattern": {
           "shape": ""
          }
         },
         "name": "Iter 34",
         "offsetgroup": "Iter 34",
         "orientation": "h",
         "showlegend": true,
         "textposition": "auto",
         "type": "bar",
         "x": [
          0.000012159347534179688,
          0.000013589859008789062,
          0.000012636184692382812,
          0.000012636184692382812,
          0.000012874603271484375,
          0.00001239776611328125,
          0.000012159347534179688,
          0.000012159347534179688,
          0.00001239776611328125,
          0.0006761550903320312
         ],
         "xaxis": "x",
         "y": [
          "Node 0",
          "Node 1",
          "Node 2",
          "Node 3",
          "Node 4",
          "Node 5",
          "Node 6",
          "Node 7",
          "Node 8",
          "Node 9"
         ],
         "yaxis": "y"
        },
        {
         "alignmentgroup": "True",
         "base": [
          0.2618744373321533,
          0.2626330852508545,
          0.2633860111236572,
          0.26410889625549316,
          0.2648444175720215,
          0.26557421684265137,
          0.26630544662475586,
          0.26703858375549316,
          0.2677795886993408,
          0.26851534843444824
         ],
         "hovertemplate": "Task=Iter 35<br>Start=%{base}<br>Finish=%{x}<br>Resource=%{y}<extra></extra>",
         "legendgroup": "Iter 35",
         "marker": {
          "color": "#19d3f3",
          "pattern": {
           "shape": ""
          }
         },
         "name": "Iter 35",
         "offsetgroup": "Iter 35",
         "orientation": "h",
         "showlegend": true,
         "textposition": "auto",
         "type": "bar",
         "x": [
          0.00001239776611328125,
          0.00001239776611328125,
          0.00001239776611328125,
          0.000012159347534179688,
          0.000012159347534179688,
          0.000011682510375976562,
          0.000012159347534179688,
          0.00001239776611328125,
          0.000012636184692382812,
          0.0006673336029052734
         ],
         "xaxis": "x",
         "y": [
          "Node 0",
          "Node 1",
          "Node 2",
          "Node 3",
          "Node 4",
          "Node 5",
          "Node 6",
          "Node 7",
          "Node 8",
          "Node 9"
         ],
         "yaxis": "y"
        },
        {
         "alignmentgroup": "True",
         "base": [
          0.26922059059143066,
          0.2699697017669678,
          0.27071118354797363,
          0.27144598960876465,
          0.27217745780944824,
          0.27291083335876465,
          0.27364015579223633,
          0.2743802070617676,
          0.27512454986572266,
          0.2758607864379883
         ],
         "hovertemplate": "Task=Iter 36<br>Start=%{base}<br>Finish=%{x}<br>Resource=%{y}<extra></extra>",
         "legendgroup": "Iter 36",
         "marker": {
          "color": "#FF6692",
          "pattern": {
           "shape": ""
          }
         },
         "name": "Iter 36",
         "offsetgroup": "Iter 36",
         "orientation": "h",
         "showlegend": true,
         "textposition": "auto",
         "type": "bar",
         "x": [
          0.00001239776611328125,
          0.000012636184692382812,
          0.00001239776611328125,
          0.000012636184692382812,
          0.00001239776611328125,
          0.000011920928955078125,
          0.00001239776611328125,
          0.00001239776611328125,
          0.000012636184692382812,
          0.0006744861602783203
         ],
         "xaxis": "x",
         "y": [
          "Node 0",
          "Node 1",
          "Node 2",
          "Node 3",
          "Node 4",
          "Node 5",
          "Node 6",
          "Node 7",
          "Node 8",
          "Node 9"
         ],
         "yaxis": "y"
        },
        {
         "alignmentgroup": "True",
         "base": [
          0.2765679359436035,
          0.2773256301879883,
          0.2780647277832031,
          0.2787919044494629,
          0.27953028678894043,
          0.28026533126831055,
          0.2809922695159912,
          0.2817366123199463,
          0.2824828624725342,
          0.2832179069519043
         ],
         "hovertemplate": "Task=Iter 37<br>Start=%{base}<br>Finish=%{x}<br>Resource=%{y}<extra></extra>",
         "legendgroup": "Iter 37",
         "marker": {
          "color": "#B6E880",
          "pattern": {
           "shape": ""
          }
         },
         "name": "Iter 37",
         "offsetgroup": "Iter 37",
         "orientation": "h",
         "showlegend": true,
         "textposition": "auto",
         "type": "bar",
         "x": [
          0.000011920928955078125,
          0.000013113021850585938,
          0.000013113021850585938,
          0.00001239776611328125,
          0.000012636184692382812,
          0.000011920928955078125,
          0.00001239776611328125,
          0.00001239776611328125,
          0.000011920928955078125,
          0.0006673336029052734
         ],
         "xaxis": "x",
         "y": [
          "Node 0",
          "Node 1",
          "Node 2",
          "Node 3",
          "Node 4",
          "Node 5",
          "Node 6",
          "Node 7",
          "Node 8",
          "Node 9"
         ],
         "yaxis": "y"
        },
        {
         "alignmentgroup": "True",
         "base": [
          0.2839171886444092,
          0.2846825122833252,
          0.28542542457580566,
          0.2861473560333252,
          0.28688549995422363,
          0.28761720657348633,
          0.2883477210998535,
          0.2890815734863281,
          0.2898218631744385,
          0.2905571460723877
         ],
         "hovertemplate": "Task=Iter 38<br>Start=%{base}<br>Finish=%{x}<br>Resource=%{y}<extra></extra>",
         "legendgroup": "Iter 38",
         "marker": {
          "color": "#FF97FF",
          "pattern": {
           "shape": ""
          }
         },
         "name": "Iter 38",
         "offsetgroup": "Iter 38",
         "orientation": "h",
         "showlegend": true,
         "textposition": "auto",
         "type": "bar",
         "x": [
          0.000012159347534179688,
          0.0000133514404296875,
          0.00001239776611328125,
          0.00001239776611328125,
          0.000011920928955078125,
          0.000011682510375976562,
          0.00001239776611328125,
          0.00001239776611328125,
          0.000012159347534179688,
          0.0006740093231201172
         ],
         "xaxis": "x",
         "y": [
          "Node 0",
          "Node 1",
          "Node 2",
          "Node 3",
          "Node 4",
          "Node 5",
          "Node 6",
          "Node 7",
          "Node 8",
          "Node 9"
         ],
         "yaxis": "y"
        },
        {
         "alignmentgroup": "True",
         "base": [
          0.2912631034851074,
          0.2920112609863281,
          0.2927522659301758,
          0.29347920417785645,
          0.29421353340148926,
          0.2949409484863281,
          0.2956712245941162,
          0.29641079902648926,
          0.2971479892730713,
          0.2978861331939697
         ],
         "hovertemplate": "Task=Iter 39<br>Start=%{base}<br>Finish=%{x}<br>Resource=%{y}<extra></extra>",
         "legendgroup": "Iter 39",
         "marker": {
          "color": "#FECB52",
          "pattern": {
           "shape": ""
          }
         },
         "name": "Iter 39",
         "offsetgroup": "Iter 39",
         "orientation": "h",
         "showlegend": true,
         "textposition": "auto",
         "type": "bar",
         "x": [
          0.000012159347534179688,
          0.00001239776611328125,
          0.000011920928955078125,
          0.000012159347534179688,
          0.000012159347534179688,
          0.000011682510375976562,
          0.000011920928955078125,
          0.00001239776611328125,
          0.000013113021850585938,
          0.0006775856018066406
         ],
         "xaxis": "x",
         "y": [
          "Node 0",
          "Node 1",
          "Node 2",
          "Node 3",
          "Node 4",
          "Node 5",
          "Node 6",
          "Node 7",
          "Node 8",
          "Node 9"
         ],
         "yaxis": "y"
        },
        {
         "alignmentgroup": "True",
         "base": [
          0.2985954284667969,
          0.29935550689697266,
          0.3000917434692383,
          0.30081748962402344,
          0.3015577793121338,
          0.3022940158843994,
          0.3030228614807129,
          0.30376195907592773,
          0.30450892448425293,
          0.30524730682373047
         ],
         "hovertemplate": "Task=Iter 40<br>Start=%{base}<br>Finish=%{x}<br>Resource=%{y}<extra></extra>",
         "legendgroup": "Iter 40",
         "marker": {
          "color": "#636efa",
          "pattern": {
           "shape": ""
          }
         },
         "name": "Iter 40",
         "offsetgroup": "Iter 40",
         "orientation": "h",
         "showlegend": true,
         "textposition": "auto",
         "type": "bar",
         "x": [
          0.00001239776611328125,
          0.00001239776611328125,
          0.000012159347534179688,
          0.000012159347534179688,
          0.0000133514404296875,
          0.000012159347534179688,
          0.000012636184692382812,
          0.000013113021850585938,
          0.000012874603271484375,
          0.0006663799285888672
         ],
         "xaxis": "x",
         "y": [
          "Node 0",
          "Node 1",
          "Node 2",
          "Node 3",
          "Node 4",
          "Node 5",
          "Node 6",
          "Node 7",
          "Node 8",
          "Node 9"
         ],
         "yaxis": "y"
        },
        {
         "alignmentgroup": "True",
         "base": [
          0.30594635009765625,
          0.30671215057373047,
          0.30745553970336914,
          0.308178186416626,
          0.3089139461517334,
          0.3096485137939453,
          0.3103790283203125,
          0.31112122535705566,
          0.31186866760253906,
          0.3126101493835449
         ],
         "hovertemplate": "Task=Iter 41<br>Start=%{base}<br>Finish=%{x}<br>Resource=%{y}<extra></extra>",
         "legendgroup": "Iter 41",
         "marker": {
          "color": "#EF553B",
          "pattern": {
           "shape": ""
          }
         },
         "name": "Iter 41",
         "offsetgroup": "Iter 41",
         "orientation": "h",
         "showlegend": true,
         "textposition": "auto",
         "type": "bar",
         "x": [
          0.000013113021850585938,
          0.000013113021850585938,
          0.0000133514404296875,
          0.000013589859008789062,
          0.000012636184692382812,
          0.000011920928955078125,
          0.000012636184692382812,
          0.000012874603271484375,
          0.00001239776611328125,
          0.0006761550903320312
         ],
         "xaxis": "x",
         "y": [
          "Node 0",
          "Node 1",
          "Node 2",
          "Node 3",
          "Node 4",
          "Node 5",
          "Node 6",
          "Node 7",
          "Node 8",
          "Node 9"
         ],
         "yaxis": "y"
        },
        {
         "alignmentgroup": "True",
         "base": [
          0.31331849098205566,
          0.314068078994751,
          0.31481146812438965,
          0.3155360221862793,
          0.31627416610717773,
          0.3170034885406494,
          0.317737340927124,
          0.3184816837310791,
          0.3192319869995117,
          0.3199646472930908
         ],
         "hovertemplate": "Task=Iter 42<br>Start=%{base}<br>Finish=%{x}<br>Resource=%{y}<extra></extra>",
         "legendgroup": "Iter 42",
         "marker": {
          "color": "#00cc96",
          "pattern": {
           "shape": ""
          }
         },
         "name": "Iter 42",
         "offsetgroup": "Iter 42",
         "orientation": "h",
         "showlegend": true,
         "textposition": "auto",
         "type": "bar",
         "x": [
          0.000012159347534179688,
          0.0000133514404296875,
          0.00001239776611328125,
          0.00001239776611328125,
          0.00001239776611328125,
          0.000011682510375976562,
          0.00001239776611328125,
          0.000012636184692382812,
          0.000012874603271484375,
          0.0006737709045410156
         ],
         "xaxis": "x",
         "y": [
          "Node 0",
          "Node 1",
          "Node 2",
          "Node 3",
          "Node 4",
          "Node 5",
          "Node 6",
          "Node 7",
          "Node 8",
          "Node 9"
         ],
         "yaxis": "y"
        },
        {
         "alignmentgroup": "True",
         "base": [
          0.3206760883331299,
          0.32143592834472656,
          0.3221774101257324,
          0.32290172576904297,
          0.3236348628997803,
          0.3243734836578369,
          0.3251011371612549,
          0.32584571838378906,
          0.3265981674194336,
          0.3273332118988037
         ],
         "hovertemplate": "Task=Iter 43<br>Start=%{base}<br>Finish=%{x}<br>Resource=%{y}<extra></extra>",
         "legendgroup": "Iter 43",
         "marker": {
          "color": "#ab63fa",
          "pattern": {
           "shape": ""
          }
         },
         "name": "Iter 43",
         "offsetgroup": "Iter 43",
         "orientation": "h",
         "showlegend": true,
         "textposition": "auto",
         "type": "bar",
         "x": [
          0.00001239776611328125,
          0.00001239776611328125,
          0.000012159347534179688,
          0.00001239776611328125,
          0.000012159347534179688,
          0.000012159347534179688,
          0.000012636184692382812,
          0.00001239776611328125,
          0.00001239776611328125,
          0.0006673336029052734
         ],
         "xaxis": "x",
         "y": [
          "Node 0",
          "Node 1",
          "Node 2",
          "Node 3",
          "Node 4",
          "Node 5",
          "Node 6",
          "Node 7",
          "Node 8",
          "Node 9"
         ],
         "yaxis": "y"
        },
        {
         "alignmentgroup": "True",
         "base": [
          0.3280322551727295,
          0.32878732681274414,
          0.3295302391052246,
          0.33026814460754395,
          0.330996036529541,
          0.33173704147338867,
          0.33246898651123047,
          0.33321499824523926,
          0.3339564800262451,
          0.33469128608703613
         ],
         "hovertemplate": "Task=Iter 44<br>Start=%{base}<br>Finish=%{x}<br>Resource=%{y}<extra></extra>",
         "legendgroup": "Iter 44",
         "marker": {
          "color": "#FFA15A",
          "pattern": {
           "shape": ""
          }
         },
         "name": "Iter 44",
         "offsetgroup": "Iter 44",
         "orientation": "h",
         "showlegend": true,
         "textposition": "auto",
         "type": "bar",
         "x": [
          0.00001239776611328125,
          0.000011920928955078125,
          0.000013113021850585938,
          0.000012159347534179688,
          0.00001239776611328125,
          0.000012159347534179688,
          0.00001239776611328125,
          0.000012636184692382812,
          0.000011920928955078125,
          0.0006704330444335938
         ],
         "xaxis": "x",
         "y": [
          "Node 0",
          "Node 1",
          "Node 2",
          "Node 3",
          "Node 4",
          "Node 5",
          "Node 6",
          "Node 7",
          "Node 8",
          "Node 9"
         ],
         "yaxis": "y"
        },
        {
         "alignmentgroup": "True",
         "base": [
          0.33539390563964844,
          0.33614492416381836,
          0.3368861675262451,
          0.3376188278198242,
          0.33835864067077637,
          0.33908581733703613,
          0.3398158550262451,
          0.340557336807251,
          0.34130024909973145,
          0.34203171730041504
         ],
         "hovertemplate": "Task=Iter 45<br>Start=%{base}<br>Finish=%{x}<br>Resource=%{y}<extra></extra>",
         "legendgroup": "Iter 45",
         "marker": {
          "color": "#19d3f3",
          "pattern": {
           "shape": ""
          }
         },
         "name": "Iter 45",
         "offsetgroup": "Iter 45",
         "orientation": "h",
         "showlegend": true,
         "textposition": "auto",
         "type": "bar",
         "x": [
          0.000011920928955078125,
          0.00001239776611328125,
          0.000011920928955078125,
          0.000012159347534179688,
          0.000012159347534179688,
          0.000012159347534179688,
          0.000012159347534179688,
          0.000012159347534179688,
          0.000012874603271484375,
          0.0006794929504394531
         ],
         "xaxis": "x",
         "y": [
          "Node 0",
          "Node 1",
          "Node 2",
          "Node 3",
          "Node 4",
          "Node 5",
          "Node 6",
          "Node 7",
          "Node 8",
          "Node 9"
         ],
         "yaxis": "y"
        },
        {
         "alignmentgroup": "True",
         "base": [
          0.3427450656890869,
          0.3435080051422119,
          0.34424686431884766,
          0.3449680805206299,
          0.34570789337158203,
          0.3464488983154297,
          0.34717583656311035,
          0.3479118347167969,
          0.3486626148223877,
          0.34940385818481445
         ],
         "hovertemplate": "Task=Iter 46<br>Start=%{base}<br>Finish=%{x}<br>Resource=%{y}<extra></extra>",
         "legendgroup": "Iter 46",
         "marker": {
          "color": "#FF6692",
          "pattern": {
           "shape": ""
          }
         },
         "name": "Iter 46",
         "offsetgroup": "Iter 46",
         "orientation": "h",
         "showlegend": true,
         "textposition": "auto",
         "type": "bar",
         "x": [
          0.000012159347534179688,
          0.000012159347534179688,
          0.000012159347534179688,
          0.000012159347534179688,
          0.000014066696166992188,
          0.000011920928955078125,
          0.000012159347534179688,
          0.000012159347534179688,
          0.0000133514404296875,
          0.0006670951843261719
         ],
         "xaxis": "x",
         "y": [
          "Node 0",
          "Node 1",
          "Node 2",
          "Node 3",
          "Node 4",
          "Node 5",
          "Node 6",
          "Node 7",
          "Node 8",
          "Node 9"
         ],
         "yaxis": "y"
        },
        {
         "alignmentgroup": "True",
         "base": [
          0.35010266304016113,
          0.3508598804473877,
          0.3515970706939697,
          0.3523252010345459,
          0.3530542850494385,
          0.3537917137145996,
          0.3545243740081787,
          0.3552680015563965,
          0.3560061454772949,
          0.35674238204956055
         ],
         "hovertemplate": "Task=Iter 47<br>Start=%{base}<br>Finish=%{x}<br>Resource=%{y}<extra></extra>",
         "legendgroup": "Iter 47",
         "marker": {
          "color": "#B6E880",
          "pattern": {
           "shape": ""
          }
         },
         "name": "Iter 47",
         "offsetgroup": "Iter 47",
         "orientation": "h",
         "showlegend": true,
         "textposition": "auto",
         "type": "bar",
         "x": [
          0.000011920928955078125,
          0.000011920928955078125,
          0.000012636184692382812,
          0.000011920928955078125,
          0.000012636184692382812,
          0.000011920928955078125,
          0.00001239776611328125,
          0.000012159347534179688,
          0.000012636184692382812,
          0.0006699562072753906
         ],
         "xaxis": "x",
         "y": [
          "Node 0",
          "Node 1",
          "Node 2",
          "Node 3",
          "Node 4",
          "Node 5",
          "Node 6",
          "Node 7",
          "Node 8",
          "Node 9"
         ],
         "yaxis": "y"
        },
        {
         "alignmentgroup": "True",
         "base": [
          0.35744333267211914,
          0.3582003116607666,
          0.35893845558166504,
          0.35967016220092773,
          0.36040353775024414,
          0.3611328601837158,
          0.36187028884887695,
          0.36261439323425293,
          0.3633584976196289,
          0.3640906810760498
         ],
         "hovertemplate": "Task=Iter 48<br>Start=%{base}<br>Finish=%{x}<br>Resource=%{y}<extra></extra>",
         "legendgroup": "Iter 48",
         "marker": {
          "color": "#FF97FF",
          "pattern": {
           "shape": ""
          }
         },
         "name": "Iter 48",
         "offsetgroup": "Iter 48",
         "orientation": "h",
         "showlegend": true,
         "textposition": "auto",
         "type": "bar",
         "x": [
          0.000012636184692382812,
          0.000016927719116210938,
          0.000012636184692382812,
          0.000012159347534179688,
          0.000012636184692382812,
          0.000011682510375976562,
          0.000012636184692382812,
          0.000012159347534179688,
          0.000012874603271484375,
          0.0006825923919677734
         ],
         "xaxis": "x",
         "y": [
          "Node 0",
          "Node 1",
          "Node 2",
          "Node 3",
          "Node 4",
          "Node 5",
          "Node 6",
          "Node 7",
          "Node 8",
          "Node 9"
         ],
         "yaxis": "y"
        },
        {
         "alignmentgroup": "True",
         "base": [
          0.3648076057434082,
          0.36557602882385254,
          0.3663163185119629,
          0.36704063415527344,
          0.36777591705322266,
          0.36851024627685547,
          0.36925268173217773,
          0.36998748779296875,
          0.37073469161987305,
          0.3714776039123535
         ],
         "hovertemplate": "Task=Iter 49<br>Start=%{base}<br>Finish=%{x}<br>Resource=%{y}<extra></extra>",
         "legendgroup": "Iter 49",
         "marker": {
          "color": "#FECB52",
          "pattern": {
           "shape": ""
          }
         },
         "name": "Iter 49",
         "offsetgroup": "Iter 49",
         "orientation": "h",
         "showlegend": true,
         "textposition": "auto",
         "type": "bar",
         "x": [
          0.000011920928955078125,
          0.000013113021850585938,
          0.00001239776611328125,
          0.000012159347534179688,
          0.000012159347534179688,
          0.000012159347534179688,
          0.00001239776611328125,
          0.000012159347534179688,
          0.000013113021850585938,
          0.0006661415100097656
         ],
         "xaxis": "x",
         "y": [
          "Node 0",
          "Node 1",
          "Node 2",
          "Node 3",
          "Node 4",
          "Node 5",
          "Node 6",
          "Node 7",
          "Node 8",
          "Node 9"
         ],
         "yaxis": "y"
        },
        {
         "alignmentgroup": "True",
         "base": [
          0.3721756935119629,
          0.37293004989624023,
          0.3736708164215088,
          0.3744053840637207,
          0.37513256072998047,
          0.3758664131164551,
          0.3766000270843506,
          0.3773477077484131,
          0.3780848979949951,
          0.37883782386779785
         ],
         "hovertemplate": "Task=Iter 50<br>Start=%{base}<br>Finish=%{x}<br>Resource=%{y}<extra></extra>",
         "legendgroup": "Iter 50",
         "marker": {
          "color": "#636efa",
          "pattern": {
           "shape": ""
          }
         },
         "name": "Iter 50",
         "offsetgroup": "Iter 50",
         "orientation": "h",
         "showlegend": true,
         "textposition": "auto",
         "type": "bar",
         "x": [
          0.00001239776611328125,
          0.000012636184692382812,
          0.000012159347534179688,
          0.000012159347534179688,
          0.00001239776611328125,
          0.000012159347534179688,
          0.00001239776611328125,
          0.000012159347534179688,
          0.00001239776611328125,
          0.0006794929504394531
         ],
         "xaxis": "x",
         "y": [
          "Node 0",
          "Node 1",
          "Node 2",
          "Node 3",
          "Node 4",
          "Node 5",
          "Node 6",
          "Node 7",
          "Node 8",
          "Node 9"
         ],
         "yaxis": "y"
        }
       ],
       "layout": {
        "barmode": "overlay",
        "legend": {
         "title": {
          "text": "Task"
         },
         "tracegroupgap": 0
        },
        "margin": {
         "t": 60
        },
        "template": {
         "data": {
          "bar": [
           {
            "error_x": {
             "color": "#2a3f5f"
            },
            "error_y": {
             "color": "#2a3f5f"
            },
            "marker": {
             "line": {
              "color": "#E5ECF6",
              "width": 0.5
             },
             "pattern": {
              "fillmode": "overlay",
              "size": 10,
              "solidity": 0.2
             }
            },
            "type": "bar"
           }
          ],
          "barpolar": [
           {
            "marker": {
             "line": {
              "color": "#E5ECF6",
              "width": 0.5
             },
             "pattern": {
              "fillmode": "overlay",
              "size": 10,
              "solidity": 0.2
             }
            },
            "type": "barpolar"
           }
          ],
          "carpet": [
           {
            "aaxis": {
             "endlinecolor": "#2a3f5f",
             "gridcolor": "white",
             "linecolor": "white",
             "minorgridcolor": "white",
             "startlinecolor": "#2a3f5f"
            },
            "baxis": {
             "endlinecolor": "#2a3f5f",
             "gridcolor": "white",
             "linecolor": "white",
             "minorgridcolor": "white",
             "startlinecolor": "#2a3f5f"
            },
            "type": "carpet"
           }
          ],
          "choropleth": [
           {
            "colorbar": {
             "outlinewidth": 0,
             "ticks": ""
            },
            "type": "choropleth"
           }
          ],
          "contour": [
           {
            "colorbar": {
             "outlinewidth": 0,
             "ticks": ""
            },
            "colorscale": [
             [
              0,
              "#0d0887"
             ],
             [
              0.1111111111111111,
              "#46039f"
             ],
             [
              0.2222222222222222,
              "#7201a8"
             ],
             [
              0.3333333333333333,
              "#9c179e"
             ],
             [
              0.4444444444444444,
              "#bd3786"
             ],
             [
              0.5555555555555556,
              "#d8576b"
             ],
             [
              0.6666666666666666,
              "#ed7953"
             ],
             [
              0.7777777777777778,
              "#fb9f3a"
             ],
             [
              0.8888888888888888,
              "#fdca26"
             ],
             [
              1,
              "#f0f921"
             ]
            ],
            "type": "contour"
           }
          ],
          "contourcarpet": [
           {
            "colorbar": {
             "outlinewidth": 0,
             "ticks": ""
            },
            "type": "contourcarpet"
           }
          ],
          "heatmap": [
           {
            "colorbar": {
             "outlinewidth": 0,
             "ticks": ""
            },
            "colorscale": [
             [
              0,
              "#0d0887"
             ],
             [
              0.1111111111111111,
              "#46039f"
             ],
             [
              0.2222222222222222,
              "#7201a8"
             ],
             [
              0.3333333333333333,
              "#9c179e"
             ],
             [
              0.4444444444444444,
              "#bd3786"
             ],
             [
              0.5555555555555556,
              "#d8576b"
             ],
             [
              0.6666666666666666,
              "#ed7953"
             ],
             [
              0.7777777777777778,
              "#fb9f3a"
             ],
             [
              0.8888888888888888,
              "#fdca26"
             ],
             [
              1,
              "#f0f921"
             ]
            ],
            "type": "heatmap"
           }
          ],
          "heatmapgl": [
           {
            "colorbar": {
             "outlinewidth": 0,
             "ticks": ""
            },
            "colorscale": [
             [
              0,
              "#0d0887"
             ],
             [
              0.1111111111111111,
              "#46039f"
             ],
             [
              0.2222222222222222,
              "#7201a8"
             ],
             [
              0.3333333333333333,
              "#9c179e"
             ],
             [
              0.4444444444444444,
              "#bd3786"
             ],
             [
              0.5555555555555556,
              "#d8576b"
             ],
             [
              0.6666666666666666,
              "#ed7953"
             ],
             [
              0.7777777777777778,
              "#fb9f3a"
             ],
             [
              0.8888888888888888,
              "#fdca26"
             ],
             [
              1,
              "#f0f921"
             ]
            ],
            "type": "heatmapgl"
           }
          ],
          "histogram": [
           {
            "marker": {
             "pattern": {
              "fillmode": "overlay",
              "size": 10,
              "solidity": 0.2
             }
            },
            "type": "histogram"
           }
          ],
          "histogram2d": [
           {
            "colorbar": {
             "outlinewidth": 0,
             "ticks": ""
            },
            "colorscale": [
             [
              0,
              "#0d0887"
             ],
             [
              0.1111111111111111,
              "#46039f"
             ],
             [
              0.2222222222222222,
              "#7201a8"
             ],
             [
              0.3333333333333333,
              "#9c179e"
             ],
             [
              0.4444444444444444,
              "#bd3786"
             ],
             [
              0.5555555555555556,
              "#d8576b"
             ],
             [
              0.6666666666666666,
              "#ed7953"
             ],
             [
              0.7777777777777778,
              "#fb9f3a"
             ],
             [
              0.8888888888888888,
              "#fdca26"
             ],
             [
              1,
              "#f0f921"
             ]
            ],
            "type": "histogram2d"
           }
          ],
          "histogram2dcontour": [
           {
            "colorbar": {
             "outlinewidth": 0,
             "ticks": ""
            },
            "colorscale": [
             [
              0,
              "#0d0887"
             ],
             [
              0.1111111111111111,
              "#46039f"
             ],
             [
              0.2222222222222222,
              "#7201a8"
             ],
             [
              0.3333333333333333,
              "#9c179e"
             ],
             [
              0.4444444444444444,
              "#bd3786"
             ],
             [
              0.5555555555555556,
              "#d8576b"
             ],
             [
              0.6666666666666666,
              "#ed7953"
             ],
             [
              0.7777777777777778,
              "#fb9f3a"
             ],
             [
              0.8888888888888888,
              "#fdca26"
             ],
             [
              1,
              "#f0f921"
             ]
            ],
            "type": "histogram2dcontour"
           }
          ],
          "mesh3d": [
           {
            "colorbar": {
             "outlinewidth": 0,
             "ticks": ""
            },
            "type": "mesh3d"
           }
          ],
          "parcoords": [
           {
            "line": {
             "colorbar": {
              "outlinewidth": 0,
              "ticks": ""
             }
            },
            "type": "parcoords"
           }
          ],
          "pie": [
           {
            "automargin": true,
            "type": "pie"
           }
          ],
          "scatter": [
           {
            "fillpattern": {
             "fillmode": "overlay",
             "size": 10,
             "solidity": 0.2
            },
            "type": "scatter"
           }
          ],
          "scatter3d": [
           {
            "line": {
             "colorbar": {
              "outlinewidth": 0,
              "ticks": ""
             }
            },
            "marker": {
             "colorbar": {
              "outlinewidth": 0,
              "ticks": ""
             }
            },
            "type": "scatter3d"
           }
          ],
          "scattercarpet": [
           {
            "marker": {
             "colorbar": {
              "outlinewidth": 0,
              "ticks": ""
             }
            },
            "type": "scattercarpet"
           }
          ],
          "scattergeo": [
           {
            "marker": {
             "colorbar": {
              "outlinewidth": 0,
              "ticks": ""
             }
            },
            "type": "scattergeo"
           }
          ],
          "scattergl": [
           {
            "marker": {
             "colorbar": {
              "outlinewidth": 0,
              "ticks": ""
             }
            },
            "type": "scattergl"
           }
          ],
          "scattermapbox": [
           {
            "marker": {
             "colorbar": {
              "outlinewidth": 0,
              "ticks": ""
             }
            },
            "type": "scattermapbox"
           }
          ],
          "scatterpolar": [
           {
            "marker": {
             "colorbar": {
              "outlinewidth": 0,
              "ticks": ""
             }
            },
            "type": "scatterpolar"
           }
          ],
          "scatterpolargl": [
           {
            "marker": {
             "colorbar": {
              "outlinewidth": 0,
              "ticks": ""
             }
            },
            "type": "scatterpolargl"
           }
          ],
          "scatterternary": [
           {
            "marker": {
             "colorbar": {
              "outlinewidth": 0,
              "ticks": ""
             }
            },
            "type": "scatterternary"
           }
          ],
          "surface": [
           {
            "colorbar": {
             "outlinewidth": 0,
             "ticks": ""
            },
            "colorscale": [
             [
              0,
              "#0d0887"
             ],
             [
              0.1111111111111111,
              "#46039f"
             ],
             [
              0.2222222222222222,
              "#7201a8"
             ],
             [
              0.3333333333333333,
              "#9c179e"
             ],
             [
              0.4444444444444444,
              "#bd3786"
             ],
             [
              0.5555555555555556,
              "#d8576b"
             ],
             [
              0.6666666666666666,
              "#ed7953"
             ],
             [
              0.7777777777777778,
              "#fb9f3a"
             ],
             [
              0.8888888888888888,
              "#fdca26"
             ],
             [
              1,
              "#f0f921"
             ]
            ],
            "type": "surface"
           }
          ],
          "table": [
           {
            "cells": {
             "fill": {
              "color": "#EBF0F8"
             },
             "line": {
              "color": "white"
             }
            },
            "header": {
             "fill": {
              "color": "#C8D4E3"
             },
             "line": {
              "color": "white"
             }
            },
            "type": "table"
           }
          ]
         },
         "layout": {
          "annotationdefaults": {
           "arrowcolor": "#2a3f5f",
           "arrowhead": 0,
           "arrowwidth": 1
          },
          "autotypenumbers": "strict",
          "coloraxis": {
           "colorbar": {
            "outlinewidth": 0,
            "ticks": ""
           }
          },
          "colorscale": {
           "diverging": [
            [
             0,
             "#8e0152"
            ],
            [
             0.1,
             "#c51b7d"
            ],
            [
             0.2,
             "#de77ae"
            ],
            [
             0.3,
             "#f1b6da"
            ],
            [
             0.4,
             "#fde0ef"
            ],
            [
             0.5,
             "#f7f7f7"
            ],
            [
             0.6,
             "#e6f5d0"
            ],
            [
             0.7,
             "#b8e186"
            ],
            [
             0.8,
             "#7fbc41"
            ],
            [
             0.9,
             "#4d9221"
            ],
            [
             1,
             "#276419"
            ]
           ],
           "sequential": [
            [
             0,
             "#0d0887"
            ],
            [
             0.1111111111111111,
             "#46039f"
            ],
            [
             0.2222222222222222,
             "#7201a8"
            ],
            [
             0.3333333333333333,
             "#9c179e"
            ],
            [
             0.4444444444444444,
             "#bd3786"
            ],
            [
             0.5555555555555556,
             "#d8576b"
            ],
            [
             0.6666666666666666,
             "#ed7953"
            ],
            [
             0.7777777777777778,
             "#fb9f3a"
            ],
            [
             0.8888888888888888,
             "#fdca26"
            ],
            [
             1,
             "#f0f921"
            ]
           ],
           "sequentialminus": [
            [
             0,
             "#0d0887"
            ],
            [
             0.1111111111111111,
             "#46039f"
            ],
            [
             0.2222222222222222,
             "#7201a8"
            ],
            [
             0.3333333333333333,
             "#9c179e"
            ],
            [
             0.4444444444444444,
             "#bd3786"
            ],
            [
             0.5555555555555556,
             "#d8576b"
            ],
            [
             0.6666666666666666,
             "#ed7953"
            ],
            [
             0.7777777777777778,
             "#fb9f3a"
            ],
            [
             0.8888888888888888,
             "#fdca26"
            ],
            [
             1,
             "#f0f921"
            ]
           ]
          },
          "colorway": [
           "#636efa",
           "#EF553B",
           "#00cc96",
           "#ab63fa",
           "#FFA15A",
           "#19d3f3",
           "#FF6692",
           "#B6E880",
           "#FF97FF",
           "#FECB52"
          ],
          "font": {
           "color": "#2a3f5f"
          },
          "geo": {
           "bgcolor": "white",
           "lakecolor": "white",
           "landcolor": "#E5ECF6",
           "showlakes": true,
           "showland": true,
           "subunitcolor": "white"
          },
          "hoverlabel": {
           "align": "left"
          },
          "hovermode": "closest",
          "mapbox": {
           "style": "light"
          },
          "paper_bgcolor": "white",
          "plot_bgcolor": "#E5ECF6",
          "polar": {
           "angularaxis": {
            "gridcolor": "white",
            "linecolor": "white",
            "ticks": ""
           },
           "bgcolor": "#E5ECF6",
           "radialaxis": {
            "gridcolor": "white",
            "linecolor": "white",
            "ticks": ""
           }
          },
          "scene": {
           "xaxis": {
            "backgroundcolor": "#E5ECF6",
            "gridcolor": "white",
            "gridwidth": 2,
            "linecolor": "white",
            "showbackground": true,
            "ticks": "",
            "zerolinecolor": "white"
           },
           "yaxis": {
            "backgroundcolor": "#E5ECF6",
            "gridcolor": "white",
            "gridwidth": 2,
            "linecolor": "white",
            "showbackground": true,
            "ticks": "",
            "zerolinecolor": "white"
           },
           "zaxis": {
            "backgroundcolor": "#E5ECF6",
            "gridcolor": "white",
            "gridwidth": 2,
            "linecolor": "white",
            "showbackground": true,
            "ticks": "",
            "zerolinecolor": "white"
           }
          },
          "shapedefaults": {
           "line": {
            "color": "#2a3f5f"
           }
          },
          "ternary": {
           "aaxis": {
            "gridcolor": "white",
            "linecolor": "white",
            "ticks": ""
           },
           "baxis": {
            "gridcolor": "white",
            "linecolor": "white",
            "ticks": ""
           },
           "bgcolor": "#E5ECF6",
           "caxis": {
            "gridcolor": "white",
            "linecolor": "white",
            "ticks": ""
           }
          },
          "title": {
           "x": 0.05
          },
          "xaxis": {
           "automargin": true,
           "gridcolor": "white",
           "linecolor": "white",
           "ticks": "",
           "title": {
            "standoff": 15
           },
           "zerolinecolor": "white",
           "zerolinewidth": 2
          },
          "yaxis": {
           "automargin": true,
           "gridcolor": "white",
           "linecolor": "white",
           "ticks": "",
           "title": {
            "standoff": 15
           },
           "zerolinecolor": "white",
           "zerolinewidth": 2
          }
         }
        },
        "title": {
         "text": "Parallel WTA Full"
        },
        "xaxis": {
         "anchor": "y",
         "domain": [
          0,
          1
         ],
         "type": "linear"
        },
        "yaxis": {
         "anchor": "x",
         "autorange": "reversed",
         "domain": [
          0,
          1
         ],
         "title": {
          "text": "Resource"
         }
        }
       }
      }
     },
     "metadata": {},
     "output_type": "display_data"
    }
   ],
   "source": [
    "fig = getDataGantt(logs[0], \"Parallel WTA Full\")\n",
    "fig.show()"
   ]
  },
  {
   "cell_type": "code",
   "execution_count": 6,
   "metadata": {},
   "outputs": [
    {
     "data": {
      "application/vnd.plotly.v1+json": {
       "config": {
        "plotlyServerURL": "https://plot.ly"
       },
       "data": [
        {
         "alignmentgroup": "True",
         "base": [
          0,
          0.0009241104125976562,
          0.0016911029815673828,
          0.002473592758178711,
          0.003238677978515625,
          0.004006385803222656,
          0.0047609806060791016,
          0.0055446624755859375,
          0.006324052810668945,
          0.007098197937011719
         ],
         "hovertemplate": "Task=Iter 0<br>Start=%{base}<br>Finish=%{x}<br>Resource=%{y}<extra></extra>",
         "legendgroup": "Iter 0",
         "marker": {
          "color": "#636efa",
          "pattern": {
           "shape": ""
          }
         },
         "name": "Iter 0",
         "offsetgroup": "Iter 0",
         "orientation": "h",
         "showlegend": true,
         "textposition": "auto",
         "type": "bar",
         "x": [
          0.00003123283386230469,
          0.0000171661376953125,
          0.000014781951904296875,
          0.0000152587890625,
          0.000015735626220703125,
          0.000014781951904296875,
          0.0000152587890625,
          0.000015735626220703125,
          0.000015497207641601562,
          0.0006825923919677734
         ],
         "xaxis": "x",
         "y": [
          "Node 0",
          "Node 1",
          "Node 2",
          "Node 3",
          "Node 4",
          "Node 5",
          "Node 6",
          "Node 7",
          "Node 8",
          "Node 9"
         ],
         "yaxis": "y"
        },
        {
         "alignmentgroup": "True",
         "base": [
          0.0017008781433105469,
          0.0024871826171875,
          0.0032482147216796875,
          0.004018068313598633,
          0.004771709442138672,
          0.005551815032958984,
          0.006332874298095703,
          0.0071086883544921875,
          0.007882118225097656,
          0.008620262145996094
         ],
         "hovertemplate": "Task=Iter 1<br>Start=%{base}<br>Finish=%{x}<br>Resource=%{y}<extra></extra>",
         "legendgroup": "Iter 1",
         "marker": {
          "color": "#EF553B",
          "pattern": {
           "shape": ""
          }
         },
         "name": "Iter 1",
         "offsetgroup": "Iter 1",
         "orientation": "h",
         "showlegend": true,
         "textposition": "auto",
         "type": "bar",
         "x": [
          0.000012874603271484375,
          0.00001239776611328125,
          0.000012159347534179688,
          0.000012159347534179688,
          0.000011920928955078125,
          0.000011682510375976562,
          0.00001239776611328125,
          0.000012874603271484375,
          0.000012159347534179688,
          0.0006759166717529297
         ],
         "xaxis": "x",
         "y": [
          "Node 0",
          "Node 1",
          "Node 2",
          "Node 3",
          "Node 4",
          "Node 5",
          "Node 6",
          "Node 7",
          "Node 8",
          "Node 9"
         ],
         "yaxis": "y"
        },
        {
         "alignmentgroup": "True",
         "base": [
          0.003256082534790039,
          0.004029750823974609,
          0.004772663116455078,
          0.005542755126953125,
          0.006310462951660156,
          0.007107257843017578,
          0.007868528366088867,
          0.008636474609375,
          0.009421586990356445,
          0.010158538818359375
         ],
         "hovertemplate": "Task=Iter 2<br>Start=%{base}<br>Finish=%{x}<br>Resource=%{y}<extra></extra>",
         "legendgroup": "Iter 2",
         "marker": {
          "color": "#00cc96",
          "pattern": {
           "shape": ""
          }
         },
         "name": "Iter 2",
         "offsetgroup": "Iter 2",
         "orientation": "h",
         "showlegend": true,
         "textposition": "auto",
         "type": "bar",
         "x": [
          0.000011682510375976562,
          0.000011920928955078125,
          0.000011682510375976562,
          0.000011682510375976562,
          0.000011920928955078125,
          0.000011444091796875,
          0.000011682510375976562,
          0.00001239776611328125,
          0.000011444091796875,
          0.0006704330444335938
         ],
         "xaxis": "x",
         "y": [
          "Node 0",
          "Node 1",
          "Node 2",
          "Node 3",
          "Node 4",
          "Node 5",
          "Node 6",
          "Node 7",
          "Node 8",
          "Node 9"
         ],
         "yaxis": "y"
        },
        {
         "alignmentgroup": "True",
         "base": [
          0.004784107208251953,
          0.005545139312744141,
          0.006300687789916992,
          0.00707554817199707,
          0.00785517692565918,
          0.008629322052001953,
          0.009436607360839844,
          0.01018667221069336,
          0.01093435287475586,
          0.011661767959594727
         ],
         "hovertemplate": "Task=Iter 3<br>Start=%{base}<br>Finish=%{x}<br>Resource=%{y}<extra></extra>",
         "legendgroup": "Iter 3",
         "marker": {
          "color": "#ab63fa",
          "pattern": {
           "shape": ""
          }
         },
         "name": "Iter 3",
         "offsetgroup": "Iter 3",
         "orientation": "h",
         "showlegend": true,
         "textposition": "auto",
         "type": "bar",
         "x": [
          0.000011444091796875,
          0.000011682510375976562,
          0.000011444091796875,
          0.000011444091796875,
          0.000011205673217773438,
          0.000011682510375976562,
          0.000011444091796875,
          0.000013589859008789062,
          0.000011682510375976562,
          0.0006740093231201172
         ],
         "xaxis": "x",
         "y": [
          "Node 0",
          "Node 1",
          "Node 2",
          "Node 3",
          "Node 4",
          "Node 5",
          "Node 6",
          "Node 7",
          "Node 8",
          "Node 9"
         ],
         "yaxis": "y"
        },
        {
         "alignmentgroup": "True",
         "base": [
          0.00630497932434082,
          0.007067203521728516,
          0.007819414138793945,
          0.008614540100097656,
          0.00939488410949707,
          0.010200262069702148,
          0.010951042175292969,
          0.011680364608764648,
          0.012414216995239258,
          0.013148784637451172
         ],
         "hovertemplate": "Task=Iter 4<br>Start=%{base}<br>Finish=%{x}<br>Resource=%{y}<extra></extra>",
         "legendgroup": "Iter 4",
         "marker": {
          "color": "#FFA15A",
          "pattern": {
           "shape": ""
          }
         },
         "name": "Iter 4",
         "offsetgroup": "Iter 4",
         "orientation": "h",
         "showlegend": true,
         "textposition": "auto",
         "type": "bar",
         "x": [
          0.000011444091796875,
          0.000011682510375976562,
          0.000010967254638671875,
          0.000010967254638671875,
          0.000011682510375976562,
          0.000011444091796875,
          0.000011920928955078125,
          0.000011205673217773438,
          0.000011205673217773438,
          0.0006659030914306641
         ],
         "xaxis": "x",
         "y": [
          "Node 0",
          "Node 1",
          "Node 2",
          "Node 3",
          "Node 4",
          "Node 5",
          "Node 6",
          "Node 7",
          "Node 8",
          "Node 9"
         ],
         "yaxis": "y"
        },
        {
         "alignmentgroup": "True",
         "base": [
          0.00781393051147461,
          0.008576154708862305,
          0.009371042251586914,
          0.01014566421508789,
          0.01095128059387207,
          0.01169443130493164,
          0.012430191040039062,
          0.013175249099731445,
          0.013910293579101562,
          0.014636039733886719
         ],
         "hovertemplate": "Task=Iter 5<br>Start=%{base}<br>Finish=%{x}<br>Resource=%{y}<extra></extra>",
         "legendgroup": "Iter 5",
         "marker": {
          "color": "#19d3f3",
          "pattern": {
           "shape": ""
          }
         },
         "name": "Iter 5",
         "offsetgroup": "Iter 5",
         "orientation": "h",
         "showlegend": true,
         "textposition": "auto",
         "type": "bar",
         "x": [
          0.000011444091796875,
          0.000011205673217773438,
          0.000011205673217773438,
          0.000011444091796875,
          0.000011920928955078125,
          0.000011444091796875,
          0.000011682510375976562,
          0.000010967254638671875,
          0.000011444091796875,
          0.0006825923919677734
         ],
         "xaxis": "x",
         "y": [
          "Node 0",
          "Node 1",
          "Node 2",
          "Node 3",
          "Node 4",
          "Node 5",
          "Node 6",
          "Node 7",
          "Node 8",
          "Node 9"
         ],
         "yaxis": "y"
        },
        {
         "alignmentgroup": "True",
         "base": [
          0.009340286254882812,
          0.010118246078491211,
          0.01089167594909668,
          0.011696815490722656,
          0.012444734573364258,
          0.013191699981689453,
          0.013927221298217773,
          0.014658689498901367,
          0.015407562255859375,
          0.016147613525390625
         ],
         "hovertemplate": "Task=Iter 6<br>Start=%{base}<br>Finish=%{x}<br>Resource=%{y}<extra></extra>",
         "legendgroup": "Iter 6",
         "marker": {
          "color": "#FF6692",
          "pattern": {
           "shape": ""
          }
         },
         "name": "Iter 6",
         "offsetgroup": "Iter 6",
         "orientation": "h",
         "showlegend": true,
         "textposition": "auto",
         "type": "bar",
         "x": [
          0.000011444091796875,
          0.000011920928955078125,
          0.000016927719116210938,
          0.000011682510375976562,
          0.000011682510375976562,
          0.000011205673217773438,
          0.000011444091796875,
          0.000011205673217773438,
          0.000011444091796875,
          0.0006616115570068359
         ],
         "xaxis": "x",
         "y": [
          "Node 0",
          "Node 1",
          "Node 2",
          "Node 3",
          "Node 4",
          "Node 5",
          "Node 6",
          "Node 7",
          "Node 8",
          "Node 9"
         ],
         "yaxis": "y"
        },
        {
         "alignmentgroup": "True",
         "base": [
          0.010864496231079102,
          0.011657238006591797,
          0.01244211196899414,
          0.01320338249206543,
          0.013945579528808594,
          0.014679431915283203,
          0.015423059463500977,
          0.01616811752319336,
          0.01690220832824707,
          0.01762986183166504
         ],
         "hovertemplate": "Task=Iter 7<br>Start=%{base}<br>Finish=%{x}<br>Resource=%{y}<extra></extra>",
         "legendgroup": "Iter 7",
         "marker": {
          "color": "#B6E880",
          "pattern": {
           "shape": ""
          }
         },
         "name": "Iter 7",
         "offsetgroup": "Iter 7",
         "orientation": "h",
         "showlegend": true,
         "textposition": "auto",
         "type": "bar",
         "x": [
          0.000011205673217773438,
          0.000011444091796875,
          0.000011444091796875,
          0.000011444091796875,
          0.000011920928955078125,
          0.000010967254638671875,
          0.000011444091796875,
          0.000010967254638671875,
          0.000011444091796875,
          0.0006711483001708984
         ],
         "xaxis": "x",
         "y": [
          "Node 0",
          "Node 1",
          "Node 2",
          "Node 3",
          "Node 4",
          "Node 5",
          "Node 6",
          "Node 7",
          "Node 8",
          "Node 9"
         ],
         "yaxis": "y"
        },
        {
         "alignmentgroup": "True",
         "base": [
          0.01241445541381836,
          0.013192892074584961,
          0.013956785202026367,
          0.014695167541503906,
          0.015435457229614258,
          0.016184329986572266,
          0.016919374465942383,
          0.017650842666625977,
          0.018383502960205078,
          0.019122600555419922
         ],
         "hovertemplate": "Task=Iter 8<br>Start=%{base}<br>Finish=%{x}<br>Resource=%{y}<extra></extra>",
         "legendgroup": "Iter 8",
         "marker": {
          "color": "#FF97FF",
          "pattern": {
           "shape": ""
          }
         },
         "name": "Iter 8",
         "offsetgroup": "Iter 8",
         "orientation": "h",
         "showlegend": true,
         "textposition": "auto",
         "type": "bar",
         "x": [
          0.000013589859008789062,
          0.00001239776611328125,
          0.000011205673217773438,
          0.000011444091796875,
          0.000011444091796875,
          0.000011444091796875,
          0.000011444091796875,
          0.000011205673217773438,
          0.000010967254638671875,
          0.0006604194641113281
         ],
         "xaxis": "x",
         "y": [
          "Node 0",
          "Node 1",
          "Node 2",
          "Node 3",
          "Node 4",
          "Node 5",
          "Node 6",
          "Node 7",
          "Node 8",
          "Node 9"
         ],
         "yaxis": "y"
        },
        {
         "alignmentgroup": "True",
         "base": [
          0.013957500457763672,
          0.014699220657348633,
          0.015452861785888672,
          0.0161898136138916,
          0.01693558692932129,
          0.017666101455688477,
          0.018399953842163086,
          0.01914048194885254,
          0.0198667049407959,
          0.02060532569885254
         ],
         "hovertemplate": "Task=Iter 9<br>Start=%{base}<br>Finish=%{x}<br>Resource=%{y}<extra></extra>",
         "legendgroup": "Iter 9",
         "marker": {
          "color": "#FECB52",
          "pattern": {
           "shape": ""
          }
         },
         "name": "Iter 9",
         "offsetgroup": "Iter 9",
         "orientation": "h",
         "showlegend": true,
         "textposition": "auto",
         "type": "bar",
         "x": [
          0.000011920928955078125,
          0.000011682510375976562,
          0.000011444091796875,
          0.000011444091796875,
          0.000011444091796875,
          0.000011444091796875,
          0.000011444091796875,
          0.000010728836059570312,
          0.000011205673217773438,
          0.0006737709045410156
         ],
         "xaxis": "x",
         "y": [
          "Node 0",
          "Node 1",
          "Node 2",
          "Node 3",
          "Node 4",
          "Node 5",
          "Node 6",
          "Node 7",
          "Node 8",
          "Node 9"
         ],
         "yaxis": "y"
        },
        {
         "alignmentgroup": "True",
         "base": [
          0.015454530715942383,
          0.016214370727539062,
          0.01695847511291504,
          0.017681360244750977,
          0.01841592788696289,
          0.019156217575073242,
          0.01988363265991211,
          0.02062201499938965,
          0.021361827850341797,
          0.022094249725341797
         ],
         "hovertemplate": "Task=Iter 10<br>Start=%{base}<br>Finish=%{x}<br>Resource=%{y}<extra></extra>",
         "legendgroup": "Iter 10",
         "marker": {
          "color": "#636efa",
          "pattern": {
           "shape": ""
          }
         },
         "name": "Iter 10",
         "offsetgroup": "Iter 10",
         "orientation": "h",
         "showlegend": true,
         "textposition": "auto",
         "type": "bar",
         "x": [
          0.0000133514404296875,
          0.000011920928955078125,
          0.000011444091796875,
          0.000011444091796875,
          0.000011920928955078125,
          0.000011205673217773438,
          0.000011682510375976562,
          0.000011444091796875,
          0.000011205673217773438,
          0.0006625652313232422
         ],
         "xaxis": "x",
         "y": [
          "Node 0",
          "Node 1",
          "Node 2",
          "Node 3",
          "Node 4",
          "Node 5",
          "Node 6",
          "Node 7",
          "Node 8",
          "Node 9"
         ],
         "yaxis": "y"
        },
        {
         "alignmentgroup": "True",
         "base": [
          0.016968250274658203,
          0.017708778381347656,
          0.018462181091308594,
          0.019189834594726562,
          0.019925832748413086,
          0.020656108856201172,
          0.021389007568359375,
          0.022125244140625,
          0.02285170555114746,
          0.023604393005371094
         ],
         "hovertemplate": "Task=Iter 11<br>Start=%{base}<br>Finish=%{x}<br>Resource=%{y}<extra></extra>",
         "legendgroup": "Iter 11",
         "marker": {
          "color": "#EF553B",
          "pattern": {
           "shape": ""
          }
         },
         "name": "Iter 11",
         "offsetgroup": "Iter 11",
         "orientation": "h",
         "showlegend": true,
         "textposition": "auto",
         "type": "bar",
         "x": [
          0.000011920928955078125,
          0.000011444091796875,
          0.000011682510375976562,
          0.000011444091796875,
          0.0000133514404296875,
          0.000011205673217773438,
          0.000011205673217773438,
          0.000011205673217773438,
          0.000014066696166992188,
          0.0006761550903320312
         ],
         "xaxis": "x",
         "y": [
          "Node 0",
          "Node 1",
          "Node 2",
          "Node 3",
          "Node 4",
          "Node 5",
          "Node 6",
          "Node 7",
          "Node 8",
          "Node 9"
         ],
         "yaxis": "y"
        },
        {
         "alignmentgroup": "True",
         "base": [
          0.018472671508789062,
          0.01922297477722168,
          0.019967079162597656,
          0.020686864852905273,
          0.021421432495117188,
          0.022159337997436523,
          0.022884845733642578,
          0.023635149002075195,
          0.024367809295654297,
          0.025101423263549805
         ],
         "hovertemplate": "Task=Iter 12<br>Start=%{base}<br>Finish=%{x}<br>Resource=%{y}<extra></extra>",
         "legendgroup": "Iter 12",
         "marker": {
          "color": "#00cc96",
          "pattern": {
           "shape": ""
          }
         },
         "name": "Iter 12",
         "offsetgroup": "Iter 12",
         "orientation": "h",
         "showlegend": true,
         "textposition": "auto",
         "type": "bar",
         "x": [
          0.000011205673217773438,
          0.000010967254638671875,
          0.000011920928955078125,
          0.000011205673217773438,
          0.000011205673217773438,
          0.000010967254638671875,
          0.000025987625122070312,
          0.000010967254638671875,
          0.000011444091796875,
          0.00066375732421875
         ],
         "xaxis": "x",
         "y": [
          "Node 0",
          "Node 1",
          "Node 2",
          "Node 3",
          "Node 4",
          "Node 5",
          "Node 6",
          "Node 7",
          "Node 8",
          "Node 9"
         ],
         "yaxis": "y"
        },
        {
         "alignmentgroup": "True",
         "base": [
          0.01997828483581543,
          0.020722389221191406,
          0.021471023559570312,
          0.02219986915588379,
          0.02293682098388672,
          0.02366495132446289,
          0.024393081665039062,
          0.025136947631835938,
          0.025864124298095703,
          0.026604175567626953
         ],
         "hovertemplate": "Task=Iter 13<br>Start=%{base}<br>Finish=%{x}<br>Resource=%{y}<extra></extra>",
         "legendgroup": "Iter 13",
         "marker": {
          "color": "#ab63fa",
          "pattern": {
           "shape": ""
          }
         },
         "name": "Iter 13",
         "offsetgroup": "Iter 13",
         "orientation": "h",
         "showlegend": true,
         "textposition": "auto",
         "type": "bar",
         "x": [
          0.000011920928955078125,
          0.000011444091796875,
          0.000011682510375976562,
          0.000011444091796875,
          0.000010967254638671875,
          0.000011205673217773438,
          0.000011920928955078125,
          0.000011205673217773438,
          0.000011205673217773438,
          0.0006775856018066406
         ],
         "xaxis": "x",
         "y": [
          "Node 0",
          "Node 1",
          "Node 2",
          "Node 3",
          "Node 4",
          "Node 5",
          "Node 6",
          "Node 7",
          "Node 8",
          "Node 9"
         ],
         "yaxis": "y"
        },
        {
         "alignmentgroup": "True",
         "base": [
          0.02148151397705078,
          0.022234439849853516,
          0.022984027862548828,
          0.02370905876159668,
          0.02444314956665039,
          0.025176525115966797,
          0.025907516479492188,
          0.026639699935913086,
          0.027372360229492188,
          0.028105735778808594
         ],
         "hovertemplate": "Task=Iter 14<br>Start=%{base}<br>Finish=%{x}<br>Resource=%{y}<extra></extra>",
         "legendgroup": "Iter 14",
         "marker": {
          "color": "#FFA15A",
          "pattern": {
           "shape": ""
          }
         },
         "name": "Iter 14",
         "offsetgroup": "Iter 14",
         "orientation": "h",
         "showlegend": true,
         "textposition": "auto",
         "type": "bar",
         "x": [
          0.00001239776611328125,
          0.000011920928955078125,
          0.00001239776611328125,
          0.000010967254638671875,
          0.000011205673217773438,
          0.000010967254638671875,
          0.000011444091796875,
          0.000010967254638671875,
          0.000011444091796875,
          0.0006639957427978516
         ],
         "xaxis": "x",
         "y": [
          "Node 0",
          "Node 1",
          "Node 2",
          "Node 3",
          "Node 4",
          "Node 5",
          "Node 6",
          "Node 7",
          "Node 8",
          "Node 9"
         ],
         "yaxis": "y"
        },
        {
         "alignmentgroup": "True",
         "base": [
          0.022993803024291992,
          0.023739337921142578,
          0.02447962760925293,
          0.0252077579498291,
          0.025939464569091797,
          0.026665449142456055,
          0.027395009994506836,
          0.02813267707824707,
          0.028859853744506836,
          0.029593944549560547
         ],
         "hovertemplate": "Task=Iter 15<br>Start=%{base}<br>Finish=%{x}<br>Resource=%{y}<extra></extra>",
         "legendgroup": "Iter 15",
         "marker": {
          "color": "#19d3f3",
          "pattern": {
           "shape": ""
          }
         },
         "name": "Iter 15",
         "offsetgroup": "Iter 15",
         "orientation": "h",
         "showlegend": true,
         "textposition": "auto",
         "type": "bar",
         "x": [
          0.000012874603271484375,
          0.000011205673217773438,
          0.000011444091796875,
          0.000011682510375976562,
          0.000011205673217773438,
          0.000010967254638671875,
          0.000011444091796875,
          0.000011205673217773438,
          0.000011205673217773438,
          0.0006754398345947266
         ],
         "xaxis": "x",
         "y": [
          "Node 0",
          "Node 1",
          "Node 2",
          "Node 3",
          "Node 4",
          "Node 5",
          "Node 6",
          "Node 7",
          "Node 8",
          "Node 9"
         ],
         "yaxis": "y"
        },
        {
         "alignmentgroup": "True",
         "base": [
          0.024489879608154297,
          0.02524566650390625,
          0.025989532470703125,
          0.026712894439697266,
          0.027445316314697266,
          0.02817559242248535,
          0.02890777587890625,
          0.029642581939697266,
          0.03037548065185547,
          0.03111124038696289
         ],
         "hovertemplate": "Task=Iter 16<br>Start=%{base}<br>Finish=%{x}<br>Resource=%{y}<extra></extra>",
         "legendgroup": "Iter 16",
         "marker": {
          "color": "#FF6692",
          "pattern": {
           "shape": ""
          }
         },
         "name": "Iter 16",
         "offsetgroup": "Iter 16",
         "orientation": "h",
         "showlegend": true,
         "textposition": "auto",
         "type": "bar",
         "x": [
          0.000011682510375976562,
          0.000011205673217773438,
          0.000011205673217773438,
          0.000011682510375976562,
          0.000011205673217773438,
          0.000010967254638671875,
          0.000011205673217773438,
          0.000010967254638671875,
          0.000011205673217773438,
          0.0006644725799560547
         ],
         "xaxis": "x",
         "y": [
          "Node 0",
          "Node 1",
          "Node 2",
          "Node 3",
          "Node 4",
          "Node 5",
          "Node 6",
          "Node 7",
          "Node 8",
          "Node 9"
         ],
         "yaxis": "y"
        },
        {
         "alignmentgroup": "True",
         "base": [
          0.025999069213867188,
          0.026735544204711914,
          0.02747321128845215,
          0.028200387954711914,
          0.028935670852661133,
          0.02966141700744629,
          0.030395030975341797,
          0.031131982803344727,
          0.03186464309692383,
          0.032602548599243164
         ],
         "hovertemplate": "Task=Iter 17<br>Start=%{base}<br>Finish=%{x}<br>Resource=%{y}<extra></extra>",
         "legendgroup": "Iter 17",
         "marker": {
          "color": "#B6E880",
          "pattern": {
           "shape": ""
          }
         },
         "name": "Iter 17",
         "offsetgroup": "Iter 17",
         "orientation": "h",
         "showlegend": true,
         "textposition": "auto",
         "type": "bar",
         "x": [
          0.000011444091796875,
          0.000011205673217773438,
          0.000011444091796875,
          0.000011205673217773438,
          0.000011205673217773438,
          0.000011205673217773438,
          0.000011205673217773438,
          0.000011205673217773438,
          0.000011205673217773438,
          0.0006725788116455078
         ],
         "xaxis": "x",
         "y": [
          "Node 0",
          "Node 1",
          "Node 2",
          "Node 3",
          "Node 4",
          "Node 5",
          "Node 6",
          "Node 7",
          "Node 8",
          "Node 9"
         ],
         "yaxis": "y"
        },
        {
         "alignmentgroup": "True",
         "base": [
          0.027482271194458008,
          0.02823162078857422,
          0.02896857261657715,
          0.029689311981201172,
          0.03042316436767578,
          0.031159639358520508,
          0.03188323974609375,
          0.03262042999267578,
          0.03335928916931152,
          0.03413796424865723
         ],
         "hovertemplate": "Task=Iter 18<br>Start=%{base}<br>Finish=%{x}<br>Resource=%{y}<extra></extra>",
         "legendgroup": "Iter 18",
         "marker": {
          "color": "#FF97FF",
          "pattern": {
           "shape": ""
          }
         },
         "name": "Iter 18",
         "offsetgroup": "Iter 18",
         "orientation": "h",
         "showlegend": true,
         "textposition": "auto",
         "type": "bar",
         "x": [
          0.000011444091796875,
          0.000011444091796875,
          0.000011444091796875,
          0.000010967254638671875,
          0.000010967254638671875,
          0.000010967254638671875,
          0.000011205673217773438,
          0.000010967254638671875,
          0.000012636184692382812,
          0.0006654262542724609
         ],
         "xaxis": "x",
         "y": [
          "Node 0",
          "Node 1",
          "Node 2",
          "Node 3",
          "Node 4",
          "Node 5",
          "Node 6",
          "Node 7",
          "Node 8",
          "Node 9"
         ],
         "yaxis": "y"
        },
        {
         "alignmentgroup": "True",
         "base": [
          0.028978824615478516,
          0.029717445373535156,
          0.030450820922851562,
          0.031184911727905273,
          0.031923532485961914,
          0.03265523910522461,
          0.033385515213012695,
          0.03415226936340332,
          0.034883975982666016,
          0.035625457763671875
         ],
         "hovertemplate": "Task=Iter 19<br>Start=%{base}<br>Finish=%{x}<br>Resource=%{y}<extra></extra>",
         "legendgroup": "Iter 19",
         "marker": {
          "color": "#FECB52",
          "pattern": {
           "shape": ""
          }
         },
         "name": "Iter 19",
         "offsetgroup": "Iter 19",
         "orientation": "h",
         "showlegend": true,
         "textposition": "auto",
         "type": "bar",
         "x": [
          0.000012159347534179688,
          0.000010967254638671875,
          0.000011444091796875,
          0.000011205673217773438,
          0.000011205673217773438,
          0.000010967254638671875,
          0.000011205673217773438,
          0.000011205673217773438,
          0.000012159347534179688,
          0.0006721019744873047
         ],
         "xaxis": "x",
         "y": [
          "Node 0",
          "Node 1",
          "Node 2",
          "Node 3",
          "Node 4",
          "Node 5",
          "Node 6",
          "Node 7",
          "Node 8",
          "Node 9"
         ],
         "yaxis": "y"
        },
        {
         "alignmentgroup": "True",
         "base": [
          0.030460357666015625,
          0.031207799911499023,
          0.03194904327392578,
          0.03267335891723633,
          0.03341388702392578,
          0.03415393829345703,
          0.034906625747680664,
          0.03564167022705078,
          0.03638458251953125,
          0.03713536262512207
         ],
         "hovertemplate": "Task=Iter 20<br>Start=%{base}<br>Finish=%{x}<br>Resource=%{y}<extra></extra>",
         "legendgroup": "Iter 20",
         "marker": {
          "color": "#636efa",
          "pattern": {
           "shape": ""
          }
         },
         "name": "Iter 20",
         "offsetgroup": "Iter 20",
         "orientation": "h",
         "showlegend": true,
         "textposition": "auto",
         "type": "bar",
         "x": [
          0.000012874603271484375,
          0.000012159347534179688,
          0.000011920928955078125,
          0.000012159347534179688,
          0.00001239776611328125,
          0.000011682510375976562,
          0.000012159347534179688,
          0.000011920928955078125,
          0.000012874603271484375,
          0.0006642341613769531
         ],
         "xaxis": "x",
         "y": [
          "Node 0",
          "Node 1",
          "Node 2",
          "Node 3",
          "Node 4",
          "Node 5",
          "Node 6",
          "Node 7",
          "Node 8",
          "Node 9"
         ],
         "yaxis": "y"
        },
        {
         "alignmentgroup": "True",
         "base": [
          0.03195929527282715,
          0.032698631286621094,
          0.03343534469604492,
          0.03417205810546875,
          0.03490877151489258,
          0.03565359115600586,
          0.036400794982910156,
          0.03715205192565918,
          0.03788256645202637,
          0.03861689567565918
         ],
         "hovertemplate": "Task=Iter 21<br>Start=%{base}<br>Finish=%{x}<br>Resource=%{y}<extra></extra>",
         "legendgroup": "Iter 21",
         "marker": {
          "color": "#EF553B",
          "pattern": {
           "shape": ""
          }
         },
         "name": "Iter 21",
         "offsetgroup": "Iter 21",
         "orientation": "h",
         "showlegend": true,
         "textposition": "auto",
         "type": "bar",
         "x": [
          0.000012159347534179688,
          0.000011205673217773438,
          0.000011682510375976562,
          0.00001239776611328125,
          0.000011444091796875,
          0.000011205673217773438,
          0.000011205673217773438,
          0.000011205673217773438,
          0.000011205673217773438,
          0.0006721019744873047
         ],
         "xaxis": "x",
         "y": [
          "Node 0",
          "Node 1",
          "Node 2",
          "Node 3",
          "Node 4",
          "Node 5",
          "Node 6",
          "Node 7",
          "Node 8",
          "Node 9"
         ],
         "yaxis": "y"
        },
        {
         "alignmentgroup": "True",
         "base": [
          0.03344535827636719,
          0.034195899963378906,
          0.03493475914001465,
          0.03565526008605957,
          0.03640317916870117,
          0.037154436111450195,
          0.0379033088684082,
          0.03863382339477539,
          0.03936600685119629,
          0.04010605812072754
         ],
         "hovertemplate": "Task=Iter 22<br>Start=%{base}<br>Finish=%{x}<br>Resource=%{y}<extra></extra>",
         "legendgroup": "Iter 22",
         "marker": {
          "color": "#00cc96",
          "pattern": {
           "shape": ""
          }
         },
         "name": "Iter 22",
         "offsetgroup": "Iter 22",
         "orientation": "h",
         "showlegend": true,
         "textposition": "auto",
         "type": "bar",
         "x": [
          0.000012159347534179688,
          0.000010967254638671875,
          0.000011205673217773438,
          0.000011682510375976562,
          0.000011444091796875,
          0.000011205673217773438,
          0.000011205673217773438,
          0.000011444091796875,
          0.000011205673217773438,
          0.0006642341613769531
         ],
         "xaxis": "x",
         "y": [
          "Node 0",
          "Node 1",
          "Node 2",
          "Node 3",
          "Node 4",
          "Node 5",
          "Node 6",
          "Node 7",
          "Node 8",
          "Node 9"
         ],
         "yaxis": "y"
        },
        {
         "alignmentgroup": "True",
         "base": [
          0.03494620323181152,
          0.03568577766418457,
          0.0364227294921875,
          0.037154197692871094,
          0.03789353370666504,
          0.03864789009094238,
          0.0393824577331543,
          0.04012298583984375,
          0.04085493087768555,
          0.04178428649902344
         ],
         "hovertemplate": "Task=Iter 23<br>Start=%{base}<br>Finish=%{x}<br>Resource=%{y}<extra></extra>",
         "legendgroup": "Iter 23",
         "marker": {
          "color": "#ab63fa",
          "pattern": {
           "shape": ""
          }
         },
         "name": "Iter 23",
         "offsetgroup": "Iter 23",
         "orientation": "h",
         "showlegend": true,
         "textposition": "auto",
         "type": "bar",
         "x": [
          0.000011444091796875,
          0.000010967254638671875,
          0.000011682510375976562,
          0.000011205673217773438,
          0.0000171661376953125,
          0.000011205673217773438,
          0.000011205673217773438,
          0.000010967254638671875,
          0.0000152587890625,
          0.0007441043853759766
         ],
         "xaxis": "x",
         "y": [
          "Node 0",
          "Node 1",
          "Node 2",
          "Node 3",
          "Node 4",
          "Node 5",
          "Node 6",
          "Node 7",
          "Node 8",
          "Node 9"
         ],
         "yaxis": "y"
        },
        {
         "alignmentgroup": "True",
         "base": [
          0.03643178939819336,
          0.037178754806518555,
          0.03791379928588867,
          0.03864336013793945,
          0.039394378662109375,
          0.04013705253601074,
          0.04097318649291992,
          0.04179263114929199,
          0.042577505111694336,
          0.04333305358886719
         ],
         "hovertemplate": "Task=Iter 24<br>Start=%{base}<br>Finish=%{x}<br>Resource=%{y}<extra></extra>",
         "legendgroup": "Iter 24",
         "marker": {
          "color": "#FFA15A",
          "pattern": {
           "shape": ""
          }
         },
         "name": "Iter 24",
         "offsetgroup": "Iter 24",
         "orientation": "h",
         "showlegend": true,
         "textposition": "auto",
         "type": "bar",
         "x": [
          0.000011444091796875,
          0.000011205673217773438,
          0.000011444091796875,
          0.000010967254638671875,
          0.000011205673217773438,
          0.0000133514404296875,
          0.000015020370483398438,
          0.000010728836059570312,
          0.00001239776611328125,
          0.0006761550903320312
         ],
         "xaxis": "x",
         "y": [
          "Node 0",
          "Node 1",
          "Node 2",
          "Node 3",
          "Node 4",
          "Node 5",
          "Node 6",
          "Node 7",
          "Node 8",
          "Node 9"
         ],
         "yaxis": "y"
        },
        {
         "alignmentgroup": "True",
         "base": [
          0.03792285919189453,
          0.038666486740112305,
          0.03939986228942871,
          0.04014253616333008,
          0.0409855842590332,
          0.04173111915588379,
          0.0425412654876709,
          0.043348073959350586,
          0.044083356857299805,
          0.04481148719787598
         ],
         "hovertemplate": "Task=Iter 25<br>Start=%{base}<br>Finish=%{x}<br>Resource=%{y}<extra></extra>",
         "legendgroup": "Iter 25",
         "marker": {
          "color": "#19d3f3",
          "pattern": {
           "shape": ""
          }
         },
         "name": "Iter 25",
         "offsetgroup": "Iter 25",
         "orientation": "h",
         "showlegend": true,
         "textposition": "auto",
         "type": "bar",
         "x": [
          0.000012159347534179688,
          0.000011205673217773438,
          0.000011444091796875,
          0.000011205673217773438,
          0.000010967254638671875,
          0.000012159347534179688,
          0.000011682510375976562,
          0.000010728836059570312,
          0.000011444091796875,
          0.00067138671875
         ],
         "xaxis": "x",
         "y": [
          "Node 0",
          "Node 1",
          "Node 2",
          "Node 3",
          "Node 4",
          "Node 5",
          "Node 6",
          "Node 7",
          "Node 8",
          "Node 9"
         ],
         "yaxis": "y"
        },
        {
         "alignmentgroup": "True",
         "base": [
          0.03940868377685547,
          0.040158987045288086,
          0.040941476821899414,
          0.041727542877197266,
          0.042481422424316406,
          0.04329562187194824,
          0.044097900390625,
          0.044829368591308594,
          0.04556608200073242,
          0.04630088806152344
         ],
         "hovertemplate": "Task=Iter 26<br>Start=%{base}<br>Finish=%{x}<br>Resource=%{y}<extra></extra>",
         "legendgroup": "Iter 26",
         "marker": {
          "color": "#FF6692",
          "pattern": {
           "shape": ""
          }
         },
         "name": "Iter 26",
         "offsetgroup": "Iter 26",
         "orientation": "h",
         "showlegend": true,
         "textposition": "auto",
         "type": "bar",
         "x": [
          0.000011682510375976562,
          0.00001430511474609375,
          0.000011444091796875,
          0.000011444091796875,
          0.000011682510375976562,
          0.000011205673217773438,
          0.000011205673217773438,
          0.000010967254638671875,
          0.000011444091796875,
          0.0006787776947021484
         ],
         "xaxis": "x",
         "y": [
          "Node 0",
          "Node 1",
          "Node 2",
          "Node 3",
          "Node 4",
          "Node 5",
          "Node 6",
          "Node 7",
          "Node 8",
          "Node 9"
         ],
         "yaxis": "y"
        },
        {
         "alignmentgroup": "True",
         "base": [
          0.04095172882080078,
          0.04169464111328125,
          0.042479753494262695,
          0.043236732482910156,
          0.04405331611633301,
          0.04483675956726074,
          0.04558277130126953,
          0.04631829261779785,
          0.04706168174743652,
          0.04778599739074707
         ],
         "hovertemplate": "Task=Iter 27<br>Start=%{base}<br>Finish=%{x}<br>Resource=%{y}<extra></extra>",
         "legendgroup": "Iter 27",
         "marker": {
          "color": "#B6E880",
          "pattern": {
           "shape": ""
          }
         },
         "name": "Iter 27",
         "offsetgroup": "Iter 27",
         "orientation": "h",
         "showlegend": true,
         "textposition": "auto",
         "type": "bar",
         "x": [
          0.000011205673217773438,
          0.000011920928955078125,
          0.000011444091796875,
          0.000011205673217773438,
          0.000011682510375976562,
          0.000011205673217773438,
          0.000011444091796875,
          0.000011205673217773438,
          0.000011205673217773438,
          0.0006778240203857422
         ],
         "xaxis": "x",
         "y": [
          "Node 0",
          "Node 1",
          "Node 2",
          "Node 3",
          "Node 4",
          "Node 5",
          "Node 6",
          "Node 7",
          "Node 8",
          "Node 9"
         ],
         "yaxis": "y"
        },
        {
         "alignmentgroup": "True",
         "base": [
          0.04245495796203613,
          0.04323267936706543,
          0.04398989677429199,
          0.04479384422302246,
          0.04558420181274414,
          0.04633188247680664,
          0.04707670211791992,
          0.0478062629699707,
          0.04854774475097656,
          0.0492856502532959
         ],
         "hovertemplate": "Task=Iter 28<br>Start=%{base}<br>Finish=%{x}<br>Resource=%{y}<extra></extra>",
         "legendgroup": "Iter 28",
         "marker": {
          "color": "#FF97FF",
          "pattern": {
           "shape": ""
          }
         },
         "name": "Iter 28",
         "offsetgroup": "Iter 28",
         "orientation": "h",
         "showlegend": true,
         "textposition": "auto",
         "type": "bar",
         "x": [
          0.000010967254638671875,
          0.000011682510375976562,
          0.000011444091796875,
          0.000011205673217773438,
          0.000011205673217773438,
          0.000010967254638671875,
          0.000011682510375976562,
          0.000011444091796875,
          0.000011920928955078125,
          0.0006728172302246094
         ],
         "xaxis": "x",
         "y": [
          "Node 0",
          "Node 1",
          "Node 2",
          "Node 3",
          "Node 4",
          "Node 5",
          "Node 6",
          "Node 7",
          "Node 8",
          "Node 9"
         ],
         "yaxis": "y"
        },
        {
         "alignmentgroup": "True",
         "base": [
          0.043985843658447266,
          0.04472708702087402,
          0.045539140701293945,
          0.046338796615600586,
          0.0470883846282959,
          0.0478215217590332,
          0.04856371879577637,
          0.04930305480957031,
          0.05004692077636719,
          0.050772666931152344
         ],
         "hovertemplate": "Task=Iter 29<br>Start=%{base}<br>Finish=%{x}<br>Resource=%{y}<extra></extra>",
         "legendgroup": "Iter 29",
         "marker": {
          "color": "#FECB52",
          "pattern": {
           "shape": ""
          }
         },
         "name": "Iter 29",
         "offsetgroup": "Iter 29",
         "orientation": "h",
         "showlegend": true,
         "textposition": "auto",
         "type": "bar",
         "x": [
          0.000011444091796875,
          0.000011444091796875,
          0.000011682510375976562,
          0.000011205673217773438,
          0.000011205673217773438,
          0.000010967254638671875,
          0.000010967254638671875,
          0.000010967254638671875,
          0.000011444091796875,
          0.0006763935089111328
         ],
         "xaxis": "x",
         "y": [
          "Node 0",
          "Node 1",
          "Node 2",
          "Node 3",
          "Node 4",
          "Node 5",
          "Node 6",
          "Node 7",
          "Node 8",
          "Node 9"
         ],
         "yaxis": "y"
        },
        {
         "alignmentgroup": "True",
         "base": [
          0.04548168182373047,
          0.04628777503967285,
          0.0470890998840332,
          0.04783225059509277,
          0.04857325553894043,
          0.049311161041259766,
          0.05006217956542969,
          0.05079007148742676,
          0.05152487754821777,
          0.05226588249206543
         ],
         "hovertemplate": "Task=Iter 30<br>Start=%{base}<br>Finish=%{x}<br>Resource=%{y}<extra></extra>",
         "legendgroup": "Iter 30",
         "marker": {
          "color": "#636efa",
          "pattern": {
           "shape": ""
          }
         },
         "name": "Iter 30",
         "offsetgroup": "Iter 30",
         "orientation": "h",
         "showlegend": true,
         "textposition": "auto",
         "type": "bar",
         "x": [
          0.000011205673217773438,
          0.000011444091796875,
          0.000011444091796875,
          0.000012159347534179688,
          0.000011444091796875,
          0.000010728836059570312,
          0.000011444091796875,
          0.000010728836059570312,
          0.000011205673217773438,
          0.0006704330444335938
         ],
         "xaxis": "x",
         "y": [
          "Node 0",
          "Node 1",
          "Node 2",
          "Node 3",
          "Node 4",
          "Node 5",
          "Node 6",
          "Node 7",
          "Node 8",
          "Node 9"
         ],
         "yaxis": "y"
        },
        {
         "alignmentgroup": "True",
         "base": [
          0.04703783988952637,
          0.047820091247558594,
          0.04858088493347168,
          0.04932880401611328,
          0.05006909370422363,
          0.05080413818359375,
          0.05154061317443848,
          0.05228304862976074,
          0.05301928520202637,
          0.05374407768249512
         ],
         "hovertemplate": "Task=Iter 31<br>Start=%{base}<br>Finish=%{x}<br>Resource=%{y}<extra></extra>",
         "legendgroup": "Iter 31",
         "marker": {
          "color": "#EF553B",
          "pattern": {
           "shape": ""
          }
         },
         "name": "Iter 31",
         "offsetgroup": "Iter 31",
         "orientation": "h",
         "showlegend": true,
         "textposition": "auto",
         "type": "bar",
         "x": [
          0.000011205673217773438,
          0.000011205673217773438,
          0.000011205673217773438,
          0.000011205673217773438,
          0.000011920928955078125,
          0.000010967254638671875,
          0.000010967254638671875,
          0.000010967254638671875,
          0.000010967254638671875,
          0.0006697177886962891
         ],
         "xaxis": "x",
         "y": [
          "Node 0",
          "Node 1",
          "Node 2",
          "Node 3",
          "Node 4",
          "Node 5",
          "Node 6",
          "Node 7",
          "Node 8",
          "Node 9"
         ],
         "yaxis": "y"
        },
        {
         "alignmentgroup": "True",
         "base": [
          0.048569440841674805,
          0.049344778060913086,
          0.050084590911865234,
          0.050811052322387695,
          0.05155539512634277,
          0.05229067802429199,
          0.053034305572509766,
          0.05376100540161133,
          0.05449509620666504,
          0.05522727966308594
         ],
         "hovertemplate": "Task=Iter 32<br>Start=%{base}<br>Finish=%{x}<br>Resource=%{y}<extra></extra>",
         "legendgroup": "Iter 32",
         "marker": {
          "color": "#00cc96",
          "pattern": {
           "shape": ""
          }
         },
         "name": "Iter 32",
         "offsetgroup": "Iter 32",
         "orientation": "h",
         "showlegend": true,
         "textposition": "auto",
         "type": "bar",
         "x": [
          0.000011444091796875,
          0.000010967254638671875,
          0.000012159347534179688,
          0.000011444091796875,
          0.000011682510375976562,
          0.000010967254638671875,
          0.000011444091796875,
          0.000010728836059570312,
          0.000010967254638671875,
          0.0006666183471679688
         ],
         "xaxis": "x",
         "y": [
          "Node 0",
          "Node 1",
          "Node 2",
          "Node 3",
          "Node 4",
          "Node 5",
          "Node 6",
          "Node 7",
          "Node 8",
          "Node 9"
         ],
         "yaxis": "y"
        },
        {
         "alignmentgroup": "True",
         "base": [
          0.0500941276550293,
          0.050832509994506836,
          0.05157017707824707,
          0.052308082580566406,
          0.053038597106933594,
          0.05377483367919922,
          0.054511308670043945,
          0.05524468421936035,
          0.05598282814025879,
          0.05670928955078125
         ],
         "hovertemplate": "Task=Iter 33<br>Start=%{base}<br>Finish=%{x}<br>Resource=%{y}<extra></extra>",
         "legendgroup": "Iter 33",
         "marker": {
          "color": "#ab63fa",
          "pattern": {
           "shape": ""
          }
         },
         "name": "Iter 33",
         "offsetgroup": "Iter 33",
         "orientation": "h",
         "showlegend": true,
         "textposition": "auto",
         "type": "bar",
         "x": [
          0.000011444091796875,
          0.000010967254638671875,
          0.000011205673217773438,
          0.000011682510375976562,
          0.000011205673217773438,
          0.000010967254638671875,
          0.000011205673217773438,
          0.000010967254638671875,
          0.000011205673217773438,
          0.0006773471832275391
         ],
         "xaxis": "x",
         "y": [
          "Node 0",
          "Node 1",
          "Node 2",
          "Node 3",
          "Node 4",
          "Node 5",
          "Node 6",
          "Node 7",
          "Node 8",
          "Node 9"
         ],
         "yaxis": "y"
        },
        {
         "alignmentgroup": "True",
         "base": [
          0.05158066749572754,
          0.05232667922973633,
          0.05306363105773926,
          0.05378127098083496,
          0.054525136947631836,
          0.05525970458984375,
          0.05599856376647949,
          0.056726694107055664,
          0.057457685470581055,
          0.05819249153137207
         ],
         "hovertemplate": "Task=Iter 34<br>Start=%{base}<br>Finish=%{x}<br>Resource=%{y}<extra></extra>",
         "legendgroup": "Iter 34",
         "marker": {
          "color": "#FFA15A",
          "pattern": {
           "shape": ""
          }
         },
         "name": "Iter 34",
         "offsetgroup": "Iter 34",
         "orientation": "h",
         "showlegend": true,
         "textposition": "auto",
         "type": "bar",
         "x": [
          0.000011205673217773438,
          0.000011205673217773438,
          0.000011444091796875,
          0.000011205673217773438,
          0.000010967254638671875,
          0.000011444091796875,
          0.000011444091796875,
          0.000010967254638671875,
          0.000010967254638671875,
          0.0006654262542724609
         ],
         "xaxis": "x",
         "y": [
          "Node 0",
          "Node 1",
          "Node 2",
          "Node 3",
          "Node 4",
          "Node 5",
          "Node 6",
          "Node 7",
          "Node 8",
          "Node 9"
         ],
         "yaxis": "y"
        },
        {
         "alignmentgroup": "True",
         "base": [
          0.05307412147521973,
          0.05380821228027344,
          0.05455136299133301,
          0.05527997016906738,
          0.056012868881225586,
          0.05674266815185547,
          0.05747365951538086,
          0.058210134506225586,
          0.0589447021484375,
          0.05966949462890625
         ],
         "hovertemplate": "Task=Iter 35<br>Start=%{base}<br>Finish=%{x}<br>Resource=%{y}<extra></extra>",
         "legendgroup": "Iter 35",
         "marker": {
          "color": "#19d3f3",
          "pattern": {
           "shape": ""
          }
         },
         "name": "Iter 35",
         "offsetgroup": "Iter 35",
         "orientation": "h",
         "showlegend": true,
         "textposition": "auto",
         "type": "bar",
         "x": [
          0.000011205673217773438,
          0.000011444091796875,
          0.000011682510375976562,
          0.000011444091796875,
          0.000011444091796875,
          0.000010967254638671875,
          0.000010967254638671875,
          0.000010967254638671875,
          0.000011205673217773438,
          0.0006721019744873047
         ],
         "xaxis": "x",
         "y": [
          "Node 0",
          "Node 1",
          "Node 2",
          "Node 3",
          "Node 4",
          "Node 5",
          "Node 6",
          "Node 7",
          "Node 8",
          "Node 9"
         ],
         "yaxis": "y"
        },
        {
         "alignmentgroup": "True",
         "base": [
          0.05456113815307617,
          0.05530357360839844,
          0.056043148040771484,
          0.056758880615234375,
          0.05749201774597168,
          0.05822110176086426,
          0.058960914611816406,
          0.05968666076660156,
          0.06042003631591797,
          0.06115460395812988
         ],
         "hovertemplate": "Task=Iter 36<br>Start=%{base}<br>Finish=%{x}<br>Resource=%{y}<extra></extra>",
         "legendgroup": "Iter 36",
         "marker": {
          "color": "#FF6692",
          "pattern": {
           "shape": ""
          }
         },
         "name": "Iter 36",
         "offsetgroup": "Iter 36",
         "orientation": "h",
         "showlegend": true,
         "textposition": "auto",
         "type": "bar",
         "x": [
          0.000011205673217773438,
          0.000011205673217773438,
          0.000010967254638671875,
          0.000011444091796875,
          0.000011444091796875,
          0.000011205673217773438,
          0.000011205673217773438,
          0.000010728836059570312,
          0.000010967254638671875,
          0.0006642341613769531
         ],
         "xaxis": "x",
         "y": [
          "Node 0",
          "Node 1",
          "Node 2",
          "Node 3",
          "Node 4",
          "Node 5",
          "Node 6",
          "Node 7",
          "Node 8",
          "Node 9"
         ],
         "yaxis": "y"
        },
        {
         "alignmentgroup": "True",
         "base": [
          0.056054115295410156,
          0.056792259216308594,
          0.05753636360168457,
          0.05825972557067871,
          0.05899238586425781,
          0.059717655181884766,
          0.06045103073120117,
          0.061188697814941406,
          0.06192374229431152,
          0.06264972686767578
         ],
         "hovertemplate": "Task=Iter 37<br>Start=%{base}<br>Finish=%{x}<br>Resource=%{y}<extra></extra>",
         "legendgroup": "Iter 37",
         "marker": {
          "color": "#B6E880",
          "pattern": {
           "shape": ""
          }
         },
         "name": "Iter 37",
         "offsetgroup": "Iter 37",
         "orientation": "h",
         "showlegend": true,
         "textposition": "auto",
         "type": "bar",
         "x": [
          0.000011682510375976562,
          0.000010967254638671875,
          0.000011205673217773438,
          0.000011205673217773438,
          0.000011920928955078125,
          0.000010728836059570312,
          0.000011205673217773438,
          0.000010967254638671875,
          0.000010967254638671875,
          0.0006728172302246094
         ],
         "xaxis": "x",
         "y": [
          "Node 0",
          "Node 1",
          "Node 2",
          "Node 3",
          "Node 4",
          "Node 5",
          "Node 6",
          "Node 7",
          "Node 8",
          "Node 9"
         ],
         "yaxis": "y"
        },
        {
         "alignmentgroup": "True",
         "base": [
          0.05754685401916504,
          0.0582890510559082,
          0.059027671813964844,
          0.059744834899902344,
          0.060476064682006836,
          0.06120562553405762,
          0.06194019317626953,
          0.0626671314239502,
          0.06339788436889648,
          0.06414556503295898
         ],
         "hovertemplate": "Task=Iter 38<br>Start=%{base}<br>Finish=%{x}<br>Resource=%{y}<extra></extra>",
         "legendgroup": "Iter 38",
         "marker": {
          "color": "#FF97FF",
          "pattern": {
           "shape": ""
          }
         },
         "name": "Iter 38",
         "offsetgroup": "Iter 38",
         "orientation": "h",
         "showlegend": true,
         "textposition": "auto",
         "type": "bar",
         "x": [
          0.000010967254638671875,
          0.000011205673217773438,
          0.000011205673217773438,
          0.000011205673217773438,
          0.000011205673217773438,
          0.000010967254638671875,
          0.000011205673217773438,
          0.000010728836059570312,
          0.000011205673217773438,
          0.0006749629974365234
         ],
         "xaxis": "x",
         "y": [
          "Node 0",
          "Node 1",
          "Node 2",
          "Node 3",
          "Node 4",
          "Node 5",
          "Node 6",
          "Node 7",
          "Node 8",
          "Node 9"
         ],
         "yaxis": "y"
        },
        {
         "alignmentgroup": "True",
         "base": [
          0.059038400650024414,
          0.059774160385131836,
          0.060515403747558594,
          0.06124234199523926,
          0.06197667121887207,
          0.06270051002502441,
          0.06343650817871094,
          0.06416845321655273,
          0.06490492820739746,
          0.06564164161682129
         ],
         "hovertemplate": "Task=Iter 39<br>Start=%{base}<br>Finish=%{x}<br>Resource=%{y}<extra></extra>",
         "legendgroup": "Iter 39",
         "marker": {
          "color": "#FECB52",
          "pattern": {
           "shape": ""
          }
         },
         "name": "Iter 39",
         "offsetgroup": "Iter 39",
         "orientation": "h",
         "showlegend": true,
         "textposition": "auto",
         "type": "bar",
         "x": [
          0.000011205673217773438,
          0.000010967254638671875,
          0.000011444091796875,
          0.000011444091796875,
          0.000011444091796875,
          0.000010967254638671875,
          0.000011205673217773438,
          0.000010967254638671875,
          0.000012874603271484375,
          0.0006742477416992188
         ],
         "xaxis": "x",
         "y": [
          "Node 0",
          "Node 1",
          "Node 2",
          "Node 3",
          "Node 4",
          "Node 5",
          "Node 6",
          "Node 7",
          "Node 8",
          "Node 9"
         ],
         "yaxis": "y"
        },
        {
         "alignmentgroup": "True",
         "base": [
          0.060524940490722656,
          0.06126832962036133,
          0.062005043029785156,
          0.06272172927856445,
          0.06345343589782715,
          0.06418323516845703,
          0.06492114067077637,
          0.0656585693359375,
          0.06638860702514648,
          0.0671226978302002
         ],
         "hovertemplate": "Task=Iter 40<br>Start=%{base}<br>Finish=%{x}<br>Resource=%{y}<extra></extra>",
         "legendgroup": "Iter 40",
         "marker": {
          "color": "#636efa",
          "pattern": {
           "shape": ""
          }
         },
         "name": "Iter 40",
         "offsetgroup": "Iter 40",
         "orientation": "h",
         "showlegend": true,
         "textposition": "auto",
         "type": "bar",
         "x": [
          0.000011205673217773438,
          0.000011205673217773438,
          0.000011205673217773438,
          0.000010967254638671875,
          0.000010967254638671875,
          0.000010967254638671875,
          0.000011444091796875,
          0.000010967254638671875,
          0.000011205673217773438,
          0.0006639957427978516
         ],
         "xaxis": "x",
         "y": [
          "Node 0",
          "Node 1",
          "Node 2",
          "Node 3",
          "Node 4",
          "Node 5",
          "Node 6",
          "Node 7",
          "Node 8",
          "Node 9"
         ],
         "yaxis": "y"
        },
        {
         "alignmentgroup": "True",
         "base": [
          0.06201505661010742,
          0.06275320053100586,
          0.06349420547485352,
          0.06421613693237305,
          0.06495141983032227,
          0.06567573547363281,
          0.06640458106994629,
          0.06713986396789551,
          0.06786513328552246,
          0.06860089302062988
         ],
         "hovertemplate": "Task=Iter 41<br>Start=%{base}<br>Finish=%{x}<br>Resource=%{y}<extra></extra>",
         "legendgroup": "Iter 41",
         "marker": {
          "color": "#EF553B",
          "pattern": {
           "shape": ""
          }
         },
         "name": "Iter 41",
         "offsetgroup": "Iter 41",
         "orientation": "h",
         "showlegend": true,
         "textposition": "auto",
         "type": "bar",
         "x": [
          0.000011205673217773438,
          0.000013589859008789062,
          0.000011444091796875,
          0.000011682510375976562,
          0.000012636184692382812,
          0.000010967254638671875,
          0.000011205673217773438,
          0.000010728836059570312,
          0.000011444091796875,
          0.0006699562072753906
         ],
         "xaxis": "x",
         "y": [
          "Node 0",
          "Node 1",
          "Node 2",
          "Node 3",
          "Node 4",
          "Node 5",
          "Node 6",
          "Node 7",
          "Node 8",
          "Node 9"
         ],
         "yaxis": "y"
        },
        {
         "alignmentgroup": "True",
         "base": [
          0.06350398063659668,
          0.06424617767333984,
          0.06498312950134277,
          0.06569957733154297,
          0.06642889976501465,
          0.06715869903564453,
          0.06788253784179688,
          0.0686182975769043,
          0.06934881210327148,
          0.07007575035095215
         ],
         "hovertemplate": "Task=Iter 42<br>Start=%{base}<br>Finish=%{x}<br>Resource=%{y}<extra></extra>",
         "legendgroup": "Iter 42",
         "marker": {
          "color": "#00cc96",
          "pattern": {
           "shape": ""
          }
         },
         "name": "Iter 42",
         "offsetgroup": "Iter 42",
         "orientation": "h",
         "showlegend": true,
         "textposition": "auto",
         "type": "bar",
         "x": [
          0.000011205673217773438,
          0.000011444091796875,
          0.000010967254638671875,
          0.000011205673217773438,
          0.000010967254638671875,
          0.000010967254638671875,
          0.000011205673217773438,
          0.000011205673217773438,
          0.000011205673217773438,
          0.0006601810455322266
         ],
         "xaxis": "x",
         "y": [
          "Node 0",
          "Node 1",
          "Node 2",
          "Node 3",
          "Node 4",
          "Node 5",
          "Node 6",
          "Node 7",
          "Node 8",
          "Node 9"
         ],
         "yaxis": "y"
        },
        {
         "alignmentgroup": "True",
         "base": [
          0.06499314308166504,
          0.06572866439819336,
          0.06646132469177246,
          0.06718301773071289,
          0.06791448593139648,
          0.06864118576049805,
          0.06937289237976074,
          0.07010316848754883,
          0.07082700729370117,
          0.07156014442443848
         ],
         "hovertemplate": "Task=Iter 43<br>Start=%{base}<br>Finish=%{x}<br>Resource=%{y}<extra></extra>",
         "legendgroup": "Iter 43",
         "marker": {
          "color": "#ab63fa",
          "pattern": {
           "shape": ""
          }
         },
         "name": "Iter 43",
         "offsetgroup": "Iter 43",
         "orientation": "h",
         "showlegend": true,
         "textposition": "auto",
         "type": "bar",
         "x": [
          0.000011205673217773438,
          0.000010967254638671875,
          0.000011205673217773438,
          0.000011205673217773438,
          0.000011444091796875,
          0.000010967254638671875,
          0.000010967254638671875,
          0.000010728836059570312,
          0.000011205673217773438,
          0.0006663799285888672
         ],
         "xaxis": "x",
         "y": [
          "Node 0",
          "Node 1",
          "Node 2",
          "Node 3",
          "Node 4",
          "Node 5",
          "Node 6",
          "Node 7",
          "Node 8",
          "Node 9"
         ],
         "yaxis": "y"
        },
        {
         "alignmentgroup": "True",
         "base": [
          0.06647109985351562,
          0.06721091270446777,
          0.06794548034667969,
          0.06866049766540527,
          0.06939196586608887,
          0.07012224197387695,
          0.07084298133850098,
          0.07157778739929199,
          0.07230496406555176,
          0.07303166389465332
         ],
         "hovertemplate": "Task=Iter 44<br>Start=%{base}<br>Finish=%{x}<br>Resource=%{y}<extra></extra>",
         "legendgroup": "Iter 44",
         "marker": {
          "color": "#FFA15A",
          "pattern": {
           "shape": ""
          }
         },
         "name": "Iter 44",
         "offsetgroup": "Iter 44",
         "orientation": "h",
         "showlegend": true,
         "textposition": "auto",
         "type": "bar",
         "x": [
          0.000011205673217773438,
          0.000011205673217773438,
          0.000011205673217773438,
          0.000011205673217773438,
          0.000011444091796875,
          0.000010967254638671875,
          0.000011205673217773438,
          0.000010967254638671875,
          0.000011444091796875,
          0.0006625652313232422
         ],
         "xaxis": "x",
         "y": [
          "Node 0",
          "Node 1",
          "Node 2",
          "Node 3",
          "Node 4",
          "Node 5",
          "Node 6",
          "Node 7",
          "Node 8",
          "Node 9"
         ],
         "yaxis": "y"
        },
        {
         "alignmentgroup": "True",
         "base": [
          0.06795525550842285,
          0.06869387626647949,
          0.0694270133972168,
          0.07015585899353027,
          0.07088232040405273,
          0.0716090202331543,
          0.07233786582946777,
          0.07307100296020508,
          0.0737917423248291,
          0.07452249526977539
         ],
         "hovertemplate": "Task=Iter 45<br>Start=%{base}<br>Finish=%{x}<br>Resource=%{y}<extra></extra>",
         "legendgroup": "Iter 45",
         "marker": {
          "color": "#19d3f3",
          "pattern": {
           "shape": ""
          }
         },
         "name": "Iter 45",
         "offsetgroup": "Iter 45",
         "orientation": "h",
         "showlegend": true,
         "textposition": "auto",
         "type": "bar",
         "x": [
          0.000011444091796875,
          0.000010967254638671875,
          0.000011205673217773438,
          0.000011444091796875,
          0.000010967254638671875,
          0.000010967254638671875,
          0.000011205673217773438,
          0.000010967254638671875,
          0.000010967254638671875,
          0.0006740093231201172
         ],
         "xaxis": "x",
         "y": [
          "Node 0",
          "Node 1",
          "Node 2",
          "Node 3",
          "Node 4",
          "Node 5",
          "Node 6",
          "Node 7",
          "Node 8",
          "Node 9"
         ],
         "yaxis": "y"
        },
        {
         "alignmentgroup": "True",
         "base": [
          0.06943702697753906,
          0.07018184661865234,
          0.07091546058654785,
          0.07163214683532715,
          0.07235980033874512,
          0.07308721542358398,
          0.07380890846252441,
          0.0745396614074707,
          0.0752718448638916,
          0.07599902153015137
         ],
         "hovertemplate": "Task=Iter 46<br>Start=%{base}<br>Finish=%{x}<br>Resource=%{y}<extra></extra>",
         "legendgroup": "Iter 46",
         "marker": {
          "color": "#FF6692",
          "pattern": {
           "shape": ""
          }
         },
         "name": "Iter 46",
         "offsetgroup": "Iter 46",
         "orientation": "h",
         "showlegend": true,
         "textposition": "auto",
         "type": "bar",
         "x": [
          0.000010967254638671875,
          0.000011205673217773438,
          0.000011205673217773438,
          0.000011205673217773438,
          0.000010967254638671875,
          0.000010728836059570312,
          0.000010967254638671875,
          0.000010728836059570312,
          0.000011205673217773438,
          0.0006635189056396484
         ],
         "xaxis": "x",
         "y": [
          "Node 0",
          "Node 1",
          "Node 2",
          "Node 3",
          "Node 4",
          "Node 5",
          "Node 6",
          "Node 7",
          "Node 8",
          "Node 9"
         ],
         "yaxis": "y"
        },
        {
         "alignmentgroup": "True",
         "base": [
          0.07092523574829102,
          0.07166337966918945,
          0.07239675521850586,
          0.07311844825744629,
          0.07383918762207031,
          0.07456755638122559,
          0.07529544830322266,
          0.07603311538696289,
          0.0767514705657959,
          0.0774848461151123
         ],
         "hovertemplate": "Task=Iter 47<br>Start=%{base}<br>Finish=%{x}<br>Resource=%{y}<extra></extra>",
         "legendgroup": "Iter 47",
         "marker": {
          "color": "#B6E880",
          "pattern": {
           "shape": ""
          }
         },
         "name": "Iter 47",
         "offsetgroup": "Iter 47",
         "orientation": "h",
         "showlegend": true,
         "textposition": "auto",
         "type": "bar",
         "x": [
          0.000011205673217773438,
          0.000010728836059570312,
          0.000011205673217773438,
          0.000010967254638671875,
          0.000010967254638671875,
          0.000010967254638671875,
          0.000011205673217773438,
          0.000010728836059570312,
          0.000010967254638671875,
          0.0006694793701171875
         ],
         "xaxis": "x",
         "y": [
          "Node 0",
          "Node 1",
          "Node 2",
          "Node 3",
          "Node 4",
          "Node 5",
          "Node 6",
          "Node 7",
          "Node 8",
          "Node 9"
         ],
         "yaxis": "y"
        },
        {
         "alignmentgroup": "True",
         "base": [
          0.07240653038024902,
          0.07315373420715332,
          0.07388138771057129,
          0.07461690902709961,
          0.07534289360046387,
          0.07606983184814453,
          0.07679128646850586,
          0.07752132415771484,
          0.07825469970703125,
          0.07898306846618652
         ],
         "hovertemplate": "Task=Iter 48<br>Start=%{base}<br>Finish=%{x}<br>Resource=%{y}<extra></extra>",
         "legendgroup": "Iter 48",
         "marker": {
          "color": "#FF97FF",
          "pattern": {
           "shape": ""
          }
         },
         "name": "Iter 48",
         "offsetgroup": "Iter 48",
         "orientation": "h",
         "showlegend": true,
         "textposition": "auto",
         "type": "bar",
         "x": [
          0.000010967254638671875,
          0.000011205673217773438,
          0.000011205673217773438,
          0.000011444091796875,
          0.000011444091796875,
          0.000010967254638671875,
          0.000010967254638671875,
          0.000010728836059570312,
          0.000010967254638671875,
          0.0006625652313232422
         ],
         "xaxis": "x",
         "y": [
          "Node 0",
          "Node 1",
          "Node 2",
          "Node 3",
          "Node 4",
          "Node 5",
          "Node 6",
          "Node 7",
          "Node 8",
          "Node 9"
         ],
         "yaxis": "y"
        },
        {
         "alignmentgroup": "True",
         "base": [
          0.07389140129089355,
          0.07463431358337402,
          0.07536816596984863,
          0.07609391212463379,
          0.07681584358215332,
          0.07754325866699219,
          0.07827210426330566,
          0.07900285720825195,
          0.07972550392150879,
          0.08046317100524902
         ],
         "hovertemplate": "Task=Iter 49<br>Start=%{base}<br>Finish=%{x}<br>Resource=%{y}<extra></extra>",
         "legendgroup": "Iter 49",
         "marker": {
          "color": "#FECB52",
          "pattern": {
           "shape": ""
          }
         },
         "name": "Iter 49",
         "offsetgroup": "Iter 49",
         "orientation": "h",
         "showlegend": true,
         "textposition": "auto",
         "type": "bar",
         "x": [
          0.000017642974853515625,
          0.000011444091796875,
          0.000011682510375976562,
          0.000011444091796875,
          0.000010967254638671875,
          0.000011444091796875,
          0.000011205673217773438,
          0.000010967254638671875,
          0.000010728836059570312,
          0.0006754398345947266
         ],
         "xaxis": "x",
         "y": [
          "Node 0",
          "Node 1",
          "Node 2",
          "Node 3",
          "Node 4",
          "Node 5",
          "Node 6",
          "Node 7",
          "Node 8",
          "Node 9"
         ],
         "yaxis": "y"
        },
        {
         "alignmentgroup": "True",
         "base": [
          0.0753774642944336,
          0.07611799240112305,
          0.07684326171875,
          0.07756686210632324,
          0.07829594612121582,
          0.0790262222290039,
          0.07974624633789062,
          0.08048129081726074,
          0.08120942115783691,
          0.08193778991699219
         ],
         "hovertemplate": "Task=Iter 50<br>Start=%{base}<br>Finish=%{x}<br>Resource=%{y}<extra></extra>",
         "legendgroup": "Iter 50",
         "marker": {
          "color": "#636efa",
          "pattern": {
           "shape": ""
          }
         },
         "name": "Iter 50",
         "offsetgroup": "Iter 50",
         "orientation": "h",
         "showlegend": true,
         "textposition": "auto",
         "type": "bar",
         "x": [
          0.000011205673217773438,
          0.000010967254638671875,
          0.000011444091796875,
          0.000010967254638671875,
          0.000011205673217773438,
          0.000011444091796875,
          0.000011205673217773438,
          0.000010967254638671875,
          0.000011444091796875,
          0.0006613731384277344
         ],
         "xaxis": "x",
         "y": [
          "Node 0",
          "Node 1",
          "Node 2",
          "Node 3",
          "Node 4",
          "Node 5",
          "Node 6",
          "Node 7",
          "Node 8",
          "Node 9"
         ],
         "yaxis": "y"
        }
       ],
       "layout": {
        "barmode": "overlay",
        "legend": {
         "title": {
          "text": "Task"
         },
         "tracegroupgap": 0
        },
        "margin": {
         "t": 60
        },
        "template": {
         "data": {
          "bar": [
           {
            "error_x": {
             "color": "#2a3f5f"
            },
            "error_y": {
             "color": "#2a3f5f"
            },
            "marker": {
             "line": {
              "color": "#E5ECF6",
              "width": 0.5
             },
             "pattern": {
              "fillmode": "overlay",
              "size": 10,
              "solidity": 0.2
             }
            },
            "type": "bar"
           }
          ],
          "barpolar": [
           {
            "marker": {
             "line": {
              "color": "#E5ECF6",
              "width": 0.5
             },
             "pattern": {
              "fillmode": "overlay",
              "size": 10,
              "solidity": 0.2
             }
            },
            "type": "barpolar"
           }
          ],
          "carpet": [
           {
            "aaxis": {
             "endlinecolor": "#2a3f5f",
             "gridcolor": "white",
             "linecolor": "white",
             "minorgridcolor": "white",
             "startlinecolor": "#2a3f5f"
            },
            "baxis": {
             "endlinecolor": "#2a3f5f",
             "gridcolor": "white",
             "linecolor": "white",
             "minorgridcolor": "white",
             "startlinecolor": "#2a3f5f"
            },
            "type": "carpet"
           }
          ],
          "choropleth": [
           {
            "colorbar": {
             "outlinewidth": 0,
             "ticks": ""
            },
            "type": "choropleth"
           }
          ],
          "contour": [
           {
            "colorbar": {
             "outlinewidth": 0,
             "ticks": ""
            },
            "colorscale": [
             [
              0,
              "#0d0887"
             ],
             [
              0.1111111111111111,
              "#46039f"
             ],
             [
              0.2222222222222222,
              "#7201a8"
             ],
             [
              0.3333333333333333,
              "#9c179e"
             ],
             [
              0.4444444444444444,
              "#bd3786"
             ],
             [
              0.5555555555555556,
              "#d8576b"
             ],
             [
              0.6666666666666666,
              "#ed7953"
             ],
             [
              0.7777777777777778,
              "#fb9f3a"
             ],
             [
              0.8888888888888888,
              "#fdca26"
             ],
             [
              1,
              "#f0f921"
             ]
            ],
            "type": "contour"
           }
          ],
          "contourcarpet": [
           {
            "colorbar": {
             "outlinewidth": 0,
             "ticks": ""
            },
            "type": "contourcarpet"
           }
          ],
          "heatmap": [
           {
            "colorbar": {
             "outlinewidth": 0,
             "ticks": ""
            },
            "colorscale": [
             [
              0,
              "#0d0887"
             ],
             [
              0.1111111111111111,
              "#46039f"
             ],
             [
              0.2222222222222222,
              "#7201a8"
             ],
             [
              0.3333333333333333,
              "#9c179e"
             ],
             [
              0.4444444444444444,
              "#bd3786"
             ],
             [
              0.5555555555555556,
              "#d8576b"
             ],
             [
              0.6666666666666666,
              "#ed7953"
             ],
             [
              0.7777777777777778,
              "#fb9f3a"
             ],
             [
              0.8888888888888888,
              "#fdca26"
             ],
             [
              1,
              "#f0f921"
             ]
            ],
            "type": "heatmap"
           }
          ],
          "heatmapgl": [
           {
            "colorbar": {
             "outlinewidth": 0,
             "ticks": ""
            },
            "colorscale": [
             [
              0,
              "#0d0887"
             ],
             [
              0.1111111111111111,
              "#46039f"
             ],
             [
              0.2222222222222222,
              "#7201a8"
             ],
             [
              0.3333333333333333,
              "#9c179e"
             ],
             [
              0.4444444444444444,
              "#bd3786"
             ],
             [
              0.5555555555555556,
              "#d8576b"
             ],
             [
              0.6666666666666666,
              "#ed7953"
             ],
             [
              0.7777777777777778,
              "#fb9f3a"
             ],
             [
              0.8888888888888888,
              "#fdca26"
             ],
             [
              1,
              "#f0f921"
             ]
            ],
            "type": "heatmapgl"
           }
          ],
          "histogram": [
           {
            "marker": {
             "pattern": {
              "fillmode": "overlay",
              "size": 10,
              "solidity": 0.2
             }
            },
            "type": "histogram"
           }
          ],
          "histogram2d": [
           {
            "colorbar": {
             "outlinewidth": 0,
             "ticks": ""
            },
            "colorscale": [
             [
              0,
              "#0d0887"
             ],
             [
              0.1111111111111111,
              "#46039f"
             ],
             [
              0.2222222222222222,
              "#7201a8"
             ],
             [
              0.3333333333333333,
              "#9c179e"
             ],
             [
              0.4444444444444444,
              "#bd3786"
             ],
             [
              0.5555555555555556,
              "#d8576b"
             ],
             [
              0.6666666666666666,
              "#ed7953"
             ],
             [
              0.7777777777777778,
              "#fb9f3a"
             ],
             [
              0.8888888888888888,
              "#fdca26"
             ],
             [
              1,
              "#f0f921"
             ]
            ],
            "type": "histogram2d"
           }
          ],
          "histogram2dcontour": [
           {
            "colorbar": {
             "outlinewidth": 0,
             "ticks": ""
            },
            "colorscale": [
             [
              0,
              "#0d0887"
             ],
             [
              0.1111111111111111,
              "#46039f"
             ],
             [
              0.2222222222222222,
              "#7201a8"
             ],
             [
              0.3333333333333333,
              "#9c179e"
             ],
             [
              0.4444444444444444,
              "#bd3786"
             ],
             [
              0.5555555555555556,
              "#d8576b"
             ],
             [
              0.6666666666666666,
              "#ed7953"
             ],
             [
              0.7777777777777778,
              "#fb9f3a"
             ],
             [
              0.8888888888888888,
              "#fdca26"
             ],
             [
              1,
              "#f0f921"
             ]
            ],
            "type": "histogram2dcontour"
           }
          ],
          "mesh3d": [
           {
            "colorbar": {
             "outlinewidth": 0,
             "ticks": ""
            },
            "type": "mesh3d"
           }
          ],
          "parcoords": [
           {
            "line": {
             "colorbar": {
              "outlinewidth": 0,
              "ticks": ""
             }
            },
            "type": "parcoords"
           }
          ],
          "pie": [
           {
            "automargin": true,
            "type": "pie"
           }
          ],
          "scatter": [
           {
            "fillpattern": {
             "fillmode": "overlay",
             "size": 10,
             "solidity": 0.2
            },
            "type": "scatter"
           }
          ],
          "scatter3d": [
           {
            "line": {
             "colorbar": {
              "outlinewidth": 0,
              "ticks": ""
             }
            },
            "marker": {
             "colorbar": {
              "outlinewidth": 0,
              "ticks": ""
             }
            },
            "type": "scatter3d"
           }
          ],
          "scattercarpet": [
           {
            "marker": {
             "colorbar": {
              "outlinewidth": 0,
              "ticks": ""
             }
            },
            "type": "scattercarpet"
           }
          ],
          "scattergeo": [
           {
            "marker": {
             "colorbar": {
              "outlinewidth": 0,
              "ticks": ""
             }
            },
            "type": "scattergeo"
           }
          ],
          "scattergl": [
           {
            "marker": {
             "colorbar": {
              "outlinewidth": 0,
              "ticks": ""
             }
            },
            "type": "scattergl"
           }
          ],
          "scattermapbox": [
           {
            "marker": {
             "colorbar": {
              "outlinewidth": 0,
              "ticks": ""
             }
            },
            "type": "scattermapbox"
           }
          ],
          "scatterpolar": [
           {
            "marker": {
             "colorbar": {
              "outlinewidth": 0,
              "ticks": ""
             }
            },
            "type": "scatterpolar"
           }
          ],
          "scatterpolargl": [
           {
            "marker": {
             "colorbar": {
              "outlinewidth": 0,
              "ticks": ""
             }
            },
            "type": "scatterpolargl"
           }
          ],
          "scatterternary": [
           {
            "marker": {
             "colorbar": {
              "outlinewidth": 0,
              "ticks": ""
             }
            },
            "type": "scatterternary"
           }
          ],
          "surface": [
           {
            "colorbar": {
             "outlinewidth": 0,
             "ticks": ""
            },
            "colorscale": [
             [
              0,
              "#0d0887"
             ],
             [
              0.1111111111111111,
              "#46039f"
             ],
             [
              0.2222222222222222,
              "#7201a8"
             ],
             [
              0.3333333333333333,
              "#9c179e"
             ],
             [
              0.4444444444444444,
              "#bd3786"
             ],
             [
              0.5555555555555556,
              "#d8576b"
             ],
             [
              0.6666666666666666,
              "#ed7953"
             ],
             [
              0.7777777777777778,
              "#fb9f3a"
             ],
             [
              0.8888888888888888,
              "#fdca26"
             ],
             [
              1,
              "#f0f921"
             ]
            ],
            "type": "surface"
           }
          ],
          "table": [
           {
            "cells": {
             "fill": {
              "color": "#EBF0F8"
             },
             "line": {
              "color": "white"
             }
            },
            "header": {
             "fill": {
              "color": "#C8D4E3"
             },
             "line": {
              "color": "white"
             }
            },
            "type": "table"
           }
          ]
         },
         "layout": {
          "annotationdefaults": {
           "arrowcolor": "#2a3f5f",
           "arrowhead": 0,
           "arrowwidth": 1
          },
          "autotypenumbers": "strict",
          "coloraxis": {
           "colorbar": {
            "outlinewidth": 0,
            "ticks": ""
           }
          },
          "colorscale": {
           "diverging": [
            [
             0,
             "#8e0152"
            ],
            [
             0.1,
             "#c51b7d"
            ],
            [
             0.2,
             "#de77ae"
            ],
            [
             0.3,
             "#f1b6da"
            ],
            [
             0.4,
             "#fde0ef"
            ],
            [
             0.5,
             "#f7f7f7"
            ],
            [
             0.6,
             "#e6f5d0"
            ],
            [
             0.7,
             "#b8e186"
            ],
            [
             0.8,
             "#7fbc41"
            ],
            [
             0.9,
             "#4d9221"
            ],
            [
             1,
             "#276419"
            ]
           ],
           "sequential": [
            [
             0,
             "#0d0887"
            ],
            [
             0.1111111111111111,
             "#46039f"
            ],
            [
             0.2222222222222222,
             "#7201a8"
            ],
            [
             0.3333333333333333,
             "#9c179e"
            ],
            [
             0.4444444444444444,
             "#bd3786"
            ],
            [
             0.5555555555555556,
             "#d8576b"
            ],
            [
             0.6666666666666666,
             "#ed7953"
            ],
            [
             0.7777777777777778,
             "#fb9f3a"
            ],
            [
             0.8888888888888888,
             "#fdca26"
            ],
            [
             1,
             "#f0f921"
            ]
           ],
           "sequentialminus": [
            [
             0,
             "#0d0887"
            ],
            [
             0.1111111111111111,
             "#46039f"
            ],
            [
             0.2222222222222222,
             "#7201a8"
            ],
            [
             0.3333333333333333,
             "#9c179e"
            ],
            [
             0.4444444444444444,
             "#bd3786"
            ],
            [
             0.5555555555555556,
             "#d8576b"
            ],
            [
             0.6666666666666666,
             "#ed7953"
            ],
            [
             0.7777777777777778,
             "#fb9f3a"
            ],
            [
             0.8888888888888888,
             "#fdca26"
            ],
            [
             1,
             "#f0f921"
            ]
           ]
          },
          "colorway": [
           "#636efa",
           "#EF553B",
           "#00cc96",
           "#ab63fa",
           "#FFA15A",
           "#19d3f3",
           "#FF6692",
           "#B6E880",
           "#FF97FF",
           "#FECB52"
          ],
          "font": {
           "color": "#2a3f5f"
          },
          "geo": {
           "bgcolor": "white",
           "lakecolor": "white",
           "landcolor": "#E5ECF6",
           "showlakes": true,
           "showland": true,
           "subunitcolor": "white"
          },
          "hoverlabel": {
           "align": "left"
          },
          "hovermode": "closest",
          "mapbox": {
           "style": "light"
          },
          "paper_bgcolor": "white",
          "plot_bgcolor": "#E5ECF6",
          "polar": {
           "angularaxis": {
            "gridcolor": "white",
            "linecolor": "white",
            "ticks": ""
           },
           "bgcolor": "#E5ECF6",
           "radialaxis": {
            "gridcolor": "white",
            "linecolor": "white",
            "ticks": ""
           }
          },
          "scene": {
           "xaxis": {
            "backgroundcolor": "#E5ECF6",
            "gridcolor": "white",
            "gridwidth": 2,
            "linecolor": "white",
            "showbackground": true,
            "ticks": "",
            "zerolinecolor": "white"
           },
           "yaxis": {
            "backgroundcolor": "#E5ECF6",
            "gridcolor": "white",
            "gridwidth": 2,
            "linecolor": "white",
            "showbackground": true,
            "ticks": "",
            "zerolinecolor": "white"
           },
           "zaxis": {
            "backgroundcolor": "#E5ECF6",
            "gridcolor": "white",
            "gridwidth": 2,
            "linecolor": "white",
            "showbackground": true,
            "ticks": "",
            "zerolinecolor": "white"
           }
          },
          "shapedefaults": {
           "line": {
            "color": "#2a3f5f"
           }
          },
          "ternary": {
           "aaxis": {
            "gridcolor": "white",
            "linecolor": "white",
            "ticks": ""
           },
           "baxis": {
            "gridcolor": "white",
            "linecolor": "white",
            "ticks": ""
           },
           "bgcolor": "#E5ECF6",
           "caxis": {
            "gridcolor": "white",
            "linecolor": "white",
            "ticks": ""
           }
          },
          "title": {
           "x": 0.05
          },
          "xaxis": {
           "automargin": true,
           "gridcolor": "white",
           "linecolor": "white",
           "ticks": "",
           "title": {
            "standoff": 15
           },
           "zerolinecolor": "white",
           "zerolinewidth": 2
          },
          "yaxis": {
           "automargin": true,
           "gridcolor": "white",
           "linecolor": "white",
           "ticks": "",
           "title": {
            "standoff": 15
           },
           "zerolinecolor": "white",
           "zerolinewidth": 2
          }
         }
        },
        "title": {
         "text": "Parallel WTA MT"
        },
        "xaxis": {
         "anchor": "y",
         "domain": [
          0,
          1
         ],
         "type": "linear"
        },
        "yaxis": {
         "anchor": "x",
         "autorange": "reversed",
         "domain": [
          0,
          1
         ],
         "title": {
          "text": "Resource"
         }
        }
       }
      }
     },
     "metadata": {},
     "output_type": "display_data"
    }
   ],
   "source": [
    "fig = getDataGantt(logs[1], \"Parallel WTA MT\")\n",
    "fig.show()"
   ]
  },
  {
   "cell_type": "code",
   "execution_count": 7,
   "metadata": {},
   "outputs": [
    {
     "data": {
      "application/vnd.plotly.v1+json": {
       "config": {
        "plotlyServerURL": "https://plot.ly"
       },
       "data": [
        {
         "alignmentgroup": "True",
         "base": [
          0,
          -0.00019431114196777344,
          -0.0001659393310546875,
          -0.00012421607971191406,
          -0.00010919570922851562,
          0.0008423328399658203,
          0.0008480548858642578,
          0.0008471012115478516,
          0.0008511543273925781,
          0.0008554458618164062
         ],
         "hovertemplate": "Task=Iter 0<br>Start=%{base}<br>Finish=%{x}<br>Resource=%{y}<extra></extra>",
         "legendgroup": "Iter 0",
         "marker": {
          "color": "#636efa",
          "pattern": {
           "shape": ""
          }
         },
         "name": "Iter 0",
         "offsetgroup": "Iter 0",
         "orientation": "h",
         "showlegend": true,
         "textposition": "auto",
         "type": "bar",
         "x": [
          0.000019788742065429688,
          0.000015497207641601562,
          0.000015735626220703125,
          0.000016689300537109375,
          0.00001621246337890625,
          0.000014781951904296875,
          0.000015974044799804688,
          0.000014781951904296875,
          0.000015974044799804688,
          0.0007083415985107422
         ],
         "xaxis": "x",
         "y": [
          "Node 0",
          "Node 1",
          "Node 2",
          "Node 3",
          "Node 4",
          "Node 5",
          "Node 6",
          "Node 7",
          "Node 8",
          "Node 9"
         ],
         "yaxis": "y"
        },
        {
         "alignmentgroup": "True",
         "base": [
          0.0017218589782714844,
          0.001725912094116211,
          0.001728057861328125,
          0.0017313957214355469,
          0.001734018325805664,
          0.002513885498046875,
          0.0025136470794677734,
          0.0025174617767333984,
          0.0025205612182617188,
          0.002523660659790039
         ],
         "hovertemplate": "Task=Iter 1<br>Start=%{base}<br>Finish=%{x}<br>Resource=%{y}<extra></extra>",
         "legendgroup": "Iter 1",
         "marker": {
          "color": "#EF553B",
          "pattern": {
           "shape": ""
          }
         },
         "name": "Iter 1",
         "offsetgroup": "Iter 1",
         "orientation": "h",
         "showlegend": true,
         "textposition": "auto",
         "type": "bar",
         "x": [
          0.000014543533325195312,
          0.000012159347534179688,
          0.000012636184692382812,
          0.000012874603271484375,
          0.000012874603271484375,
          0.000013589859008789062,
          0.00001239776611328125,
          0.00001239776611328125,
          0.000012874603271484375,
          0.000682830810546875
         ],
         "xaxis": "x",
         "y": [
          "Node 0",
          "Node 1",
          "Node 2",
          "Node 3",
          "Node 4",
          "Node 5",
          "Node 6",
          "Node 7",
          "Node 8",
          "Node 9"
         ],
         "yaxis": "y"
        },
        {
         "alignmentgroup": "True",
         "base": [
          0.0032842159271240234,
          0.0032875537872314453,
          0.003289937973022461,
          0.0033020973205566406,
          0.0032961368560791016,
          0.0040700435638427734,
          0.004073381423950195,
          0.004076480865478516,
          0.00407862663269043,
          0.004088163375854492
         ],
         "hovertemplate": "Task=Iter 2<br>Start=%{base}<br>Finish=%{x}<br>Resource=%{y}<extra></extra>",
         "legendgroup": "Iter 2",
         "marker": {
          "color": "#00cc96",
          "pattern": {
           "shape": ""
          }
         },
         "name": "Iter 2",
         "offsetgroup": "Iter 2",
         "orientation": "h",
         "showlegend": true,
         "textposition": "auto",
         "type": "bar",
         "x": [
          0.000012636184692382812,
          0.000011920928955078125,
          0.000012159347534179688,
          0.000011920928955078125,
          0.000011920928955078125,
          0.000011682510375976562,
          0.000012636184692382812,
          0.000012159347534179688,
          0.00001239776611328125,
          0.0007433891296386719
         ],
         "xaxis": "x",
         "y": [
          "Node 0",
          "Node 1",
          "Node 2",
          "Node 3",
          "Node 4",
          "Node 5",
          "Node 6",
          "Node 7",
          "Node 8",
          "Node 9"
         ],
         "yaxis": "y"
        },
        {
         "alignmentgroup": "True",
         "base": [
          0.00487828254699707,
          0.0048830509185791016,
          0.004884958267211914,
          0.004888296127319336,
          0.004891872406005859,
          0.005659818649291992,
          0.005661964416503906,
          0.005666255950927734,
          0.005669116973876953,
          0.005672931671142578
         ],
         "hovertemplate": "Task=Iter 3<br>Start=%{base}<br>Finish=%{x}<br>Resource=%{y}<extra></extra>",
         "legendgroup": "Iter 3",
         "marker": {
          "color": "#ab63fa",
          "pattern": {
           "shape": ""
          }
         },
         "name": "Iter 3",
         "offsetgroup": "Iter 3",
         "orientation": "h",
         "showlegend": true,
         "textposition": "auto",
         "type": "bar",
         "x": [
          0.000013113021850585938,
          0.000012159347534179688,
          0.000011682510375976562,
          0.000011682510375976562,
          0.000011682510375976562,
          0.000011682510375976562,
          0.000012159347534179688,
          0.000011920928955078125,
          0.00001239776611328125,
          0.0006816387176513672
         ],
         "xaxis": "x",
         "y": [
          "Node 0",
          "Node 1",
          "Node 2",
          "Node 3",
          "Node 4",
          "Node 5",
          "Node 6",
          "Node 7",
          "Node 8",
          "Node 9"
         ],
         "yaxis": "y"
        },
        {
         "alignmentgroup": "True",
         "base": [
          0.006434202194213867,
          0.006444215774536133,
          0.006447553634643555,
          0.006449222564697266,
          0.006454944610595703,
          0.007210969924926758,
          0.007214069366455078,
          0.007219791412353516,
          0.0072247982025146484,
          0.007226705551147461
         ],
         "hovertemplate": "Task=Iter 4<br>Start=%{base}<br>Finish=%{x}<br>Resource=%{y}<extra></extra>",
         "legendgroup": "Iter 4",
         "marker": {
          "color": "#FFA15A",
          "pattern": {
           "shape": ""
          }
         },
         "name": "Iter 4",
         "offsetgroup": "Iter 4",
         "orientation": "h",
         "showlegend": true,
         "textposition": "auto",
         "type": "bar",
         "x": [
          0.00002193450927734375,
          0.000014781951904296875,
          0.000011682510375976562,
          0.000012636184692382812,
          0.000011682510375976562,
          0.000011682510375976562,
          0.000011920928955078125,
          0.000012159347534179688,
          0.000013589859008789062,
          0.0006785392761230469
         ],
         "xaxis": "x",
         "y": [
          "Node 0",
          "Node 1",
          "Node 2",
          "Node 3",
          "Node 4",
          "Node 5",
          "Node 6",
          "Node 7",
          "Node 8",
          "Node 9"
         ],
         "yaxis": "y"
        },
        {
         "alignmentgroup": "True",
         "base": [
          0.007987260818481445,
          0.007989168167114258,
          0.007990360260009766,
          0.007993459701538086,
          0.007995128631591797,
          0.008765220642089844,
          0.00876760482788086,
          0.00877237319946289,
          0.008776664733886719,
          0.008776664733886719
         ],
         "hovertemplate": "Task=Iter 5<br>Start=%{base}<br>Finish=%{x}<br>Resource=%{y}<extra></extra>",
         "legendgroup": "Iter 5",
         "marker": {
          "color": "#19d3f3",
          "pattern": {
           "shape": ""
          }
         },
         "name": "Iter 5",
         "offsetgroup": "Iter 5",
         "orientation": "h",
         "showlegend": true,
         "textposition": "auto",
         "type": "bar",
         "x": [
          0.000012874603271484375,
          0.000011920928955078125,
          0.000012159347534179688,
          0.000011920928955078125,
          0.000011444091796875,
          0.000011682510375976562,
          0.00001239776611328125,
          0.000011920928955078125,
          0.000013828277587890625,
          0.0006849765777587891
         ],
         "xaxis": "x",
         "y": [
          "Node 0",
          "Node 1",
          "Node 2",
          "Node 3",
          "Node 4",
          "Node 5",
          "Node 6",
          "Node 7",
          "Node 8",
          "Node 9"
         ],
         "yaxis": "y"
        },
        {
         "alignmentgroup": "True",
         "base": [
          0.0095367431640625,
          0.009540557861328125,
          0.009542226791381836,
          0.009545326232910156,
          0.009548425674438477,
          0.010301828384399414,
          0.010304689407348633,
          0.010308980941772461,
          0.010310888290405273,
          0.010312080383300781
         ],
         "hovertemplate": "Task=Iter 6<br>Start=%{base}<br>Finish=%{x}<br>Resource=%{y}<extra></extra>",
         "legendgroup": "Iter 6",
         "marker": {
          "color": "#FF6692",
          "pattern": {
           "shape": ""
          }
         },
         "name": "Iter 6",
         "offsetgroup": "Iter 6",
         "orientation": "h",
         "showlegend": true,
         "textposition": "auto",
         "type": "bar",
         "x": [
          0.000013828277587890625,
          0.000012159347534179688,
          0.00001239776611328125,
          0.000012159347534179688,
          0.000011920928955078125,
          0.000011205673217773438,
          0.000011682510375976562,
          0.000012159347534179688,
          0.000011444091796875,
          0.0006835460662841797
         ],
         "xaxis": "x",
         "y": [
          "Node 0",
          "Node 1",
          "Node 2",
          "Node 3",
          "Node 4",
          "Node 5",
          "Node 6",
          "Node 7",
          "Node 8",
          "Node 9"
         ],
         "yaxis": "y"
        },
        {
         "alignmentgroup": "True",
         "base": [
          0.011072158813476562,
          0.011075258255004883,
          0.011076211929321289,
          0.011078834533691406,
          0.011080741882324219,
          0.01184844970703125,
          0.011850833892822266,
          0.011855363845825195,
          0.011857986450195312,
          0.011860847473144531
         ],
         "hovertemplate": "Task=Iter 7<br>Start=%{base}<br>Finish=%{x}<br>Resource=%{y}<extra></extra>",
         "legendgroup": "Iter 7",
         "marker": {
          "color": "#B6E880",
          "pattern": {
           "shape": ""
          }
         },
         "name": "Iter 7",
         "offsetgroup": "Iter 7",
         "orientation": "h",
         "showlegend": true,
         "textposition": "auto",
         "type": "bar",
         "x": [
          0.000012159347534179688,
          0.000011920928955078125,
          0.000012159347534179688,
          0.000011682510375976562,
          0.000011444091796875,
          0.000011444091796875,
          0.000012159347534179688,
          0.000011920928955078125,
          0.000012159347534179688,
          0.0006849765777587891
         ],
         "xaxis": "x",
         "y": [
          "Node 0",
          "Node 1",
          "Node 2",
          "Node 3",
          "Node 4",
          "Node 5",
          "Node 6",
          "Node 7",
          "Node 8",
          "Node 9"
         ],
         "yaxis": "y"
        },
        {
         "alignmentgroup": "True",
         "base": [
          0.012634038925170898,
          0.012636899948120117,
          0.012639522552490234,
          0.012641668319702148,
          0.012644767761230469,
          0.013395309448242188,
          0.01339864730834961,
          0.013402938842773438,
          0.013403892517089844,
          0.01340794563293457
         ],
         "hovertemplate": "Task=Iter 8<br>Start=%{base}<br>Finish=%{x}<br>Resource=%{y}<extra></extra>",
         "legendgroup": "Iter 8",
         "marker": {
          "color": "#FF97FF",
          "pattern": {
           "shape": ""
          }
         },
         "name": "Iter 8",
         "offsetgroup": "Iter 8",
         "orientation": "h",
         "showlegend": true,
         "textposition": "auto",
         "type": "bar",
         "x": [
          0.000011920928955078125,
          0.000011920928955078125,
          0.000011920928955078125,
          0.000012159347534179688,
          0.000011682510375976562,
          0.000011444091796875,
          0.000012159347534179688,
          0.000012159347534179688,
          0.000011682510375976562,
          0.0006806850433349609
         ],
         "xaxis": "x",
         "y": [
          "Node 0",
          "Node 1",
          "Node 2",
          "Node 3",
          "Node 4",
          "Node 5",
          "Node 6",
          "Node 7",
          "Node 8",
          "Node 9"
         ],
         "yaxis": "y"
        },
        {
         "alignmentgroup": "True",
         "base": [
          0.01416158676147461,
          0.014166116714477539,
          0.014168262481689453,
          0.014172077178955078,
          0.0141754150390625,
          0.014930009841918945,
          0.014933347702026367,
          0.01493692398071289,
          0.014940261840820312,
          0.014941930770874023
         ],
         "hovertemplate": "Task=Iter 9<br>Start=%{base}<br>Finish=%{x}<br>Resource=%{y}<extra></extra>",
         "legendgroup": "Iter 9",
         "marker": {
          "color": "#FECB52",
          "pattern": {
           "shape": ""
          }
         },
         "name": "Iter 9",
         "offsetgroup": "Iter 9",
         "orientation": "h",
         "showlegend": true,
         "textposition": "auto",
         "type": "bar",
         "x": [
          0.000011920928955078125,
          0.000011682510375976562,
          0.000011682510375976562,
          0.000011682510375976562,
          0.000011444091796875,
          0.000011682510375976562,
          0.00001239776611328125,
          0.000012159347534179688,
          0.00001239776611328125,
          0.0006842613220214844
         ],
         "xaxis": "x",
         "y": [
          "Node 0",
          "Node 1",
          "Node 2",
          "Node 3",
          "Node 4",
          "Node 5",
          "Node 6",
          "Node 7",
          "Node 8",
          "Node 9"
         ],
         "yaxis": "y"
        },
        {
         "alignmentgroup": "True",
         "base": [
          0.01569843292236328,
          0.015700101852416992,
          0.015702247619628906,
          0.015705108642578125,
          0.01570606231689453,
          0.01646566390991211,
          0.01646876335144043,
          0.01647329330444336,
          0.016475200653076172,
          0.016477346420288086
         ],
         "hovertemplate": "Task=Iter 10<br>Start=%{base}<br>Finish=%{x}<br>Resource=%{y}<extra></extra>",
         "legendgroup": "Iter 10",
         "marker": {
          "color": "#636efa",
          "pattern": {
           "shape": ""
          }
         },
         "name": "Iter 10",
         "offsetgroup": "Iter 10",
         "orientation": "h",
         "showlegend": true,
         "textposition": "auto",
         "type": "bar",
         "x": [
          0.000011920928955078125,
          0.000011444091796875,
          0.000011920928955078125,
          0.000011682510375976562,
          0.000011205673217773438,
          0.000011444091796875,
          0.000011682510375976562,
          0.000011682510375976562,
          0.000012159347534179688,
          0.0006711483001708984
         ],
         "xaxis": "x",
         "y": [
          "Node 0",
          "Node 1",
          "Node 2",
          "Node 3",
          "Node 4",
          "Node 5",
          "Node 6",
          "Node 7",
          "Node 8",
          "Node 9"
         ],
         "yaxis": "y"
        },
        {
         "alignmentgroup": "True",
         "base": [
          0.017220020294189453,
          0.01722407341003418,
          0.017226457595825195,
          0.01723003387451172,
          0.017232894897460938,
          0.017995357513427734,
          0.017998218536376953,
          0.018001556396484375,
          0.0180051326751709,
          0.01800704002380371
         ],
         "hovertemplate": "Task=Iter 11<br>Start=%{base}<br>Finish=%{x}<br>Resource=%{y}<extra></extra>",
         "legendgroup": "Iter 11",
         "marker": {
          "color": "#EF553B",
          "pattern": {
           "shape": ""
          }
         },
         "name": "Iter 11",
         "offsetgroup": "Iter 11",
         "orientation": "h",
         "showlegend": true,
         "textposition": "auto",
         "type": "bar",
         "x": [
          0.000011920928955078125,
          0.000011444091796875,
          0.000011682510375976562,
          0.000011682510375976562,
          0.000011682510375976562,
          0.000011682510375976562,
          0.000012159347534179688,
          0.000011920928955078125,
          0.000012874603271484375,
          0.0006887912750244141
         ],
         "xaxis": "x",
         "y": [
          "Node 0",
          "Node 1",
          "Node 2",
          "Node 3",
          "Node 4",
          "Node 5",
          "Node 6",
          "Node 7",
          "Node 8",
          "Node 9"
         ],
         "yaxis": "y"
        },
        {
         "alignmentgroup": "True",
         "base": [
          0.01876544952392578,
          0.0187680721282959,
          0.018770456314086914,
          0.018773317337036133,
          0.018775224685668945,
          0.019533395767211914,
          0.019535064697265625,
          0.019539356231689453,
          0.019542694091796875,
          0.019542217254638672
         ],
         "hovertemplate": "Task=Iter 12<br>Start=%{base}<br>Finish=%{x}<br>Resource=%{y}<extra></extra>",
         "legendgroup": "Iter 12",
         "marker": {
          "color": "#00cc96",
          "pattern": {
           "shape": ""
          }
         },
         "name": "Iter 12",
         "offsetgroup": "Iter 12",
         "orientation": "h",
         "showlegend": true,
         "textposition": "auto",
         "type": "bar",
         "x": [
          0.000011920928955078125,
          0.000011920928955078125,
          0.000011682510375976562,
          0.000011920928955078125,
          0.000011444091796875,
          0.000011920928955078125,
          0.000012159347534179688,
          0.000011682510375976562,
          0.00001239776611328125,
          0.0006706714630126953
         ],
         "xaxis": "x",
         "y": [
          "Node 0",
          "Node 1",
          "Node 2",
          "Node 3",
          "Node 4",
          "Node 5",
          "Node 6",
          "Node 7",
          "Node 8",
          "Node 9"
         ],
         "yaxis": "y"
        },
        {
         "alignmentgroup": "True",
         "base": [
          0.020285844802856445,
          0.020289182662963867,
          0.020291805267333984,
          0.020295143127441406,
          0.020297765731811523,
          0.02105545997619629,
          0.02105855941772461,
          0.021062850952148438,
          0.021063804626464844,
          0.021067142486572266
         ],
         "hovertemplate": "Task=Iter 13<br>Start=%{base}<br>Finish=%{x}<br>Resource=%{y}<extra></extra>",
         "legendgroup": "Iter 13",
         "marker": {
          "color": "#ab63fa",
          "pattern": {
           "shape": ""
          }
         },
         "name": "Iter 13",
         "offsetgroup": "Iter 13",
         "orientation": "h",
         "showlegend": true,
         "textposition": "auto",
         "type": "bar",
         "x": [
          0.000011920928955078125,
          0.000011444091796875,
          0.000011682510375976562,
          0.000011444091796875,
          0.000011205673217773438,
          0.000011682510375976562,
          0.000012159347534179688,
          0.000011682510375976562,
          0.000012159347534179688,
          0.0006771087646484375
         ],
         "xaxis": "x",
         "y": [
          "Node 0",
          "Node 1",
          "Node 2",
          "Node 3",
          "Node 4",
          "Node 5",
          "Node 6",
          "Node 7",
          "Node 8",
          "Node 9"
         ],
         "yaxis": "y"
        },
        {
         "alignmentgroup": "True",
         "base": [
          0.0218198299407959,
          0.021823406219482422,
          0.02182602882385254,
          0.02182793617248535,
          0.021831035614013672,
          0.022595643997192383,
          0.022598743438720703,
          0.022602558135986328,
          0.02260446548461914,
          0.022606611251831055
         ],
         "hovertemplate": "Task=Iter 14<br>Start=%{base}<br>Finish=%{x}<br>Resource=%{y}<extra></extra>",
         "legendgroup": "Iter 14",
         "marker": {
          "color": "#FFA15A",
          "pattern": {
           "shape": ""
          }
         },
         "name": "Iter 14",
         "offsetgroup": "Iter 14",
         "orientation": "h",
         "showlegend": true,
         "textposition": "auto",
         "type": "bar",
         "x": [
          0.000011682510375976562,
          0.000011444091796875,
          0.000011920928955078125,
          0.000011444091796875,
          0.000011682510375976562,
          0.000011682510375976562,
          0.000012159347534179688,
          0.000011920928955078125,
          0.000011682510375976562,
          0.0006673336029052734
         ],
         "xaxis": "x",
         "y": [
          "Node 0",
          "Node 1",
          "Node 2",
          "Node 3",
          "Node 4",
          "Node 5",
          "Node 6",
          "Node 7",
          "Node 8",
          "Node 9"
         ],
         "yaxis": "y"
        },
        {
         "alignmentgroup": "True",
         "base": [
          0.02335214614868164,
          0.023354768753051758,
          0.02335810661315918,
          0.0233609676361084,
          0.02336430549621582,
          0.024120569229125977,
          0.024123668670654297,
          0.02412891387939453,
          0.024130582809448242,
          0.02413344383239746
         ],
         "hovertemplate": "Task=Iter 15<br>Start=%{base}<br>Finish=%{x}<br>Resource=%{y}<extra></extra>",
         "legendgroup": "Iter 15",
         "marker": {
          "color": "#19d3f3",
          "pattern": {
           "shape": ""
          }
         },
         "name": "Iter 15",
         "offsetgroup": "Iter 15",
         "orientation": "h",
         "showlegend": true,
         "textposition": "auto",
         "type": "bar",
         "x": [
          0.000011920928955078125,
          0.000011205673217773438,
          0.000011444091796875,
          0.000011444091796875,
          0.000011205673217773438,
          0.000011682510375976562,
          0.000011682510375976562,
          0.000011920928955078125,
          0.000011682510375976562,
          0.0006780624389648438
         ],
         "xaxis": "x",
         "y": [
          "Node 0",
          "Node 1",
          "Node 2",
          "Node 3",
          "Node 4",
          "Node 5",
          "Node 6",
          "Node 7",
          "Node 8",
          "Node 9"
         ],
         "yaxis": "y"
        },
        {
         "alignmentgroup": "True",
         "base": [
          0.024883747100830078,
          0.02488875389099121,
          0.024891376495361328,
          0.02489328384399414,
          0.024895668029785156,
          0.02565789222717285,
          0.025659561157226562,
          0.025664091110229492,
          0.025665283203125,
          0.025668621063232422
         ],
         "hovertemplate": "Task=Iter 16<br>Start=%{base}<br>Finish=%{x}<br>Resource=%{y}<extra></extra>",
         "legendgroup": "Iter 16",
         "marker": {
          "color": "#FF6692",
          "pattern": {
           "shape": ""
          }
         },
         "name": "Iter 16",
         "offsetgroup": "Iter 16",
         "orientation": "h",
         "showlegend": true,
         "textposition": "auto",
         "type": "bar",
         "x": [
          0.000011682510375976562,
          0.000011444091796875,
          0.000011682510375976562,
          0.000012159347534179688,
          0.000011205673217773438,
          0.000011682510375976562,
          0.000011682510375976562,
          0.000011920928955078125,
          0.000011920928955078125,
          0.0006651878356933594
         ],
         "xaxis": "x",
         "y": [
          "Node 0",
          "Node 1",
          "Node 2",
          "Node 3",
          "Node 4",
          "Node 5",
          "Node 6",
          "Node 7",
          "Node 8",
          "Node 9"
         ],
         "yaxis": "y"
        },
        {
         "alignmentgroup": "True",
         "base": [
          0.026415109634399414,
          0.026418447494506836,
          0.02642202377319336,
          0.026424169540405273,
          0.02642655372619629,
          0.027185440063476562,
          0.027189016342163086,
          0.02719283103942871,
          0.027195453643798828,
          0.027198076248168945
         ],
         "hovertemplate": "Task=Iter 17<br>Start=%{base}<br>Finish=%{x}<br>Resource=%{y}<extra></extra>",
         "legendgroup": "Iter 17",
         "marker": {
          "color": "#B6E880",
          "pattern": {
           "shape": ""
          }
         },
         "name": "Iter 17",
         "offsetgroup": "Iter 17",
         "orientation": "h",
         "showlegend": true,
         "textposition": "auto",
         "type": "bar",
         "x": [
          0.000011444091796875,
          0.000011205673217773438,
          0.000011682510375976562,
          0.000011682510375976562,
          0.000017642974853515625,
          0.000011682510375976562,
          0.000011682510375976562,
          0.000011444091796875,
          0.000011920928955078125,
          0.0006728172302246094
         ],
         "xaxis": "x",
         "y": [
          "Node 0",
          "Node 1",
          "Node 2",
          "Node 3",
          "Node 4",
          "Node 5",
          "Node 6",
          "Node 7",
          "Node 8",
          "Node 9"
         ],
         "yaxis": "y"
        },
        {
         "alignmentgroup": "True",
         "base": [
          0.02795100212097168,
          0.027953624725341797,
          0.027958154678344727,
          0.027959823608398438,
          0.027962207794189453,
          0.028720617294311523,
          0.028723716735839844,
          0.02872920036315918,
          0.028731584548950195,
          0.028733253479003906
         ],
         "hovertemplate": "Task=Iter 18<br>Start=%{base}<br>Finish=%{x}<br>Resource=%{y}<extra></extra>",
         "legendgroup": "Iter 18",
         "marker": {
          "color": "#FF97FF",
          "pattern": {
           "shape": ""
          }
         },
         "name": "Iter 18",
         "offsetgroup": "Iter 18",
         "orientation": "h",
         "showlegend": true,
         "textposition": "auto",
         "type": "bar",
         "x": [
          0.000011682510375976562,
          0.000011444091796875,
          0.000011444091796875,
          0.000011444091796875,
          0.000011682510375976562,
          0.000011682510375976562,
          0.000011920928955078125,
          0.000011920928955078125,
          0.000011920928955078125,
          0.0006654262542724609
         ],
         "xaxis": "x",
         "y": [
          "Node 0",
          "Node 1",
          "Node 2",
          "Node 3",
          "Node 4",
          "Node 5",
          "Node 6",
          "Node 7",
          "Node 8",
          "Node 9"
         ],
         "yaxis": "y"
        },
        {
         "alignmentgroup": "True",
         "base": [
          0.02948164939880371,
          0.02948474884033203,
          0.029488563537597656,
          0.029491662979125977,
          0.029493331909179688,
          0.0302426815032959,
          0.030246973037719727,
          0.030251264572143555,
          0.03025364875793457,
          0.03025531768798828
         ],
         "hovertemplate": "Task=Iter 19<br>Start=%{base}<br>Finish=%{x}<br>Resource=%{y}<extra></extra>",
         "legendgroup": "Iter 19",
         "marker": {
          "color": "#FECB52",
          "pattern": {
           "shape": ""
          }
         },
         "name": "Iter 19",
         "offsetgroup": "Iter 19",
         "orientation": "h",
         "showlegend": true,
         "textposition": "auto",
         "type": "bar",
         "x": [
          0.000011682510375976562,
          0.000011682510375976562,
          0.000011682510375976562,
          0.000011682510375976562,
          0.000011205673217773438,
          0.000011682510375976562,
          0.000011920928955078125,
          0.000011682510375976562,
          0.000011920928955078125,
          0.000675201416015625
         ],
         "xaxis": "x",
         "y": [
          "Node 0",
          "Node 1",
          "Node 2",
          "Node 3",
          "Node 4",
          "Node 5",
          "Node 6",
          "Node 7",
          "Node 8",
          "Node 9"
         ],
         "yaxis": "y"
        },
        {
         "alignmentgroup": "True",
         "base": [
          0.0310060977935791,
          0.03101038932800293,
          0.031013011932373047,
          0.03101491928100586,
          0.031018495559692383,
          0.03177785873413086,
          0.03178668022155762,
          0.03178548812866211,
          0.031792640686035156,
          0.031789302825927734
         ],
         "hovertemplate": "Task=Iter 20<br>Start=%{base}<br>Finish=%{x}<br>Resource=%{y}<extra></extra>",
         "legendgroup": "Iter 20",
         "marker": {
          "color": "#636efa",
          "pattern": {
           "shape": ""
          }
         },
         "name": "Iter 20",
         "offsetgroup": "Iter 20",
         "orientation": "h",
         "showlegend": true,
         "textposition": "auto",
         "type": "bar",
         "x": [
          0.000012159347534179688,
          0.000011920928955078125,
          0.000011920928955078125,
          0.000011682510375976562,
          0.000011444091796875,
          0.000011920928955078125,
          0.000014781951904296875,
          0.000011682510375976562,
          0.0000152587890625,
          0.0006737709045410156
         ],
         "xaxis": "x",
         "y": [
          "Node 0",
          "Node 1",
          "Node 2",
          "Node 3",
          "Node 4",
          "Node 5",
          "Node 6",
          "Node 7",
          "Node 8",
          "Node 9"
         ],
         "yaxis": "y"
        },
        {
         "alignmentgroup": "True",
         "base": [
          0.032553672790527344,
          0.03255748748779297,
          0.03256034851074219,
          0.032563209533691406,
          0.03256654739379883,
          0.033313751220703125,
          0.03331589698791504,
          0.03332066535949707,
          0.03332209587097168,
          0.0333251953125
         ],
         "hovertemplate": "Task=Iter 21<br>Start=%{base}<br>Finish=%{x}<br>Resource=%{y}<extra></extra>",
         "legendgroup": "Iter 21",
         "marker": {
          "color": "#EF553B",
          "pattern": {
           "shape": ""
          }
         },
         "name": "Iter 21",
         "offsetgroup": "Iter 21",
         "orientation": "h",
         "showlegend": true,
         "textposition": "auto",
         "type": "bar",
         "x": [
          0.000011920928955078125,
          0.000011920928955078125,
          0.000011682510375976562,
          0.000011682510375976562,
          0.000011444091796875,
          0.000011205673217773438,
          0.000011920928955078125,
          0.000011682510375976562,
          0.000012159347534179688,
          0.0006725788116455078
         ],
         "xaxis": "x",
         "y": [
          "Node 0",
          "Node 1",
          "Node 2",
          "Node 3",
          "Node 4",
          "Node 5",
          "Node 6",
          "Node 7",
          "Node 8",
          "Node 9"
         ],
         "yaxis": "y"
        },
        {
         "alignmentgroup": "True",
         "base": [
          0.0340733528137207,
          0.03407597541809082,
          0.034079551696777344,
          0.03408169746398926,
          0.034084320068359375,
          0.03483915328979492,
          0.03484201431274414,
          0.034845829010009766,
          0.034847259521484375,
          0.03484916687011719
         ],
         "hovertemplate": "Task=Iter 22<br>Start=%{base}<br>Finish=%{x}<br>Resource=%{y}<extra></extra>",
         "legendgroup": "Iter 22",
         "marker": {
          "color": "#00cc96",
          "pattern": {
           "shape": ""
          }
         },
         "name": "Iter 22",
         "offsetgroup": "Iter 22",
         "orientation": "h",
         "showlegend": true,
         "textposition": "auto",
         "type": "bar",
         "x": [
          0.000011444091796875,
          0.000013828277587890625,
          0.000011682510375976562,
          0.000011444091796875,
          0.000011205673217773438,
          0.000011444091796875,
          0.000012159347534179688,
          0.000011444091796875,
          0.000011920928955078125,
          0.0006728172302246094
         ],
         "xaxis": "x",
         "y": [
          "Node 0",
          "Node 1",
          "Node 2",
          "Node 3",
          "Node 4",
          "Node 5",
          "Node 6",
          "Node 7",
          "Node 8",
          "Node 9"
         ],
         "yaxis": "y"
        },
        {
         "alignmentgroup": "True",
         "base": [
          0.0355985164642334,
          0.03560233116149902,
          0.03560495376586914,
          0.035607099533081055,
          0.03560972213745117,
          0.03635597229003906,
          0.03635811805725098,
          0.036362648010253906,
          0.03636455535888672,
          0.03636813163757324
         ],
         "hovertemplate": "Task=Iter 23<br>Start=%{base}<br>Finish=%{x}<br>Resource=%{y}<extra></extra>",
         "legendgroup": "Iter 23",
         "marker": {
          "color": "#ab63fa",
          "pattern": {
           "shape": ""
          }
         },
         "name": "Iter 23",
         "offsetgroup": "Iter 23",
         "orientation": "h",
         "showlegend": true,
         "textposition": "auto",
         "type": "bar",
         "x": [
          0.000011682510375976562,
          0.000012159347534179688,
          0.000011682510375976562,
          0.000011682510375976562,
          0.000011682510375976562,
          0.000011444091796875,
          0.000011682510375976562,
          0.000012159347534179688,
          0.000011682510375976562,
          0.0006747245788574219
         ],
         "xaxis": "x",
         "y": [
          "Node 0",
          "Node 1",
          "Node 2",
          "Node 3",
          "Node 4",
          "Node 5",
          "Node 6",
          "Node 7",
          "Node 8",
          "Node 9"
         ],
         "yaxis": "y"
        },
        {
         "alignmentgroup": "True",
         "base": [
          0.037130117416381836,
          0.03713369369506836,
          0.03713726997375488,
          0.037140607833862305,
          0.03714323043823242,
          0.03791499137878418,
          0.0379178524017334,
          0.03792166709899902,
          0.037924766540527344,
          0.03792691230773926
         ],
         "hovertemplate": "Task=Iter 24<br>Start=%{base}<br>Finish=%{x}<br>Resource=%{y}<extra></extra>",
         "legendgroup": "Iter 24",
         "marker": {
          "color": "#FFA15A",
          "pattern": {
           "shape": ""
          }
         },
         "name": "Iter 24",
         "offsetgroup": "Iter 24",
         "orientation": "h",
         "showlegend": true,
         "textposition": "auto",
         "type": "bar",
         "x": [
          0.000011920928955078125,
          0.000011682510375976562,
          0.000011920928955078125,
          0.00001430511474609375,
          0.000011205673217773438,
          0.000011444091796875,
          0.000011682510375976562,
          0.000011920928955078125,
          0.000012159347534179688,
          0.0006771087646484375
         ],
         "xaxis": "x",
         "y": [
          "Node 0",
          "Node 1",
          "Node 2",
          "Node 3",
          "Node 4",
          "Node 5",
          "Node 6",
          "Node 7",
          "Node 8",
          "Node 9"
         ],
         "yaxis": "y"
        },
        {
         "alignmentgroup": "True",
         "base": [
          0.03867459297180176,
          0.03867650032043457,
          0.0386807918548584,
          0.03868508338928223,
          0.03868556022644043,
          0.03943514823913574,
          0.03944253921508789,
          0.03944826126098633,
          0.039450883865356445,
          0.03945636749267578
         ],
         "hovertemplate": "Task=Iter 25<br>Start=%{base}<br>Finish=%{x}<br>Resource=%{y}<extra></extra>",
         "legendgroup": "Iter 25",
         "marker": {
          "color": "#19d3f3",
          "pattern": {
           "shape": ""
          }
         },
         "name": "Iter 25",
         "offsetgroup": "Iter 25",
         "orientation": "h",
         "showlegend": true,
         "textposition": "auto",
         "type": "bar",
         "x": [
          0.000012159347534179688,
          0.000011682510375976562,
          0.000011444091796875,
          0.00001239776611328125,
          0.000011205673217773438,
          0.00001621246337890625,
          0.000011682510375976562,
          0.000011682510375976562,
          0.000013113021850585938,
          0.0006663799285888672
         ],
         "xaxis": "x",
         "y": [
          "Node 0",
          "Node 1",
          "Node 2",
          "Node 3",
          "Node 4",
          "Node 5",
          "Node 6",
          "Node 7",
          "Node 8",
          "Node 9"
         ],
         "yaxis": "y"
        },
        {
         "alignmentgroup": "True",
         "base": [
          0.04019641876220703,
          0.04020094871520996,
          0.04020380973815918,
          0.040205955505371094,
          0.040209293365478516,
          0.04096364974975586,
          0.04096651077270508,
          0.04097151756286621,
          0.04097318649291992,
          0.04097557067871094
         ],
         "hovertemplate": "Task=Iter 26<br>Start=%{base}<br>Finish=%{x}<br>Resource=%{y}<extra></extra>",
         "legendgroup": "Iter 26",
         "marker": {
          "color": "#FF6692",
          "pattern": {
           "shape": ""
          }
         },
         "name": "Iter 26",
         "offsetgroup": "Iter 26",
         "orientation": "h",
         "showlegend": true,
         "textposition": "auto",
         "type": "bar",
         "x": [
          0.000012159347534179688,
          0.000011444091796875,
          0.000011444091796875,
          0.000011920928955078125,
          0.000011444091796875,
          0.000011682510375976562,
          0.000011682510375976562,
          0.000011682510375976562,
          0.000011682510375976562,
          0.0006709098815917969
         ],
         "xaxis": "x",
         "y": [
          "Node 0",
          "Node 1",
          "Node 2",
          "Node 3",
          "Node 4",
          "Node 5",
          "Node 6",
          "Node 7",
          "Node 8",
          "Node 9"
         ],
         "yaxis": "y"
        },
        {
         "alignmentgroup": "True",
         "base": [
          0.04172515869140625,
          0.041727304458618164,
          0.04173088073730469,
          0.0417332649230957,
          0.04173588752746582,
          0.04249286651611328,
          0.042496442794799805,
          0.04249978065490723,
          0.04250311851501465,
          0.042505502700805664
         ],
         "hovertemplate": "Task=Iter 27<br>Start=%{base}<br>Finish=%{x}<br>Resource=%{y}<extra></extra>",
         "legendgroup": "Iter 27",
         "marker": {
          "color": "#B6E880",
          "pattern": {
           "shape": ""
          }
         },
         "name": "Iter 27",
         "offsetgroup": "Iter 27",
         "orientation": "h",
         "showlegend": true,
         "textposition": "auto",
         "type": "bar",
         "x": [
          0.000011682510375976562,
          0.000011682510375976562,
          0.000011682510375976562,
          0.000011920928955078125,
          0.000011444091796875,
          0.000011444091796875,
          0.000011682510375976562,
          0.000011682510375976562,
          0.000011682510375976562,
          0.0006618499755859375
         ],
         "xaxis": "x",
         "y": [
          "Node 0",
          "Node 1",
          "Node 2",
          "Node 3",
          "Node 4",
          "Node 5",
          "Node 6",
          "Node 7",
          "Node 8",
          "Node 9"
         ],
         "yaxis": "y"
        },
        {
         "alignmentgroup": "True",
         "base": [
          0.04324769973754883,
          0.043250083923339844,
          0.04325437545776367,
          0.043256282806396484,
          0.0432591438293457,
          0.04401707649230957,
          0.04402732849121094,
          0.04402446746826172,
          0.04403376579284668,
          0.044035911560058594
         ],
         "hovertemplate": "Task=Iter 28<br>Start=%{base}<br>Finish=%{x}<br>Resource=%{y}<extra></extra>",
         "legendgroup": "Iter 28",
         "marker": {
          "color": "#FF97FF",
          "pattern": {
           "shape": ""
          }
         },
         "name": "Iter 28",
         "offsetgroup": "Iter 28",
         "orientation": "h",
         "showlegend": true,
         "textposition": "auto",
         "type": "bar",
         "x": [
          0.000011920928955078125,
          0.000011444091796875,
          0.000011920928955078125,
          0.000011444091796875,
          0.000011205673217773438,
          0.000011444091796875,
          0.000015497207641601562,
          0.000011444091796875,
          0.000015497207641601562,
          0.0006976127624511719
         ],
         "xaxis": "x",
         "y": [
          "Node 0",
          "Node 1",
          "Node 2",
          "Node 3",
          "Node 4",
          "Node 5",
          "Node 6",
          "Node 7",
          "Node 8",
          "Node 9"
         ],
         "yaxis": "y"
        },
        {
         "alignmentgroup": "True",
         "base": [
          0.04479551315307617,
          0.0447993278503418,
          0.044802188873291016,
          0.04480481147766113,
          0.04480791091918945,
          0.04556536674499512,
          0.045568227767944336,
          0.045572757720947266,
          0.04557681083679199,
          0.04558515548706055
         ],
         "hovertemplate": "Task=Iter 29<br>Start=%{base}<br>Finish=%{x}<br>Resource=%{y}<extra></extra>",
         "legendgroup": "Iter 29",
         "marker": {
          "color": "#FECB52",
          "pattern": {
           "shape": ""
          }
         },
         "name": "Iter 29",
         "offsetgroup": "Iter 29",
         "orientation": "h",
         "showlegend": true,
         "textposition": "auto",
         "type": "bar",
         "x": [
          0.000011682510375976562,
          0.000011682510375976562,
          0.000011920928955078125,
          0.000011682510375976562,
          0.000011682510375976562,
          0.000011205673217773438,
          0.000011920928955078125,
          0.000011920928955078125,
          0.0000133514404296875,
          0.0006716251373291016
         ],
         "xaxis": "x",
         "y": [
          "Node 0",
          "Node 1",
          "Node 2",
          "Node 3",
          "Node 4",
          "Node 5",
          "Node 6",
          "Node 7",
          "Node 8",
          "Node 9"
         ],
         "yaxis": "y"
        },
        {
         "alignmentgroup": "True",
         "base": [
          0.0463254451751709,
          0.04632902145385742,
          0.04633188247680664,
          0.04633474349975586,
          0.046338558197021484,
          0.047100067138671875,
          0.047101497650146484,
          0.04710555076599121,
          0.04710841178894043,
          0.047110795974731445
         ],
         "hovertemplate": "Task=Iter 30<br>Start=%{base}<br>Finish=%{x}<br>Resource=%{y}<extra></extra>",
         "legendgroup": "Iter 30",
         "marker": {
          "color": "#636efa",
          "pattern": {
           "shape": ""
          }
         },
         "name": "Iter 30",
         "offsetgroup": "Iter 30",
         "orientation": "h",
         "showlegend": true,
         "textposition": "auto",
         "type": "bar",
         "x": [
          0.000011682510375976562,
          0.000011444091796875,
          0.000011682510375976562,
          0.000011682510375976562,
          0.000011444091796875,
          0.000012636184692382812,
          0.000012159347534179688,
          0.000011682510375976562,
          0.000012159347534179688,
          0.0006785392761230469
         ],
         "xaxis": "x",
         "y": [
          "Node 0",
          "Node 1",
          "Node 2",
          "Node 3",
          "Node 4",
          "Node 5",
          "Node 6",
          "Node 7",
          "Node 8",
          "Node 9"
         ],
         "yaxis": "y"
        },
        {
         "alignmentgroup": "True",
         "base": [
          0.04786562919616699,
          0.04787039756774902,
          0.04787278175354004,
          0.047875404357910156,
          0.04787898063659668,
          0.04864001274108887,
          0.04864192008972168,
          0.048645973205566406,
          0.04864859580993652,
          0.04865097999572754
         ],
         "hovertemplate": "Task=Iter 31<br>Start=%{base}<br>Finish=%{x}<br>Resource=%{y}<extra></extra>",
         "legendgroup": "Iter 31",
         "marker": {
          "color": "#EF553B",
          "pattern": {
           "shape": ""
          }
         },
         "name": "Iter 31",
         "offsetgroup": "Iter 31",
         "orientation": "h",
         "showlegend": true,
         "textposition": "auto",
         "type": "bar",
         "x": [
          0.000011444091796875,
          0.000011444091796875,
          0.000011682510375976562,
          0.000011682510375976562,
          0.000011682510375976562,
          0.000011444091796875,
          0.000011682510375976562,
          0.000011920928955078125,
          0.000012159347534179688,
          0.0006647109985351562
         ],
         "xaxis": "x",
         "y": [
          "Node 0",
          "Node 1",
          "Node 2",
          "Node 3",
          "Node 4",
          "Node 5",
          "Node 6",
          "Node 7",
          "Node 8",
          "Node 9"
         ],
         "yaxis": "y"
        },
        {
         "alignmentgroup": "True",
         "base": [
          0.049393415451049805,
          0.04939746856689453,
          0.049399375915527344,
          0.04940462112426758,
          0.049404144287109375,
          0.05016827583312988,
          0.0501711368560791,
          0.05017518997192383,
          0.05017685890197754,
          0.05017852783203125
         ],
         "hovertemplate": "Task=Iter 32<br>Start=%{base}<br>Finish=%{x}<br>Resource=%{y}<extra></extra>",
         "legendgroup": "Iter 32",
         "marker": {
          "color": "#00cc96",
          "pattern": {
           "shape": ""
          }
         },
         "name": "Iter 32",
         "offsetgroup": "Iter 32",
         "orientation": "h",
         "showlegend": true,
         "textposition": "auto",
         "type": "bar",
         "x": [
          0.000011682510375976562,
          0.000011444091796875,
          0.000011920928955078125,
          0.000013828277587890625,
          0.000011444091796875,
          0.000011205673217773438,
          0.000011444091796875,
          0.000011682510375976562,
          0.000011920928955078125,
          0.0006706714630126953
         ],
         "xaxis": "x",
         "y": [
          "Node 0",
          "Node 1",
          "Node 2",
          "Node 3",
          "Node 4",
          "Node 5",
          "Node 6",
          "Node 7",
          "Node 8",
          "Node 9"
         ],
         "yaxis": "y"
        },
        {
         "alignmentgroup": "True",
         "base": [
          0.05092644691467285,
          0.05093050003051758,
          0.050932884216308594,
          0.05093526840209961,
          0.05093812942504883,
          0.05169510841369629,
          0.05169820785522461,
          0.051702260971069336,
          0.05170416831970215,
          0.05170607566833496
         ],
         "hovertemplate": "Task=Iter 33<br>Start=%{base}<br>Finish=%{x}<br>Resource=%{y}<extra></extra>",
         "legendgroup": "Iter 33",
         "marker": {
          "color": "#ab63fa",
          "pattern": {
           "shape": ""
          }
         },
         "name": "Iter 33",
         "offsetgroup": "Iter 33",
         "orientation": "h",
         "showlegend": true,
         "textposition": "auto",
         "type": "bar",
         "x": [
          0.000011920928955078125,
          0.000011920928955078125,
          0.000011920928955078125,
          0.000011444091796875,
          0.000011444091796875,
          0.000011205673217773438,
          0.000011682510375976562,
          0.000011682510375976562,
          0.000011920928955078125,
          0.0006639957427978516
         ],
         "xaxis": "x",
         "y": [
          "Node 0",
          "Node 1",
          "Node 2",
          "Node 3",
          "Node 4",
          "Node 5",
          "Node 6",
          "Node 7",
          "Node 8",
          "Node 9"
         ],
         "yaxis": "y"
        },
        {
         "alignmentgroup": "True",
         "base": [
          0.05245494842529297,
          0.05245852470397949,
          0.052459716796875,
          0.052461862564086914,
          0.05246472358703613,
          0.053217411041259766,
          0.05321931838989258,
          0.05322599411010742,
          0.05322670936584473,
          0.053229331970214844
         ],
         "hovertemplate": "Task=Iter 34<br>Start=%{base}<br>Finish=%{x}<br>Resource=%{y}<extra></extra>",
         "legendgroup": "Iter 34",
         "marker": {
          "color": "#FFA15A",
          "pattern": {
           "shape": ""
          }
         },
         "name": "Iter 34",
         "offsetgroup": "Iter 34",
         "orientation": "h",
         "showlegend": true,
         "textposition": "auto",
         "type": "bar",
         "x": [
          0.000011444091796875,
          0.000011682510375976562,
          0.000011682510375976562,
          0.000011444091796875,
          0.000011444091796875,
          0.000011682510375976562,
          0.000011444091796875,
          0.000011920928955078125,
          0.000011920928955078125,
          0.0006725788116455078
         ],
         "xaxis": "x",
         "y": [
          "Node 0",
          "Node 1",
          "Node 2",
          "Node 3",
          "Node 4",
          "Node 5",
          "Node 6",
          "Node 7",
          "Node 8",
          "Node 9"
         ],
         "yaxis": "y"
        },
        {
         "alignmentgroup": "True",
         "base": [
          0.05397629737854004,
          0.053978681564331055,
          0.05398273468017578,
          0.053984880447387695,
          0.05398750305175781,
          0.054747581481933594,
          0.054750680923461914,
          0.05475425720214844,
          0.054756879806518555,
          0.054758548736572266
         ],
         "hovertemplate": "Task=Iter 35<br>Start=%{base}<br>Finish=%{x}<br>Resource=%{y}<extra></extra>",
         "legendgroup": "Iter 35",
         "marker": {
          "color": "#19d3f3",
          "pattern": {
           "shape": ""
          }
         },
         "name": "Iter 35",
         "offsetgroup": "Iter 35",
         "orientation": "h",
         "showlegend": true,
         "textposition": "auto",
         "type": "bar",
         "x": [
          0.000011444091796875,
          0.000011682510375976562,
          0.000011920928955078125,
          0.000011682510375976562,
          0.000011205673217773438,
          0.000011205673217773438,
          0.000011444091796875,
          0.000011682510375976562,
          0.000011682510375976562,
          0.0006659030914306641
         ],
         "xaxis": "x",
         "y": [
          "Node 0",
          "Node 1",
          "Node 2",
          "Node 3",
          "Node 4",
          "Node 5",
          "Node 6",
          "Node 7",
          "Node 8",
          "Node 9"
         ],
         "yaxis": "y"
        },
        {
         "alignmentgroup": "True",
         "base": [
          0.05550527572631836,
          0.05550837516784668,
          0.055510520935058594,
          0.055512428283691406,
          0.055515289306640625,
          0.056262969970703125,
          0.05626630783081055,
          0.056270599365234375,
          0.05627179145812988,
          0.056273698806762695
         ],
         "hovertemplate": "Task=Iter 36<br>Start=%{base}<br>Finish=%{x}<br>Resource=%{y}<extra></extra>",
         "legendgroup": "Iter 36",
         "marker": {
          "color": "#FF6692",
          "pattern": {
           "shape": ""
          }
         },
         "name": "Iter 36",
         "offsetgroup": "Iter 36",
         "orientation": "h",
         "showlegend": true,
         "textposition": "auto",
         "type": "bar",
         "x": [
          0.000011920928955078125,
          0.000011444091796875,
          0.000011444091796875,
          0.000011682510375976562,
          0.000011682510375976562,
          0.000011444091796875,
          0.000011682510375976562,
          0.000011682510375976562,
          0.000011682510375976562,
          0.0006756782531738281
         ],
         "xaxis": "x",
         "y": [
          "Node 0",
          "Node 1",
          "Node 2",
          "Node 3",
          "Node 4",
          "Node 5",
          "Node 6",
          "Node 7",
          "Node 8",
          "Node 9"
         ],
         "yaxis": "y"
        },
        {
         "alignmentgroup": "True",
         "base": [
          0.0570225715637207,
          0.05702567100524902,
          0.05703616142272949,
          0.057031869888305664,
          0.05703449249267578,
          0.05779600143432617,
          0.05779862403869629,
          0.057802677154541016,
          0.05780529975891113,
          0.05780744552612305
         ],
         "hovertemplate": "Task=Iter 37<br>Start=%{base}<br>Finish=%{x}<br>Resource=%{y}<extra></extra>",
         "legendgroup": "Iter 37",
         "marker": {
          "color": "#B6E880",
          "pattern": {
           "shape": ""
          }
         },
         "name": "Iter 37",
         "offsetgroup": "Iter 37",
         "orientation": "h",
         "showlegend": true,
         "textposition": "auto",
         "type": "bar",
         "x": [
          0.000011682510375976562,
          0.000011920928955078125,
          0.000013589859008789062,
          0.000011682510375976562,
          0.000011682510375976562,
          0.000011444091796875,
          0.000011682510375976562,
          0.000011920928955078125,
          0.000011920928955078125,
          0.0006780624389648438
         ],
         "xaxis": "x",
         "y": [
          "Node 0",
          "Node 1",
          "Node 2",
          "Node 3",
          "Node 4",
          "Node 5",
          "Node 6",
          "Node 7",
          "Node 8",
          "Node 9"
         ],
         "yaxis": "y"
        },
        {
         "alignmentgroup": "True",
         "base": [
          0.05855846405029297,
          0.05856204032897949,
          0.058563947677612305,
          0.05856657028198242,
          0.058570146560668945,
          0.05931591987609863,
          0.05931901931762695,
          0.05932426452636719,
          0.059325456619262695,
          0.059326887130737305
         ],
         "hovertemplate": "Task=Iter 38<br>Start=%{base}<br>Finish=%{x}<br>Resource=%{y}<extra></extra>",
         "legendgroup": "Iter 38",
         "marker": {
          "color": "#FF97FF",
          "pattern": {
           "shape": ""
          }
         },
         "name": "Iter 38",
         "offsetgroup": "Iter 38",
         "orientation": "h",
         "showlegend": true,
         "textposition": "auto",
         "type": "bar",
         "x": [
          0.000011682510375976562,
          0.000011444091796875,
          0.000012159347534179688,
          0.000011444091796875,
          0.000011444091796875,
          0.000011444091796875,
          0.000011205673217773438,
          0.000011920928955078125,
          0.000011444091796875,
          0.0006794929504394531
         ],
         "xaxis": "x",
         "y": [
          "Node 0",
          "Node 1",
          "Node 2",
          "Node 3",
          "Node 4",
          "Node 5",
          "Node 6",
          "Node 7",
          "Node 8",
          "Node 9"
         ],
         "yaxis": "y"
        },
        {
         "alignmentgroup": "True",
         "base": [
          0.060076236724853516,
          0.06007957458496094,
          0.060083866119384766,
          0.06008505821228027,
          0.06008768081665039,
          0.060846567153930664,
          0.06084799766540527,
          0.0608515739440918,
          0.060854434967041016,
          0.06085681915283203
         ],
         "hovertemplate": "Task=Iter 39<br>Start=%{base}<br>Finish=%{x}<br>Resource=%{y}<extra></extra>",
         "legendgroup": "Iter 39",
         "marker": {
          "color": "#FECB52",
          "pattern": {
           "shape": ""
          }
         },
         "name": "Iter 39",
         "offsetgroup": "Iter 39",
         "orientation": "h",
         "showlegend": true,
         "textposition": "auto",
         "type": "bar",
         "x": [
          0.000011682510375976562,
          0.000011444091796875,
          0.000012636184692382812,
          0.000011682510375976562,
          0.000011920928955078125,
          0.000011444091796875,
          0.000011920928955078125,
          0.000012159347534179688,
          0.000011682510375976562,
          0.0006780624389648438
         ],
         "xaxis": "x",
         "y": [
          "Node 0",
          "Node 1",
          "Node 2",
          "Node 3",
          "Node 4",
          "Node 5",
          "Node 6",
          "Node 7",
          "Node 8",
          "Node 9"
         ],
         "yaxis": "y"
        },
        {
         "alignmentgroup": "True",
         "base": [
          0.06160998344421387,
          0.06161308288574219,
          0.0616152286529541,
          0.06161808967590332,
          0.061620235443115234,
          0.06237006187438965,
          0.06237292289733887,
          0.062376976013183594,
          0.06237983703613281,
          0.06238150596618652
         ],
         "hovertemplate": "Task=Iter 40<br>Start=%{base}<br>Finish=%{x}<br>Resource=%{y}<extra></extra>",
         "legendgroup": "Iter 40",
         "marker": {
          "color": "#636efa",
          "pattern": {
           "shape": ""
          }
         },
         "name": "Iter 40",
         "offsetgroup": "Iter 40",
         "orientation": "h",
         "showlegend": true,
         "textposition": "auto",
         "type": "bar",
         "x": [
          0.000011682510375976562,
          0.000011444091796875,
          0.000012159347534179688,
          0.000011682510375976562,
          0.000011682510375976562,
          0.000011205673217773438,
          0.000011682510375976562,
          0.000011682510375976562,
          0.000011920928955078125,
          0.0006792545318603516
         ],
         "xaxis": "x",
         "y": [
          "Node 0",
          "Node 1",
          "Node 2",
          "Node 3",
          "Node 4",
          "Node 5",
          "Node 6",
          "Node 7",
          "Node 8",
          "Node 9"
         ],
         "yaxis": "y"
        },
        {
         "alignmentgroup": "True",
         "base": [
          0.06313395500183105,
          0.06313729286193848,
          0.0631406307220459,
          0.06314229965209961,
          0.06314492225646973,
          0.06390261650085449,
          0.06390500068664551,
          0.06390929222106934,
          0.06391143798828125,
          0.06391310691833496
         ],
         "hovertemplate": "Task=Iter 41<br>Start=%{base}<br>Finish=%{x}<br>Resource=%{y}<extra></extra>",
         "legendgroup": "Iter 41",
         "marker": {
          "color": "#EF553B",
          "pattern": {
           "shape": ""
          }
         },
         "name": "Iter 41",
         "offsetgroup": "Iter 41",
         "orientation": "h",
         "showlegend": true,
         "textposition": "auto",
         "type": "bar",
         "x": [
          0.000011682510375976562,
          0.000011682510375976562,
          0.000011920928955078125,
          0.000011682510375976562,
          0.000011444091796875,
          0.000011444091796875,
          0.000011682510375976562,
          0.000011682510375976562,
          0.000011682510375976562,
          0.0006732940673828125
         ],
         "xaxis": "x",
         "y": [
          "Node 0",
          "Node 1",
          "Node 2",
          "Node 3",
          "Node 4",
          "Node 5",
          "Node 6",
          "Node 7",
          "Node 8",
          "Node 9"
         ],
         "yaxis": "y"
        },
        {
         "alignmentgroup": "True",
         "base": [
          0.06466364860534668,
          0.0646674633026123,
          0.06466937065124512,
          0.06467199325561523,
          0.06467413902282715,
          0.06542348861694336,
          0.06542658805847168,
          0.06543087959289551,
          0.06543302536010742,
          0.06543445587158203
         ],
         "hovertemplate": "Task=Iter 42<br>Start=%{base}<br>Finish=%{x}<br>Resource=%{y}<extra></extra>",
         "legendgroup": "Iter 42",
         "marker": {
          "color": "#00cc96",
          "pattern": {
           "shape": ""
          }
         },
         "name": "Iter 42",
         "offsetgroup": "Iter 42",
         "orientation": "h",
         "showlegend": true,
         "textposition": "auto",
         "type": "bar",
         "x": [
          0.00001239776611328125,
          0.000011682510375976562,
          0.000011682510375976562,
          0.000011444091796875,
          0.000011682510375976562,
          0.000011205673217773438,
          0.000017404556274414062,
          0.000020265579223632812,
          0.000017881393432617188,
          0.0006756782531738281
         ],
         "xaxis": "x",
         "y": [
          "Node 0",
          "Node 1",
          "Node 2",
          "Node 3",
          "Node 4",
          "Node 5",
          "Node 6",
          "Node 7",
          "Node 8",
          "Node 9"
         ],
         "yaxis": "y"
        },
        {
         "alignmentgroup": "True",
         "base": [
          0.06618642807006836,
          0.06618928909301758,
          0.0661921501159668,
          0.06619429588317871,
          0.06619668006896973,
          0.06695365905761719,
          0.06695699691772461,
          0.06696128845214844,
          0.06696414947509766,
          0.06696629524230957
         ],
         "hovertemplate": "Task=Iter 43<br>Start=%{base}<br>Finish=%{x}<br>Resource=%{y}<extra></extra>",
         "legendgroup": "Iter 43",
         "marker": {
          "color": "#ab63fa",
          "pattern": {
           "shape": ""
          }
         },
         "name": "Iter 43",
         "offsetgroup": "Iter 43",
         "orientation": "h",
         "showlegend": true,
         "textposition": "auto",
         "type": "bar",
         "x": [
          0.000012159347534179688,
          0.00001239776611328125,
          0.00001239776611328125,
          0.00001239776611328125,
          0.000011920928955078125,
          0.000012159347534179688,
          0.000012636184692382812,
          0.000012874603271484375,
          0.000013113021850585938,
          0.0006685256958007812
         ],
         "xaxis": "x",
         "y": [
          "Node 0",
          "Node 1",
          "Node 2",
          "Node 3",
          "Node 4",
          "Node 5",
          "Node 6",
          "Node 7",
          "Node 8",
          "Node 9"
         ],
         "yaxis": "y"
        },
        {
         "alignmentgroup": "True",
         "base": [
          0.06771636009216309,
          0.0677180290222168,
          0.06772208213806152,
          0.06772446632385254,
          0.06772685050964355,
          0.06848502159118652,
          0.06848764419555664,
          0.06849145889282227,
          0.06849527359008789,
          0.06849527359008789
         ],
         "hovertemplate": "Task=Iter 44<br>Start=%{base}<br>Finish=%{x}<br>Resource=%{y}<extra></extra>",
         "legendgroup": "Iter 44",
         "marker": {
          "color": "#FFA15A",
          "pattern": {
           "shape": ""
          }
         },
         "name": "Iter 44",
         "offsetgroup": "Iter 44",
         "orientation": "h",
         "showlegend": true,
         "textposition": "auto",
         "type": "bar",
         "x": [
          0.000011920928955078125,
          0.000011920928955078125,
          0.000012159347534179688,
          0.000011682510375976562,
          0.000011205673217773438,
          0.000011444091796875,
          0.000011444091796875,
          0.000011920928955078125,
          0.000013113021850585938,
          0.00066375732421875
         ],
         "xaxis": "x",
         "y": [
          "Node 0",
          "Node 1",
          "Node 2",
          "Node 3",
          "Node 4",
          "Node 5",
          "Node 6",
          "Node 7",
          "Node 8",
          "Node 9"
         ],
         "yaxis": "y"
        },
        {
         "alignmentgroup": "True",
         "base": [
          0.06924128532409668,
          0.0692446231842041,
          0.06924748420715332,
          0.06925058364868164,
          0.06925296783447266,
          0.07001018524169922,
          0.07001256942749023,
          0.07001733779907227,
          0.07001972198486328,
          0.07002425193786621
         ],
         "hovertemplate": "Task=Iter 45<br>Start=%{base}<br>Finish=%{x}<br>Resource=%{y}<extra></extra>",
         "legendgroup": "Iter 45",
         "marker": {
          "color": "#19d3f3",
          "pattern": {
           "shape": ""
          }
         },
         "name": "Iter 45",
         "offsetgroup": "Iter 45",
         "orientation": "h",
         "showlegend": true,
         "textposition": "auto",
         "type": "bar",
         "x": [
          0.000011444091796875,
          0.000011444091796875,
          0.000011682510375976562,
          0.000011682510375976562,
          0.000011682510375976562,
          0.000011444091796875,
          0.000011444091796875,
          0.000012159347534179688,
          0.000012159347534179688,
          0.0007839202880859375
         ],
         "xaxis": "x",
         "y": [
          "Node 0",
          "Node 1",
          "Node 2",
          "Node 3",
          "Node 4",
          "Node 5",
          "Node 6",
          "Node 7",
          "Node 8",
          "Node 9"
         ],
         "yaxis": "y"
        },
        {
         "alignmentgroup": "True",
         "base": [
          0.07084321975708008,
          0.0708467960357666,
          0.07084822654724121,
          0.07085132598876953,
          0.07085347175598145,
          0.07161188125610352,
          0.07161402702331543,
          0.07161879539489746,
          0.07162046432495117,
          0.07163238525390625
         ],
         "hovertemplate": "Task=Iter 46<br>Start=%{base}<br>Finish=%{x}<br>Resource=%{y}<extra></extra>",
         "legendgroup": "Iter 46",
         "marker": {
          "color": "#FF6692",
          "pattern": {
           "shape": ""
          }
         },
         "name": "Iter 46",
         "offsetgroup": "Iter 46",
         "orientation": "h",
         "showlegend": true,
         "textposition": "auto",
         "type": "bar",
         "x": [
          0.000011920928955078125,
          0.000012159347534179688,
          0.000011682510375976562,
          0.00001239776611328125,
          0.000011682510375976562,
          0.000011205673217773438,
          0.000012159347534179688,
          0.000011682510375976562,
          0.00001239776611328125,
          0.0007150173187255859
         ],
         "xaxis": "x",
         "y": [
          "Node 0",
          "Node 1",
          "Node 2",
          "Node 3",
          "Node 4",
          "Node 5",
          "Node 6",
          "Node 7",
          "Node 8",
          "Node 9"
         ],
         "yaxis": "y"
        },
        {
         "alignmentgroup": "True",
         "base": [
          0.07238578796386719,
          0.07238912582397461,
          0.07239174842834473,
          0.07239508628845215,
          0.07239866256713867,
          0.07315349578857422,
          0.07315659523010254,
          0.07316017150878906,
          0.07316398620605469,
          0.0731666088104248
         ],
         "hovertemplate": "Task=Iter 47<br>Start=%{base}<br>Finish=%{x}<br>Resource=%{y}<extra></extra>",
         "legendgroup": "Iter 47",
         "marker": {
          "color": "#B6E880",
          "pattern": {
           "shape": ""
          }
         },
         "name": "Iter 47",
         "offsetgroup": "Iter 47",
         "orientation": "h",
         "showlegend": true,
         "textposition": "auto",
         "type": "bar",
         "x": [
          0.000011682510375976562,
          0.000011682510375976562,
          0.000011920928955078125,
          0.000012159347534179688,
          0.000011682510375976562,
          0.000011205673217773438,
          0.000011682510375976562,
          0.000011682510375976562,
          0.000012874603271484375,
          0.0006725788116455078
         ],
         "xaxis": "x",
         "y": [
          "Node 0",
          "Node 1",
          "Node 2",
          "Node 3",
          "Node 4",
          "Node 5",
          "Node 6",
          "Node 7",
          "Node 8",
          "Node 9"
         ],
         "yaxis": "y"
        },
        {
         "alignmentgroup": "True",
         "base": [
          0.07391667366027832,
          0.07392001152038574,
          0.07392287254333496,
          0.07392597198486328,
          0.0739293098449707,
          0.07468533515930176,
          0.07468867301940918,
          0.0746920108795166,
          0.07469439506530762,
          0.07469606399536133
         ],
         "hovertemplate": "Task=Iter 48<br>Start=%{base}<br>Finish=%{x}<br>Resource=%{y}<extra></extra>",
         "legendgroup": "Iter 48",
         "marker": {
          "color": "#FF97FF",
          "pattern": {
           "shape": ""
          }
         },
         "name": "Iter 48",
         "offsetgroup": "Iter 48",
         "orientation": "h",
         "showlegend": true,
         "textposition": "auto",
         "type": "bar",
         "x": [
          0.000011682510375976562,
          0.000011444091796875,
          0.000011920928955078125,
          0.000011682510375976562,
          0.000011682510375976562,
          0.000011205673217773438,
          0.000012159347534179688,
          0.000011682510375976562,
          0.000011682510375976562,
          0.0006844997406005859
         ],
         "xaxis": "x",
         "y": [
          "Node 0",
          "Node 1",
          "Node 2",
          "Node 3",
          "Node 4",
          "Node 5",
          "Node 6",
          "Node 7",
          "Node 8",
          "Node 9"
         ],
         "yaxis": "y"
        },
        {
         "alignmentgroup": "True",
         "base": [
          0.07544398307800293,
          0.07544755935668945,
          0.07545781135559082,
          0.0754554271697998,
          0.07545852661132812,
          0.07621145248413086,
          0.07621407508850098,
          0.07621908187866211,
          0.07622027397155762,
          0.07622718811035156
         ],
         "hovertemplate": "Task=Iter 49<br>Start=%{base}<br>Finish=%{x}<br>Resource=%{y}<extra></extra>",
         "legendgroup": "Iter 49",
         "marker": {
          "color": "#FECB52",
          "pattern": {
           "shape": ""
          }
         },
         "name": "Iter 49",
         "offsetgroup": "Iter 49",
         "orientation": "h",
         "showlegend": true,
         "textposition": "auto",
         "type": "bar",
         "x": [
          0.000011444091796875,
          0.000011444091796875,
          0.000012636184692382812,
          0.000012159347534179688,
          0.000012159347534179688,
          0.000011205673217773438,
          0.000011682510375976562,
          0.000011444091796875,
          0.000011920928955078125,
          0.0006856918334960938
         ],
         "xaxis": "x",
         "y": [
          "Node 0",
          "Node 1",
          "Node 2",
          "Node 3",
          "Node 4",
          "Node 5",
          "Node 6",
          "Node 7",
          "Node 8",
          "Node 9"
         ],
         "yaxis": "y"
        },
        {
         "alignmentgroup": "True",
         "base": [
          0.0769808292388916,
          0.07698297500610352,
          0.07698822021484375,
          0.07712340354919434,
          0.07712578773498535,
          0.07786846160888672,
          0.07787179946899414,
          0.07787632942199707,
          0.07787895202636719,
          0.0778813362121582
         ],
         "hovertemplate": "Task=Iter 50<br>Start=%{base}<br>Finish=%{x}<br>Resource=%{y}<extra></extra>",
         "legendgroup": "Iter 50",
         "marker": {
          "color": "#636efa",
          "pattern": {
           "shape": ""
          }
         },
         "name": "Iter 50",
         "offsetgroup": "Iter 50",
         "orientation": "h",
         "showlegend": true,
         "textposition": "auto",
         "type": "bar",
         "x": [
          0.000011920928955078125,
          0.000011682510375976562,
          0.000012636184692382812,
          0.000012636184692382812,
          0.000011444091796875,
          0.000011444091796875,
          0.000011682510375976562,
          0.000011682510375976562,
          0.000011920928955078125,
          0.0006787776947021484
         ],
         "xaxis": "x",
         "y": [
          "Node 0",
          "Node 1",
          "Node 2",
          "Node 3",
          "Node 4",
          "Node 5",
          "Node 6",
          "Node 7",
          "Node 8",
          "Node 9"
         ],
         "yaxis": "y"
        }
       ],
       "layout": {
        "barmode": "overlay",
        "legend": {
         "title": {
          "text": "Task"
         },
         "tracegroupgap": 0
        },
        "margin": {
         "t": 60
        },
        "template": {
         "data": {
          "bar": [
           {
            "error_x": {
             "color": "#2a3f5f"
            },
            "error_y": {
             "color": "#2a3f5f"
            },
            "marker": {
             "line": {
              "color": "#E5ECF6",
              "width": 0.5
             },
             "pattern": {
              "fillmode": "overlay",
              "size": 10,
              "solidity": 0.2
             }
            },
            "type": "bar"
           }
          ],
          "barpolar": [
           {
            "marker": {
             "line": {
              "color": "#E5ECF6",
              "width": 0.5
             },
             "pattern": {
              "fillmode": "overlay",
              "size": 10,
              "solidity": 0.2
             }
            },
            "type": "barpolar"
           }
          ],
          "carpet": [
           {
            "aaxis": {
             "endlinecolor": "#2a3f5f",
             "gridcolor": "white",
             "linecolor": "white",
             "minorgridcolor": "white",
             "startlinecolor": "#2a3f5f"
            },
            "baxis": {
             "endlinecolor": "#2a3f5f",
             "gridcolor": "white",
             "linecolor": "white",
             "minorgridcolor": "white",
             "startlinecolor": "#2a3f5f"
            },
            "type": "carpet"
           }
          ],
          "choropleth": [
           {
            "colorbar": {
             "outlinewidth": 0,
             "ticks": ""
            },
            "type": "choropleth"
           }
          ],
          "contour": [
           {
            "colorbar": {
             "outlinewidth": 0,
             "ticks": ""
            },
            "colorscale": [
             [
              0,
              "#0d0887"
             ],
             [
              0.1111111111111111,
              "#46039f"
             ],
             [
              0.2222222222222222,
              "#7201a8"
             ],
             [
              0.3333333333333333,
              "#9c179e"
             ],
             [
              0.4444444444444444,
              "#bd3786"
             ],
             [
              0.5555555555555556,
              "#d8576b"
             ],
             [
              0.6666666666666666,
              "#ed7953"
             ],
             [
              0.7777777777777778,
              "#fb9f3a"
             ],
             [
              0.8888888888888888,
              "#fdca26"
             ],
             [
              1,
              "#f0f921"
             ]
            ],
            "type": "contour"
           }
          ],
          "contourcarpet": [
           {
            "colorbar": {
             "outlinewidth": 0,
             "ticks": ""
            },
            "type": "contourcarpet"
           }
          ],
          "heatmap": [
           {
            "colorbar": {
             "outlinewidth": 0,
             "ticks": ""
            },
            "colorscale": [
             [
              0,
              "#0d0887"
             ],
             [
              0.1111111111111111,
              "#46039f"
             ],
             [
              0.2222222222222222,
              "#7201a8"
             ],
             [
              0.3333333333333333,
              "#9c179e"
             ],
             [
              0.4444444444444444,
              "#bd3786"
             ],
             [
              0.5555555555555556,
              "#d8576b"
             ],
             [
              0.6666666666666666,
              "#ed7953"
             ],
             [
              0.7777777777777778,
              "#fb9f3a"
             ],
             [
              0.8888888888888888,
              "#fdca26"
             ],
             [
              1,
              "#f0f921"
             ]
            ],
            "type": "heatmap"
           }
          ],
          "heatmapgl": [
           {
            "colorbar": {
             "outlinewidth": 0,
             "ticks": ""
            },
            "colorscale": [
             [
              0,
              "#0d0887"
             ],
             [
              0.1111111111111111,
              "#46039f"
             ],
             [
              0.2222222222222222,
              "#7201a8"
             ],
             [
              0.3333333333333333,
              "#9c179e"
             ],
             [
              0.4444444444444444,
              "#bd3786"
             ],
             [
              0.5555555555555556,
              "#d8576b"
             ],
             [
              0.6666666666666666,
              "#ed7953"
             ],
             [
              0.7777777777777778,
              "#fb9f3a"
             ],
             [
              0.8888888888888888,
              "#fdca26"
             ],
             [
              1,
              "#f0f921"
             ]
            ],
            "type": "heatmapgl"
           }
          ],
          "histogram": [
           {
            "marker": {
             "pattern": {
              "fillmode": "overlay",
              "size": 10,
              "solidity": 0.2
             }
            },
            "type": "histogram"
           }
          ],
          "histogram2d": [
           {
            "colorbar": {
             "outlinewidth": 0,
             "ticks": ""
            },
            "colorscale": [
             [
              0,
              "#0d0887"
             ],
             [
              0.1111111111111111,
              "#46039f"
             ],
             [
              0.2222222222222222,
              "#7201a8"
             ],
             [
              0.3333333333333333,
              "#9c179e"
             ],
             [
              0.4444444444444444,
              "#bd3786"
             ],
             [
              0.5555555555555556,
              "#d8576b"
             ],
             [
              0.6666666666666666,
              "#ed7953"
             ],
             [
              0.7777777777777778,
              "#fb9f3a"
             ],
             [
              0.8888888888888888,
              "#fdca26"
             ],
             [
              1,
              "#f0f921"
             ]
            ],
            "type": "histogram2d"
           }
          ],
          "histogram2dcontour": [
           {
            "colorbar": {
             "outlinewidth": 0,
             "ticks": ""
            },
            "colorscale": [
             [
              0,
              "#0d0887"
             ],
             [
              0.1111111111111111,
              "#46039f"
             ],
             [
              0.2222222222222222,
              "#7201a8"
             ],
             [
              0.3333333333333333,
              "#9c179e"
             ],
             [
              0.4444444444444444,
              "#bd3786"
             ],
             [
              0.5555555555555556,
              "#d8576b"
             ],
             [
              0.6666666666666666,
              "#ed7953"
             ],
             [
              0.7777777777777778,
              "#fb9f3a"
             ],
             [
              0.8888888888888888,
              "#fdca26"
             ],
             [
              1,
              "#f0f921"
             ]
            ],
            "type": "histogram2dcontour"
           }
          ],
          "mesh3d": [
           {
            "colorbar": {
             "outlinewidth": 0,
             "ticks": ""
            },
            "type": "mesh3d"
           }
          ],
          "parcoords": [
           {
            "line": {
             "colorbar": {
              "outlinewidth": 0,
              "ticks": ""
             }
            },
            "type": "parcoords"
           }
          ],
          "pie": [
           {
            "automargin": true,
            "type": "pie"
           }
          ],
          "scatter": [
           {
            "fillpattern": {
             "fillmode": "overlay",
             "size": 10,
             "solidity": 0.2
            },
            "type": "scatter"
           }
          ],
          "scatter3d": [
           {
            "line": {
             "colorbar": {
              "outlinewidth": 0,
              "ticks": ""
             }
            },
            "marker": {
             "colorbar": {
              "outlinewidth": 0,
              "ticks": ""
             }
            },
            "type": "scatter3d"
           }
          ],
          "scattercarpet": [
           {
            "marker": {
             "colorbar": {
              "outlinewidth": 0,
              "ticks": ""
             }
            },
            "type": "scattercarpet"
           }
          ],
          "scattergeo": [
           {
            "marker": {
             "colorbar": {
              "outlinewidth": 0,
              "ticks": ""
             }
            },
            "type": "scattergeo"
           }
          ],
          "scattergl": [
           {
            "marker": {
             "colorbar": {
              "outlinewidth": 0,
              "ticks": ""
             }
            },
            "type": "scattergl"
           }
          ],
          "scattermapbox": [
           {
            "marker": {
             "colorbar": {
              "outlinewidth": 0,
              "ticks": ""
             }
            },
            "type": "scattermapbox"
           }
          ],
          "scatterpolar": [
           {
            "marker": {
             "colorbar": {
              "outlinewidth": 0,
              "ticks": ""
             }
            },
            "type": "scatterpolar"
           }
          ],
          "scatterpolargl": [
           {
            "marker": {
             "colorbar": {
              "outlinewidth": 0,
              "ticks": ""
             }
            },
            "type": "scatterpolargl"
           }
          ],
          "scatterternary": [
           {
            "marker": {
             "colorbar": {
              "outlinewidth": 0,
              "ticks": ""
             }
            },
            "type": "scatterternary"
           }
          ],
          "surface": [
           {
            "colorbar": {
             "outlinewidth": 0,
             "ticks": ""
            },
            "colorscale": [
             [
              0,
              "#0d0887"
             ],
             [
              0.1111111111111111,
              "#46039f"
             ],
             [
              0.2222222222222222,
              "#7201a8"
             ],
             [
              0.3333333333333333,
              "#9c179e"
             ],
             [
              0.4444444444444444,
              "#bd3786"
             ],
             [
              0.5555555555555556,
              "#d8576b"
             ],
             [
              0.6666666666666666,
              "#ed7953"
             ],
             [
              0.7777777777777778,
              "#fb9f3a"
             ],
             [
              0.8888888888888888,
              "#fdca26"
             ],
             [
              1,
              "#f0f921"
             ]
            ],
            "type": "surface"
           }
          ],
          "table": [
           {
            "cells": {
             "fill": {
              "color": "#EBF0F8"
             },
             "line": {
              "color": "white"
             }
            },
            "header": {
             "fill": {
              "color": "#C8D4E3"
             },
             "line": {
              "color": "white"
             }
            },
            "type": "table"
           }
          ]
         },
         "layout": {
          "annotationdefaults": {
           "arrowcolor": "#2a3f5f",
           "arrowhead": 0,
           "arrowwidth": 1
          },
          "autotypenumbers": "strict",
          "coloraxis": {
           "colorbar": {
            "outlinewidth": 0,
            "ticks": ""
           }
          },
          "colorscale": {
           "diverging": [
            [
             0,
             "#8e0152"
            ],
            [
             0.1,
             "#c51b7d"
            ],
            [
             0.2,
             "#de77ae"
            ],
            [
             0.3,
             "#f1b6da"
            ],
            [
             0.4,
             "#fde0ef"
            ],
            [
             0.5,
             "#f7f7f7"
            ],
            [
             0.6,
             "#e6f5d0"
            ],
            [
             0.7,
             "#b8e186"
            ],
            [
             0.8,
             "#7fbc41"
            ],
            [
             0.9,
             "#4d9221"
            ],
            [
             1,
             "#276419"
            ]
           ],
           "sequential": [
            [
             0,
             "#0d0887"
            ],
            [
             0.1111111111111111,
             "#46039f"
            ],
            [
             0.2222222222222222,
             "#7201a8"
            ],
            [
             0.3333333333333333,
             "#9c179e"
            ],
            [
             0.4444444444444444,
             "#bd3786"
            ],
            [
             0.5555555555555556,
             "#d8576b"
            ],
            [
             0.6666666666666666,
             "#ed7953"
            ],
            [
             0.7777777777777778,
             "#fb9f3a"
            ],
            [
             0.8888888888888888,
             "#fdca26"
            ],
            [
             1,
             "#f0f921"
            ]
           ],
           "sequentialminus": [
            [
             0,
             "#0d0887"
            ],
            [
             0.1111111111111111,
             "#46039f"
            ],
            [
             0.2222222222222222,
             "#7201a8"
            ],
            [
             0.3333333333333333,
             "#9c179e"
            ],
            [
             0.4444444444444444,
             "#bd3786"
            ],
            [
             0.5555555555555556,
             "#d8576b"
            ],
            [
             0.6666666666666666,
             "#ed7953"
            ],
            [
             0.7777777777777778,
             "#fb9f3a"
            ],
            [
             0.8888888888888888,
             "#fdca26"
            ],
            [
             1,
             "#f0f921"
            ]
           ]
          },
          "colorway": [
           "#636efa",
           "#EF553B",
           "#00cc96",
           "#ab63fa",
           "#FFA15A",
           "#19d3f3",
           "#FF6692",
           "#B6E880",
           "#FF97FF",
           "#FECB52"
          ],
          "font": {
           "color": "#2a3f5f"
          },
          "geo": {
           "bgcolor": "white",
           "lakecolor": "white",
           "landcolor": "#E5ECF6",
           "showlakes": true,
           "showland": true,
           "subunitcolor": "white"
          },
          "hoverlabel": {
           "align": "left"
          },
          "hovermode": "closest",
          "mapbox": {
           "style": "light"
          },
          "paper_bgcolor": "white",
          "plot_bgcolor": "#E5ECF6",
          "polar": {
           "angularaxis": {
            "gridcolor": "white",
            "linecolor": "white",
            "ticks": ""
           },
           "bgcolor": "#E5ECF6",
           "radialaxis": {
            "gridcolor": "white",
            "linecolor": "white",
            "ticks": ""
           }
          },
          "scene": {
           "xaxis": {
            "backgroundcolor": "#E5ECF6",
            "gridcolor": "white",
            "gridwidth": 2,
            "linecolor": "white",
            "showbackground": true,
            "ticks": "",
            "zerolinecolor": "white"
           },
           "yaxis": {
            "backgroundcolor": "#E5ECF6",
            "gridcolor": "white",
            "gridwidth": 2,
            "linecolor": "white",
            "showbackground": true,
            "ticks": "",
            "zerolinecolor": "white"
           },
           "zaxis": {
            "backgroundcolor": "#E5ECF6",
            "gridcolor": "white",
            "gridwidth": 2,
            "linecolor": "white",
            "showbackground": true,
            "ticks": "",
            "zerolinecolor": "white"
           }
          },
          "shapedefaults": {
           "line": {
            "color": "#2a3f5f"
           }
          },
          "ternary": {
           "aaxis": {
            "gridcolor": "white",
            "linecolor": "white",
            "ticks": ""
           },
           "baxis": {
            "gridcolor": "white",
            "linecolor": "white",
            "ticks": ""
           },
           "bgcolor": "#E5ECF6",
           "caxis": {
            "gridcolor": "white",
            "linecolor": "white",
            "ticks": ""
           }
          },
          "title": {
           "x": 0.05
          },
          "xaxis": {
           "automargin": true,
           "gridcolor": "white",
           "linecolor": "white",
           "ticks": "",
           "title": {
            "standoff": 15
           },
           "zerolinecolor": "white",
           "zerolinewidth": 2
          },
          "yaxis": {
           "automargin": true,
           "gridcolor": "white",
           "linecolor": "white",
           "ticks": "",
           "title": {
            "standoff": 15
           },
           "zerolinecolor": "white",
           "zerolinewidth": 2
          }
         }
        },
        "title": {
         "text": "Parallel WTA Block"
        },
        "xaxis": {
         "anchor": "y",
         "domain": [
          0,
          1
         ],
         "type": "linear"
        },
        "yaxis": {
         "anchor": "x",
         "autorange": "reversed",
         "domain": [
          0,
          1
         ],
         "title": {
          "text": "Resource"
         }
        }
       }
      }
     },
     "metadata": {},
     "output_type": "display_data"
    }
   ],
   "source": [
    "# Block\n",
    "fig = getDataGantt(logs[2], \"Parallel WTA Block\")\n",
    "fig.show()\n"
   ]
  },
  {
   "cell_type": "code",
   "execution_count": 12,
   "metadata": {},
   "outputs": [
    {
     "data": {
      "image/png": "[encoded data removed]",
      "text/plain": [
       "<Figure size 640x480 with 1 Axes>"
      ]
     },
     "metadata": {},
     "output_type": "display_data"
    }
   ],
   "source": [
    "# Plot the value entry in last log for each of the three methods\n",
    "# Against the time delta \n",
    "# Get the last value of each log\n",
    "ref=8.629\n",
    "values = []\n",
    "time_deltas = []\n",
    "for log in logs:\n",
    "    start = log[0][0]['start']\n",
    "    values.append([np.log10(e['value']-ref) for e in log[0]])\n",
    "    time_deltas.append([e['end']-start for e in log[0]])\n"
   ]
  },
  {
   "cell_type": "code",
   "execution_count": 13,
   "metadata": {},
   "outputs": [
    {
     "data": {
      "image/png": "[encoded data removed]",
      "text/plain": [
       "<Figure size 640x480 with 1 Axes>"
      ]
     },
     "metadata": {},
     "output_type": "display_data"
    }
   ],
   "source": [
    "\n",
    "plt.plot(time_deltas[0], values[0], label='Full')\n",
    "plt.plot(time_deltas[1], values[1], label='MT')\n",
    "plt.plot(time_deltas[2], values[2], label='Block')\n",
    "#plt.axhline(y=ref, color='red', linestyle='dashed')\n",
    "plt.xlabel('Time')\n",
    "plt.ylabel('Log10(Value - Ref)')\n",
    "\n",
    "# Only display x-axis less than 0.2\n",
    "plt.xlim(0, 0.5)\n",
    "plt.title('Delta from Optimal vs Time')\n",
    "plt.legend()\n",
    "\n",
    "plt.show()"
   ]
  },
  {
   "cell_type": "code",
   "execution_count": null,
   "metadata": {},
   "outputs": [],
   "source": []
  }
 ],
 "metadata": {
  "kernelspec": {
   "display_name": "base",
   "language": "python",
   "name": "python3"
  },
  "language_info": {
   "codemirror_mode": {
    "name": "ipython",
    "version": 3
   },
   "file_extension": ".py",
   "mimetype": "text/x-python",
   "name": "python",
   "nbconvert_exporter": "python",
   "pygments_lexer": "ipython3",
   "version": "3.11.4"
  }
 },
 "nbformat": 4,
 "nbformat_minor": 2
}
